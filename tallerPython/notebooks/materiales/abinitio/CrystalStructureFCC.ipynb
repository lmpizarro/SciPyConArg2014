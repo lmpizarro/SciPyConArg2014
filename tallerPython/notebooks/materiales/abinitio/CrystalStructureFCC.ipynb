{
 "metadata": {
  "name": "",
  "signature": "sha256:aed949610f415548768c5ee1f1b0f77ab814cb3c74b5993358f644eeb4c0c3ae"
 },
 "nbformat": 3,
 "nbformat_minor": 0,
 "worksheets": [
  {
   "cells": [
    {
     "cell_type": "markdown",
     "metadata": {},
     "source": [
      "## Referencias\n",
      "#### espresso fcc [link](http://media.quantum-espresso.org/santa_barbara_2009_07/slides-exercices/Ucsb_sn_lec1.pdf)\n",
      "####  [link](http://www.chemistry2011.org/ResourceFiles/lab3_handout.pdf)\n",
      "\n",
      "http://www.vlab.msi.umn.edu/events/download/tutorial_wyckoff.pdf\n",
      "\n",
      "ase atomistic face centered http://kitchingroup.cheme.cmu.edu/dft-book/dft.pdf\n",
      "\n",
      "Pysic (Pythonic simulation code) http://thynnine.github.io/pysic/index.html\n",
      "\n",
      "http://www.cms.tuwien.ac.at/media/pdf/phd-thesis/Robin_Hirschl_II.pdf\n",
      "\n",
      "http://etheses.bham.ac.uk/4265/1/Ismail13PhD.pdf"
     ]
    },
    {
     "cell_type": "code",
     "collapsed": false,
     "input": [
      "# Import the basic libraries\n",
      "\n",
      "# ASE system\n",
      "import ase\n",
      "from ase import Atom, Atoms\n",
      "from ase import io\n",
      "from ase.lattice.spacegroup import crystal\n",
      "\n",
      "# Spacegroup/symmetry library\n",
      "from pyspglib import spglib\n",
      "\n",
      "# The qe-util package\n",
      "from qeutil import QuantumEspresso\n",
      "\n",
      "# iPython utility function\n",
      "from IPython.core.display import Image\n"
     ],
     "language": "python",
     "metadata": {},
     "outputs": [
      {
       "output_type": "stream",
       "stream": "stdout",
       "text": [
        "\n"
       ]
      }
     ],
     "prompt_number": 10
    },
    {
     "cell_type": "code",
     "collapsed": false,
     "input": [
      "# Configure qe-util for local execution of the Quantum Espresso on four processors\n",
      "QuantumEspresso.pw_cmd='mpiexec -n 2 pw.x < pw.in > pw.out'"
     ],
     "language": "python",
     "metadata": {},
     "outputs": [],
     "prompt_number": 11
    },
    {
     "cell_type": "code",
     "collapsed": false,
     "input": [
      "from ase import *\n",
      "from math import *\n",
      " \n",
      "#------------------------------------------------------------------\n",
      "# Al bulk packed in the (111) direction (redefine lattice vectors)\n",
      "from ase.lattice.cubic import FaceCenteredCubic\n",
      "Al111 = FaceCenteredCubic(directions=[[1,-1,0], [1,1,-2], [1,1,1]],\n",
      "            size=(1,1,1), \n",
      "            symbol='Si', \n",
      "            pbc=(1,1,1), \n",
      "            latticeconstant=4.05)\n",
      "\n",
      "\n",
      "a = 4\n",
      "Al111 = crystal(('Si', 'C'),\n",
      "                       basis=[(0.0,0.0,0.0), (0.0, 0.5, 0.5)],\n",
      "                       spacegroup=229, \n",
      "                       cellpar=[a, a, a, 90, 90, 90])\n",
      "\n",
      "# Find a primitive cell of the structure\n",
      "puc=spglib.find_primitive(Al111)\n",
      "# Parameters of the unit cell\n",
      "print 'Primitive unit cell (Angstrom, carthesian coordinates):\\n', puc[0]\n",
      "print '\\nAtomic positions (fractional, crystalographic):\\n', puc[1]\n",
      "\n"
     ],
     "language": "python",
     "metadata": {},
     "outputs": [
      {
       "output_type": "stream",
       "stream": "stdout",
       "text": [
        "Primitive unit cell (Angstrom, carthesian coordinates):\n",
        "[[-2.  2. -2.]\n",
        " [ 2.  2.  2.]\n",
        " [ 2. -2. -2.]]\n",
        "\n",
        "Atomic positions (fractional, crystalographic):\n",
        "[[  0.00000000e+00  -5.55111512e-17   0.00000000e+00]\n",
        " [  0.00000000e+00   5.00000000e-01   5.00000000e-01]\n",
        " [ -5.00000000e-01   5.00000000e-01   1.53080850e-17]\n",
        " [  5.00000000e-01   5.83717456e-17   5.00000000e-01]]\n"
       ]
      }
     ],
     "prompt_number": 136
    },
    {
     "cell_type": "code",
     "collapsed": false,
     "input": [
      "# Write the image to disk file\n",
      "ase.io.write('crystal.png',       # The file where the picture get stored\n",
      "             Al111,               # The object holding the crystal definition\n",
      "             format='png',        # Format of the file\n",
      "             show_unit_cell=2,    # Draw the unit cell boundaries\n",
      "             rotation='115y,15x', # Rotate the scene by 115deg around Y axis and 15deg around X axis\n",
      "             scale=30)            # Scale of the picture\n",
      "\n",
      "# Display the image\n",
      "ase.io.write('Atoms.cif', Al111, format='cif')\n",
      "\n",
      "Image(filename='crystal.png')\n"
     ],
     "language": "python",
     "metadata": {},
     "outputs": [
      {
       "metadata": {},
       "output_type": "pyout",
       "png": "[encoded data removed]",
       "prompt_number": 137,
       "text": [
        "<IPython.core.display.Image at 0x7f01da4a21d0>"
       ]
      }
     ],
     "prompt_number": 137
    },
    {
     "cell_type": "code",
     "collapsed": false,
     "input": [
      "print 'Space group:', spglib.get_spacegroup(Al111)"
     ],
     "language": "python",
     "metadata": {},
     "outputs": [
      {
       "output_type": "stream",
       "stream": "stdout",
       "text": [
        "Space group: Im-3m (229)\n"
       ]
      }
     ],
     "prompt_number": 138
    },
    {
     "cell_type": "code",
     "collapsed": false,
     "input": [
      "# Create a Quantum Espresso calculator for our work. \n",
      "# This object encapsulates all parameters of the calculation, \n",
      "# not the system we are investigating.\n",
      "qe=QuantumEspresso(label='CuSn',                    # Label for calculations\n",
      "                       wdir='calcs',                # Working directory\n",
      "                       pseudo_dir='../../pseudo/',   # Directory with pseudopotentials\n",
      "                       kpts=[8,8,8],               # K-space sampling for the SCF calculation\n",
      "                       xc='pz',                    # Exchange functional type in the name of the pseudopotentials\n",
      "                       pp_type='vbc',              # Variant of the pseudopotential\n",
      "                       pp_format='UPF',            # Format of the pseudopotential files\n",
      "                       nbnd=45,\n",
      "                       ecutwfc=70,                 # Energy cut-off (in Rydberg)\n",
      "                  \n",
      "                       use_symmetry=True)          # Use symmetry in the calculation ?\n",
      "\n",
      "# Check where the calculation files will reside.\n",
      "print qe.directory"
     ],
     "language": "python",
     "metadata": {},
     "outputs": [
      {
       "output_type": "stream",
       "stream": "stdout",
       "text": [
        " calcs/CuSn._O8QRI\n"
       ]
      }
     ],
     "prompt_number": 148
    },
    {
     "cell_type": "code",
     "collapsed": false,
     "input": [
      "# Assign the calculator to our system\n",
      "Al111.set_calculator(qe)\n"
     ],
     "language": "python",
     "metadata": {},
     "outputs": [],
     "prompt_number": 149
    },
    {
     "cell_type": "code",
     "collapsed": false,
     "input": [
      "# Run the calculation to get stress tensor (Voigt notation, in eV/A^3) and pressure (in kBar)\n",
      "print \"Stress tensor   (Voigt notation eV/A^3):\", Al111.get_stress()"
     ],
     "language": "python",
     "metadata": {},
     "outputs": [
      {
       "output_type": "stream",
       "stream": "stdout",
       "text": [
        "Stress tensor   (Voigt notation eV/A^3): "
       ]
      },
      {
       "output_type": "stream",
       "stream": "stdout",
       "text": [
        "[ 0.12693351  0.12693351  0.12693351 -0.         -0.         -0.        ]\n"
       ]
      }
     ],
     "prompt_number": 150
    },
    {
     "cell_type": "code",
     "collapsed": false,
     "input": [
      "print \"External pressure                (kBar):\", Al111.get_isotropic_pressure(Al111.get_stress())*1e-3"
     ],
     "language": "python",
     "metadata": {},
     "outputs": [
      {
       "output_type": "stream",
       "stream": "stdout",
       "text": [
        "External pressure                (kBar): "
       ]
      },
      {
       "output_type": "stream",
       "stream": "stdout",
       "text": [
        "-203.37\n"
       ]
      }
     ],
     "prompt_number": 151
    },
    {
     "cell_type": "code",
     "collapsed": false,
     "input": [],
     "language": "python",
     "metadata": {},
     "outputs": []
    }
   ],
   "metadata": {}
  }
 ]
}