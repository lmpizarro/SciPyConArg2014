{
 "cells": [
  {
   "cell_type": "code",
   "execution_count": 2,
   "metadata": {
    "collapsed": true
   },
   "outputs": [],
   "source": [
    "import numpy as np\n",
    "import matplotlib.pyplot as plt\n",
    "\n",
    "\n",
    "%matplotlib inline"
   ]
  },
  {
   "cell_type": "code",
   "execution_count": 3,
   "metadata": {
    "collapsed": false
   },
   "outputs": [
    {
     "data": {
      "image/png": "[encoded data removed]",
      "text/plain": [
       "<matplotlib.figure.Figure at 0xaf47656c>"
      ]
     },
     "metadata": {},
     "output_type": "display_data"
    }
   ],
   "source": [
    "'''\n",
    "Módulo proc_images.py\n",
    "\n",
    "''' \n",
    "\n",
    "def init (h, w, random=True):\n",
    "    if random is True:\n",
    "        return np.random.randint(0, 255, size = h * w).reshape(h, w)\n",
    "    else:\n",
    "        return np.zeros(h * w).reshape(h, w)\n",
    "\n",
    "def show_im(img):\n",
    "    plt.gray()\n",
    "    plt.imshow(img)\n",
    "    \n",
    "def draw_vertical_bar(img, pos, ancho, intens):\n",
    "    img[0:img.shape[0], pos:pos + ancho] = intens\n",
    "\n",
    "def draw_horizontal_bar(img, pos, ancho, intens):\n",
    "    img[pos:pos+ancho, 0:img.shape[1] ] = intens\n",
    "    \n",
    "def draw_rectangle (img, x0, y0, x1, y1, intens):\n",
    "    img[y0:y1, x0:x1 ] = intens\n",
    " \n",
    "# Tarea 1    \n",
    "def draw_horizontal_gradient(img, cant_barras, nivel_inicial, nivel_final):\n",
    "    pass\n",
    "\n",
    "#Tarea 2\n",
    "def draw_vertical_gradient(img, cant_barras, nivel_inicial, nivel_final):\n",
    "    pass\n",
    "\n",
    "def sum(img1, img2):\n",
    "    if img1.shape != img2.shape:\n",
    "        return img1\n",
    "    img3 =  img1 + img2\n",
    "    img3.clip(0,255)\n",
    "    return img3\n",
    "\n",
    "def borders(im):\n",
    "    h = im.shape[0]\n",
    "    w = im.shape[1]\n",
    "    b = np.zeros((h + 1) * (w + 1)).reshape(h + 1, w + 1)\n",
    "    c = np.zeros((h + 1) * (w + 1)).reshape(h + 1, w + 1)\n",
    "    b[1:,1:] = im\n",
    "    c[:-1,:-1] = im\n",
    "    im1  = (b - c)[:-1,:-1].clip(0,255)\n",
    "    im0  = (c - b)[:-1,:-1].clip(0,255)\n",
    "    return (im1 + im0).clip(0,255)\n",
    "\n",
    "def simple_blur(im):\n",
    "    h = im.shape[0]\n",
    "    w = im.shape[1]\n",
    "    b = np.zeros((h + 1) * (w + 1)).reshape(h + 1, w + 1)\n",
    "    c = np.zeros((h + 1) * (w + 1)).reshape(h + 1, w + 1)\n",
    "    b[1:,1:] = im\n",
    "    c[:-1,:-1] = im\n",
    "    im1  = .5 * (b + c)[:-1,:-1].clip(0,255)\n",
    "    im0  = .5 * (c + b)[:-1,:-1].clip(0,255)\n",
    "    return (im1 + im0).clip(0,255)\n",
    "        \n",
    "if __name__ == \"__main__\":\n",
    "    (h, w) = (72, 128)\n",
    "    img = init (h, w, random=False)\n",
    "    img2 = init (h, w, random=False)\n",
    "    draw_vertical_bar(img, 50, 20, 100)\n",
    "    draw_horizontal_bar(img, 25, 10, 100)\n",
    "    draw_rectangle(img2, 0,0, 20, 10, 120)\n",
    "    img = sum(img, img2)\n",
    "    show_im(img)"
   ]
  },
  {
   "cell_type": "code",
   "execution_count": 4,
   "metadata": {
    "collapsed": false
   },
   "outputs": [
    {
     "data": {
      "image/png": "[encoded data removed]",
      "text/plain": [
       "<matplotlib.figure.Figure at 0xaf4ebb2c>"
      ]
     },
     "metadata": {},
     "output_type": "display_data"
    }
   ],
   "source": [
    "#img = img + 0.5 * (img - simple_blur(img)).clip(0,255)\n",
    "img = simple_blur(img)\n",
    "show_im(img)"
   ]
  },
  {
   "cell_type": "markdown",
   "metadata": {},
   "source": [
    "## Esto es un paso a paso de como hacer el método borders \n",
    "\n",
    "How to add an extra column to an numpy array [link](http://stackoverflow.com/questions/8486294/how-to-add-an-extra-column-to-an-numpy-array)"
   ]
  },
  {
   "cell_type": "code",
   "execution_count": 32,
   "metadata": {
    "collapsed": false
   },
   "outputs": [
    {
     "name": "stdout",
     "output_type": "stream",
     "text": [
      "(73, 129)\n",
      "120.0 -120.0\n"
     ]
    },
    {
     "data": {
      "image/png": "[encoded data removed]",
      "text/plain": [
       "<matplotlib.figure.Figure at 0xaf36e26c>"
      ]
     },
     "metadata": {},
     "output_type": "display_data"
    }
   ],
   "source": [
    "img3.shape\n",
    "b = np.zeros((img3.shape[0] + 1) * (img3.shape[1] + 1)).reshape(img3.shape[0] + 1, img3.shape[1] + 1)\n",
    "c = np.zeros((img3.shape[0] + 1) * (img3.shape[1] + 1)).reshape(img3.shape[0] + 1, img3.shape[1] + 1)\n",
    "b[1:,1:] = img3\n",
    "c[:-1,:-1] = img3\n",
    "img4  = b - c\n",
    "print(img4.shape)\n",
    "show_im(img4[:-1,:-1].clip(0,255))\n",
    "print(img4.max(), img4.min())\n",
    "img5 = c - b \n",
    "show_im(img5[:-1,:-1].clip(0,255)+img4[:-1,:-1].clip(0,255))\n"
   ]
  },
  {
   "cell_type": "markdown",
   "metadata": {},
   "source": [
    "## Ejemplo de cálculo con lo básico"
   ]
  },
  {
   "cell_type": "markdown",
   "metadata": {},
   "source": [
    "### Python in Elecrical Engineering: Computing Symmetrical Components. [link](http://my-other-life-as-programmer.blogspot.com.ar/2011/04/python-in-elecrical-engineering.html)\n",
    "\n",
    "Fasores: vectores rotantes a una velocidad dad por la frecuencia de línea, $V_1$, $V_2$, $V_3$, para cada uno tenemos un módulo y un ángulo de fase.\n",
    "\n",
    "El cálculo de las componentes simétricas, está dado por:\n",
    "\n",
    "$E_0 = (\\frac {1}{3}) (V_1 + V_2 + V_3)$, \n",
    "\n",
    "$E_1 = (\\frac {1}{3}) (V_1 + aV_2 + a^2V_3)$,\n",
    "\n",
    "$E_2 = (\\frac {1}{3}) (V_1 + a^2V_2 + aV_3)$,\n",
    "\n",
    "A es un operador fasor rotado 120°\n",
    "\n",
    "$a = cos( 2\\pi/3) + j sin(2\\pi/3) =  e^{i2\\pi/3}$\n",
    "\n"
   ]
  },
  {
   "cell_type": "code",
   "execution_count": 3,
   "metadata": {
    "collapsed": false
   },
   "outputs": [
    {
     "name": "stdout",
     "output_type": "stream",
     "text": [
      "((3.3333333333333335, 0.0), (3.3333333333333335, 0.0), (3.3333333333333335, 0.0))\n",
      "original phasors= (1.0, 0.0) (1.0, 2.0943951023931957) (1.0, -2.0943951023931957)\n",
      "symmetrical components: (1.4802973661668753e-16, 3.141592653589793) (7.401486830834377e-17, 0.0) (1.0, 0.0)\n",
      "recovered phasors: ((0.9999999999999999, 1.812781560154486e-32), (0.9999999999999999, 2.0943951023931953), (0.9999999999999999, -2.0943951023931953))\n"
     ]
    }
   ],
   "source": [
    "\"\"\"\n",
    "file    symcomp.py\n",
    "author  Ernesto P. Adorio, Ph.D.\n",
    "UPDEPP (U.P. Clarkfield)\n",
    "desc    basic symmetrical components for three phase phasors.\n",
    "Phasors are tuples of the form (r, phi) where r and phi are the\n",
    "magnitude(absolute value) and phi is the phase angle.\n",
    "version 0.0.1 april 20, 2011\n",
    "\"\"\"\n",
    "\n",
    "#from math  import *\n",
    "#from cmath import *\n",
    "\n",
    "import math as mt\n",
    "import cmath as cm\n",
    "\n",
    "zTOL = 1.0e-8\n",
    "DTOR = mt.pi / 180.0\n",
    "RTOD = 180.0 / mt.pi\n",
    "\n",
    "\n",
    "\n",
    "ONETWENTYRAD = 120 * DTOR\n",
    "_a_  = cm.rect(1, 120 * mt.pi/ 180.0)\n",
    "_a2_ = _a_.conjugate()\n",
    "\n",
    "def dtor(degree):\n",
    "    \"\"\"\n",
    "    Converts degree to radians.\n",
    "    \"\"\"\n",
    "    return degree * DTOR\n",
    "\n",
    "def rtod(radian):\n",
    "    \"\"\"\n",
    "    Converts radians to degree.\n",
    "    \"\"\"\n",
    "    return radian * RTOD\n",
    "\n",
    "def  z2pair(z):\n",
    "    \"\"\"\n",
    "    returns z in pair form.\n",
    "    \"\"\" \n",
    "    return (z.real, z.imag)\n",
    "\n",
    "def  pair2z(re, im):\n",
    "    \"\"\"\n",
    "    returns a complex number from the components. \n",
    "    \"\"\"\n",
    "    return re + im*1j\n",
    "\n",
    "def  polar2pair(v):\n",
    "    \"\"\"\n",
    "    (r, phi) to (re, im) pair form.\n",
    "    \"\"\"\n",
    "    # Special checking for zero imaginaries!\n",
    "    # some computations result in an additional 0j\n",
    "    r, phi = v\n",
    "    if type(r) == type(1j):\n",
    "        r =r.real\n",
    "    if type(phi) == type(1j):\n",
    "         phi = phi.real\n",
    "\n",
    "    z = cm.rect(r, phi)\n",
    "    return z.real, z.imag\n",
    "\n",
    "def  pair2polar(re, im):\n",
    "    return polar(pair2z(re,im))\n",
    "\n",
    "def  zround(v):\n",
    "    if abs(v[0]) < zTOL:\n",
    "        return (0.0, 0.0)\n",
    "\n",
    "def  a(v):\n",
    "     \"\"\"\n",
    "     Applies the a operator to a phasor v in polar form.\n",
    "     It adds a 120 degree to the phase of the phasor v.\n",
    "     if v is real, the angle is zero.\n",
    "     \"\"\"\n",
    "     if type(v) != type((0,0)):\n",
    "        v = (v, 0)\n",
    "     r     = abs(v[0])\n",
    "     theta = v[1]\n",
    "\n",
    "     newangle = theta + ONETWENTYRAD\n",
    "     return (r * cos(newangle), r * sin(newangle))\n",
    "\n",
    "def a2(v):\n",
    "     \"\"\"\n",
    "     Applies the a operator to a phasor v in polar form.\n",
    "     It adds a 120 degree to the phase of the phasor v.\n",
    "     \"\"\"\n",
    "     if type(v) != type((0,0)):\n",
    "        v = (v, 0)\n",
    "     r     = abs(v[0])\n",
    "     theta = v[1]\n",
    "\n",
    "     newangle = theta + 2*ONETWENTYRAD\n",
    "     return (r * cos(newangle), r * sin(newangle))\n",
    "\n",
    "\n",
    "def  symcomp(v1, v2, v3):\n",
    "     \"\"\"\n",
    "     Returns the symmetrical components of the three phasors v1, v2, v3\n",
    "     which are in tuple (r, theta) form.\n",
    "     \"\"\"\n",
    "     #Convert first to complex rectangular form.\n",
    "     v1z  = cm.rect(v1[0], v1[1])\n",
    "     v2z  = cm.rect(v2[0], v2[1])\n",
    "     v3z  = cm.rect(v3[0], v3[1]) \n",
    "\n",
    "     av2  = _a_ * v2z\n",
    "     a2v2 = _a2_ * v2z\n",
    "     av3  = _a_* v3z\n",
    "     a2v3 = _a2_* v3z\n",
    "\n",
    "     #Null sequence  component.\n",
    "     E0 = cm.polar((v1z.real+ v2z.real+  v3z.real)/3.0 +  (v1z.imag+ v2z.imag+ v3z.imag)/3.0*1j)\n",
    "\n",
    "     #Positive sequence component.\n",
    "     E1 = cm.polar((v1z.real + av2.real +  a2v3.real)/3.0+ (v1z.imag+ av2.imag+ a2v3.imag)/3.0*1j)\n",
    "\n",
    "     #Negative sequence component.\n",
    "     E2 = cm.polar((v1z.real + a2v2.real +  av3.real)/3.0+ (v1z.imag+ a2v2.imag+ av3.imag)/3.0*1j)\n",
    "\n",
    "     return (E0, E1, E2)\n",
    "\n",
    "\n",
    "def  symcompz(v1, v2, v3):\n",
    "     \"\"\"\n",
    "     Returns the symmetrical components of the three phasors v1, v2, v3\n",
    "     which are in tuple (r, theta) form.\n",
    "     \"\"\"\n",
    "     av2  = _a_ * v2\n",
    "     a2v2 = _a2_ * v2\n",
    "     av3  = _a_* v3\n",
    "     a2v3 = _a2_* v3\n",
    "\n",
    "     #Null sequence  component.\n",
    "     E0 = polar((v1.real+ v2.real+  v3.real)/3.0 +  (v1.imag+ v2.imag+ v3.imag)/3.0*1j)\n",
    "\n",
    "     #Positive sequence component.\n",
    "     E1 = polar((v1.real + av2.real +  a2v3.real)/3.0+ (v1.imag+ av2.imag+ a2v3.imag)/3.0*1j)\n",
    "\n",
    "     #Negative sequence component.\n",
    "     E2 = polar((v1.real + a2v2.real +  av3.real)/3.0+ (v1.imag+ a2v2.imag+ av3.imag)/3.0*1j)\n",
    "\n",
    "     return (E0, E1, E2)\n",
    "\n",
    "def  symcomp2phasors(E0, E1, E2):\n",
    "     \"\"\"\n",
    "     Recreates the phasors form the symmetrical components.\n",
    "     \"\"\"\n",
    "     V1 = cm.polar(cm.rect(E0[0], E0[1]) + cm.rect(E1[0], E1[1]) + cm.rect(E2[0], E2[1]))\n",
    "     V2 = cm.polar(cm.rect(E0[0], E0[1]) + _a2_* cm.rect(E1[0], E1[1]) + _a_ *cm.rect(E2[0], E2[1]))\n",
    "     V3 = cm.polar(cm.rect(E0[0], E0[1]) + _a_* cm.rect(E1[0], E1[1]) + _a2_ * cm.rect(E2[0], E2[1]))\n",
    "     return V1, V2, V3\n",
    "\n",
    "\n",
    "if __name__ == \"__main__\":\n",
    "   #extreme cases.\n",
    "   I1 = cm.polar(10)\n",
    "   I2 = cm.polar(0)\n",
    "   I3 = cm.polar(0)\n",
    "   print (symcomp(I1, I2, I3))\n",
    "  \n",
    "  \n",
    "\n",
    "   #extreme cases, balanced system.\n",
    "   i1 = 1\n",
    "   i2 = -0.5 + mt.sqrt(3)/2.0 * 1j\n",
    "   i3 = -0.5 - mt.sqrt(3)/2.0 * 1j\n",
    "\n",
    "   I1 = cm.polar(i1) \n",
    "   I2 = cm.polar(i2)\n",
    "   I3 = cm.polar(i3)\n",
    "   E0, E1, E2 = symcomp(I1, I2, I3)   \n",
    "   print (\"original phasors=\", I1, I2, I3)\n",
    "   print (\"symmetrical components:\", E0, E1, E2)\n",
    "   phasors = symcomp2phasors(E0, E1, E2)\n",
    "   print (\"recovered phasors:\", phasors)\n",
    "   #include more here! from published books or other sources.\n"
   ]
  },
  {
   "cell_type": "markdown",
   "metadata": {},
   "source": [
    "### Creamos un módulo symmcomponent.py \n",
    "\n",
    "Donde ponemos todas las funciones que sirven para operar sobre fasores"
   ]
  },
  {
   "cell_type": "code",
   "execution_count": 3,
   "metadata": {
    "collapsed": false
   },
   "outputs": [
    {
     "name": "stdout",
     "output_type": "stream",
     "text": [
      "((3.3333333333333335, 0.0), (3.3333333333333335, 0.0), (3.3333333333333335, 0.0))\n",
      "original phasors= (1.0, 0.0) (1.0, 2.0943951023931957) (1.0, -2.0943951023931957)\n",
      "symmetrical components: (1.4802973661668753e-16, 3.141592653589793) (7.401486830834377e-17, 0.0) (1.0, 0.0)\n",
      "recovered phasors: ((0.9999999999999999, 1.812781560154486e-32), (0.9999999999999999, 2.0943951023931953), (0.9999999999999999, -2.0943951023931953))\n"
     ]
    }
   ],
   "source": [
    "import symmcomponent as sc\n",
    "import math as mt\n",
    "import cmath as cm\n",
    "\n",
    "\n",
    "if __name__ == \"__main__\":\n",
    "   #extreme cases.\n",
    "   I1 = cm.polar(10)\n",
    "   I2 = cm.polar(0)\n",
    "   I3 = cm.polar(0)\n",
    "   print (sc.symcomp(I1, I2, I3))\n",
    "  \n",
    "  \n",
    "\n",
    "   #extreme cases, balanced system.\n",
    "   i1 = 1\n",
    "   i2 = -0.5 + mt.sqrt(3)/2.0 * 1j\n",
    "   i3 = -0.5 - mt.sqrt(3)/2.0 * 1j\n",
    "\n",
    "   I1 = cm.polar(i1) \n",
    "   I2 = cm.polar(i2)\n",
    "   I3 = cm.polar(i3)\n",
    "   E0, E1, E2 = sc.symcomp(I1, I2, I3)   \n",
    "   print (\"original phasors=\", I1, I2, I3)\n",
    "   print (\"symmetrical components:\", E0, E1, E2)\n",
    "   phasors = sc.symcomp2phasors(E0, E1, E2)\n",
    "   print (\"recovered phasors:\", phasors)"
   ]
  }
 ],
 "metadata": {
  "kernelspec": {
   "display_name": "Python 3",
   "language": "python",
   "name": "python3"
  },
  "language_info": {
   "codemirror_mode": {
    "name": "ipython",
    "version": 3
   },
   "file_extension": ".py",
   "mimetype": "text/x-python",
   "name": "python",
   "nbconvert_exporter": "python",
   "pygments_lexer": "ipython3",
   "version": "3.4.3"
  }
 },
 "nbformat": 4,
 "nbformat_minor": 0
}
