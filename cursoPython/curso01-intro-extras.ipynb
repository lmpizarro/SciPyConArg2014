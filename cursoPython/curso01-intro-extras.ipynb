{
 "metadata": {
  "name": "",
  "signature": "sha256:eb2fbcd4f5c703b88bd8638b8bf7cdc60502dc039c76d2241d67afe1d82ddd34"
 },
 "nbformat": 3,
 "nbformat_minor": 0,
 "worksheets": [
  {
   "cells": [
    {
     "cell_type": "markdown",
     "metadata": {},
     "source": [
      "## Ejemplo de c\u00e1lculo con lo b\u00e1sico"
     ]
    },
    {
     "cell_type": "markdown",
     "metadata": {},
     "source": [
      "### Python in Elecrical Engineering: Computing Symmetrical Components. [link](http://my-other-life-as-programmer.blogspot.com.ar/2011/04/python-in-elecrical-engineering.html)\n",
      "\n",
      "Fasores: vectores rotantes a una velocidad dad por la frecuencia de l\u00ednea, $V_1$, $V_2$, $V_3$, para cada uno tenemos un m\u00f3dulo y un \u00e1ngulo de fase.\n",
      "\n",
      "El c\u00e1lculo de las componentes sim\u00e9tricas, est\u00e1 dado por:\n",
      "\n",
      "$E_0 = (\\frac {1}{3}) (V_1 + V_2 + V_3)$, \n",
      "\n",
      "$E_1 = (\\frac {1}{3}) (V_1 + aV_2 + a^2V_3)$,\n",
      "\n",
      "$E_2 = (\\frac {1}{3}) (V_1 + a^2V_2 + aV_3)$,\n",
      "\n",
      "A es un operador fasor rotado 120\u00b0\n",
      "\n",
      "$a = cos( 2\\pi/3) + j sin(2\\pi/3) =  e^{i2\\pi/3}$\n",
      "\n"
     ]
    },
    {
     "cell_type": "code",
     "collapsed": false,
     "input": [
      "\"\"\"\n",
      "file    symcomp.py\n",
      "author  Ernesto P. Adorio, Ph.D.\n",
      "UPDEPP (U.P. Clarkfield)\n",
      "desc    basic symmetrical components for three phase phasors.\n",
      "Phasors are tuples of the form (r, phi) where r and phi are the\n",
      "magnitude(absolute value) and phi is the phase angle.\n",
      "version 0.0.1 april 20, 2011\n",
      "\"\"\"\n",
      "\n",
      "#from math  import *\n",
      "#from cmath import *\n",
      "\n",
      "import math as mt\n",
      "import cmath as cm\n",
      "\n",
      "zTOL = 1.0e-8\n",
      "DTOR = mt.pi / 180.0\n",
      "RTOD = 180.0 / mt.pi\n",
      "\n",
      "\n",
      "\n",
      "ONETWENTYRAD = 120 * DTOR\n",
      "_a_  = cm.rect(1, 120 * mt.pi/ 180.0)\n",
      "_a2_ = _a_.conjugate()\n",
      "\n",
      "def dtor(degree):\n",
      "    \"\"\"\n",
      "    Converts degree to radians.\n",
      "    \"\"\"\n",
      "    return degree * DTOR\n",
      "\n",
      "def rtod(radian):\n",
      "    \"\"\"\n",
      "    Converts radians to degree.\n",
      "    \"\"\"\n",
      "    return radian * RTOD\n",
      "\n",
      "def  z2pair(z):\n",
      "    \"\"\"\n",
      "    returns z in pair form.\n",
      "    \"\"\" \n",
      "    return (z.real, z.imag)\n",
      "\n",
      "def  pair2z(re, im):\n",
      "    \"\"\"\n",
      "    returns a complex number from the components. \n",
      "    \"\"\"\n",
      "    return re + im*1j\n",
      "\n",
      "def  polar2pair(v):\n",
      "    \"\"\"\n",
      "    (r, phi) to (re, im) pair form.\n",
      "    \"\"\"\n",
      "    # Special checking for zero imaginaries!\n",
      "    # some computations result in an additional 0j\n",
      "    r, phi = v\n",
      "    if type(r) == type(1j):\n",
      "        r =r.real\n",
      "    if type(phi) == type(1j):\n",
      "         phi = phi.real\n",
      "\n",
      "    z = cm.rect(r, phi)\n",
      "    return z.real, z.imag\n",
      "\n",
      "def  pair2polar(re, im):\n",
      "    return polar(pair2z(re,im))\n",
      "\n",
      "def  zround(v):\n",
      "    if abs(v[0]) < zTOL:\n",
      "        return (0.0, 0.0)\n",
      "\n",
      "def  a(v):\n",
      "     \"\"\"\n",
      "     Applies the a operator to a phasor v in polar form.\n",
      "     It adds a 120 degree to the phase of the phasor v.\n",
      "     if v is real, the angle is zero.\n",
      "     \"\"\"\n",
      "     if type(v) != type((0,0)):\n",
      "        v = (v, 0)\n",
      "     r     = abs(v[0])\n",
      "     theta = v[1]\n",
      "\n",
      "     newangle = theta + ONETWENTYRAD\n",
      "     return (r * cos(newangle), r * sin(newangle))\n",
      "\n",
      "def a2(v):\n",
      "     \"\"\"\n",
      "     Applies the a operator to a phasor v in polar form.\n",
      "     It adds a 120 degree to the phase of the phasor v.\n",
      "     \"\"\"\n",
      "     if type(v) != type((0,0)):\n",
      "        v = (v, 0)\n",
      "     r     = abs(v[0])\n",
      "     theta = v[1]\n",
      "\n",
      "     newangle = theta + 2*ONETWENTYRAD\n",
      "     return (r * cos(newangle), r * sin(newangle))\n",
      "\n",
      "\n",
      "def  symcomp(v1, v2, v3):\n",
      "     \"\"\"\n",
      "     Returns the symmetrical components of the three phasors v1, v2, v3\n",
      "     which are in tuple (r, theta) form.\n",
      "     \"\"\"\n",
      "     #Convert first to complex rectangular form.\n",
      "     v1z  = cm.rect(v1[0], v1[1])\n",
      "     v2z  = cm.rect(v2[0], v2[1])\n",
      "     v3z  = cm.rect(v3[0], v3[1]) \n",
      "\n",
      "     av2  = _a_ * v2z\n",
      "     a2v2 = _a2_ * v2z\n",
      "     av3  = _a_* v3z\n",
      "     a2v3 = _a2_* v3z\n",
      "\n",
      "     #Null sequence  component.\n",
      "     E0 = cm.polar((v1z.real+ v2z.real+  v3z.real)/3.0 +  (v1z.imag+ v2z.imag+ v3z.imag)/3.0*1j)\n",
      "\n",
      "     #Positive sequence component.\n",
      "     E1 = cm.polar((v1z.real + av2.real +  a2v3.real)/3.0+ (v1z.imag+ av2.imag+ a2v3.imag)/3.0*1j)\n",
      "\n",
      "     #Negative sequence component.\n",
      "     E2 = cm.polar((v1z.real + a2v2.real +  av3.real)/3.0+ (v1z.imag+ a2v2.imag+ av3.imag)/3.0*1j)\n",
      "\n",
      "     return (E0, E1, E2)\n",
      "\n",
      "\n",
      "def  symcompz(v1, v2, v3):\n",
      "     \"\"\"\n",
      "     Returns the symmetrical components of the three phasors v1, v2, v3\n",
      "     which are in tuple (r, theta) form.\n",
      "     \"\"\"\n",
      "     av2  = _a_ * v2\n",
      "     a2v2 = _a2_ * v2\n",
      "     av3  = _a_* v3\n",
      "     a2v3 = _a2_* v3\n",
      "\n",
      "     #Null sequence  component.\n",
      "     E0 = polar((v1.real+ v2.real+  v3.real)/3.0 +  (v1.imag+ v2.imag+ v3.imag)/3.0*1j)\n",
      "\n",
      "     #Positive sequence component.\n",
      "     E1 = polar((v1.real + av2.real +  a2v3.real)/3.0+ (v1.imag+ av2.imag+ a2v3.imag)/3.0*1j)\n",
      "\n",
      "     #Negative sequence component.\n",
      "     E2 = polar((v1.real + a2v2.real +  av3.real)/3.0+ (v1.imag+ a2v2.imag+ av3.imag)/3.0*1j)\n",
      "\n",
      "     return (E0, E1, E2)\n",
      "\n",
      "def  symcomp2phasors(E0, E1, E2):\n",
      "     \"\"\"\n",
      "     Recreates the phasors form the symmetrical components.\n",
      "     \"\"\"\n",
      "     V1 = cm.polar(cm.rect(E0[0], E0[1]) + cm.rect(E1[0], E1[1]) + cm.rect(E2[0], E2[1]))\n",
      "     V2 = cm.polar(cm.rect(E0[0], E0[1]) + _a2_* cm.rect(E1[0], E1[1]) + _a_ *cm.rect(E2[0], E2[1]))\n",
      "     V3 = cm.polar(cm.rect(E0[0], E0[1]) + _a_* cm.rect(E1[0], E1[1]) + _a2_ * cm.rect(E2[0], E2[1]))\n",
      "     return V1, V2, V3\n",
      "\n",
      "\n",
      "if __name__ == \"__main__\":\n",
      "   #extreme cases.\n",
      "   I1 = cm.polar(10)\n",
      "   I2 = cm.polar(0)\n",
      "   I3 = cm.polar(0)\n",
      "   print (symcomp(I1, I2, I3))\n",
      "  \n",
      "  \n",
      "\n",
      "   #extreme cases, balanced system.\n",
      "   i1 = 1\n",
      "   i2 = -0.5 + mt.sqrt(3)/2.0 * 1j\n",
      "   i3 = -0.5 - mt.sqrt(3)/2.0 * 1j\n",
      "\n",
      "   I1 = cm.polar(i1) \n",
      "   I2 = cm.polar(i2)\n",
      "   I3 = cm.polar(i3)\n",
      "   E0, E1, E2 = symcomp(I1, I2, I3)   \n",
      "   print (\"original phasors=\", I1, I2, I3)\n",
      "   print (\"symmetrical components:\", E0, E1, E2)\n",
      "   phasors = symcomp2phasors(E0, E1, E2)\n",
      "   print (\"recovered phasors:\", phasors)\n",
      "   #include more here! from published books or other sources.\n"
     ],
     "language": "python",
     "metadata": {},
     "outputs": [
      {
       "output_type": "stream",
       "stream": "stdout",
       "text": [
        "((3.3333333333333335, 0.0), (3.3333333333333335, 0.0), (3.3333333333333335, 0.0))\n",
        "original phasors= (1.0, 0.0) (1.0, 2.0943951023931957) (1.0, -2.0943951023931957)\n",
        "symmetrical components: (1.4802973661668753e-16, 3.141592653589793) (7.401486830834377e-17, 0.0) (1.0, 0.0)\n",
        "recovered phasors: ((0.9999999999999999, 1.812781560154486e-32), (0.9999999999999999, 2.0943951023931953), (0.9999999999999999, -2.0943951023931953))\n"
       ]
      }
     ],
     "prompt_number": 3
    },
    {
     "cell_type": "markdown",
     "metadata": {},
     "source": [
      "### Creamos un m\u00f3dulo symmcomponent.py \n",
      "\n",
      "Donde ponemos todas las funciones que sirven para operar sobre fasores"
     ]
    },
    {
     "cell_type": "code",
     "collapsed": false,
     "input": [
      "import symmcomponent as sc\n",
      "import math as mt\n",
      "import cmath as cm\n",
      "\n",
      "\n",
      "if __name__ == \"__main__\":\n",
      "   #extreme cases.\n",
      "   I1 = cm.polar(10)\n",
      "   I2 = cm.polar(0)\n",
      "   I3 = cm.polar(0)\n",
      "   print (sc.symcomp(I1, I2, I3))\n",
      "  \n",
      "  \n",
      "\n",
      "   #extreme cases, balanced system.\n",
      "   i1 = 1\n",
      "   i2 = -0.5 + mt.sqrt(3)/2.0 * 1j\n",
      "   i3 = -0.5 - mt.sqrt(3)/2.0 * 1j\n",
      "\n",
      "   I1 = cm.polar(i1) \n",
      "   I2 = cm.polar(i2)\n",
      "   I3 = cm.polar(i3)\n",
      "   E0, E1, E2 = sc.symcomp(I1, I2, I3)   \n",
      "   print (\"original phasors=\", I1, I2, I3)\n",
      "   print (\"symmetrical components:\", E0, E1, E2)\n",
      "   phasors = sc.symcomp2phasors(E0, E1, E2)\n",
      "   print (\"recovered phasors:\", phasors)"
     ],
     "language": "python",
     "metadata": {},
     "outputs": [
      {
       "output_type": "stream",
       "stream": "stdout",
       "text": [
        "((3.3333333333333335, 0.0), (3.3333333333333335, 0.0), (3.3333333333333335, 0.0))\n",
        "original phasors= (1.0, 0.0) (1.0, 2.0943951023931957) (1.0, -2.0943951023931957)\n",
        "symmetrical components: (1.4802973661668753e-16, 3.141592653589793) (7.401486830834377e-17, 0.0) (1.0, 0.0)\n",
        "recovered phasors: ((0.9999999999999999, 1.812781560154486e-32), (0.9999999999999999, 2.0943951023931953), (0.9999999999999999, -2.0943951023931953))\n"
       ]
      }
     ],
     "prompt_number": 3
    },
    {
     "cell_type": "markdown",
     "metadata": {},
     "source": [
      "## Lista de argumentos *args y **kwargs"
     ]
    },
    {
     "cell_type": "code",
     "collapsed": false,
     "input": [
      "#\n",
      "# *args, lista de argumentos sin clave\n",
      "#\n",
      "def test_var_args(f_arg, *argv):\n",
      "    print (\"first normal arg:\", f_arg)\n",
      "    for arg in argv:\n",
      "        print (\"another arg through *argv :\", arg)\n",
      "\n",
      "test_var_args('yasoob','python','eggs','test')"
     ],
     "language": "python",
     "metadata": {},
     "outputs": [
      {
       "output_type": "stream",
       "stream": "stdout",
       "text": [
        "first normal arg: yasoob\n",
        "another arg through *argv : python\n",
        "another arg through *argv : eggs\n",
        "another arg through *argv : test\n"
       ]
      }
     ],
     "prompt_number": 10
    },
    {
     "cell_type": "code",
     "collapsed": false,
     "input": [
      "#\n",
      "# **kwars, lista de argumentos con clave\n",
      "#\n",
      "\n",
      "def greet_me(**kwargs):\n",
      "    if kwargs is not None:\n",
      "        print (kwargs)\n",
      "        for key, value in kwargs.items():\n",
      "            print (\"%s == %s\" %(key,value))\n",
      "\n",
      "    if 'name' in kwargs.keys():\n",
      "       print ('name: ', kwargs['name'])\n",
      "\n",
      "\n",
      "    if 'age' in kwargs.keys():\n",
      "       print ('age: ', kwargs['age'])\n",
      "\n",
      "\n",
      "greet_me(name=\"yasoob\", age= 45)"
     ],
     "language": "python",
     "metadata": {},
     "outputs": [
      {
       "output_type": "stream",
       "stream": "stdout",
       "text": [
        "{'age': 45, 'name': 'yasoob'}\n",
        "age == 45\n",
        "name == yasoob\n",
        "name:  yasoob\n",
        "age:  45\n"
       ]
      }
     ],
     "prompt_number": 11
    },
    {
     "cell_type": "markdown",
     "metadata": {},
     "source": [
      "## Grabar y Recuperar objetos: serializaci\u00f3n de objetos\n",
      "\n",
      "M\u00e1s informaci\u00f3n [ac\u00e1](https://docs.python.org/2/library/pickle.html)"
     ]
    },
    {
     "cell_type": "code",
     "collapsed": false,
     "input": [
      "import pickle\n",
      "a = [1,2,3,4]\n",
      "b = \"misVariables\"\n",
      "c = 123\n",
      "\n",
      "D = { \"a\": a, \"b\": b}\n",
      "\n",
      "pickfilename = \"./tmp.pck\"\n",
      "\n",
      "with open(pickfilename, 'wb') as f:   \n",
      "    pickle.dump(D, f)\n",
      "\n",
      "with open(pickfilename, 'rb') as f:\n",
      "    myvars = pickle.load(f)\n",
      "\n",
      "print (myvars)"
     ],
     "language": "python",
     "metadata": {},
     "outputs": [
      {
       "output_type": "stream",
       "stream": "stdout",
       "text": [
        "{'a': [1, 2, 3, 4], 'b': 'misVariables'}\n"
       ]
      }
     ],
     "prompt_number": 31
    },
    {
     "cell_type": "markdown",
     "metadata": {},
     "source": [
      "## Bases de datos orientadas a documentos\n",
      "### MongoDB [link](https://www.mongodb.org/)\n",
      "\n",
      "Es una base de datos no relacional con esquemas flexibles en la que no se necesita definir la estructura de datos antes de insertar datos en la base y que soporta m\u00e9todos de busqueda por claves."
     ]
    },
    {
     "cell_type": "code",
     "collapsed": false,
     "input": [
      "#\n",
      "# para insertar datos en la base\n",
      "#\n",
      "misDocumentos.insert(D)\n",
      "\n",
      "#\n",
      "# para recuperar datos de la base\n",
      "#\n",
      "doc = misDocumentos.find_one ()\n",
      "\n",
      "#\n",
      "# query\n",
      "#\n",
      "doc = misDocumentos.find({\"b\": \"misVariables\"})"
     ],
     "language": "python",
     "metadata": {},
     "outputs": []
    },
    {
     "cell_type": "markdown",
     "metadata": {},
     "source": [
      "## Decoradores [link](http://thecodeship.com/patterns/guide-to-python-function-decorators/)"
     ]
    },
    {
     "cell_type": "code",
     "collapsed": false,
     "input": [
      "# Las funciones son objetos\n",
      "\n",
      "def greet1(name):\n",
      "    return \"hello \" + name\n",
      "\n",
      "# asignar funciones a variables\n",
      "greet_someone = greet1\n",
      "print (greet_someone(\"John\"))"
     ],
     "language": "python",
     "metadata": {},
     "outputs": [
      {
       "output_type": "stream",
       "stream": "stdout",
       "text": [
        "hello John\n"
       ]
      }
     ],
     "prompt_number": 1
    },
    {
     "cell_type": "code",
     "collapsed": false,
     "input": [
      "#definir funciones dentro de funciones\n",
      "\n",
      "def greet2(name):\n",
      "    \n",
      "    def get_message():\n",
      "        return \"Hello \"\n",
      "\n",
      "    result = get_message() + name\n",
      "    return result\n",
      "\n",
      "print (greet2(\"John\"))"
     ],
     "language": "python",
     "metadata": {},
     "outputs": [
      {
       "output_type": "stream",
       "stream": "stdout",
       "text": [
        "Hello John\n"
       ]
      }
     ],
     "prompt_number": 2
    },
    {
     "cell_type": "code",
     "collapsed": false,
     "input": [
      "#Las funciones pueden ser pasadas como \n",
      "#par\u00e1metros a otras funciones\n",
      "\n",
      "def greet3(name):\n",
      "   return \"Hello \" + name\n",
      "\n",
      "def call_func(func):\n",
      "    other_name = \"John\"\n",
      "    return func(other_name)\n",
      "\n",
      "print (call_func(greet3))"
     ],
     "language": "python",
     "metadata": {},
     "outputs": [
      {
       "output_type": "stream",
       "stream": "stdout",
       "text": [
        "Hello John\n"
       ]
      }
     ],
     "prompt_number": 3
    },
    {
     "cell_type": "code",
     "collapsed": false,
     "input": [
      "# Las funciones pueden retornar otras funciones\n",
      "\n",
      "def compose_greet_func():\n",
      "    def get_message():\n",
      "        return \"Hello there!\"\n",
      "\n",
      "    return get_message\n",
      "\n",
      "greet = compose_greet_func()\n",
      "# greet es una funci\u00f3n\n",
      "print (greet())"
     ],
     "language": "python",
     "metadata": {},
     "outputs": [
      {
       "output_type": "stream",
       "stream": "stdout",
       "text": [
        "Hello there!\n"
       ]
      }
     ],
     "prompt_number": 4
    },
    {
     "cell_type": "code",
     "collapsed": false,
     "input": [
      "# las funciones internas a las funciones\n",
      "# tienen acceso al alcance interno\n",
      "\n",
      "def compose_greet_func(name):\n",
      "    b = \"***\"\n",
      "    def func1 ():\n",
      "        return b + \" -- \"\n",
      "    def get_message():\n",
      "        a = func1()\n",
      "        return a + \"Hello there \"+name+\"!\"\n",
      "\n",
      "    return get_message\n",
      "\n",
      "greet = compose_greet_func(\"John\")\n",
      "print (greet())"
     ],
     "language": "python",
     "metadata": {},
     "outputs": [
      {
       "output_type": "stream",
       "stream": "stdout",
       "text": [
        "*** -- Hello there John!\n"
       ]
      }
     ],
     "prompt_number": 5
    },
    {
     "cell_type": "markdown",
     "metadata": {},
     "source": [
      "## Decoradores"
     ]
    },
    {
     "cell_type": "code",
     "collapsed": false,
     "input": [
      "#\n",
      "# Decoradores\n",
      "#\n",
      "def get_text(name):\n",
      "   return \"lorem ipsum, {0} dolor sit amet\".format(name)\n",
      "\n",
      "def p_decorate(func):\n",
      "   def func_wrapper(name):\n",
      "       return \"<p>{0}</p>\".format(func(name))\n",
      "   return func_wrapper\n",
      "\n",
      "# Un decorador\n",
      "my_get_text = p_decorate(get_text)\n",
      "\n",
      "print (my_get_text(\"John\"))"
     ],
     "language": "python",
     "metadata": {},
     "outputs": []
    },
    {
     "cell_type": "code",
     "collapsed": false,
     "input": [
      "#\n",
      "#  Sint\u00e1xis para decoradores en python\n",
      "#\n",
      "def p_decorate1(func):\n",
      "   def func_wrapper(name):\n",
      "       return \"<p>{0}</p>\".format(func(name))\n",
      "   return func_wrapper\n",
      "\n",
      "@p_decorate1\n",
      "def get_text2(name):\n",
      "   return \"lorem ipsum, {0} dolor sit amet\".format(name)\n",
      "\n",
      "print (get_text2(\"John\"))"
     ],
     "language": "python",
     "metadata": {},
     "outputs": [
      {
       "output_type": "stream",
       "stream": "stdout",
       "text": [
        "<p>lorem ipsum, John dolor sit amet</p>\n"
       ]
      }
     ],
     "prompt_number": 6
    },
    {
     "cell_type": "code",
     "collapsed": false,
     "input": [
      "#\n",
      "# Ejemplo de aplicar 3 decoradores \n",
      "#\n",
      "\n",
      "def p_decorate2(func):\n",
      "   def func_wrapper(name):\n",
      "       return \"<p>{0}</p>\".format(func(name))\n",
      "   return func_wrapper\n",
      "\n",
      "def strong_decorate(func):\n",
      "    def func_wrapper(name):\n",
      "        return \"<strong>{0}</strong>\".format(func(name))\n",
      "    return func_wrapper\n",
      "\n",
      "def div_decorate(func):\n",
      "    def func_wrapper(name):\n",
      "        return \"<div>{0}</div>\".format(func(name))\n",
      "    return func_wrapper\n",
      "\n",
      "\n",
      "@div_decorate\n",
      "@p_decorate2\n",
      "@strong_decorate\n",
      "def get_text3(name):\n",
      "   return \"lorem ipsum, {0} dolor sit amet\".format(name)\n",
      "\n",
      "print (\"Ejemplo de 3 decoradores\")\n",
      "\n",
      "print (get_text3(\"John\"))"
     ],
     "language": "python",
     "metadata": {},
     "outputs": [
      {
       "output_type": "stream",
       "stream": "stdout",
       "text": [
        "Ejemplo de 3 decoradores\n",
        "<div><p><strong>lorem ipsum, John dolor sit amet</strong></p></div>\n"
       ]
      }
     ],
     "prompt_number": 7
    },
    {
     "cell_type": "code",
     "collapsed": false,
     "input": [
      "#\n",
      "# m\u00e9todos decoradores\n",
      "# en python los m\u00e9todos son funciones en el que primer\n",
      "# par\u00e1metro es una referencia al primer objeto\n",
      "#\n",
      "\n",
      "def p_decorate3(func):\n",
      "   def func_wrapper(self):\n",
      "       return \"<p>{0}</p>\".format(func(self))\n",
      "   return func_wrapper\n",
      "\n",
      "class Person(object):\n",
      "    def __init__(self):\n",
      "        self.name = \"John\"\n",
      "        self.family = \"Doe\"\n",
      "\n",
      "    @p_decorate3\n",
      "    def get_fullname(self):\n",
      "        return self.name+\" \"+self.family\n",
      "\n",
      "print (\"Ejemplo con clase\")\n",
      "\n",
      "my_person = Person()\n",
      "print (my_person.get_fullname())"
     ],
     "language": "python",
     "metadata": {},
     "outputs": [
      {
       "output_type": "stream",
       "stream": "stdout",
       "text": [
        "Ejemplo con clase\n",
        "<p>John Doe</p>\n"
       ]
      }
     ],
     "prompt_number": 8
    },
    {
     "cell_type": "code",
     "collapsed": false,
     "input": [],
     "language": "python",
     "metadata": {},
     "outputs": []
    }
   ],
   "metadata": {}
  }
 ]
}