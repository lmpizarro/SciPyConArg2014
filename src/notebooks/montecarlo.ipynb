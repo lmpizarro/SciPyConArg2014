{
 "metadata": {
  "name": "",
  "signature": "sha256:fdc3545d1abf7f74dc8b5bf134703559b03ee65f496eaef09c399fdbb303be9b"
 },
 "nbformat": 3,
 "nbformat_minor": 0,
 "worksheets": [
  {
   "cells": [
    {
     "cell_type": "code",
     "collapsed": false,
     "input": [
      "import numpy as np\n",
      "from __future__ import division\n",
      "from IPython.display import Math\n",
      "import matplotlib.pyplot as mpl\n",
      "\n",
      "%load_ext cythonmagic\n"
     ],
     "language": "python",
     "metadata": {},
     "outputs": [],
     "prompt_number": 168
    },
    {
     "cell_type": "code",
     "collapsed": false,
     "input": [
      "Math(r'A = \\int_{0}^{1} (1 - x ^ 2) dx')"
     ],
     "language": "python",
     "metadata": {},
     "outputs": [
      {
       "latex": [
        "$$A = \\int_{0}^{1} (1 - x ^ 2) dx$$"
       ],
       "metadata": {},
       "output_type": "pyout",
       "prompt_number": 169,
       "text": [
        "<IPython.core.display.Math at 0x7f680acc5d90>"
       ]
      }
     ],
     "prompt_number": 169
    },
    {
     "cell_type": "code",
     "collapsed": false,
     "input": [
      "# Cantidad de puntos usados en la integraci\u00f3n\n",
      "N=10000\n",
      "\n",
      "# C\u00e1lculo de la soluci\u00f3n anal\u00edtica de la integral \n",
      "A = np.pi/4\n",
      "\n",
      "# Soluci\u00f3n num\u00e9rica regla de Simpson\n",
      "x=np.arange(0,1,1/N)\n",
      "y = np.sqrt(1 - x*x)\n",
      "An = np.sum(y)/N"
     ],
     "language": "python",
     "metadata": {},
     "outputs": [],
     "prompt_number": 170
    },
    {
     "cell_type": "code",
     "collapsed": false,
     "input": [
      "%matplotlib inline\n",
      "# change axis range for x and y\n",
      "mpl.xlim([-0.1,1.5])\n",
      "mpl.ylim([-0.1,1.5])\n",
      "mpl.axes().set_aspect('equal', 'datalim')\n",
      "mpl.plot(x,y, label='f(x)' ); mpl.legend(loc='lower right');\n",
      "mpl.plot([0, 0,1.5], [1.50, 0,0], 'red');\n"
     ],
     "language": "python",
     "metadata": {},
     "outputs": [
      {
       "metadata": {},
       "output_type": "display_data",
       "png": "[encoded data removed]",
       "text": [
        "<matplotlib.figure.Figure at 0x7f6809f31950>"
       ]
      }
     ],
     "prompt_number": 171
    },
    {
     "cell_type": "code",
     "collapsed": false,
     "input": [
      "# Integraci\u00f3n Montecarlo de 1/4 de c\u00edrculo\n",
      "# Generaci\u00f3n de los pares (x,y) aleatorios\n",
      "x,y=(np.random.rand(N),np.random.rand(N))\n",
      "z=x*x+y*y\n",
      "#Enmascara si es m\u00e1s grande que 1\n",
      "z=np.ma.masked_greater(z,1)\n",
      "#Elimina los enmascarados\n",
      "z=z.compressed()\n",
      "#Determina el tama\u00f1o del array resultante\n",
      "Np = z.size\n",
      "# C\u00e1lcula el \u00e1rea\n",
      "Am = Np/N\n",
      "\n",
      "\n",
      "print A, Am, An"
     ],
     "language": "python",
     "metadata": {},
     "outputs": [
      {
       "output_type": "stream",
       "stream": "stdout",
       "text": [
        "0.785398163397 0.7816 0.785447869403\n"
       ]
      }
     ],
     "prompt_number": 172
    },
    {
     "cell_type": "markdown",
     "metadata": {},
     "source": [
      "Enmascarar y Eliminar datos de un array\n",
      "\n",
      "http://stackoverflow.com/questions/5927180/removing-data-from-a-numpy-array"
     ]
    },
    {
     "cell_type": "code",
     "collapsed": false,
     "input": [
      "N = 10000\n",
      "Ss=0.01; Sc = 0.1; S=Ss+Sc; CLM = 1/S;\n",
      "#Espesor de la placa\n",
      "espH = 1;\n",
      "global Npas, Nref, Nabs;"
     ],
     "language": "python",
     "metadata": {},
     "outputs": [],
     "prompt_number": 305
    },
    {
     "cell_type": "code",
     "collapsed": false,
     "input": [
      "def neutron_placa ():\n",
      "    global Npas, Nref, Nabs\n",
      "    k=0; u=1; x=0;gmm  = 1\n",
      "    while (True):\n",
      "        u = 2*gmm -1\n",
      "        lmbd = -1*np.log(gmm)/S\n",
      "        x = (x  + lmbd*u)\n",
      "        if x > espH:\n",
      "            Npas = Npas + 1; break;\n",
      "        else:\n",
      "            if x < 0:\n",
      "                Nref = Nref + 1; break;\n",
      "            else:\n",
      "                if gmm < Sc/S:\n",
      "                    Nabs = Nabs + 1; break\n",
      "                else:\n",
      "                    k = k + 1\n",
      "                    gmm  = np.random.random()\n",
      "                    #u = 2*gmm - 1\n",
      "  \n",
      "global Npas, Nref, Nabs\n",
      "Npas = Nref = Nabs = 0;\n",
      "for j in range (0,N):\n",
      "    neutron_placa ()\n",
      "\n",
      "print Npas/N, Nref/N, Nabs/N, (Npas+ Nref+ Nabs)/N"
     ],
     "language": "python",
     "metadata": {},
     "outputs": [
      {
       "output_type": "stream",
       "stream": "stdout",
       "text": [
        "0.2777 0.5503 0.172 1.0\n"
       ]
      }
     ],
     "prompt_number": 306
    },
    {
     "cell_type": "code",
     "collapsed": false,
     "input": [
      "%%cython\n",
      "\n",
      "cimport cython\n",
      "\n",
      "from libc.stdlib cimport rand, srand\n",
      "from libc.time cimport time, time_t\n",
      "from libc.math cimport  log\n",
      "\n",
      "cdef extern from \"stdlib.h\":\n",
      "  cdef int RAND_MAX\n",
      "\n",
      "@cython.cdivision(True)\n",
      "def init_rand ():    \n",
      "   cdef time_t seconds  \n",
      "   time(&seconds)\n",
      "   srand(<unsigned int>seconds)\n",
      "\n",
      "@cython.cdivision(True)\n",
      "def neutron_placa_c (float Sc, float S, float espH ):\n",
      "    cdef int Npas = 0\n",
      "    cdef int Nref = 0\n",
      "    cdef int Nabs = 0\n",
      "        \n",
      "    cdef int k = 0; \n",
      "    cdef float u=1, x=0, gmm  = 1\n",
      "     \n",
      "    while (True):\n",
      "        u = 2*gmm -1\n",
      "        lmbd = -1*log(gmm)/S\n",
      "        x = (x  + lmbd*u)\n",
      "        if x > espH:\n",
      "            Npas = Npas + 1; break;\n",
      "        else:\n",
      "            if x < 0:\n",
      "                Nref = Nref + 1; break;\n",
      "            else:\n",
      "                if gmm < Sc/S:\n",
      "                    Nabs = Nabs + 1; break\n",
      "                else:\n",
      "                    k = k + 1\n",
      "                    gmm  = <float>rand()/<float>RAND_MAX\n",
      "    return Npas, Nref, Nabs"
     ],
     "language": "python",
     "metadata": {},
     "outputs": [],
     "prompt_number": 307
    },
    {
     "cell_type": "code",
     "collapsed": false,
     "input": [
      "import numpy as np\n",
      "global Npas, Nref, Nabs, np\n",
      "N = 10000\n",
      "Npas = Nref = Nabs = 0;\n",
      "salida = np.zeros((3,N))\n",
      "for j in range (0,N):\n",
      "  (pas, ref, abs ) = neutron_placa_c(Sc, S, espH)\n",
      "  Npas +=pas; Nref += ref; Nabs += abs\n",
      "  salida[(0,j)] = Npas/(j +1.5)\n",
      "  salida[(1,j)] = Nref/(j+1.5)\n",
      "  salida[(2,j)] = Nabs/(j+1.5)\n",
      "maxs =[Npas/N, Nref/N, Nabs/N]\n",
      "print maxs"
     ],
     "language": "python",
     "metadata": {},
     "outputs": [
      {
       "output_type": "stream",
       "stream": "stdout",
       "text": [
        "[0.2777, 0.5526, 0.1697]\n"
       ]
      }
     ],
     "prompt_number": 353
    },
    {
     "cell_type": "code",
     "collapsed": false,
     "input": [
      "mpl.xlim ([0,800])\n",
      "mpl.ylim([0, 1.1*np.max(maxs)])\n",
      "mpl.plot(salida[(0)])\n",
      "mpl.plot(salida[(1)])\n",
      "mpl.plot(salida[(2)]);"
     ],
     "language": "python",
     "metadata": {},
     "outputs": [
      {
       "metadata": {},
       "output_type": "display_data",
       "png": "[encoded data removed]",
       "text": [
        "<matplotlib.figure.Figure at 0x7f6808045390>"
       ]
      }
     ],
     "prompt_number": 356
    },
    {
     "cell_type": "code",
     "collapsed": false,
     "input": [],
     "language": "python",
     "metadata": {},
     "outputs": []
    }
   ],
   "metadata": {}
  }
 ]
}