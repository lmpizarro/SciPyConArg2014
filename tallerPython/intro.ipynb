{
 "cells": [
  {
   "cell_type": "markdown",
   "metadata": {
    "collapsed": false
   },
   "source": [
    "# Aclaración de Compatibilidad\n",
    "\n",
    "Estas notas están hechas con [python 3](https://www.python.org/) y el notebook de [ipython](http://ipython.org/), hoy [jupyter](https://jupyter.org/), en un entorno virtual provisto por [Anaconda](https://store.continuum.io/cshop/anaconda/)\n",
    "\n",
    "Estas notas se bajan de [github](https://github.com/), repositorio [apuntes-python-cientifico](https://github.com/lmpizarro/apuntes-python-cientifico). Bajar el zip y la carpeta que tienen que ver es [cursoPython](https://github.com/lmpizarro/SciPyConArg2014/tree/master/cursoPython)\n",
    "\n",
    "### Bibliografía:\n",
    "\n",
    "\n",
    "* Para python en [IT eBooks](http://it-ebooks.info/search/?q=python&type=title)\n",
    "* Para numpy en [IT eBooks](http://it-ebooks.info/search/?q=numpy&type=title)"
   ]
  },
  {
   "cell_type": "markdown",
   "metadata": {},
   "source": [
    "# Programa\n",
    "\n",
    "* Introducción\n",
    "* Control de Flujo\n",
    "   * if/else/elif\n",
    "   * while\n",
    "   * excepciones\n",
    "* Tipos de Variables\n",
    "   * números\n",
    "   * cadenas de caractéres\n",
    "   * listas\n",
    "   * tuplas\n",
    "   * diccionarios\n",
    "   * conjuntos\n",
    "   * ejemplos\n",
    "      * archivos y directorios\n",
    "      * archivos tipo csv\n",
    "* Estructura I\n",
    "* Orientación a objetos\n",
    "  * Clases\n",
    "  * Objetos\n",
    "  * Encapsulado\n",
    "  * Abstracción de datos\n",
    "* Extras\n",
    "   * Testeo unitario de módulos\n",
    "   * generadores (yield), map, lambda, reduce, filter\n",
    "   \n",
    "* numpy   \n",
    "*  mpi4py, para cálculo paralelo\n",
    "\n",
    "* Gestión del proyecto\n",
    "  * Control de versión\n",
    "  * Gestión de la configuración\n",
    "     * Entornos virtuales\n",
    " \n",
    " \n",
    " "
   ]
  },
  {
   "cell_type": "markdown",
   "metadata": {},
   "source": [
    "# --------------------------------------------------------------------------- ---------------------------------------------------------------------------"
   ]
  },
  {
   "cell_type": "markdown",
   "metadata": {},
   "source": [
    "# Introducción\n",
    "\n",
    "## ¿Por qué un nuevo lenguaje de programación?\n",
    "\n",
    "La adopción de un nuevo lenguaje de programación presenta algunos desafíos que hay que tener en cuenta a la hora de tomar la decisión, que impactan en: \n",
    "\n",
    "* Organización\n",
    "* Compatibilidad con los recursos existentes (tecnológicos y humanos)\n",
    "* Capacitación de recursos\n",
    "* Desarrollo de los proyectos en curso\n",
    "* Mantenimiento de los proyectos\n",
    "* Planear en forma realista\n",
    "* Comenzar con proyectos chicos"
   ]
  },
  {
   "cell_type": "markdown",
   "metadata": {},
   "source": [
    "## ¿Por qué Python ?"
   ]
  },
  {
   "cell_type": "markdown",
   "metadata": {},
   "source": [
    "* Mucha documentación y guías de aprendizaje\n",
    "* Interpretado\n",
    "* Orientado a objetos, pero sin la obligación de ...\n",
    "* De alto nivel, pero puede trabajar a bajo nivel\n",
    "* Una gan comunidad de usuarios, con inserción en la comunidad científica y académica\n",
    " \n",
    "* Fácil de leer, entender y aprender\n",
    "\n",
    "* Menos  código, de 5-10 veces más chico\n",
    "\n",
    "* Un proyecto en Python se hace en 5 veces menos tiempo, 1 año se podría reducir 2 meses\n",
    "\n",
    "* Variedad de  paquetes para distintas aplicaciones \n",
    "\n",
    "* Similar a C++, orientado a objetos, redefinición de operadores, manejo de errores basado\n",
    "en excepciones.\n",
    "\n",
    "* No reinventa la rueda: reutiliza las bibliotecas disponibles\n",
    "\n",
    "* No es compilado, pero compila, \n",
    "\n",
    "* No tiene máquina virtual, pero corre bytecode de java y viceversa. Genera bytecode\n",
    "* Amigable con C, C++, Fortran\n",
    "\n",
    "\n"
   ]
  },
  {
   "cell_type": "markdown",
   "metadata": {},
   "source": [
    "## Modos de uso de python\n",
    "\n",
    "* Desde un script en un archivo *.py\n",
    "* Desde la consola python\n",
    "* Desde la consola ipython\n",
    "* Desde el Notebook de ipython (esta presentación)"
   ]
  },
  {
   "cell_type": "markdown",
   "metadata": {},
   "source": [
    "## Instalación de python\n",
    "\n",
    "* En linux/Debian en modo super-usuario o en Ubuntu con sudo: \n",
    "   * $ apt-get install ipython ipython-notebook spyder python-matplotlib python-numpy python-scipy python-sympy\n",
    "   \n",
    "   * Otros linux una variante del comando anterior\n",
    "     \n",
    "\n",
    "\n",
    " * How to Install Python on Windows [link](http://www.howtogeek.com/197947/how-to-install-python-on-windows/)\n",
    " * [Python oficial para Windows](https://www.python.org/downloads/windows/)\n",
    "\n",
    "\n",
    "## Más avanzado\n",
    "\n",
    "### Control de versión\n",
    "\n",
    " * GitHub for Windows [link](https://windows.github.com/)\n",
    " \n",
    " * msysGit, Git for Windows, tiene comandos para el shell [link](https://msysgit.github.io/)\n",
    "\n",
    "### Entornos virtuales\n",
    "\n",
    " * How To Install Python, pip, and virtualenv on Windows with PowerShell [link](http://www.tylerbutler.com/2012/05/how-to-install-python-pip-and-virtualenv-on-windows-with-powershell/)\n",
    "\n",
    "* Download Anaconda for Windows [link](http://continuum.io/downloads)\n",
    "\n",
    "### Otros\n",
    "\n",
    "* Download ActivePython Community Edition [link](http://www.activestate.com/activepython/downloads)\n",
    "\n"
   ]
  },
  {
   "cell_type": "markdown",
   "metadata": {},
   "source": [
    "##  The Zen of Python \n",
    "\n",
    "[Idiomatic Python](http://python.net/~goodger/projects/pycon/2007/idiomatic/handout.html)"
   ]
  },
  {
   "cell_type": "markdown",
   "metadata": {},
   "source": [
    "These are the guiding principles of Python, but are open to interpretation. A sense of humor is required for their proper interpretation.\n",
    "\n",
    "If you're using a programming language named after a sketch comedy troupe, you had better have a sense of humor. \n",
    "\n",
    "## Sitio oficial de  [Monty Python](http://www.montypython.com/)\n",
    "\n",
    "### Algunas de las películas de Monty Python\n",
    "\n",
    "  * Erik el vikingo (1989)\n",
    "  * Las aventuras del barón Münchausen (1988)\n",
    "  * Brazil (1985)\n",
    "  * Los héroes del tiempo (Los ladrones del tiempo) (1981)\n",
    "  * El sentido de la vida (1983)\n",
    "  * La vida de Brian (1979)\n",
    "  * Los caballeros de la mesa cuadrada y sus locos seguidores (1975)\n",
    "  \n",
    "## El creador del lenguaje python\n",
    "\n",
    "[Guido van Rossum](http://en.wikipedia.org/wiki/Guido_van_Rossum) programador alemán, nacido en el año 1956, conocido como el \"Benevolent Dictator For Life\" [(BDFL)](http://en.wikipedia.org/wiki/Benevolent_dictator_for_life), sigue manteniendo la supervisión de la evolución del lenguaje, y resuelve disputas cuando es necesario. No confundir con [Benevolent dictatorship](http://en.wikipedia.org/wiki/Benevolent_dictatorship). \n",
    "\n",
    "\n",
    "## 1\n",
    "\n",
    "* Belleza - Beautiful is better than ugly. \n",
    "* Explícito - Explicit is better than implicit.\n",
    "* Simple - Simple is better than complex.\n",
    "* Complejo - Complex is better than complicated.\n",
    "* Flat is better than nested.\n",
    "* Liviano- Sparse is better than dense.\n",
    "* Leíble - Readability counts.\n",
    "* Special cases aren't special enough to break the rules.\n",
    "* Pragmático - Although practicality beats purity.\n",
    "* Errores gritones - Errors should never pass silently.\n",
    "* Se pueden hacer callar - Unless explicitly silenced.\n",
    "\n",
    "##  2\n",
    "\n",
    "* No adivinar - In the face of ambiguity, refuse the temptation to guess.\n",
    "* Una sola forma de hacerlo - There should be one—and preferably only one—obvious way to do it.\n",
    "* Quizás no sea obvia - Although that way may not be obvious at first unless you're Dutch.\n",
    "* Inmediato - Now is better than never.\n",
    "* Nunca mejor que ahora - Although never is often better than right now.\n",
    "* Explicable - If the implementation is hard to explain, it's a bad idea.\n",
    "* Si explicable, buena idea - If the implementation is easy to explain, it may be a good idea.\n",
    "* Modular: usarlo - Namespaces are one honking great idea—let's do more of those!\n"
   ]
  },
  {
   "cell_type": "markdown",
   "metadata": {},
   "source": [
    "## Paquetes disponibles (algunos)\n",
    "\n",
    "\n",
    "\n",
    "\n",
    "[Scipy:](http://www.scipy.org/) a Python-based ecosystem of open-source software for mathematics, science, and engineering.\n",
    "* Integration (scipy.integrate), \n",
    "* Optimization (scipy.optimize),  \n",
    "* Interpolation (scipy.interpolate), \n",
    "* Fourier Transforms (scipy.fftpack), \n",
    "* Signal Processing (scipy.signal)\n",
    "* etc.\n",
    "\n",
    "\n",
    "[PyNE:](http://pyne.io/)  The Nuclear Engineering Toolkit  \n",
    "\n",
    "[Bob:](https://www.idiap.ch/software/bob/docs/releases/last/sphinx/html/index.html)  Signal-processing and machine learning toolbox \n",
    "\n",
    "[The Materials Project:](https://www.materialsproject.org/open)  the Materials API and pymatgen package provide the means for users to efficiently obtain large data sets and develop new analyses. \n",
    "\n",
    "[Atomic Simulation Environment:](https://wiki.fysik.dtu.dk/ase/) The Atomistic Simulation Environment (ASE) is a set of tools and Python modules for setting up, manipulating, running, visualizing and analyzing atomistic simulations.\n",
    "\n",
    "[PyFoam:](https://openfoamwiki.net/index.php/Contrib/PyFoam)\n",
    "A python library to control OpenFOAM-runs and manipulate OpenFOAM-data. Comes with a number of utilities that should make your life easier if you're not scared by commandlines \n",
    "\n",
    "[pythonFlu:](http://pythonflu.wikidot.com/) provides Python wrapping for OpenFOAM C++ API. It enriches the existing OpenFOAM best features, such as expressiveness and robustness, with such unique Python advantages as interactivity and automation. pythonFlu delivers unique engineering environment, where everything can be accessed and run in the same Python terms\n",
    "\n",
    "[OpenCV:](http://opencv.org/) includes several hundreds of computer vision algorithms.\n",
    "\n",
    "[MsNoise:](http://www.msnoise.org/) a Python Package for Monitoring Seismic Velocity Changes using Ambient Seismic Noise"
   ]
  },
  {
   "cell_type": "markdown",
   "metadata": {},
   "source": [
    "## El proceso de desarrollo de software"
   ]
  },
  {
   "cell_type": "markdown",
   "metadata": {},
   "source": [
    "* Análisis del problema\n",
    "* Especificación de requerimientos\n",
    "* Diseño del sistema\n",
    "* Arquitectura del sistema\n",
    "* Desarrollo del código\n",
    "* Verificación y validación, tests (muchos)\n",
    "* Puesta en producción"
   ]
  },
  {
   "cell_type": "markdown",
   "metadata": {},
   "source": [
    "## Útiles"
   ]
  },
  {
   "cell_type": "markdown",
   "metadata": {},
   "source": [
    "* [Anaconda:](https://store.continuum.io/cshop/anaconda/) Distribución de python científica\n",
    "* [nbviewer: ](http://nbviewer.ipython.org/) Notebook Viewer\n",
    "* [Markdown: ](http://daringfireball.net/projects/markdown/basics) Para escribir este documento\n",
    "* [Info Python: ](http://it-ebooks.info/) Libros y manuales \n",
    "   * Learning SciPy for Numerical and Scientific Computing, 2nd Edition, Rojas y otros."
   ]
  },
  {
   "cell_type": "markdown",
   "metadata": {},
   "source": [
    "## Referencias"
   ]
  },
  {
   "cell_type": "markdown",
   "metadata": {},
   "source": [
    "[scientific-python-lectures: ](http://nbviewer.ipython.org/github/fperez/scientific-python-lectures/tree/master/) Introducción a la programación en python y algo más.\n",
    "\n",
    "[Dive into Python: ](http://www.diveintopython.net/) a free Python book for experienced programmers. \n",
    "\n",
    "[curso-python-cientifico](https://github.com/mgaitan/curso-python-cientifico) Taller de Python orientado a estudiantes, profesores, investigadores e ingenieros"
   ]
  },
  {
   "cell_type": "markdown",
   "metadata": {},
   "source": [
    "## Hola Mundo en Python!"
   ]
  },
  {
   "cell_type": "code",
   "execution_count": 12,
   "metadata": {
    "collapsed": false
   },
   "outputs": [
    {
     "name": "stdout",
     "output_type": "stream",
     "text": [
      "Hola Mundo!\n"
     ]
    }
   ],
   "source": [
    "print (\"Hola Mundo!\")"
   ]
  },
  {
   "cell_type": "markdown",
   "metadata": {},
   "source": [
    "### Hola Mundo en C!!\n",
    "\n",
    "\\#include '<'stdio.h>'\n",
    "\n",
    "int main (){\n",
    "\n",
    "  printf (\"Hola Mundo\\n\");\n",
    "\n",
    "  return 0;\n",
    "\n",
    "}\n",
    "\n",
    "##### Más el ciclo de compilación"
   ]
  },
  {
   "cell_type": "markdown",
   "metadata": {},
   "source": [
    "# Formato de salida en el print\n",
    "\n",
    "Más información [Formatted Output](http://www.python-course.eu/python3_formatted_output.php)"
   ]
  },
  {
   "cell_type": "code",
   "execution_count": 11,
   "metadata": {
    "collapsed": false
   },
   "outputs": [
    {
     "name": "stdout",
     "output_type": "stream",
     "text": [
      "2 3.0 string e\n",
      "97 97 a\n",
      "string97\n"
     ]
    },
    {
     "ename": "TypeError",
     "evalue": "Can't convert 'int' object to str implicitly",
     "output_type": "error",
     "traceback": [
      "\u001b[1;31m---------------------------------------------------------------------------\u001b[0m",
      "\u001b[1;31mTypeError\u001b[0m                                 Traceback (most recent call last)",
      "\u001b[1;32m<ipython-input-11-9c460f77eabc>\u001b[0m in \u001b[0;36m<module>\u001b[1;34m()\u001b[0m\n\u001b[0;32m     14\u001b[0m \u001b[1;33m\u001b[0m\u001b[0m\n\u001b[0;32m     15\u001b[0m \u001b[1;31m# esto da error ¿?\u001b[0m\u001b[1;33m\u001b[0m\u001b[1;33m\u001b[0m\u001b[0m\n\u001b[1;32m---> 16\u001b[1;33m \u001b[0mprint\u001b[0m \u001b[1;33m(\u001b[0m\u001b[0mj\u001b[0m \u001b[1;33m+\u001b[0m \u001b[0mp\u001b[0m\u001b[1;33m)\u001b[0m\u001b[1;33m\u001b[0m\u001b[0m\n\u001b[0m",
      "\u001b[1;31mTypeError\u001b[0m: Can't convert 'int' object to str implicitly"
     ]
    }
   ],
   "source": [
    "# asignaciones a variables\n",
    "a = 2\n",
    "b = 3.0\n",
    "j = \"string\"\n",
    "q = 'e'\n",
    "p = 97\n",
    "\n",
    "print (a,b,j,q)\n",
    "\n",
    "# tres formas distintas de obtener la salida de la\n",
    "# variable p\n",
    "print(p, str(p), chr(p))\n",
    "print(j + str(p)) \n",
    "\n",
    "# esto da error ¿?\n",
    "print (j + p)"
   ]
  },
  {
   "cell_type": "code",
   "execution_count": 17,
   "metadata": {
    "collapsed": false
   },
   "outputs": [
    {
     "name": "stdout",
     "output_type": "stream",
     "text": [
      "a: 2, b   3.00\n",
      "a: 2, b   3.00\n"
     ]
    }
   ],
   "source": [
    "print((\"a: %d, b %6.2f\")%(a,b))\n",
    "# 6 es el ancho total del número\n",
    "# 2 es la cantidad de decimales después de\n",
    "# la coma\n",
    "\n",
    "# esto es equivalente\n",
    "s = (\"a: %d, b %6.2f\")%(a,b)\n",
    "print(s)"
   ]
  },
  {
   "cell_type": "markdown",
   "metadata": {},
   "source": [
    "## Scripts \n",
    "\n",
    "Un script muy simple como para empezar y ver los componentes\n",
    "principales"
   ]
  },
  {
   "cell_type": "code",
   "execution_count": 3,
   "metadata": {
    "collapsed": false
   },
   "outputs": [
    {
     "name": "stdout",
     "output_type": "stream",
     "text": [
      "Hola Mundo!\n"
     ]
    }
   ],
   "source": [
    "# -*- coding: utf-8 -*-\n",
    "\n",
    "# Lo anterior nos permite escribir comentarios\n",
    "# con carácteres acentuados o ñ.\n",
    "# es lo primero que hay que poner en le archivo\n",
    "\n",
    "#indica al operativo donde está python\n",
    "# para ejecutar el script\n",
    "#!/usr/bin/python\n",
    "\n",
    "\n",
    "print (\"Hola Mundo!\")"
   ]
  },
  {
   "cell_type": "markdown",
   "metadata": {},
   "source": [
    "* Grabamos el archivo con nombre hola.py\n",
    "* en el prompt  ->python hola.py\n",
    "* -> Hola Mundo!\n",
    "* en linux se puede hacer ->chmod +x hola.py\n",
    "* en el prompt  ->hola.py\n",
    "* -> Hola Mundo!"
   ]
  },
  {
   "cell_type": "markdown",
   "metadata": {},
   "source": [
    "### En ipython notebook para probar cosas\n",
    "\n",
    "No se necesitan algunas de las cosas que ponemos en un archivo. Ipython es un ambiente web que permite mezclar código ejecutable con cualquier contenido que pueda mostrar un navegador."
   ]
  },
  {
   "cell_type": "code",
   "execution_count": 18,
   "metadata": {
    "collapsed": false
   },
   "outputs": [
    {
     "name": "stdout",
     "output_type": "stream",
     "text": [
      "Hola Mundo Ipython! \n"
     ]
    }
   ],
   "source": [
    "print (\"Hola Mundo Ipython! \")"
   ]
  },
  {
   "cell_type": "markdown",
   "metadata": {},
   "source": [
    "## Funciones"
   ]
  },
  {
   "cell_type": "code",
   "execution_count": 19,
   "metadata": {
    "collapsed": false
   },
   "outputs": [
    {
     "name": "stdout",
     "output_type": "stream",
     "text": [
      "Hola  María\n",
      "Bienvenida a Python!\n"
     ]
    }
   ],
   "source": [
    "# -*- coding: utf-8 -*-\n",
    "\n",
    "#!/usr/bin/python\n",
    "\n",
    "#\n",
    "# observar los : al final de la definición de la función\n",
    "# su falta es una fuente común de error.\n",
    "#\n",
    "def holaMundo (s):\n",
    "    print(\"Hola \", s)\n",
    "    print(\"Bienvenida a Python!\")\n",
    "    \n",
    "holaMundo(\"María\")    "
   ]
  },
  {
   "cell_type": "markdown",
   "metadata": {},
   "source": [
    "## Operadores\n",
    "\n",
    "* Sumar y restar: +, -\n",
    "* Multiplicación, división y módulo: *, /, %\n",
    "* División truncada: //, el resultado de la división se aproxima al entero\n",
    "* Signos algebráicos: +x, -x\n",
    "* Complemento orientado a bit: ~x, ~3 = ~(0....011) = 1....100 = -4\n",
    "* Exponenciación: \\*\\* , 10\\*\\*3 = 1000\n",
    "* Operaciones booleanas: Or, And, Not\n",
    "* Elemento perteneciente a: in, 1 in [1,2,3] -> True, 0 in [1,2,3] -> False\n",
    "* Operadores de comparación: <, <=, >, >=, !=, == , lo de siempre\n",
    "* Operadores orientados a bits: |, &, ^. OR, AND, XOR\n",
    "* Operadores de desplaazmiento: <<, >> "
   ]
  },
  {
   "cell_type": "code",
   "execution_count": 27,
   "metadata": {
    "collapsed": false
   },
   "outputs": [
    {
     "name": "stdout",
     "output_type": "stream",
     "text": [
      "False\n",
      "2 1 -4\n",
      "9 1 1 2\n"
     ]
    }
   ],
   "source": [
    "# Uso del operador in \n",
    "a = 0 in [1,2,3]\n",
    "print (a) \n",
    "\n",
    "# otras operaciones \n",
    "print(2%3, 3//2, ~3)\n",
    "\n",
    "# representación de numeros en otras bases\n",
    "print (0o11, 0x01, 0b01 ,0b11 & 0b10)"
   ]
  },
  {
   "cell_type": "markdown",
   "metadata": {},
   "source": [
    "## Estructurar el código con identación\n",
    "\n",
    "La mayoría de los lenguajes de programación utilizan algún signo de puntuación para delimitar las instrucciones. \n",
    "\n",
    "Python utiliza un principio diferente. Los programas se estructuran a partir de la indentación, esto significa que los bloques de códigos quedan definidos por su indentación. \n",
    "\n",
    "Esto es un requerimiento. Indentar mal implica que el código genera un error. \n",
    "\n",
    "La figura muestra como se ordenan las líneas de código.\n",
    "\n",
    "Una línea de puede continuar con el carácter \"\\\".\n"
   ]
  },
  {
   "cell_type": "code",
   "execution_count": 16,
   "metadata": {
    "collapsed": false
   },
   "outputs": [
    {
     "data": {
      "image/png": "[encoded data removed]",
      "text/plain": [
       "<IPython.core.display.Image at 0xb2aedc4c>"
      ]
     },
     "execution_count": 16,
     "metadata": {},
     "output_type": "execute_result"
    }
   ],
   "source": [
    "from IPython.display import Image\n",
    "Image(filename=\"blocks.png\")"
   ]
  },
  {
   "cell_type": "code",
   "execution_count": 20,
   "metadata": {
    "collapsed": false,
    "scrolled": true
   },
   "outputs": [
    {
     "ename": "IndentationError",
     "evalue": "unexpected indent (<ipython-input-20-12fd4eda4877>, line 3)",
     "output_type": "error",
     "traceback": [
      "\u001b[1;36m  File \u001b[1;32m\"<ipython-input-20-12fd4eda4877>\"\u001b[1;36m, line \u001b[1;32m3\u001b[0m\n\u001b[1;33m    print(a)\u001b[0m\n\u001b[1;37m    ^\u001b[0m\n\u001b[1;31mIndentationError\u001b[0m\u001b[1;31m:\u001b[0m unexpected indent\n"
     ]
    }
   ],
   "source": [
    "# esto da error\n",
    "a = 0 \n",
    "  print(a)"
   ]
  },
  {
   "cell_type": "code",
   "execution_count": 21,
   "metadata": {
    "collapsed": false
   },
   "outputs": [
    {
     "ename": "IndentationError",
     "evalue": "unexpected indent (<ipython-input-21-3e39f23eb49e>, line 2)",
     "output_type": "error",
     "traceback": [
      "\u001b[1;36m  File \u001b[1;32m\"<ipython-input-21-3e39f23eb49e>\"\u001b[1;36m, line \u001b[1;32m2\u001b[0m\n\u001b[1;33m    a=0\u001b[0m\n\u001b[1;37m    ^\u001b[0m\n\u001b[1;31mIndentationError\u001b[0m\u001b[1;31m:\u001b[0m unexpected indent\n"
     ]
    }
   ],
   "source": [
    "# También produce un error de identación\n",
    "  a=0\n",
    "print(a)"
   ]
  },
  {
   "cell_type": "code",
   "execution_count": 23,
   "metadata": {
    "collapsed": false
   },
   "outputs": [
    {
     "name": "stdout",
     "output_type": "stream",
     "text": [
      "0\n"
     ]
    }
   ],
   "source": [
    "# esto no da error\n",
    "a = 0\n",
    "print(a)"
   ]
  },
  {
   "cell_type": "code",
   "execution_count": 24,
   "metadata": {
    "collapsed": false
   },
   "outputs": [
    {
     "name": "stdout",
     "output_type": "stream",
     "text": [
      "Hola  María\n",
      "Bienvenida a Python!\n"
     ]
    }
   ],
   "source": [
    "# -*- coding: utf-8 -*-\n",
    "\n",
    "#!/usr/bin/python\n",
    "\n",
    "def holaMundo (s):\n",
    "    print(\"Hola \", s)\n",
    "    print(\"Bienvenida a Python!\")\n",
    "    \n",
    "holaMundo(\"María\")\n",
    "\n",
    "# Esto está bien, hace lo que esperamos"
   ]
  },
  {
   "cell_type": "code",
   "execution_count": 37,
   "metadata": {
    "collapsed": false
   },
   "outputs": [],
   "source": [
    "# -*- coding: utf-8 -*-\n",
    "\n",
    "#!/usr/bin/python\n",
    "\n",
    "def holaMundo (s):\n",
    "    print(\"Hola \", s)\n",
    "    print(\"Bienvenida a Python!\")\n",
    "    \n",
    "    holaMundo(\"María\")\n",
    "# acá no hace nada ¿?\n",
    "# si usan la función ¿qué pasaría?"
   ]
  },
  {
   "cell_type": "code",
   "execution_count": 36,
   "metadata": {
    "collapsed": false
   },
   "outputs": [
    {
     "ename": "IndentationError",
     "evalue": "unindent does not match any outer indentation level (<ipython-input-36-fc75130b5588>, line 9)",
     "output_type": "error",
     "traceback": [
      "\u001b[1;36m  File \u001b[1;32m\"<ipython-input-36-fc75130b5588>\"\u001b[1;36m, line \u001b[1;32m9\u001b[0m\n\u001b[1;33m    holaMundo(\"María\")\u001b[0m\n\u001b[1;37m                      ^\u001b[0m\n\u001b[1;31mIndentationError\u001b[0m\u001b[1;31m:\u001b[0m unindent does not match any outer indentation level\n"
     ]
    }
   ],
   "source": [
    "# -*- coding: utf-8 -*-\n",
    "\n",
    "#!/usr/bin/python\n",
    "\n",
    "def holaMundo (s):\n",
    "    print(\"Hola \", s)\n",
    "    print(\"Bienvenida a Python!\")\n",
    "    \n",
    "  holaMundo(\"María\")\n",
    "# esto produce error ¿?"
   ]
  },
  {
   "cell_type": "code",
   "execution_count": 29,
   "metadata": {
    "collapsed": false
   },
   "outputs": [
    {
     "ename": "IndentationError",
     "evalue": "unexpected indent (<ipython-input-29-5387ad739a43>, line 5)",
     "output_type": "error",
     "traceback": [
      "\u001b[1;36m  File \u001b[1;32m\"<ipython-input-29-5387ad739a43>\"\u001b[1;36m, line \u001b[1;32m5\u001b[0m\n\u001b[1;33m    def holaMundo (s):\u001b[0m\n\u001b[1;37m    ^\u001b[0m\n\u001b[1;31mIndentationError\u001b[0m\u001b[1;31m:\u001b[0m unexpected indent\n"
     ]
    }
   ],
   "source": [
    "# -*- coding: utf-8 -*-\n",
    "\n",
    "#!/usr/bin/python\n",
    "\n",
    " def holaMundo (s):\n",
    "    print(\"Hola \", s)\n",
    "    print(\"Bienvenida a Python!\")\n",
    "    \n",
    "holaMundo(\"María\")\n",
    "# esto produce error ¿?"
   ]
  },
  {
   "cell_type": "code",
   "execution_count": 32,
   "metadata": {
    "collapsed": false
   },
   "outputs": [
    {
     "name": "stdout",
     "output_type": "stream",
     "text": [
      "Hola  María\n",
      "Bienvenida a Python!\n",
      "Hola  María\n",
      "Bienvenida a Python!\n"
     ]
    }
   ],
   "source": [
    "# -*- coding: utf-8 -*-\n",
    "\n",
    "#!/usr/bin/python\n",
    "\n",
    "def holaMundo (s):\n",
    "    print(\"Hola \", s)\n",
    "    print(\"Bienvenida a Python!\")\n",
    "    \n",
    "for i in range(2):  # for(i=0; i<2;i++) holaMundo(\"María\");\n",
    "    holaMundo(\"María\")\n",
    "# esto está bien"
   ]
  },
  {
   "cell_type": "code",
   "execution_count": 33,
   "metadata": {
    "collapsed": false
   },
   "outputs": [
    {
     "ename": "IndentationError",
     "evalue": "unindent does not match any outer indentation level (<ipython-input-33-ba21eb503f4f>, line 11)",
     "output_type": "error",
     "traceback": [
      "\u001b[1;36m  File \u001b[1;32m\"<ipython-input-33-ba21eb503f4f>\"\u001b[1;36m, line \u001b[1;32m11\u001b[0m\n\u001b[1;33m    holaMundo(\"María\")\u001b[0m\n\u001b[1;37m                      ^\u001b[0m\n\u001b[1;31mIndentationError\u001b[0m\u001b[1;31m:\u001b[0m unindent does not match any outer indentation level\n"
     ]
    }
   ],
   "source": [
    "# -*- coding: utf-8 -*-\n",
    "\n",
    "#!/usr/bin/python\n",
    "\n",
    "def holaMundo (s):\n",
    "    print(\"Hola \", s)\n",
    "    print(\"Bienvenida a Python!\")\n",
    "    \n",
    "for i in range(2):\n",
    "      a = i * 2\n",
    "    holaMundo(\"María\")\n",
    "# esto produce error ¿?"
   ]
  },
  {
   "cell_type": "markdown",
   "metadata": {},
   "source": [
    "# --------------------------------------------------------------------------- ---------------------------------------------------------------------------"
   ]
  },
  {
   "cell_type": "markdown",
   "metadata": {},
   "source": [
    "## Control de flujo"
   ]
  },
  {
   "cell_type": "markdown",
   "metadata": {},
   "source": [
    "### if/else"
   ]
  },
  {
   "cell_type": "code",
   "execution_count": 39,
   "metadata": {
    "collapsed": false
   },
   "outputs": [
    {
     "name": "stdout",
     "output_type": "stream",
     "text": [
      "x < 20 12\n"
     ]
    }
   ],
   "source": [
    "x = 12\n",
    "\n",
    "# ver los : !! importante\n",
    "if x < 20:\n",
    "    print(\"x < 20\", x)\n",
    "# de nuevo los : !!    \n",
    "else:\n",
    "    # acá hay un error, pero si la ejecución\n",
    "    # no pasa por acá, no lo detecta\n",
    "    # importante crear casos de prueba para\n",
    "    # todas las posibilidades\n",
    "    prnit(\"x > = 20\", x)"
   ]
  },
  {
   "cell_type": "markdown",
   "metadata": {},
   "source": [
    "### if/elif/else"
   ]
  },
  {
   "cell_type": "code",
   "execution_count": 9,
   "metadata": {
    "collapsed": false
   },
   "outputs": [
    {
     "name": "stdout",
     "output_type": "stream",
     "text": [
      "x < 20 12\n"
     ]
    }
   ],
   "source": [
    "if x < 20:\n",
    "    print (\"x < 20\", x)\n",
    "elif 13 < x < 18:\n",
    "    print (\"x está entre 13 y 18\")\n",
    "else:\n",
    "   print (\"x fuera de rango\")"
   ]
  },
  {
   "cell_type": "markdown",
   "metadata": {},
   "source": [
    "### Ciclos for"
   ]
  },
  {
   "cell_type": "code",
   "execution_count": 24,
   "metadata": {
    "collapsed": false
   },
   "outputs": [
    {
     "data": {
      "text/plain": [
       "range(0, 10)"
      ]
     },
     "execution_count": 24,
     "metadata": {},
     "output_type": "execute_result"
    }
   ],
   "source": [
    "range (10)"
   ]
  },
  {
   "cell_type": "code",
   "execution_count": 20,
   "metadata": {
    "collapsed": false
   },
   "outputs": [
    {
     "data": {
      "text/plain": [
       "[10, 12, 14, 16, 18, 20, 22, 24, 26, 28, 30, 32]"
      ]
     },
     "execution_count": 20,
     "metadata": {},
     "output_type": "execute_result"
    }
   ],
   "source": [
    "list(range(10,34,2))"
   ]
  },
  {
   "cell_type": "code",
   "execution_count": 25,
   "metadata": {
    "collapsed": false
   },
   "outputs": [
    {
     "name": "stdout",
     "output_type": "stream",
     "text": [
      "45\n"
     ]
    }
   ],
   "source": [
    "suma = 0\n",
    "for i in range (10): # for (i = 0; i < 10; i++){ }\n",
    "    suma = suma +i\n",
    "print (suma)"
   ]
  },
  {
   "cell_type": "code",
   "execution_count": 26,
   "metadata": {
    "collapsed": false
   },
   "outputs": [
    {
     "name": "stdout",
     "output_type": "stream",
     "text": [
      "42\n"
     ]
    }
   ],
   "source": [
    "suma = 0\n",
    "for i in range (3,10):  # for (i = 3; i < 10; i++){ }\n",
    "    suma = suma +i\n",
    "print (suma)"
   ]
  },
  {
   "cell_type": "markdown",
   "metadata": {},
   "source": [
    "#### Ciclo con paso distinto de 1"
   ]
  },
  {
   "cell_type": "code",
   "execution_count": 41,
   "metadata": {
    "collapsed": false
   },
   "outputs": [
    {
     "name": "stdout",
     "output_type": "stream",
     "text": [
      "0\n",
      "2\n",
      "4\n",
      "6\n",
      "8\n"
     ]
    }
   ],
   "source": [
    "for i in range(0,10, 2):\n",
    "    print (i)"
   ]
  },
  {
   "cell_type": "markdown",
   "metadata": {},
   "source": [
    "#### Ciclo for inverso"
   ]
  },
  {
   "cell_type": "code",
   "execution_count": 3,
   "metadata": {
    "collapsed": false
   },
   "outputs": [
    {
     "name": "stdout",
     "output_type": "stream",
     "text": [
      "5\n",
      "4\n",
      "3\n",
      "2\n"
     ]
    }
   ],
   "source": [
    "for i in range(5,1, -1):\n",
    "    print (i)"
   ]
  },
  {
   "cell_type": "markdown",
   "metadata": {},
   "source": [
    "#### Acceso a índice y valor en forma simultanea"
   ]
  },
  {
   "cell_type": "code",
   "execution_count": 15,
   "metadata": {
    "collapsed": false
   },
   "outputs": [
    {
     "name": "stdout",
     "output_type": "stream",
     "text": [
      "El valor de la posicion 1 es 4\n",
      "El valor de la posicion 2 es 45\n",
      "El valor de la posicion 3 es 19\n"
     ]
    }
   ],
   "source": [
    "for posicion, valor in enumerate([4,45 , 19]):\n",
    "    print(\"El valor de la posicion %s es %d\" % (posicion+1, valor))"
   ]
  },
  {
   "cell_type": "markdown",
   "metadata": {},
   "source": [
    "#### break"
   ]
  },
  {
   "cell_type": "code",
   "execution_count": null,
   "metadata": {
    "collapsed": false
   },
   "outputs": [],
   "source": [
    "sumatoria = 0\n",
    "for elemento in range(1000):\n",
    "    if elemento > 100:\n",
    "        break\n",
    "    sumatoria = sumatoria + elemento\n",
    "sumatoria, elemento"
   ]
  },
  {
   "cell_type": "markdown",
   "metadata": {},
   "source": [
    "#### continue"
   ]
  },
  {
   "cell_type": "code",
   "execution_count": 16,
   "metadata": {
    "collapsed": false
   },
   "outputs": [
    {
     "name": "stdout",
     "output_type": "stream",
     "text": [
      "0\n",
      "2\n",
      "4\n",
      "6\n",
      "8\n",
      "10\n",
      "12\n",
      "14\n",
      "16\n",
      "18\n"
     ]
    },
    {
     "data": {
      "text/plain": [
       "90"
      ]
     },
     "execution_count": 16,
     "metadata": {},
     "output_type": "execute_result"
    }
   ],
   "source": [
    "sumatoria = 0\n",
    "for elemento in range(20):\n",
    "    if elemento % 2:\n",
    "        continue\n",
    "    print(elemento)\n",
    "    sumatoria = sumatoria + elemento\n",
    "sumatoria"
   ]
  },
  {
   "cell_type": "markdown",
   "metadata": {},
   "source": [
    "### while"
   ]
  },
  {
   "cell_type": "code",
   "execution_count": 27,
   "metadata": {
    "collapsed": false
   },
   "outputs": [
    {
     "name": "stdout",
     "output_type": "stream",
     "text": [
      "45\n"
     ]
    }
   ],
   "source": [
    "a = 0\n",
    "suma = 0\n",
    "while a < 10:\n",
    "    suma = suma + a\n",
    "    a = a + 1\n",
    "print (suma)"
   ]
  },
  {
   "cell_type": "markdown",
   "metadata": {},
   "source": [
    "### switch - case \n",
    "\n",
    "Se encuentra en otros lenguajes. En python no. Se busca implementar con if/else/elif. "
   ]
  },
  {
   "cell_type": "markdown",
   "metadata": {},
   "source": [
    "### Ciclos anidados"
   ]
  },
  {
   "cell_type": "code",
   "execution_count": null,
   "metadata": {
    "collapsed": false
   },
   "outputs": [],
   "source": [
    "for k in range(0,5):\n",
    "    for i in range (3,7):\n",
    "        print (\"k: %d i %d: \" %  (k ,i))"
   ]
  },
  {
   "cell_type": "code",
   "execution_count": 38,
   "metadata": {
    "collapsed": false
   },
   "outputs": [
    {
     "name": "stdout",
     "output_type": "stream",
     "text": [
      "k: 0 i 3: j 2:\n",
      "k: 0 i 3: j 3:\n",
      "k: 0 i 4: j 2:\n",
      "k: 0 i 4: j 3:\n",
      "k: 0 i 5: j 2:\n",
      "k: 0 i 5: j 3:\n",
      "k: 0 i 6: j 2:\n",
      "k: 0 i 6: j 3:\n",
      "k: 1 i 3: j 2:\n",
      "k: 1 i 3: j 3:\n",
      "k: 1 i 4: j 2:\n",
      "k: 1 i 4: j 3:\n",
      "k: 1 i 5: j 2:\n",
      "k: 1 i 5: j 3:\n",
      "k: 1 i 6: j 2:\n",
      "k: 1 i 6: j 3:\n",
      "k: 2 i 3: j 2:\n",
      "k: 2 i 3: j 3:\n",
      "k: 2 i 4: j 2:\n",
      "k: 2 i 4: j 3:\n",
      "k: 2 i 5: j 2:\n",
      "k: 2 i 5: j 3:\n",
      "k: 2 i 6: j 2:\n",
      "k: 2 i 6: j 3:\n",
      "k: 3 i 3: j 2:\n",
      "k: 3 i 3: j 3:\n",
      "k: 3 i 4: j 2:\n",
      "k: 3 i 4: j 3:\n",
      "k: 3 i 5: j 2:\n",
      "k: 3 i 5: j 3:\n",
      "k: 3 i 6: j 2:\n",
      "k: 3 i 6: j 3:\n",
      "k: 4 i 3: j 2:\n",
      "k: 4 i 3: j 3:\n",
      "k: 4 i 4: j 2:\n",
      "k: 4 i 4: j 3:\n",
      "k: 4 i 5: j 2:\n",
      "k: 4 i 5: j 3:\n",
      "k: 4 i 6: j 2:\n",
      "k: 4 i 6: j 3:\n"
     ]
    }
   ],
   "source": [
    "for k in range(0,5):\n",
    "    for i in range (3,7):\n",
    "        for j in range (2,4):\n",
    "            print (\"k: %d i %d: j %d:\" %  (k ,i, j))"
   ]
  },
  {
   "cell_type": "markdown",
   "metadata": {},
   "source": [
    "### Excepciones "
   ]
  },
  {
   "cell_type": "markdown",
   "metadata": {},
   "source": [
    "Una excepción es un evento que ocurre durante la ejecución normal de un programa, que interrumpe el flujo normal de ejecución del programa."
   ]
  },
  {
   "cell_type": "code",
   "execution_count": 31,
   "metadata": {
    "collapsed": false
   },
   "outputs": [
    {
     "name": "stdout",
     "output_type": "stream",
     "text": [
      "Se escribió en el archivo de forma satisfactoria\n",
      "El programa sigue su curso normal\n"
     ]
    }
   ],
   "source": [
    "#!/usr/bin/python\n",
    "\n",
    "try:\n",
    "    # lo que se quiere hacer\n",
    "   fh = open(\"testfile\", \"w\")\n",
    "   fh.write(\"Esta es una prueba para manejo de excepciones !!\")\n",
    "except IOError:\n",
    "    # si hay un problema ejecuta esta parte\n",
    "   print (\"Error: no se puede escribir en el archivo\")\n",
    "else:\n",
    "   # si no hay problemas se termina ejecutando esta parte \n",
    "   print (\"Se escribió en el archivo de forma satisfactoria\")\n",
    "   fh.close()\n",
    "\n",
    "print (\"El programa sigue su curso normal\")"
   ]
  },
  {
   "cell_type": "markdown",
   "metadata": {},
   "source": [
    "# --------------------------------------------------------------------------- ---------------------------------------------------------------------------"
   ]
  },
  {
   "cell_type": "markdown",
   "metadata": {},
   "source": [
    "## Tipos de Variables"
   ]
  },
  {
   "cell_type": "markdown",
   "metadata": {},
   "source": [
    "### Números"
   ]
  },
  {
   "cell_type": "code",
   "execution_count": 58,
   "metadata": {
    "collapsed": false
   },
   "outputs": [
    {
     "name": "stdout",
     "output_type": "stream",
     "text": [
      "El entero 100\n",
      "El punto flotante  1000.000000\n",
      "El string John\n",
      "El compleo 0.000000 + 3.140000j\n",
      "El tipo de la variable es  <class 'int'>\n",
      "El tipo de la variable es  <class 'float'>\n",
      "El tipo de la variable es  <class 'float'>\n",
      "Asignación múltiple:  100.0 100.0 100.0\n",
      "3.220000E+19f\n"
     ]
    }
   ],
   "source": [
    "#!/usr/bin/python\n",
    "\n",
    "counter = 100          # Un entero\n",
    "miles   = 1000.0       # Un punto flotante\n",
    "name    = \"John\"       # Un string\n",
    "cmpl    = 3.14j        # Un complejo\n",
    "\n",
    "print (\"El entero %d\" % (counter))\n",
    "print (\"El punto flotante  %f\" % (miles))\n",
    "print (\"El string %s\" % (name))\n",
    "print (\"El compleo %f + %fj\"% (cmpl.real, cmpl.imag))\n",
    "\n",
    "print (\"El tipo de la variable es  %s\" % type(counter))\n",
    "print (\"El tipo de la variable es  %s\" % type(miles))\n",
    "counter = float (counter)\n",
    "print (\"El tipo de la variable es  %s\" % type(counter))\n",
    "\n",
    "# Asignación múltiple\n",
    "a=b=c=counter\n",
    "\n",
    "print (\"Asignación múltiple: \",a,b,c)\n",
    "\n",
    "# Notación \n",
    "numero = 32.2e18\n",
    "print (\"%05Ef\" % ( numero))\n",
    "#\n",
    "# Para ver como construir el formato para print\n",
    "# http://www.python-course.eu/python3_formatted_output.php\n",
    "#"
   ]
  },
  {
   "cell_type": "markdown",
   "metadata": {},
   "source": [
    "### Cadenas de caractéres (strings)"
   ]
  },
  {
   "cell_type": "markdown",
   "metadata": {},
   "source": [
    "Cadena contínua de caractéres entre comillas"
   ]
  },
  {
   "cell_type": "code",
   "execution_count": 53,
   "metadata": {
    "collapsed": false
   },
   "outputs": [
    {
     "name": "stdout",
     "output_type": "stream",
     "text": [
      "str1:  un ejemplo de string\n",
      "str2:  otro ejemplo de string\n",
      "str3:  anidado de 'comillas' \n",
      "str4:  esto \"no\" debería\n",
      "concatenación:  anidado de 'comillas' esto \"no\" debería\n",
      "multiplicación de string:  anidado de 'comillas' anidado de 'comillas' \n",
      "un caracter del string:  a\n",
      "rango de caracteres:  dado \n",
      "desde el índice 3 hasta el fin:  4567890\n",
      "le saco 3 chars del final 1234567\n",
      "combinamos los 2 anteriores 4567\n"
     ]
    }
   ],
   "source": [
    "#inicialización de strings \n",
    "str1 = \"un ejemplo de string\"\n",
    "str2 = 'otro ejemplo de string'\n",
    "# respetar el orden del encomillado\n",
    "str3 = \"anidado de 'comillas' \"\n",
    "str4 = 'esto \"no\" debería'\n",
    "#concatenación de caractéres \n",
    "str5 = str3 + str4\n",
    "\n",
    "# \"multiplicación de string\"\n",
    "str6 = str3 * 2\n",
    "# un caracter del string\n",
    "str7 = str6[0]\n",
    "# rango de caracteres\n",
    "str8 = str6[3:8]\n",
    "# desde el índice 3 hasta el fin\n",
    "str9 = \"1234567890\"[3:]\n",
    "\n",
    "print(\"str1: \", str1)\n",
    "print(\"str2: \", str2)\n",
    "print(\"str3: \", str3)\n",
    "print(\"str4: \", str4)\n",
    "print(\"concatenación: \", str5)\n",
    "print(\"multiplicación de string: \", str6)\n",
    "print(\"un caracter del string: \", str7)\n",
    "print(\"rango de caracteres: \", str8)\n",
    "print(\"desde el índice 3 hasta el fin: \", str9)\n",
    "print(\"le saco 3 chars del final\", \"1234567890\"[:-3])\n",
    "print(\"combinamos los 2 anteriores\", \"1234567890\"[3:-3])"
   ]
  },
  {
   "cell_type": "code",
   "execution_count": 46,
   "metadata": {
    "collapsed": false
   },
   "outputs": [
    {
     "ename": "SyntaxError",
     "evalue": "invalid syntax (<ipython-input-46-2aa5b1b52880>, line 3)",
     "output_type": "error",
     "traceback": [
      "\u001b[1;36m  File \u001b[1;32m\"<ipython-input-46-2aa5b1b52880>\"\u001b[1;36m, line \u001b[1;32m3\u001b[0m\n\u001b[1;33m    str10 = \"hola \"mundo\"\"\u001b[0m\n\u001b[1;37m                       ^\u001b[0m\n\u001b[1;31mSyntaxError\u001b[0m\u001b[1;31m:\u001b[0m invalid syntax\n"
     ]
    }
   ],
   "source": [
    "# si no respeto el orden de comillas\n",
    "# tengo error\n",
    "str10 = \"hola \"mundo\"\""
   ]
  },
  {
   "cell_type": "markdown",
   "metadata": {},
   "source": [
    "### Conjuntos, sets ()\n",
    "\n",
    "Cantor defined a set at the beginning of his \"Beiträge zur Begründung der transfiniten Mengenlehre\":\n",
    "\"A set is a gathering together into a whole of definite, distinct objects of our perception and of our thought - which are called elements of the set.\" Nowadays, we can say in \"plain\" English: A set is a well defined collection of objects.  Más en [link](http://www.python-course.eu/sets_frozensets.php)"
   ]
  },
  {
   "cell_type": "code",
   "execution_count": 54,
   "metadata": {
    "collapsed": false
   },
   "outputs": [
    {
     "name": "stdout",
     "output_type": "stream",
     "text": [
      "{'P', 'A', 'y', 'l', 'u', 'h', 'T', 'r', 'n', 'i', ' ', 't', 'a', 'o'} <class 'set'>\n",
      "{'S', 'P', 'A', 'y', 'l', 'u', 'h', 'T', 'r', 'n', 'i', ' ', 't', 'a', 'o'}\n"
     ]
    }
   ],
   "source": [
    "# Definición de un conjunto\n",
    "x = set(\"A Python Tutorial\")\n",
    "print (x, type(x))\n",
    "\n",
    "# Agregar un elemento al conjunto\n",
    "x.add(\"S\")\n",
    "print (x)\n"
   ]
  },
  {
   "cell_type": "markdown",
   "metadata": {},
   "source": [
    "### Notación simplificada para conjuntos, sets()"
   ]
  },
  {
   "cell_type": "code",
   "execution_count": 79,
   "metadata": {
    "collapsed": false
   },
   "outputs": [
    {
     "name": "stdout",
     "output_type": "stream",
     "text": [
      "{'violeta', 'verde', 'rojo', 'blanco'} <class 'set'>\n"
     ]
    }
   ],
   "source": [
    "colores  = {\"blanco\",\"rojo\",\"verde\",\"violeta\"}\n",
    "print (colores, type(colores))"
   ]
  },
  {
   "cell_type": "markdown",
   "metadata": {},
   "source": [
    "### Listas"
   ]
  },
  {
   "cell_type": "markdown",
   "metadata": {},
   "source": [
    "Una estructura que contiene elementos separados por comas y encerradas entre llaves [].\n",
    "\n",
    "Más sobre listas [link] (https://docs.python.org/2/tutorial/datastructures.html)"
   ]
  },
  {
   "cell_type": "code",
   "execution_count": 88,
   "metadata": {
    "collapsed": false
   },
   "outputs": [
    {
     "name": "stdout",
     "output_type": "stream",
     "text": [
      "toda la lista  ['abcd', 786, 2.23, 'john', 70.2]\n",
      "el primer elemento  abcd\n",
      "desde 1 hasta 3 (no incluye)  [786, 2.23]\n",
      "desde 2 hat el fin  [2.23, 'john', 70.2]\n",
      "concatena 2 veces la listita  [123, 'john', 123, 'john']\n",
      "concatena listas distintas  ['abcd', 786, 2.23, 'john', 70.2, 123, 'john']\n",
      "lista agregada  ['abcd', 786, 2.23, 'john', 70.2, 'app']\n",
      "['2']\n",
      "[]\n",
      "elemento eliminado  abcd\n",
      "la lista después de la eliminación [786, 2.23, 'john', 70.2, 'app']\n",
      "lista ordenada ['0', 'a', 'b', 'd', 'f', 'h', 't', 'w']\n"
     ]
    }
   ],
   "source": [
    "lista = [ 'abcd', 786 , 2.23, 'john', 70.2 ]\n",
    "listita = [123, 'john']\n",
    "\n",
    "print (\"toda la lista \",lista)\n",
    "print (\"el primer elemento \",lista[0])\n",
    "print (\"desde 1 hasta 3 (no incluye) \", lista [1:3])\n",
    "print (\"desde 2 hat el fin \",lista [2:])\n",
    "print (\"concatena 2 veces la listita \",listita * 2)\n",
    "print (\"concatena listas distintas \", lista + listita)\n",
    "lista.append(\"app\")\n",
    "# agregar un elemento a la lista\n",
    "print (\"lista agregada \", lista)\n",
    "\n",
    "#inicializar la  lista vacía\n",
    "listita = []\n",
    "listita.append (\"2\")\n",
    "print (listita)\n",
    "#eliminar el elemento\n",
    "listita.remove(\"2\")\n",
    "print (listita)\n",
    "#eliminar el elemento i-ésimo\n",
    "print (\"elemento eliminado \",lista.pop(0))\n",
    "print (\"la lista después de la eliminación\",lista)\n",
    "\n",
    "abc = ['w','h','b','t','d','f','a','0']\n",
    "abc.sort()\n",
    "print (\"lista ordenada\", abc)\n",
    " "
   ]
  },
  {
   "cell_type": "code",
   "execution_count": 10,
   "metadata": {
    "collapsed": false
   },
   "outputs": [
    {
     "name": "stdout",
     "output_type": "stream",
     "text": [
      "0\n",
      "15\n",
      "1\n",
      "32\n",
      "2\n",
      "35\n",
      "3\n",
      "34\n",
      "4\n",
      "33\n",
      "5\n",
      "36\n",
      "10\n",
      "15\n",
      "11\n",
      "32\n",
      "12\n",
      "35\n",
      "13\n",
      "34\n",
      "14\n",
      "33\n",
      "15\n",
      "36\n"
     ]
    }
   ],
   "source": [
    "# una lista \n",
    "l = [[['0',15],['1', 32], ['2', 35],['3', 34], ['4', 33], ['5', 36]],\n",
    "    [['10',15],['11', 32], ['12', 35],['13', 34], ['14', 33], ['15', 36]]]\n",
    "# recorro todos los elementos\n",
    "# de la lista l\n",
    "for ls in l:\n",
    "    for lss in ls:\n",
    "        for lsss in lss:\n",
    "            print (lsss)"
   ]
  },
  {
   "cell_type": "code",
   "execution_count": 24,
   "metadata": {
    "collapsed": false
   },
   "outputs": [
    {
     "name": "stdout",
     "output_type": "stream",
     "text": [
      "Revision_Control_Software.ipynb es un notebook de ipython\n",
      "Diagrama-30-GC.png es una imagen .png\n",
      "oper-struct-test.ipynb es un notebook de ipython\n",
      "iteradores.ipynb es un notebook de ipython\n",
      "git-almacenamiento.png es una imagen .png\n",
      "Diagrama-10-GC.png es una imagen .png\n",
      "reduce_diagram.png es una imagen .png\n",
      "fruit.png es una imagen .png\n",
      "matplotlib.ipynb es un notebook de ipython\n",
      "Diagrama-20-GC.png es una imagen .png\n",
      "intro-extras.ipynb es un notebook de ipython\n",
      "numpy.ipynb es un notebook de ipython\n",
      "intro.ipynb es un notebook de ipython\n",
      "numpy-iterators.ipynb es un notebook de ipython\n",
      "git-local-operations.png es una imagen .png\n",
      "lifecycle-git.png es una imagen .png\n",
      "blocks.png es una imagen .png\n",
      "strawberry_tart_as_class.png es una imagen .png\n",
      "\n",
      " is dir \n",
      "\n",
      "fractional : es directorio\n",
      "mpi : es directorio\n",
      "image : es directorio\n",
      ".ipynb_checkpoints : es directorio\n",
      "notebooks : es directorio\n"
     ]
    },
    {
     "data": {
      "text/plain": [
       "False"
      ]
     },
     "execution_count": 24,
     "metadata": {},
     "output_type": "execute_result"
    }
   ],
   "source": [
    "import os\n",
    "\n",
    "path = \"./\"\n",
    "lista_nombres_directorio = os.listdir(path)\n",
    "\n",
    "for e in lista_nombres_directorio:\n",
    "    #print (e, os.path.isfile(e), os.path.splitext(e)[1] == '.ipynb')\n",
    "    if os.path.splitext(e)[1] == '.ipynb':\n",
    "        print (e, \"es un notebook de ipython\")\n",
    "    elif os.path.splitext(e)[1] == '.png':\n",
    "        print (e, \"es una imagen .png\")\n",
    "    \n",
    "print(\"\\n is dir \\n\")    \n",
    "    \n",
    "for e in lista_nombres_directorio:\n",
    "    if os.path.isdir(e):\n",
    "        print (e, \": es directorio\")\n",
    "        \n",
    "print(os.path.exists(path + 'pepe.py'))"
   ]
  },
  {
   "cell_type": "markdown",
   "metadata": {},
   "source": [
    "# Referencias\n",
    "\n",
    "* Dive Into Python 3 [link](http://www.diveintopython3.net/)\n",
    "* Python Module of the Week [PyMOTW](http://pymotw.com/2/)"
   ]
  },
  {
   "cell_type": "markdown",
   "metadata": {},
   "source": [
    "# Leer y escribir archivos CSV\n",
    "\n",
    "En un archivo csv dada línea representa un registro en el que cada campo está separado por una coma u otro símbolo que actua como separador de campos.\n",
    "\n",
    "Ej.\n",
    "\n",
    "`\n",
    "1,2,3\n",
    "3,5,6\n",
    "7,8,9\n",
    "`"
   ]
  },
  {
   "cell_type": "code",
   "execution_count": 5,
   "metadata": {
    "collapsed": false
   },
   "outputs": [
    {
     "name": "stdout",
     "output_type": "stream",
     "text": [
      "['0.81644484844923', '2.79266074624976', '4.37044041201976']\n",
      "['0.46178914210466', '3.539576307136', '4.5848478195258']\n",
      "['0.01421448520883', '2.84484283178874', '4.16425259615878']\n",
      "['0.79355289565463', '2.84671472319478', '4.52055124897836']\n",
      "['0.51464458246529', '3.39037946546231', '4.08879893736987']\n",
      "['0.03323352776063', '3.39527373190909', '4.54131879224449']\n",
      "['0.57288214894733', '2.12340632795591', '4.93961379173371']\n",
      "['0.3068370411602', '2.14745652907001', '4.24418479005681']\n",
      "['0.7405187075985', '2.0744313026334', '4.24917792944357']\n",
      "['0.44979574565286', '2.61780218459941', '4.81320965842877']\n",
      "['0.48990845615844', '2.60132583924364', '4.57780666328']\n",
      "['0.52740693800263', '2.83353841515868', '4.43557010908835']\n",
      "['0.69010216106991', '2.7988431930387', '4.44297861323173']\n",
      "['0.65871256691832', '2.52337147997023', '4.33714249345175']\n",
      "['0.15265205905302', '2.77698935243398', '4.10055502516697']\n",
      "['0.25069512258738', '3.05580694520977', '4.97294778568139']\n",
      "['0.69548773249485', '3.78246089119449', '4.45238585102448']\n",
      "['0.2070453355099', '2.68976510350895', '4.35314858901523']\n",
      "['0.26730348980941', '3.86244640704428', '4.12340607140776']\n",
      "['0.42521903774602', '2.94194167722165', '4.03641992105933']\n",
      "['0.64870099035132', '3.09012805394434', '4.83258549075881']\n",
      "['0.94106182064053', '3.93644673662049', '4.15705946957069']\n",
      "['0.62573390016106', '2.60724526791554', '4.89570299882137']\n",
      "['0.45512712693061', '2.36645107425995', '4.54868158608132']\n",
      "['0.66530841260081', '2.22195320047357', '4.57576534993062']\n",
      "['0.36969482579402', '3.69931698822605', '4.78346509384098']\n",
      "['0.67536514905971', '2.39601492941404', '4.357752834856']\n",
      "['0.05524010396787', '2.02035386604382', '4.86618039294873']\n",
      "['0.37713686931486', '3.92849756705966', '4.48878717200774']\n",
      "['0.59845026256899', '2.96131838110287', '4.29072722049224']\n",
      "['0.19786803182324', '0', '0']\n"
     ]
    }
   ],
   "source": [
    "import csv\n",
    "rows = []\n",
    "f = open(\"datos.csv\", 'rt')\n",
    "try:\n",
    "    reader = csv.reader(f)\n",
    "    for row in reader:\n",
    "        rows.append(row)\n",
    "finally:\n",
    "    f.close()\n",
    "\n",
    "    \n",
    "for r in rows:\n",
    "    print(r)\n",
    "    \n",
    " \n",
    "f = open(\"datos_p.csv\", 'wt')\n",
    "try:\n",
    "    writer = csv.writer(f)\n",
    "    writer.writerow( ('v1', 'v2', 'v3') )\n",
    "    for r in rows:\n",
    "        writer.writerow(  r )\n",
    "finally:\n",
    "    f.close()    "
   ]
  },
  {
   "cell_type": "markdown",
   "metadata": {},
   "source": [
    "# Cerrado automático de archivos\n",
    "\n",
    "## Uso de la cláusula  with\n",
    "\n",
    "* Archivos [link](http://www.diveintopython3.net/files.html)\n",
    "* Understanding Python's \"with\" statement [link](http://effbot.org/zone/python-with-statement.htm)"
   ]
  },
  {
   "cell_type": "code",
   "execution_count": 8,
   "metadata": {
    "collapsed": false
   },
   "outputs": [
    {
     "name": "stdout",
     "output_type": "stream",
     "text": [
      "0.81644484844923 2.79266074624976 4.37044041201976\n",
      "0.46178914210466 3.539576307136 4.5848478195258\n",
      "0.01421448520883 2.84484283178874 4.16425259615878\n",
      "0.79355289565463 2.84671472319478 4.52055124897836\n",
      "0.51464458246529 3.39037946546231 4.08879893736987\n",
      "0.03323352776063 3.39527373190909 4.54131879224449\n",
      "0.57288214894733 2.12340632795591 4.93961379173371\n",
      "0.3068370411602 2.14745652907001 4.24418479005681\n",
      "0.7405187075985 2.0744313026334 4.24917792944357\n",
      "0.44979574565286 2.61780218459941 4.81320965842877\n",
      "0.48990845615844 2.60132583924364 4.57780666328\n",
      "0.52740693800263 2.83353841515868 4.43557010908835\n",
      "0.69010216106991 2.7988431930387 4.44297861323173\n",
      "0.65871256691832 2.52337147997023 4.33714249345175\n",
      "0.15265205905302 2.77698935243398 4.10055502516697\n",
      "0.25069512258738 3.05580694520977 4.97294778568139\n",
      "0.69548773249485 3.78246089119449 4.45238585102448\n",
      "0.2070453355099 2.68976510350895 4.35314858901523\n",
      "0.26730348980941 3.86244640704428 4.12340607140776\n",
      "0.42521903774602 2.94194167722165 4.03641992105933\n",
      "0.64870099035132 3.09012805394434 4.83258549075881\n",
      "0.94106182064053 3.93644673662049 4.15705946957069\n",
      "0.62573390016106 2.60724526791554 4.89570299882137\n",
      "0.45512712693061 2.36645107425995 4.54868158608132\n",
      "0.66530841260081 2.22195320047357 4.57576534993062\n",
      "0.36969482579402 3.69931698822605 4.78346509384098\n",
      "0.67536514905971 2.39601492941404 4.357752834856\n",
      "0.05524010396787 2.02035386604382 4.86618039294873\n",
      "0.37713686931486 3.92849756705966 4.48878717200774\n",
      "0.59845026256899 2.96131838110287 4.29072722049224\n",
      "0.19786803182324 0.0 0.0\n"
     ]
    }
   ],
   "source": [
    "import csv\n",
    "rows = []\n",
    "with open('datos.csv', 'rt') as csvfile:\n",
    "    reader = csv.reader(csvfile, delimiter=',')\n",
    "    a = 0\n",
    "    b = 0\n",
    "    c = 0\n",
    "    for row in reader:\n",
    "        # convertir el dato a flotante para operar\n",
    "        a = float(row[0])\n",
    "        b = float(row[1])\n",
    "        c = float(row[2])\n",
    "        row[0] = a\n",
    "        row[1] = b\n",
    "        row[2] = c\n",
    "        # guardar en rows para posterior procesamiento\n",
    "        rows.append(row)\n",
    "        print (a, b, c)\n",
    "\n",
    "# print(rows)\n",
    "\n",
    "# procesamiento de los datos\n",
    "\n",
    "for r in rows:\n",
    "    r[0] *= 2\n",
    "    r[1] *= 4\n",
    "    r[2] /= 2\n",
    "    r[0] = str(r[0])\n",
    "    r[1] = str(r[1])\n",
    "    r[2] = str(r[2])\n",
    "    \n",
    "with open('datos_p.csv', 'wt') as csvfile:\n",
    "    pwriter = csv.writer(csvfile, delimiter=',', quotechar='|', quoting=csv.QUOTE_MINIMAL)\n",
    "    for r in rows:\n",
    "        pwriter.writerow(r)"
   ]
  },
  {
   "cell_type": "markdown",
   "metadata": {},
   "source": [
    "## Juntando todo "
   ]
  },
  {
   "cell_type": "code",
   "execution_count": 9,
   "metadata": {
    "collapsed": false
   },
   "outputs": [
    {
     "name": "stdout",
     "output_type": "stream",
     "text": [
      "0.81644484844923 2.79266074624976 4.37044041201976\n",
      "0.46178914210466 3.539576307136 4.5848478195258\n",
      "0.01421448520883 2.84484283178874 4.16425259615878\n",
      "0.79355289565463 2.84671472319478 4.52055124897836\n",
      "0.51464458246529 3.39037946546231 4.08879893736987\n",
      "0.03323352776063 3.39527373190909 4.54131879224449\n",
      "0.57288214894733 2.12340632795591 4.93961379173371\n",
      "0.3068370411602 2.14745652907001 4.24418479005681\n",
      "0.7405187075985 2.0744313026334 4.24917792944357\n",
      "0.44979574565286 2.61780218459941 4.81320965842877\n",
      "0.48990845615844 2.60132583924364 4.57780666328\n",
      "0.52740693800263 2.83353841515868 4.43557010908835\n",
      "0.69010216106991 2.7988431930387 4.44297861323173\n",
      "0.65871256691832 2.52337147997023 4.33714249345175\n",
      "0.15265205905302 2.77698935243398 4.10055502516697\n",
      "0.25069512258738 3.05580694520977 4.97294778568139\n",
      "0.69548773249485 3.78246089119449 4.45238585102448\n",
      "0.2070453355099 2.68976510350895 4.35314858901523\n",
      "0.26730348980941 3.86244640704428 4.12340607140776\n",
      "0.42521903774602 2.94194167722165 4.03641992105933\n",
      "0.64870099035132 3.09012805394434 4.83258549075881\n",
      "0.94106182064053 3.93644673662049 4.15705946957069\n",
      "0.62573390016106 2.60724526791554 4.89570299882137\n",
      "0.45512712693061 2.36645107425995 4.54868158608132\n",
      "0.66530841260081 2.22195320047357 4.57576534993062\n",
      "0.36969482579402 3.69931698822605 4.78346509384098\n",
      "0.67536514905971 2.39601492941404 4.357752834856\n",
      "0.05524010396787 2.02035386604382 4.86618039294873\n",
      "0.37713686931486 3.92849756705966 4.48878717200774\n",
      "0.59845026256899 2.96131838110287 4.29072722049224\n",
      "0.19786803182324 0.0 0.0\n"
     ]
    }
   ],
   "source": [
    "import csv\n",
    "with open('datos_p.csv', 'wt') as csvfile:\n",
    "    pwriter = csv.writer(csvfile, delimiter=',')  \n",
    "    with open('datos.csv', 'rt') as csvfile:\n",
    "        reader = csv.reader(csvfile, delimiter=',')\n",
    "        a = 0\n",
    "        b = 0\n",
    "        c = 0\n",
    "        for row in reader:\n",
    "            a = float(row[0])\n",
    "            b = float(row[1])\n",
    "            c = float(row[2])\n",
    "            print (a, b, c)\n",
    "            a *=2\n",
    "            b *=3\n",
    "            c /=5\n",
    "            pwriter.writerow([str(a), str(b), str(c)])\n",
    "        "
   ]
  },
  {
   "cell_type": "code",
   "execution_count": 10,
   "metadata": {
    "collapsed": false
   },
   "outputs": [
    {
     "name": "stdout",
     "output_type": "stream",
     "text": [
      "4 5 6\n",
      "7 8 9\n",
      "12 54 23\n",
      "3 5 1\n",
      "\n",
      " cantidad de filas 4 \n",
      "\n",
      "{'v3': '3.0', 'v1': '8.0', 'v2': '15.0'}\n",
      "{'v3': '4.5', 'v1': '14.0', 'v2': '24.0'}\n",
      "{'v3': '11.5', 'v1': '24.0', 'v2': '162.0'}\n",
      "{'v3': '0.5', 'v1': '6.0', 'v2': '15.0'}\n"
     ]
    }
   ],
   "source": [
    "import csv\n",
    "rows=[]\n",
    "with open('datosdict.csv') as csvfile:\n",
    "    reader = csv.DictReader(csvfile)\n",
    "    for row in reader:\n",
    "        rows.append(row)\n",
    "        print(row['v1'], row['v2'], row['v3'])\n",
    "        \n",
    "print(\"\\n cantidad de filas %d \\n\" % len(rows))\n",
    "        \n",
    "for e in rows:\n",
    "    e['v1'] = str(2*float(e['v1'])) \n",
    "    e['v2'] = str(3*float(e['v2']))\n",
    "    e['v3'] = str(float(e['v3'])/2)\n",
    "    print(e)\n",
    "    \n",
    "# verificar que en rows[] está el\n",
    "# resultado buscado\n",
    "\n",
    "with open('datosdict_p.csv', 'w') as csvfile:\n",
    "    fieldnames = ['v1', 'v2', 'v3']\n",
    "    writer = csv.DictWriter(csvfile, fieldnames=fieldnames)\n",
    "\n",
    "    writer.writeheader()\n",
    "    for e in rows: \n",
    "        writer.writerow(e)\n"
   ]
  },
  {
   "cell_type": "markdown",
   "metadata": {},
   "source": [
    "### Tuplas"
   ]
  },
  {
   "cell_type": "markdown",
   "metadata": {},
   "source": [
    "Es otra estructura de datos, similar a las listas, pero encerrados entre paréntesis (). Las listas no pueden ser alteradas, es por eso que se las considera listas de solo lectura."
   ]
  },
  {
   "cell_type": "code",
   "execution_count": 11,
   "metadata": {
    "collapsed": false
   },
   "outputs": [
    {
     "name": "stdout",
     "output_type": "stream",
     "text": [
      "la lista completa  ('abcd', 786, 2.23, 'john', 70.2)\n",
      "el primer elemento de la lista abcd\n",
      "desde el 2do elemento al tercero (786, 2.23)\n",
      "imprime desde el terce elemento (2.23, 'john', 70.2)\n",
      "la lista 2 veces (123, 'john', 123, 'john')\n",
      "imprime listas concatenadas ('abcd', 786, 2.23, 'john', 70.2, 123, 'john')\n",
      "lista concatenada  ('abcd', 786, 2.23, 'john', 70.2, 'abcd', 786, 2.23, 'john', 70.2)\n"
     ]
    },
    {
     "ename": "TypeError",
     "evalue": "'tuple' object does not support item assignment",
     "output_type": "error",
     "traceback": [
      "\u001b[1;31m---------------------------------------------------------------------------\u001b[0m\n\u001b[1;31mTypeError\u001b[0m                                 Traceback (most recent call last)",
      "\u001b[1;32m<ipython-input-11-307240b6c7f4>\u001b[0m in \u001b[0;36m<module>\u001b[1;34m()\u001b[0m\n\u001b[0;32m     17\u001b[0m \u001b[1;33m\u001b[0m\u001b[0m\n\u001b[0;32m     18\u001b[0m \u001b[1;31m# esto da error\u001b[0m\u001b[1;33m\u001b[0m\u001b[1;33m\u001b[0m\u001b[0m\n\u001b[1;32m---> 19\u001b[1;33m \u001b[0mtuple\u001b[0m \u001b[1;33m[\u001b[0m\u001b[1;36m0\u001b[0m\u001b[1;33m]\u001b[0m \u001b[1;33m=\u001b[0m \u001b[1;34m\"dd\"\u001b[0m\u001b[1;33m\u001b[0m\u001b[0m\n\u001b[0m",
      "\u001b[1;31mTypeError\u001b[0m: 'tuple' object does not support item assignment"
     ]
    }
   ],
   "source": [
    "#!/usr/bin/python\n",
    "\n",
    "tuple = ( 'abcd', 786 , 2.23, 'john', 70.2  )\n",
    "tinytuple = (123, 'john')\n",
    "\n",
    "print (\"la lista completa \", tuple)            \n",
    "print (\"el primer elemento de la lista\", tuple[0])  \n",
    "print (\"desde el 2do elemento al tercero\", tuple[1:3]) \n",
    "print (\"imprime desde el terce elemento\", tuple[2:]) \n",
    "print (\"la lista 2 veces\", tinytuple * 2)   # Prints list two times\n",
    "print (\"imprime listas concatenadas\", tuple + tinytuple) # Prints concatenated lists\n",
    "\n",
    "#concatenación de listas\n",
    "tuple = tuple + tuple\n",
    "\n",
    "print (\"lista concatenada \", tuple)\n",
    "\n",
    "# esto da error\n",
    "tuple [0] = \"dd\""
   ]
  },
  {
   "cell_type": "markdown",
   "metadata": {},
   "source": [
    "### Diccionarios"
   ]
  },
  {
   "cell_type": "markdown",
   "metadata": {},
   "source": [
    "Es una estructura de datos que permite a una clave asignarle un valor. Más información [acá](https://docs.python.org/2/tutorial/datastructures.html#dictionaries) y [acá](http://www.tutorialspoint.com/python/python_dictionary.htm)"
   ]
  },
  {
   "cell_type": "code",
   "execution_count": 22,
   "metadata": {
    "collapsed": false
   },
   "outputs": [
    {
     "name": "stdout",
     "output_type": "stream",
     "text": [
      "el diccionario  {'direccion': 'Av. Gral. Paz 1999', 'nombre': 'Abel'}\n",
      "el valor asociado a la clave Av. Gral. Paz 1999\n",
      "el diccionario  {'direccion': 'Av. Gral. Paz 1999', 'edad': 20, 'nombre': 'Abel'}\n",
      "el diccionario  {'direccion': 'Av. Gral. Paz 1999', 'edad': 25, 'nombre': 'Abel'}\n",
      "el diccionario  {'direccion': 'Av. Gral. Paz 1999', 'nombre': 'Abel'}\n",
      "el diccionario  {'direccion': 'Av. Gral. Paz 1999', 'restaurant': [{'preferencia': 'pizza', 'nombre': '1888'}, {'preferencia': 'bife', 'nombre': 'la esquina'}], 'nombre': 'Abel'}\n"
     ]
    }
   ],
   "source": [
    "dict = {}\n",
    "dict [\"direccion\"] = \"Av. Gral. Paz 1999\"\n",
    "dict [\"nombre\"] = \"Abel\"\n",
    "\n",
    "print (\"el diccionario \", dict)\n",
    "print (\"el valor asociado a la clave\", dict[\"direccion\"])\n",
    "\n",
    "\n",
    "# agregar un par clave-valor.\n",
    "dict [\"edad\"] = 20\n",
    "\n",
    "print (\"el diccionario \", dict)\n",
    "\n",
    "#modificar una clave\n",
    "dict [\"edad\"] = 25\n",
    "print (\"el diccionario \", dict)\n",
    "\n",
    "# borrar una clave\n",
    "del dict [\"edad\"]\n",
    "print (\"el diccionario \", dict)\n",
    "\n",
    "# agregar un dictionario\n",
    "dict [\"restaurant\"] = [{\"nombre\": \"1888\", \"preferencia\": \"pizza\"}, \n",
    "                       {\"nombre\":\"la esquina\", \"preferencia\":\"bife\"}]\n",
    "print (\"el diccionario \", dict)"
   ]
  },
  {
   "cell_type": "markdown",
   "metadata": {},
   "source": [
    "# --------------------------------------------------------------------------- ---------------------------------------------------------------------------"
   ]
  },
  {
   "cell_type": "markdown",
   "metadata": {},
   "source": [
    "# Estructura I: módulos\n",
    "\n",
    "Creamos un archivo en disco: mimodulo.py que tiene una función como la que sigue"
   ]
  },
  {
   "cell_type": "code",
   "execution_count": 7,
   "metadata": {
    "collapsed": false
   },
   "outputs": [],
   "source": [
    "# mimodulo.py\n",
    "def func01 (a,b,c):\n",
    "    return a + b + c"
   ]
  },
  {
   "cell_type": "code",
   "execution_count": 2,
   "metadata": {
    "collapsed": false
   },
   "outputs": [
    {
     "data": {
      "text/plain": [
       "8"
      ]
     },
     "execution_count": 2,
     "metadata": {},
     "output_type": "execute_result"
    }
   ],
   "source": [
    "# Así es como lo usamos en \n",
    "# un programa\n",
    "import mimodulo as mm\n",
    "\n",
    "mm.func01(2,3,3)"
   ]
  },
  {
   "cell_type": "markdown",
   "metadata": {},
   "source": [
    "### NO es recomendable usar\n",
    "\n",
    "Que también funciona, pero puede llevar a colisión\n",
    "de nombres cuando usamos paquetes de distinto origen.\n",
    "No solo con los paquetes propios, también con los ajenos."
   ]
  },
  {
   "cell_type": "code",
   "execution_count": 10,
   "metadata": {
    "collapsed": false
   },
   "outputs": [
    {
     "data": {
      "text/plain": [
       "8"
      ]
     },
     "execution_count": 10,
     "metadata": {},
     "output_type": "execute_result"
    }
   ],
   "source": [
    "from  mimodulo import *\n",
    "\n",
    "func01(2,3,3)"
   ]
  },
  {
   "cell_type": "markdown",
   "metadata": {},
   "source": [
    "## Script  "
   ]
  },
  {
   "cell_type": "code",
   "execution_count": 22,
   "metadata": {
    "collapsed": false
   },
   "outputs": [
    {
     "name": "stdout",
     "output_type": "stream",
     "text": [
      "Esto es una función:  1 2\n",
      "__main__\n",
      "Esto es una función:  string 2\n",
      "__main__\n"
     ]
    }
   ],
   "source": [
    "# -*- coding: utf-8 -*-\n",
    "#!/usr/bin/python\n",
    "\n",
    "# Esto es un comentario\n",
    "\n",
    "# Esto es una función\n",
    "def test(x, s):\n",
    "    #Esto es una indentación\n",
    "    print (\"Esto es una función: \", x, s)\n",
    "\n",
    "# __name__ es una variable especial que contiene el \n",
    "# nombre del módulo\n",
    "if __name__ == \"__main__\":\n",
    "    test(1,2)\n",
    "    test (\"string\",2)"
   ]
  },
  {
   "cell_type": "markdown",
   "metadata": {},
   "source": [
    "## Script  "
   ]
  },
  {
   "cell_type": "code",
   "execution_count": 45,
   "metadata": {
    "collapsed": false
   },
   "outputs": [
    {
     "name": "stdout",
     "output_type": "stream",
     "text": [
      "Hello -f\n",
      "Type something to display its type and value.\n"
     ]
    },
    {
     "ename": "AttributeError",
     "evalue": "'NameError' object has no attribute 'message'",
     "output_type": "error",
     "traceback": [
      "\u001b[1;31m---------------------------------------------------------------------------\u001b[0m\n\u001b[1;31mAttributeError\u001b[0m                            Traceback (most recent call last)",
      "\u001b[1;32m<ipython-input-45-f8991da58dd0>\u001b[0m in \u001b[0;36m<module>\u001b[1;34m()\u001b[0m\n\u001b[0;32m     34\u001b[0m \u001b[1;32mif\u001b[0m \u001b[0m__name__\u001b[0m \u001b[1;33m==\u001b[0m \u001b[1;34m'__main__'\u001b[0m\u001b[1;33m:\u001b[0m\u001b[1;33m\u001b[0m\u001b[0m\n\u001b[0;32m     35\u001b[0m     \u001b[1;31m# sys.exit(main(sys.argv)) # used to give a better look to exists\u001b[0m\u001b[1;33m\u001b[0m\u001b[1;33m\u001b[0m\u001b[0m\n\u001b[1;32m---> 36\u001b[1;33m     \u001b[0mmain\u001b[0m\u001b[1;33m(\u001b[0m\u001b[1;33m)\u001b[0m\u001b[1;33m\u001b[0m\u001b[0m\n\u001b[0m",
      "\u001b[1;32m<ipython-input-45-f8991da58dd0>\u001b[0m in \u001b[0;36mmain\u001b[1;34m()\u001b[0m\n\u001b[0;32m     26\u001b[0m         \u001b[0mprint\u001b[0m \u001b[1;33m(\u001b[0m\u001b[1;34m'User input - type: %s, value: %s'\u001b[0m \u001b[1;33m%\u001b[0m \u001b[1;33m(\u001b[0m\u001b[0mtype\u001b[0m\u001b[1;33m(\u001b[0m\u001b[0muserInput\u001b[0m\u001b[1;33m)\u001b[0m\u001b[1;33m,\u001b[0m \u001b[0muserInput\u001b[0m\u001b[1;33m)\u001b[0m\u001b[1;33m)\u001b[0m\u001b[1;33m\u001b[0m\u001b[0m\n\u001b[0;32m     27\u001b[0m     \u001b[1;32mexcept\u001b[0m \u001b[0mException\u001b[0m \u001b[1;32mas\u001b[0m \u001b[0mex\u001b[0m\u001b[1;33m:\u001b[0m\u001b[1;33m\u001b[0m\u001b[0m\n\u001b[1;32m---> 28\u001b[1;33m         \u001b[0mprint\u001b[0m \u001b[1;33m(\u001b[0m\u001b[0mex\u001b[0m\u001b[1;33m.\u001b[0m\u001b[0mmessage\u001b[0m\u001b[1;33m)\u001b[0m\u001b[1;33m\u001b[0m\u001b[0m\n\u001b[0m\u001b[0;32m     29\u001b[0m         \u001b[1;32mreturn\u001b[0m \u001b[1;36m1\u001b[0m \u001b[1;31m# indicates error, but not necessary\u001b[0m\u001b[1;33m\u001b[0m\u001b[0m\n\u001b[0;32m     30\u001b[0m     \u001b[1;32melse\u001b[0m\u001b[1;33m:\u001b[0m\u001b[1;33m\u001b[0m\u001b[0m\n",
      "\u001b[1;31mAttributeError\u001b[0m: 'NameError' object has no attribute 'message'"
     ]
    }
   ],
   "source": [
    "# -*- coding: utf-8 -*-\n",
    "\n",
    "# Lo anterior nos permite escribir comentarios\n",
    "# con carácteres acentuados o ñ.\n",
    "\n",
    "#!/usr/bin/python\n",
    "\n",
    "\"\"\"\n",
    "Esto es un comentario muy largo\n",
    "donde describimos el objetivo del módulo\n",
    "\n",
    "\"\"\"\n",
    "\n",
    "import sys\n",
    "\n",
    "def main():\n",
    "    try:    \n",
    "        if len(sys.argv) >= 2:\n",
    "            name = sys.argv[1]\n",
    "        else:\n",
    "            name = 'World'\n",
    "        print ('Hello', name)\n",
    "        \n",
    "        print ('Type something to display its type and value.')\n",
    "        userInput = raw_input()\n",
    "        print ('User input - type: %s, value: %s' % (type(userInput), userInput))\n",
    "    except Exception as ex:\n",
    "        print (ex.message)\n",
    "        return 1 # indicates error, but not necessary\n",
    "    else:\n",
    "        return 0 # return 0 # indicates errorlessly exit, but not necessary    \n",
    "    \n",
    "# this is the standard boilerplate that calls the main() function\n",
    "if __name__ == '__main__':\n",
    "    # sys.exit(main(sys.argv)) # used to give a better look to exists\n",
    "    main()"
   ]
  },
  {
   "cell_type": "markdown",
   "metadata": {},
   "source": [
    "# --------------------------------------------------------------------------- ---------------------------------------------------------------------------"
   ]
  },
  {
   "cell_type": "markdown",
   "metadata": {},
   "source": [
    "# Extras \n",
    "## Pithonismo ??!!\n",
    "\n",
    "Se refiere a una forma pithónica de hacer las cosas ???????!!!!"
   ]
  },
  {
   "cell_type": "code",
   "execution_count": 65,
   "metadata": {
    "collapsed": false
   },
   "outputs": [
    {
     "name": "stdout",
     "output_type": "stream",
     "text": [
      "[100, 121, 144, 169, 196]\n",
      "730\n"
     ]
    }
   ],
   "source": [
    "# de http://nbviewer.ipython.org/github/mgaitan/curso-python-cientifico/blob/scipycon/Clase%201.ipynb\n",
    "cuadrados = []\n",
    "for i in range(10,15,1):\n",
    "    cuadrados.append(i**2)\n",
    "print (cuadrados)\n",
    "\n",
    "suma = 0\n",
    "for i in range (0,len(cuadrados)):\n",
    "    suma = suma + cuadrados[i]\n",
    "    \n",
    "print (suma)"
   ]
  },
  {
   "cell_type": "markdown",
   "metadata": {},
   "source": [
    "### listas por comprehensión:"
   ]
  },
  {
   "cell_type": "markdown",
   "metadata": {},
   "source": [
    "Es la forma de python para implementar la notación de conjuntos. Y se sustituye filter, reduce, map. \n",
    "\n",
    "${ \\{ x^2 | \\forall x \\in (10 <= x < 15), x \\in N \\} }$"
   ]
  },
  {
   "cell_type": "code",
   "execution_count": 63,
   "metadata": {
    "collapsed": false
   },
   "outputs": [
    {
     "name": "stdout",
     "output_type": "stream",
     "text": [
      "[100, 121, 144, 169, 196]\n",
      "730\n"
     ]
    }
   ],
   "source": [
    "cuadrados = [i**2 for i in range(10,15,1)]\n",
    "print (cuadrados)\n",
    "print (sum(cuadrados))"
   ]
  },
  {
   "cell_type": "code",
   "execution_count": 64,
   "metadata": {
    "collapsed": false
   },
   "outputs": [
    {
     "data": {
      "text/plain": [
       "730"
      ]
     },
     "execution_count": 64,
     "metadata": {},
     "output_type": "execute_result"
    }
   ],
   "source": [
    "sum([i**2 for i in range(10,15,1)])"
   ]
  },
  {
   "cell_type": "code",
   "execution_count": 67,
   "metadata": {
    "collapsed": false
   },
   "outputs": [
    {
     "name": "stdout",
     "output_type": "stream",
     "text": [
      "[('red', 'house'), ('red', 'car'), ('red', 'tree'), ('green', 'house'), ('green', 'car'), ('green', 'tree'), ('yellow', 'house'), ('yellow', 'car'), ('yellow', 'tree'), ('blue', 'house'), ('blue', 'car'), ('blue', 'tree')]\n"
     ]
    }
   ],
   "source": [
    "colours = [ \"red\", \"green\", \"yellow\", \"blue\" ]\n",
    "things = [ \"house\", \"car\", \"tree\" ]\n",
    "coloured_things = [ (x,y) for x in colours for y in things ]\n",
    "print (coloured_things)\n",
    " "
   ]
  },
  {
   "cell_type": "markdown",
   "metadata": {},
   "source": [
    "### Ejercicio\n",
    "\n",
    "Llegados a este punto, podemos intentar dar una explicación de que y como hace las \n",
    "cosas este pedazo de código."
   ]
  },
  {
   "cell_type": "code",
   "execution_count": 2,
   "metadata": {
    "collapsed": false
   },
   "outputs": [
    {
     "name": "stdout",
     "output_type": "stream",
     "text": [
      "uid=sa;pwd=secret;server=mpilgrim;database=master\n"
     ]
    }
   ],
   "source": [
    "def buildConnectionString(params):\n",
    "    \"\"\"Build a connection string from a dictionary of parameters.\n",
    "    Returns string.\"\"\"\n",
    "    return \";\".join([\"%s=%s\" % (k, v) for k, v in params.items()])\n",
    "\n",
    "\n",
    "if __name__ == \"__main__\":\n",
    "    myParams = {\"server\":\"mpilgrim\", \\\n",
    "                \"database\":\"master\", \\\n",
    "                \"uid\":\"sa\", \\\n",
    "                \"pwd\":\"secret\" \\\n",
    "                }\n",
    "    print (buildConnectionString(myParams))"
   ]
  },
  {
   "cell_type": "markdown",
   "metadata": {},
   "source": [
    "## Generador: yield\n",
    "\n",
    "Con ellos tenemos la posibilidad de crear iteradores, se parecen a las funciones pero son sintáctica y semánticamente diferentes. Y se pueden considerar como funciones con ejecución diferida. Más información [acá](http://www.python-course.eu/generators.php)\n"
   ]
  },
  {
   "cell_type": "code",
   "execution_count": 4,
   "metadata": {
    "collapsed": false
   },
   "outputs": [],
   "source": [
    "def count (n):\n",
    "  print (\"starting count\")\n",
    "  i = 0\n",
    "  while i < n:\n",
    "    yield {\"a\":i}\n",
    "    i += 1\n",
    "  return\n",
    "\n",
    "def countdown(n):\n",
    "  print (\"starting countdown\")  \n",
    "  while n > 0:\n",
    "   yield n\n",
    "   n -= 1"
   ]
  },
  {
   "cell_type": "code",
   "execution_count": 5,
   "metadata": {
    "collapsed": false
   },
   "outputs": [
    {
     "name": "stdout",
     "output_type": "stream",
     "text": [
      "<generator object count at 0xb2ad40f4>\n"
     ]
    }
   ],
   "source": [
    "# creación de un generador\n",
    "# se llama como una función y retorna un iterador\n",
    "# el código no se ejecuta en esta etapa\n",
    "c = count(5)\n",
    "# imprime un generador \n",
    "print (c)"
   ]
  },
  {
   "cell_type": "code",
   "execution_count": 6,
   "metadata": {
    "collapsed": false
   },
   "outputs": [
    {
     "name": "stdout",
     "output_type": "stream",
     "text": [
      "starting count\n",
      "{'a': 0}\n",
      "{'a': 1}\n",
      "{'a': 2}\n",
      "{'a': 3}\n",
      "{'a': 4}\n"
     ]
    }
   ],
   "source": [
    "# el iterador puede ser usado con la función next()\n",
    "# la primera vez la ejecución comienza como en una función \n",
    "# y el código se ejecuta hasta el 1er yield\n",
    "#\n",
    "# yield retorna el valor de la expresión, se recuerda la posición y el estado.\n",
    "# en la próxima llamada la ejecución sigue hasta que se encuentra un nuevo yield\n",
    "#\n",
    "# se finaliza el iterador luego de ejecutar todos los yields o encontrar un return \n",
    "for i in c:\n",
    "    print (i)"
   ]
  },
  {
   "cell_type": "code",
   "execution_count": 7,
   "metadata": {
    "collapsed": false
   },
   "outputs": [
    {
     "ename": "StopIteration",
     "evalue": "",
     "output_type": "error",
     "traceback": [
      "\u001b[1;31m---------------------------------------------------------------------------\u001b[0m\n\u001b[1;31mStopIteration\u001b[0m                             Traceback (most recent call last)",
      "\u001b[1;32m<ipython-input-7-73b012f9653f>\u001b[0m in \u001b[0;36m<module>\u001b[1;34m()\u001b[0m\n\u001b[1;32m----> 1\u001b[1;33m \u001b[0mnext\u001b[0m\u001b[1;33m(\u001b[0m\u001b[0mc\u001b[0m\u001b[1;33m)\u001b[0m\u001b[1;33m\u001b[0m\u001b[0m\n\u001b[0m",
      "\u001b[1;31mStopIteration\u001b[0m: "
     ]
    }
   ],
   "source": [
    "# error: el generador llegó a su último elemento\n",
    "next(c)"
   ]
  },
  {
   "cell_type": "code",
   "execution_count": 8,
   "metadata": {
    "collapsed": false
   },
   "outputs": [
    {
     "name": "stdout",
     "output_type": "stream",
     "text": [
      "<generator object countdown at 0xb635f6e4>\n",
      "starting countdown\n",
      "5\n",
      "4\n",
      "3\n",
      "2\n",
      "1\n"
     ]
    }
   ],
   "source": [
    "d = countdown(5)\n",
    "print (d)\n",
    "for k in d:\n",
    "    print (k)"
   ]
  },
  {
   "cell_type": "markdown",
   "metadata": {},
   "source": [
    "## Operador lambda"
   ]
  },
  {
   "cell_type": "code",
   "execution_count": 1,
   "metadata": {
    "collapsed": false
   },
   "outputs": [
    {
     "name": "stdout",
     "output_type": "stream",
     "text": [
      "El valor de la suma 30\n",
      "El valor de la suma 30\n"
     ]
    }
   ],
   "source": [
    "# defino una  función lambda\n",
    "misuma = lambda arg1, arg2: arg1 + arg2\n",
    "# son equivalentes\n",
    "def suma (arg1, arg2):\n",
    "    return (arg1+ arg2)\n",
    "\n",
    "# llamo a la función\n",
    "print (\"El valor de la suma\", misuma(20,10))\n",
    "print (\"El valor de la suma\", suma(20,10))"
   ]
  },
  {
   "cell_type": "markdown",
   "metadata": {},
   "source": [
    "## Función map, r = map(func, seq)"
   ]
  },
  {
   "cell_type": "code",
   "execution_count": 26,
   "metadata": {
    "collapsed": false
   },
   "outputs": [
    {
     "name": "stdout",
     "output_type": "stream",
     "text": [
      "[]\n",
      "[36.5, 37.00000000000001, 37.5, 39.0]\n"
     ]
    }
   ],
   "source": [
    "def fahrenheit(T):\n",
    "    return ((float(9)/5)*T + 32)\n",
    "\n",
    "def celsius(T):\n",
    "    return (float(5)/9)*(T-32)\n",
    "\n",
    "temp = (36.5, 37, 37.5,39)\n",
    "\n",
    "# entra una lista, sale una lista\n",
    "F = map(fahrenheit, temp)\n",
    "C = map(celsius, F)\n",
    "\n",
    "print (list(F))\n",
    "print (list(C))"
   ]
  },
  {
   "cell_type": "markdown",
   "metadata": {},
   "source": [
    "### Con el operador lambda"
   ]
  },
  {
   "cell_type": "code",
   "execution_count": 32,
   "metadata": {
    "collapsed": false
   },
   "outputs": [
    {
     "name": "stdout",
     "output_type": "stream",
     "text": [
      "[102.56, 97.7, 99.14, 100.03999999999999]\n",
      "[]\n"
     ]
    }
   ],
   "source": [
    "Celsius = [39.2, 36.5, 37.3, 37.8]\n",
    "Fahrenheit = map(lambda x: (float(9)/5)*x + 32, Celsius)\n",
    "print (list(Fahrenheit))\n",
    "\n",
    "C = map(lambda x: (float(5)/9)*(x-32), Fahrenheit)\n",
    "print (list(C))"
   ]
  },
  {
   "cell_type": "code",
   "execution_count": 38,
   "metadata": {
    "collapsed": false
   },
   "outputs": [
    {
     "name": "stdout",
     "output_type": "stream",
     "text": [
      "[18, 14, 14, 14]\n",
      "[19, 18, 9, 5]\n"
     ]
    }
   ],
   "source": [
    "a = [1,2,3,4]\n",
    "b = [17,12,11,10]\n",
    "c = [-1,-4,5,9]\n",
    "d=map(lambda x,y:x+y, a,b)\n",
    "print (list(d))\n",
    "\n",
    "print (list(map(lambda x,y,z:x+y-z, a,b,c)))\n",
    "\n"
   ]
  },
  {
   "cell_type": "markdown",
   "metadata": {},
   "source": [
    "### Función filter ()\n",
    "\n",
    "Filtra a todos los elementos para los que la función lambda retorna True"
   ]
  },
  {
   "cell_type": "code",
   "execution_count": 55,
   "metadata": {
    "collapsed": false
   },
   "outputs": [
    {
     "name": "stdout",
     "output_type": "stream",
     "text": [
      "[1, 1, 3, 5, 13, 21, 55]\n",
      "[0, 2, 8, 34]\n"
     ]
    }
   ],
   "source": [
    "fib = [0,1,1,2,3,5,8,13,21,34,55]\n",
    "result = filter(lambda x: x % 2, fib)\n",
    "print (list(result))\n",
    "result = filter(lambda x: x % 2 == 0, fib)\n",
    "print (list(result))\n",
    " "
   ]
  },
  {
   "cell_type": "markdown",
   "metadata": {},
   "source": [
    "### Función reduce ()"
   ]
  },
  {
   "cell_type": "code",
   "execution_count": 80,
   "metadata": {
    "collapsed": false
   },
   "outputs": [
    {
     "data": {
      "image/png": "[encoded data removed]",
      "text/plain": [
       "<IPython.core.display.Image at 0xb2af986c>"
      ]
     },
     "execution_count": 80,
     "metadata": {},
     "output_type": "execute_result"
    }
   ],
   "source": [
    "Image(filename='reduce_diagram.png')"
   ]
  },
  {
   "cell_type": "code",
   "execution_count": 62,
   "metadata": {
    "collapsed": false
   },
   "outputs": [
    {
     "data": {
      "text/plain": [
       "113"
      ]
     },
     "execution_count": 62,
     "metadata": {},
     "output_type": "execute_result"
    }
   ],
   "source": [
    "import functools as ft\n",
    "\n",
    "ft.reduce(lambda x,y: x+y, [47,11,42,13])"
   ]
  }
 ],
 "metadata": {
  "kernelspec": {
   "display_name": "Python 3",
   "language": "python",
   "name": "python3"
  },
  "language_info": {
   "codemirror_mode": {
    "name": "ipython",
    "version": 3
   },
   "file_extension": ".py",
   "mimetype": "text/x-python",
   "name": "python",
   "nbconvert_exporter": "python",
   "pygments_lexer": "ipython3",
   "version": "3.4.3"
  }
 },
 "nbformat": 4,
 "nbformat_minor": 0
}
