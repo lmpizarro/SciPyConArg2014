{
 "metadata": {
  "name": "",
  "signature": "sha256:7ff173689c5bf0f8f940ee87ae1f04509a442734633e83f5721465f1f5fec320"
 },
 "nbformat": 3,
 "nbformat_minor": 0,
 "worksheets": [
  {
   "cells": [
    {
     "cell_type": "markdown",
     "metadata": {},
     "source": [
      "## El m\u00e9todo Crank-Nicolson\n",
      "\n",
      "Basado en las [notas](http://georg.io/2013/12/Crank_Nicolson/) de Georg R Walther\n",
      "\n",
      "Otras referencias [Wikipedia](http://en.wikipedia.org/wiki/Crank%E2%80%93Nicolson_method)"
     ]
    },
    {
     "cell_type": "markdown",
     "metadata": {},
     "source": [
      "\n",
      " \n",
      "### La ecuaci\u00f3n de difusi\u00f3n\n",
      "\n",
      "### $$ \\frac {\\partial u} {\\partial t} = D \\frac {\\partial^2 u} {\\partial^2 x} + f(u)$$ \n",
      "$$$$\n",
      "\n",
      "### Discretizaci\u00f3n temporal\n",
      "\n",
      "###  $$t_{n} = n \\Delta t, n = 0, ... , N_{t} - 1 $$\n",
      "$$$$\n",
      "\n",
      "### Discretizaci\u00f3n espacial\n",
      "\n",
      "\n",
      "### $$x_{j} = j \\Delta x, n = 0, ... , N_{x} - 1 $$\n",
      "$$$$\n",
      "### Paso temporal\n",
      "### $$ \\Delta t = T/(N_{t} -1) $$\n",
      "$$$$\n",
      "### Paso espacial\n",
      "### $$ \\Delta x = L /(N_{x} - 1)$$\n",
      "$$$$\n",
      "\n",
      "### Aproximaci\u00f3n de la primera derivada parcial temporal\n",
      "### $$ \\frac {\\partial u} {\\partial t}\\Bigg | _{t=n \\Delta t,x=j \\Delta x} \\approx \\frac {U_{j}^{n+1} - U_{j}^{n} } {\\Delta t}$$\n",
      "$$$$\n",
      "\n",
      "### Aproximaci\u00f3n de la segunda derivada parcial espacial\n",
      "### $$ \\frac {\\partial^2 u} {\\partial^2 x} \\Bigg | _{t=n \\Delta t,x=j \\Delta x}  \\approx \\frac {1}{2 \\Delta x ^2} (U_{j+1}^{n} - 2U_{j}^{n} + U_{j-1}^{n} + U_{j+1}^{n+1} - 2U_{j}^{n+1} + U_{j-1}^{n-1})$$\n",
      "$$$$\n",
      "\n",
      "### Aproximaci\u00f3n de $f(u)$\n",
      "### $$ f(u(j \\Delta x,n \\Delta t ))  \\approx f(U_{j}^{n})$$\n",
      "$$$$\n",
      "### Sustituyendo:\n",
      "### $$ \\frac {U_{j}^{n+1} - U_{j}^{n} } {\\Delta t} = \\frac {D}{2 \\Delta x ^2} (U_{j+1}^{n} - 2U_{j}^{n} + U_{j-1}^{n} + U_{j+1}^{n+1} - 2U_{j}^{n+1} + U_{j-1}^{n-1}) + f(U_{j}^{n}) $$\n"
     ]
    },
    {
     "cell_type": "markdown",
     "metadata": {},
     "source": [
      "\n",
      "#### $L$ es la longitud del dominio espacial unidimensional, $T$    es la duraci\u00f3n de la simulaci\u00f3n, $D$ es el coeficiente de difusion, $u$ es la concentraci\u00f3n, $x$ es la variable espacial, $f$ es el t\u00e9rmino de reacci\u00f3n\n"
     ]
    },
    {
     "cell_type": "markdown",
     "metadata": {},
     "source": [
      "## Condiciones de borde\n",
      "\n",
      "### $$\\frac {\\partial u}{\\partial x } \\bigg|_{x=0} = 0$$ \n",
      "\n",
      "### $$\\frac {\\partial u}{\\partial x } \\bigg|_{x=L} = 0$$ \n",
      "\n",
      "#### Para $j = 0 $ con las identidades $U_0^n = U_{-1}^n$ y $U_0^{n+1} = U_{-1}^{n+1}$ , y para  $j=J-1$ con las identidades  $U_{J-1}^n = U_J^n$ y  $U_{J-1}^{n+1} = U_J^{n+1}$.\n",
      "\n",
      " "
     ]
    },
    {
     "cell_type": "markdown",
     "metadata": {},
     "source": [
      "$ \\begin{bmatrix}\n",
      "  a & b & c \\\\\n",
      "  d & e & f \\\\\n",
      "  g & h & i\n",
      " \\end{bmatrix} = \\begin{bmatrix}\n",
      "  a & b & c \\\\\n",
      "  d & e & f \\\\\n",
      "  g & h & i\n",
      " \\end{bmatrix} $"
     ]
    },
    {
     "cell_type": "code",
     "collapsed": false,
     "input": [
      "Nt = 1000\n",
      "Nx = 1000\n",
      "T = 10 # horas\n",
      "L = 5 # mm\n",
      "Dt = float (T) /float(Nt -1)\n",
      "Dx = float (L) /float(Nx -1)"
     ],
     "language": "python",
     "metadata": {},
     "outputs": [],
     "prompt_number": 53
    },
    {
     "cell_type": "code",
     "collapsed": false,
     "input": [
      "Dt, Dx"
     ],
     "language": "python",
     "metadata": {},
     "outputs": [
      {
       "metadata": {},
       "output_type": "pyout",
       "prompt_number": 54,
       "text": [
        "(0.01001001001001001, 0.005005005005005005)"
       ]
      }
     ],
     "prompt_number": 54
    },
    {
     "cell_type": "markdown",
     "metadata": {},
     "source": [
      "How to discretize the advection equation using the Crank-Nicolson method? link [stackexchange](http://scicomp.stackexchange.com/questions/7399/how-to-discretize-the-advection-equation-using-the-crank-nicolson-method)"
     ]
    },
    {
     "cell_type": "code",
     "collapsed": false,
     "input": [
      "from __future__ import division\n",
      "from scipy.sparse import spdiags\n",
      "from scipy.sparse.linalg import spsolve\n",
      "import numpy as np\n",
      "import pylab\n",
      "\n",
      "def make_advection_matrices(z, r):\n",
      "    \"\"\"Return matrices A and M for advection equations\"\"\"\n",
      "    ones = np.ones(len(z))\n",
      "    A = spdiags( [-beta*r, ones, beta*r], (-1,0,1), len(z), len(z) )\n",
      "    M = spdiags( [(1-beta) * r, ones, -(1-beta) * r], (-1,0,1), len(z), len(z) )\n",
      "    return A.tocsr(), M.tocsr()\n",
      "\n",
      "def plot_iteration(z, u, iteration):\n",
      "    \"\"\"Plot the solver progress\"\"\"\n",
      "    pylab.plot(z, u, label=\"Iteration %d\" % iteration)\n",
      "\n",
      "# Set up basic constants\n",
      "beta = 0.5\n",
      "J = 200 # total number of mesh points\n",
      "z = np.linspace(-10,10,J) # vertices\n",
      "dz = abs(z[1]-z[0]) # space step\n",
      "dt = 0.2    # time step\n",
      "v = 2 * np.ones(len(z)) # velocity field (constant)\n",
      "r = v / 2 * dt / dz\n",
      "\n",
      "# Initial conditions (peak function)\n",
      "gaussian = lambda z, height, position, hwhm: height * np.exp(-np.log(2) * ((z - position)/hwhm)**2)\n",
      "u_init = gaussian(z, 1, -3, 2)\n",
      "\n",
      "A, M = make_advection_matrices(z, r)\n",
      "u = u_init\n",
      "for i in range(10):\n",
      "    u = spsolve(A, M * u)\n",
      "    plot_iteration(z, u, i)\n",
      "\n",
      "pylab.legend()\n",
      "pylab.show()\n",
      "\n",
      " "
     ],
     "language": "python",
     "metadata": {},
     "outputs": [],
     "prompt_number": 99
    }
   ],
   "metadata": {}
  }
 ]
}