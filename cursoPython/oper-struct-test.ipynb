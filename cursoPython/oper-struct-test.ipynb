{
 "metadata": {
  "name": "",
  "signature": "sha256:931321569e22b3252f0a22847c9680420b43f054f488cb2ba2f7f0d092eeca00"
 },
 "nbformat": 3,
 "nbformat_minor": 0,
 "worksheets": [
  {
   "cells": [
    {
     "cell_type": "markdown",
     "metadata": {},
     "source": [
      "#### Uso de nombres significativos de las variables"
     ]
    },
    {
     "cell_type": "code",
     "collapsed": false,
     "input": [
      "\n",
      "este_es_el_nombre_de_una_variable = 0\n",
      "esteEsElNombreDeUnaVariable = este_es_el_nombre_de_una_variable\n",
      "este_es_el_nombre_de_una_variable = este_es_el_nombre_de_una_variable  + 1\n",
      "\n",
      "nivel_liquido_tanque_AA = 0\n",
      "nivel_liquido_tanque_BB = 0\n",
      "\n",
      "n_l_t_AA = 0"
     ],
     "language": "python",
     "metadata": {},
     "outputs": [],
     "prompt_number": 6
    },
    {
     "cell_type": "code",
     "collapsed": false,
     "input": [
      "este_es_el_nombre_de_una_variable += 1"
     ],
     "language": "python",
     "metadata": {},
     "outputs": [],
     "prompt_number": 3
    },
    {
     "cell_type": "code",
     "collapsed": false,
     "input": [
      "print (este_es_el_nombre_de_una_variable )"
     ],
     "language": "python",
     "metadata": {},
     "outputs": [
      {
       "output_type": "stream",
       "stream": "stdout",
       "text": [
        "2\n"
       ]
      }
     ],
     "prompt_number": 5
    },
    {
     "cell_type": "code",
     "collapsed": false,
     "input": [
      "# Asigno a q un entero\n",
      "q = 7\n",
      "print (q)\n",
      "\n",
      "# Asigno a q un string\n",
      "\n",
      "q = \"python\"\n",
      "print (q)"
     ],
     "language": "python",
     "metadata": {},
     "outputs": [
      {
       "output_type": "stream",
       "stream": "stdout",
       "text": [
        "7\n",
        "python\n"
       ]
      }
     ],
     "prompt_number": 9
    },
    {
     "cell_type": "code",
     "collapsed": false,
     "input": [
      "# Esto va a dar un error\n",
      "\n",
      "q = 8\n",
      "z = \"python\"\n",
      "a = q + z"
     ],
     "language": "python",
     "metadata": {},
     "outputs": [
      {
       "ename": "TypeError",
       "evalue": "unsupported operand type(s) for +: 'int' and 'str'",
       "output_type": "pyerr",
       "traceback": [
        "\u001b[1;31m---------------------------------------------------------------------------\u001b[0m\n\u001b[1;31mTypeError\u001b[0m                                 Traceback (most recent call last)",
        "\u001b[1;32m<ipython-input-10-4626c05d59c2>\u001b[0m in \u001b[0;36m<module>\u001b[1;34m()\u001b[0m\n\u001b[0;32m      3\u001b[0m \u001b[0mq\u001b[0m \u001b[1;33m=\u001b[0m \u001b[1;36m8\u001b[0m\u001b[1;33m\u001b[0m\u001b[0m\n\u001b[0;32m      4\u001b[0m \u001b[0mz\u001b[0m \u001b[1;33m=\u001b[0m \u001b[1;34m\"python\"\u001b[0m\u001b[1;33m\u001b[0m\u001b[0m\n\u001b[1;32m----> 5\u001b[1;33m \u001b[0ma\u001b[0m \u001b[1;33m=\u001b[0m \u001b[0mq\u001b[0m \u001b[1;33m+\u001b[0m \u001b[0mz\u001b[0m\u001b[1;33m\u001b[0m\u001b[0m\n\u001b[0m",
        "\u001b[1;31mTypeError\u001b[0m: unsupported operand type(s) for +: 'int' and 'str'"
       ]
      }
     ],
     "prompt_number": 10
    },
    {
     "cell_type": "code",
     "collapsed": false,
     "input": [
      "# Pero esto no da error\n",
      "# uso de la funci\u00f3n propia de python str()\n",
      "# funci\u00f3n propia, quiere decir que est\u00e1 en el \n",
      "# paquete b\u00e1sico de python\n",
      "a = str(q) + z\n",
      "print (a)"
     ],
     "language": "python",
     "metadata": {},
     "outputs": [
      {
       "output_type": "stream",
       "stream": "stdout",
       "text": [
        "8python\n"
       ]
      }
     ],
     "prompt_number": 14
    },
    {
     "cell_type": "markdown",
     "metadata": {},
     "source": [
      "#### Operadores para cadenas de caracteres o string"
     ]
    },
    {
     "cell_type": "markdown",
     "metadata": {},
     "source": [
      "Operador Suma y Operador repetici\u00f3n"
     ]
    },
    {
     "cell_type": "code",
     "collapsed": false,
     "input": [
      "# operador suma\n",
      "a = \"hola\"\n",
      "b = \"mundo\"\n",
      "c = \" \"\n",
      "d = a + c + b\n",
      "print (d)"
     ],
     "language": "python",
     "metadata": {},
     "outputs": [
      {
       "output_type": "stream",
       "stream": "stdout",
       "text": [
        "hola mundo\n"
       ]
      }
     ],
     "prompt_number": 15
    },
    {
     "cell_type": "code",
     "collapsed": false,
     "input": [
      "# operador repetici\u00f3n\n",
      "a = \"Z\"\n",
      "c = 5*a\n",
      "print (c) # nos dormimos"
     ],
     "language": "python",
     "metadata": {},
     "outputs": [
      {
       "output_type": "stream",
       "stream": "stdout",
       "text": [
        "ZZZZZ\n"
       ]
      }
     ],
     "prompt_number": 17
    },
    {
     "cell_type": "markdown",
     "metadata": {},
     "source": [
      "### Operadores simplificados / shortcuts"
     ]
    },
    {
     "cell_type": "code",
     "collapsed": false,
     "input": [
      "m = 2\n",
      "n = 3\n",
      "# asignamos a m el valor de la suma m + n\n",
      "m = m + n\n",
      "print (m)\n",
      "# operador reducido para la adici\u00f3n\n",
      "m += n\n",
      "print (m)\n",
      "# operador reducido para la resta\n",
      "m -= n\n",
      "print (m)\n",
      "# operador reducido para la multiplicaci\u00f3n\n",
      "m *= n\n",
      "print (m)\n",
      "# operador reducido para la divisi\u00f3n\n",
      "# el resultado depende de la versi\u00f3n de python\n",
      "# que se use. \n",
      "m /= n\n",
      "print (m)\n",
      "m //= n ## divisi\u00f3n entera\n",
      "print (m)\n",
      "m %= n  ##\n",
      "print (m)"
     ],
     "language": "python",
     "metadata": {},
     "outputs": [
      {
       "output_type": "stream",
       "stream": "stdout",
       "text": [
        "5\n",
        "8\n",
        "5\n",
        "15\n",
        "5.0\n",
        "1.0\n",
        "1.0\n"
       ]
      }
     ],
     "prompt_number": 28
    },
    {
     "cell_type": "markdown",
     "metadata": {},
     "source": [
      "## Operadores como funciones [link](https://docs.python.org/2/library/operator.html#module-operator)"
     ]
    },
    {
     "cell_type": "code",
     "collapsed": false,
     "input": [
      "# los operadores se pueden usar como funciones\n",
      "import operator as op\n",
      "op.mul(2,5)"
     ],
     "language": "python",
     "metadata": {},
     "outputs": [
      {
       "metadata": {},
       "output_type": "pyout",
       "prompt_number": 37,
       "text": [
        "10"
       ]
      }
     ],
     "prompt_number": 37
    },
    {
     "cell_type": "markdown",
     "metadata": {},
     "source": [
      "## Otros tipos de colecciones\n",
      "\n",
      "### Hasta ahora: listas, diccionarios, tuplas\n",
      "#### Recordemos"
     ]
    },
    {
     "cell_type": "code",
     "collapsed": false,
     "input": [
      "lista = [] # corchetes\n",
      "lista1 = [1,2,3,4]\n",
      "lista1.append (\"q\")\n",
      "\n",
      "print (lista1)\n",
      "print (lista1[1:2])\n",
      "print (lista1[1:])\n",
      "print (lista1[:4])\n",
      "print (lista1[:-2])\n",
      "print (lista1[-2:]) # equivalentes \u00bfC\u00f3mo es esto?\n",
      "print (lista1[3:])\n",
      "print (lista[-1]) # pero esto produce error"
     ],
     "language": "python",
     "metadata": {},
     "outputs": [
      {
       "output_type": "stream",
       "stream": "stdout",
       "text": [
        "[1, 2, 3, 4, 'q']\n",
        "[2]\n",
        "[2, 3, 4, 'q']\n",
        "[1, 2, 3, 4]\n",
        "[1, 2, 3]\n",
        "[4, 'q']\n",
        "[4, 'q']\n"
       ]
      },
      {
       "ename": "IndexError",
       "evalue": "list index out of range",
       "output_type": "pyerr",
       "traceback": [
        "\u001b[1;31m---------------------------------------------------------------------------\u001b[0m\n\u001b[1;31mIndexError\u001b[0m                                Traceback (most recent call last)",
        "\u001b[1;32m<ipython-input-53-f15d91f57f4f>\u001b[0m in \u001b[0;36m<module>\u001b[1;34m()\u001b[0m\n\u001b[0;32m     10\u001b[0m \u001b[0mprint\u001b[0m \u001b[1;33m(\u001b[0m\u001b[0mlista1\u001b[0m\u001b[1;33m[\u001b[0m\u001b[1;33m-\u001b[0m\u001b[1;36m2\u001b[0m\u001b[1;33m:\u001b[0m\u001b[1;33m]\u001b[0m\u001b[1;33m)\u001b[0m \u001b[1;31m# equivalentes \u00bfC\u00f3mo es esto?\u001b[0m\u001b[1;33m\u001b[0m\u001b[0m\n\u001b[0;32m     11\u001b[0m \u001b[0mprint\u001b[0m \u001b[1;33m(\u001b[0m\u001b[0mlista1\u001b[0m\u001b[1;33m[\u001b[0m\u001b[1;36m3\u001b[0m\u001b[1;33m:\u001b[0m\u001b[1;33m]\u001b[0m\u001b[1;33m)\u001b[0m\u001b[1;33m\u001b[0m\u001b[0m\n\u001b[1;32m---> 12\u001b[1;33m \u001b[0mprint\u001b[0m \u001b[1;33m(\u001b[0m\u001b[0mlista\u001b[0m\u001b[1;33m[\u001b[0m\u001b[1;33m-\u001b[0m\u001b[1;36m1\u001b[0m\u001b[1;33m]\u001b[0m\u001b[1;33m)\u001b[0m \u001b[1;31m# pero esto produce error\u001b[0m\u001b[1;33m\u001b[0m\u001b[0m\n\u001b[0m",
        "\u001b[1;31mIndexError\u001b[0m: list index out of range"
       ]
      }
     ],
     "prompt_number": 53
    },
    {
     "cell_type": "markdown",
     "metadata": {},
     "source": [
      "### Tablas "
     ]
    },
    {
     "cell_type": "code",
     "collapsed": false,
     "input": [
      "tabla = []\n",
      "fila1 = [1, 3, 2]\n",
      "fila2 = ['q', 'w', 'e']\n",
      "tabla.append(fila1)\n",
      "tabla.append(fila2)\n",
      "\n",
      "print(tabla)\n",
      "print(tabla[0]) # primera fila, recordar que se empieza en cero\n",
      "print(tabla[1]) # segunda fila\n",
      "print(tabla[0][0])"
     ],
     "language": "python",
     "metadata": {},
     "outputs": [
      {
       "output_type": "stream",
       "stream": "stdout",
       "text": [
        "[[1, 3, 2], ['q', 'w', 'e']]\n",
        "[1, 3, 2]\n",
        "['q', 'w', 'e']\n",
        "1\n"
       ]
      }
     ],
     "prompt_number": 58
    },
    {
     "cell_type": "code",
     "collapsed": false,
     "input": [
      "# accediendo a todos\n",
      "for fila in tabla:\n",
      "    for e in fila:\n",
      "        print (e)"
     ],
     "language": "python",
     "metadata": {},
     "outputs": [
      {
       "output_type": "stream",
       "stream": "stdout",
       "text": [
        "1\n",
        "3\n",
        "2\n",
        "q\n",
        "w\n",
        "e\n"
       ]
      }
     ],
     "prompt_number": 60
    },
    {
     "cell_type": "code",
     "collapsed": false,
     "input": [
      "# accediendo a todos y a los \u00edndices\n",
      "for i, fila in enumerate (tabla):\n",
      "    for j, e in enumerate(fila):\n",
      "        print (i, \" \", j, \" \", e)"
     ],
     "language": "python",
     "metadata": {},
     "outputs": [
      {
       "output_type": "stream",
       "stream": "stdout",
       "text": [
        "0   0   1\n",
        "0   1   3\n",
        "0   2   2\n",
        "1   0   q\n",
        "1   1   w\n",
        "1   2   e\n"
       ]
      }
     ],
     "prompt_number": 62
    },
    {
     "cell_type": "code",
     "collapsed": false,
     "input": [
      "del(tabla[0]) ## borrando filas de la tabla\n",
      "print (tabla)"
     ],
     "language": "python",
     "metadata": {},
     "outputs": [
      {
       "output_type": "stream",
       "stream": "stdout",
       "text": [
        "[['q', 'w', 'e']]\n"
       ]
      }
     ],
     "prompt_number": 70
    },
    {
     "cell_type": "code",
     "collapsed": false,
     "input": [
      "# concatenar listas\n",
      "l1 = [1, 2]\n",
      "l2 = [3, 4,5]\n",
      "\n",
      "l3 = l1 + l2\n",
      "print (l3)\n",
      "l3 = l1 + tabla\n",
      "print (l3)"
     ],
     "language": "python",
     "metadata": {},
     "outputs": [
      {
       "output_type": "stream",
       "stream": "stdout",
       "text": [
        "[1, 2, 3, 4, 5]\n",
        "[1, 2, ['q', 'w', 'e']]\n"
       ]
      }
     ],
     "prompt_number": 71
    },
    {
     "cell_type": "code",
     "collapsed": false,
     "input": [
      "fila1 = [1, 3, 2]\n",
      "tabla.append(fila1)\n",
      "print(tabla)\n",
      "l3 = l1 + tabla\n",
      "print (l3)\n",
      "#operador de repetici\u00f3n\n",
      "l3 = l3 * 2\n",
      "print (l3)"
     ],
     "language": "python",
     "metadata": {},
     "outputs": [
      {
       "output_type": "stream",
       "stream": "stdout",
       "text": [
        "[['q', 'w', 'e'], [1, 3, 2], [1, 3, 2]]\n",
        "[1, 2, ['q', 'w', 'e'], [1, 3, 2], [1, 3, 2]]\n",
        "[1, 2, ['q', 'w', 'e'], [1, 3, 2], [1, 3, 2], 1, 2, ['q', 'w', 'e'], [1, 3, 2], [1, 3, 2]]\n"
       ]
      }
     ],
     "prompt_number": 73
    },
    {
     "cell_type": "markdown",
     "metadata": {},
     "source": [
      "## Diccionarios o hashes\n",
      "\n",
      "Son estructuras que a una clave, asignan un valor.\n"
     ]
    },
    {
     "cell_type": "code",
     "collapsed": false,
     "input": [
      "a = {} # declaraci\u00f3n  de un diccionario\n",
      "a[\"nombre_var\"] = \"vlx_01\"\n",
      "a[\"val\"] = 10\n",
      "print (a)\n",
      "b = a \n",
      "b[\"nombre_var\"] = \"vlx_02\"\n",
      "b[\"val\"] = 11\n",
      "print (b)\n",
      "c ={\"v1\":a, \"v2\":b}\n",
      "print (c)\n",
      "# formateo de print \n",
      "print (\"%s   %f\" % (c[\"v1\"][\"nombre_var\"], c[\"v1\"][\"val\"]))\n",
      "\n",
      "# accediendo a distintos niveles de informaci\u00f3n\n",
      "# vemos las claves\n",
      "for k in c:\n",
      "    print (k)\n",
      "\n",
      "# vemos la clave y su diccionario asociado    \n",
      "for k in c:\n",
      "    print (k, c[k])\n",
      "\n",
      "# formateamos la salida para imprimir    \n",
      "for k in c:\n",
      "    print (\"%s   %s   %f\" %(k, c[k][\"nombre_var\"], c[k][\"val\"]))"
     ],
     "language": "python",
     "metadata": {},
     "outputs": [
      {
       "output_type": "stream",
       "stream": "stdout",
       "text": [
        "{'val': 10, 'nombre_var': 'vlx_01'}\n",
        "{'val': 11, 'nombre_var': 'vlx_02'}\n",
        "{'v2': {'val': 11, 'nombre_var': 'vlx_02'}, 'v1': {'val': 11, 'nombre_var': 'vlx_02'}}\n",
        "vlx_02   11.000000\n",
        "v2\n",
        "v1\n",
        "v2 {'val': 11, 'nombre_var': 'vlx_02'}\n",
        "v1 {'val': 11, 'nombre_var': 'vlx_02'}\n",
        "v2   vlx_02   11.000000\n",
        "v1   vlx_02   11.000000\n"
       ]
      }
     ],
     "prompt_number": 102
    },
    {
     "cell_type": "markdown",
     "metadata": {},
     "source": [
      "\n",
      "### Un uso interesante de diccionarios"
     ]
    },
    {
     "cell_type": "code",
     "collapsed": false,
     "input": [
      "def f1():\n",
      "    print (\"llamando f1\")\n",
      "    \n",
      "a = {\"f1\": f1}\n",
      "a[\"f1\"]()"
     ],
     "language": "python",
     "metadata": {},
     "outputs": [
      {
       "output_type": "stream",
       "stream": "stdout",
       "text": [
        "llamando f1\n"
       ]
      }
     ],
     "prompt_number": 77
    },
    {
     "cell_type": "code",
     "collapsed": false,
     "input": [
      "def f2():\n",
      "    print (\"llamando f2\")\n",
      "\n",
      "a[\"f2\"] = f2    \n",
      "a[\"f2\"]()    "
     ],
     "language": "python",
     "metadata": {},
     "outputs": [
      {
       "output_type": "stream",
       "stream": "stdout",
       "text": [
        "llamando f2\n"
       ]
      }
     ],
     "prompt_number": 79
    },
    {
     "cell_type": "markdown",
     "metadata": {},
     "source": [
      "### switch - case\n",
      "#### python no tiene, \u00bfPero qui\u00e9n los necesita?\n",
      "\n",
      "Pero se pueden construir f\u00e1cilmente.\n"
     ]
    },
    {
     "cell_type": "code",
     "collapsed": false,
     "input": [
      "def mi_switch_case(c):\n",
      "    if c == 1:\n",
      "        a[\"f1\"]()\n",
      "    elif c== 2:\n",
      "        a[\"f2\"]()\n",
      "    else:\n",
      "        pass\n",
      "    \n",
      "mi_switch_case(1)\n",
      "mi_switch_case(2)\n",
      "mi_switch_case(3)"
     ],
     "language": "python",
     "metadata": {},
     "outputs": [
      {
       "output_type": "stream",
       "stream": "stdout",
       "text": [
        "llamando f1\n",
        "llamando f2\n"
       ]
      }
     ],
     "prompt_number": 81
    },
    {
     "cell_type": "code",
     "collapsed": false,
     "input": [
      "# esto da un error\n",
      "a[\"f3\"] = f3    \n",
      "a[\"f3\"]()    "
     ],
     "language": "python",
     "metadata": {},
     "outputs": [
      {
       "ename": "NameError",
       "evalue": "name 'f3' is not defined",
       "output_type": "pyerr",
       "traceback": [
        "\u001b[1;31m---------------------------------------------------------------------------\u001b[0m\n\u001b[1;31mNameError\u001b[0m                                 Traceback (most recent call last)",
        "\u001b[1;32m<ipython-input-82-39d2c30f3651>\u001b[0m in \u001b[0;36m<module>\u001b[1;34m()\u001b[0m\n\u001b[1;32m----> 1\u001b[1;33m \u001b[0ma\u001b[0m\u001b[1;33m[\u001b[0m\u001b[1;34m\"f3\"\u001b[0m\u001b[1;33m]\u001b[0m \u001b[1;33m=\u001b[0m \u001b[0mf3\u001b[0m\u001b[1;33m\u001b[0m\u001b[0m\n\u001b[0m\u001b[0;32m      2\u001b[0m \u001b[0ma\u001b[0m\u001b[1;33m[\u001b[0m\u001b[1;34m\"f3\"\u001b[0m\u001b[1;33m]\u001b[0m\u001b[1;33m(\u001b[0m\u001b[1;33m)\u001b[0m\u001b[1;33m\u001b[0m\u001b[0m\n",
        "\u001b[1;31mNameError\u001b[0m: name 'f3' is not defined"
       ]
      }
     ],
     "prompt_number": 82
    },
    {
     "cell_type": "markdown",
     "metadata": {},
     "source": [
      "## Conjuntos (Sets)\n",
      "#### La notaci\u00f3n para conjuntos es distinta en python 2 y python 3\n",
      "\n",
      "Ac\u00e1 en python 3"
     ]
    },
    {
     "cell_type": "code",
     "collapsed": false,
     "input": [
      "\n",
      "A = set()  # create an empty set\n",
      "B = set([1,2,3]) # a 3 element set\n",
      "C = set([3,4,5])\n",
      "D = set([6,7,8])\n",
      "# Now try out some set operations\n",
      "print (B.union(C))\n",
      "print(B.intersection(C))\n",
      "print(B.issuperset(set([2])))\n",
      "print(set([3]).issubset(C))\n",
      "print(C.intersection(D) == A)"
     ],
     "language": "python",
     "metadata": {},
     "outputs": [
      {
       "output_type": "stream",
       "stream": "stdout",
       "text": [
        "{1, 2, 3, 4, 5}\n",
        "{3}\n",
        "True\n",
        "True\n",
        "True\n"
       ]
      }
     ],
     "prompt_number": 115
    },
    {
     "cell_type": "markdown",
     "metadata": {},
     "source": [
      "## Tuplas o listas inmutables (no se puede cambiar el valor)"
     ]
    },
    {
     "cell_type": "code",
     "collapsed": false,
     "input": [
      "a = ()\n",
      "# error\n",
      "a[0] = 1"
     ],
     "language": "python",
     "metadata": {},
     "outputs": [
      {
       "ename": "TypeError",
       "evalue": "'tuple' object does not support item assignment",
       "output_type": "pyerr",
       "traceback": [
        "\u001b[1;31m---------------------------------------------------------------------------\u001b[0m\n\u001b[1;31mTypeError\u001b[0m                                 Traceback (most recent call last)",
        "\u001b[1;32m<ipython-input-117-b38ce72f754c>\u001b[0m in \u001b[0;36m<module>\u001b[1;34m()\u001b[0m\n\u001b[0;32m      1\u001b[0m \u001b[0ma\u001b[0m \u001b[1;33m=\u001b[0m \u001b[1;33m(\u001b[0m\u001b[1;33m)\u001b[0m\u001b[1;33m\u001b[0m\u001b[0m\n\u001b[0;32m      2\u001b[0m \u001b[1;31m# error\u001b[0m\u001b[1;33m\u001b[0m\u001b[1;33m\u001b[0m\u001b[0m\n\u001b[1;32m----> 3\u001b[1;33m \u001b[0ma\u001b[0m\u001b[1;33m[\u001b[0m\u001b[1;36m0\u001b[0m\u001b[1;33m]\u001b[0m \u001b[1;33m=\u001b[0m \u001b[1;36m1\u001b[0m\u001b[1;33m\u001b[0m\u001b[0m\n\u001b[0m",
        "\u001b[1;31mTypeError\u001b[0m: 'tuple' object does not support item assignment"
       ]
      }
     ],
     "prompt_number": 117
    },
    {
     "cell_type": "code",
     "collapsed": false,
     "input": [
      "b= (1, 2, 3)\n",
      "# no hay error\n",
      "b[0]"
     ],
     "language": "python",
     "metadata": {},
     "outputs": [
      {
       "metadata": {},
       "output_type": "pyout",
       "prompt_number": 118,
       "text": [
        "1"
       ]
      }
     ],
     "prompt_number": 118
    },
    {
     "cell_type": "code",
     "collapsed": false,
     "input": [
      "#error no se puede cambiar el valor\n",
      "b[0] = 3"
     ],
     "language": "python",
     "metadata": {},
     "outputs": [
      {
       "ename": "TypeError",
       "evalue": "'tuple' object does not support item assignment",
       "output_type": "pyerr",
       "traceback": [
        "\u001b[1;31m---------------------------------------------------------------------------\u001b[0m\n\u001b[1;31mTypeError\u001b[0m                                 Traceback (most recent call last)",
        "\u001b[1;32m<ipython-input-119-2d16f71b0035>\u001b[0m in \u001b[0;36m<module>\u001b[1;34m()\u001b[0m\n\u001b[0;32m      1\u001b[0m \u001b[1;31m#error\u001b[0m\u001b[1;33m\u001b[0m\u001b[1;33m\u001b[0m\u001b[0m\n\u001b[1;32m----> 2\u001b[1;33m \u001b[0mb\u001b[0m\u001b[1;33m[\u001b[0m\u001b[1;36m0\u001b[0m\u001b[1;33m]\u001b[0m \u001b[1;33m=\u001b[0m \u001b[1;36m3\u001b[0m\u001b[1;33m\u001b[0m\u001b[0m\n\u001b[0m",
        "\u001b[1;31mTypeError\u001b[0m: 'tuple' object does not support item assignment"
       ]
      }
     ],
     "prompt_number": 119
    },
    {
     "cell_type": "code",
     "collapsed": false,
     "input": [
      "# pero se pueden agregar valores\n",
      "# error\n",
      "b[3] = 4"
     ],
     "language": "python",
     "metadata": {},
     "outputs": [
      {
       "ename": "TypeError",
       "evalue": "'tuple' object does not support item assignment",
       "output_type": "pyerr",
       "traceback": [
        "\u001b[1;31m---------------------------------------------------------------------------\u001b[0m\n\u001b[1;31mTypeError\u001b[0m                                 Traceback (most recent call last)",
        "\u001b[1;32m<ipython-input-120-d07b66feb1eb>\u001b[0m in \u001b[0;36m<module>\u001b[1;34m()\u001b[0m\n\u001b[0;32m      1\u001b[0m \u001b[1;31m# pero se pueden agregar valores\u001b[0m\u001b[1;33m\u001b[0m\u001b[1;33m\u001b[0m\u001b[0m\n\u001b[1;32m----> 2\u001b[1;33m \u001b[0mb\u001b[0m\u001b[1;33m[\u001b[0m\u001b[1;36m3\u001b[0m\u001b[1;33m]\u001b[0m \u001b[1;33m=\u001b[0m \u001b[1;36m4\u001b[0m\u001b[1;33m\u001b[0m\u001b[0m\n\u001b[0m",
        "\u001b[1;31mTypeError\u001b[0m: 'tuple' object does not support item assignment"
       ]
      }
     ],
     "prompt_number": 120
    },
    {
     "cell_type": "code",
     "collapsed": false,
     "input": [
      "b = b + (4, ) # va la coma para que sea una tupla\n",
      "print (b)\n",
      "c = 2*b\n",
      "print (c)\n",
      "print (c+b)"
     ],
     "language": "python",
     "metadata": {},
     "outputs": [
      {
       "output_type": "stream",
       "stream": "stdout",
       "text": [
        "(1, 2, 3, 4, 4, 4, 4)\n",
        "(1, 2, 3, 4, 4, 4, 4, 1, 2, 3, 4, 4, 4, 4)\n",
        "(1, 2, 3, 4, 4, 4, 4, 1, 2, 3, 4, 4, 4, 4, 1, 2, 3, 4, 4, 4, 4)\n"
       ]
      }
     ],
     "prompt_number": 124
    },
    {
     "cell_type": "markdown",
     "metadata": {},
     "source": [
      "# Testeos unitarios\n",
      "M\u00e1s informaci\u00f3n [link](https://docs.python.org/2/library/unittest.html)"
     ]
    },
    {
     "cell_type": "code",
     "collapsed": false,
     "input": [
      "import unittest\n",
      "\n",
      "def f1 (n1, n2):\n",
      "    return n1 + n2\n",
      "\n",
      "def f2 (n1, n2):\n",
      "    return n1 > n2\n",
      "\n",
      "def f3 (n1):\n",
      "    return 2*n1\n",
      "\n",
      "\n",
      "\n",
      "class TestStringMethods(unittest.TestCase):\n",
      "\n",
      "  def test_upper(self):\n",
      "      self.assertEqual('foo'.upper(), 'FOO')\n",
      "\n",
      "  def test_isupper(self):\n",
      "      self.assertTrue('FOO'.isupper())\n",
      "      self.assertFalse('Foo'.isupper())\n",
      "\n",
      "  def test_split(self):\n",
      "      s = 'hello world'\n",
      "      self.assertEqual(s.split(), ['hello', 'world'])\n",
      "      # check that s.split fails when the separator is not a string\n",
      "      with self.assertRaises(TypeError):\n",
      "          s.split(2)\n",
      "                    \n",
      "  def test_f2a (self):\n",
      "      self.assertTrue(f2(4,2), 4)\n",
      "\n",
      "  def test_f2b (self):\n",
      "      self.assertFalse(f2(2,4), 4)\n",
      "\n",
      "\n",
      "  def test_f1 (self):\n",
      "      self.assertEqual(f1(2,2), 4)\n",
      "\n",
      "  def test_f3 (self):\n",
      "      self.assertEqual(f3(2), 6)\n",
      "\n",
      "                    \n",
      "if __name__ == '__main__':\n",
      "    unittest.main()"
     ],
     "language": "python",
     "metadata": {},
     "outputs": []
    },
    {
     "cell_type": "markdown",
     "metadata": {},
     "source": [
      "    ...F...\n",
      "    ======================================================================\n",
      "    FAIL: test_f3 (__main__.TestStringMethods)\n",
      "    ----------------------------------------------------------------------\n",
      "    Traceback (most recent call last):\n",
      "      File \"testing.py\", line 39, in test_f3\n",
      "        self.assertEqual(f3(2), 6)\n",
      "    AssertionError: 4 != 6\n",
      "\n",
      "    ----------------------------------------------------------------------\n",
      "    Ran 7 tests in 0.001s\n",
      "\n",
      "    FAILED (failures=1)"
     ]
    },
    {
     "cell_type": "markdown",
     "metadata": {},
     "source": [
      "### Ejercicio, lo mismo que antes, pero las funciones que quiero testear estan en un paquete: mis_func.py"
     ]
    },
    {
     "cell_type": "code",
     "collapsed": false,
     "input": [
      "def f1 ():\n",
      "    a = 2\n",
      "    print (\"f1\")"
     ],
     "language": "python",
     "metadata": {},
     "outputs": [],
     "prompt_number": 135
    },
    {
     "cell_type": "code",
     "collapsed": false,
     "input": [
      "dir (unittest)"
     ],
     "language": "python",
     "metadata": {},
     "outputs": [
      {
       "metadata": {},
       "output_type": "pyout",
       "prompt_number": 142,
       "text": [
        "['BaseTestSuite',\n",
        " 'FunctionTestCase',\n",
        " 'SkipTest',\n",
        " 'TestCase',\n",
        " 'TestLoader',\n",
        " 'TestProgram',\n",
        " 'TestResult',\n",
        " 'TestSuite',\n",
        " 'TextTestResult',\n",
        " 'TextTestRunner',\n",
        " '_TextTestResult',\n",
        " '__all__',\n",
        " '__builtins__',\n",
        " '__cached__',\n",
        " '__doc__',\n",
        " '__file__',\n",
        " '__loader__',\n",
        " '__name__',\n",
        " '__package__',\n",
        " '__path__',\n",
        " '__spec__',\n",
        " '__unittest',\n",
        " 'case',\n",
        " 'defaultTestLoader',\n",
        " 'expectedFailure',\n",
        " 'findTestCases',\n",
        " 'getTestCaseNames',\n",
        " 'installHandler',\n",
        " 'loader',\n",
        " 'main',\n",
        " 'makeSuite',\n",
        " 'registerResult',\n",
        " 'removeHandler',\n",
        " 'removeResult',\n",
        " 'result',\n",
        " 'runner',\n",
        " 'signals',\n",
        " 'skip',\n",
        " 'skipIf',\n",
        " 'skipUnless',\n",
        " 'suite',\n",
        " 'util']"
       ]
      }
     ],
     "prompt_number": 142
    },
    {
     "cell_type": "code",
     "collapsed": false,
     "input": [],
     "language": "python",
     "metadata": {},
     "outputs": []
    }
   ],
   "metadata": {}
  }
 ]
}
