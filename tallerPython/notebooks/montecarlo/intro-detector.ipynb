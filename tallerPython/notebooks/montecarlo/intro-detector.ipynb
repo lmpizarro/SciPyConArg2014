{
 "cells": [
  {
   "cell_type": "markdown",
   "metadata": {},
   "source": [
    "# Transporte de radiación gamma en NaI(Tl)\n",
    "\n",
    "\n",
    "* #### A simple algorithm for the transport of gamma rays in a medium\n",
    "\n",
    "F. Arqueros and G. D. Montesinos\n",
    "Departamento de Fısica Atomica, Molecular y Nuclear, Facultad de Ciencias Fısicas,\n",
    "Universidad Complutense, E-28040 Madrid, Spain\n",
    "\n",
    "Am. J. Phys., Vol. 71, No. 1, January 2003\n",
    "\n",
    "\n",
    "* #### Nota de aplicación de Ortec An-34 [link](http://www.ortec-online.com/Service-Support/Library/Experiments.aspx)\n",
    "\n",
    "\n",
    "* Experiment 3 Gamma-Ray Spectroscopy Using NaI(Tl)\n",
    "\n",
    "* Experiment 7 High-Resolution Gamma-Ray Spectroscopy\n",
    "\n",
    "* Experiment 10 Compton Scattering \n",
    "\n",
    "* #### A montecarlo method for Determining Absolute Scintillation-Photon Yields and Energy Resolution of Scintillators for Gamma Rays\n",
    "\n",
    "Tawara, Sasaki, Saito, Shibamura\n",
    "\n",
    "Proceedings of the Second International Workshop on EGS, 8.-12. August 2000, Tsukuba, Japan\n",
    "KEK Proceedings 200-20, pp.152-160\n",
    "\n",
    "* #### G. F. Knoll, Radiation Detection and Measurement \n",
    "\n",
    "John Wiley and Sons, Inc., New York (1979)\n",
    "\n"
   ]
  },
  {
   "cell_type": "markdown",
   "metadata": {},
   "source": [
    "## Estructura de un detector de NaI(Tl)\n",
    "\n",
    "\n",
    "![Scintillation Detector](Scintillation-detector.png)\n",
    "\n",
    "\n"
   ]
  },
  {
   "cell_type": "markdown",
   "metadata": {},
   "source": [
    "## Esquema experimental\n",
    "\n",
    "### Procesos\n",
    "\n",
    "![estructura experimento NaI](estructura-detector-NaI.png)\n",
    "\n",
    "\n",
    "### Absorción fotoeléctrica: conversión de radiación gamma en pulsos lumínicos\n",
    "\n",
    "##### The Fundamental Interactions between X-rays and Matter [link](http://oftankonyv.reak.bme.hu/tiki-index.php?page=The+Fundamental+Interactions+between+X-rays+and+Matter)\n",
    "\n",
    "\n",
    "* Toda la energía del fotón es transferida a uno de los  electrónes más cercano al núcleo\n",
    "* Se crea una vacancia, deficiencia de un electrón. \n",
    "* La vacancia se llena con un electrón de otra capa, y se emite un fotón\n",
    "* Hay otros caminos de recuperación de equilibrio, electrón Auger, X característicos.\n",
    "\n",
    "![Absorption_Photoelectric](Absorption_Photoelectric_En.jpg)\n",
    "\n",
    "### Interacción Compton: el fotón gamma incidente es dispersado.\n",
    "     * Cambia la energía del fotón\n",
    "     * El fotón cambia de dirección\n",
    "     * Se transfiere energía a un electrón\n",
    "\n",
    "     \n",
    "![compton-angles-energies](compton-angles-energies.png) \n",
    "\n",
    "#### Energía Compton\n",
    "\n",
    "![energia-compton](energia-compton.png)\n",
    "\n",
    "#### Sección eficáz diferencial Compton - Ecuación de Klein-Nishina\n",
    "\n",
    "![klein-nishina-equation](klein-nishina-equation.png)\n",
    "\n",
    "### Formación de pares electrón-positrón, posterior aniquilación del positrón\n",
    "     * Energía mínima de 1022 Kev\n",
    "\n",
    "![pair production](pair-production.png)\n",
    "\n",
    "\n",
    "### Secciones eficaces\n",
    "![cross section](cross-section.png)\n",
    "\n",
    "![gamma-absorption](gamma-absorption.jpg)"
   ]
  },
  {
   "cell_type": "markdown",
   "metadata": {},
   "source": [
    "## Esquema de decaímiento del Cs 137\n",
    "\n",
    "![decaímiento de cs 137](Cs-137-decay.png)"
   ]
  },
  {
   "cell_type": "markdown",
   "metadata": {},
   "source": [
    "## Espectro de Cs 137\n",
    "\n",
    "\n",
    "\n",
    "### Emisión de radiación gamma en .662 MeV \n",
    "\n",
    "\n",
    "![espectro cs137](espectroCs137.png)\n",
    "\n"
   ]
  },
  {
   "cell_type": "markdown",
   "metadata": {},
   "source": [
    "## Curva de calibración de una cadena de medición\n",
    "\n",
    "![Curva Calibracion](Curva-Calibracion.png)\n",
    "\n",
    "\n",
    "## Curva de eficiencia del detector\n",
    "\n",
    "![eficiencia detector](eficiencia-detector.png)\n",
    "\n",
    "\n",
    "## Espectro de Co-60\n",
    "\n",
    "![espectro Co60](espectro-Co60.png)\n"
   ]
  },
  {
   "cell_type": "markdown",
   "metadata": {},
   "source": [
    "## Esquema de la cadena de detección\n",
    "\n",
    "![block diagram detector](Block-Diagram-Detector.png)\n",
    "\n",
    "## Esquema del detector de NaI, tubo fotomultiplicador\n",
    "\n",
    "![diagrama bloques electronico](diagrama-bloques2.png)\n"
   ]
  }
 ],
 "metadata": {
  "kernelspec": {
   "display_name": "Python 3",
   "language": "python",
   "name": "python3"
  },
  "language_info": {
   "codemirror_mode": {
    "name": "ipython",
    "version": 3
   },
   "file_extension": ".py",
   "mimetype": "text/x-python",
   "name": "python",
   "nbconvert_exporter": "python",
   "pygments_lexer": "ipython3",
   "version": "3.4.3"
  }
 },
 "nbformat": 4,
 "nbformat_minor": 0
}
