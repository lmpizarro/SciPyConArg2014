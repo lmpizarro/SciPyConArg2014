{
 "cells": [
  {
   "cell_type": "markdown",
   "metadata": {},
   "source": [
    "![estructura detectos NaI](estructura-detector-NaI.png)\n",
    "\n",
    "![espectro cs137](espectroCs137.png)\n",
    "\n",
    "![block diagram detector](Block-Diagram-Detector.png)\n",
    "\n",
    "![diagrama bloques electronico](diagrama-bloques2.png)\n",
    "\n",
    "![Curva Calibracion](Curva-Calibracion.png)\n",
    "\n",
    "![eficiencia detector](eficiencia-detector.png)\n",
    "\n",
    "![espectro Co60](espectro-Co60.png)"
   ]
  },
  {
   "cell_type": "code",
   "execution_count": null,
   "metadata": {
    "collapsed": true
   },
   "outputs": [],
   "source": []
  }
 ],
 "metadata": {
  "kernelspec": {
   "display_name": "Python 3",
   "language": "python",
   "name": "python3"
  },
  "language_info": {
   "codemirror_mode": {
    "name": "ipython",
    "version": 3
   },
   "file_extension": ".py",
   "mimetype": "text/x-python",
   "name": "python",
   "nbconvert_exporter": "python",
   "pygments_lexer": "ipython3",
   "version": "3.4.3"
  }
 },
 "nbformat": 4,
 "nbformat_minor": 0
}
