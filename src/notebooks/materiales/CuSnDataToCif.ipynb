{
 "metadata": {
  "name": "",
  "signature": "sha256:be272e0bc0ebf3adefb74d548885aa5dda461341f93b82989fcc5558b999c46c"
 },
 "nbformat": 3,
 "nbformat_minor": 0,
 "worksheets": [
  {
   "cells": [
    {
     "cell_type": "code",
     "collapsed": false,
     "input": [
      "from pymatgen.matproj.rest import MPRester\n",
      "from pymatgen import Composition\n",
      "from pymatgen.entries.computed_entries import ComputedEntry\n",
      "from pymatgen.core.units import FloatWithUnit\n",
      "from pymatgen.analysis.reaction_calculator import ComputedReaction\n",
      "\n",
      "#This initializes the REST adaptor. Put your own API key in.\n",
      "a = MPRester(\"xnID73SlfeROKikC\")"
     ],
     "language": "python",
     "metadata": {
      "slideshow": {
       "slide_type": "-"
      }
     },
     "outputs": [],
     "prompt_number": 87
    },
    {
     "cell_type": "code",
     "collapsed": false,
     "input": [
      "#This gets all entries belonging to the Cu-Sn system.\n",
      "all_entries = a.get_entries_in_chemsys(['Cu','Sn']) \n"
     ],
     "language": "python",
     "metadata": {},
     "outputs": [],
     "prompt_number": 88
    },
    {
     "cell_type": "code",
     "collapsed": false,
     "input": [
      "import json\n",
      "\n",
      "e = open (\"energias.txt\",'w')\n",
      "e.write(\"reduced formula,  energia,  energia por atomo\\n\")\n",
      "\n",
      "for entry in all_entries:\n",
      "    e.write (\"%s,  %f,  %f\\n\"%(entry.composition.reduced_formula, entry.energy, entry.energy_per_atom))\n",
      "    dict=entry.as_dict()\n",
      "    a=json.dumps (dict[\"data\"])\n",
      "    f = open(entry.composition.reduced_formula+'.cif', 'w')\n",
      "    f.write(json.loads(a)[\"cif\"])\n",
      "    f.close()\n",
      "    \n",
      "e.close()    "
     ],
     "language": "python",
     "metadata": {},
     "outputs": [],
     "prompt_number": 89
    },
    {
     "cell_type": "code",
     "collapsed": false,
     "input": [],
     "language": "python",
     "metadata": {},
     "outputs": []
    }
   ],
   "metadata": {}
  }
 ]
}