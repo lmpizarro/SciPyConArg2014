{
 "cells": [
  {
   "cell_type": "markdown",
   "metadata": {},
   "source": [
    "# Solución de ecuaciones diferenciales fraccionales"
   ]
  },
  {
   "cell_type": "markdown",
   "metadata": {},
   "source": [
    "Algorithm for Extracting Corrosion Parameters from the Response of the Steel-Concrete System to a Current Pulse\n",
    "\n",
    "V. Feliu,a J. A. Gonzalez,b,z and S. Feliub\n",
    "\n",
    "Journal of The Electrochemical Society, 151 ͑3͒ B134-B140 ͑2004͒\n"
   ]
  },
  {
   "cell_type": "code",
   "execution_count": 1,
   "metadata": {
    "collapsed": false
   },
   "outputs": [],
   "source": [
    "import numpy as np\n",
    "import matplotlib.pyplot as plt\n",
    "\n",
    "%matplotlib inline"
   ]
  },
  {
   "cell_type": "code",
   "execution_count": 2,
   "metadata": {
    "collapsed": false
   },
   "outputs": [],
   "source": [
    "#\n",
    "#  Ecuación que calcula los coeficientes binomiales\n",
    "#\n",
    "def binomial (alfa, N):\n",
    "    b = np.zeros(0)\n",
    "    b0 = 1\n",
    "    b = np.append (b, b0)\n",
    "    for i in range (1,N):\n",
    "        b = np.append (b, (1 - (1+alfa)/i)*b[i-1])    \n",
    "    return b"
   ]
  },
  {
   "cell_type": "code",
   "execution_count": 3,
   "metadata": {
    "collapsed": false
   },
   "outputs": [
    {
     "data": {
      "text/plain": [
       "array([[ 862.90072275, -362.94386778, -275.74548809],\n",
       "       [ 362.94386778, -362.96201498, -275.75927537],\n",
       "       [ 275.74548809, -275.75927537, -449.76033531]])"
      ]
     },
     "execution_count": 3,
     "metadata": {},
     "output_type": "execute_result"
    }
   ],
   "source": [
    "#\n",
    "# Parámetros de la simulación\n",
    "#\n",
    "T = 0.001; I0 = 1e-5\n",
    "Rt = 1000; Rg = 500; R0 = 1e7;\n",
    "Alfa = 0.5; CAlfa = 1e-8; \n",
    "Beta = 0.9; CBeta = 1e-6; \n",
    "N = 1000\n",
    "\n",
    "# Inicialización \n",
    "vn0 =  np.zeros (N)\n",
    "vn1 =  np.zeros (N)\n",
    "vn2 =  np.zeros (N)\n",
    "\n",
    "ii = np.zeros(N)\n",
    "ii [0:int(0.2*N)] = I0\n",
    "\n",
    "\n",
    "# Cálculo de los parámetros constantes\n",
    "Gt = 1/Rt; Gg = 1/Rg; G0 = 1/R0\n",
    "CAlfa = np.power(CAlfa, Alfa); GAlfa = CAlfa*np.power(T, -Alfa)\n",
    "CBeta = np.power(CBeta, Beta); GBeta = CBeta*np.power(T, -Beta)\n",
    "\n",
    "\n",
    "# Cálculo de los binomiales\n",
    "M = 100\n",
    "qAlfa = binomial (Alfa, M)\n",
    "qBeta = binomial (Beta, M)\n",
    "\n",
    "# Cálculo de matriz de impedancia\n",
    "admitancia = np.array ([\n",
    "                        [G0+Gg, -Gg,               0], \n",
    "                        [Gg,    -(Gg+GBeta+GAlfa), GAlfa], \n",
    "                        [0,     GAlfa,             -(GAlfa+Gt)\n",
    "                         ]])\n",
    "impedancia = np.linalg.inv(admitancia)\n",
    "\n",
    "impedancia    "
   ]
  },
  {
   "cell_type": "code",
   "execution_count": 4,
   "metadata": {
    "collapsed": false
   },
   "outputs": [],
   "source": [
    "#\n",
    "# Cálculo de voltages de nodo inicial\n",
    "#\n",
    "current = np.array ([I0,0,0])\n",
    "voltage = np.dot (impedancia, current)\n",
    "vn0[0]  = voltage[0]\n",
    "vn1[0]  = voltage[1]\n",
    "vn2[0]  = voltage[2]"
   ]
  },
  {
   "cell_type": "code",
   "execution_count": 5,
   "metadata": {
    "collapsed": false
   },
   "outputs": [],
   "source": [
    "for k in range (1,N):\n",
    "    vbeta = 0\n",
    "    valfa = 0\n",
    "    for l in range (1,k+1):\n",
    "        if l < M:\n",
    "            vbeta = vbeta + qBeta [l]*vn1 [k-l]\n",
    "            valfa = valfa + qAlfa [l]*(vn1 [k-l] - vn2[k-l])\n",
    "    current[0] = ii[k]\n",
    "    current[1] = (GAlfa*valfa + GBeta*vbeta)\n",
    "    current[2] = (-GAlfa*valfa)\n",
    "    voltage = np.dot (impedancia, current)\n",
    "    vn0[k] = voltage[0]\n",
    "    vn1[k] = voltage[1]\n",
    "    vn2[k] = voltage[2]"
   ]
  },
  {
   "cell_type": "code",
   "execution_count": 6,
   "metadata": {
    "collapsed": false
   },
   "outputs": [
    {
     "data": {
      "text/plain": [
       "[<matplotlib.lines.Line2D at 0xaf561eac>]"
      ]
     },
     "execution_count": 6,
     "metadata": {},
     "output_type": "execute_result"
    },
    {
     "data": {
      "image/png": "[encoded data removed]",
      "text/plain": [
       "<matplotlib.figure.Figure at 0xaf5a0e6c>"
      ]
     },
     "metadata": {},
     "output_type": "display_data"
    }
   ],
   "source": [
    "t = np.arange (N)*T\n",
    "plt.plot(t,vn0)"
   ]
  },
  {
   "cell_type": "code",
   "execution_count": 7,
   "metadata": {
    "collapsed": false
   },
   "outputs": [],
   "source": [
    "vvn0= np.copy(vn0)"
   ]
  },
  {
   "cell_type": "code",
   "execution_count": 8,
   "metadata": {
    "collapsed": false
   },
   "outputs": [],
   "source": [
    "class RandlesFrac (object):\n",
    "    def __init__ (self, Ti, Ni, Rti, Rgi, R0i, Alfai, Calfai, Betai, Cbetai, I0i):\n",
    "        self.T = Ti;   self.I0 = I0i\n",
    "        self.Rt = Rti; self.Rg = Rgi; self.R0 = R0i\n",
    "        self.Alfa = Alfai; self.CAlfa = Calfai\n",
    "        self.Beta = Betai; self.CBeta = Cbetai\n",
    "        self.N = Ni\n",
    "        \n",
    "        # Inicialización \n",
    "        self.vn0 =  np.zeros (self.N)\n",
    "        self.vn1 =  np.zeros (self.N)\n",
    "        self.vn2 =  np.zeros (self.N)\n",
    "        \n",
    "        self.ii = np.zeros(self.N)\n",
    "        self.ii [0:int(0.2*self.N)] = self.I0\n",
    "\n",
    "        # Cálculo de los parámetros constantes\n",
    "        self.Gt = 1/self.Rt; self.Gg = 1/self.Rg; self.G0 = 1/self.R0\n",
    "        self.CAlfa = np.power(self.CAlfa, self.Alfa)\n",
    "        self.GAlfa = self.CAlfa*np.power(self.T, -self.Alfa)\n",
    "        self.CBeta = np.power(self.CBeta, self.Beta)\n",
    "        self.GBeta = self.CBeta*np.power(self.T, -self.Beta)\n",
    "\n",
    "        # Cálculo de los binomiales\n",
    "        self.M = 100\n",
    "        self.qAlfa = self.binomial (self.Alfa, self.M)\n",
    "        self.qBeta = self.binomial (self.Beta, self.M)\n",
    "        \n",
    "        # Cálculo de matriz de impedancia\n",
    "        self.admitancia = np.array ([\n",
    "                        [self.G0 + self.Gg, -self.Gg,                            0], \n",
    "                        [self.Gg, -(self.Gg + self.GBeta + self.GAlfa), self.GAlfa], \n",
    "                        [0,     self.GAlfa,             -(self.GAlfa + self.Gt)]\n",
    "                         ])\n",
    "        self.impedancia = np.linalg.inv(self.admitancia)\n",
    "        \n",
    "        \n",
    "    #\n",
    "    #  Ecuación que calcula los coeficientes binomiales\n",
    "    #\n",
    "    def binomial (self,alfa, N):\n",
    "        b = np.zeros(0)\n",
    "        b0 = 1\n",
    "        b = np.append (b, b0)\n",
    "        for i in range (1,N):\n",
    "            b = np.append (b, (1 - (1+alfa)/i)*b[i-1])    \n",
    "        return b\n",
    "\n",
    "    def simulacion (self):\n",
    "        print (\"simulacion fraccional\")\n",
    "        #\n",
    "        # Cálculo de voltages de nodo inicial\n",
    "        #\n",
    "        self.current = np.array ([self.I0,0,0])\n",
    "        self.voltage = np.dot (self.impedancia, self.current)\n",
    "        self.vn0[0]  = self.voltage[0]\n",
    "        self.vn1[0]  = self.voltage[1]\n",
    "        self.vn2[0]  = self.voltage[2]\n",
    "        \n",
    "        for k in range (1,self.N):\n",
    "            vbeta = 0\n",
    "            valfa = 0\n",
    "            for l in range (1,k+1):\n",
    "                if l < self.M:\n",
    "                    vbeta = vbeta + self.qBeta [l]*self.vn1 [k-l]\n",
    "                    valfa = valfa + self.qAlfa [l]*(self.vn1 [k-l] - self.vn2[k-l])\n",
    "            self.current[0] = self.ii[k]\n",
    "            self.current[1] = (self.GAlfa*valfa + self.GBeta*vbeta)\n",
    "            self.current[2] = (-self.GAlfa*valfa)\n",
    "            self.voltage = np.dot (self.impedancia, self.current)\n",
    "            self.vn0[k] = self.voltage[0]\n",
    "            self.vn1[k] = self.voltage[1]\n",
    "            self.vn2[k] = self.voltage[2]"
   ]
  },
  {
   "cell_type": "code",
   "execution_count": 9,
   "metadata": {
    "collapsed": false
   },
   "outputs": [],
   "source": [
    "T = 0.001; N = 1000; I0 = 1e-5; R0 = 1e7; alfa = .5\n",
    "t = np.arange (N)*T\n",
    "#\n",
    "#                  Ti, Ni, Rti, Rgi, R0i, Alfai, Calfai, Betai, Cbetai, I0i\n",
    "#\n",
    "randles1 = RandlesFrac(T, N, 1000, 5000, R0, alfa, 1e-8, .9, 1e-6, I0)\n",
    "randles2 = RandlesFrac(T, N, 1000, 5000, R0, alfa, 1e-8, .8, 1e-6, I0)\n",
    "randles3 = RandlesFrac(T, N, 1000, 5000, R0, alfa, 1e-8, .7, 1e-6, I0)"
   ]
  },
  {
   "cell_type": "code",
   "execution_count": 10,
   "metadata": {
    "collapsed": false
   },
   "outputs": [
    {
     "name": "stdout",
     "output_type": "stream",
     "text": [
      "simulacion fraccional\n",
      "simulacion fraccional\n",
      "simulacion fraccional\n"
     ]
    }
   ],
   "source": [
    "randles1.simulacion()\n",
    "randles2.simulacion()\n",
    "randles3.simulacion()"
   ]
  },
  {
   "cell_type": "code",
   "execution_count": 11,
   "metadata": {
    "collapsed": false
   },
   "outputs": [
    {
     "data": {
      "text/plain": [
       "[<matplotlib.lines.Line2D at 0xaf4d256c>]"
      ]
     },
     "execution_count": 11,
     "metadata": {},
     "output_type": "execute_result"
    },
    {
     "data": {
      "image/png": "[encoded data removed]",
      "text/plain": [
       "<matplotlib.figure.Figure at 0xaf53d74c>"
      ]
     },
     "metadata": {},
     "output_type": "display_data"
    }
   ],
   "source": [
    "plt.plot(t[0:100],randles1.vn0[0:100])\n",
    "plt.plot(t[0:100],randles2.vn0[0:100])\n",
    "plt.plot(t[0:100],randles3.vn0[0:100])\n"
   ]
  },
  {
   "cell_type": "code",
   "execution_count": 12,
   "metadata": {
    "collapsed": false
   },
   "outputs": [],
   "source": [
    "#\n",
    "#                  Ti, Ni, Rti, Rgi, R0i, Alfai, Calfai, Betai, Cbetai, I0i\n",
    "#\n",
    "randles4 = RandlesFrac(T, N, 100, 5000, R0, alfa, 1e-8, .6, 1e-6, I0)\n",
    "randles5 = RandlesFrac(T, N, 1000, 5000, R0, alfa, 1e-8, .6, 1e-6, I0)\n",
    "randles6 = RandlesFrac(T, N, 10000, 5000, R0, alfa, 1e-8, .6, 1e-6, I0)"
   ]
  },
  {
   "cell_type": "code",
   "execution_count": 13,
   "metadata": {
    "collapsed": false
   },
   "outputs": [
    {
     "name": "stdout",
     "output_type": "stream",
     "text": [
      "simulacion fraccional\n",
      "simulacion fraccional\n",
      "simulacion fraccional\n"
     ]
    }
   ],
   "source": [
    "randles4.simulacion()\n",
    "randles5.simulacion()\n",
    "randles6.simulacion()"
   ]
  },
  {
   "cell_type": "code",
   "execution_count": 119,
   "metadata": {
    "collapsed": false
   },
   "outputs": [
    {
     "data": {
      "text/plain": [
       "[<matplotlib.lines.Line2D at 0xaeeadc2c>]"
      ]
     },
     "execution_count": 119,
     "metadata": {},
     "output_type": "execute_result"
    },
    {
     "data": {
      "image/png": "[encoded data removed]",
      "text/plain": [
       "<matplotlib.figure.Figure at 0xaefac3ec>"
      ]
     },
     "metadata": {},
     "output_type": "display_data"
    }
   ],
   "source": [
    "plt.plot(t[0:100],randles4.vn0[0:100])\n",
    "plt.plot(t[0:100],randles5.vn0[0:100])\n",
    "plt.plot(t[0:100],randles6.vn0[0:100])"
   ]
  },
  {
   "cell_type": "code",
   "execution_count": 179,
   "metadata": {
    "collapsed": false
   },
   "outputs": [],
   "source": [
    "class RandlesIdeal (RandlesFrac):\n",
    "    \n",
    "    def __init__ (self, Ti, Ni, Rti, Rgi, R0i, Calfai, Cbetai, I0i):\n",
    "        \n",
    "        self.T = Ti; self.I0 = I0i       \n",
    "        self.Rt = Rti; self.Rg = Rgi; self.R0 = R0i\n",
    "        self.CAlfa = Calfai\n",
    "        self.CBeta = Cbetai\n",
    "        self.N = Ni\n",
    "        \n",
    "        # Inicialización \n",
    "        self.vn0 =  np.zeros (self.N)\n",
    "        self.vn1 =  np.zeros (self.N)\n",
    "        self.vn2 =  np.zeros (self.N)\n",
    "        \n",
    "        self.ii = np.zeros(self.N)\n",
    "        self.ii [0:int(0.2*self.N)] = self.I0\n",
    "\n",
    "        # Cálculo de los parámetros constantes\n",
    "        self.Gt = 1/self.Rt; self.Gg = 1/self.Rg; self.G0 = 1/self.R0\n",
    "         \n",
    "        self.GAlfa = self.CAlfa/self.T\n",
    "         \n",
    "        self.GBeta = self.CBeta/self.T\n",
    "\n",
    "        # Cálculo de matriz de impedancia\n",
    "        self.admitancia = np.array ([[self.G0 + self.Gg, -self.Gg,               0], \n",
    "                        [self.Gg, -(self.Gg + self.GBeta + self.GAlfa), self.GAlfa], \n",
    "                        [0,     self.GAlfa,             -(self.GAlfa + self.Gt)]])\n",
    "        self.impedancia = np.linalg.inv(self.admitancia)    \n",
    "        \n",
    "    def simulacion (self):\n",
    "        print (\"simulacion ideal\")\n",
    "        #\n",
    "        # Cálculo de voltages de nodo inicial\n",
    "        #\n",
    "        self.current = np.array ([self.I0,0,0])\n",
    "        self.voltage = np.dot (self.impedancia, self.current)\n",
    "        self.vn0[0]  = self.voltage[0]\n",
    "        self.vn1[0]  = self.voltage[1]\n",
    "        self.vn2[0]  = self.voltage[2]\n",
    "    \n",
    "        for k in range (1,self.N):\n",
    "            \n",
    "            ialfa = self.GAlfa * (self.vn1[k-1] - self.vn2[k-1])\n",
    "            ibeta = self.GBeta * self.vn1[k-1]\n",
    "            \n",
    "            \n",
    "            self.current[0] = self.ii[k]\n",
    "            self.current[1] = -(ialfa + ibeta ) #-(self.GAlfa*valfa + self.GBeta*vbeta)\n",
    "            self.current[2] = ialfa #(self.GAlfa*valfa)\n",
    "            self.voltage = np.dot (self.impedancia, self.current)\n",
    "            self.vn0[k] = self.voltage[0]\n",
    "            self.vn1[k] = self.voltage[1]\n",
    "            self.vn2[k] = self.voltage[2]"
   ]
  },
  {
   "cell_type": "code",
   "execution_count": 267,
   "metadata": {
    "collapsed": false
   },
   "outputs": [],
   "source": [
    "# Ti, Ni, Rti, Rgi, R0i, Calfai, Cbetai, I0i\n",
    "T = 1e-4; N = int(1e4)\n",
    "randles11 = RandlesIdeal(T, N, 10000, 5000, R0,      1e-4,      1e-5, I0)\n",
    "randles6 =  RandlesFrac (T, N, 10000, 5000, R0, .50, 1e-4, .95, 1e-5, I0) "
   ]
  },
  {
   "cell_type": "code",
   "execution_count": 268,
   "metadata": {
    "collapsed": false
   },
   "outputs": [
    {
     "name": "stdout",
     "output_type": "stream",
     "text": [
      "simulacion ideal\n"
     ]
    }
   ],
   "source": [
    "randles11.simulacion()\n",
    "randles6.simulacion()"
   ]
  },
  {
   "cell_type": "code",
   "execution_count": 269,
   "metadata": {
    "collapsed": false
   },
   "outputs": [
    {
     "data": {
      "text/plain": [
       "[<matplotlib.lines.Line2D at 0xa8093e4c>]"
      ]
     },
     "execution_count": 269,
     "metadata": {},
     "output_type": "execute_result"
    },
    {
     "data": {
      "image/png": "[encoded data removed]",
      "text/plain": [
       "<matplotlib.figure.Figure at 0xa8093b0c>"
      ]
     },
     "metadata": {},
     "output_type": "display_data"
    }
   ],
   "source": [
    "plt.plot(randles11.vn0)\n",
    "plt.plot(randles6.vn0)"
   ]
  },
  {
   "cell_type": "code",
   "execution_count": 263,
   "metadata": {
    "collapsed": false
   },
   "outputs": [
    {
     "name": "stdout",
     "output_type": "stream",
     "text": [
      "simulacion ideal\n"
     ]
    },
    {
     "data": {
      "text/plain": [
       "[<matplotlib.lines.Line2D at 0xa80d598c>]"
      ]
     },
     "execution_count": 263,
     "metadata": {},
     "output_type": "execute_result"
    },
    {
     "data": {
      "image/png": "[encoded data removed]",
      "text/plain": [
       "<matplotlib.figure.Figure at 0xa81117ec>"
      ]
     },
     "metadata": {},
     "output_type": "display_data"
    }
   ],
   "source": [
    "# Ti, Ni, Rti, Rgi, R0i, Calfai, Cbetai, I0i\n",
    "T = 1e-4; N = int(1e4)\n",
    "randles11 = RandlesIdeal(T, N, 10000, 5000, R0,      1e-4,      1e-5, I0)\n",
    "randles11.simulacion()\n",
    "plt.plot(randles11.vn0)"
   ]
  },
  {
   "cell_type": "code",
   "execution_count": null,
   "metadata": {
    "collapsed": false
   },
   "outputs": [],
   "source": []
  }
 ],
 "metadata": {
  "kernelspec": {
   "display_name": "Python 3",
   "language": "python",
   "name": "python3"
  },
  "language_info": {
   "codemirror_mode": {
    "name": "ipython",
    "version": 3
   },
   "file_extension": ".py",
   "mimetype": "text/x-python",
   "name": "python",
   "nbconvert_exporter": "python",
   "pygments_lexer": "ipython3",
   "version": "3.4.3"
  }
 },
 "nbformat": 4,
 "nbformat_minor": 0
}
