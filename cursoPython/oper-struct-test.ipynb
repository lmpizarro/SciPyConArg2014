{
 "metadata": {
  "name": "",
  "signature": "sha256:342031a34c0e3b7229347f1fbf5bf1346ac1b05060b2ec71814b71cb166f6775"
 },
 "nbformat": 3,
 "nbformat_minor": 0,
 "worksheets": [
  {
   "cells": [
    {
     "cell_type": "markdown",
     "metadata": {},
     "source": [
      "#### Uso de nombres significativos de las variables"
     ]
    },
    {
     "cell_type": "code",
     "collapsed": false,
     "input": [
      "\n",
      "este_es_el_nombre_de_una_variable = 0\n",
      "esteEsElNombreDeUnaVariable = este_es_el_nombre_de_una_variable\n",
      "este_es_el_nombre_de_una_variable = este_es_el_nombre_de_una_variable  + 1\n",
      "\n",
      "nivel_liquido_tanque_AA = 0\n",
      "nivel_liquido_tanque_BB = 0\n",
      "\n",
      "n_l_t_AA = 0"
     ],
     "language": "python",
     "metadata": {},
     "outputs": [],
     "prompt_number": 6
    },
    {
     "cell_type": "code",
     "collapsed": false,
     "input": [
      "este_es_el_nombre_de_una_variable += 1"
     ],
     "language": "python",
     "metadata": {},
     "outputs": [],
     "prompt_number": 3
    },
    {
     "cell_type": "code",
     "collapsed": false,
     "input": [
      "print (este_es_el_nombre_de_una_variable )"
     ],
     "language": "python",
     "metadata": {},
     "outputs": [
      {
       "output_type": "stream",
       "stream": "stdout",
       "text": [
        "2\n"
       ]
      }
     ],
     "prompt_number": 5
    },
    {
     "cell_type": "code",
     "collapsed": false,
     "input": [
      "# Asigno a q un entero\n",
      "q = 7\n",
      "print (q)\n",
      "\n",
      "# Asigno a q un string\n",
      "\n",
      "q = \"python\"\n",
      "print (q)"
     ],
     "language": "python",
     "metadata": {},
     "outputs": [
      {
       "output_type": "stream",
       "stream": "stdout",
       "text": [
        "7\n",
        "python\n"
       ]
      }
     ],
     "prompt_number": 9
    },
    {
     "cell_type": "code",
     "collapsed": false,
     "input": [
      "# Esto va a dar un error\n",
      "\n",
      "q = 8\n",
      "z = \"python\"\n",
      "a = q + z"
     ],
     "language": "python",
     "metadata": {},
     "outputs": [
      {
       "ename": "TypeError",
       "evalue": "unsupported operand type(s) for +: 'int' and 'str'",
       "output_type": "pyerr",
       "traceback": [
        "\u001b[1;31m---------------------------------------------------------------------------\u001b[0m\n\u001b[1;31mTypeError\u001b[0m                                 Traceback (most recent call last)",
        "\u001b[1;32m<ipython-input-10-4626c05d59c2>\u001b[0m in \u001b[0;36m<module>\u001b[1;34m()\u001b[0m\n\u001b[0;32m      3\u001b[0m \u001b[0mq\u001b[0m \u001b[1;33m=\u001b[0m \u001b[1;36m8\u001b[0m\u001b[1;33m\u001b[0m\u001b[0m\n\u001b[0;32m      4\u001b[0m \u001b[0mz\u001b[0m \u001b[1;33m=\u001b[0m \u001b[1;34m\"python\"\u001b[0m\u001b[1;33m\u001b[0m\u001b[0m\n\u001b[1;32m----> 5\u001b[1;33m \u001b[0ma\u001b[0m \u001b[1;33m=\u001b[0m \u001b[0mq\u001b[0m \u001b[1;33m+\u001b[0m \u001b[0mz\u001b[0m\u001b[1;33m\u001b[0m\u001b[0m\n\u001b[0m",
        "\u001b[1;31mTypeError\u001b[0m: unsupported operand type(s) for +: 'int' and 'str'"
       ]
      }
     ],
     "prompt_number": 10
    },
    {
     "cell_type": "code",
     "collapsed": false,
     "input": [
      "# Pero esto no da error\n",
      "# uso de la funci\u00f3n propia de python str()\n",
      "# funci\u00f3n propia, quiere decir que est\u00e1 en el \n",
      "# paquete b\u00e1sico de python\n",
      "a = str(q) + z\n",
      "print (a)"
     ],
     "language": "python",
     "metadata": {},
     "outputs": [
      {
       "output_type": "stream",
       "stream": "stdout",
       "text": [
        "8python\n"
       ]
      }
     ],
     "prompt_number": 14
    },
    {
     "cell_type": "markdown",
     "metadata": {},
     "source": [
      "#### Operadores para cadenas de caracteres o string"
     ]
    },
    {
     "cell_type": "markdown",
     "metadata": {},
     "source": [
      "Operador Suma y Operador repetici\u00f3n"
     ]
    },
    {
     "cell_type": "code",
     "collapsed": false,
     "input": [
      "# operador suma\n",
      "a = \"hola\"\n",
      "b = \"mundo\"\n",
      "c = \" \"\n",
      "d = a + c + b\n",
      "print (d)"
     ],
     "language": "python",
     "metadata": {},
     "outputs": [
      {
       "output_type": "stream",
       "stream": "stdout",
       "text": [
        "hola mundo\n"
       ]
      }
     ],
     "prompt_number": 15
    },
    {
     "cell_type": "code",
     "collapsed": false,
     "input": [
      "# operador repetici\u00f3n\n",
      "a = \"Z\"\n",
      "c = 5*a\n",
      "print (c) # nos dormimos"
     ],
     "language": "python",
     "metadata": {},
     "outputs": [
      {
       "output_type": "stream",
       "stream": "stdout",
       "text": [
        "ZZZZZ\n"
       ]
      }
     ],
     "prompt_number": 17
    },
    {
     "cell_type": "markdown",
     "metadata": {},
     "source": [
      "### Operadores simplificados / shortcuts"
     ]
    },
    {
     "cell_type": "code",
     "collapsed": false,
     "input": [
      "m = 2\n",
      "n = 3\n",
      "# asignamos a m el valor de la suma m + n\n",
      "m = m + n\n",
      "print (m)\n",
      "# operador reducido para la adici\u00f3n\n",
      "m += n\n",
      "print (m)\n",
      "# operador reducido para la resta\n",
      "m -= n\n",
      "print (m)\n",
      "# operador reducido para la multiplicaci\u00f3n\n",
      "m *= n\n",
      "print (m)\n",
      "# operador reducido para la divisi\u00f3n\n",
      "# el resultado depende de la versi\u00f3n de python\n",
      "# que se use. \n",
      "m /= n\n",
      "print (m)\n",
      "m //= n ## divisi\u00f3n entera\n",
      "print (m)\n",
      "m %= n  ##\n",
      "print (m)"
     ],
     "language": "python",
     "metadata": {},
     "outputs": [
      {
       "output_type": "stream",
       "stream": "stdout",
       "text": [
        "5\n",
        "8\n",
        "5\n",
        "15\n",
        "5.0\n",
        "1.0\n",
        "1.0\n"
       ]
      }
     ],
     "prompt_number": 28
    },
    {
     "cell_type": "markdown",
     "metadata": {},
     "source": [
      "## Operadores como funciones [link](https://docs.python.org/2/library/operator.html#module-operator)"
     ]
    },
    {
     "cell_type": "code",
     "collapsed": false,
     "input": [
      "# los operadores se pueden usar como funciones\n",
      "import operator as op\n",
      "op.mul(2,5)"
     ],
     "language": "python",
     "metadata": {},
     "outputs": [
      {
       "metadata": {},
       "output_type": "pyout",
       "prompt_number": 37,
       "text": [
        "10"
       ]
      }
     ],
     "prompt_number": 37
    },
    {
     "cell_type": "markdown",
     "metadata": {},
     "source": [
      "## M\u00e1s sobre colecciones colecciones\n",
      "\n",
      "### Hasta ahora: listas, diccionarios, tuplas\n",
      "#### Recordemos"
     ]
    },
    {
     "cell_type": "code",
     "collapsed": false,
     "input": [
      "lista = [21,21,21] # corchetes\n",
      "lista1 = [1,2,3,4]\n",
      "lista1.append (\"q\")\n",
      "\n",
      "print (lista1)\n",
      "print (lista1[1:2])\n",
      "print (lista1[1:])\n",
      "print (lista1[:4])\n",
      "print (lista1[:-2])\n",
      "print (lista1[-2:]) # equivalentes \u00bfC\u00f3mo es esto?\n",
      "print (lista1[3:])\n",
      "\n",
      "# como borrar un elemento de la lista\n",
      "lista1.pop(1)\n",
      "print (lista1)\n",
      "# inserci\u00f3n de elementos en la lista\n",
      "lista1.insert(1, 56)\n",
      "print (lista1)\n",
      "# extender la lista con otra lista\n",
      "lista1.extend([45,78])\n",
      "print (lista1)\n",
      "# remover un elemento\n",
      "lista1.remove(45)\n",
      "print (lista1)\n",
      "lista.clear()\n",
      "print (\"lista luego del clear\", lista)\n",
      "# devuelve el \u00edndice de la primer ocurrencia del elemento\n",
      "index = lista1.index(56)\n",
      "print (\"\u00edndice\", index)\n",
      "# devuelve el n\u00famero de v\u00e9ces que un elemento aparece en la lista\n",
      "lista1.insert(4, 56)\n",
      "count = lista1.count (56)\n",
      "print(\"cantidad de v\u00e9ces que un elemento aparece\", count, lista1)\n",
      "#ordenar la lista, los elementos tienen que ser del mismo tipo\n",
      "lista1.pop(5)\n",
      "lista1.sort()\n",
      "print (lista1)\n",
      "lista1.reverse()\n",
      "print (lista1)\n",
      "# borrar con del\n",
      "del lista1[3]\n",
      "print (\"Borrado luego de del\", lista1)\n",
      "\n",
      "# borrado sin consecuencias en la lista original\n",
      "lista2 = list(lista1)\n",
      "\n",
      "del lista2[1]\n",
      "\n",
      "print(\"las 2 listas ---\", lista1, lista2)\n",
      "\n",
      "# Iterar en paralelo 2 listas\n",
      "# la iteraci\u00f3n termina en la lista \n",
      "# que tiene menos elementos\n",
      "for n,f in zip(lista1, lista2):\n",
      "    print (n,f)\n",
      "\n",
      "    \n",
      "\n",
      "\n",
      "\n",
      "print (lista[-1]) # pero esto produce error\n",
      "\n",
      "\n"
     ],
     "language": "python",
     "metadata": {},
     "outputs": [
      {
       "output_type": "stream",
       "stream": "stdout",
       "text": [
        "[1, 2, 3, 4, 'q']\n",
        "[2]\n",
        "[2, 3, 4, 'q']\n",
        "[1, 2, 3, 4]\n",
        "[1, 2, 3]\n",
        "[4, 'q']\n",
        "[4, 'q']\n",
        "[1, 3, 4, 'q']\n",
        "[1, 56, 3, 4, 'q']\n",
        "[1, 56, 3, 4, 'q', 45, 78]\n",
        "[1, 56, 3, 4, 'q', 78]\n",
        "lista luego del clear []\n",
        "\u00edndice 1\n",
        "cantidad de v\u00e9ces que un elemento aparece 2 [1, 56, 3, 4, 56, 'q', 78]\n",
        "[1, 3, 4, 56, 56, 78]\n",
        "[78, 56, 56, 4, 3, 1]\n",
        "Borrado luego de del [78, 56, 56, 3, 1]\n",
        "las 2 listas --- [78, 56, 56, 3, 1] [78, 56, 3, 1]\n",
        "78 78\n",
        "56 56\n",
        "56 3\n",
        "3 1\n"
       ]
      },
      {
       "ename": "IndexError",
       "evalue": "list index out of range",
       "output_type": "pyerr",
       "traceback": [
        "\u001b[1;31m---------------------------------------------------------------------------\u001b[0m\n\u001b[1;31mIndexError\u001b[0m                                Traceback (most recent call last)",
        "\u001b[1;32m<ipython-input-3-906a204e4dc7>\u001b[0m in \u001b[0;36m<module>\u001b[1;34m()\u001b[0m\n\u001b[0;32m     56\u001b[0m \u001b[1;33m\u001b[0m\u001b[0m\n\u001b[0;32m     57\u001b[0m \u001b[1;33m\u001b[0m\u001b[0m\n\u001b[1;32m---> 58\u001b[1;33m \u001b[0mprint\u001b[0m \u001b[1;33m(\u001b[0m\u001b[0mlista\u001b[0m\u001b[1;33m[\u001b[0m\u001b[1;33m-\u001b[0m\u001b[1;36m1\u001b[0m\u001b[1;33m]\u001b[0m\u001b[1;33m)\u001b[0m \u001b[1;31m# pero esto produce error\u001b[0m\u001b[1;33m\u001b[0m\u001b[0m\n\u001b[0m\u001b[0;32m     59\u001b[0m \u001b[1;33m\u001b[0m\u001b[0m\n\u001b[0;32m     60\u001b[0m \u001b[1;33m\u001b[0m\u001b[0m\n",
        "\u001b[1;31mIndexError\u001b[0m: list index out of range"
       ]
      }
     ],
     "prompt_number": 3
    },
    {
     "cell_type": "markdown",
     "metadata": {},
     "source": [
      "## List comprehension\n",
      "\n",
      "### [link](https://docs.python.org/3.4/tutorial/datastructures.html#list-comprehensions)"
     ]
    },
    {
     "cell_type": "code",
     "collapsed": false,
     "input": [
      "squares = []\n",
      "for x in range(10):\n",
      "     squares.append(x**2)\n",
      "print(squares)\n",
      "\n",
      "squares = list(map(lambda x: x**2, range(10)))\n",
      "print(squares)\n",
      "\n",
      "squares = [x**2 for x in range(10)]\n",
      "print(squares)\n",
      "\n",
      "pairs = [(x, y) for x in [1,2,3] for y in [3,1,4] if x != y]\n",
      "\n",
      "print (pairs)\n",
      "\n",
      "from math import pi\n",
      "strings_pi = [str(round(pi, i)) for i in range(1, 6)]\n",
      "print(strings_pi)\n",
      "\n",
      "matrix = [\n",
      "     [1, 2, 3, 4],\n",
      "     [5, 6, 7, 8],\n",
      "     [9, 10, 11, 12],]\n",
      "\n",
      "print(matrix)\n",
      "\n",
      "# Explicar esto \n",
      "matrix_t = [[row[i] for row in matrix] for i in range(4)]\n",
      "print(matrix_t)\n",
      "\n",
      "#funci\u00f3n que retorna una lista\n",
      "def func_ret_lista():\n",
      "    return ([x**2 for x in range(10)])\n",
      "\n",
      "print (\"func_ret_lista \", func_ret_lista())"
     ],
     "language": "python",
     "metadata": {},
     "outputs": [
      {
       "output_type": "stream",
       "stream": "stdout",
       "text": [
        "[0, 1, 4, 9, 16, 25, 36, 49, 64, 81]\n",
        "[0, 1, 4, 9, 16, 25, 36, 49, 64, 81]\n",
        "[0, 1, 4, 9, 16, 25, 36, 49, 64, 81]\n",
        "[(1, 3), (1, 4), (2, 3), (2, 1), (2, 4), (3, 1), (3, 4)]\n",
        "['3.1', '3.14', '3.142', '3.1416', '3.14159']\n",
        "[[1, 2, 3, 4], [5, 6, 7, 8], [9, 10, 11, 12]]\n",
        "[[1, 5, 9], [2, 6, 10], [3, 7, 11], [4, 8, 12]]\n",
        "func_ret_lista  [0, 1, 4, 9, 16, 25, 36, 49, 64, 81]\n"
       ]
      }
     ],
     "prompt_number": 6
    },
    {
     "cell_type": "markdown",
     "metadata": {},
     "source": [
      "### Tablas "
     ]
    },
    {
     "cell_type": "code",
     "collapsed": false,
     "input": [
      "tabla = []\n",
      "fila1 = [1, 3, 2]\n",
      "fila2 = ['q', 'w', 'e']\n",
      "tabla.append(fila1)\n",
      "tabla.append(fila2)\n",
      "\n",
      "print(tabla)\n",
      "print(tabla[0]) # primera fila, recordar que se empieza en cero\n",
      "print(tabla[1]) # segunda fila\n",
      "print(tabla[0][0])"
     ],
     "language": "python",
     "metadata": {},
     "outputs": [
      {
       "output_type": "stream",
       "stream": "stdout",
       "text": [
        "[[1, 3, 2], ['q', 'w', 'e']]\n",
        "[1, 3, 2]\n",
        "['q', 'w', 'e']\n",
        "1\n"
       ]
      }
     ],
     "prompt_number": 12
    },
    {
     "cell_type": "code",
     "collapsed": false,
     "input": [
      "# accediendo a todos\n",
      "for fila in tabla:\n",
      "    for e in fila:\n",
      "        print (e)"
     ],
     "language": "python",
     "metadata": {},
     "outputs": [
      {
       "output_type": "stream",
       "stream": "stdout",
       "text": [
        "1\n",
        "3\n",
        "2\n",
        "q\n",
        "w\n",
        "e\n"
       ]
      }
     ],
     "prompt_number": 60
    },
    {
     "cell_type": "code",
     "collapsed": false,
     "input": [
      "# accediendo a todos y a los \u00edndices\n",
      "for i, fila in enumerate (tabla):\n",
      "    for j, e in enumerate(fila):\n",
      "        print (i, \" \", j, \" \", e)"
     ],
     "language": "python",
     "metadata": {},
     "outputs": [
      {
       "output_type": "stream",
       "stream": "stdout",
       "text": [
        "0   0   1\n",
        "0   1   3\n",
        "0   2   2\n",
        "1   0   q\n",
        "1   1   w\n",
        "1   2   e\n"
       ]
      }
     ],
     "prompt_number": 62
    },
    {
     "cell_type": "code",
     "collapsed": false,
     "input": [
      "del(tabla[0]) ## borrando filas de la tabla\n",
      "print (tabla)"
     ],
     "language": "python",
     "metadata": {},
     "outputs": [
      {
       "output_type": "stream",
       "stream": "stdout",
       "text": [
        "[['q', 'w', 'e']]\n"
       ]
      }
     ],
     "prompt_number": 70
    },
    {
     "cell_type": "code",
     "collapsed": false,
     "input": [
      "# concatenar listas\n",
      "l1 = [1, 2]\n",
      "l2 = [3, 4,5]\n",
      "\n",
      "l3 = l1 + l2\n",
      "print (l3)\n",
      "l3 = l1 + tabla\n",
      "print (l3)"
     ],
     "language": "python",
     "metadata": {},
     "outputs": [
      {
       "output_type": "stream",
       "stream": "stdout",
       "text": [
        "[1, 2, 3, 4, 5]\n",
        "[1, 2, ['q', 'w', 'e']]\n"
       ]
      }
     ],
     "prompt_number": 71
    },
    {
     "cell_type": "code",
     "collapsed": false,
     "input": [
      "fila1 = [1, 3, 2]\n",
      "tabla.append(fila1)\n",
      "print(tabla)\n",
      "l3 = l1 + tabla\n",
      "print (l3)\n",
      "#operador de repetici\u00f3n\n",
      "l3 = l3 * 2\n",
      "print (l3)"
     ],
     "language": "python",
     "metadata": {},
     "outputs": [
      {
       "output_type": "stream",
       "stream": "stdout",
       "text": [
        "[['q', 'w', 'e'], [1, 3, 2], [1, 3, 2]]\n",
        "[1, 2, ['q', 'w', 'e'], [1, 3, 2], [1, 3, 2]]\n",
        "[1, 2, ['q', 'w', 'e'], [1, 3, 2], [1, 3, 2], 1, 2, ['q', 'w', 'e'], [1, 3, 2], [1, 3, 2]]\n"
       ]
      }
     ],
     "prompt_number": 73
    },
    {
     "cell_type": "markdown",
     "metadata": {},
     "source": [
      "## Diccionarios o hashes\n",
      "\n",
      "Son estructuras que a una clave, asignan un valor.\n"
     ]
    },
    {
     "cell_type": "code",
     "collapsed": false,
     "input": [
      "a = {} # declaraci\u00f3n  de un diccionario\n",
      "a[\"nombre_var\"] = \"vlx_01\"\n",
      "a[\"val\"] = 10\n",
      "print (a)\n",
      "b = a \n",
      "b[\"nombre_var\"] = \"vlx_02\"\n",
      "b[\"val\"] = 11\n",
      "print (b)\n",
      "c ={\"v1\":a, \"v2\":b}\n",
      "print (c)\n",
      "# formateo de print \n",
      "print (\"%s   %f\" % (c[\"v1\"][\"nombre_var\"], c[\"v1\"][\"val\"]))\n",
      "\n",
      "# accediendo a distintos niveles de informaci\u00f3n\n",
      "# vemos las claves\n",
      "for k in c:\n",
      "    print (k)\n",
      "\n",
      "# vemos la clave y su diccionario asociado    \n",
      "for k in c:\n",
      "    print (k, c[k])\n",
      "\n",
      "# formateamos la salida para imprimir    \n",
      "for k in c:\n",
      "    print (\"%s   %s   %f\" %(k, c[k][\"nombre_var\"], c[k][\"val\"]))\n",
      " \n",
      "#borrado de un elemento de la lista    \n",
      "del c[\"v1\"]\n",
      "\n",
      "print (c)    \n",
      "\n",
      "\n",
      "# restitu\u00edmos c\n",
      "c[\"v1\"] = a\n",
      "\n",
      "print (c)\n",
      "\n",
      "# borrado sin consecuencias en el diccionario original\n",
      "d =  dict(c)\n",
      "\n",
      "del d[\"v1\"]\n",
      "\n",
      "print (d)\n",
      "print (c)\n",
      "\n",
      "# iterando sobre la clave y el valor\n",
      "for k, v in c.items():\n",
      "     print(k, v)\n",
      "        \n",
      "#\n",
      "# Funci\u00f3n que retorna un diccionario\n",
      "#\n",
      "import random\n",
      "def func_rect_dict():\n",
      "    dct = {}\n",
      "    \n",
      "    for i in range(6):\n",
      "        dct['v' + str(i)] = i*2 +random.gauss(0,.2)\n",
      "    \n",
      "    return dct\n",
      "\n",
      "v1 = func_rect_dict()\n",
      "print (v1['v2'])\n",
      "\n",
      "    \n",
      "        "
     ],
     "language": "python",
     "metadata": {},
     "outputs": [
      {
       "output_type": "stream",
       "stream": "stdout",
       "text": [
        "{'val': 10, 'nombre_var': 'vlx_01'}\n",
        "{'val': 11, 'nombre_var': 'vlx_02'}\n",
        "{'v1': {'val': 11, 'nombre_var': 'vlx_02'}, 'v2': {'val': 11, 'nombre_var': 'vlx_02'}}\n",
        "vlx_02   11.000000\n",
        "v1\n",
        "v2\n",
        "v1 {'val': 11, 'nombre_var': 'vlx_02'}\n",
        "v2 {'val': 11, 'nombre_var': 'vlx_02'}\n",
        "v1   vlx_02   11.000000\n",
        "v2   vlx_02   11.000000\n",
        "{'v2': {'val': 11, 'nombre_var': 'vlx_02'}}\n",
        "{'v1': {'val': 11, 'nombre_var': 'vlx_02'}, 'v2': {'val': 11, 'nombre_var': 'vlx_02'}}\n",
        "{'v2': {'val': 11, 'nombre_var': 'vlx_02'}}\n",
        "{'v1': {'val': 11, 'nombre_var': 'vlx_02'}, 'v2': {'val': 11, 'nombre_var': 'vlx_02'}}\n",
        "v1 {'val': 11, 'nombre_var': 'vlx_02'}\n",
        "v2 {'val': 11, 'nombre_var': 'vlx_02'}\n",
        "4.096851264300147\n"
       ]
      }
     ],
     "prompt_number": 11
    },
    {
     "cell_type": "code",
     "collapsed": false,
     "input": [],
     "language": "python",
     "metadata": {},
     "outputs": [
      {
       "output_type": "stream",
       "stream": "stdout",
       "text": [
        "{'v2': {'val': 11, 'nombre_var': 'vlx_02'}}\n"
       ]
      }
     ],
     "prompt_number": 38
    },
    {
     "cell_type": "markdown",
     "metadata": {},
     "source": [
      "\n",
      "### Un uso interesante de diccionarios"
     ]
    },
    {
     "cell_type": "code",
     "collapsed": false,
     "input": [
      "def f1():\n",
      "    print (\"llamando f1\")\n",
      "    \n",
      "a = {\"f1\": f1}\n",
      "a[\"f1\"]()"
     ],
     "language": "python",
     "metadata": {},
     "outputs": [
      {
       "output_type": "stream",
       "stream": "stdout",
       "text": [
        "llamando f1\n"
       ]
      }
     ],
     "prompt_number": 77
    },
    {
     "cell_type": "code",
     "collapsed": false,
     "input": [
      "def f2():\n",
      "    print (\"llamando f2\")\n",
      "\n",
      "a[\"f2\"] = f2    \n",
      "a[\"f2\"]()    "
     ],
     "language": "python",
     "metadata": {},
     "outputs": [
      {
       "output_type": "stream",
       "stream": "stdout",
       "text": [
        "llamando f2\n"
       ]
      }
     ],
     "prompt_number": 79
    },
    {
     "cell_type": "markdown",
     "metadata": {},
     "source": [
      "### switch - case\n",
      "#### python no tiene, \u00bfPero qui\u00e9n los necesita?\n",
      "\n",
      "Pero se pueden construir f\u00e1cilmente.\n"
     ]
    },
    {
     "cell_type": "code",
     "collapsed": false,
     "input": [
      "def mi_switch_case(c):\n",
      "    if c == 1:\n",
      "        a[\"f1\"]()\n",
      "    elif c== 2:\n",
      "        a[\"f2\"]()\n",
      "    else:\n",
      "        pass\n",
      "    \n",
      "mi_switch_case(1)\n",
      "mi_switch_case(2)\n",
      "mi_switch_case(3)"
     ],
     "language": "python",
     "metadata": {},
     "outputs": [
      {
       "output_type": "stream",
       "stream": "stdout",
       "text": [
        "llamando f1\n",
        "llamando f2\n"
       ]
      }
     ],
     "prompt_number": 81
    },
    {
     "cell_type": "code",
     "collapsed": false,
     "input": [
      "# esto da un error\n",
      "a[\"f3\"] = f3    \n",
      "a[\"f3\"]()    "
     ],
     "language": "python",
     "metadata": {},
     "outputs": [
      {
       "ename": "NameError",
       "evalue": "name 'f3' is not defined",
       "output_type": "pyerr",
       "traceback": [
        "\u001b[1;31m---------------------------------------------------------------------------\u001b[0m\n\u001b[1;31mNameError\u001b[0m                                 Traceback (most recent call last)",
        "\u001b[1;32m<ipython-input-82-39d2c30f3651>\u001b[0m in \u001b[0;36m<module>\u001b[1;34m()\u001b[0m\n\u001b[1;32m----> 1\u001b[1;33m \u001b[0ma\u001b[0m\u001b[1;33m[\u001b[0m\u001b[1;34m\"f3\"\u001b[0m\u001b[1;33m]\u001b[0m \u001b[1;33m=\u001b[0m \u001b[0mf3\u001b[0m\u001b[1;33m\u001b[0m\u001b[0m\n\u001b[0m\u001b[0;32m      2\u001b[0m \u001b[0ma\u001b[0m\u001b[1;33m[\u001b[0m\u001b[1;34m\"f3\"\u001b[0m\u001b[1;33m]\u001b[0m\u001b[1;33m(\u001b[0m\u001b[1;33m)\u001b[0m\u001b[1;33m\u001b[0m\u001b[0m\n",
        "\u001b[1;31mNameError\u001b[0m: name 'f3' is not defined"
       ]
      }
     ],
     "prompt_number": 82
    },
    {
     "cell_type": "markdown",
     "metadata": {},
     "source": [
      "## Conjuntos (Sets)\n",
      "#### La notaci\u00f3n para conjuntos es distinta en python 2 y python 3\n",
      "\n",
      "Ac\u00e1 en python 3"
     ]
    },
    {
     "cell_type": "code",
     "collapsed": false,
     "input": [
      "\n",
      "A = set()  # create an empty set\n",
      "B = set([1,2,3]) # a 3 element set\n",
      "C = set([3,4,5])\n",
      "D = set([6,7,8])\n",
      "# Now try out some set operations\n",
      "print (B.union(C))\n",
      "print(B.intersection(C))\n",
      "print(B.issuperset(set([2])))\n",
      "print(set([3]).issubset(C))\n",
      "print(C.intersection(D) == A)"
     ],
     "language": "python",
     "metadata": {},
     "outputs": [
      {
       "output_type": "stream",
       "stream": "stdout",
       "text": [
        "{1, 2, 3, 4, 5}\n",
        "{3}\n",
        "True\n",
        "True\n",
        "True\n"
       ]
      }
     ],
     "prompt_number": 115
    },
    {
     "cell_type": "markdown",
     "metadata": {},
     "source": [
      "## Tuplas o listas inmutables (no se puede cambiar el valor)"
     ]
    },
    {
     "cell_type": "code",
     "collapsed": false,
     "input": [
      "a = ()\n",
      "# error\n",
      "a[0] = 1"
     ],
     "language": "python",
     "metadata": {},
     "outputs": [
      {
       "ename": "TypeError",
       "evalue": "'tuple' object does not support item assignment",
       "output_type": "pyerr",
       "traceback": [
        "\u001b[1;31m---------------------------------------------------------------------------\u001b[0m\n\u001b[1;31mTypeError\u001b[0m                                 Traceback (most recent call last)",
        "\u001b[1;32m<ipython-input-117-b38ce72f754c>\u001b[0m in \u001b[0;36m<module>\u001b[1;34m()\u001b[0m\n\u001b[0;32m      1\u001b[0m \u001b[0ma\u001b[0m \u001b[1;33m=\u001b[0m \u001b[1;33m(\u001b[0m\u001b[1;33m)\u001b[0m\u001b[1;33m\u001b[0m\u001b[0m\n\u001b[0;32m      2\u001b[0m \u001b[1;31m# error\u001b[0m\u001b[1;33m\u001b[0m\u001b[1;33m\u001b[0m\u001b[0m\n\u001b[1;32m----> 3\u001b[1;33m \u001b[0ma\u001b[0m\u001b[1;33m[\u001b[0m\u001b[1;36m0\u001b[0m\u001b[1;33m]\u001b[0m \u001b[1;33m=\u001b[0m \u001b[1;36m1\u001b[0m\u001b[1;33m\u001b[0m\u001b[0m\n\u001b[0m",
        "\u001b[1;31mTypeError\u001b[0m: 'tuple' object does not support item assignment"
       ]
      }
     ],
     "prompt_number": 117
    },
    {
     "cell_type": "code",
     "collapsed": false,
     "input": [
      "b= (1, 2, 3)\n",
      "# no hay error\n",
      "b[0]"
     ],
     "language": "python",
     "metadata": {},
     "outputs": [
      {
       "metadata": {},
       "output_type": "pyout",
       "prompt_number": 118,
       "text": [
        "1"
       ]
      }
     ],
     "prompt_number": 118
    },
    {
     "cell_type": "code",
     "collapsed": false,
     "input": [
      "#error no se puede cambiar el valor\n",
      "b[0] = 3"
     ],
     "language": "python",
     "metadata": {},
     "outputs": [
      {
       "ename": "TypeError",
       "evalue": "'tuple' object does not support item assignment",
       "output_type": "pyerr",
       "traceback": [
        "\u001b[1;31m---------------------------------------------------------------------------\u001b[0m\n\u001b[1;31mTypeError\u001b[0m                                 Traceback (most recent call last)",
        "\u001b[1;32m<ipython-input-119-2d16f71b0035>\u001b[0m in \u001b[0;36m<module>\u001b[1;34m()\u001b[0m\n\u001b[0;32m      1\u001b[0m \u001b[1;31m#error\u001b[0m\u001b[1;33m\u001b[0m\u001b[1;33m\u001b[0m\u001b[0m\n\u001b[1;32m----> 2\u001b[1;33m \u001b[0mb\u001b[0m\u001b[1;33m[\u001b[0m\u001b[1;36m0\u001b[0m\u001b[1;33m]\u001b[0m \u001b[1;33m=\u001b[0m \u001b[1;36m3\u001b[0m\u001b[1;33m\u001b[0m\u001b[0m\n\u001b[0m",
        "\u001b[1;31mTypeError\u001b[0m: 'tuple' object does not support item assignment"
       ]
      }
     ],
     "prompt_number": 119
    },
    {
     "cell_type": "code",
     "collapsed": false,
     "input": [
      "# pero se pueden agregar valores\n",
      "# error\n",
      "b[3] = 4"
     ],
     "language": "python",
     "metadata": {},
     "outputs": [
      {
       "ename": "TypeError",
       "evalue": "'tuple' object does not support item assignment",
       "output_type": "pyerr",
       "traceback": [
        "\u001b[1;31m---------------------------------------------------------------------------\u001b[0m\n\u001b[1;31mTypeError\u001b[0m                                 Traceback (most recent call last)",
        "\u001b[1;32m<ipython-input-120-d07b66feb1eb>\u001b[0m in \u001b[0;36m<module>\u001b[1;34m()\u001b[0m\n\u001b[0;32m      1\u001b[0m \u001b[1;31m# pero se pueden agregar valores\u001b[0m\u001b[1;33m\u001b[0m\u001b[1;33m\u001b[0m\u001b[0m\n\u001b[1;32m----> 2\u001b[1;33m \u001b[0mb\u001b[0m\u001b[1;33m[\u001b[0m\u001b[1;36m3\u001b[0m\u001b[1;33m]\u001b[0m \u001b[1;33m=\u001b[0m \u001b[1;36m4\u001b[0m\u001b[1;33m\u001b[0m\u001b[0m\n\u001b[0m",
        "\u001b[1;31mTypeError\u001b[0m: 'tuple' object does not support item assignment"
       ]
      }
     ],
     "prompt_number": 120
    },
    {
     "cell_type": "code",
     "collapsed": false,
     "input": [
      "b = b + (4, ) # va la coma para que sea una tupla\n",
      "print (b)\n",
      "c = 2*b\n",
      "print (c)\n",
      "print (c+b)"
     ],
     "language": "python",
     "metadata": {},
     "outputs": [
      {
       "output_type": "stream",
       "stream": "stdout",
       "text": [
        "(1, 2, 3, 4, 4, 4, 4)\n",
        "(1, 2, 3, 4, 4, 4, 4, 1, 2, 3, 4, 4, 4, 4)\n",
        "(1, 2, 3, 4, 4, 4, 4, 1, 2, 3, 4, 4, 4, 4, 1, 2, 3, 4, 4, 4, 4)\n"
       ]
      }
     ],
     "prompt_number": 124
    },
    {
     "cell_type": "markdown",
     "metadata": {},
     "source": [
      "# Testeos unitarios\n",
      "M\u00e1s informaci\u00f3n [link](https://docs.python.org/2/library/unittest.html)"
     ]
    },
    {
     "cell_type": "code",
     "collapsed": false,
     "input": [
      "import unittest\n",
      "\n",
      "def f1 (n1, n2):\n",
      "    return n1 + n2\n",
      "\n",
      "def f2 (n1, n2):\n",
      "    return n1 > n2\n",
      "\n",
      "def f3 (n1):\n",
      "    return 2*n1\n",
      "\n",
      "\n",
      "\n",
      "class TestStringMethods(unittest.TestCase):\n",
      "\n",
      "  def test_upper(self):\n",
      "      self.assertEqual('foo'.upper(), 'FOO')\n",
      "\n",
      "  def test_isupper(self):\n",
      "      self.assertTrue('FOO'.isupper())\n",
      "      self.assertFalse('Foo'.isupper())\n",
      "\n",
      "  def test_split(self):\n",
      "      s = 'hello world'\n",
      "      self.assertEqual(s.split(), ['hello', 'world'])\n",
      "      # check that s.split fails when the separator is not a string\n",
      "      with self.assertRaises(TypeError):\n",
      "          s.split(2)\n",
      "                    \n",
      "  def test_f2a (self):\n",
      "      self.assertTrue(f2(4,2), 4)\n",
      "\n",
      "  def test_f2b (self):\n",
      "      self.assertFalse(f2(2,4), 4)\n",
      "\n",
      "\n",
      "  def test_f1 (self):\n",
      "      self.assertEqual(f1(2,2), 4)\n",
      "\n",
      "  def test_f3 (self):\n",
      "      self.assertEqual(f3(2), 6)\n",
      "\n",
      "                    \n",
      "if __name__ == '__main__':\n",
      "    unittest.main()"
     ],
     "language": "python",
     "metadata": {},
     "outputs": []
    },
    {
     "cell_type": "markdown",
     "metadata": {},
     "source": [
      "    ...F...\n",
      "    ======================================================================\n",
      "    FAIL: test_f3 (__main__.TestStringMethods)\n",
      "    ----------------------------------------------------------------------\n",
      "    Traceback (most recent call last):\n",
      "      File \"testing.py\", line 39, in test_f3\n",
      "        self.assertEqual(f3(2), 6)\n",
      "    AssertionError: 4 != 6\n",
      "\n",
      "    ----------------------------------------------------------------------\n",
      "    Ran 7 tests in 0.001s\n",
      "\n",
      "    FAILED (failures=1)"
     ]
    },
    {
     "cell_type": "markdown",
     "metadata": {},
     "source": [
      "### Ejercicio, lo mismo que antes, pero las funciones que quiero testear estan en un paquete: mis_func.py"
     ]
    },
    {
     "cell_type": "markdown",
     "metadata": {},
     "source": [
      "# Control de versi\u00f3n\n",
      "\n",
      "## Usar git u otro"
     ]
    },
    {
     "cell_type": "markdown",
     "metadata": {},
     "source": [
      "### \u00bfQu\u00e9 es el control de versiones, y por qu\u00e9 deber\u00eda importarte? [link](https://git-scm.com/book/es/v1/Empezando-Acerca-del-control-de-versiones#Sistemas-de-control-de-versiones-locales)\n",
      "\n",
      "El control de versiones es un sistema que registra los cambios realizados sobre un archivo o conjunto de archivos a lo largo del tiempo, de modo que puedas recuperar versiones espec\u00edficas m\u00e1s adelante.\n",
      "\n",
      "El control de versiones de un proyecto de software (de toda su documentaci\u00f3n) es un requisito importante para cumplir con determinada normativa de calidad de software.\n",
      "\n",
      "Sin control de versi\u00f3n no se puede tener conocer cuales son los cambios introducidos y cual es su justificaci\u00f3n.\n",
      "\n"
     ]
    },
    {
     "cell_type": "markdown",
     "metadata": {},
     "source": [
      "## Sistemas de control de versiones locales / remota no autom\u00e1tica\n",
      "\n",
      "Se guardan en una carpeta las ditintas versiones de los archivos, o del proyecto.\n",
      "Puede ser remota usando drive de google o dropbox.\n",
      "\n",
      "### rcs - Revision Control System\n",
      "\n",
      "Guarda en el disco las diferencias (parches) entre las distintas versiones de los archivos,\n",
      "integrando  esas diferencias se puede reconstruir el archivo en cualquier momento de su historia.\n",
      "\n",
      "## Sistemas de control de versiones centralizados\n",
      "\n",
      "### cvs - Centralized Version Control Systems\n",
      "\n",
      "Los archivos se encuentran en un servidor y varios clientes que descargan los archivos desde ese lugar central.\n",
      "\n",
      "Desventajas. La m\u00e1s obvia es el punto \u00fanico de fallo que representa el servidor centralizado.\n",
      "\n",
      "## Sistemas de control de versiones distribuidos\n",
      "\n",
      "Los clientes no s\u00f3lo descargan la \u00faltima instant\u00e1nea de los archivos: replican completamente el repositorio. Esto te permite establecer varios flujos de trabajo que no son posibles en sistemas centralizados.\n",
      "\n",
      "Git modela sus datos como un conjunto de instant\u00e1neas de un mini sistema de archivos. Cada vez que se confirma un cambio, o se guarda el estado de un proyecto en Git, b\u00e1sicamente hace una foto del aspecto de todos los archivos en ese momento, y guarda una referencia a esa instant\u00e1nea. Para ser eficiente, si los archivos no se han modificado, Git no almacena el archivo de nuevo, s\u00f3lo un enlace al archivo anterior id\u00e9ntico que ya tiene almacenado.\n"
     ]
    },
    {
     "cell_type": "code",
     "collapsed": false,
     "input": [
      "from IPython.display import Image\n",
      "Image(filename='git-almacenamiento.png')"
     ],
     "language": "python",
     "metadata": {},
     "outputs": [
      {
       "metadata": {},
       "output_type": "pyout",
       "png": "[encoded data removed]",
       "prompt_number": 16,
       "text": [
        "<IPython.core.display.Image at 0xb2a4ca8c>"
       ]
      }
     ],
     "prompt_number": 16
    },
    {
     "cell_type": "markdown",
     "metadata": {},
     "source": [
      "## Operaciones locales\n",
      "\n",
      "La mayor\u00eda de las operaciones son locales. Se puede trabajar desconectado de la red y cuando\n",
      "se vuelve a tener conexi\u00f3n actualizar un repositorio remoto.\n",
      "\n",
      "## Importante - Los tres estados\n",
      "\n",
      "Git tiene tres estados principales en los que se pueden encontrar tus archivos:\n",
      "### confirmado (committed) \n",
      "\n",
      "Confirmado significa que los datos est\u00e1n almacenados de manera segura en tu base de datos local.\n",
      "\n",
      "### Modificado (modified) \n",
      "\n",
      "Modificado significa que has modificado el archivo pero todav\u00eda no lo has confirmado a tu base de datos.\n",
      "\n",
      "### Preparado (staged) \n",
      "Preparado significa que has marcado un archivo modificado en su versi\u00f3n actual para que vaya en tu pr\u00f3xima confirmaci\u00f3n."
     ]
    },
    {
     "cell_type": "code",
     "collapsed": false,
     "input": [
      "Image(filename='git-local-operations.png')"
     ],
     "language": "python",
     "metadata": {},
     "outputs": [
      {
       "metadata": {},
       "output_type": "pyout",
       "png": "[encoded data removed]",
       "prompt_number": 14,
       "text": [
        "<IPython.core.display.Image at 0xb2a4ccec>"
       ]
      }
     ],
     "prompt_number": 14
    },
    {
     "cell_type": "code",
     "collapsed": false,
     "input": [],
     "language": "python",
     "metadata": {},
     "outputs": []
    }
   ],
   "metadata": {}
  }
 ]
}
