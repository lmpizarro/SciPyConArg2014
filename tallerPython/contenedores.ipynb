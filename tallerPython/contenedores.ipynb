{
 "cells": [
  {
   "cell_type": "markdown",
   "metadata": {},
   "source": [
    "### Listas\n",
    "\n",
    "Una estructura que contiene elementos separados por comas y encerradas entre llaves [].\n",
    "\n",
    "Más sobre listas [link] (https://docs.python.org/2/tutorial/datastructures.html)"
   ]
  },
  {
   "cell_type": "code",
   "execution_count": 4,
   "metadata": {
    "collapsed": false
   },
   "outputs": [
    {
     "name": "stdout",
     "output_type": "stream",
     "text": [
      "toda la lista  ['abcd', 786, 2.23, 'john', 70.2]\n",
      "el primer elemento  abcd\n",
      "desde 1 hasta 3 (no incluye)  [786, 2.23]\n",
      "desde 2 hat el fin  [2.23, 'john', 70.2]\n",
      "concatena 2 veces la listita  [123, 'john', 123, 'john']\n",
      "concatena listas distintas  ['abcd', 786, 2.23, 'john', 70.2, 123, 'john']\n",
      "lista agregada  ['abcd', 786, 2.23, 'john', 70.2, 'app']\n",
      "['2']\n",
      "[]\n",
      "elemento eliminado  abcd\n",
      "la lista después de la eliminación [786, 2.23, 'john', 70.2, 'app']\n",
      "lista ordenada ['0', 'a', 'b', 'd', 'f', 'h', 't', 'w']\n"
     ]
    }
   ],
   "source": [
    "lista = [ 'abcd', 786 , 2.23, 'john', 70.2 ]\n",
    "listita = [123, 'john']\n",
    "\n",
    "print (\"toda la lista \",lista)\n",
    "print (\"el primer elemento \",lista[0])\n",
    "print (\"desde 1 hasta 3 (no incluye) \", lista [1:3])\n",
    "print (\"desde 2 hat el fin \",lista [2:])\n",
    "print (\"concatena 2 veces la listita \",listita * 2)\n",
    "print (\"concatena listas distintas \", lista + listita)\n",
    "lista.append(\"app\")\n",
    "# agregar un elemento a la lista\n",
    "print (\"lista agregada \", lista)\n",
    "\n",
    "#inicializar la  lista vacía\n",
    "listita = []\n",
    "listita.append (\"2\")\n",
    "print (listita)\n",
    "#eliminar el elemento\n",
    "listita.remove(\"2\")\n",
    "print (listita)\n",
    "#eliminar el elemento i-ésimo\n",
    "print (\"elemento eliminado \",lista.pop(0))\n",
    "print (\"la lista después de la eliminación\",lista)\n",
    "\n",
    "abc = ['w','h','b','t','d','f','a','0']\n",
    "abc.sort()\n",
    "print (\"lista ordenada\", abc)\n"
   ]
  },
  {
   "cell_type": "code",
   "execution_count": 5,
   "metadata": {
    "collapsed": false
   },
   "outputs": [
    {
     "name": "stdout",
     "output_type": "stream",
     "text": [
      "0\n",
      "15\n",
      "1\n",
      "32\n",
      "2\n",
      "35\n",
      "3\n",
      "34\n",
      "4\n",
      "33\n",
      "5\n",
      "36\n",
      "10\n",
      "15\n",
      "11\n",
      "32\n",
      "12\n",
      "35\n",
      "13\n",
      "34\n",
      "14\n",
      "33\n",
      "15\n",
      "36\n"
     ]
    }
   ],
   "source": [
    "# una lista \n",
    "l = [[['0',15],['1', 32], ['2', 35],['3', 34], ['4', 33], ['5', 36]],\n",
    "    [['10',15],['11', 32], ['12', 35],['13', 34], ['14', 33], ['15', 36]]]\n",
    "# recorro todos los elementos\n",
    "# de la lista l\n",
    "for ls in l:\n",
    "    for lss in ls:\n",
    "        for lsss in lss:\n",
    "            print (lsss)"
   ]
  },
  {
   "cell_type": "code",
   "execution_count": 6,
   "metadata": {
    "collapsed": false
   },
   "outputs": [
    {
     "name": "stdout",
     "output_type": "stream",
     "text": [
      "False\n",
      "2 1 -4\n",
      "9 1 1 2\n"
     ]
    }
   ],
   "source": [
    "# Uso del operador in \n",
    "a = 0 in [1,2,3]\n",
    "print (a) \n",
    "\n",
    "# otras operaciones \n",
    "print(2%3, 3//2, ~3)\n",
    "\n",
    "# representación de numeros en otras bases\n",
    "print (0o11, 0x01, 0b01 ,0b11 & 0b10)"
   ]
  },
  {
   "cell_type": "markdown",
   "metadata": {},
   "source": [
    "## Más sobre listas"
   ]
  },
  {
   "cell_type": "code",
   "execution_count": 9,
   "metadata": {
    "collapsed": false
   },
   "outputs": [
    {
     "name": "stdout",
     "output_type": "stream",
     "text": [
      "[1, 2, 3, 4, 'q']\n",
      "[2]\n",
      "[2, 3, 4, 'q']\n",
      "[1, 2, 3, 4]\n",
      "[1, 2, 3]\n",
      "[4, 'q']\n",
      "[4, 'q']\n",
      "[1, 3, 4, 'q']\n",
      "[1, 56, 3, 4, 'q']\n",
      "[1, 56, 3, 4, 'q', 45, 78]\n",
      "[1, 56, 3, 4, 'q', 78]\n",
      "lista luego del clear []\n",
      "índice 1\n",
      "cantidad de véces que un elemento aparece 2 [1, 56, 3, 4, 56, 'q', 78]\n",
      "[1, 3, 4, 56, 56, 78]\n",
      "[78, 56, 56, 4, 3, 1]\n",
      "Borrado luego de del [78, 56, 56, 3, 1]\n",
      "las 2 listas --- [78, 56, 56, 3, 1] [78, 56, 3, 1]\n",
      "78 78\n",
      "56 56\n",
      "56 3\n",
      "3 1\n"
     ]
    },
    {
     "ename": "IndexError",
     "evalue": "list index out of range",
     "output_type": "error",
     "traceback": [
      "\u001b[1;31m---------------------------------------------------------------------------\u001b[0m",
      "\u001b[1;31mIndexError\u001b[0m                                Traceback (most recent call last)",
      "\u001b[1;32m<ipython-input-9-87fdaf891537>\u001b[0m in \u001b[0;36m<module>\u001b[1;34m()\u001b[0m\n\u001b[0;32m     55\u001b[0m     \u001b[0mprint\u001b[0m \u001b[1;33m(\u001b[0m\u001b[0mn\u001b[0m\u001b[1;33m,\u001b[0m\u001b[0mf\u001b[0m\u001b[1;33m)\u001b[0m\u001b[1;33m\u001b[0m\u001b[0m\n\u001b[0;32m     56\u001b[0m \u001b[1;33m\u001b[0m\u001b[0m\n\u001b[1;32m---> 57\u001b[1;33m \u001b[0mprint\u001b[0m \u001b[1;33m(\u001b[0m\u001b[0mlista\u001b[0m\u001b[1;33m[\u001b[0m\u001b[1;33m-\u001b[0m\u001b[1;36m1\u001b[0m\u001b[1;33m]\u001b[0m\u001b[1;33m)\u001b[0m \u001b[1;31m# pero esto produce error\u001b[0m\u001b[1;33m\u001b[0m\u001b[0m\n\u001b[0m",
      "\u001b[1;31mIndexError\u001b[0m: list index out of range"
     ]
    }
   ],
   "source": [
    "lista = [21,21,21] # corchetes\n",
    "lista1 = [1,2,3,4]\n",
    "lista1.append (\"q\")\n",
    "\n",
    "print (lista1)\n",
    "print (lista1[1:2])\n",
    "print (lista1[1:])\n",
    "print (lista1[:4])\n",
    "print (lista1[:-2])\n",
    "print (lista1[-2:]) # equivalentes ¿Cómo es esto?\n",
    "print (lista1[3:])\n",
    "\n",
    "# como borrar un elemento de la lista\n",
    "lista1.pop(1)\n",
    "print (lista1)\n",
    "# inserción de elementos en la lista\n",
    "lista1.insert(1, 56)\n",
    "print (lista1)\n",
    "# extender la lista con otra lista\n",
    "lista1.extend([45,78])\n",
    "print (lista1)\n",
    "# remover un elemento\n",
    "lista1.remove(45)\n",
    "print (lista1)\n",
    "lista.clear()\n",
    "print (\"lista luego del clear\", lista)\n",
    "# devuelve el índice de la primer ocurrencia del elemento\n",
    "index = lista1.index(56)\n",
    "print (\"índice\", index)\n",
    "# devuelve el número de véces que un elemento aparece en la lista\n",
    "lista1.insert(4, 56)\n",
    "count = lista1.count (56)\n",
    "print(\"cantidad de véces que un elemento aparece\", count, lista1)\n",
    "#ordenar la lista, los elementos tienen que ser del mismo tipo\n",
    "lista1.pop(5)\n",
    "lista1.sort()\n",
    "print (lista1)\n",
    "lista1.reverse()\n",
    "print (lista1)\n",
    "# borrar con del\n",
    "del lista1[3]\n",
    "print (\"Borrado luego de del\", lista1)\n",
    "\n",
    "# borrado sin consecuencias en la lista original\n",
    "lista2 = list(lista1)\n",
    "\n",
    "del lista2[1]\n",
    "\n",
    "print(\"las 2 listas ---\", lista1, lista2)\n",
    "\n",
    "# Iterar en paralelo 2 listas\n",
    "# la iteración termina en la lista \n",
    "# que tiene menos elementos\n",
    "for n,f in zip(lista1, lista2):\n",
    "    print (n,f)\n",
    "\n",
    "print (lista[-1]) # pero esto produce error"
   ]
  },
  {
   "cell_type": "markdown",
   "metadata": {},
   "source": [
    "### Listas en 2D: Tablas"
   ]
  },
  {
   "cell_type": "code",
   "execution_count": 10,
   "metadata": {
    "collapsed": false
   },
   "outputs": [
    {
     "name": "stdout",
     "output_type": "stream",
     "text": [
      "[[1, 3, 2], ['q', 'w', 'e']]\n",
      "[1, 3, 2]\n",
      "['q', 'w', 'e']\n",
      "1\n",
      "1\n",
      "3\n",
      "2\n",
      "q\n",
      "w\n",
      "e\n",
      "0   0   1\n",
      "0   1   3\n",
      "0   2   2\n",
      "1   0   q\n",
      "1   1   w\n",
      "1   2   e\n",
      "[['q', 'w', 'e']]\n",
      "[1, 2, 3, 4, 5]\n",
      "[1, 2, ['q', 'w', 'e']]\n",
      "[['q', 'w', 'e'], [1, 3, 2]]\n",
      "[1, 2, ['q', 'w', 'e'], [1, 3, 2]]\n",
      "[1, 2, ['q', 'w', 'e'], [1, 3, 2], 1, 2, ['q', 'w', 'e'], [1, 3, 2]]\n"
     ]
    }
   ],
   "source": [
    "tabla = []\n",
    "fila1 = [1, 3, 2]\n",
    "fila2 = ['q', 'w', 'e']\n",
    "tabla.append(fila1)\n",
    "tabla.append(fila2)\n",
    "\n",
    "print(tabla)\n",
    "print(tabla[0]) # primera fila, recordar que se empieza en cero\n",
    "print(tabla[1]) # segunda fila\n",
    "print(tabla[0][0])\n",
    "\n",
    "\n",
    "# accediendo a todos\n",
    "for fila in tabla:\n",
    "    for e in fila:\n",
    "        print (e)\n",
    "\n",
    "# accediendo a todos y a los índices\n",
    "for i, fila in enumerate (tabla):\n",
    "    for j, e in enumerate(fila):\n",
    "        print (i, \" \", j, \" \", e)\n",
    "        \n",
    "del(tabla[0]) ## borrando filas de la tabla\n",
    "print (tabla)\n",
    "\n",
    "\n",
    "# concatenar listas\n",
    "l1 = [1, 2]\n",
    "l2 = [3, 4,5]\n",
    "\n",
    "l3 = l1 + l2\n",
    "print (l3)\n",
    "l3 = l1 + tabla\n",
    "print (l3)\n",
    "\n",
    "\n",
    "fila1 = [1, 3, 2]\n",
    "tabla.append(fila1)\n",
    "print(tabla)\n",
    "l3 = l1 + tabla\n",
    "print (l3)\n",
    "#operador de repetición\n",
    "l3 = l3 * 2\n",
    "print (l3)"
   ]
  },
  {
   "cell_type": "markdown",
   "metadata": {},
   "source": [
    "## Ejemplo con lista\n",
    "\n",
    "### Referencias\n",
    "\n",
    "* Dive Into Python 3 [link](http://www.diveintopython3.net/)\n",
    "* Python Module of the Week [PyMOTW](http://pymotw.com/2/)"
   ]
  },
  {
   "cell_type": "code",
   "execution_count": 11,
   "metadata": {
    "collapsed": false
   },
   "outputs": [
    {
     "name": "stdout",
     "output_type": "stream",
     "text": [
      "Revision_Control_Software.ipynb es un notebook de ipython\n",
      "Diagrama-30-GC.png es una imagen .png\n",
      "iteradores.ipynb es un notebook de ipython\n",
      "example.png es una imagen .png\n",
      "funciones.ipynb es un notebook de ipython\n",
      "git-almacenamiento.png es una imagen .png\n",
      "Diagrama-10-GC.png es una imagen .png\n",
      "reduce_diagram.png es una imagen .png\n",
      "bc-figure04.png es una imagen .png\n",
      "bc-figure02.png es una imagen .png\n",
      "fruit.png es una imagen .png\n",
      "bc-figure01.png es una imagen .png\n",
      "cython_optimization.ipynb es un notebook de ipython\n",
      "matplotlib.ipynb es un notebook de ipython\n",
      "bc-figure03.png es una imagen .png\n",
      "Diagrama-20-GC.png es una imagen .png\n",
      "numpy.ipynb es un notebook de ipython\n",
      "archivos-csv.ipynb es un notebook de ipython\n",
      "lena.png es una imagen .png\n",
      "modularizacion.ipynb es un notebook de ipython\n",
      "intro.ipynb es un notebook de ipython\n",
      "clases.ipynb es un notebook de ipython\n",
      "contenedores.ipynb es un notebook de ipython\n",
      "numpy-iterators.ipynb es un notebook de ipython\n",
      "git-local-operations.png es una imagen .png\n",
      "lifecycle-git.png es una imagen .png\n",
      "gestion-proyecto.ipynb es un notebook de ipython\n",
      "blocks.png es una imagen .png\n",
      "strawberry_tart_as_class.png es una imagen .png\n",
      "\n",
      " is dir \n",
      "\n",
      "fractional : es directorio\n",
      "mpi : es directorio\n",
      "f2py : es directorio\n",
      "image : es directorio\n",
      "bibliografia : es directorio\n",
      "html : es directorio\n",
      ".ipynb_checkpoints : es directorio\n",
      "notebooks : es directorio\n",
      "False\n"
     ]
    }
   ],
   "source": [
    "import os\n",
    "\n",
    "path = \"./\"\n",
    "lista_nombres_directorio = os.listdir(path)\n",
    "\n",
    "for e in lista_nombres_directorio:\n",
    "    #print (e, os.path.isfile(e), os.path.splitext(e)[1] == '.ipynb')\n",
    "    if os.path.splitext(e)[1] == '.ipynb':\n",
    "        print (e, \"es un notebook de ipython\")\n",
    "    elif os.path.splitext(e)[1] == '.png':\n",
    "        print (e, \"es una imagen .png\")\n",
    "    \n",
    "print(\"\\n is dir \\n\")    \n",
    "    \n",
    "for e in lista_nombres_directorio:\n",
    "    if os.path.isdir(e):\n",
    "        print (e, \": es directorio\")\n",
    "        \n",
    "print(os.path.exists(path + 'pepe.py'))"
   ]
  },
  {
   "cell_type": "markdown",
   "metadata": {},
   "source": [
    "## listas por comprehensión:\n",
    "\n",
    "### Tutorial Data structures [List Comprehensions](https://docs.python.org/3.4/tutorial/datastructures.html#list-comprehensions)\n",
    "\n",
    "\n",
    "Es la forma de python para implementar la notación de conjuntos. Y se sustituye filter, reduce, map. \n",
    "\n",
    "${ \\{ x^2 | \\forall x \\in (10 <= x < 15), x \\in N \\} }$\n",
    "\n",
    "\n"
   ]
  },
  {
   "cell_type": "code",
   "execution_count": 14,
   "metadata": {
    "collapsed": false
   },
   "outputs": [
    {
     "name": "stdout",
     "output_type": "stream",
     "text": [
      "[0, 1, 4, 9, 16, 25, 36, 49, 64, 81]\n",
      "[0, 1, 4, 9, 16, 25, 36, 49, 64, 81]\n",
      "[0, 1, 4, 9, 16, 25, 36, 49, 64, 81]\n",
      "[(1, 3), (1, 4), (2, 3), (2, 1), (2, 4), (3, 1), (3, 4)]\n",
      "['3.1', '3.14', '3.142', '3.1416', '3.14159']\n",
      "[[1, 2, 3, 4], [5, 6, 7, 8], [9, 10, 11, 12]]\n",
      "[[1, 5, 9], [2, 6, 10], [3, 7, 11], [4, 8, 12]]\n",
      "func_ret_lista  [0, 1, 4, 9, 16, 25, 36, 49, 64, 81]\n"
     ]
    }
   ],
   "source": [
    "# listas por comprehension\n",
    "\n",
    "squares = []\n",
    "for x in range(10):\n",
    "     squares.append(x**2)\n",
    "print(squares)\n",
    "\n",
    "squares = list(map(lambda x: x**2, range(10)))\n",
    "print(squares)\n",
    "\n",
    "squares = [x**2 for x in range(10)]\n",
    "print(squares)\n",
    "\n",
    "pairs = [(x, y) for x in [1,2,3] for y in [3,1,4] if x != y]\n",
    "\n",
    "print (pairs)\n",
    "\n",
    "from math import pi\n",
    "strings_pi = [str(round(pi, i)) for i in range(1, 6)]\n",
    "print(strings_pi)\n",
    "\n",
    "matrix = [\n",
    "     [1, 2, 3, 4],\n",
    "     [5, 6, 7, 8],\n",
    "     [9, 10, 11, 12],]\n",
    "\n",
    "print(matrix)\n",
    "\n",
    "# Explicar esto \n",
    "matrix_t = [[row[i] for row in matrix] for i in range(4)]\n",
    "print(matrix_t)\n",
    "\n",
    "#función que retorna una lista\n",
    "def func_ret_lista():\n",
    "    return ([x**2 for x in range(10)])\n",
    "\n",
    "print (\"func_ret_lista \", func_ret_lista())"
   ]
  },
  {
   "cell_type": "code",
   "execution_count": 15,
   "metadata": {
    "collapsed": false
   },
   "outputs": [
    {
     "name": "stdout",
     "output_type": "stream",
     "text": [
      "[100, 121, 144, 169, 196]\n",
      "730\n",
      "730\n",
      "[('red', 'house'), ('red', 'car'), ('red', 'tree'), ('green', 'house'), ('green', 'car'), ('green', 'tree'), ('yellow', 'house'), ('yellow', 'car'), ('yellow', 'tree'), ('blue', 'house'), ('blue', 'car'), ('blue', 'tree')]\n"
     ]
    }
   ],
   "source": [
    "# listas por comprehension\n",
    "\n",
    "cuadrados = [i**2 for i in range(10,15,1)]\n",
    "print(cuadrados)\n",
    "print(sum(cuadrados))\n",
    "print(sum([i**2 for i in range(10,15,1)]))\n",
    "\n",
    "colours = [ \"red\", \"green\", \"yellow\", \"blue\" ]\n",
    "things = [ \"house\", \"car\", \"tree\" ]\n",
    "coloured_things = [ (x,y) for x in colours for y in things ]\n",
    "print (coloured_things)"
   ]
  },
  {
   "cell_type": "markdown",
   "metadata": {},
   "source": [
    "### Diccionarios\n",
    "\n",
    "Es una estructura de datos que permite a una clave asignarle un valor. Más información [acá](https://docs.python.org/2/tutorial/datastructures.html#dictionaries) y [acá](http://www.tutorialspoint.com/python/python_dictionary.htm)"
   ]
  },
  {
   "cell_type": "code",
   "execution_count": 12,
   "metadata": {
    "collapsed": false
   },
   "outputs": [
    {
     "name": "stdout",
     "output_type": "stream",
     "text": [
      "el diccionario  {'nombre': 'Abel', 'direccion': 'Av. Gral. Paz 1999'}\n",
      "el valor asociado a la clave Av. Gral. Paz 1999\n",
      "el diccionario  {'nombre': 'Abel', 'edad': 20, 'direccion': 'Av. Gral. Paz 1999'}\n",
      "el diccionario  {'nombre': 'Abel', 'edad': 25, 'direccion': 'Av. Gral. Paz 1999'}\n",
      "el diccionario  {'nombre': 'Abel', 'direccion': 'Av. Gral. Paz 1999'}\n",
      "el diccionario  {'nombre': 'Abel', 'restaurant': [{'nombre': '1888', 'preferencia': 'pizza'}, {'nombre': 'la esquina', 'preferencia': 'bife'}], 'direccion': 'Av. Gral. Paz 1999'}\n"
     ]
    }
   ],
   "source": [
    "dict = {}\n",
    "dict [\"direccion\"] = \"Av. Gral. Paz 1999\"\n",
    "dict [\"nombre\"] = \"Abel\"\n",
    "\n",
    "print (\"el diccionario \", dict)\n",
    "print (\"el valor asociado a la clave\", dict[\"direccion\"])\n",
    "\n",
    "\n",
    "# agregar un par clave-valor.\n",
    "dict [\"edad\"] = 20\n",
    "\n",
    "print (\"el diccionario \", dict)\n",
    "\n",
    "#modificar una clave\n",
    "dict [\"edad\"] = 25\n",
    "print (\"el diccionario \", dict)\n",
    "\n",
    "# borrar una clave\n",
    "del dict [\"edad\"]\n",
    "print (\"el diccionario \", dict)\n",
    "\n",
    "# agregar un dictionario\n",
    "dict [\"restaurant\"] = [{\"nombre\": \"1888\", \"preferencia\": \"pizza\"}, \n",
    "                       {\"nombre\":\"la esquina\", \"preferencia\":\"bife\"}]\n",
    "print (\"el diccionario \", dict)"
   ]
  },
  {
   "cell_type": "code",
   "execution_count": 13,
   "metadata": {
    "collapsed": false
   },
   "outputs": [
    {
     "name": "stdout",
     "output_type": "stream",
     "text": [
      "{'nombre_var': 'vlx_01', 'val': 10}\n",
      "{'nombre_var': 'vlx_02', 'val': 11}\n",
      "{'v2': {'nombre_var': 'vlx_02', 'val': 11}, 'v1': {'nombre_var': 'vlx_02', 'val': 11}}\n",
      "vlx_02   11.000000\n",
      "v2\n",
      "v1\n",
      "v2 {'nombre_var': 'vlx_02', 'val': 11}\n",
      "v1 {'nombre_var': 'vlx_02', 'val': 11}\n",
      "v2   vlx_02   11.000000\n",
      "v1   vlx_02   11.000000\n",
      "{'v2': {'nombre_var': 'vlx_02', 'val': 11}}\n",
      "{'v2': {'nombre_var': 'vlx_02', 'val': 11}, 'v1': {'nombre_var': 'vlx_02', 'val': 11}}\n"
     ]
    },
    {
     "ename": "TypeError",
     "evalue": "'dict' object is not callable",
     "output_type": "error",
     "traceback": [
      "\u001b[1;31m---------------------------------------------------------------------------\u001b[0m",
      "\u001b[1;31mTypeError\u001b[0m                                 Traceback (most recent call last)",
      "\u001b[1;32m<ipython-input-13-a01ea2a4c34e>\u001b[0m in \u001b[0;36m<module>\u001b[1;34m()\u001b[0m\n\u001b[0;32m     37\u001b[0m \u001b[1;33m\u001b[0m\u001b[0m\n\u001b[0;32m     38\u001b[0m \u001b[1;31m# borrado sin consecuencias en el diccionario original\u001b[0m\u001b[1;33m\u001b[0m\u001b[1;33m\u001b[0m\u001b[0m\n\u001b[1;32m---> 39\u001b[1;33m \u001b[0md\u001b[0m \u001b[1;33m=\u001b[0m  \u001b[0mdict\u001b[0m\u001b[1;33m(\u001b[0m\u001b[0mc\u001b[0m\u001b[1;33m)\u001b[0m\u001b[1;33m\u001b[0m\u001b[0m\n\u001b[0m\u001b[0;32m     40\u001b[0m \u001b[1;33m\u001b[0m\u001b[0m\n\u001b[0;32m     41\u001b[0m \u001b[1;32mdel\u001b[0m \u001b[0md\u001b[0m\u001b[1;33m[\u001b[0m\u001b[1;34m\"v1\"\u001b[0m\u001b[1;33m]\u001b[0m\u001b[1;33m\u001b[0m\u001b[0m\n",
      "\u001b[1;31mTypeError\u001b[0m: 'dict' object is not callable"
     ]
    }
   ],
   "source": [
    "a = {} # declaración  de un diccionario\n",
    "a[\"nombre_var\"] = \"vlx_01\"\n",
    "a[\"val\"] = 10\n",
    "print (a)\n",
    "b = a \n",
    "b[\"nombre_var\"] = \"vlx_02\"\n",
    "b[\"val\"] = 11\n",
    "print (b)\n",
    "c ={\"v1\":a, \"v2\":b}\n",
    "print (c)\n",
    "# formateo de print \n",
    "print (\"%s   %f\" % (c[\"v1\"][\"nombre_var\"], c[\"v1\"][\"val\"]))\n",
    "\n",
    "# accediendo a distintos niveles de información\n",
    "# vemos las claves\n",
    "for k in c:\n",
    "    print (k)\n",
    "\n",
    "# vemos la clave y su diccionario asociado    \n",
    "for k in c:\n",
    "    print (k, c[k])\n",
    "\n",
    "# formateamos la salida para imprimir    \n",
    "for k in c:\n",
    "    print (\"%s   %s   %f\" %(k, c[k][\"nombre_var\"], c[k][\"val\"]))\n",
    " \n",
    "#borrado de un elemento de la lista    \n",
    "del c[\"v1\"]\n",
    "\n",
    "print (c)    \n",
    "\n",
    "\n",
    "# restituímos c\n",
    "c[\"v1\"] = a\n",
    "\n",
    "print (c)\n",
    "\n",
    "# borrado sin consecuencias en el diccionario original\n",
    "d =  dict(c)\n",
    "\n",
    "del d[\"v1\"]\n",
    "\n",
    "print (d)\n",
    "print (c)\n",
    "\n",
    "# iterando sobre la clave y el valor\n",
    "for k, v in c.items():\n",
    "     print(k, v)\n",
    "        \n",
    "#\n",
    "# Función que retorna un diccionario\n",
    "#\n",
    "import random\n",
    "def func_rect_dict():\n",
    "    dct = {}\n",
    "    \n",
    "    for i in range(6):\n",
    "        dct['v' + str(i)] = i*2 +random.gauss(0,.2)\n",
    "    \n",
    "    return dct\n",
    "\n",
    "v1 = func_rect_dict()\n",
    "print (v1['v2'])\n",
    "\n",
    "    "
   ]
  },
  {
   "cell_type": "markdown",
   "metadata": {},
   "source": [
    "### Tuplas\n",
    "\n",
    "Es otra estructura de datos, similar a las listas, pero encerrados entre paréntesis (). Las listas no pueden ser alteradas, es por eso que se las considera listas de solo lectura"
   ]
  },
  {
   "cell_type": "code",
   "execution_count": 16,
   "metadata": {
    "collapsed": false
   },
   "outputs": [
    {
     "name": "stdout",
     "output_type": "stream",
     "text": [
      "la lista completa  ('abcd', 786, 2.23, 'john', 70.2)\n",
      "el primer elemento de la lista abcd\n",
      "desde el 2do elemento al tercero (786, 2.23)\n",
      "imprime desde el terce elemento (2.23, 'john', 70.2)\n",
      "la lista 2 veces (123, 'john', 123, 'john')\n",
      "imprime listas concatenadas ('abcd', 786, 2.23, 'john', 70.2, 123, 'john')\n",
      "lista concatenada  ('abcd', 786, 2.23, 'john', 70.2, 'abcd', 786, 2.23, 'john', 70.2)\n"
     ]
    },
    {
     "ename": "TypeError",
     "evalue": "'tuple' object does not support item assignment",
     "output_type": "error",
     "traceback": [
      "\u001b[1;31m---------------------------------------------------------------------------\u001b[0m",
      "\u001b[1;31mTypeError\u001b[0m                                 Traceback (most recent call last)",
      "\u001b[1;32m<ipython-input-16-307240b6c7f4>\u001b[0m in \u001b[0;36m<module>\u001b[1;34m()\u001b[0m\n\u001b[0;32m     17\u001b[0m \u001b[1;33m\u001b[0m\u001b[0m\n\u001b[0;32m     18\u001b[0m \u001b[1;31m# esto da error\u001b[0m\u001b[1;33m\u001b[0m\u001b[1;33m\u001b[0m\u001b[0m\n\u001b[1;32m---> 19\u001b[1;33m \u001b[0mtuple\u001b[0m \u001b[1;33m[\u001b[0m\u001b[1;36m0\u001b[0m\u001b[1;33m]\u001b[0m \u001b[1;33m=\u001b[0m \u001b[1;34m\"dd\"\u001b[0m\u001b[1;33m\u001b[0m\u001b[0m\n\u001b[0m",
      "\u001b[1;31mTypeError\u001b[0m: 'tuple' object does not support item assignment"
     ]
    }
   ],
   "source": [
    "#!/usr/bin/python\n",
    "\n",
    "tuple = ( 'abcd', 786 , 2.23, 'john', 70.2  )\n",
    "tinytuple = (123, 'john')\n",
    "\n",
    "print (\"la lista completa \", tuple)            \n",
    "print (\"el primer elemento de la lista\", tuple[0])  \n",
    "print (\"desde el 2do elemento al tercero\", tuple[1:3]) \n",
    "print (\"imprime desde el terce elemento\", tuple[2:]) \n",
    "print (\"la lista 2 veces\", tinytuple * 2)   # Prints list two times\n",
    "print (\"imprime listas concatenadas\", tuple + tinytuple) # Prints concatenated lists\n",
    "\n",
    "#concatenación de listas\n",
    "tuple = tuple + tuple\n",
    "\n",
    "print (\"lista concatenada \", tuple)\n",
    "\n",
    "# esto da error\n",
    "tuple [0] = \"dd\""
   ]
  },
  {
   "cell_type": "markdown",
   "metadata": {},
   "source": [
    "### Otro ejemplo Tuplas"
   ]
  },
  {
   "cell_type": "code",
   "execution_count": 17,
   "metadata": {
    "collapsed": false
   },
   "outputs": [
    {
     "name": "stdout",
     "output_type": "stream",
     "text": [
      "1\n"
     ]
    },
    {
     "ename": "TypeError",
     "evalue": "'tuple' object does not support item assignment",
     "output_type": "error",
     "traceback": [
      "\u001b[1;31m---------------------------------------------------------------------------\u001b[0m",
      "\u001b[1;31mTypeError\u001b[0m                                 Traceback (most recent call last)",
      "\u001b[1;32m<ipython-input-17-a66bb28a179d>\u001b[0m in \u001b[0;36m<module>\u001b[1;34m()\u001b[0m\n\u001b[0;32m      7\u001b[0m \u001b[1;31m# Se pueden agregar valores\u001b[0m\u001b[1;33m\u001b[0m\u001b[1;33m\u001b[0m\u001b[0m\n\u001b[0;32m      8\u001b[0m \u001b[1;31m# error\u001b[0m\u001b[1;33m\u001b[0m\u001b[1;33m\u001b[0m\u001b[0m\n\u001b[1;32m----> 9\u001b[1;33m \u001b[0mb\u001b[0m\u001b[1;33m[\u001b[0m\u001b[1;36m3\u001b[0m\u001b[1;33m]\u001b[0m \u001b[1;33m=\u001b[0m \u001b[1;36m4\u001b[0m\u001b[1;33m\u001b[0m\u001b[0m\n\u001b[0m\u001b[0;32m     10\u001b[0m \u001b[1;33m\u001b[0m\u001b[0m\n\u001b[0;32m     11\u001b[0m \u001b[0mprint\u001b[0m\u001b[1;33m(\u001b[0m\u001b[0mb\u001b[0m\u001b[1;33m)\u001b[0m\u001b[1;33m\u001b[0m\u001b[0m\n",
      "\u001b[1;31mTypeError\u001b[0m: 'tuple' object does not support item assignment"
     ]
    }
   ],
   "source": [
    "# definición e inicialización de b\n",
    "b= (1, 2, 3)\n",
    "\n",
    "# no hay error\n",
    "print (b[0])\n",
    "\n",
    "# Se pueden agregar valores\n",
    "# error\n",
    "b[3] = 4\n",
    "\n",
    "print(b)\n",
    "\n",
    "b = b + (4, ) # va la coma para que sea una tupla\n",
    "print (b)\n",
    "c = 2*b\n",
    "print (c)\n",
    "print (c + b)\n",
    "\n",
    "#error no se puede cambiar el valor\n",
    "b[0] = 3"
   ]
  },
  {
   "cell_type": "markdown",
   "metadata": {},
   "source": [
    "### Conjuntos, sets ()\n",
    "\n",
    "Cantor defined a set at the beginning of his \"Beiträge zur Begründung der transfiniten Mengenlehre\":\n",
    "\"A set is a gathering together into a whole of definite, distinct objects of our perception and of our thought - which are called elements of the set.\" Nowadays, we can say in \"plain\" English: A set is a well defined collection of objects.  Más en [link](http://www.python-course.eu/sets_frozensets.php)"
   ]
  },
  {
   "cell_type": "code",
   "execution_count": null,
   "metadata": {
    "collapsed": true
   },
   "outputs": [],
   "source": []
  },
  {
   "cell_type": "code",
   "execution_count": 1,
   "metadata": {
    "collapsed": false
   },
   "outputs": [
    {
     "name": "stdout",
     "output_type": "stream",
     "text": [
      "{'h', 'r', ' ', 'T', 'y', 'i', 'n', 'a', 'u', 't', 'A', 'P', 'o', 'l'} <class 'set'>\n",
      "{'h', 'r', ' ', 'T', 'y', 'i', 'n', 'a', 'u', 't', 'S', 'A', 'P', 'o', 'l'}\n"
     ]
    }
   ],
   "source": [
    "# Definición de un conjunto\n",
    "x = set(\"A Python Tutorial\")\n",
    "print (x, type(x))\n",
    "\n",
    "# Agregar un elemento al conjunto\n",
    "x.add(\"S\")\n",
    "print (x)\n"
   ]
  },
  {
   "cell_type": "markdown",
   "metadata": {},
   "source": [
    "### Notación simplificada para conjuntos, sets()"
   ]
  },
  {
   "cell_type": "code",
   "execution_count": 2,
   "metadata": {
    "collapsed": false
   },
   "outputs": [
    {
     "name": "stdout",
     "output_type": "stream",
     "text": [
      "{'violeta', 'verde', 'blanco', 'rojo'} <class 'set'>\n"
     ]
    }
   ],
   "source": [
    "colores  = {\"blanco\",\"rojo\",\"verde\",\"violeta\"}\n",
    "print (colores, type(colores))"
   ]
  },
  {
   "cell_type": "markdown",
   "metadata": {},
   "source": [
    "### La notación para conjuntos es distinta en python 2 y python 3\n",
    "\n",
    "Acá en python 3"
   ]
  },
  {
   "cell_type": "code",
   "execution_count": 3,
   "metadata": {
    "collapsed": false
   },
   "outputs": [
    {
     "name": "stdout",
     "output_type": "stream",
     "text": [
      "{1, 2, 3, 4, 5}\n",
      "{3}\n",
      "True\n",
      "True\n",
      "True\n"
     ]
    }
   ],
   "source": [
    "A = set()  # create an empty set\n",
    "B = set([1,2,3]) # a 3 element set\n",
    "C = set([3,4,5])\n",
    "D = set([6,7,8])\n",
    "# Now try out some set operations\n",
    "print (B.union(C))\n",
    "print(B.intersection(C))\n",
    "print(B.issuperset(set([2])))\n",
    "print(set([3]).issubset(C))\n",
    "print(C.intersection(D) == A)"
   ]
  },
  {
   "cell_type": "code",
   "execution_count": null,
   "metadata": {
    "collapsed": true
   },
   "outputs": [],
   "source": []
  }
 ],
 "metadata": {
  "kernelspec": {
   "display_name": "Python 3",
   "language": "python",
   "name": "python3"
  },
  "language_info": {
   "codemirror_mode": {
    "name": "ipython",
    "version": 3
   },
   "file_extension": ".py",
   "mimetype": "text/x-python",
   "name": "python",
   "nbconvert_exporter": "python",
   "pygments_lexer": "ipython3",
   "version": "3.4.3"
  }
 },
 "nbformat": 4,
 "nbformat_minor": 0
}
