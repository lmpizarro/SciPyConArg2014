{
 "cells": [
  {
   "cell_type": "code",
   "execution_count": 4,
   "metadata": {
    "collapsed": false
   },
   "outputs": [],
   "source": [
    "import numpy as np\n",
    "from __future__ import division\n",
    "from IPython.display import Math\n",
    "import matplotlib.pyplot as mpl\n",
    "\n",
    "%load_ext Cython\n"
   ]
  },
  {
   "cell_type": "code",
   "execution_count": 19,
   "metadata": {
    "collapsed": false
   },
   "outputs": [
    {
     "data": {
      "text/latex": [
       "$$A = \\int_{0}^{1} (1 - x ^ 2) dx$$"
      ],
      "text/plain": [
       "<IPython.core.display.Math object>"
      ]
     },
     "execution_count": 19,
     "metadata": {},
     "output_type": "execute_result"
    }
   ],
   "source": [
    "Math(r'A = \\int_{0}^{1} (1 - x ^ 2) dx')"
   ]
  },
  {
   "cell_type": "code",
   "execution_count": 20,
   "metadata": {
    "collapsed": false
   },
   "outputs": [],
   "source": [
    "# Cantidad de puntos usados en la integración\n",
    "N=1000000\n",
    "\n",
    "# Cálculo de la solución analítica de la integral \n",
    "A = np.pi/4\n",
    "\n",
    "# Solución numérica regla de Simpson\n",
    "x=np.arange(0,1,1/N)\n",
    "y = np.sqrt(1 - x*x)\n",
    "An = np.sum(y)/N"
   ]
  },
  {
   "cell_type": "code",
   "execution_count": 21,
   "metadata": {
    "collapsed": false
   },
   "outputs": [
    {
     "data": {
      "image/png": "[encoded data removed]",
      "text/plain": [
       "<matplotlib.figure.Figure at 0xaeebda2c>"
      ]
     },
     "metadata": {},
     "output_type": "display_data"
    }
   ],
   "source": [
    "%matplotlib inline\n",
    "# change axis range for x and y\n",
    "mpl.xlim([-0.1,1.5])\n",
    "mpl.ylim([-0.1,1.5])\n",
    "mpl.axes().set_aspect('equal', 'datalim')\n",
    "mpl.plot(x,y, label='f(x)' ); mpl.legend(loc='lower right');\n",
    "mpl.plot([0, 0,1.5], [1.50, 0,0], 'red');\n"
   ]
  },
  {
   "cell_type": "code",
   "execution_count": 22,
   "metadata": {
    "collapsed": false
   },
   "outputs": [
    {
     "name": "stdout",
     "output_type": "stream",
     "text": [
      "0.7853981633974483 0.785709 0.785398663103\n"
     ]
    }
   ],
   "source": [
    "# Integración Montecarlo de 1/4 de círculo\n",
    "# Generación de los pares (x,y) aleatorios\n",
    "x,y=(np.random.rand(N),np.random.rand(N))\n",
    "\n",
    "z=x*x+y*y\n",
    "\n",
    "#Enmascara si es más grande que 1\n",
    "z=z[z<=1]\n",
    "\n",
    "#Determina el tamaño del array resultante\n",
    "Np = z.size\n",
    "# Cálcula el área\n",
    "Am = Np/N\n",
    "\n",
    "\n",
    "print(A, Am, An)"
   ]
  },
  {
   "cell_type": "code",
   "execution_count": 17,
   "metadata": {
    "collapsed": false
   },
   "outputs": [],
   "source": [
    "N = 1000000\n",
    "Ss = 0.01 \n",
    "Sc = 0.1 \n",
    "S = Ss + Sc\n",
    "CLM = 1/S\n",
    "#Espesor de la placa\n",
    "espH = 1\n",
    "global Npas, Nref, Nabs"
   ]
  },
  {
   "cell_type": "code",
   "execution_count": 18,
   "metadata": {
    "collapsed": false
   },
   "outputs": [
    {
     "name": "stdout",
     "output_type": "stream",
     "text": [
      "0.03249 0.045902 0.921608 1.0\n"
     ]
    }
   ],
   "source": [
    "def neutron_placa (Ss, Sc, espH):\n",
    "    global Npas, Nref, Nabs\n",
    "    \n",
    "    x = 0\n",
    "    gmm  = .5\n",
    "    S = Ss + Sc\n",
    "    \n",
    "    while (True):\n",
    "        u = 2 * gmm - 1\n",
    "        lmbd = -1 * np.log(np.random.random()) / S\n",
    "        x = (x  + lmbd * u)\n",
    "        if x > espH:\n",
    "            Npas = Npas + 1; break;\n",
    "        else:\n",
    "            if x < 0:\n",
    "                Nref = Nref + 1; break;\n",
    "            else:\n",
    "                sc = np.random.random()\n",
    "                if sc < Sc/S:\n",
    "                    Nabs = Nabs + 1; break\n",
    "                else:\n",
    "                    gmm  = np.random.random()\n",
    "                    #u = 2*gmm - 1\n",
    "  \n",
    "if __name__ == \"__main__\":\n",
    "    Npas = Nref = Nabs = 0;\n",
    "    for j in range (0,N):\n",
    "        neutron_placa (Ss, Sc, espH)\n",
    "\n",
    "    print(Npas/N, Nref/N, Nabs/N, (Npas+ Nref+ Nabs)/N)"
   ]
  },
  {
   "cell_type": "code",
   "execution_count": 10,
   "metadata": {
    "collapsed": false
   },
   "outputs": [],
   "source": [
    "%%cython\n",
    "\n",
    "cimport cython\n",
    "\n",
    "from libc.stdlib cimport rand, srand\n",
    "from libc.time cimport time, time_t\n",
    "from libc.math cimport  log\n",
    "\n",
    "cdef extern from \"stdlib.h\":\n",
    "  cdef int RAND_MAX\n",
    "\n",
    "@cython.cdivision(True)\n",
    "def init_rand ():    \n",
    "   cdef time_t seconds  \n",
    "   time(&seconds)\n",
    "   srand(<unsigned int>seconds)\n",
    "\n",
    "@cython.cdivision(True)\n",
    "def neutron_placa_c (float Ss, float Sc, float espH ):\n",
    "    cdef int Npas = 0\n",
    "    cdef int Nref = 0\n",
    "    cdef int Nabs = 0\n",
    "        \n",
    "    cdef float u, x=0, gmm  = 1, sc, S\n",
    "    \n",
    "    S = Ss + Sc\n",
    "     \n",
    "    while (True):\n",
    "        u = 2 * gmm - 1\n",
    "        lmbd = -1 * log(gmm) / S\n",
    "        x = (x  + lmbd*u)\n",
    "        if x > espH:\n",
    "            Npas = Npas + 1; break;\n",
    "        else:\n",
    "            if x < 0:\n",
    "                Nref = Nref + 1; break;\n",
    "            else:\n",
    "                sc = <float>rand()/<float>RAND_MAX\n",
    "               \n",
    "                if sc < Sc/S:\n",
    "                    Nabs = Nabs + 1; break;\n",
    "                else:\n",
    "                    gmm  = <float>rand()/<float>RAND_MAX\n",
    "                   \n",
    "    return Npas, Nref, Nabs"
   ]
  },
  {
   "cell_type": "markdown",
   "metadata": {},
   "source": [
    "## Uso de la función definida con cython"
   ]
  },
  {
   "cell_type": "code",
   "execution_count": 11,
   "metadata": {
    "collapsed": false
   },
   "outputs": [
    {
     "name": "stdout",
     "output_type": "stream",
     "text": [
      "[0.0221, 0.0516, 0.9263]\n"
     ]
    }
   ],
   "source": [
    "if __name__ == \"__main__\":\n",
    "\n",
    "    global Npas, Nref, Nabs, np\n",
    "    N = 10000\n",
    "    espH = 1\n",
    "    Ss = 0.01\n",
    "    Sc = 0.1\n",
    "    S = Ss + Sc\n",
    "    Npas = Nref = Nabs = 0;\n",
    "\n",
    "    for j in range (0,N):\n",
    "      (pas, ref, abs_ ) = neutron_placa_c(Ss, Sc, espH)\n",
    "      Npas +=pas; Nref += ref; Nabs += abs_\n",
    "        \n",
    "    maxs =[Npas/N, Nref/N, Nabs/N]\n",
    "    print(maxs)\n",
    "    \n",
    "    #print(neutron_placa_c(Ss, Sc, espH))"
   ]
  },
  {
   "cell_type": "markdown",
   "metadata": {},
   "source": [
    "## Vectorización"
   ]
  },
  {
   "cell_type": "code",
   "execution_count": 41,
   "metadata": {
    "collapsed": false
   },
   "outputs": [
    {
     "name": "stdout",
     "output_type": "stream",
     "text": [
      "112 1422\n",
      "1 20\n",
      "0 0\n",
      "Orig: parc Natr: 3637 Nref: 5034 Ncap: 1329 Totales: 10000\n",
      " \t Patr: 0.363700 Pref: 0.503400 Pcap: 0.132900\n",
      "\n"
     ]
    }
   ],
   "source": [
    "from __future__ import division\n",
    "import numpy as np\n",
    "\n",
    "Sc = 0.1\n",
    "Ss = 0.01\n",
    "S = Ss + Sc\n",
    "\n",
    "N = 10000\n",
    "h = 1\n",
    "\n",
    "def info_p(orig, Natr, Nref, Ncap, Total):\n",
    "    print(\"Orig: %s Natr: %d Nref: %d Ncap: %d Totales: %d\" % (orig, Natr, Nref, Ncap, Total))\n",
    "    print(\" \\t Patr: %f Pref: %f Pcap: %f\\n\" % (Natr/Total, Nref/Total, Ncap/Total))\n",
    "\n",
    "def func(N):\n",
    "    Natr = 0\n",
    "    Nref = 0\n",
    "    Ncap = 0\n",
    "\n",
    "    #\n",
    "    # posicion incial\n",
    "    #\n",
    "    deltaX = np.zeros(N)\n",
    "\n",
    "    while N > 0:\n",
    "\n",
    "        dir = 2 * np.random.random(N) - 1\n",
    "        recorr = - np.log(np.random.random(N)) / S\n",
    "\n",
    "        deltaX = deltaX + dir * recorr\n",
    "\n",
    "        Natr = Natr + (deltaX > h).sum()\n",
    "        Nref = Nref + (deltaX < 0).sum()\n",
    " \n",
    "        dentro = np.copy(deltaX[np.logical_and(deltaX>=0, deltaX<=h)])\n",
    "\n",
    "        sorteoCaptura = np.random.random(dentro.size)\n",
    "    \n",
    "        capturados = sorteoCaptura < Sc / S\n",
    "        \n",
    "        no_capturados = sorteoCaptura >= Sc/S\n",
    "        print(no_capturados.sum(), no_capturados.size)\n",
    "        \n",
    "        Ncap = Ncap + capturados.sum()\n",
    "        \n",
    "        \n",
    "        siguen     = np.copy(dentro[no_capturados])\n",
    "         \n",
    "        \n",
    "        N = siguen.size\n",
    "\n",
    "        deltaX = siguen\n",
    "        \n",
    "    Total =  Natr + Nref + Ncap + N\n",
    "    info_p(\"parc\", Natr, Nref, Ncap, Total)\n",
    "    return (Natr, Nref, Ncap)\n",
    "\n",
    "if __name__ == \"__main__\":\n",
    "    func(N)\n"
   ]
  },
  {
   "cell_type": "markdown",
   "metadata": {},
   "source": [
    "## Código para ejecutar en MPI"
   ]
  },
  {
   "cell_type": "code",
   "execution_count": 28,
   "metadata": {
    "collapsed": false
   },
   "outputs": [
    {
     "ename": "SyntaxError",
     "evalue": "Missing parentheses in call to 'print' (<ipython-input-28-ffb4c986d9d2>, line 44)",
     "output_type": "error",
     "traceback": [
      "\u001b[1;36m  File \u001b[1;32m\"<ipython-input-28-ffb4c986d9d2>\"\u001b[1;36m, line \u001b[1;32m44\u001b[0m\n\u001b[1;33m    print \"END \"\u001b[0m\n\u001b[1;37m               ^\u001b[0m\n\u001b[1;31mSyntaxError\u001b[0m\u001b[1;31m:\u001b[0m Missing parentheses in call to 'print'\n"
     ]
    }
   ],
   "source": [
    "from __future__ import division\n",
    "import time\n",
    "import numpy as np\n",
    "import sys\n",
    "from mpi4py import MPI\n",
    "from mpi4py.MPI import ANY_SOURCE\n",
    "import mc_placa as mc\n",
    "\n",
    "comm = MPI.COMM_WORLD\n",
    "rank = comm.Get_rank()\n",
    "size = comm.Get_size()\n",
    "\n",
    "Natr = 0\n",
    "Nref = 0\n",
    "Ncap = 0\n",
    "\n",
    "recv_buffer = np.zeros(3)\n",
    "send_buffer = np.zeros(3)\n",
    "\n",
    "(send_buffer[0], send_buffer[1], send_buffer[2]) = mc.func(mc.N)\n",
    "\n",
    "# communication\n",
    "# root node receives results from all processes and sums them\n",
    "if rank == 0:\n",
    "    for i in range(1, size):\n",
    "        comm.Recv(recv_buffer, ANY_SOURCE)\n",
    "        #print(\"rcv: \", recv_buffer[0], recv_buffer[1], recv_buffer[2])\n",
    "        Natr = Natr + recv_buffer[0]\n",
    "        Nref = Nref + recv_buffer[1]\n",
    "        Ncap = Ncap + recv_buffer[2]\n",
    "\n",
    "else:\n",
    "    # all other process send their result\n",
    "    comm.Send(send_buffer)\n",
    "\n",
    "# root process prints results\n",
    "if comm.rank == 0:\n",
    "    #print(\"rcv: \", recv_buffer[0], recv_buffer[1], recv_buffer[2])\n",
    "    Natr = Natr + recv_buffer[0]\n",
    "    Nref = Nref + recv_buffer[1]\n",
    "    Ncap = Ncap + recv_buffer[2]\n",
    "    Total =  Natr + Nref + Ncap\n",
    "    mc.info_p(\"total\", Natr, Nref, Ncap, Total)\n",
    "    print(\"END \")"
   ]
  },
  {
   "cell_type": "code",
   "execution_count": null,
   "metadata": {
    "collapsed": true
   },
   "outputs": [],
   "source": []
  }
 ],
 "metadata": {
  "kernelspec": {
   "display_name": "Python 3",
   "language": "python",
   "name": "python3"
  },
  "language_info": {
   "codemirror_mode": {
    "name": "ipython",
    "version": 3
   },
   "file_extension": ".py",
   "mimetype": "text/x-python",
   "name": "python",
   "nbconvert_exporter": "python",
   "pygments_lexer": "ipython3",
   "version": "3.4.3"
  }
 },
 "nbformat": 4,
 "nbformat_minor": 0
}
