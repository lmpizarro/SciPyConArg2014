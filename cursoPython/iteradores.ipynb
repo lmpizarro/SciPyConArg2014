{
 "metadata": {
  "name": "",
  "signature": "sha256:e1be3507305c3afc13c98c686407a26d9d195280b39e92a0dce4db8e03183521"
 },
 "nbformat": 3,
 "nbformat_minor": 0,
 "worksheets": [
  {
   "cells": [
    {
     "cell_type": "markdown",
     "metadata": {},
     "source": [
      "# Iteradores y Generadores [link](http://anandology.com/python-practice-book/iterators.html)"
     ]
    },
    {
     "cell_type": "markdown",
     "metadata": {},
     "source": [
      "# Uso de for\n",
      "\n",
      "## En una lista"
     ]
    },
    {
     "cell_type": "code",
     "collapsed": false,
     "input": [
      "for i in [1, 2, 3, 4]:\n",
      "    print (i)"
     ],
     "language": "python",
     "metadata": {},
     "outputs": [
      {
       "output_type": "stream",
       "stream": "stdout",
       "text": [
        "1\n",
        "2\n",
        "3\n",
        "4\n"
       ]
      }
     ],
     "prompt_number": 3
    },
    {
     "cell_type": "markdown",
     "metadata": {},
     "source": [
      "## En un string, sobre sus caracteres"
     ]
    },
    {
     "cell_type": "code",
     "collapsed": false,
     "input": [
      "for c in \"python\":\n",
      "   print (c)"
     ],
     "language": "python",
     "metadata": {},
     "outputs": [
      {
       "output_type": "stream",
       "stream": "stdout",
       "text": [
        "p\n",
        "y\n",
        "t\n",
        "h\n",
        "o\n",
        "n\n"
       ]
      }
     ],
     "prompt_number": 4
    },
    {
     "cell_type": "markdown",
     "metadata": {},
     "source": [
      "## En un diccionario, sobre sus claves"
     ]
    },
    {
     "cell_type": "code",
     "collapsed": false,
     "input": [
      "for k in {\"x\": 1, \"y\": 2}:\n",
      "    print (k)"
     ],
     "language": "python",
     "metadata": {},
     "outputs": [
      {
       "output_type": "stream",
       "stream": "stdout",
       "text": [
        "y\n",
        "x\n"
       ]
      }
     ],
     "prompt_number": 6
    },
    {
     "cell_type": "code",
     "collapsed": false,
     "input": [
      "for line in open(\"a.txt\"):\n",
      "    print (line)"
     ],
     "language": "python",
     "metadata": {},
     "outputs": [
      {
       "output_type": "stream",
       "stream": "stdout",
       "text": [
        "hola mundo iteradores\n",
        "\n",
        "mientras vemos\n",
        "\n",
        "algunas aplicaciones\n",
        "\n",
        "de for\n",
        "\n"
       ]
      }
     ],
     "prompt_number": 8
    },
    {
     "cell_type": "markdown",
     "metadata": {},
     "source": [
      "### Conclusi\u00f3n\n",
      "\n",
      "Hay muchos objetos que pueden ser usados con un ciclo for\n",
      "\n",
      "#### Otros ejemplos"
     ]
    },
    {
     "cell_type": "code",
     "collapsed": false,
     "input": [
      "print (\",\".join([\"a\", \"b\", \"c\"]))\n",
      "\n",
      "print (\",\".join({\"x\": 1, \"y\": 2}))\n",
      "\n",
      "print (list(\"python\"))\n",
      "print (list({\"x\": 1, \"y\": 2}))\n"
     ],
     "language": "python",
     "metadata": {},
     "outputs": [
      {
       "output_type": "stream",
       "stream": "stdout",
       "text": [
        "a,b,c\n",
        "y,x\n",
        "['p', 'y', 't', 'h', 'o', 'n']\n",
        "['y', 'x']\n"
       ]
      }
     ],
     "prompt_number": 11
    },
    {
     "cell_type": "markdown",
     "metadata": {},
     "source": [
      "# El protocolo Iteraton\n",
      "## La funci\u00f3n iter()"
     ]
    },
    {
     "cell_type": "code",
     "collapsed": false,
     "input": [
      "x = iter([1, 2, 3])"
     ],
     "language": "python",
     "metadata": {},
     "outputs": [],
     "prompt_number": 12
    },
    {
     "cell_type": "code",
     "collapsed": false,
     "input": [
      "x"
     ],
     "language": "python",
     "metadata": {},
     "outputs": [
      {
       "metadata": {},
       "output_type": "pyout",
       "prompt_number": 13,
       "text": [
        "<list_iterator at 0xb637074c>"
       ]
      }
     ],
     "prompt_number": 13
    },
    {
     "cell_type": "code",
     "collapsed": false,
     "input": [
      "print ( x.__next__() )\n",
      "print ( x.__next__() )\n",
      "print ( x.__next__() )"
     ],
     "language": "python",
     "metadata": {},
     "outputs": [
      {
       "output_type": "stream",
       "stream": "stdout",
       "text": [
        "1\n",
        "2\n",
        "3\n"
       ]
      }
     ],
     "prompt_number": 17
    },
    {
     "cell_type": "code",
     "collapsed": false,
     "input": [
      "x.next()"
     ],
     "language": "python",
     "metadata": {},
     "outputs": [
      {
       "ename": "AttributeError",
       "evalue": "'list_iterator' object has no attribute 'next'",
       "output_type": "pyerr",
       "traceback": [
        "\u001b[1;31m---------------------------------------------------------------------------\u001b[0m\n\u001b[1;31mAttributeError\u001b[0m                            Traceback (most recent call last)",
        "\u001b[1;32m<ipython-input-16-e05f366da090>\u001b[0m in \u001b[0;36m<module>\u001b[1;34m()\u001b[0m\n\u001b[1;32m----> 1\u001b[1;33m \u001b[0mx\u001b[0m\u001b[1;33m.\u001b[0m\u001b[0mnext\u001b[0m\u001b[1;33m(\u001b[0m\u001b[1;33m)\u001b[0m\u001b[1;33m\u001b[0m\u001b[0m\n\u001b[0m",
        "\u001b[1;31mAttributeError\u001b[0m: 'list_iterator' object has no attribute 'next'"
       ]
      }
     ],
     "prompt_number": 16
    },
    {
     "cell_type": "code",
     "collapsed": false,
     "input": [
      "class yrange:\n",
      "    def __init__(self, n):\n",
      "        self.i = 0\n",
      "        self.n = n\n",
      "\n",
      "    def __iter__(self):\n",
      "        return self\n",
      "\n",
      "    def next(self):\n",
      "        if self.i < self.n:\n",
      "            i = self.i\n",
      "            self.i += 1\n",
      "            return i\n",
      "        else:\n",
      "            raise StopIteration()"
     ],
     "language": "python",
     "metadata": {},
     "outputs": [],
     "prompt_number": 18
    },
    {
     "cell_type": "code",
     "collapsed": false,
     "input": [
      "y = yrange(3)\n",
      "y.next()"
     ],
     "language": "python",
     "metadata": {},
     "outputs": [
      {
       "metadata": {},
       "output_type": "pyout",
       "prompt_number": 19,
       "text": [
        "0"
       ]
      }
     ],
     "prompt_number": 19
    },
    {
     "cell_type": "code",
     "collapsed": false,
     "input": [
      "y.next()"
     ],
     "language": "python",
     "metadata": {},
     "outputs": [
      {
       "metadata": {},
       "output_type": "pyout",
       "prompt_number": 20,
       "text": [
        "1"
       ]
      }
     ],
     "prompt_number": 20
    },
    {
     "cell_type": "code",
     "collapsed": false,
     "input": [
      "y.next()\n",
      "y.next() # genera una excepci\u00f3n StopIteration"
     ],
     "language": "python",
     "metadata": {},
     "outputs": [
      {
       "ename": "StopIteration",
       "evalue": "",
       "output_type": "pyerr",
       "traceback": [
        "\u001b[1;31m---------------------------------------------------------------------------\u001b[0m\n\u001b[1;31mStopIteration\u001b[0m                             Traceback (most recent call last)",
        "\u001b[1;32m<ipython-input-22-84d82a24c9c9>\u001b[0m in \u001b[0;36m<module>\u001b[1;34m()\u001b[0m\n\u001b[0;32m      1\u001b[0m \u001b[0my\u001b[0m\u001b[1;33m.\u001b[0m\u001b[0mnext\u001b[0m\u001b[1;33m(\u001b[0m\u001b[1;33m)\u001b[0m\u001b[1;33m\u001b[0m\u001b[0m\n\u001b[1;32m----> 2\u001b[1;33m \u001b[0my\u001b[0m\u001b[1;33m.\u001b[0m\u001b[0mnext\u001b[0m\u001b[1;33m(\u001b[0m\u001b[1;33m)\u001b[0m \u001b[1;31m# genera una excepci\u00f3n StopIteration\u001b[0m\u001b[1;33m\u001b[0m\u001b[0m\n\u001b[0m",
        "\u001b[1;32m<ipython-input-18-bfdbfaa535b9>\u001b[0m in \u001b[0;36mnext\u001b[1;34m(self)\u001b[0m\n\u001b[0;32m     13\u001b[0m             \u001b[1;32mreturn\u001b[0m \u001b[0mi\u001b[0m\u001b[1;33m\u001b[0m\u001b[0m\n\u001b[0;32m     14\u001b[0m         \u001b[1;32melse\u001b[0m\u001b[1;33m:\u001b[0m\u001b[1;33m\u001b[0m\u001b[0m\n\u001b[1;32m---> 15\u001b[1;33m             \u001b[1;32mraise\u001b[0m \u001b[0mStopIteration\u001b[0m\u001b[1;33m(\u001b[0m\u001b[1;33m)\u001b[0m\u001b[1;33m\u001b[0m\u001b[0m\n\u001b[0m",
        "\u001b[1;31mStopIteration\u001b[0m: "
       ]
      }
     ],
     "prompt_number": 22
    },
    {
     "cell_type": "markdown",
     "metadata": {},
     "source": [
      "# Generadores\n",
      "## Una forma m\u00e1s simple de crear iteradores\n",
      "\n",
      "Un generador es una funci\u00f3n que produce una secuencia de resultados\n",
      "en lugar de un \u00fanico valor\n"
     ]
    },
    {
     "cell_type": "code",
     "collapsed": false,
     "input": [
      "def yrange(n):\n",
      "    i = 0\n",
      "    while i < n:\n",
      "        yield i\n",
      "        i += 1"
     ],
     "language": "python",
     "metadata": {},
     "outputs": [],
     "prompt_number": 23
    },
    {
     "cell_type": "code",
     "collapsed": false,
     "input": [
      "y = yrange(3)\n",
      "y"
     ],
     "language": "python",
     "metadata": {},
     "outputs": [
      {
       "metadata": {},
       "output_type": "pyout",
       "prompt_number": 25,
       "text": [
        "<generator object yrange at 0xb2ab220c>"
       ]
      }
     ],
     "prompt_number": 25
    },
    {
     "cell_type": "code",
     "collapsed": false,
     "input": [
      "print (y.__next__())\n",
      "print(y.__next__())\n",
      "print(y.__next__())"
     ],
     "language": "python",
     "metadata": {},
     "outputs": [
      {
       "output_type": "stream",
       "stream": "stdout",
       "text": [
        "0\n",
        "1\n",
        "2\n"
       ]
      }
     ],
     "prompt_number": 27
    },
    {
     "cell_type": "markdown",
     "metadata": {},
     "source": [
      "### La relaci\u00f3n entre el llamado a __next__ y yield"
     ]
    },
    {
     "cell_type": "code",
     "collapsed": false,
     "input": [
      "def foo():\n",
      "     print (\"begin\")\n",
      "     for i in range(3):\n",
      "         print (\"before yield\", i)\n",
      "         yield i\n",
      "         print (\"after yield\", i)\n",
      "     print (\"end\")"
     ],
     "language": "python",
     "metadata": {},
     "outputs": [],
     "prompt_number": 53
    },
    {
     "cell_type": "code",
     "collapsed": false,
     "input": [
      "f = foo()\n",
      "f.__next__()"
     ],
     "language": "python",
     "metadata": {},
     "outputs": [
      {
       "output_type": "stream",
       "stream": "stdout",
       "text": [
        "begin\n",
        "before yield 0\n"
       ]
      },
      {
       "metadata": {},
       "output_type": "pyout",
       "prompt_number": 54,
       "text": [
        "0"
       ]
      }
     ],
     "prompt_number": 54
    },
    {
     "cell_type": "code",
     "collapsed": false,
     "input": [
      "f.__next__()"
     ],
     "language": "python",
     "metadata": {},
     "outputs": [
      {
       "output_type": "stream",
       "stream": "stdout",
       "text": [
        "after yield 0\n",
        "before yield 1\n"
       ]
      },
      {
       "metadata": {},
       "output_type": "pyout",
       "prompt_number": 55,
       "text": [
        "1"
       ]
      }
     ],
     "prompt_number": 55
    },
    {
     "cell_type": "code",
     "collapsed": false,
     "input": [
      "try:\n",
      "   print(f.__next__())\n",
      "   print(f.__next__())\n",
      "   print(f.__next__())\n",
      "except (StopIteration, ValueError): # notar el cambio de sint\u00e1xis entre 2 y 3\n",
      "    print (\"error iterador\",ValueError)"
     ],
     "language": "python",
     "metadata": {},
     "outputs": [
      {
       "output_type": "stream",
       "stream": "stdout",
       "text": [
        "error iterador <class 'ValueError'>\n"
       ]
      }
     ],
     "prompt_number": 57
    },
    {
     "cell_type": "markdown",
     "metadata": {},
     "source": [
      "## Ejemplo"
     ]
    },
    {
     "cell_type": "code",
     "collapsed": false,
     "input": [
      "def integers():\n",
      "    \"\"\"Infinite sequence of integers.\"\"\"\n",
      "    i = 1\n",
      "    while True:\n",
      "        yield i\n",
      "        i = i + 1\n",
      "\n",
      "def squares():\n",
      "    for i in integers():\n",
      "        yield i * i\n",
      "\n",
      "def take(n, seq):\n",
      "    \"\"\"Returns first n values from the given sequence.\"\"\"\n",
      "    #seq = iter(seq)\n",
      "    #print(seq)\n",
      "    result = []\n",
      "    try:\n",
      "        for i in range(n):\n",
      "            result.append(seq.__next__())\n",
      "    except StopIteration:\n",
      "        pass\n",
      "    return result\n",
      "\n",
      "print (take(5, squares())) # prints [1, 4, 9, 16, 25]\n",
      "\n"
     ],
     "language": "python",
     "metadata": {},
     "outputs": [
      {
       "output_type": "stream",
       "stream": "stdout",
       "text": [
        "<generator object squares at 0xb2ab2644>\n",
        "[1, 4, 9, 16, 25]\n"
       ]
      }
     ],
     "prompt_number": 65
    },
    {
     "cell_type": "code",
     "collapsed": false,
     "input": [
      "a = (x*x for x in range(10))\n",
      "a"
     ],
     "language": "python",
     "metadata": {},
     "outputs": [
      {
       "metadata": {},
       "output_type": "pyout",
       "prompt_number": 68,
       "text": [
        "<generator object <genexpr> at 0xb2ab7464>"
       ]
      }
     ],
     "prompt_number": 68
    },
    {
     "cell_type": "code",
     "collapsed": false,
     "input": [
      "sum(a)"
     ],
     "language": "python",
     "metadata": {},
     "outputs": [
      {
       "metadata": {},
       "output_type": "pyout",
       "prompt_number": 69,
       "text": [
        "285"
       ]
      }
     ],
     "prompt_number": 69
    },
    {
     "cell_type": "code",
     "collapsed": false,
     "input": [
      "pyt = ((x, y, z) for z in integers() for y in range(1, z) for x in range(1, y) if x*x + y*y == z*z)"
     ],
     "language": "python",
     "metadata": {},
     "outputs": [],
     "prompt_number": 72
    },
    {
     "cell_type": "code",
     "collapsed": false,
     "input": [
      "take(10, pyt)"
     ],
     "language": "python",
     "metadata": {},
     "outputs": [
      {
       "output_type": "stream",
       "stream": "stdout",
       "text": [
        "<generator object <genexpr> at 0xb2ab7c5c>\n"
       ]
      },
      {
       "metadata": {},
       "output_type": "pyout",
       "prompt_number": 73,
       "text": [
        "[(3, 4, 5),\n",
        " (6, 8, 10),\n",
        " (5, 12, 13),\n",
        " (9, 12, 15),\n",
        " (8, 15, 17),\n",
        " (12, 16, 20),\n",
        " (15, 20, 25),\n",
        " (7, 24, 25),\n",
        " (10, 24, 26),\n",
        " (20, 21, 29)]"
       ]
      }
     ],
     "prompt_number": 73
    },
    {
     "cell_type": "markdown",
     "metadata": {},
     "source": [
      "#### M\u00e1s informaci\u00f3n [link](http://www.dabeaz.com/generators-uk/)"
     ]
    },
    {
     "cell_type": "code",
     "collapsed": false,
     "input": [],
     "language": "python",
     "metadata": {},
     "outputs": []
    }
   ],
   "metadata": {}
  }
 ]
}
