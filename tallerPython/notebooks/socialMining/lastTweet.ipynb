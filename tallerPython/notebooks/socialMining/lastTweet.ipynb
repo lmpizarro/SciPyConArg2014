{
 "metadata": {
  "name": "",
  "signature": "sha256:cd09f4d294a32a71bd1837a78a456660c86bbe9a7ad240f5a1e28b9eae0e5c8b"
 },
 "nbformat": 3,
 "nbformat_minor": 0,
 "worksheets": [
  {
   "cells": [
    {
     "cell_type": "code",
     "collapsed": false,
     "input": [
      "# -*- coding: utf-8 -*-\n",
      "import tweepy\n",
      "\n",
      "\n",
      "# == OAuth Authentication ==\n",
      "#\n",
      "# This mode of authentication is the new preferred way\n",
      "# of authenticating with Twitter.\n",
      "\n",
      "# The consumer keys can be found on your application's Details\n",
      "# page located at https://dev.twitter.com/apps (under \"OAuth settings\")\n",
      "consumer_key=\"2MIy44nbUKiElAolSoxY0wzKQ\"\n",
      "consumer_secret=\"KFQqFcvTWBdplgIHyLVZI3B1gp2Nlmzqv5tuiDI0AHdw6ikNVw\"\n",
      "\n",
      "\n",
      "# The access tokens can be found on your applications's Details\n",
      "# page located at https://dev.twitter.com/apps (located\n",
      "# under \"Your access token\")\n",
      "access_token=\"59465566-sLBrpOG3GvtBPWtgIFXGtpw57lkFDYbcTnGz858sP\"\n",
      "access_token_secret=\"VksCIjkuHb77cSLpiDDz93DKedPGtzqdInMCdKqd8DWKQ\"\n",
      "\n",
      "def accessTwitter ():\n",
      "  auth = tweepy.OAuthHandler(consumer_key, consumer_secret)\n",
      "  auth.set_access_token(access_token, access_token_secret)\n",
      "\n",
      "  api = tweepy.API(auth)\n",
      "\n",
      "\n",
      "  # If the authentication was successful, you should\n",
      "  # see the name of the account print out\n",
      "\n",
      "  #print api.me().name\n",
      "  # If the application settings are set for \"Read and Write\" then\n",
      "  # this line should tweet out the message to your account's\n",
      "  # timeline. The \"Read and Write\" setting is on https://dev.twitter.com/apps\n",
      "  #api.update_status('Updating using OAuth authentication via Tweepy!')\n",
      "\n",
      "  return api, auth\n",
      "\n"
     ],
     "language": "python",
     "metadata": {},
     "outputs": [],
     "prompt_number": 8
    },
    {
     "cell_type": "code",
     "collapsed": false,
     "input": [
      "api, auth = accessTwitter ()\n"
     ],
     "language": "python",
     "metadata": {},
     "outputs": [],
     "prompt_number": 9
    },
    {
     "cell_type": "code",
     "collapsed": false,
     "input": [
      "import datetime\n",
      "import copy\n",
      "\n",
      "sn = ['CFKArgentina']#, 'SergioMassa'] #, 'mauriciomacri', 'RandazzoF','sergiourribarri']\n",
      "\n",
      "info_t={}\n",
      "report=[]\n",
      "\n",
      "\n",
      "now = datetime.datetime.now()\n",
      "datetime.datetime.strptime('2010-05-23 15:02:26', \"%Y-%m-%d %H:%M:%S\").time()\n",
      "\n",
      "for s in sn:\n",
      "  twits = tweepy.Cursor(api.user_timeline, count=2, screen_name=s, include_rts=\"true\").items()\n",
      "  # determina datos del ultimo tweet\n",
      "  try:\n",
      "    while (t=twits.next()):\n",
      "      ef = 10000*float(t.retweet_count)/float(t.user.followers_count)\n",
      "      info_t['sn']= s\n",
      "      info_t['twit']=t.text\n",
      "      info_t['followers_count'] = t.user.followers_count\n",
      "      info_t['retweet_count'] = t.retweet_count\n",
      "      info_t['efectividad'] = ef\n",
      "      info_t['twit_id'] = t.id\n",
      "      antig = (now - t.created_at).total_seconds()/3600\n",
      "      info_t['delta_t'] = antig\n",
      "      report.append(copy.deepcopy(info_t))\n",
      "      '''\n",
      "      print \"nombre:\", s\n",
      "      print \"texto:\", t.text\n",
      "      print \"cant seguidores:\",t.user.followers_count\n",
      "      print \"retweet:\", t.retweet_count\n",
      "      print \"efectividad:\", ef\n",
      "      print \"antiguedad\", antig\n",
      "      print t.geo, t.place\n",
      "      print\n",
      "      '''\n",
      "  except UnicodeEncodeError:\n",
      "    pass\n",
      "\n",
      "for r in report:\n",
      "   print r "
     ],
     "language": "python",
     "metadata": {},
     "outputs": [
      {
       "ename": "SyntaxError",
       "evalue": "invalid syntax (<ipython-input-38-1bf5379844f1>, line 17)",
       "output_type": "pyerr",
       "traceback": [
        "\u001b[1;36m  File \u001b[1;32m\"<ipython-input-38-1bf5379844f1>\"\u001b[1;36m, line \u001b[1;32m17\u001b[0m\n\u001b[1;33m    while (t=twits.next()):\u001b[0m\n\u001b[1;37m            ^\u001b[0m\n\u001b[1;31mSyntaxError\u001b[0m\u001b[1;31m:\u001b[0m invalid syntax\n"
       ]
      }
     ],
     "prompt_number": 38
    },
    {
     "cell_type": "code",
     "collapsed": false,
     "input": [
      "list_retweeters = api.retweeters(532654016761958401)\n",
      "for retweeters in list_retweeters:\n",
      "    user=api.get_user(retweeters)\n",
      "    print (\" %s | %s | %s | %s | %d\" % (user.description, user.name, user.screen_name, user.location, user.followers_count)) \n",
      "    print "
     ],
     "language": "python",
     "metadata": {},
     "outputs": []
    },
    {
     "cell_type": "code",
     "collapsed": false,
     "input": [
      "sn = ['CFKArgentina','SergioMassa', 'mauriciomacri', 'RandazzoF','SanzErnesto','danielscioli']\n",
      "\n",
      "info_t = {}\n",
      "tot_retweet = 0\n",
      "for s in sn:\n",
      "    print s\n",
      "    sum_retweet = 0\n",
      "    user = api.get_user(s)\n",
      "    for status in tweepy.Cursor(api.user_timeline, count=2, screen_name=s, include_rts=\"true\").items(30):\n",
      "        if status.text.find(\"RT\") == -1:\n",
      "            sum_retweet += status.retweet_count\n",
      "            \n",
      "        \n",
      "    info_t[s] = (sum_retweet,user.followers_count)\n",
      "    tot_retweet +=  sum_retweet\n",
      "    \n",
      "info_t['tot_retweet']=tot_retweet\n"
     ],
     "language": "python",
     "metadata": {},
     "outputs": [
      {
       "output_type": "stream",
       "stream": "stdout",
       "text": [
        "CFKArgentina\n",
        "SergioMassa"
       ]
      },
      {
       "output_type": "stream",
       "stream": "stdout",
       "text": [
        "\n",
        "mauriciomacri"
       ]
      },
      {
       "output_type": "stream",
       "stream": "stdout",
       "text": [
        "\n",
        "RandazzoF"
       ]
      },
      {
       "output_type": "stream",
       "stream": "stdout",
       "text": [
        "\n",
        "SanzErnesto"
       ]
      },
      {
       "output_type": "stream",
       "stream": "stdout",
       "text": [
        "\n",
        "danielscioli"
       ]
      },
      {
       "output_type": "stream",
       "stream": "stdout",
       "text": [
        "\n"
       ]
      }
     ],
     "prompt_number": 125
    },
    {
     "cell_type": "code",
     "collapsed": false,
     "input": [
      "print info_t\n"
     ],
     "language": "python",
     "metadata": {},
     "outputs": [
      {
       "output_type": "stream",
       "stream": "stdout",
       "text": [
        "{'SanzErnesto': (2037, 68503), 'mauriciomacri': (8443, 1011478), 'SergioMassa': (3668, 430867), 'CFKArgentina': (6891, 3317368), 'danielscioli': (2696, 815363), 'tot_retweet': 26677, 'RandazzoF': (2942, 265882)}\n"
       ]
      }
     ],
     "prompt_number": 126
    },
    {
     "cell_type": "code",
     "collapsed": false,
     "input": [
      "from __future__ import division\n",
      "from prettytable import PrettyTable\n",
      "\n",
      "x = PrettyTable([\"Usuario Twitter\", \"% RT\", \"RT cada 10000 seguidores\", \"Total Seguidores\"])\n",
      "x.align[\"Usuario Twitter\"] = \"l\" # Left align city names\n",
      "x.padding_width = 1 # One space between column edges and contents (default)\n",
      "x.float_format = \"2.2\"\n",
      "x.sortby = \"% RT\"\n",
      "x.reversesort = True\n",
      "\n",
      "\n",
      "for s in sn:\n",
      "    x.add_row([s,100*info_t[s][0]/info_t['tot_retweet'], 10000*info_t[s][0]/info_t[s][1],info_t[s][1] ])\n",
      "\n",
      "print x\n",
      "print (\"Total de RT para el grupo: %d \" % info_t ['tot_retweet'])"
     ],
     "language": "python",
     "metadata": {},
     "outputs": [
      {
       "output_type": "stream",
       "stream": "stdout",
       "text": [
        "+-----------------+-------+--------------------------+------------------+\n",
        "| Usuario Twitter |  % RT | RT cada 10000 seguidores | Total Seguidores |\n",
        "+-----------------+-------+--------------------------+------------------+\n",
        "| mauriciomacri   | 31.65 |          83.47           |     1011478      |\n",
        "| CFKArgentina    | 25.83 |          20.77           |     3317368      |\n",
        "| SergioMassa     | 13.75 |          85.13           |      430867      |\n",
        "| RandazzoF       | 11.03 |          110.65          |      265882      |\n",
        "| danielscioli    | 10.11 |          33.07           |      815363      |\n",
        "| SanzErnesto     |  7.64 |          297.36          |      68503       |\n",
        "+-----------------+-------+--------------------------+------------------+\n",
        "Total de RT para el grupo: 26677 \n"
       ]
      }
     ],
     "prompt_number": 128
    },
    {
     "cell_type": "code",
     "collapsed": false,
     "input": [],
     "language": "python",
     "metadata": {},
     "outputs": []
    }
   ],
   "metadata": {}
  }
 ]
}