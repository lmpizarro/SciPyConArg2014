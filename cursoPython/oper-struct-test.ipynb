{
 "cells": [
  {
   "cell_type": "markdown",
   "metadata": {},
   "source": [
    "#### Uso de nombres significativos de las variables"
   ]
  },
  {
   "cell_type": "code",
   "execution_count": 6,
   "metadata": {
    "collapsed": false
   },
   "outputs": [],
   "source": [
    "\n",
    "este_es_el_nombre_de_una_variable = 0\n",
    "esteEsElNombreDeUnaVariable = este_es_el_nombre_de_una_variable\n",
    "este_es_el_nombre_de_una_variable = este_es_el_nombre_de_una_variable  + 1\n",
    "\n",
    "nivel_liquido_tanque_AA = 0\n",
    "nivel_liquido_tanque_BB = 0\n",
    "\n",
    "n_l_t_AA = 0"
   ]
  },
  {
   "cell_type": "code",
   "execution_count": 3,
   "metadata": {
    "collapsed": false
   },
   "outputs": [],
   "source": [
    "este_es_el_nombre_de_una_variable += 1"
   ]
  },
  {
   "cell_type": "code",
   "execution_count": 5,
   "metadata": {
    "collapsed": false
   },
   "outputs": [
    {
     "name": "stdout",
     "output_type": "stream",
     "text": [
      "2\n"
     ]
    }
   ],
   "source": [
    "print (este_es_el_nombre_de_una_variable )"
   ]
  },
  {
   "cell_type": "code",
   "execution_count": 9,
   "metadata": {
    "collapsed": false
   },
   "outputs": [
    {
     "name": "stdout",
     "output_type": "stream",
     "text": [
      "7\n",
      "python\n"
     ]
    }
   ],
   "source": [
    "# Asigno a q un entero\n",
    "q = 7\n",
    "print (q)\n",
    "\n",
    "# Asigno a q un string\n",
    "\n",
    "q = \"python\"\n",
    "print (q)"
   ]
  },
  {
   "cell_type": "code",
   "execution_count": 10,
   "metadata": {
    "collapsed": false
   },
   "outputs": [
    {
     "ename": "TypeError",
     "evalue": "unsupported operand type(s) for +: 'int' and 'str'",
     "output_type": "error",
     "traceback": [
      "\u001b[1;31m---------------------------------------------------------------------------\u001b[0m\n\u001b[1;31mTypeError\u001b[0m                                 Traceback (most recent call last)",
      "\u001b[1;32m<ipython-input-10-4626c05d59c2>\u001b[0m in \u001b[0;36m<module>\u001b[1;34m()\u001b[0m\n\u001b[0;32m      3\u001b[0m \u001b[0mq\u001b[0m \u001b[1;33m=\u001b[0m \u001b[1;36m8\u001b[0m\u001b[1;33m\u001b[0m\u001b[0m\n\u001b[0;32m      4\u001b[0m \u001b[0mz\u001b[0m \u001b[1;33m=\u001b[0m \u001b[1;34m\"python\"\u001b[0m\u001b[1;33m\u001b[0m\u001b[0m\n\u001b[1;32m----> 5\u001b[1;33m \u001b[0ma\u001b[0m \u001b[1;33m=\u001b[0m \u001b[0mq\u001b[0m \u001b[1;33m+\u001b[0m \u001b[0mz\u001b[0m\u001b[1;33m\u001b[0m\u001b[0m\n\u001b[0m",
      "\u001b[1;31mTypeError\u001b[0m: unsupported operand type(s) for +: 'int' and 'str'"
     ]
    }
   ],
   "source": [
    "# Esto va a dar un error\n",
    "\n",
    "q = 8\n",
    "z = \"python\"\n",
    "a = q + z"
   ]
  },
  {
   "cell_type": "code",
   "execution_count": 14,
   "metadata": {
    "collapsed": false
   },
   "outputs": [
    {
     "name": "stdout",
     "output_type": "stream",
     "text": [
      "8python\n"
     ]
    }
   ],
   "source": [
    "# Pero esto no da error\n",
    "# uso de la función propia de python str()\n",
    "# función propia, quiere decir que está en el \n",
    "# paquete básico de python\n",
    "a = str(q) + z\n",
    "print (a)"
   ]
  },
  {
   "cell_type": "markdown",
   "metadata": {},
   "source": [
    "#### Operadores para cadenas de caracteres o string"
   ]
  },
  {
   "cell_type": "markdown",
   "metadata": {},
   "source": [
    "Operador Suma y Operador repetición"
   ]
  },
  {
   "cell_type": "code",
   "execution_count": 15,
   "metadata": {
    "collapsed": false
   },
   "outputs": [
    {
     "name": "stdout",
     "output_type": "stream",
     "text": [
      "hola mundo\n"
     ]
    }
   ],
   "source": [
    "# operador suma\n",
    "a = \"hola\"\n",
    "b = \"mundo\"\n",
    "c = \" \"\n",
    "d = a + c + b\n",
    "print (d)"
   ]
  },
  {
   "cell_type": "code",
   "execution_count": 17,
   "metadata": {
    "collapsed": false
   },
   "outputs": [
    {
     "name": "stdout",
     "output_type": "stream",
     "text": [
      "ZZZZZ\n"
     ]
    }
   ],
   "source": [
    "# operador repetición\n",
    "a = \"Z\"\n",
    "c = 5*a\n",
    "print (c) # nos dormimos"
   ]
  },
  {
   "cell_type": "markdown",
   "metadata": {},
   "source": [
    "### Operadores simplificados / shortcuts"
   ]
  },
  {
   "cell_type": "code",
   "execution_count": 28,
   "metadata": {
    "collapsed": false
   },
   "outputs": [
    {
     "name": "stdout",
     "output_type": "stream",
     "text": [
      "5\n",
      "8\n",
      "5\n",
      "15\n",
      "5.0\n",
      "1.0\n",
      "1.0\n"
     ]
    }
   ],
   "source": [
    "m = 2\n",
    "n = 3\n",
    "# asignamos a m el valor de la suma m + n\n",
    "m = m + n\n",
    "print (m)\n",
    "# operador reducido para la adición\n",
    "m += n\n",
    "print (m)\n",
    "# operador reducido para la resta\n",
    "m -= n\n",
    "print (m)\n",
    "# operador reducido para la multiplicación\n",
    "m *= n\n",
    "print (m)\n",
    "# operador reducido para la división\n",
    "# el resultado depende de la versión de python\n",
    "# que se use. \n",
    "m /= n\n",
    "print (m)\n",
    "m //= n ## división entera\n",
    "print (m)\n",
    "m %= n  ##\n",
    "print (m)"
   ]
  },
  {
   "cell_type": "markdown",
   "metadata": {},
   "source": [
    "## Operadores como funciones [link](https://docs.python.org/2/library/operator.html#module-operator)"
   ]
  },
  {
   "cell_type": "code",
   "execution_count": 37,
   "metadata": {
    "collapsed": false
   },
   "outputs": [
    {
     "data": {
      "text/plain": [
       "10"
      ]
     },
     "execution_count": 37,
     "metadata": {},
     "output_type": "execute_result"
    }
   ],
   "source": [
    "# los operadores se pueden usar como funciones\n",
    "import operator as op\n",
    "op.mul(2,5)"
   ]
  },
  {
   "cell_type": "markdown",
   "metadata": {},
   "source": [
    "## Más sobre colecciones colecciones\n",
    "\n",
    "### Hasta ahora: listas, diccionarios, tuplas\n",
    "#### Recordemos"
   ]
  },
  {
   "cell_type": "code",
   "execution_count": 3,
   "metadata": {
    "collapsed": false
   },
   "outputs": [
    {
     "name": "stdout",
     "output_type": "stream",
     "text": [
      "[1, 2, 3, 4, 'q']\n",
      "[2]\n",
      "[2, 3, 4, 'q']\n",
      "[1, 2, 3, 4]\n",
      "[1, 2, 3]\n",
      "[4, 'q']\n",
      "[4, 'q']\n",
      "[1, 3, 4, 'q']\n",
      "[1, 56, 3, 4, 'q']\n",
      "[1, 56, 3, 4, 'q', 45, 78]\n",
      "[1, 56, 3, 4, 'q', 78]\n",
      "lista luego del clear []\n",
      "índice 1\n",
      "cantidad de véces que un elemento aparece 2 [1, 56, 3, 4, 56, 'q', 78]\n",
      "[1, 3, 4, 56, 56, 78]\n",
      "[78, 56, 56, 4, 3, 1]\n",
      "Borrado luego de del [78, 56, 56, 3, 1]\n",
      "las 2 listas --- [78, 56, 56, 3, 1] [78, 56, 3, 1]\n",
      "78 78\n",
      "56 56\n",
      "56 3\n",
      "3 1\n"
     ]
    },
    {
     "ename": "IndexError",
     "evalue": "list index out of range",
     "output_type": "error",
     "traceback": [
      "\u001b[1;31m---------------------------------------------------------------------------\u001b[0m\n\u001b[1;31mIndexError\u001b[0m                                Traceback (most recent call last)",
      "\u001b[1;32m<ipython-input-3-906a204e4dc7>\u001b[0m in \u001b[0;36m<module>\u001b[1;34m()\u001b[0m\n\u001b[0;32m     56\u001b[0m \u001b[1;33m\u001b[0m\u001b[0m\n\u001b[0;32m     57\u001b[0m \u001b[1;33m\u001b[0m\u001b[0m\n\u001b[1;32m---> 58\u001b[1;33m \u001b[0mprint\u001b[0m \u001b[1;33m(\u001b[0m\u001b[0mlista\u001b[0m\u001b[1;33m[\u001b[0m\u001b[1;33m-\u001b[0m\u001b[1;36m1\u001b[0m\u001b[1;33m]\u001b[0m\u001b[1;33m)\u001b[0m \u001b[1;31m# pero esto produce error\u001b[0m\u001b[1;33m\u001b[0m\u001b[0m\n\u001b[0m\u001b[0;32m     59\u001b[0m \u001b[1;33m\u001b[0m\u001b[0m\n\u001b[0;32m     60\u001b[0m \u001b[1;33m\u001b[0m\u001b[0m\n",
      "\u001b[1;31mIndexError\u001b[0m: list index out of range"
     ]
    }
   ],
   "source": [
    "lista = [21,21,21] # corchetes\n",
    "lista1 = [1,2,3,4]\n",
    "lista1.append (\"q\")\n",
    "\n",
    "print (lista1)\n",
    "print (lista1[1:2])\n",
    "print (lista1[1:])\n",
    "print (lista1[:4])\n",
    "print (lista1[:-2])\n",
    "print (lista1[-2:]) # equivalentes ¿Cómo es esto?\n",
    "print (lista1[3:])\n",
    "\n",
    "# como borrar un elemento de la lista\n",
    "lista1.pop(1)\n",
    "print (lista1)\n",
    "# inserción de elementos en la lista\n",
    "lista1.insert(1, 56)\n",
    "print (lista1)\n",
    "# extender la lista con otra lista\n",
    "lista1.extend([45,78])\n",
    "print (lista1)\n",
    "# remover un elemento\n",
    "lista1.remove(45)\n",
    "print (lista1)\n",
    "lista.clear()\n",
    "print (\"lista luego del clear\", lista)\n",
    "# devuelve el índice de la primer ocurrencia del elemento\n",
    "index = lista1.index(56)\n",
    "print (\"índice\", index)\n",
    "# devuelve el número de véces que un elemento aparece en la lista\n",
    "lista1.insert(4, 56)\n",
    "count = lista1.count (56)\n",
    "print(\"cantidad de véces que un elemento aparece\", count, lista1)\n",
    "#ordenar la lista, los elementos tienen que ser del mismo tipo\n",
    "lista1.pop(5)\n",
    "lista1.sort()\n",
    "print (lista1)\n",
    "lista1.reverse()\n",
    "print (lista1)\n",
    "# borrar con del\n",
    "del lista1[3]\n",
    "print (\"Borrado luego de del\", lista1)\n",
    "\n",
    "# borrado sin consecuencias en la lista original\n",
    "lista2 = list(lista1)\n",
    "\n",
    "del lista2[1]\n",
    "\n",
    "print(\"las 2 listas ---\", lista1, lista2)\n",
    "\n",
    "# Iterar en paralelo 2 listas\n",
    "# la iteración termina en la lista \n",
    "# que tiene menos elementos\n",
    "for n,f in zip(lista1, lista2):\n",
    "    print (n,f)\n",
    "\n",
    "    \n",
    "\n",
    "\n",
    "\n",
    "print (lista[-1]) # pero esto produce error\n",
    "\n",
    "\n"
   ]
  },
  {
   "cell_type": "markdown",
   "metadata": {},
   "source": [
    "## List comprehension\n",
    "\n",
    "### [link](https://docs.python.org/3.4/tutorial/datastructures.html#list-comprehensions)"
   ]
  },
  {
   "cell_type": "code",
   "execution_count": 6,
   "metadata": {
    "collapsed": false
   },
   "outputs": [
    {
     "name": "stdout",
     "output_type": "stream",
     "text": [
      "[0, 1, 4, 9, 16, 25, 36, 49, 64, 81]\n",
      "[0, 1, 4, 9, 16, 25, 36, 49, 64, 81]\n",
      "[0, 1, 4, 9, 16, 25, 36, 49, 64, 81]\n",
      "[(1, 3), (1, 4), (2, 3), (2, 1), (2, 4), (3, 1), (3, 4)]\n",
      "['3.1', '3.14', '3.142', '3.1416', '3.14159']\n",
      "[[1, 2, 3, 4], [5, 6, 7, 8], [9, 10, 11, 12]]\n",
      "[[1, 5, 9], [2, 6, 10], [3, 7, 11], [4, 8, 12]]\n",
      "func_ret_lista  [0, 1, 4, 9, 16, 25, 36, 49, 64, 81]\n"
     ]
    }
   ],
   "source": [
    "squares = []\n",
    "for x in range(10):\n",
    "     squares.append(x**2)\n",
    "print(squares)\n",
    "\n",
    "squares = list(map(lambda x: x**2, range(10)))\n",
    "print(squares)\n",
    "\n",
    "squares = [x**2 for x in range(10)]\n",
    "print(squares)\n",
    "\n",
    "pairs = [(x, y) for x in [1,2,3] for y in [3,1,4] if x != y]\n",
    "\n",
    "print (pairs)\n",
    "\n",
    "from math import pi\n",
    "strings_pi = [str(round(pi, i)) for i in range(1, 6)]\n",
    "print(strings_pi)\n",
    "\n",
    "matrix = [\n",
    "     [1, 2, 3, 4],\n",
    "     [5, 6, 7, 8],\n",
    "     [9, 10, 11, 12],]\n",
    "\n",
    "print(matrix)\n",
    "\n",
    "# Explicar esto \n",
    "matrix_t = [[row[i] for row in matrix] for i in range(4)]\n",
    "print(matrix_t)\n",
    "\n",
    "#función que retorna una lista\n",
    "def func_ret_lista():\n",
    "    return ([x**2 for x in range(10)])\n",
    "\n",
    "print (\"func_ret_lista \", func_ret_lista())"
   ]
  },
  {
   "cell_type": "markdown",
   "metadata": {},
   "source": [
    "### Tablas "
   ]
  },
  {
   "cell_type": "code",
   "execution_count": 12,
   "metadata": {
    "collapsed": false
   },
   "outputs": [
    {
     "name": "stdout",
     "output_type": "stream",
     "text": [
      "[[1, 3, 2], ['q', 'w', 'e']]\n",
      "[1, 3, 2]\n",
      "['q', 'w', 'e']\n",
      "1\n"
     ]
    }
   ],
   "source": [
    "tabla = []\n",
    "fila1 = [1, 3, 2]\n",
    "fila2 = ['q', 'w', 'e']\n",
    "tabla.append(fila1)\n",
    "tabla.append(fila2)\n",
    "\n",
    "print(tabla)\n",
    "print(tabla[0]) # primera fila, recordar que se empieza en cero\n",
    "print(tabla[1]) # segunda fila\n",
    "print(tabla[0][0])"
   ]
  },
  {
   "cell_type": "code",
   "execution_count": 60,
   "metadata": {
    "collapsed": false
   },
   "outputs": [
    {
     "name": "stdout",
     "output_type": "stream",
     "text": [
      "1\n",
      "3\n",
      "2\n",
      "q\n",
      "w\n",
      "e\n"
     ]
    }
   ],
   "source": [
    "# accediendo a todos\n",
    "for fila in tabla:\n",
    "    for e in fila:\n",
    "        print (e)"
   ]
  },
  {
   "cell_type": "code",
   "execution_count": 62,
   "metadata": {
    "collapsed": false
   },
   "outputs": [
    {
     "name": "stdout",
     "output_type": "stream",
     "text": [
      "0   0   1\n",
      "0   1   3\n",
      "0   2   2\n",
      "1   0   q\n",
      "1   1   w\n",
      "1   2   e\n"
     ]
    }
   ],
   "source": [
    "# accediendo a todos y a los índices\n",
    "for i, fila in enumerate (tabla):\n",
    "    for j, e in enumerate(fila):\n",
    "        print (i, \" \", j, \" \", e)"
   ]
  },
  {
   "cell_type": "code",
   "execution_count": 70,
   "metadata": {
    "collapsed": false
   },
   "outputs": [
    {
     "name": "stdout",
     "output_type": "stream",
     "text": [
      "[['q', 'w', 'e']]\n"
     ]
    }
   ],
   "source": [
    "del(tabla[0]) ## borrando filas de la tabla\n",
    "print (tabla)"
   ]
  },
  {
   "cell_type": "code",
   "execution_count": 71,
   "metadata": {
    "collapsed": false
   },
   "outputs": [
    {
     "name": "stdout",
     "output_type": "stream",
     "text": [
      "[1, 2, 3, 4, 5]\n",
      "[1, 2, ['q', 'w', 'e']]\n"
     ]
    }
   ],
   "source": [
    "# concatenar listas\n",
    "l1 = [1, 2]\n",
    "l2 = [3, 4,5]\n",
    "\n",
    "l3 = l1 + l2\n",
    "print (l3)\n",
    "l3 = l1 + tabla\n",
    "print (l3)"
   ]
  },
  {
   "cell_type": "code",
   "execution_count": 73,
   "metadata": {
    "collapsed": false
   },
   "outputs": [
    {
     "name": "stdout",
     "output_type": "stream",
     "text": [
      "[['q', 'w', 'e'], [1, 3, 2], [1, 3, 2]]\n",
      "[1, 2, ['q', 'w', 'e'], [1, 3, 2], [1, 3, 2]]\n",
      "[1, 2, ['q', 'w', 'e'], [1, 3, 2], [1, 3, 2], 1, 2, ['q', 'w', 'e'], [1, 3, 2], [1, 3, 2]]\n"
     ]
    }
   ],
   "source": [
    "fila1 = [1, 3, 2]\n",
    "tabla.append(fila1)\n",
    "print(tabla)\n",
    "l3 = l1 + tabla\n",
    "print (l3)\n",
    "#operador de repetición\n",
    "l3 = l3 * 2\n",
    "print (l3)"
   ]
  },
  {
   "cell_type": "markdown",
   "metadata": {},
   "source": [
    "## Diccionarios o hashes\n",
    "\n",
    "Son estructuras que a una clave, asignan un valor.\n"
   ]
  },
  {
   "cell_type": "code",
   "execution_count": 11,
   "metadata": {
    "collapsed": false
   },
   "outputs": [
    {
     "name": "stdout",
     "output_type": "stream",
     "text": [
      "{'val': 10, 'nombre_var': 'vlx_01'}\n",
      "{'val': 11, 'nombre_var': 'vlx_02'}\n",
      "{'v1': {'val': 11, 'nombre_var': 'vlx_02'}, 'v2': {'val': 11, 'nombre_var': 'vlx_02'}}\n",
      "vlx_02   11.000000\n",
      "v1\n",
      "v2\n",
      "v1 {'val': 11, 'nombre_var': 'vlx_02'}\n",
      "v2 {'val': 11, 'nombre_var': 'vlx_02'}\n",
      "v1   vlx_02   11.000000\n",
      "v2   vlx_02   11.000000\n",
      "{'v2': {'val': 11, 'nombre_var': 'vlx_02'}}\n",
      "{'v1': {'val': 11, 'nombre_var': 'vlx_02'}, 'v2': {'val': 11, 'nombre_var': 'vlx_02'}}\n",
      "{'v2': {'val': 11, 'nombre_var': 'vlx_02'}}\n",
      "{'v1': {'val': 11, 'nombre_var': 'vlx_02'}, 'v2': {'val': 11, 'nombre_var': 'vlx_02'}}\n",
      "v1 {'val': 11, 'nombre_var': 'vlx_02'}\n",
      "v2 {'val': 11, 'nombre_var': 'vlx_02'}\n",
      "4.096851264300147\n"
     ]
    }
   ],
   "source": [
    "a = {} # declaración  de un diccionario\n",
    "a[\"nombre_var\"] = \"vlx_01\"\n",
    "a[\"val\"] = 10\n",
    "print (a)\n",
    "b = a \n",
    "b[\"nombre_var\"] = \"vlx_02\"\n",
    "b[\"val\"] = 11\n",
    "print (b)\n",
    "c ={\"v1\":a, \"v2\":b}\n",
    "print (c)\n",
    "# formateo de print \n",
    "print (\"%s   %f\" % (c[\"v1\"][\"nombre_var\"], c[\"v1\"][\"val\"]))\n",
    "\n",
    "# accediendo a distintos niveles de información\n",
    "# vemos las claves\n",
    "for k in c:\n",
    "    print (k)\n",
    "\n",
    "# vemos la clave y su diccionario asociado    \n",
    "for k in c:\n",
    "    print (k, c[k])\n",
    "\n",
    "# formateamos la salida para imprimir    \n",
    "for k in c:\n",
    "    print (\"%s   %s   %f\" %(k, c[k][\"nombre_var\"], c[k][\"val\"]))\n",
    " \n",
    "#borrado de un elemento de la lista    \n",
    "del c[\"v1\"]\n",
    "\n",
    "print (c)    \n",
    "\n",
    "\n",
    "# restituímos c\n",
    "c[\"v1\"] = a\n",
    "\n",
    "print (c)\n",
    "\n",
    "# borrado sin consecuencias en el diccionario original\n",
    "d =  dict(c)\n",
    "\n",
    "del d[\"v1\"]\n",
    "\n",
    "print (d)\n",
    "print (c)\n",
    "\n",
    "# iterando sobre la clave y el valor\n",
    "for k, v in c.items():\n",
    "     print(k, v)\n",
    "        \n",
    "#\n",
    "# Función que retorna un diccionario\n",
    "#\n",
    "import random\n",
    "def func_rect_dict():\n",
    "    dct = {}\n",
    "    \n",
    "    for i in range(6):\n",
    "        dct['v' + str(i)] = i*2 +random.gauss(0,.2)\n",
    "    \n",
    "    return dct\n",
    "\n",
    "v1 = func_rect_dict()\n",
    "print (v1['v2'])\n",
    "\n",
    "    \n",
    "        "
   ]
  },
  {
   "cell_type": "code",
   "execution_count": 38,
   "metadata": {
    "collapsed": false
   },
   "outputs": [
    {
     "name": "stdout",
     "output_type": "stream",
     "text": [
      "{'v2': {'val': 11, 'nombre_var': 'vlx_02'}}\n"
     ]
    }
   ],
   "source": []
  },
  {
   "cell_type": "markdown",
   "metadata": {},
   "source": [
    "\n",
    "### Un uso interesante de diccionarios"
   ]
  },
  {
   "cell_type": "code",
   "execution_count": 77,
   "metadata": {
    "collapsed": false
   },
   "outputs": [
    {
     "name": "stdout",
     "output_type": "stream",
     "text": [
      "llamando f1\n"
     ]
    }
   ],
   "source": [
    "def f1():\n",
    "    print (\"llamando f1\")\n",
    "    \n",
    "a = {\"f1\": f1}\n",
    "a[\"f1\"]()"
   ]
  },
  {
   "cell_type": "code",
   "execution_count": 79,
   "metadata": {
    "collapsed": false
   },
   "outputs": [
    {
     "name": "stdout",
     "output_type": "stream",
     "text": [
      "llamando f2\n"
     ]
    }
   ],
   "source": [
    "def f2():\n",
    "    print (\"llamando f2\")\n",
    "\n",
    "a[\"f2\"] = f2    \n",
    "a[\"f2\"]()    "
   ]
  },
  {
   "cell_type": "markdown",
   "metadata": {},
   "source": [
    "### switch - case\n",
    "#### python no tiene, ¿Pero quién los necesita?\n",
    "\n",
    "Pero se pueden construir fácilmente.\n"
   ]
  },
  {
   "cell_type": "code",
   "execution_count": 81,
   "metadata": {
    "collapsed": false
   },
   "outputs": [
    {
     "name": "stdout",
     "output_type": "stream",
     "text": [
      "llamando f1\n",
      "llamando f2\n"
     ]
    }
   ],
   "source": [
    "def mi_switch_case(c):\n",
    "    if c == 1:\n",
    "        a[\"f1\"]()\n",
    "    elif c== 2:\n",
    "        a[\"f2\"]()\n",
    "    else:\n",
    "        pass\n",
    "    \n",
    "mi_switch_case(1)\n",
    "mi_switch_case(2)\n",
    "mi_switch_case(3)"
   ]
  },
  {
   "cell_type": "code",
   "execution_count": 82,
   "metadata": {
    "collapsed": false
   },
   "outputs": [
    {
     "ename": "NameError",
     "evalue": "name 'f3' is not defined",
     "output_type": "error",
     "traceback": [
      "\u001b[1;31m---------------------------------------------------------------------------\u001b[0m\n\u001b[1;31mNameError\u001b[0m                                 Traceback (most recent call last)",
      "\u001b[1;32m<ipython-input-82-39d2c30f3651>\u001b[0m in \u001b[0;36m<module>\u001b[1;34m()\u001b[0m\n\u001b[1;32m----> 1\u001b[1;33m \u001b[0ma\u001b[0m\u001b[1;33m[\u001b[0m\u001b[1;34m\"f3\"\u001b[0m\u001b[1;33m]\u001b[0m \u001b[1;33m=\u001b[0m \u001b[0mf3\u001b[0m\u001b[1;33m\u001b[0m\u001b[0m\n\u001b[0m\u001b[0;32m      2\u001b[0m \u001b[0ma\u001b[0m\u001b[1;33m[\u001b[0m\u001b[1;34m\"f3\"\u001b[0m\u001b[1;33m]\u001b[0m\u001b[1;33m(\u001b[0m\u001b[1;33m)\u001b[0m\u001b[1;33m\u001b[0m\u001b[0m\n",
      "\u001b[1;31mNameError\u001b[0m: name 'f3' is not defined"
     ]
    }
   ],
   "source": [
    "# esto da un error\n",
    "a[\"f3\"] = f3    \n",
    "a[\"f3\"]()    "
   ]
  },
  {
   "cell_type": "markdown",
   "metadata": {},
   "source": [
    "## Conjuntos (Sets)\n",
    "#### La notación para conjuntos es distinta en python 2 y python 3\n",
    "\n",
    "Acá en python 3"
   ]
  },
  {
   "cell_type": "code",
   "execution_count": 115,
   "metadata": {
    "collapsed": false
   },
   "outputs": [
    {
     "name": "stdout",
     "output_type": "stream",
     "text": [
      "{1, 2, 3, 4, 5}\n",
      "{3}\n",
      "True\n",
      "True\n",
      "True\n"
     ]
    }
   ],
   "source": [
    "\n",
    "A = set()  # create an empty set\n",
    "B = set([1,2,3]) # a 3 element set\n",
    "C = set([3,4,5])\n",
    "D = set([6,7,8])\n",
    "# Now try out some set operations\n",
    "print (B.union(C))\n",
    "print(B.intersection(C))\n",
    "print(B.issuperset(set([2])))\n",
    "print(set([3]).issubset(C))\n",
    "print(C.intersection(D) == A)"
   ]
  },
  {
   "cell_type": "markdown",
   "metadata": {},
   "source": [
    "## Tuplas o listas inmutables (no se puede cambiar el valor)"
   ]
  },
  {
   "cell_type": "code",
   "execution_count": 117,
   "metadata": {
    "collapsed": false
   },
   "outputs": [
    {
     "ename": "TypeError",
     "evalue": "'tuple' object does not support item assignment",
     "output_type": "error",
     "traceback": [
      "\u001b[1;31m---------------------------------------------------------------------------\u001b[0m\n\u001b[1;31mTypeError\u001b[0m                                 Traceback (most recent call last)",
      "\u001b[1;32m<ipython-input-117-b38ce72f754c>\u001b[0m in \u001b[0;36m<module>\u001b[1;34m()\u001b[0m\n\u001b[0;32m      1\u001b[0m \u001b[0ma\u001b[0m \u001b[1;33m=\u001b[0m \u001b[1;33m(\u001b[0m\u001b[1;33m)\u001b[0m\u001b[1;33m\u001b[0m\u001b[0m\n\u001b[0;32m      2\u001b[0m \u001b[1;31m# error\u001b[0m\u001b[1;33m\u001b[0m\u001b[1;33m\u001b[0m\u001b[0m\n\u001b[1;32m----> 3\u001b[1;33m \u001b[0ma\u001b[0m\u001b[1;33m[\u001b[0m\u001b[1;36m0\u001b[0m\u001b[1;33m]\u001b[0m \u001b[1;33m=\u001b[0m \u001b[1;36m1\u001b[0m\u001b[1;33m\u001b[0m\u001b[0m\n\u001b[0m",
      "\u001b[1;31mTypeError\u001b[0m: 'tuple' object does not support item assignment"
     ]
    }
   ],
   "source": [
    "a = ()\n",
    "# error\n",
    "a[0] = 1"
   ]
  },
  {
   "cell_type": "code",
   "execution_count": 118,
   "metadata": {
    "collapsed": false
   },
   "outputs": [
    {
     "data": {
      "text/plain": [
       "1"
      ]
     },
     "execution_count": 118,
     "metadata": {},
     "output_type": "execute_result"
    }
   ],
   "source": [
    "b= (1, 2, 3)\n",
    "# no hay error\n",
    "b[0]"
   ]
  },
  {
   "cell_type": "code",
   "execution_count": 119,
   "metadata": {
    "collapsed": false
   },
   "outputs": [
    {
     "ename": "TypeError",
     "evalue": "'tuple' object does not support item assignment",
     "output_type": "error",
     "traceback": [
      "\u001b[1;31m---------------------------------------------------------------------------\u001b[0m\n\u001b[1;31mTypeError\u001b[0m                                 Traceback (most recent call last)",
      "\u001b[1;32m<ipython-input-119-2d16f71b0035>\u001b[0m in \u001b[0;36m<module>\u001b[1;34m()\u001b[0m\n\u001b[0;32m      1\u001b[0m \u001b[1;31m#error\u001b[0m\u001b[1;33m\u001b[0m\u001b[1;33m\u001b[0m\u001b[0m\n\u001b[1;32m----> 2\u001b[1;33m \u001b[0mb\u001b[0m\u001b[1;33m[\u001b[0m\u001b[1;36m0\u001b[0m\u001b[1;33m]\u001b[0m \u001b[1;33m=\u001b[0m \u001b[1;36m3\u001b[0m\u001b[1;33m\u001b[0m\u001b[0m\n\u001b[0m",
      "\u001b[1;31mTypeError\u001b[0m: 'tuple' object does not support item assignment"
     ]
    }
   ],
   "source": [
    "#error no se puede cambiar el valor\n",
    "b[0] = 3"
   ]
  },
  {
   "cell_type": "code",
   "execution_count": 120,
   "metadata": {
    "collapsed": false
   },
   "outputs": [
    {
     "ename": "TypeError",
     "evalue": "'tuple' object does not support item assignment",
     "output_type": "error",
     "traceback": [
      "\u001b[1;31m---------------------------------------------------------------------------\u001b[0m\n\u001b[1;31mTypeError\u001b[0m                                 Traceback (most recent call last)",
      "\u001b[1;32m<ipython-input-120-d07b66feb1eb>\u001b[0m in \u001b[0;36m<module>\u001b[1;34m()\u001b[0m\n\u001b[0;32m      1\u001b[0m \u001b[1;31m# pero se pueden agregar valores\u001b[0m\u001b[1;33m\u001b[0m\u001b[1;33m\u001b[0m\u001b[0m\n\u001b[1;32m----> 2\u001b[1;33m \u001b[0mb\u001b[0m\u001b[1;33m[\u001b[0m\u001b[1;36m3\u001b[0m\u001b[1;33m]\u001b[0m \u001b[1;33m=\u001b[0m \u001b[1;36m4\u001b[0m\u001b[1;33m\u001b[0m\u001b[0m\n\u001b[0m",
      "\u001b[1;31mTypeError\u001b[0m: 'tuple' object does not support item assignment"
     ]
    }
   ],
   "source": [
    "# pero se pueden agregar valores\n",
    "# error\n",
    "b[3] = 4"
   ]
  },
  {
   "cell_type": "code",
   "execution_count": 124,
   "metadata": {
    "collapsed": false
   },
   "outputs": [
    {
     "name": "stdout",
     "output_type": "stream",
     "text": [
      "(1, 2, 3, 4, 4, 4, 4)\n",
      "(1, 2, 3, 4, 4, 4, 4, 1, 2, 3, 4, 4, 4, 4)\n",
      "(1, 2, 3, 4, 4, 4, 4, 1, 2, 3, 4, 4, 4, 4, 1, 2, 3, 4, 4, 4, 4)\n"
     ]
    }
   ],
   "source": [
    "b = b + (4, ) # va la coma para que sea una tupla\n",
    "print (b)\n",
    "c = 2*b\n",
    "print (c)\n",
    "print (c+b)"
   ]
  },
  {
   "cell_type": "markdown",
   "metadata": {},
   "source": [
    "# Testeos unitarios\n",
    "Más información [link](https://docs.python.org/2/library/unittest.html)"
   ]
  },
  {
   "cell_type": "code",
   "execution_count": null,
   "metadata": {
    "collapsed": false
   },
   "outputs": [],
   "source": [
    "import unittest\n",
    "\n",
    "def f1 (n1, n2):\n",
    "    return n1 + n2\n",
    "\n",
    "def f2 (n1, n2):\n",
    "    return n1 > n2\n",
    "\n",
    "def f3 (n1):\n",
    "    return 2*n1\n",
    "\n",
    "\n",
    "\n",
    "class TestStringMethods(unittest.TestCase):\n",
    "\n",
    "  def test_upper(self):\n",
    "      self.assertEqual('foo'.upper(), 'FOO')\n",
    "\n",
    "  def test_isupper(self):\n",
    "      self.assertTrue('FOO'.isupper())\n",
    "      self.assertFalse('Foo'.isupper())\n",
    "\n",
    "  def test_split(self):\n",
    "      s = 'hello world'\n",
    "      self.assertEqual(s.split(), ['hello', 'world'])\n",
    "      # check that s.split fails when the separator is not a string\n",
    "      with self.assertRaises(TypeError):\n",
    "          s.split(2)\n",
    "                    \n",
    "  def test_f2a (self):\n",
    "      self.assertTrue(f2(4,2), 4)\n",
    "\n",
    "  def test_f2b (self):\n",
    "      self.assertFalse(f2(2,4), 4)\n",
    "\n",
    "\n",
    "  def test_f1 (self):\n",
    "      self.assertEqual(f1(2,2), 4)\n",
    "\n",
    "  def test_f3 (self):\n",
    "      self.assertEqual(f3(2), 6)\n",
    "\n",
    "                    \n",
    "if __name__ == '__main__':\n",
    "    unittest.main()"
   ]
  },
  {
   "cell_type": "markdown",
   "metadata": {},
   "source": [
    "    ...F...\n",
    "    ======================================================================\n",
    "    FAIL: test_f3 (__main__.TestStringMethods)\n",
    "    ----------------------------------------------------------------------\n",
    "    Traceback (most recent call last):\n",
    "      File \"testing.py\", line 39, in test_f3\n",
    "        self.assertEqual(f3(2), 6)\n",
    "    AssertionError: 4 != 6\n",
    "\n",
    "    ----------------------------------------------------------------------\n",
    "    Ran 7 tests in 0.001s\n",
    "\n",
    "    FAILED (failures=1)"
   ]
  },
  {
   "cell_type": "markdown",
   "metadata": {},
   "source": [
    "### Ejercicio, lo mismo que antes, pero las funciones que quiero testear estan en un paquete: mis_func.py"
   ]
  },
  {
   "cell_type": "markdown",
   "metadata": {},
   "source": [
    "# Control de versión\n",
    "\n",
    "## Usar git u otro"
   ]
  },
  {
   "cell_type": "markdown",
   "metadata": {},
   "source": [
    "### ¿Qué es el control de versiones, y por qué debería importarte? [link](https://git-scm.com/book/es/v1/Empezando-Acerca-del-control-de-versiones#Sistemas-de-control-de-versiones-locales)\n",
    "\n",
    "El control de versiones es un sistema que registra los cambios realizados sobre un archivo o conjunto de archivos a lo largo del tiempo, de modo que puedas recuperar versiones específicas más adelante.\n",
    "\n",
    "El control de versiones de un proyecto de software (de toda su documentación) es un requisito importante para cumplir con determinada normativa de calidad de software.\n",
    "\n",
    "Sin control de versión no se puede tener conocer cuales son los cambios introducidos y cual es su justificación.\n",
    "\n"
   ]
  },
  {
   "cell_type": "markdown",
   "metadata": {},
   "source": [
    "## Sistemas de control de versiones locales / remota no automática\n",
    "\n",
    "Se guardan en una carpeta las ditintas versiones de los archivos, o del proyecto.\n",
    "Puede ser remota usando drive de google o dropbox.\n",
    "\n",
    "### rcs - Revision Control System\n",
    "\n",
    "Guarda en el disco las diferencias (parches) entre las distintas versiones de los archivos,\n",
    "integrando  esas diferencias se puede reconstruir el archivo en cualquier momento de su historia.\n",
    "\n",
    "## Sistemas de control de versiones centralizados\n",
    "\n",
    "### cvs - Centralized Version Control Systems\n",
    "\n",
    "Los archivos se encuentran en un servidor y varios clientes que descargan los archivos desde ese lugar central.\n",
    "\n",
    "Desventajas. La más obvia es el punto único de fallo que representa el servidor centralizado.\n",
    "\n",
    "## Sistemas de control de versión distribuidos\n",
    "\n",
    "Los clientes no sólo descargan la última instantánea de los archivos: replican completamente el repositorio. Esto te permite establecer varios flujos de trabajo que no son posibles en sistemas centralizados.\n",
    "\n",
    "Git modela sus datos como un conjunto de instantáneas de un mini sistema de archivos. Cada vez que se confirma un cambio, o se guarda el estado de un proyecto en Git, básicamente hace una foto del aspecto de todos los archivos en ese momento, y guarda una referencia a esa instantánea. Para ser eficiente, si los archivos no se han modificado, Git no almacena el archivo de nuevo, sólo un enlace al archivo anterior idéntico que ya tiene almacenado.\n"
   ]
  },
  {
   "cell_type": "code",
   "execution_count": 2,
   "metadata": {
    "collapsed": false
   },
   "outputs": [
    {
     "data": {
      "image/png": "[encoded data removed]",
      "text/plain": [
       "<IPython.core.display.Image at 0xb63dc4cc>"
      ]
     },
     "execution_count": 2,
     "metadata": {},
     "output_type": "execute_result"
    }
   ],
   "source": [
    "from IPython.display import Image\n",
    "Image(filename='git-almacenamiento.png')"
   ]
  },
  {
   "cell_type": "markdown",
   "metadata": {},
   "source": [
    "## Operaciones locales\n",
    "\n",
    "La mayoría de las operaciones son locales. Se puede trabajar desconectado de la red y cuando\n",
    "se vuelve a tener conexión actualizar un repositorio remoto.\n",
    "\n",
    "## Importante - Los tres estados\n",
    "\n",
    "Git tiene tres estados principales en los que se pueden encontrar tus archivos:\n",
    "### confirmado (committed) \n",
    "\n",
    "Confirmado significa que los datos están almacenados de manera segura en tu base de datos local.\n",
    "\n",
    "### Modificado (modified) \n",
    "\n",
    "Modificado significa que has modificado el archivo pero todavía no lo has confirmado a tu base de datos.\n",
    "\n",
    "### Preparado (staged) \n",
    "Preparado significa que has marcado un archivo modificado en su versión actual para que vaya en tu próxima confirmación."
   ]
  },
  {
   "cell_type": "code",
   "execution_count": 14,
   "metadata": {
    "collapsed": false
   },
   "outputs": [
    {
     "data": {
      "image/png": "[encoded data removed]",
      "text/plain": [
       "<IPython.core.display.Image at 0xb2a4ccec>"
      ]
     },
     "execution_count": 14,
     "metadata": {},
     "output_type": "execute_result"
    }
   ],
   "source": [
    "Image(filename='git-local-operations.png')"
   ]
  },
  {
   "cell_type": "markdown",
   "metadata": {},
   "source": [
    "## Inicio de un repositorio en una carpeta determinada\n",
    "\n",
    " $ git init\n",
    "\n",
    "## Agregamos al repositorio los archivos de nuestro proyecto (tracking: seguimiento de la historia)\n",
    "## staging\n",
    "\n",
    " $ git add *.py\n",
    " \n",
    " $ git add LEAME.md   \n",
    "\n",
    "## Confirmar los cambios al repositorio, local \n",
    "\n",
    " $ git commit -m 'versión inicial del proyecto'\n",
    "\n",
    "## Borrar archivos\n",
    "\n",
    "$ git rm [nombre_del_archivo]\n",
    "\n",
    "## Clonar un repositorio\n",
    "### por ejemplo este taller:\n",
    "\n",
    "\n",
    "$ git clone  https://github.com/lmpizarro/SciPyConArg2014.git\n",
    "\n",
    "\n",
    " * crea un directorio  SciPyConArg2014\n",
    " * inicializa un directorio .git\n",
    " * baja del repositorio una copia de la última versión del proyecto\n",
    " \n",
    "$ git clone  https://github.com/lmpizarro/SciPyConArg2014.git misNotas\n",
    "\n",
    "Crea un directorio llamado misNotas y los 2 pasos siguientes "
   ]
  },
  {
   "cell_type": "markdown",
   "metadata": {},
   "source": [
    "# Ciclo de vida de un archivo en git"
   ]
  },
  {
   "cell_type": "code",
   "execution_count": 3,
   "metadata": {
    "collapsed": false
   },
   "outputs": [
    {
     "data": {
      "image/png": "[encoded data removed]",
      "text/plain": [
       "<IPython.core.display.Image at 0xb2a50e0c>"
      ]
     },
     "execution_count": 3,
     "metadata": {},
     "output_type": "execute_result"
    }
   ],
   "source": [
    "Image(filename='lifecycle-git.png')"
   ]
  },
  {
   "cell_type": "markdown",
   "metadata": {},
   "source": [
    "Los archivos pueden tener 2 estados seguidos o no seguidos, (tracked, untracked)\n",
    "\n",
    "los archivos seguidos, pueden estar\n",
    "\n",
    " modificados\n",
    " no modificados\n",
    " staged"
   ]
  },
  {
   "cell_type": "markdown",
   "metadata": {},
   "source": [
    "## Verificar el estado de los archivos\n",
    "\n",
    "## Seguir nuevos archivos\n",
    "\n",
    "## Preparar (staging) archivos modificados"
   ]
  },
  {
   "cell_type": "code",
   "execution_count": null,
   "metadata": {
    "collapsed": false
   },
   "outputs": [],
   "source": []
  }
 ],
 "metadata": {
  "kernelspec": {
   "display_name": "Python 3",
   "language": "python",
   "name": "python3"
  },
  "language_info": {
   "codemirror_mode": {
    "name": "ipython",
    "version": 3
   },
   "file_extension": ".py",
   "mimetype": "text/x-python",
   "name": "python",
   "nbconvert_exporter": "python",
   "pygments_lexer": "ipython3",
   "version": "3.4.3"
  }
 },
 "nbformat": 4,
 "nbformat_minor": 0
}
