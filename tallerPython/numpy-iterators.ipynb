{
 "cells": [
  {
   "cell_type": "markdown",
   "metadata": {},
   "source": [
    "# Introducción a numpy [link](http://www.python-course.eu/numpy.php)\n",
    "\n",
    "### Comparación de tiempos entre python standard,  python numpy, numba compiler\n",
    "\n"
   ]
  },
  {
   "cell_type": "code",
   "execution_count": 1,
   "metadata": {
    "collapsed": false
   },
   "outputs": [],
   "source": [
    "import numpy\n",
    "import time\n",
    "from numba import jit\n",
    "\n",
    "def trad_version():\n",
    "    t1 = time.time()\n",
    "    X = range(10000000)\n",
    "    Y = range(10000000)\n",
    "    Z = []\n",
    "    for i in range(len(X)):\n",
    "        Z.append(X[i] + Y[i])\n",
    "    return time.time() - t1\n",
    "\n",
    "def numpy_version():\n",
    "    t1 = time.time()\n",
    "    X = numpy.arange(10000000)\n",
    "    Y = numpy.arange(10000000)\n",
    "    Z = X + Y\n",
    "    return time.time() - t1\n",
    "\n",
    "@jit\n",
    "def numba_version():\n",
    "    t1 = time.time()\n",
    "    X = numpy.arange(10000000)\n",
    "    Y = numpy.arange(10000000)\n",
    "    Z = X + Y\n",
    "    return time.time() - t1\n"
   ]
  },
  {
   "cell_type": "code",
   "execution_count": 2,
   "metadata": {
    "collapsed": false
   },
   "outputs": [
    {
     "name": "stdout",
     "output_type": "stream",
     "text": [
      "20.8193039894104\n"
     ]
    }
   ],
   "source": [
    "time_trad = trad_version()\n",
    "print(time_trad)"
   ]
  },
  {
   "cell_type": "code",
   "execution_count": 3,
   "metadata": {
    "collapsed": false
   },
   "outputs": [
    {
     "name": "stdout",
     "output_type": "stream",
     "text": [
      "0.7231082916259766\n"
     ]
    }
   ],
   "source": [
    "time_np = numpy_version()\n",
    "print(time_np)"
   ]
  },
  {
   "cell_type": "code",
   "execution_count": 4,
   "metadata": {
    "collapsed": false
   },
   "outputs": [
    {
     "name": "stdout",
     "output_type": "stream",
     "text": [
      "0.17617177963256836\n"
     ]
    }
   ],
   "source": [
    "time_nu = numba_version()\n",
    "print(time_nu)"
   ]
  },
  {
   "cell_type": "code",
   "execution_count": 7,
   "metadata": {
    "collapsed": false
   },
   "outputs": [
    {
     "name": "stdout",
     "output_type": "stream",
     "text": [
      "trad/numpy 28.791405423655494\n",
      "numpy/numba 4.104563699896335\n",
      "trad/numba 118.1761575709348\n"
     ]
    }
   ],
   "source": [
    "print(\"trad/numpy\", time_trad/time_np)\n",
    "print(\"numpy/numba\", time_np/time_nu)\n",
    "print(\"trad/numba\", time_trad/time_nu)"
   ]
  },
  {
   "cell_type": "markdown",
   "metadata": {},
   "source": [
    "# Creación de arrays en Numpy\n",
    "\n",
    "Si hacemos una busqueda con \"python numpy\" como parámetro, el resultado muestra que la creación de array está dentro de los primeros resultados."
   ]
  },
  {
   "cell_type": "code",
   "execution_count": 44,
   "metadata": {
    "collapsed": false
   },
   "outputs": [
    {
     "name": "stdout",
     "output_type": "stream",
     "text": [
      "[2, 3, 1, 0]\n",
      "[2 3 1 0]\n",
      "[[ 1.+0.j  2.+0.j]\n",
      " [ 0.+0.j  0.+0.j]\n",
      " [ 1.+1.j  3.+0.j]] 2 (3, 2)\n",
      "int  [42 47 11]\n",
      "float  [ 42.  47.  11.]\n",
      "[[ 0.  0.  0.]\n",
      " [ 0.  0.  0.]]\n",
      "[ 1.   1.6  2.2  2.8  3.4  4. ]\n",
      "[[[ 0  1  2]\n",
      "  [ 3  4  5]\n",
      "  [ 6  7  8]]\n",
      "\n",
      " [[ 9 10 11]\n",
      "  [12 13 14]\n",
      "  [15 16 17]]]\n",
      "\n",
      "\n",
      "n1\n",
      "[[0 1 2]\n",
      " [3 4 5]\n",
      " [6 7 8]]\n",
      "n2\n",
      "[0 1 2]\n",
      "n3\n",
      "0\n",
      "n3\n",
      "1\n",
      "n3\n",
      "2\n",
      "n2\n",
      "[3 4 5]\n",
      "n3\n",
      "3\n",
      "n3\n",
      "4\n",
      "n3\n",
      "5\n",
      "n2\n",
      "[6 7 8]\n",
      "n3\n",
      "6\n",
      "n3\n",
      "7\n",
      "n3\n",
      "8\n",
      "n1\n",
      "[[ 9 10 11]\n",
      " [12 13 14]\n",
      " [15 16 17]]\n",
      "n2\n",
      "[ 9 10 11]\n",
      "n3\n",
      "9\n",
      "n3\n",
      "10\n",
      "n3\n",
      "11\n",
      "n2\n",
      "[12 13 14]\n",
      "n3\n",
      "12\n",
      "n3\n",
      "13\n",
      "n3\n",
      "14\n",
      "n2\n",
      "[15 16 17]\n",
      "n3\n",
      "15\n",
      "n3\n",
      "16\n",
      "n3\n",
      "17\n",
      "[[[ 2  3  4]\n",
      "  [ 5  6  7]\n",
      "  [ 8  9 10]]\n",
      "\n",
      " [[11 12 13]\n",
      "  [14 15 16]\n",
      "  [17 18 19]]]\n"
     ]
    }
   ],
   "source": [
    "a = [2,3,1,0]\n",
    "print (a)\n",
    "x = numpy.array([2,3,1,0])\n",
    "print (x)  # notar la diferencia en la salida del print\n",
    "x = numpy.array([[1,2.0],[0,0],(1+1j,3.)]) # notar el mix de tuplas, listas y tipos\n",
    "print(\"%s %d %s\"%(x, x.ndim, x.shape))  # ndim: dimensión del array, shape: col x filas\n",
    "\n",
    "# creada con enteros\n",
    "x = numpy.array([42,47,11], int)\n",
    "print (\"int \", x)\n",
    "\n",
    "# creada con enteros\n",
    "x = numpy.array([42,47,11], float)\n",
    "print (\"float \", x)\n",
    "\n",
    "# Una matriz llena con ceros\n",
    "x = numpy.zeros((2, 3)) \n",
    "print(x)\n",
    "# 6 valores equiespaciados entre 1 y 4: linspace\n",
    "x = numpy.linspace(1., 4., 6)\n",
    "print(x)\n",
    "\n",
    "#  3 D\n",
    "x=numpy.empty((2,3,5))\n",
    "x=numpy.arange(30).reshape(2,3,5)\n",
    "x = numpy.array([[[ 0,  1,  2],\n",
    "        [ 3,  4,  5],\n",
    "        [ 6,  7,  8]],\n",
    "       [[ 9, 10, 11],\n",
    "        [12, 13, 14],\n",
    "        [15, 16, 17]]])\n",
    "\n",
    "print (x)\n",
    "print ()\n",
    "print ()\n",
    "\n",
    "# vamos a ver que de esta manera \n",
    "# no es la mejor forma de iterar\n",
    "# el array\n",
    "for e in x:\n",
    "    print (\"n1\")\n",
    "    print (e)\n",
    "    for e2 in e:\n",
    "        print (\"n2\")\n",
    "        print (e2)\n",
    "        for e3 in e2:\n",
    "            print(\"n3\")\n",
    "            print (e3)\n",
    "# sumar una constante a todos los elementos del array\n",
    "y = x + 2\n",
    "print (y)\n",
    "\n",
    "# lo mismo con la multiplicación por una constante\n",
    "y = y * 2\n",
    "\n",
    "#\n",
    "# No hay que iterar sobre todos los elementos\n",
    "#"
   ]
  },
  {
   "cell_type": "markdown",
   "metadata": {},
   "source": [
    "# Rutinas de creación de arrays [link](http://docs.scipy.org/doc/numpy/reference/routines.array-creation.html#routines-array-creation)\n",
    "\n",
    "## Unos y ceros\n",
    "\n",
    "## Desde datos existentes\n",
    "\n",
    "## Rangos numéricos\n",
    "\n",
    "## Construcción de matríces\n",
    "\n",
    "## La clase matrix\n",
    "\n",
    "## Otras\n",
    "\n",
    "### Son raras"
   ]
  },
  {
   "cell_type": "markdown",
   "metadata": {},
   "source": [
    "## nditer \n",
    "\n",
    "Efficient multi-dimensional iterator object to iterate over arrays"
   ]
  },
  {
   "cell_type": "code",
   "execution_count": 65,
   "metadata": {
    "collapsed": false
   },
   "outputs": [
    {
     "name": "stdout",
     "output_type": "stream",
     "text": [
      "[[0 1 2]\n",
      " [3 4 5]]\n",
      "0\n",
      "3\n",
      "1\n",
      "4\n",
      "2\n",
      "5\n",
      "------------------\n",
      "0\n",
      "1\n",
      "2\n",
      "3\n",
      "4\n",
      "5\n",
      "[[ 0  2  4]\n",
      " [ 6  8 10]]\n",
      "0 <0>\n",
      "2 <2>\n",
      "4 <4>\n",
      "6 <1>\n",
      "8 <3>\n",
      "10 <5>\n"
     ]
    }
   ],
   "source": [
    "a = numpy.arange(6).reshape(2,3)\n",
    "print (a)\n",
    "for x in numpy.nditer(a.copy(order='F')):\n",
    "    print(x)\n",
    "    \n",
    "print (\"------------------\")\n",
    "for x in numpy.nditer(a):\n",
    "    print(x)\n",
    " \n",
    "# una manera de acceder a cada uno de los elementos\n",
    "# del array\n",
    "for x in numpy.nditer(a, op_flags=['readwrite']):\n",
    "   x[...] = 2 * x\n",
    "\n",
    "print (a)\n",
    "\n",
    "it = numpy.nditer(a, flags=['f_index'])\n",
    "\n",
    "while not it.finished:\n",
    "    print (\"%d <%d>\" % (it[0], it.index))\n",
    "    it.iternext()"
   ]
  }
 ],
 "metadata": {
  "kernelspec": {
   "display_name": "Python 3",
   "language": "python",
   "name": "python3"
  },
  "language_info": {
   "codemirror_mode": {
    "name": "ipython",
    "version": 3
   },
   "file_extension": ".py",
   "mimetype": "text/x-python",
   "name": "python",
   "nbconvert_exporter": "python",
   "pygments_lexer": "ipython3",
   "version": "3.4.3"
  }
 },
 "nbformat": 4,
 "nbformat_minor": 0
}
