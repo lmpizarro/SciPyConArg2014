{
 "metadata": {
  "name": "",
  "signature": "sha256:b29281486da330230727c15a0e0e15ef53ed25627ffb32ec277364f54ed75cd5"
 },
 "nbformat": 3,
 "nbformat_minor": 0,
 "worksheets": [
  {
   "cells": [
    {
     "cell_type": "code",
     "collapsed": false,
     "input": [
      "# -*- coding: utf-8 -*-\n",
      "import tweepy\n",
      "\n",
      "# == OAuth Authentication ==\n",
      "#\n",
      "# This mode of authentication is the new preferred way\n",
      "# of authenticating with Twitter.\n",
      "\n",
      "# The consumer keys can be found on your application's Details\n",
      "# page located at https://dev.twitter.com/apps (under \"OAuth settings\")\n",
      "consumer_key=\"2MIy44nbUKiElAolSoxY0wzKQ\"\n",
      "consumer_secret=\"KFQqFcvTWBdplgIHyLVZI3B1gp2Nlmzqv5tuiDI0AHdw6ikNVw\"\n",
      "\n",
      "\n",
      "# The access tokens can be found on your applications's Details\n",
      "# page located at https://dev.twitter.com/apps (located\n",
      "# under \"Your access token\")\n",
      "access_token=\"59465566-sLBrpOG3GvtBPWtgIFXGtpw57lkFDYbcTnGz858sP\"\n",
      "access_token_secret=\"VksCIjkuHb77cSLpiDDz93DKedPGtzqdInMCdKqd8DWKQ\"\n",
      "\n",
      "def accessTwitter ():\n",
      "  auth = tweepy.OAuthHandler(consumer_key, consumer_secret)\n",
      "  auth.set_access_token(access_token, access_token_secret)\n",
      "\n",
      "  api = tweepy.API(auth)\n",
      "\n",
      "\n",
      "  # If the authentication was successful, you should\n",
      "  # see the name of the account print out\n",
      "\n",
      "  #print api.me().name\n",
      "  # If the application settings are set for \"Read and Write\" then\n",
      "  # this line should tweet out the message to your account's\n",
      "  # timeline. The \"Read and Write\" setting is on https://dev.twitter.com/apps\n",
      "  #api.update_status('Updating using OAuth authentication via Tweepy!')\n",
      "\n",
      "  return api, auth\n",
      "\n"
     ],
     "language": "python",
     "metadata": {},
     "outputs": [],
     "prompt_number": 2
    },
    {
     "cell_type": "code",
     "collapsed": false,
     "input": [
      "api, auth = accessTwitter ()\n"
     ],
     "language": "python",
     "metadata": {},
     "outputs": [],
     "prompt_number": 3
    },
    {
     "cell_type": "code",
     "collapsed": false,
     "input": [
      "sn = ['CFKArgentina', 'SergioMassa', 'mauriciomacri', 'RandazzoF','sergiourribarri']\n",
      "\n",
      "twits = tweepy.Cursor(api.user_timeline, count=1, screen_name=\"CFKArgentina\", include_rts=\"true\").items()\n",
      "# determina datos del ultimo tweet\n",
      "try:\n",
      "  t=twits.next()\n",
      "  print t.text, t.id, t.retweet_count, t.user.followers_count\n",
      "except UnicodeEncodeError:\n",
      "  print \"Error\"  \n",
      "  pass"
     ],
     "language": "python",
     "metadata": {},
     "outputs": [
      {
       "output_type": "stream",
       "stream": "stdout",
       "text": [
        "De Democracia en serio y a fondo. Irreversible, como le gusta decir a algunos. http://t.co/qy8YEazRSJ 528906670072950784 378 3313191\n"
       ]
      }
     ],
     "prompt_number": 4
    },
    {
     "cell_type": "code",
     "collapsed": false,
     "input": [
      "info_t={}\n",
      "report=[]\n",
      "\n",
      "import datetime\n",
      "import copy\n",
      "\n",
      "now = datetime.datetime.now()\n",
      "datetime.datetime.strptime('2010-05-23 15:02:26', \"%Y-%m-%d %H:%M:%S\").time()\n",
      "\n",
      "for s in sn:\n",
      "  twits = tweepy.Cursor(api.user_timeline, count=1, screen_name=s, include_rts=\"true\").items()\n",
      "  # determina datos del ultimo tweet\n",
      "  try:\n",
      "    t=twits.next()\n",
      "    ef = 10000*float(t.retweet_count)/float(t.user.followers_count)\n",
      "    info_t['sn']= s\n",
      "    info_t['twit']=t.text\n",
      "    info_t['followers_count'] = t.user.followers_count\n",
      "    info_t['retweet_count'] = t.retweet_count\n",
      "    info_t['efectividad'] = ef\n",
      "    info_t['twit_id'] = t.id\n",
      "    diff_time = now - t.created_at\n",
      "    info_t['delta_t'] = diff_time.total_seconds()/3600\n",
      "    report.append(copy.deepcopy(info_t))\n",
      "    print \"nombre:\", s\n",
      "    print \"texto:\", t.text\n",
      "    print \"cant seguidores:\",t.user.followers_count\n",
      "    print \"retweet:\", t.retweet_count\n",
      "    print \"efectividad:\", ef\n",
      "    print \n",
      "  except UnicodeEncodeError:\n",
      "    pass\n"
     ],
     "language": "python",
     "metadata": {},
     "outputs": [
      {
       "output_type": "stream",
       "stream": "stdout",
       "text": [
        "nombre CFKArgentina\n",
        "texto De Democracia en serio y a fondo. Irreversible, como le gusta decir a algunos. http://t.co/qy8YEazRSJ\n",
        "cant seguidores 3313086\n",
        "retweet 378\n",
        "efectividad 1.14093023845\n",
        "\n",
        "nombre"
       ]
      },
      {
       "output_type": "stream",
       "stream": "stdout",
       "text": [
        " SergioMassa\n",
        "texto En menos de 400 d\u00edas Argentina va a tener su Ley Anticorrupci\u00f3n. http://t.co/SsbwKcOmzf\n",
        "cant seguidores 430476\n",
        "retweet 102\n",
        "efectividad 2.36947007499\n",
        "\n",
        "nombre"
       ]
      },
      {
       "output_type": "stream",
       "stream": "stdout",
       "text": [
        " mauriciomacri\n",
        "texto Hoy recib\u00ed a Tadeo, Mateo y Delfina. Ellos tienen #diabetes y difunden la campa\u00f1a \u201cPonete en mis zapas\u201d http://t.co/K1Kf3YlIBG\n",
        "cant seguidores 1008301\n",
        "retweet 146\n",
        "efectividad 1.4479803154\n",
        "\n",
        "nombre"
       ]
      },
      {
       "output_type": "stream",
       "stream": "stdout",
       "text": [
        " RandazzoF\n",
        "texto Llegaron al pa\u00eds todos los trenes nuevos para el ramal Retiro-Jos\u00e9 Le\u00f3n Su\u00e1rez del FC Mitre http://t.co/EU9nyDmDdD\n",
        "cant seguidores 265563\n",
        "retweet 84\n",
        "efectividad 3.16309124389\n",
        "\n",
        "nombre"
       ]
      },
      {
       "output_type": "stream",
       "stream": "stdout",
       "text": [
        " sergiourribarri\n",
        "texto D\u00e1ndole a la ciencia y la tecnolog\u00eda el lugar que se merecen. Por el futuro de cada entrerriano y de cada argentino.\n",
        "cant seguidores 72640\n",
        "retweet 9\n",
        "efectividad 1.23898678414\n",
        "\n"
       ]
      }
     ],
     "prompt_number": 8
    },
    {
     "cell_type": "code",
     "collapsed": true,
     "input": [],
     "language": "python",
     "metadata": {},
     "outputs": [],
     "prompt_number": 5
    },
    {
     "cell_type": "code",
     "collapsed": false,
     "input": [],
     "language": "python",
     "metadata": {},
     "outputs": [],
     "prompt_number": 5
    }
   ],
   "metadata": {}
  }
 ]
}