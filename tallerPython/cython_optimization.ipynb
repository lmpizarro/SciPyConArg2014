{
 "cells": [
  {
   "cell_type": "code",
   "execution_count": null,
   "metadata": {
    "collapsed": true
   },
   "outputs": [],
   "source": [
    "# Cython, optimización del código\n",
    "\n",
    "Cómo hacer código Cython [link](http://docs.cython.org/src/quickstart/build.html)\n",
    "\n",
    "Compilación de código cython [link](http://docs.cython.org/src/reference/compilation.html)\n",
    "\n",
    "Vemos ahora como se hace en el ipython-notebook"
   ]
  },
  {
   "cell_type": "code",
   "execution_count": 1,
   "metadata": {
    "collapsed": false
   },
   "outputs": [],
   "source": [
    "%load_ext  Cython"
   ]
  },
  {
   "cell_type": "code",
   "execution_count": 5,
   "metadata": {
    "collapsed": false
   },
   "outputs": [],
   "source": [
    "%%cython_pyximport foo\n",
    "def f(x):\n",
    "    return 4.0*x"
   ]
  },
  {
   "cell_type": "code",
   "execution_count": 6,
   "metadata": {
    "collapsed": false
   },
   "outputs": [
    {
     "data": {
      "text/plain": [
       "44.0"
      ]
     },
     "execution_count": 6,
     "metadata": {},
     "output_type": "execute_result"
    }
   ],
   "source": [
    "f(11)"
   ]
  },
  {
   "cell_type": "code",
   "execution_count": 4,
   "metadata": {
    "collapsed": false
   },
   "outputs": [],
   "source": [
    "%%cython\n",
    "cimport cython\n",
    "from libc.math cimport exp, sqrt, pow, log, erf\n",
    "\n",
    "@cython.cdivision(True)\n",
    "cdef double std_norm_cdf(double x) nogil:\n",
    "    return 0.5*(1+erf(x/sqrt(2.0)))\n",
    "\n",
    "@cython.cdivision(True)\n",
    "def black_scholes(double s, double k, double t, double v,\n",
    "                 double rf, double div, double cp):\n",
    "    \"\"\"Price an option using the Black-Scholes model.\n",
    "    \n",
    "    s : initial stock price\n",
    "    k : strike price\n",
    "    t : expiration time\n",
    "    v : volatility\n",
    "    rf : risk-free rate\n",
    "    div : dividend\n",
    "    cp : +1/-1 for call/put\n",
    "    \"\"\"\n",
    "    cdef double d1, d2, optprice\n",
    "    with nogil:\n",
    "        d1 = (log(s/k)+(rf-div+0.5*pow(v,2))*t)/(v*sqrt(t))\n",
    "        d2 = d1 - v*sqrt(t)\n",
    "        optprice = cp*s*exp(-div*t)*std_norm_cdf(cp*d1) - \\\n",
    "            cp*k*exp(-rf*t)*std_norm_cdf(cp*d2)\n",
    "    return optprice"
   ]
  },
  {
   "cell_type": "code",
   "execution_count": 5,
   "metadata": {
    "collapsed": false
   },
   "outputs": [
    {
     "data": {
      "text/plain": [
       "10.327861752731728"
      ]
     },
     "execution_count": 5,
     "metadata": {},
     "output_type": "execute_result"
    }
   ],
   "source": [
    "black_scholes(100.0, 100.0, 1.0, 0.3, 0.03, 0.0, -1)"
   ]
  },
  {
   "cell_type": "code",
   "execution_count": 6,
   "metadata": {
    "collapsed": false
   },
   "outputs": [
    {
     "name": "stdout",
     "output_type": "stream",
     "text": [
      "1000000 loops, best of 3: 510 ns per loop\n"
     ]
    }
   ],
   "source": [
    "%timeit black_scholes(100.0, 100.0, 1.0, 0.3, 0.03, 0.0, -1)"
   ]
  },
  {
   "cell_type": "code",
   "execution_count": 7,
   "metadata": {
    "collapsed": false
   },
   "outputs": [
    {
     "name": "stdout",
     "output_type": "stream",
     "text": [
      "sin(1)= 0.841470984808\n"
     ]
    }
   ],
   "source": [
    "%%cython -lm\n",
    "from libc.math cimport sin\n",
    "print 'sin(1)=', sin(1)"
   ]
  },
  {
   "cell_type": "code",
   "execution_count": 44,
   "metadata": {
    "collapsed": false
   },
   "outputs": [],
   "source": [
    "%%cython -lm\n",
    "\n",
    "cimport cython\n",
    "from libc.math cimport sin\n",
    "\n",
    "@cython.cdivision(True)\n",
    "cdef double f1(double x):\n",
    "    return sin(x*x)\n",
    "\n",
    "@cython.cdivision(True)\n",
    "def f2 (x):\n",
    "    return f1(x)\n",
    "  "
   ]
  },
  {
   "cell_type": "code",
   "execution_count": 43,
   "metadata": {
    "collapsed": false
   },
   "outputs": [
    {
     "data": {
      "text/plain": [
       "-0.45146575216142315"
      ]
     },
     "execution_count": 43,
     "metadata": {},
     "output_type": "execute_result"
    }
   ],
   "source": [
    "f2(1.9)\n"
   ]
  },
  {
   "cell_type": "markdown",
   "metadata": {},
   "source": [
    "http://docs.cython.org/src/reference/language_basics.html\n",
    "\n",
    "search: cython ipython notebook\n",
    "\n",
    "http://nbviewer.ipython.org/github/ipython/ipython/blob/3607712653c66d63e0d7f13f073bde8c0f209ba8/docs/examples/notebooks/cython_extension.ipynb\n",
    "\n",
    "http://nbviewer.ipython.org/github/iminuit/iminuit/blob/master/tutorial/hard-core-tutorial.ipynb\n",
    "\n",
    "http://docs.cython.org/src/userguide/numpy_tutorial.html\n"
   ]
  },
  {
   "cell_type": "code",
   "execution_count": 4,
   "metadata": {
    "collapsed": true
   },
   "outputs": [],
   "source": [
    "%load_ext Cython"
   ]
  },
  {
   "cell_type": "code",
   "execution_count": 6,
   "metadata": {
    "collapsed": false
   },
   "outputs": [],
   "source": [
    "\n",
    "\n",
    "%%cython\n",
    "\n",
    "cimport cython\n",
    "\n",
    "from libc.stdlib cimport rand, srand\n",
    "from libc.time cimport time, time_t\n",
    "\n",
    "cdef extern from \"stdlib.h\":\n",
    "    cdef int RAND_MAX\n",
    "\n",
    "@cython.cdivision(True)\n",
    "def init_rand ():    \n",
    "   cdef time_t seconds\n",
    "   time(&seconds)\n",
    "   srand(<unsigned int>seconds)\n",
    "    \n",
    "@cython.cdivision(True)\n",
    "def myRand ():\n",
    "   #return rand()%100 + x\n",
    "   return <float>rand()/<float>RAND_MAX"
   ]
  },
  {
   "cell_type": "code",
   "execution_count": 8,
   "metadata": {
    "collapsed": false
   },
   "outputs": [
    {
     "name": "stdout",
     "output_type": "stream",
     "text": [
      "0.841356533113867\n",
      "0.4018294960260391\n",
      "0.19552548928186297\n",
      "0.764734631869942\n",
      "0.36765524512156844\n",
      "0.7281380812637508\n",
      "0.5347760589793324\n",
      "0.6271710558794439\n",
      "0.8148822844959795\n",
      "0.05033473018556833\n"
     ]
    }
   ],
   "source": [
    "init_rand()\n",
    "for i in range (0,10):\n",
    "   print(myRand())"
   ]
  },
  {
   "cell_type": "code",
   "execution_count": 34,
   "metadata": {
    "collapsed": false
   },
   "outputs": [
    {
     "name": "stdout",
     "output_type": "stream",
     "text": [
      "0.881186730034\n",
      "0.744955958256\n",
      "0.511022138082\n",
      "0.901163898904\n",
      "0.662339827497\n",
      "0.382745217753\n",
      "0.889536168513\n",
      "0.41668731265\n",
      "0.452326813289\n",
      "0.536537237168\n"
     ]
    }
   ],
   "source": [
    "%%cython\n",
    "\n",
    "cimport cython\n",
    "\n",
    "import numpy as np\n",
    "cimport numpy as np\n",
    "\n",
    "\n",
    "@cython.cdivision(True)\n",
    "def myRand_np ():\n",
    "   #return rand()%100 + x\n",
    "   return np.random.random()\n",
    "\n",
    "for i in range (0,10):\n",
    "   print myRand_np()\n",
    "    \n"
   ]
  },
  {
   "cell_type": "code",
   "execution_count": 28,
   "metadata": {
    "collapsed": false
   },
   "outputs": [
    {
     "name": "stdout",
     "output_type": "stream",
     "text": [
      "1000000 loops, best of 3: 243 ns per loop\n"
     ]
    }
   ],
   "source": [
    "%timeit myRand_np()"
   ]
  },
  {
   "cell_type": "code",
   "execution_count": 33,
   "metadata": {
    "collapsed": false
   },
   "outputs": [
    {
     "name": "stdout",
     "output_type": "stream",
     "text": [
      "10000000 loops, best of 3: 90.9 ns per loop\n"
     ]
    }
   ],
   "source": [
    "%timeit myRand()"
   ]
  },
  {
   "cell_type": "code",
   "execution_count": 36,
   "metadata": {
    "collapsed": false
   },
   "outputs": [
    {
     "name": "stdout",
     "output_type": "stream",
     "text": [
      "1000000 loops, best of 3: 322 ns per loop\n"
     ]
    }
   ],
   "source": [
    "%timeit np.random.rand()"
   ]
  },
  {
   "cell_type": "code",
   "execution_count": 37,
   "metadata": {
    "collapsed": false
   },
   "outputs": [],
   "source": [
    "import random as rnd"
   ]
  },
  {
   "cell_type": "code",
   "execution_count": 38,
   "metadata": {
    "collapsed": false
   },
   "outputs": [
    {
     "name": "stdout",
     "output_type": "stream",
     "text": [
      "10000000 loops, best of 3: 143 ns per loop\n"
     ]
    }
   ],
   "source": [
    "%timeit rnd.random()"
   ]
  },
  {
   "cell_type": "code",
   "execution_count": 2,
   "metadata": {
    "collapsed": false
   },
   "outputs": [
    {
     "name": "stdout",
     "output_type": "stream",
     "text": [
      "[[ 2.  2.  2.  2.  2.]\n",
      " [ 2.  2.  2.  2.  2.]\n",
      " [ 2.  2.  2.  2.  2.]\n",
      " [ 2.  2.  2.  2.  2.]\n",
      " [ 2.  2.  2.  2.  2.]]\n"
     ]
    }
   ],
   "source": [
    "%%cython\n",
    "cimport cython\n",
    "\n",
    "import numpy as np\n",
    "cimport numpy as np\n",
    "\n",
    "import sys\n",
    "\n",
    "DTYPE = np.float64\n",
    "ctypedef np.float64_t DTYPE_t\n",
    "\n",
    "\n",
    "# directivas al compilador\n",
    "# para mejorar la performance\n",
    "\n",
    "# Cython asume que no se generarán errores tipo IndexErrors\n",
    "@cython.boundscheck(False)\n",
    "# Cython no controla los índices negativos como en python\n",
    "@cython.wraparound(False)\n",
    "# Cython asume que si la variable es None, no será accedida\n",
    "@cython.nonecheck(False)\n",
    "\n",
    "cdef sum_opt (np.ndarray[DTYPE_t, ndim=2] im1, np.ndarray[DTYPE_t, ndim=2] im2):\n",
    "    cdef unsigned int rows1 = im1.shape[0]\n",
    "    cdef unsigned int cols1 = im1.shape[1]\n",
    "    cdef unsigned int rows2 = im2.shape[0]\n",
    "    cdef unsigned int cols2 = im2.shape[1]\n",
    "    \n",
    "    if rows1 != rows2:\n",
    "        sys.exit(0)\n",
    "    if cols1 != cols2:\n",
    "        sys.exit(0)\n",
    "    \n",
    "    for i in range(rows1):\n",
    "        for j in range(cols1):\n",
    "            im1[i,j] = im1[i,j] + im2[i,j]\n",
    "   \n",
    " \n",
    "def test_sum():\n",
    "    cdef np.ndarray[DTYPE_t, ndim=2] im1\n",
    "    cdef np.ndarray[DTYPE_t, ndim=2] im2\n",
    "    \n",
    "    im1 = np.ones(5*5).reshape(5,5)\n",
    "    im2 = np.ones(5*5).reshape(5,5)\n",
    "    sum_opt(im1, im2)\n",
    "    print(im1)\n",
    "    \n",
    "def main():    \n",
    "    test_sum()\n",
    "main()"
   ]
  },
  {
   "cell_type": "markdown",
   "metadata": {},
   "source": [
    "# Optimizar el código de una clase con Cython"
   ]
  },
  {
   "cell_type": "code",
   "execution_count": 3,
   "metadata": {
    "collapsed": true
   },
   "outputs": [],
   "source": [
    "%%cython\n",
    "cimport cython\n",
    "\n",
    "import numpy as np\n",
    "cimport numpy as np\n",
    "\n",
    "import sys\n",
    "\n",
    "DTYPE = np.float64\n",
    "ctypedef np.float64_t DTYPE_t\n",
    "\n",
    "# directivas al compilador\n",
    "# para mejorar la performance\n",
    "\n",
    "# Cython asume que no se generarán errores tipo IndexErrors\n",
    "@cython.boundscheck(False)\n",
    "# Cython no controla los índices negativos como en python\n",
    "@cython.wraparound(False)\n",
    "# Cython asume que si la variable es None, no será accedida\n",
    "@cython.nonecheck(False)\n",
    "\n",
    "cdef sum_opt (np.ndarray[DTYPE_t, ndim=2] im1, np.ndarray[DTYPE_t, ndim=2] im2, DTYPE_t p):\n",
    "    cdef unsigned int rows1 = im1.shape[0]\n",
    "    cdef unsigned int cols1 = im1.shape[1]\n",
    "    cdef unsigned int rows2 = im2.shape[0]\n",
    "    cdef unsigned int cols2 = im2.shape[1]\n",
    "    \n",
    "    if rows1 != rows2:\n",
    "        print(\"error dimensiones filas\")\n",
    "        sys.exit(0)\n",
    "    if cols1 != cols2:\n",
    "        print(\"error dimensiones columnas\")\n",
    "        sys.exit(0)\n",
    "    \n",
    "    for i in range(rows1):\n",
    "        for j in range(cols1):\n",
    "            im1[i,j] = im1[i, j] * (1-p) + p*im2[i, j]\n",
    "            \n",
    "            \n",
    "class damero_opt():  \n",
    "    def __init__(self, w=100, h=100, i=255):\n",
    "        self.h = h\n",
    "        self.w = w \n",
    "        self.img = i * np.ones(h*w).reshape(h,w)\n",
    "        \n",
    "    def add_level(self, l=0):\n",
    "        self.img = self.img + l\n",
    "        self.img[self.img > 255] = 255\n",
    "        self.img[self.img < 0] = 0\n",
    "    \n",
    "    def sum(self, damero, p=0.5):\n",
    "        sum_opt(self.img, damero.img, p)\n",
    "    \n",
    "d1 = damero_opt(w=64, h = 36, i=1)\n",
    "d2 = damero_opt(w=64, h = 36, i=30)\n",
    "d1.sum(d2)"
   ]
  },
  {
   "cell_type": "code",
   "execution_count": null,
   "metadata": {
    "collapsed": true
   },
   "outputs": [],
   "source": []
  }
 ],
 "metadata": {
  "kernelspec": {
   "display_name": "Python 3",
   "language": "python",
   "name": "python3"
  },
  "language_info": {
   "codemirror_mode": {
    "name": "ipython",
    "version": 3
   },
   "file_extension": ".py",
   "mimetype": "text/x-python",
   "name": "python",
   "nbconvert_exporter": "python",
   "pygments_lexer": "ipython3",
   "version": "3.4.3"
  }
 },
 "nbformat": 4,
 "nbformat_minor": 0
}
