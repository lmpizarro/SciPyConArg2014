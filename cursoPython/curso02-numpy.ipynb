{
 "cells": [
  {
   "cell_type": "markdown",
   "metadata": {},
   "source": [
    "# Numpy"
   ]
  },
  {
   "cell_type": "markdown",
   "metadata": {},
   "source": [
    "### Es el paquete fundamental para hacer cálculo científico en python"
   ]
  },
  {
   "cell_type": "markdown",
   "metadata": {},
   "source": [
    "* Manejo de arreglos numéricos N-dimensionales\n",
    "* Muchas funciones numéricas que aplican sobre los arreglos\n",
    "* Funciones básicas de álgebra lineal\n",
    "* Transformada de fourier básica\n",
    "* Capacidad de generación de números aleatorios, MUCHAS y complejas\n",
    "* Herramientas para integrarse con código FORTRAN\n",
    "* Herramientas para integrarse con código C/C++\n",
    "* Optimizable en velocidad. Numpy es rápido, pero se puede mejorar con Cython."
   ]
  },
  {
   "cell_type": "markdown",
   "metadata": {},
   "source": [
    "### Comparación con Matlab"
   ]
  },
  {
   "cell_type": "markdown",
   "metadata": {},
   "source": [
    "#### Válida si se usa Matlab (pero aparece muchas veces)"
   ]
  },
  {
   "cell_type": "markdown",
   "metadata": {},
   "source": [
    "* Gratis y libre (Free)\n",
    "* Hay un tipo matriz que es una subclase del tipo array\n",
    "* Mayor potencia de programación\n",
    "* Numpy/Scipy no tiene tantos toolboxes específicos\n",
    "* Hay paquetes de graficación\n",
    "* No hay un Simulink, aunque algo se puede hacer\n",
    "* Hay ayudas para migrar código de Matlab a Numpy"
   ]
  },
  {
   "cell_type": "code",
   "execution_count": 3,
   "metadata": {
    "collapsed": false
   },
   "outputs": [],
   "source": [
    "import numpy as np\n",
    "import matplotlib.pyplot as plt\n",
    "\n",
    "\n",
    "%matplotlib inline"
   ]
  },
  {
   "cell_type": "markdown",
   "metadata": {},
   "source": [
    "## Arreglo Unidimensional"
   ]
  },
  {
   "cell_type": "markdown",
   "metadata": {},
   "source": [
    "$a = \\begin{pmatrix}a_1 a_2  \\cdots  a_n\\end{pmatrix}$"
   ]
  },
  {
   "cell_type": "code",
   "execution_count": 68,
   "metadata": {
    "collapsed": false
   },
   "outputs": [
    {
     "data": {
      "text/plain": [
       "numpy.ndarray"
      ]
     },
     "execution_count": 68,
     "metadata": {},
     "output_type": "execute_result"
    }
   ],
   "source": [
    "# inicialización manual de un array 1D\n",
    "a = np.array([1, 2, 3, 4, 5, 6, 7, np.pi, 9, np.e], float)\n",
    "type(a)"
   ]
  },
  {
   "cell_type": "code",
   "execution_count": 7,
   "metadata": {
    "collapsed": false
   },
   "outputs": [
    {
     "data": {
      "text/plain": [
       "(array([ 1.,  2.]),\n",
       " array([ 3.        ,  4.        ,  5.        ,  6.        ,  7.        ,\n",
       "         3.14159265,  9.        ,  2.71828183]))"
      ]
     },
     "execution_count": 7,
     "metadata": {},
     "output_type": "execute_result"
    }
   ],
   "source": [
    "#Devuelve los primeros 2 elementos de a\n",
    "a[:2]"
   ]
  },
  {
   "cell_type": "code",
   "execution_count": 8,
   "metadata": {
    "collapsed": false
   },
   "outputs": [
    {
     "data": {
      "text/plain": [
       "array([ 3.        ,  4.        ,  5.        ,  6.        ,  7.        ,\n",
       "        3.14159265,  9.        ,  2.71828183])"
      ]
     },
     "execution_count": 8,
     "metadata": {},
     "output_type": "execute_result"
    }
   ],
   "source": [
    "#Devuelve a salvo los 2 primeros elementos del array a\n",
    "a[2:]"
   ]
  },
  {
   "cell_type": "code",
   "execution_count": 9,
   "metadata": {
    "collapsed": false
   },
   "outputs": [
    {
     "data": {
      "text/plain": [
       "array([ 9.        ,  2.71828183])"
      ]
     },
     "execution_count": 9,
     "metadata": {},
     "output_type": "execute_result"
    }
   ],
   "source": [
    "#Devuelve los 2 últimos elementos de a\n",
    "a[-2:]"
   ]
  },
  {
   "cell_type": "code",
   "execution_count": 10,
   "metadata": {
    "collapsed": false
   },
   "outputs": [
    {
     "data": {
      "text/plain": [
       "array([ 1.        ,  2.        ,  3.        ,  4.        ,  5.        ,\n",
       "        6.        ,  7.        ,  3.14159265])"
      ]
     },
     "execution_count": 10,
     "metadata": {},
     "output_type": "execute_result"
    }
   ],
   "source": [
    "#Devuelve a menos los 2 últimos elementos\n",
    "a[:-2]"
   ]
  },
  {
   "cell_type": "code",
   "execution_count": 11,
   "metadata": {
    "collapsed": false
   },
   "outputs": [
    {
     "data": {
      "text/plain": [
       "array([ 3.        ,  4.        ,  5.        ,  6.        ,  7.        ,\n",
       "        3.14159265])"
      ]
     },
     "execution_count": 11,
     "metadata": {},
     "output_type": "execute_result"
    }
   ],
   "source": [
    "# Devuelve 1 menos los 2 primeros y los 2 últimos\n",
    "a[2:-2]"
   ]
  },
  {
   "cell_type": "code",
   "execution_count": 12,
   "metadata": {
    "collapsed": false
   },
   "outputs": [
    {
     "data": {
      "text/plain": [
       "array([ 4.,  5.,  6.])"
      ]
     },
     "execution_count": 12,
     "metadata": {},
     "output_type": "execute_result"
    }
   ],
   "source": [
    "# Devuelve desde el índice 3 hasta el 6 (incluye el 5 y no el 6)\n",
    "a[3:6]"
   ]
  },
  {
   "cell_type": "code",
   "execution_count": 15,
   "metadata": {
    "collapsed": false
   },
   "outputs": [
    {
     "data": {
      "text/plain": [
       "6.0"
      ]
     },
     "execution_count": 15,
     "metadata": {},
     "output_type": "execute_result"
    }
   ],
   "source": [
    "# El contenido de un lugar asignado a una variable\n",
    "x = a[5]\n",
    "x"
   ]
  },
  {
   "cell_type": "code",
   "execution_count": 17,
   "metadata": {
    "collapsed": false
   },
   "outputs": [
    {
     "data": {
      "text/plain": [
       "(6.0, 8.0)"
      ]
     },
     "execution_count": 17,
     "metadata": {},
     "output_type": "execute_result"
    }
   ],
   "source": [
    "# Cambiar un lugar del arre\n",
    "a[5] = 8\n",
    "x, a [5]"
   ]
  },
  {
   "cell_type": "markdown",
   "metadata": {},
   "source": [
    "## Operaciones básicas sobre arreglos"
   ]
  },
  {
   "cell_type": "markdown",
   "metadata": {},
   "source": [
    "$ s = \\sum_{i=0}^{n-1} a_i $"
   ]
  },
  {
   "cell_type": "code",
   "execution_count": 84,
   "metadata": {
    "collapsed": false
   },
   "outputs": [
    {
     "data": {
      "text/plain": [
       "7200.0"
      ]
     },
     "execution_count": 84,
     "metadata": {},
     "output_type": "execute_result"
    }
   ],
   "source": [
    "# suma de todos los elementos del array\n",
    "# existen 2 maneras de hacerlo\n",
    "a.sum()\n",
    "np.sum(a)\n",
    "\n"
   ]
  },
  {
   "cell_type": "markdown",
   "metadata": {},
   "source": [
    "$ s = \\prod_{i=0}^{n-1} a_i $"
   ]
  },
  {
   "cell_type": "code",
   "execution_count": 85,
   "metadata": {
    "collapsed": false
   },
   "outputs": [
    {
     "data": {
      "text/plain": [
       "7200.0"
      ]
     },
     "execution_count": 85,
     "metadata": {},
     "output_type": "execute_result"
    }
   ],
   "source": [
    "# la multiplicación del todos los elementos\n",
    "a.prod()\n",
    "np.prod(a)"
   ]
  },
  {
   "cell_type": "markdown",
   "metadata": {},
   "source": [
    "## Funciones estadísticas"
   ]
  },
  {
   "cell_type": "code",
   "execution_count": 70,
   "metadata": {
    "collapsed": false
   },
   "outputs": [
    {
     "data": {
      "text/plain": [
       "(3.5707963267948966,\n",
       " 4.2859874482048834,\n",
       " 5.4561776438321896,\n",
       " 2.3358462371980289,\n",
       " 1.0,\n",
       " 9.0)"
      ]
     },
     "execution_count": 70,
     "metadata": {},
     "output_type": "execute_result"
    }
   ],
   "source": [
    "# mediana media, varianza, desviación standard, mínimo y máximo de un array\n",
    "np.median(a), a.mean(), a.var(), a.std(), a.min(), a.max()"
   ]
  },
  {
   "cell_type": "code",
   "execution_count": 93,
   "metadata": {
    "collapsed": false
   },
   "outputs": [
    {
     "data": {
      "text/plain": [
       "array([[ 10.,   2.,   3.],\n",
       "       [  4.,   5.,   6.]])"
      ]
     },
     "execution_count": 93,
     "metadata": {},
     "output_type": "execute_result"
    }
   ],
   "source": [
    "# posición del mínimo y posición del máximo\n",
    "a.argmin(), a.argmax()"
   ]
  },
  {
   "cell_type": "code",
   "execution_count": 99,
   "metadata": {
    "collapsed": false
   },
   "outputs": [
    {
     "data": {
      "text/plain": [
       "array([-1.,  0.,  2.,  5.,  6.])"
      ]
     },
     "execution_count": 99,
     "metadata": {},
     "output_type": "execute_result"
    }
   ],
   "source": [
    "# Ordenar arreglos\n",
    "a = np.array([6, 2, 5, -1, 0], float)\n",
    "b = sorted (a)\n",
    "# Equivalente\n",
    "a.sort()\n",
    "a"
   ]
  },
  {
   "cell_type": "code",
   "execution_count": 101,
   "metadata": {
    "collapsed": false
   },
   "outputs": [
    {
     "data": {
      "text/plain": [
       "array([ 0.,  0.,  2.,  5.,  5.])"
      ]
     },
     "execution_count": 101,
     "metadata": {},
     "output_type": "execute_result"
    }
   ],
   "source": [
    "# recortar en rango\n",
    "a.clip(0,5)"
   ]
  },
  {
   "cell_type": "code",
   "execution_count": 102,
   "metadata": {
    "collapsed": false
   },
   "outputs": [
    {
     "data": {
      "text/plain": [
       "array([ 1.,  4.,  5.,  7.])"
      ]
     },
     "execution_count": 102,
     "metadata": {},
     "output_type": "execute_result"
    }
   ],
   "source": [
    "# elementos únicos\n",
    "a = np.array([1, 1, 4, 5, 5, 5, 7], float)\n",
    "np.unique(a)\n"
   ]
  },
  {
   "cell_type": "code",
   "execution_count": 103,
   "metadata": {
    "collapsed": false
   },
   "outputs": [
    {
     "data": {
      "text/plain": [
       "array([ 1.,  4.])"
      ]
     },
     "execution_count": 103,
     "metadata": {},
     "output_type": "execute_result"
    }
   ],
   "source": [
    "# elementos diagonales de un arreglo 2D\n",
    "a = np.array([[1, 2], [3, 4]], float)\n",
    "a.diagonal()\n"
   ]
  },
  {
   "cell_type": "markdown",
   "metadata": {},
   "source": [
    "### Comparación de arreglos"
   ]
  },
  {
   "cell_type": "code",
   "execution_count": 107,
   "metadata": {
    "collapsed": false
   },
   "outputs": [
    {
     "data": {
      "text/plain": [
       "(array([ True, False, False], dtype=bool),\n",
       " array([False,  True, False], dtype=bool),\n",
       " array([False,  True,  True], dtype=bool))"
      ]
     },
     "execution_count": 107,
     "metadata": {},
     "output_type": "execute_result"
    }
   ],
   "source": [
    "a = np.array([1, 3, 0], float)\n",
    "b = np.array([0, 3, 2], float)\n",
    "a>b, a == b, a<=b"
   ]
  },
  {
   "cell_type": "code",
   "execution_count": 108,
   "metadata": {
    "collapsed": false
   },
   "outputs": [
    {
     "data": {
      "text/plain": [
       "array([ True, False, False], dtype=bool)"
      ]
     },
     "execution_count": 108,
     "metadata": {},
     "output_type": "execute_result"
    }
   ],
   "source": [
    "c = a>b\n",
    "c"
   ]
  },
  {
   "cell_type": "code",
   "execution_count": 109,
   "metadata": {
    "collapsed": false
   },
   "outputs": [
    {
     "data": {
      "text/plain": [
       "array([ True, False, False], dtype=bool)"
      ]
     },
     "execution_count": 109,
     "metadata": {},
     "output_type": "execute_result"
    }
   ],
   "source": [
    "# Expresiones booleanas compuestas aplicadas elemento por elemento\n",
    "a = np.array([1, 3, 0], float)\n",
    "np.logical_and(a > 0, a < 3)\n"
   ]
  },
  {
   "cell_type": "code",
   "execution_count": 110,
   "metadata": {
    "collapsed": false
   },
   "outputs": [
    {
     "data": {
      "text/plain": [
       "array([False,  True, False], dtype=bool)"
      ]
     },
     "execution_count": 110,
     "metadata": {},
     "output_type": "execute_result"
    }
   ],
   "source": [
    "b = np.array([True, False, True], bool)\n",
    "np.logical_not(b)"
   ]
  },
  {
   "cell_type": "code",
   "execution_count": 111,
   "metadata": {
    "collapsed": false
   },
   "outputs": [
    {
     "data": {
      "text/plain": [
       "array([ True,  True,  True], dtype=bool)"
      ]
     },
     "execution_count": 111,
     "metadata": {},
     "output_type": "execute_result"
    }
   ],
   "source": [
    "c = np.array([False, True, False], bool)\n",
    "np.logical_or(b, c)\n"
   ]
  },
  {
   "cell_type": "markdown",
   "metadata": {},
   "source": [
    "#### La función where"
   ]
  },
  {
   "cell_type": "code",
   "execution_count": 116,
   "metadata": {
    "collapsed": false
   },
   "outputs": [
    {
     "data": {
      "text/plain": [
       "array([ 1.        ,  0.33333333,  0.        ])"
      ]
     },
     "execution_count": 116,
     "metadata": {},
     "output_type": "execute_result"
    }
   ],
   "source": [
    "# sintáxis básica where(boolarray,truearray, falsearray)\n",
    "\n",
    "a = np.array([1, 3, 0], float)\n",
    "np.where(a != 0, 1 / a, a)\n"
   ]
  },
  {
   "cell_type": "markdown",
   "metadata": {},
   "source": [
    "#### Elementos no nulos"
   ]
  },
  {
   "cell_type": "code",
   "execution_count": 117,
   "metadata": {
    "collapsed": false
   },
   "outputs": [
    {
     "data": {
      "text/plain": [
       "(array([0, 1], dtype=int32), array([1, 0], dtype=int32))"
      ]
     },
     "execution_count": 117,
     "metadata": {},
     "output_type": "execute_result"
    }
   ],
   "source": [
    "a = np.array([[0, 1], [3, 0]], float)\n",
    "a.nonzero()"
   ]
  },
  {
   "cell_type": "markdown",
   "metadata": {},
   "source": [
    "### Selección y manipulación de items de un arreglo"
   ]
  },
  {
   "cell_type": "code",
   "execution_count": 118,
   "metadata": {
    "collapsed": false
   },
   "outputs": [
    {
     "data": {
      "text/plain": [
       "array([ 6.,  9.])"
      ]
     },
     "execution_count": 118,
     "metadata": {},
     "output_type": "execute_result"
    }
   ],
   "source": [
    "a = np.array([[6, 4], [5, 9]], float)\n",
    "a[a >= 6]"
   ]
  },
  {
   "cell_type": "code",
   "execution_count": 119,
   "metadata": {
    "collapsed": false
   },
   "outputs": [
    {
     "data": {
      "text/plain": [
       "array([ 6.,  9.])"
      ]
     },
     "execution_count": 119,
     "metadata": {},
     "output_type": "execute_result"
    }
   ],
   "source": [
    "a = np.array([[6, 4], [5, 9]], float)\n",
    "sel = a >= 6 \n",
    "a[sel]"
   ]
  },
  {
   "cell_type": "code",
   "execution_count": 120,
   "metadata": {
    "collapsed": false
   },
   "outputs": [
    {
     "data": {
      "text/plain": [
       "array([ 6.])"
      ]
     },
     "execution_count": 120,
     "metadata": {},
     "output_type": "execute_result"
    }
   ],
   "source": [
    "#usando expresiones booleanas\n",
    "a[np.logical_and(a > 5, a < 9)]"
   ]
  },
  {
   "cell_type": "code",
   "execution_count": 121,
   "metadata": {
    "collapsed": false
   },
   "outputs": [
    {
     "data": {
      "text/plain": [
       "array([ 2.,  2.,  4.,  8.,  6.,  4.])"
      ]
     },
     "execution_count": 121,
     "metadata": {},
     "output_type": "execute_result"
    }
   ],
   "source": [
    "# selección usando arreglos de enteros\n",
    "\n",
    "# defino los valores  a \n",
    "a = np.array([2, 4, 6, 8], float)\n",
    "# defino los índices b \n",
    "b = np.array([0, 0, 1, 3, 2, 1], int)\n",
    "a[b]"
   ]
  },
  {
   "cell_type": "code",
   "execution_count": 122,
   "metadata": {
    "collapsed": false
   },
   "outputs": [
    {
     "data": {
      "text/plain": [
       "array([ 2.,  2.,  4.,  8.,  6.,  4.])"
      ]
     },
     "execution_count": 122,
     "metadata": {},
     "output_type": "execute_result"
    }
   ],
   "source": [
    "# Igual a lo anterior con listas\n",
    "a = np.array([2, 4, 6, 8], float)\n",
    "lista = [0, 0, 1, 3, 2, 1]\n",
    "a[lista]"
   ]
  },
  {
   "cell_type": "code",
   "execution_count": 123,
   "metadata": {
    "collapsed": false
   },
   "outputs": [
    {
     "data": {
      "text/plain": [
       "array([  1.,   4.,  16.,  16.,   4.])"
      ]
     },
     "execution_count": 123,
     "metadata": {},
     "output_type": "execute_result"
    }
   ],
   "source": [
    "# arreglo multidimensional\n",
    "\n",
    "a = np.array([[1, 4], [9, 16]], float)\n",
    "b = np.array([0, 0, 1, 1, 0], int)\n",
    "c = np.array([0, 1, 1, 1, 1], int)\n",
    "a[b,c]\n"
   ]
  },
  {
   "cell_type": "markdown",
   "metadata": {},
   "source": [
    "## Matemática de vectores y matríces"
   ]
  },
  {
   "cell_type": "markdown",
   "metadata": {},
   "source": [
    "### Producto escalar de 2 vectores"
   ]
  },
  {
   "cell_type": "markdown",
   "metadata": {},
   "source": [
    "$\\begin{align}\n",
    "\\mathbf{a}\\cdot\\mathbf{b} =\\mathbf{a}^\\mathrm{T}\\mathbf{b}\\\\\n",
    "=\\begin{pmatrix}a_1 a_2  \\cdots  a_n\\end{pmatrix}\\begin{pmatrix}b_1 \\\\ b_2 \\\\ \\vdots \\\\ b_n\\end{pmatrix}\\\\\n",
    "=a_1b_1+a_2b_2+\\cdots+a_nb_n\\\\\n",
    "=\\sum_{i=1}^n a_ib_i,\n",
    "\\end{align}$"
   ]
  },
  {
   "cell_type": "code",
   "execution_count": 23,
   "metadata": {
    "collapsed": false
   },
   "outputs": [
    {
     "data": {
      "text/plain": [
       "5.0"
      ]
     },
     "execution_count": 23,
     "metadata": {},
     "output_type": "execute_result"
    }
   ],
   "source": [
    "# operador dot\n",
    "a = np.array([1, 2, 3], float)\n",
    "b = np.array([0, 1, 1], float)\n",
    "np.dot(a, b)"
   ]
  },
  {
   "cell_type": "markdown",
   "metadata": {},
   "source": [
    "### Producto de 2 matríces"
   ]
  },
  {
   "cell_type": "markdown",
   "metadata": {},
   "source": [
    "$ \\mathbf{A} =\n",
    "\\begin{pmatrix}\n",
    "A_{1 1}   A_{1 2}  \\cdots  A_{1 m} \\\\\n",
    "A_{2 1}  A_{2 2}  \\cdots  A_{2 m} \\\\\n",
    "\\vdots  \\vdots  \\ddots  \\vdots \\\\\n",
    "A_{n 1}  A_{n 2}  \\cdots  A_{n m}\n",
    "\\end{pmatrix} =  \\begin{pmatrix}\n",
    "\\mathbf{a}_1 \\\\ \\mathbf{a}_2 \\\\ \\vdots \\\\ \\mathbf{a}_n\n",
    "\\end{pmatrix} $\n",
    "\n",
    "$\\mathbf{A} =\n",
    "\\begin{pmatrix}\n",
    "A_{1 1}  A_{1 2}  \\cdots  A_{1 m} \\\\\n",
    "A_{2 1}  A_{2 2}  \\cdots  A_{2 m} \\\\\n",
    "\\vdots  \\vdots  \\ddots  \\vdots \\\\\n",
    "A_{n 1}  A_{n 2}  \\cdots  A_{n m}\n",
    "\\end{pmatrix} =  \\begin{pmatrix}\n",
    "\\mathbf{a}_1 \\\\ \\mathbf{a}_2 \\\\ \\vdots \\\\ \\mathbf{a}_n\n",
    "\\end{pmatrix}$\n",
    "\n",
    "Donde\n",
    "\n",
    "$\\mathbf{a}_i = \\begin{pmatrix}A_{i1}  A_{i2}  \\cdots  A_{im} \\end{pmatrix}\\,,\\quad \\mathbf{b}_i = \\begin{pmatrix}B_{1i} \\\\ B_{2i} \\\\ \\vdots \\\\ B_{mi}\\end{pmatrix}$\n",
    "\n",
    "Entonces: \n",
    "\n",
    "$\\mathbf{AB} =\n",
    "\\begin{pmatrix}\n",
    "\\mathbf{a}_1 \\\\\n",
    "\\mathbf{a}_2 \\\\\n",
    "\\vdots \\\\\n",
    "\\mathbf{a}_n\n",
    "\\end{pmatrix} \\begin{pmatrix} \\mathbf{b}_1  \\mathbf{b}_2  \\dots  \\mathbf{b}_p\n",
    "\\end{pmatrix} = \\begin{pmatrix}\n",
    "(\\mathbf{a}_1 \\cdot \\mathbf{b}_1)  (\\mathbf{a}_1 \\cdot \\mathbf{b}_2)  \\dots (\\mathbf{a}_1 \\cdot \\mathbf{b}_p) \\\\\n",
    "(\\mathbf{a}_2 \\cdot \\mathbf{b}_1)  (\\mathbf{a}_2 \\cdot \\mathbf{b}_2)   \\dots   (\\mathbf{a}_2 \\cdot \\mathbf{b}_p) \\\\\n",
    "\\vdots   \\vdots   \\ddots  \\vdots \\\\\n",
    "(\\mathbf{a}_n \\cdot \\mathbf{b}_1)  (\\mathbf{a}_n \\cdot \\mathbf{b}_2)   \\dots (\\mathbf{a}_n \\cdot \\mathbf{b}_p)\n",
    "\\end{pmatrix}$"
   ]
  },
  {
   "cell_type": "code",
   "execution_count": 27,
   "metadata": {
    "collapsed": false
   },
   "outputs": [
    {
     "data": {
      "text/plain": [
       "(array([[  4.,   0.],\n",
       "        [ 14.,   2.]]), array([[ 2.,  4.],\n",
       "        [ 0.,  4.]]))"
      ]
     },
     "execution_count": 27,
     "metadata": {},
     "output_type": "execute_result"
    }
   ],
   "source": [
    "# operador dot\n",
    "a = np.array([[0, 1], [2, 3]], float)\n",
    "c = np.array([[1, 1], [4, 0]], float)\n",
    "#multiplicar una matriz por un vector\n",
    "np.dot(a,c), np.dot(c,a)\n"
   ]
  },
  {
   "cell_type": "markdown",
   "metadata": {},
   "source": [
    "## Producto de una matríz por un vector"
   ]
  },
  {
   "cell_type": "markdown",
   "metadata": {},
   "source": [
    "$ \\mathbf{A}\\mathbf{b}$\n",
    "\n",
    "$ \\begin{pmatrix}\n",
    "A_{1 1}   A_{1 2}  \\cdots  A_{1 m} \\\\\n",
    "A_{2 1}  A_{2 2}  \\cdots  A_{2 m} \\\\\n",
    "\\vdots  \\vdots  \\ddots  \\vdots \\\\\n",
    "A_{n 1}  A_{n 2}  \\cdots  A_{n m}\n",
    "\\end{pmatrix} \\begin{pmatrix}b_1 \\\\ b_2 \\\\ \\vdots \\\\ b_n\\end{pmatrix}$"
   ]
  },
  {
   "cell_type": "code",
   "execution_count": 28,
   "metadata": {
    "collapsed": false
   },
   "outputs": [
    {
     "data": {
      "text/plain": [
       "(array([  3.,  13.]),)"
      ]
     },
     "execution_count": 28,
     "metadata": {},
     "output_type": "execute_result"
    }
   ],
   "source": [
    "# operador dot\n",
    "a = np.array([[0, 1], [2, 3]], float)\n",
    "b = np.array([2, 3], float)\n",
    "np.dot(a,b), "
   ]
  },
  {
   "cell_type": "markdown",
   "metadata": {},
   "source": [
    "## Producto tensorial"
   ]
  },
  {
   "cell_type": "markdown",
   "metadata": {},
   "source": [
    "$ \\mathbf{a}\\otimes\\mathbf{b} = \\mathbf{a}\\mathbf{b}^\\mathrm{T} =$\n",
    "\n",
    "$ \\begin{pmatrix}a_1 \\\\ a_2 \\\\ \\vdots \\\\ a_n\\end{pmatrix}\n",
    "\\begin{pmatrix}b_1  b_2  \\cdots  b_n\\end{pmatrix} =$\n",
    "\n",
    "$ \\begin{pmatrix}\n",
    "a_1 b_1  a_1 b_2 \\cdots  a_1 b_n \\\\\n",
    "a_2 b_1  a_2 b_2  \\cdots  a_2 b_n \\\\\n",
    "\\vdots  \\vdots  \\ddots  \\vdots \\\\\n",
    "a_n b_1  a_n b_2  \\cdots  a_n b_n \\\\\n",
    "\\end{pmatrix} $"
   ]
  },
  {
   "cell_type": "code",
   "execution_count": 29,
   "metadata": {
    "collapsed": false
   },
   "outputs": [
    {
     "data": {
      "text/plain": [
       "array([[ 2.,  2.,  1.],\n",
       "       [ 8.,  8.,  4.],\n",
       "       [ 0.,  0.,  0.]])"
      ]
     },
     "execution_count": 29,
     "metadata": {},
     "output_type": "execute_result"
    }
   ],
   "source": [
    "# outer product\n",
    "\n",
    "a = np.array([1, 4, 0], float)\n",
    "b = np.array([2, 2, 1], float)\n",
    "np.outer(a, b)\n"
   ]
  },
  {
   "cell_type": "markdown",
   "metadata": {},
   "source": [
    "## Cálculos con el paquete de álgebra lineal"
   ]
  },
  {
   "cell_type": "markdown",
   "metadata": {},
   "source": [
    "###### Se usa el sub-paquete de linalg de numpy"
   ]
  },
  {
   "cell_type": "markdown",
   "metadata": {},
   "source": [
    "### determinante"
   ]
  },
  {
   "cell_type": "code",
   "execution_count": 30,
   "metadata": {
    "collapsed": false
   },
   "outputs": [
    {
     "data": {
      "text/plain": [
       "-48.000000000000028"
      ]
     },
     "execution_count": 30,
     "metadata": {},
     "output_type": "execute_result"
    }
   ],
   "source": [
    "a = np.array([[4, 2, 0], [9, 3, 7], [1, 2, 1]], float)\n",
    "np.linalg.det(a)"
   ]
  },
  {
   "cell_type": "markdown",
   "metadata": {},
   "source": [
    "### inversa"
   ]
  },
  {
   "cell_type": "code",
   "execution_count": 33,
   "metadata": {
    "collapsed": false
   },
   "outputs": [
    {
     "data": {
      "text/plain": [
       "(array([[ 0.22916667,  0.04166667, -0.29166667],\n",
       "        [ 0.04166667, -0.08333333,  0.58333333],\n",
       "        [-0.3125    ,  0.125     ,  0.125     ]]),\n",
       " array([[  1.00000000e+00,   0.00000000e+00,  -2.22044605e-16],\n",
       "        [ -4.85722573e-17,   1.00000000e+00,  -1.94289029e-16],\n",
       "        [  1.38777878e-17,   6.93889390e-18,   1.00000000e+00]]))"
      ]
     },
     "execution_count": 33,
     "metadata": {},
     "output_type": "execute_result"
    }
   ],
   "source": [
    "b = np.linalg.inv(a)\n",
    "b, np.dot(a,b)"
   ]
  },
  {
   "cell_type": "markdown",
   "metadata": {},
   "source": [
    "### autovalores y autovectores"
   ]
  },
  {
   "cell_type": "code",
   "execution_count": 31,
   "metadata": {
    "collapsed": false
   },
   "outputs": [
    {
     "data": {
      "text/plain": [
       "(array([ 8.85591316,  1.9391628 , -2.79507597]),\n",
       " array([[-0.3663565 , -0.54736745,  0.25928158],\n",
       "        [-0.88949768,  0.5640176 , -0.88091903],\n",
       "        [-0.27308752,  0.61828231,  0.39592263]]))"
      ]
     },
     "execution_count": 31,
     "metadata": {},
     "output_type": "execute_result"
    }
   ],
   "source": [
    "vals, vecs = np.linalg.eig(a)\n",
    "vals, vecs"
   ]
  },
  {
   "cell_type": "markdown",
   "metadata": {},
   "source": [
    "### descomposición en valores singulares"
   ]
  },
  {
   "cell_type": "markdown",
   "metadata": {},
   "source": [
    "Análogo a la diagonalización de una matríz cuadrada\n",
    "\n",
    "$\\mathbf{A} = \\mathbf{U} \\boldsymbol{\\Sigma} \\mathbf{V}^* $"
   ]
  },
  {
   "cell_type": "code",
   "execution_count": 35,
   "metadata": {
    "collapsed": false
   },
   "outputs": [
    {
     "data": {
      "text/plain": [
       "(array([[-0.6113829 , -0.79133492],\n",
       "        [-0.79133492,  0.6113829 ]]),\n",
       " array([ 7.46791327,  2.86884495]),\n",
       " array([[-0.61169129, -0.45753324, -0.64536587],\n",
       "        [ 0.78971838, -0.40129005, -0.46401635],\n",
       "        [-0.046676  , -0.79349205,  0.60678804]]))"
      ]
     },
     "execution_count": 35,
     "metadata": {},
     "output_type": "execute_result"
    }
   ],
   "source": [
    "a = np.array([[1, 3, 4], [5, 2, 3]], float)\n",
    "U, s, Vh = np.linalg.svd(a)\n",
    "U,s,Vh"
   ]
  },
  {
   "cell_type": "markdown",
   "metadata": {},
   "source": [
    "## Polinomios"
   ]
  },
  {
   "cell_type": "markdown",
   "metadata": {},
   "source": [
    " $ p(x ) = a_n x^n + a_{n-1}x^{n-1} + \\dotsb + a_2 x^2 + a_1 x + a_0 = $\n",
    " \n",
    " $\\sum_{i=0}^n a_i x^i $"
   ]
  },
  {
   "cell_type": "markdown",
   "metadata": {},
   "source": [
    "### Con las raíces del polinomio, obtener los coeficientes"
   ]
  },
  {
   "cell_type": "code",
   "execution_count": 36,
   "metadata": {
    "collapsed": false
   },
   "outputs": [
    {
     "data": {
      "text/plain": [
       "array([  1, -11,   9,  11, -10])"
      ]
     },
     "execution_count": 36,
     "metadata": {},
     "output_type": "execute_result"
    }
   ],
   "source": [
    "np.poly([-1, 1, 1, 10])"
   ]
  },
  {
   "cell_type": "markdown",
   "metadata": {},
   "source": [
    "### Con los coeficientes del polinomio, obtener las raíces"
   ]
  },
  {
   "cell_type": "code",
   "execution_count": 37,
   "metadata": {
    "collapsed": false
   },
   "outputs": [
    {
     "data": {
      "text/plain": [
       "array([ 10.        ,  -1.        ,   0.99999998,   1.00000002])"
      ]
     },
     "execution_count": 37,
     "metadata": {},
     "output_type": "execute_result"
    }
   ],
   "source": [
    "np.roots([  1, -11,   9,  11, -10])\n"
   ]
  },
  {
   "cell_type": "markdown",
   "metadata": {},
   "source": [
    "### Integración de un polinomio"
   ]
  },
  {
   "cell_type": "markdown",
   "metadata": {},
   "source": [
    "$\\int p(x) dx$"
   ]
  },
  {
   "cell_type": "code",
   "execution_count": 40,
   "metadata": {
    "collapsed": false
   },
   "outputs": [
    {
     "data": {
      "text/plain": [
       "array([ 0.25      ,  0.33333333,  0.5       ,  1.        ,  0.        ])"
      ]
     },
     "execution_count": 40,
     "metadata": {},
     "output_type": "execute_result"
    }
   ],
   "source": [
    "np.polyint([1, 1, 1, 1])\n"
   ]
  },
  {
   "cell_type": "markdown",
   "metadata": {},
   "source": [
    "### Derivación de un polinomio"
   ]
  },
  {
   "cell_type": "markdown",
   "metadata": {},
   "source": [
    "$ \\frac {d p(x)} {d x}$"
   ]
  },
  {
   "cell_type": "code",
   "execution_count": 41,
   "metadata": {
    "collapsed": false
   },
   "outputs": [
    {
     "data": {
      "text/plain": [
       "array([ 1.,  1.,  1.,  1.])"
      ]
     },
     "execution_count": 41,
     "metadata": {},
     "output_type": "execute_result"
    }
   ],
   "source": [
    "np.polyder(np.polyint([1, 1, 1, 1]))"
   ]
  },
  {
   "cell_type": "markdown",
   "metadata": {},
   "source": [
    "### Evaluación en un punto"
   ]
  },
  {
   "cell_type": "code",
   "execution_count": 44,
   "metadata": {
    "collapsed": false
   },
   "outputs": [
    {
     "data": {
      "text/plain": [
       "40"
      ]
     },
     "execution_count": 44,
     "metadata": {},
     "output_type": "execute_result"
    }
   ],
   "source": [
    "np.polyval([1, 1, 1, 1], 3)"
   ]
  },
  {
   "cell_type": "markdown",
   "metadata": {},
   "source": [
    "### Ajuste de un polinomio a un conjunto de puntos"
   ]
  },
  {
   "cell_type": "code",
   "execution_count": 45,
   "metadata": {
    "collapsed": false
   },
   "outputs": [
    {
     "data": {
      "text/plain": [
       "array([ 0.375     , -0.88690476,  1.05357143])"
      ]
     },
     "execution_count": 45,
     "metadata": {},
     "output_type": "execute_result"
    }
   ],
   "source": [
    "x = [1, 2, 3,4, 5, 6, 7, 8]\n",
    "y = [0, 2, 1,3, 7, 10, 11, 19]\n",
    "np.polyfit(x,y, 2)\n",
    " "
   ]
  },
  {
   "cell_type": "markdown",
   "metadata": {},
   "source": [
    "#### Arreglo Multidimensional, un parámetro adicional indica sobre que eje se hace la operación"
   ]
  },
  {
   "cell_type": "code",
   "execution_count": 96,
   "metadata": {
    "collapsed": false
   },
   "outputs": [
    {
     "data": {
      "text/plain": [
       "(array([ 6.,  6.]), array([ 2.,  2.,  8.]))"
      ]
     },
     "execution_count": 96,
     "metadata": {},
     "output_type": "execute_result"
    }
   ],
   "source": [
    "a = np.array([[0, 2], [3, -1], [3, 5]], float)\n",
    "a.sum(axis=0), a.sum(axis=1)"
   ]
  },
  {
   "cell_type": "code",
   "execution_count": 48,
   "metadata": {
    "collapsed": false
   },
   "outputs": [
    {
     "name": "stdout",
     "output_type": "stream",
     "text": [
      "[[ 1.  2.  3.]\n",
      " [ 4.  5.  6.]]\n",
      "forma de a : (2, 3)\n",
      "<class 'numpy.ndarray'>\n",
      "retorna un elemento:  1.0\n"
     ]
    },
    {
     "data": {
      "text/plain": [
       "array([[ 10.,   2.,   3.],\n",
       "       [  4.,   5.,   6.]])"
      ]
     },
     "execution_count": 48,
     "metadata": {},
     "output_type": "execute_result"
    }
   ],
   "source": [
    "a = np.array([[1, 2, 3], [4, 5, 6]], float)\n",
    "\n",
    "\n",
    "\n",
    "print (a)\n",
    "print (\"forma de a :\", a.shape)\n",
    "\n",
    "print (type(a))\n",
    "\n",
    "print (\"retorna un elemento: \", a[0,0] )\n",
    "\n",
    "\n",
    "\n",
    "# cambia el valor de un elemento del arreglo\n",
    "\n",
    "a[0,0] = 10\n",
    "\n",
    "a"
   ]
  },
  {
   "cell_type": "markdown",
   "metadata": {},
   "source": [
    "## Slicing"
   ]
  },
  {
   "cell_type": "code",
   "execution_count": 42,
   "metadata": {
    "collapsed": false
   },
   "outputs": [
    {
     "name": "stdout",
     "output_type": "stream",
     "text": [
      "retorna una fila:  [ 4.  5.  6.]\n",
      "también retorna una fila:  [ 4.  5.  6.]\n",
      "también retorna una fila:  [[ 4.  5.  6.]]\n",
      "también retorna una fila, la cero:  [[ 10.   2.   3.]]\n",
      "también retorna una fila, la cero:  [ 10.   2.   3.]\n"
     ]
    }
   ],
   "source": [
    "print (\"retorna una fila: \", a[1])\n",
    "\n",
    "print (\"también retorna una fila: \", a[1,:])\n",
    "\n",
    "print (\"también retorna una fila: \", a[1:])\n",
    "\n",
    "print (\"también retorna una fila, la cero: \", a[:1])\n",
    "\n",
    "print (\"también retorna una fila, la cero: \", a[0])"
   ]
  },
  {
   "cell_type": "code",
   "execution_count": 51,
   "metadata": {
    "collapsed": false
   },
   "outputs": [
    {
     "name": "stdout",
     "output_type": "stream",
     "text": [
      "retorna una columna, la 2:  [ 2.  5.]\n",
      "retorna una columna, la 1:  [ 10.   4.]\n",
      "retorna una columna, la 3:  [ 3.  6.]\n",
      "retorna una columna, la 2:  [ 2.  5.]\n",
      "tipo de elemento almacenado en el array:  float64\n",
      "longitud de a:  2\n"
     ]
    }
   ],
   "source": [
    "print (\"retorna una columna, la 2: \", a[:,1])\n",
    "print (\"retorna una columna, la 1: \", a[:,0])\n",
    "print (\"retorna una columna, la 3: \", a[:,2])\n",
    "print (\"retorna una columna, la 2: \", a[:,-2]) #Equivale a a[:,1]\n",
    "\n",
    "# dtype()\n",
    "print (\"tipo de elemento almacenado en el array: \", a.dtype)\n",
    "# len()\n",
    "print (\"longitud de a: \", len(a))"
   ]
  },
  {
   "cell_type": "code",
   "execution_count": 71,
   "metadata": {
    "collapsed": false
   },
   "outputs": [
    {
     "name": "stdout",
     "output_type": "stream",
     "text": [
      "min de b: máximo de b:  0.788919038585 1.28718419602\n",
      "modulo:  [ 1.41421356  2.06155281]\n",
      "real:  [ 1.  2.]\n",
      "imag:  [ 1.   0.5]\n",
      "ángulos:  [ 45.          14.03624347]\n"
     ]
    },
    {
     "data": {
      "text/plain": [
       "(array([[ 2.63289227,  1.5424972 ,  1.18640437, -0.05546688],\n",
       "        [ 0.93055545, -0.22083365,  2.74989537,  2.61407436]]),\n",
       " array([ 0. ,  0.5,  1. ,  1.5,  2. ,  2.5,  3. ,  3.5,  4. ,  4.5,  5. ,\n",
       "         5.5,  6. ,  6.5,  7. ,  7.5,  8. ,  8.5,  9. ,  9.5]),\n",
       " array([ 1.+1.j ,  2.+0.5j]),\n",
       " array([ 0.88779099+1.02142807j,  1.04103080+0.92876964j,\n",
       "         0.93909403+0.99284112j,  1.02550091+0.90943404j,\n",
       "         0.87806769+1.0667233j ,  0.75560511+0.96689205j,\n",
       "         1.06687395+1.08537338j,  1.01525262+0.94986154j,\n",
       "         0.94845994+0.9303914j ,  0.81578145+0.97617808j]),\n",
       " array([ 1.        ,  2.        ,  3.        ,  4.        ,  5.        ,\n",
       "         6.        ,  7.        ,  3.14159265,  9.        ,  2.71828183]),\n",
       " array([[ 1.        ,  2.        ,  3.        ,  4.        ],\n",
       "        [ 5.        ,  7.        ,  3.14159265,  2.71828183]]),\n",
       " array([[[ 1.        ,  2.        ],\n",
       "         [ 3.        ,  4.        ]],\n",
       " \n",
       "        [[ 5.        ,  7.        ],\n",
       "         [ 3.14159265,  2.71828183]]]))"
      ]
     },
     "execution_count": 71,
     "metadata": {},
     "output_type": "execute_result"
    }
   ],
   "source": [
    "\n",
    "\n",
    "# create a range 1D\n",
    "x = np.arange(0, 10, .5) # arguments: start, stop, step\n",
    "\n",
    "# creación de un array con una función\n",
    "b = np.random.normal(1,.1, size= 100)\n",
    "\n",
    "# creación de un array 2D de 2x4 con función\n",
    "c = np.random.normal(1,1, size= (2, 4))\n",
    "\n",
    "# creación de un array 2D de 2x4\n",
    "a2 = np.array([1, 2, 3, 4, 5, 7, np.pi, np.e]).reshape(2,4)\n",
    "\n",
    "# creación de un array 2D de 2x4\n",
    "a3 = np.array([1, 2, 3, 4, 5, 7, np.pi, np.e]).reshape(2,2, 2)\n",
    "a4 = np.arange(27).reshape (3,3,3)\n",
    "\n",
    "# creación manual de un array 1D \n",
    "z = np.array ([1+1j, 2+ .5j])\n",
    "\n",
    "# creación de un array 1D de complejos con valores de función real \n",
    "z1 = np.random.normal(1,.1, size= 10) + 1j*np.random.normal(1,.1, size= 10)\n",
    "\n",
    "\n",
    "# funciones para números complejos\n",
    "angles = np.angle (z, deg=True)\n",
    "imag = np.imag (z)\n",
    "real = np.real (z)\n",
    "module = np.abs (z)\n",
    "\n",
    "print (\"min de b: máximo de b: \", np.min(b), np.max(b))\n",
    "print (\"modulo: \", module)\n",
    "print (\"real: \", real)\n",
    "print (\"imag: \", imag)\n",
    "print (\"ángulos: \", angles)\n",
    "c, x, z, z1, a, a2, a3"
   ]
  },
  {
   "cell_type": "code",
   "execution_count": 72,
   "metadata": {
    "collapsed": false
   },
   "outputs": [
    {
     "data": {
      "text/plain": [
       "array([[[ 0,  1,  2],\n",
       "        [ 3,  4,  5],\n",
       "        [ 6,  7,  8]],\n",
       "\n",
       "       [[ 9, 10, 11],\n",
       "        [12, 13, 14],\n",
       "        [15, 16, 17]],\n",
       "\n",
       "       [[18, 19, 20],\n",
       "        [21, 22, 23],\n",
       "        [24, 25, 26]]])"
      ]
     },
     "execution_count": 72,
     "metadata": {},
     "output_type": "execute_result"
    }
   ],
   "source": [
    "a4"
   ]
  },
  {
   "cell_type": "code",
   "execution_count": 73,
   "metadata": {
    "collapsed": false
   },
   "outputs": [
    {
     "data": {
      "text/plain": [
       "array([  0.        ,   0.41666667,   0.83333333,   1.25      ,\n",
       "         1.66666667,   2.08333333,   2.5       ,   2.91666667,\n",
       "         3.33333333,   3.75      ,   4.16666667,   4.58333333,\n",
       "         5.        ,   5.41666667,   5.83333333,   6.25      ,\n",
       "         6.66666667,   7.08333333,   7.5       ,   7.91666667,\n",
       "         8.33333333,   8.75      ,   9.16666667,   9.58333333,  10.        ])"
      ]
     },
     "execution_count": 73,
     "metadata": {},
     "output_type": "execute_result"
    }
   ],
   "source": [
    "np.linspace(0, 10, 25)"
   ]
  },
  {
   "cell_type": "code",
   "execution_count": 100,
   "metadata": {
    "collapsed": false
   },
   "outputs": [
    {
     "data": {
      "text/plain": [
       "array([  1.00000000e-03,   2.25393390e-03,   5.08021805e-03,\n",
       "         1.14504757e-02,   2.58086154e-02,   5.81709133e-02,\n",
       "         1.31113394e-01,   2.95520924e-01,   6.66084629e-01,\n",
       "         1.50131073e+00,   3.38385515e+00,   7.62698586e+00,\n",
       "         1.71907220e+01,   3.87467512e+01,   8.73326162e+01,\n",
       "         1.96841945e+02,   4.43668733e+02,   1.00000000e+03])"
      ]
     },
     "execution_count": 100,
     "metadata": {},
     "output_type": "execute_result"
    }
   ],
   "source": [
    "np.logspace(-3 , 3, 18, base=10)"
   ]
  },
  {
   "cell_type": "code",
   "execution_count": 3,
   "metadata": {
    "collapsed": false
   },
   "outputs": [
    {
     "data": {
      "text/plain": [
       "[<matplotlib.lines.Line2D at 0xaf677f0c>]"
      ]
     },
     "execution_count": 3,
     "metadata": {},
     "output_type": "execute_result"
    },
    {
     "data": {
      "image/png": "[encoded data removed]",
      "text/plain": [
       "<matplotlib.figure.Figure at 0xb1962bec>"
      ]
     },
     "metadata": {},
     "output_type": "display_data"
    }
   ],
   "source": [
    "plt.plot (b)"
   ]
  },
  {
   "cell_type": "code",
   "execution_count": 4,
   "metadata": {
    "collapsed": false
   },
   "outputs": [],
   "source": [
    "b = b + 1"
   ]
  },
  {
   "cell_type": "code",
   "execution_count": 5,
   "metadata": {
    "collapsed": false
   },
   "outputs": [
    {
     "data": {
      "text/plain": [
       "[<matplotlib.lines.Line2D at 0xaf5da2ac>]"
      ]
     },
     "execution_count": 5,
     "metadata": {},
     "output_type": "execute_result"
    },
    {
     "data": {
      "image/png": "[encoded data removed]",
      "text/plain": [
       "<matplotlib.figure.Figure at 0xaf5a9d2c>"
      ]
     },
     "metadata": {},
     "output_type": "display_data"
    }
   ],
   "source": [
    "plt.plot (b)"
   ]
  },
  {
   "cell_type": "code",
   "execution_count": 43,
   "metadata": {
    "collapsed": false
   },
   "outputs": [],
   "source": [
    "b = 0.01*(b + 1) +2"
   ]
  },
  {
   "cell_type": "code",
   "execution_count": 44,
   "metadata": {
    "collapsed": false
   },
   "outputs": [
    {
     "data": {
      "text/plain": [
       "[<matplotlib.lines.Line2D at 0xaf4ed6ac>]"
      ]
     },
     "execution_count": 44,
     "metadata": {},
     "output_type": "execute_result"
    },
    {
     "data": {
      "image/png": "[encoded data removed]",
      "text/plain": [
       "<matplotlib.figure.Figure at 0xaf54c02c>"
      ]
     },
     "metadata": {},
     "output_type": "display_data"
    }
   ],
   "source": [
    "plt.plot (b)"
   ]
  },
  {
   "cell_type": "markdown",
   "metadata": {},
   "source": [
    "## Funciones Universales de numpy"
   ]
  },
  {
   "cell_type": "markdown",
   "metadata": {},
   "source": [
    "Ver más Tentative Numpy Tutorial [link](http://wiki.scipy.org/Tentative_NumPy_Tutorial)"
   ]
  },
  {
   "cell_type": "code",
   "execution_count": 11,
   "metadata": {
    "collapsed": false
   },
   "outputs": [
    {
     "data": {
      "text/plain": [
       "[<matplotlib.lines.Line2D at 0xaf46dd2c>]"
      ]
     },
     "execution_count": 11,
     "metadata": {},
     "output_type": "execute_result"
    },
    {
     "data": {
      "image/png": "[encoded data removed]",
      "text/plain": [
       "<matplotlib.figure.Figure at 0xaf4a96ac>"
      ]
     },
     "metadata": {},
     "output_type": "display_data"
    }
   ],
   "source": [
    "# Funciones anidadas\n",
    "c = np.sin(np.sqrt(np.exp(c)))\n",
    "plt.plot (c)"
   ]
  },
  {
   "cell_type": "markdown",
   "metadata": {},
   "source": [
    "## Caminata aletoria"
   ]
  },
  {
   "cell_type": "code",
   "execution_count": 107,
   "metadata": {
    "collapsed": false
   },
   "outputs": [],
   "source": [
    "position = 0\n",
    "walk = [position]\n",
    "steps = 1000\n",
    "for i in range(steps):\n",
    "    step = 1 if np.random.randint(0, 2) else -1\n",
    "    position += step\n",
    "    walk.append(position)"
   ]
  },
  {
   "cell_type": "code",
   "execution_count": null,
   "metadata": {
    "collapsed": false
   },
   "outputs": [],
   "source": [
    "plt.plot (walk)"
   ]
  },
  {
   "cell_type": "code",
   "execution_count": 109,
   "metadata": {
    "collapsed": false
   },
   "outputs": [],
   "source": [
    "import random\n",
    "position = 0\n",
    "walk = [position]\n",
    "steps = 1000\n",
    "for i in range(steps):\n",
    "    step = 1 if random.randint(0, 1) else -1\n",
    "    position += step\n",
    "    walk.append(position)"
   ]
  },
  {
   "cell_type": "markdown",
   "metadata": {},
   "source": [
    "## Vectorización"
   ]
  },
  {
   "cell_type": "markdown",
   "metadata": {},
   "source": [
    "##### Es el proceso de convertir una implementación escalar de una función, que procesa cada uno de los pares de operandos, en una implementación vectorial de la misma función que procesa el par de vectores de una sola vez"
   ]
  },
  {
   "cell_type": "code",
   "execution_count": 146,
   "metadata": {
    "collapsed": false
   },
   "outputs": [],
   "source": [
    "def sin_add_square(x, y):\n",
    "    z = np.sin ((x + y)**2)\n",
    "    if z <= 0.0:\n",
    "        z = 0.0\n",
    "    return z    "
   ]
  },
  {
   "cell_type": "code",
   "execution_count": 147,
   "metadata": {
    "collapsed": false
   },
   "outputs": [
    {
     "ename": "ValueError",
     "evalue": "The truth value of an array with more than one element is ambiguous. Use a.any() or a.all()",
     "output_type": "error",
     "traceback": [
      "\u001b[1;31m---------------------------------------------------------------------------\u001b[0m\n\u001b[1;31mValueError\u001b[0m                                Traceback (most recent call last)",
      "\u001b[1;32m<ipython-input-147-69352be3fdec>\u001b[0m in \u001b[0;36m<module>\u001b[1;34m()\u001b[0m\n\u001b[1;32m----> 1\u001b[1;33m \u001b[0mzs\u001b[0m \u001b[1;33m=\u001b[0m \u001b[0msin_add_square\u001b[0m \u001b[1;33m(\u001b[0m\u001b[0mxs\u001b[0m\u001b[1;33m,\u001b[0m \u001b[0mys\u001b[0m\u001b[1;33m)\u001b[0m\u001b[1;33m\u001b[0m\u001b[0m\n\u001b[0m\u001b[0;32m      2\u001b[0m \u001b[1;33m\u001b[0m\u001b[0m\n\u001b[0;32m      3\u001b[0m \u001b[0mplt\u001b[0m\u001b[1;33m.\u001b[0m\u001b[0mimshow\u001b[0m\u001b[1;33m(\u001b[0m\u001b[0mzs\u001b[0m\u001b[1;33m,\u001b[0m \u001b[0mcmap\u001b[0m\u001b[1;33m=\u001b[0m\u001b[0mplt\u001b[0m\u001b[1;33m.\u001b[0m\u001b[0mcm\u001b[0m\u001b[1;33m.\u001b[0m\u001b[0mgray\u001b[0m\u001b[1;33m)\u001b[0m\u001b[1;33m;\u001b[0m \u001b[0mplt\u001b[0m\u001b[1;33m.\u001b[0m\u001b[0mcolorbar\u001b[0m\u001b[1;33m(\u001b[0m\u001b[1;33m)\u001b[0m\u001b[1;33m\u001b[0m\u001b[0m\n",
      "\u001b[1;32m<ipython-input-146-c9c63cc9edaf>\u001b[0m in \u001b[0;36msin_add_square\u001b[1;34m(x, y)\u001b[0m\n\u001b[0;32m      1\u001b[0m \u001b[1;32mdef\u001b[0m \u001b[0msin_add_square\u001b[0m\u001b[1;33m(\u001b[0m\u001b[0mx\u001b[0m\u001b[1;33m,\u001b[0m \u001b[0my\u001b[0m\u001b[1;33m)\u001b[0m\u001b[1;33m:\u001b[0m\u001b[1;33m\u001b[0m\u001b[0m\n\u001b[0;32m      2\u001b[0m     \u001b[0mz\u001b[0m \u001b[1;33m=\u001b[0m \u001b[0mnp\u001b[0m\u001b[1;33m.\u001b[0m\u001b[0msin\u001b[0m \u001b[1;33m(\u001b[0m\u001b[1;33m(\u001b[0m\u001b[0mx\u001b[0m \u001b[1;33m+\u001b[0m \u001b[0my\u001b[0m\u001b[1;33m)\u001b[0m\u001b[1;33m**\u001b[0m\u001b[1;36m2\u001b[0m\u001b[1;33m)\u001b[0m\u001b[1;33m\u001b[0m\u001b[0m\n\u001b[1;32m----> 3\u001b[1;33m     \u001b[1;32mif\u001b[0m \u001b[0mz\u001b[0m \u001b[1;33m<=\u001b[0m \u001b[1;36m0.0\u001b[0m\u001b[1;33m:\u001b[0m\u001b[1;33m\u001b[0m\u001b[0m\n\u001b[0m\u001b[0;32m      4\u001b[0m         \u001b[0mz\u001b[0m \u001b[1;33m=\u001b[0m \u001b[1;36m0.0\u001b[0m\u001b[1;33m\u001b[0m\u001b[0m\n\u001b[0;32m      5\u001b[0m     \u001b[1;32mreturn\u001b[0m \u001b[0mz\u001b[0m\u001b[1;33m\u001b[0m\u001b[0m\n",
      "\u001b[1;31mValueError\u001b[0m: The truth value of an array with more than one element is ambiguous. Use a.any() or a.all()"
     ]
    }
   ],
   "source": [
    "zs = sin_add_square (xs, ys)\n",
    "\n",
    "plt.imshow(zs, cmap=plt.cm.gray); plt.colorbar()"
   ]
  },
  {
   "cell_type": "code",
   "execution_count": 148,
   "metadata": {
    "collapsed": false
   },
   "outputs": [],
   "source": [
    "vadd_square = np.vectorize(sin_add_square)"
   ]
  },
  {
   "cell_type": "code",
   "execution_count": 149,
   "metadata": {
    "collapsed": false
   },
   "outputs": [],
   "source": [
    "zs = vadd_square(xs, ys)"
   ]
  },
  {
   "cell_type": "code",
   "execution_count": 150,
   "metadata": {
    "collapsed": false
   },
   "outputs": [
    {
     "data": {
      "text/plain": [
       "<matplotlib.colorbar.Colorbar at 0xa617d14c>"
      ]
     },
     "execution_count": 150,
     "metadata": {},
     "output_type": "execute_result"
    },
    {
     "data": {
      "image/png": "[encoded data removed]",
      "text/plain": [
       "<matplotlib.figure.Figure at 0xa706b9ac>"
      ]
     },
     "metadata": {},
     "output_type": "display_data"
    }
   ],
   "source": [
    "plt.imshow(zs, cmap=plt.cm.gray); plt.colorbar()"
   ]
  },
  {
   "cell_type": "code",
   "execution_count": 151,
   "metadata": {
    "collapsed": false
   },
   "outputs": [],
   "source": [
    "def sinc(x): \n",
    "    if x == 0.0:\n",
    "        return 1.0\n",
    "    else:\n",
    "        w = np.pi*x\n",
    "        return np.sin(w) / w"
   ]
  },
  {
   "cell_type": "code",
   "execution_count": 152,
   "metadata": {
    "collapsed": false
   },
   "outputs": [
    {
     "ename": "ValueError",
     "evalue": "The truth value of an array with more than one element is ambiguous. Use a.any() or a.all()",
     "output_type": "error",
     "traceback": [
      "\u001b[1;31m---------------------------------------------------------------------------\u001b[0m\n\u001b[1;31mValueError\u001b[0m                                Traceback (most recent call last)",
      "\u001b[1;32m<ipython-input-152-cf57324312f8>\u001b[0m in \u001b[0;36m<module>\u001b[1;34m()\u001b[0m\n\u001b[1;32m----> 1\u001b[1;33m \u001b[0msinc\u001b[0m \u001b[1;33m(\u001b[0m\u001b[0mxs\u001b[0m\u001b[1;33m)\u001b[0m\u001b[1;33m\u001b[0m\u001b[0m\n\u001b[0m",
      "\u001b[1;32m<ipython-input-151-4098eea62900>\u001b[0m in \u001b[0;36msinc\u001b[1;34m(x)\u001b[0m\n\u001b[0;32m      1\u001b[0m \u001b[1;32mdef\u001b[0m \u001b[0msinc\u001b[0m\u001b[1;33m(\u001b[0m\u001b[0mx\u001b[0m\u001b[1;33m)\u001b[0m\u001b[1;33m:\u001b[0m\u001b[1;33m\u001b[0m\u001b[0m\n\u001b[1;32m----> 2\u001b[1;33m     \u001b[1;32mif\u001b[0m \u001b[0mx\u001b[0m \u001b[1;33m==\u001b[0m \u001b[1;36m0.0\u001b[0m\u001b[1;33m:\u001b[0m\u001b[1;33m\u001b[0m\u001b[0m\n\u001b[0m\u001b[0;32m      3\u001b[0m         \u001b[1;32mreturn\u001b[0m \u001b[1;36m1.0\u001b[0m\u001b[1;33m\u001b[0m\u001b[0m\n\u001b[0;32m      4\u001b[0m     \u001b[1;32melse\u001b[0m\u001b[1;33m:\u001b[0m\u001b[1;33m\u001b[0m\u001b[0m\n\u001b[0;32m      5\u001b[0m         \u001b[0mw\u001b[0m \u001b[1;33m=\u001b[0m \u001b[0mnp\u001b[0m\u001b[1;33m.\u001b[0m\u001b[0mpi\u001b[0m\u001b[1;33m*\u001b[0m\u001b[0mx\u001b[0m\u001b[1;33m\u001b[0m\u001b[0m\n",
      "\u001b[1;31mValueError\u001b[0m: The truth value of an array with more than one element is ambiguous. Use a.any() or a.all()"
     ]
    }
   ],
   "source": [
    "sinc (xs)"
   ]
  },
  {
   "cell_type": "code",
   "execution_count": null,
   "metadata": {
    "collapsed": false
   },
   "outputs": [],
   "source": [
    "vsync = np.vectorize (sinc)\n",
    "vsync(xs)"
   ]
  },
  {
   "cell_type": "markdown",
   "metadata": {},
   "source": [
    "## Sistemas Lineales Invariantes en el tiempo"
   ]
  },
  {
   "cell_type": "markdown",
   "metadata": {},
   "source": [
    "$H(s) = \\frac {1}{s^2+6s+25}$"
   ]
  },
  {
   "cell_type": "code",
   "execution_count": 166,
   "metadata": {
    "collapsed": false
   },
   "outputs": [
    {
     "data": {
      "text/plain": [
       "<matplotlib.legend.Legend at 0xa996e80c>"
      ]
     },
     "execution_count": 166,
     "metadata": {},
     "output_type": "execute_result"
    },
    {
     "data": {
      "image/png": "[encoded data removed]",
      "text/plain": [
       "<matplotlib.figure.Figure at 0xa63b89ac>"
      ]
     },
     "metadata": {},
     "output_type": "display_data"
    }
   ],
   "source": [
    "import scipy.signal as sgn\n",
    "\n",
    "b,a = [1],[1,6,25]\n",
    "sis = sgn.lti(b,a) \n",
    "t,h = sis.impulse()\n",
    "ts,s = sis.step()\n",
    "plt.plot(t,h,ts,s)\n",
    "plt.legend(['Respuesta al impulso','Respuesta al escalón'])"
   ]
  },
  {
   "cell_type": "code",
   "execution_count": 168,
   "metadata": {
    "collapsed": false
   },
   "outputs": [],
   "source": [
    "w, mag, phase = sis.bode()"
   ]
  },
  {
   "cell_type": "code",
   "execution_count": 169,
   "metadata": {
    "collapsed": false
   },
   "outputs": [
    {
     "data": {
      "image/png": "[encoded data removed]",
      "text/plain": [
       "<matplotlib.figure.Figure at 0xa633b50c>"
      ]
     },
     "metadata": {},
     "output_type": "display_data"
    },
    {
     "data": {
      "image/png": "[encoded data removed]",
      "text/plain": [
       "<matplotlib.figure.Figure at 0xa63115cc>"
      ]
     },
     "metadata": {},
     "output_type": "display_data"
    }
   ],
   "source": [
    "plt.figure()\n",
    "plt.semilogx(w, mag)    # Bode magnitude plot\n",
    "plt.figure()\n",
    "plt.semilogx(w, phase)  # Bode phase plot\n",
    "plt.show()"
   ]
  },
  {
   "cell_type": "code",
   "execution_count": 188,
   "metadata": {
    "collapsed": false
   },
   "outputs": [
    {
     "name": "stdout",
     "output_type": "stream",
     "text": [
      "A: [[ -6. -25.]\n",
      " [  1.   0.]]\n",
      "\n",
      "---\n",
      "B:  [[ 1.]\n",
      " [ 0.]]\n",
      "\n",
      "---\n",
      "C: [[ 0.  1.]]\n",
      "\n",
      "---\n",
      "D: [ 0.]\n"
     ]
    }
   ],
   "source": [
    "print (\"A:\",  sis.A)\n",
    "print (\"\\n---\\nB: \", sis.B)\n",
    "print (\"\\n---\\nC:\",  sis.C)\n",
    "print (\"\\n---\\nD:\",  sis.D)"
   ]
  },
  {
   "cell_type": "markdown",
   "metadata": {},
   "source": [
    "## Resolución de ecuaciones diferenciales"
   ]
  },
  {
   "cell_type": "markdown",
   "metadata": {},
   "source": [
    "$a_n\\frac{d^ny}{dt^n }+ a_{n-1}\\frac{d^{n-1}y}{dt^{n-1}} + \\dots + a_1 \\frac {dy}{dt} + a_0 y= u(t)$\n",
    "\n",
    "Transformando con Laplace\n",
    "\n",
    "$a_ns^ny(s) + a_{n-1}s^{n-1}y(s) + \\dots + a_1sy(s) + a_0 y= u(s)$\n",
    "\n",
    "$(a_ns^n + a_{n-1}s^{n-1} + \\dots + a_1s + a_0)y(s)= u(s)$\n",
    "\n",
    "$\\frac{y(s)}{u(s) }= \\frac{1}{a_ns^n + a_{n-1}s^{n-1} + \\dots + a_1s +a_0}$\n",
    "\n",
    "Generalizando\n",
    "\n",
    "$a_n\\frac{d^ny}{dt^n }+ a_{n-1}\\frac{d^{n-1}y}{dt^{n-1}} + \\dots + a_1 \\frac {dy}{dt} + a_0y= b_m\\frac{d^mu}{dt^m }+ b_{m-1}\\frac{d^{m-1}u}{dt^{m-1}} + \\dots + b_1 \\frac {du}{dt} + b_0u$, con $m$ < $n$\n",
    "\n",
    "$\\frac{y(s)}{u(s) }= \\frac{b_ms^m + b_{m-1}s^{m-1} + \\dots + b_1s+b_0}{a_ns^n + a_{n-1}s^{n-1} + \\dots + a_1s+a_0}$"
   ]
  },
  {
   "cell_type": "markdown",
   "metadata": {},
   "source": [
    "## Representación matricial de un sistema LTI"
   ]
  },
  {
   "cell_type": "markdown",
   "metadata": {},
   "source": [
    "### Representación en el espacio de estados de un sistema físico lineal"
   ]
  },
  {
   "cell_type": "markdown",
   "metadata": {},
   "source": [
    "Ver: State Space Representations of Linear Physical Systems  [link](http://lpsa.swarthmore.edu/Representations/SysRepSS.html)"
   ]
  },
  {
   "cell_type": "markdown",
   "metadata": {},
   "source": [
    "$ \\dot {\\mathbf{x}} = \\mathbf{A}\\mathbf{x} + \\mathbf{B}\\mathbf{u} $\n",
    "\n",
    "$ \\mathbf{y} = \\mathbf{C}\\mathbf{x} +  \\mathbf{D}\\mathbf{u}$"
   ]
  },
  {
   "cell_type": "markdown",
   "metadata": {},
   "source": [
    "Ejemplo\n",
    "\n",
    "$\\frac {d^4y}{dt^4} + a_1 \\frac{d^3y}{dt^3} + a_2 \\frac{d^2y}{dt^2} + a_1 \\frac{dy}{dt} +a_0y = b_0 u $\n",
    "\n",
    "$x_1 = y$\n",
    "\n",
    "$x_2 = \\dot{x_1} = \\frac{dy}{dt} $\n",
    "\n",
    "$x_3 = \\dot{x_2} = \\frac{d^2y}{dt^2} $\n",
    "\n",
    "$x_4 = \\dot{x_3} = \\frac{d^3y}{dt^3} $\n",
    "\n",
    "$\\frac {d^4y}{dt^4} + a_1 x_4 + a_2 x_3 + a_1 x_2 +a_0x_1 = b_0 u $\n",
    "\n",
    "\n",
    "\n",
    "$\\dot{x_4} = \\frac{d^4y}{dt^4} $\n",
    "\n",
    "\n",
    "$\\dot{x_4} = a_1 x_4 - a_2 x_3 - a_1 x_2 - a_0x_1 + b_0 u $\n",
    "\n",
    "\n",
    "$\\begin{pmatrix}\n",
    "\\mathbf{\\dot{x}}_1 \\\\ \\mathbf{\\dot{x}}_2 \\\\ \\mathbf{\\dot{x}}_3 \\\\ \\mathbf{\\dot{x}}_4\n",
    "\\end{pmatrix}=\n",
    "\\begin{pmatrix}\n",
    "0\\ \\ \\ 1\\ \\ \\ 0\\ \\ \\ 0\\\\\n",
    "0\\ \\ \\ 0\\ \\ \\ 1\\ \\ \\ 0\\\\\n",
    "0\\ \\ \\ 0\\ \\ \\ 0\\ \\ \\ 1\\\\\n",
    "-a_4 -a_3 -a_2 -a_1\n",
    "\\end{pmatrix}  \n",
    "\\begin{pmatrix}\n",
    "\\mathbf{x}_1 \\\\ \\mathbf{x}_2 \\\\ \\mathbf{x}_3 \\\\ \\mathbf{x}_4\n",
    "\\end{pmatrix} +\n",
    "\\begin{pmatrix}\n",
    "\\mathbf{0} \\\\ \\mathbf{0} \\\\ \\mathbf{0} \\\\ \\mathbf{b}_0\n",
    "\\end{pmatrix}\\mathbf{u}$\n",
    "\n",
    "$\\mathbf{y} = \\begin{pmatrix}1 \\ 0  \\ 0  \\ 0 \\end{pmatrix} \\begin{pmatrix}\\mathbf{x}_{1} \\\\ \\mathbf{x}_{2} \\\\ \\mathbf{x}_{3}  \\\\ \\mathbf{x}_{4}\\end{pmatrix}$\n"
   ]
  }
 ],
 "metadata": {
  "kernelspec": {
   "display_name": "Python 3",
   "language": "python",
   "name": "python3"
  },
  "language_info": {
   "codemirror_mode": {
    "name": "ipython",
    "version": 3
   },
   "file_extension": ".py",
   "mimetype": "text/x-python",
   "name": "python",
   "nbconvert_exporter": "python",
   "pygments_lexer": "ipython3",
   "version": "3.4.3"
  }
 },
 "nbformat": 4,
 "nbformat_minor": 0
}
