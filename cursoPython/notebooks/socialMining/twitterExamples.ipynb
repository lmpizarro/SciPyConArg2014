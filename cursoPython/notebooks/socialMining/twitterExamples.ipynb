{
 "metadata": {
  "name": "",
  "signature": "sha256:9a77478fc4c3787e8d85d8e71b1f7ef624bab000ed40859181d7a780424381ef"
 },
 "nbformat": 3,
 "nbformat_minor": 0,
 "worksheets": [
  {
   "cells": [
    {
     "cell_type": "code",
     "collapsed": false,
     "input": [
      "# -*- coding: utf-8 -*-\n",
      "\n",
      "import twitter as tw\n",
      "\n",
      "OAUTH_TOKEN=\"59465566-sLBrpOG3GvtBPWtgIFXGtpw57lkFDYbcTnGz858sP\"\n",
      "OAUTH_SECRET=\"VksCIjkuHb77cSLpiDDz93DKedPGtzqdInMCdKqd8DWKQ\"\n",
      "CONSUMER_KEY=\"2MIy44nbUKiElAolSoxY0wzKQ\"\n",
      "CONSUMER_SECRET=\"KFQqFcvTWBdplgIHyLVZI3B1gp2Nlmzqv5tuiDI0AHdw6ikNVw\"\n",
      "\n",
      "twitter = tw.Twitter(\n",
      "            auth=tw.OAuth(OAUTH_TOKEN, OAUTH_SECRET,\n",
      "                       CONSUMER_KEY, CONSUMER_SECRET)\n",
      "           )\n",
      "\n",
      "twitter_api = tw.Twitter(auth=twitter.auth)\n",
      "\n",
      "# Nothing to see by displaying twitter_api except that it's now a\n",
      "# defined variable\n",
      "\n",
      "print twitter_api"
     ],
     "language": "python",
     "metadata": {},
     "outputs": [
      {
       "output_type": "stream",
       "stream": "stdout",
       "text": [
        "<twitter.api.Twitter object at 0x7f85eda5e5d0>\n"
       ]
      }
     ],
     "prompt_number": 33
    },
    {
     "cell_type": "code",
     "collapsed": false,
     "input": [
      "ARG_WOE_ID = 23424747\n",
      "BSAS_WOE_ID = 468739\n",
      "\n",
      "# Prefix ID with the underscore for query string parameterization.\n",
      "# Without the underscore, the twitter package appends the ID value\n",
      "# to the URL itself as a special case keyword argument.\n",
      "\n",
      "arg_trends = twitter_api.trends.place(_id=ARG_WOE_ID)\n",
      "bsas_trends = twitter_api.trends.place(_id=BSAS_WOE_ID)\n",
      "\n",
      " \n",
      "print arg_trends\n",
      "print bsas_trends"
     ],
     "language": "python",
     "metadata": {},
     "outputs": [
      {
       "output_type": "stream",
       "stream": "stdout",
       "text": [
        "[{u'created_at': u'2014-11-12T22:15:14Z', u'trends': [{u'url': u'http://twitter.com/search?q=%23MeCambiaElDiaSi', u'query': u'%23MeCambiaElDiaSi', u'name': u'#MeCambiaElDiaSi', u'promoted_content': None}, {u'url': u'http://twitter.com/search?q=%23AdmitoQue', u'query': u'%23AdmitoQue', u'name': u'#AdmitoQue', u'promoted_content': None}, {u'url': u'http://twitter.com/search?q=%23FelizCumpleEnzo', u'query': u'%23FelizCumpleEnzo', u'name': u'#FelizCumpleEnzo', u'promoted_content': None}, {u'url': u'http://twitter.com/search?q=%23FOURFEST', u'query': u'%23FOURFEST', u'name': u'#FOURFEST', u'promoted_content': None}, {u'url': u'http://twitter.com/search?q=%23HoyTodosAlentamosARiver', u'query': u'%23HoyTodosAlentamosARiver', u'name': u'#HoyTodosAlentamosARiver', u'promoted_content': None}, {u'url': u'http://twitter.com/search?q=JustinBieber', u'query': u'JustinBieber', u'name': u'JustinBieber', u'promoted_content': None}, {u'url': u'http://twitter.com/search?q=Ansaldi', u'query': u'Ansaldi', u'name': u'Ansaldi', u'promoted_content': None}, {u'url': u'http://twitter.com/search?q=Croacia', u'query': u'Croacia', u'name': u'Croacia', u'promoted_content': None}, {u'url': u'http://twitter.com/search?q=Tevez', u'query': u'Tevez', u'name': u'Tevez', u'promoted_content': None}, {u'url': u'http://twitter.com/search?q=T%C3%A9vez', u'query': u'T%C3%A9vez', u'name': u'T\\xe9vez', u'promoted_content': None}], u'as_of': u'2014-11-12T22:16:14Z', u'locations': [{u'woeid': 23424747, u'name': u'Argentina'}]}]\n",
        "[{u'created_at': u'2014-11-12T22:07:45Z', u'trends': [{u'url': u'http://twitter.com/search?q=%23MeCambiaElDiaSi', u'query': u'%23MeCambiaElDiaSi', u'name': u'#MeCambiaElDiaSi', u'promoted_content': None}, {u'url': u'http://twitter.com/search?q=%23AdmitoQue', u'query': u'%23AdmitoQue', u'name': u'#AdmitoQue', u'promoted_content': None}, {u'url': u'http://twitter.com/search?q=Ansaldi', u'query': u'Ansaldi', u'name': u'Ansaldi', u'promoted_content': None}, {u'url': u'http://twitter.com/search?q=%23FelizCumpleEnzo', u'query': u'%23FelizCumpleEnzo', u'name': u'#FelizCumpleEnzo', u'promoted_content': None}, {u'url': u'http://twitter.com/search?q=Croacia', u'query': u'Croacia', u'name': u'Croacia', u'promoted_content': None}, {u'url': u'http://twitter.com/search?q=%23ARGvsCRO', u'query': u'%23ARGvsCRO', u'name': u'#ARGvsCRO', u'promoted_content': None}, {u'url': u'http://twitter.com/search?q=JustinBieber', u'query': u'JustinBieber', u'name': u'JustinBieber', u'promoted_content': None}, {u'url': u'http://twitter.com/search?q=%23LaVueltaDeFontanet', u'query': u'%23LaVueltaDeFontanet', u'name': u'#LaVueltaDeFontanet', u'promoted_content': None}, {u'url': u'http://twitter.com/search?q=T%C3%A9vez', u'query': u'T%C3%A9vez', u'name': u'T\\xe9vez', u'promoted_content': None}, {u'url': u'http://twitter.com/search?q=Banega', u'query': u'Banega', u'name': u'Banega', u'promoted_content': None}], u'as_of': u'2014-11-12T22:16:16Z', u'locations': [{u'woeid': 468739, u'name': u'Buenos Aires'}]}]\n"
       ]
      }
     ],
     "prompt_number": 34
    },
    {
     "cell_type": "code",
     "collapsed": false,
     "input": [
      "import json\n",
      "\n",
      "print json.dumps(arg_trends, indent=1)\n",
      "print\n",
      "print json.dumps(bsas_trends, indent=1)"
     ],
     "language": "python",
     "metadata": {},
     "outputs": [
      {
       "output_type": "stream",
       "stream": "stdout",
       "text": [
        "[\n",
        " {\n",
        "  \"created_at\": \"2014-11-12T22:15:14Z\", \n",
        "  \"trends\": [\n",
        "   {\n",
        "    \"url\": \"http://twitter.com/search?q=%23MeCambiaElDiaSi\", \n",
        "    \"query\": \"%23MeCambiaElDiaSi\", \n",
        "    \"name\": \"#MeCambiaElDiaSi\", \n",
        "    \"promoted_content\": null\n",
        "   }, \n",
        "   {\n",
        "    \"url\": \"http://twitter.com/search?q=%23AdmitoQue\", \n",
        "    \"query\": \"%23AdmitoQue\", \n",
        "    \"name\": \"#AdmitoQue\", \n",
        "    \"promoted_content\": null\n",
        "   }, \n",
        "   {\n",
        "    \"url\": \"http://twitter.com/search?q=%23FelizCumpleEnzo\", \n",
        "    \"query\": \"%23FelizCumpleEnzo\", \n",
        "    \"name\": \"#FelizCumpleEnzo\", \n",
        "    \"promoted_content\": null\n",
        "   }, \n",
        "   {\n",
        "    \"url\": \"http://twitter.com/search?q=%23FOURFEST\", \n",
        "    \"query\": \"%23FOURFEST\", \n",
        "    \"name\": \"#FOURFEST\", \n",
        "    \"promoted_content\": null\n",
        "   }, \n",
        "   {\n",
        "    \"url\": \"http://twitter.com/search?q=%23HoyTodosAlentamosARiver\", \n",
        "    \"query\": \"%23HoyTodosAlentamosARiver\", \n",
        "    \"name\": \"#HoyTodosAlentamosARiver\", \n",
        "    \"promoted_content\": null\n",
        "   }, \n",
        "   {\n",
        "    \"url\": \"http://twitter.com/search?q=JustinBieber\", \n",
        "    \"query\": \"JustinBieber\", \n",
        "    \"name\": \"JustinBieber\", \n",
        "    \"promoted_content\": null\n",
        "   }, \n",
        "   {\n",
        "    \"url\": \"http://twitter.com/search?q=Ansaldi\", \n",
        "    \"query\": \"Ansaldi\", \n",
        "    \"name\": \"Ansaldi\", \n",
        "    \"promoted_content\": null\n",
        "   }, \n",
        "   {\n",
        "    \"url\": \"http://twitter.com/search?q=Croacia\", \n",
        "    \"query\": \"Croacia\", \n",
        "    \"name\": \"Croacia\", \n",
        "    \"promoted_content\": null\n",
        "   }, \n",
        "   {\n",
        "    \"url\": \"http://twitter.com/search?q=Tevez\", \n",
        "    \"query\": \"Tevez\", \n",
        "    \"name\": \"Tevez\", \n",
        "    \"promoted_content\": null\n",
        "   }, \n",
        "   {\n",
        "    \"url\": \"http://twitter.com/search?q=T%C3%A9vez\", \n",
        "    \"query\": \"T%C3%A9vez\", \n",
        "    \"name\": \"T\\u00e9vez\", \n",
        "    \"promoted_content\": null\n",
        "   }\n",
        "  ], \n",
        "  \"as_of\": \"2014-11-12T22:16:14Z\", \n",
        "  \"locations\": [\n",
        "   {\n",
        "    \"woeid\": 23424747, \n",
        "    \"name\": \"Argentina\"\n",
        "   }\n",
        "  ]\n",
        " }\n",
        "]\n",
        "\n",
        "[\n",
        " {\n",
        "  \"created_at\": \"2014-11-12T22:07:45Z\", \n",
        "  \"trends\": [\n",
        "   {\n",
        "    \"url\": \"http://twitter.com/search?q=%23MeCambiaElDiaSi\", \n",
        "    \"query\": \"%23MeCambiaElDiaSi\", \n",
        "    \"name\": \"#MeCambiaElDiaSi\", \n",
        "    \"promoted_content\": null\n",
        "   }, \n",
        "   {\n",
        "    \"url\": \"http://twitter.com/search?q=%23AdmitoQue\", \n",
        "    \"query\": \"%23AdmitoQue\", \n",
        "    \"name\": \"#AdmitoQue\", \n",
        "    \"promoted_content\": null\n",
        "   }, \n",
        "   {\n",
        "    \"url\": \"http://twitter.com/search?q=Ansaldi\", \n",
        "    \"query\": \"Ansaldi\", \n",
        "    \"name\": \"Ansaldi\", \n",
        "    \"promoted_content\": null\n",
        "   }, \n",
        "   {\n",
        "    \"url\": \"http://twitter.com/search?q=%23FelizCumpleEnzo\", \n",
        "    \"query\": \"%23FelizCumpleEnzo\", \n",
        "    \"name\": \"#FelizCumpleEnzo\", \n",
        "    \"promoted_content\": null\n",
        "   }, \n",
        "   {\n",
        "    \"url\": \"http://twitter.com/search?q=Croacia\", \n",
        "    \"query\": \"Croacia\", \n",
        "    \"name\": \"Croacia\", \n",
        "    \"promoted_content\": null\n",
        "   }, \n",
        "   {\n",
        "    \"url\": \"http://twitter.com/search?q=%23ARGvsCRO\", \n",
        "    \"query\": \"%23ARGvsCRO\", \n",
        "    \"name\": \"#ARGvsCRO\", \n",
        "    \"promoted_content\": null\n",
        "   }, \n",
        "   {\n",
        "    \"url\": \"http://twitter.com/search?q=JustinBieber\", \n",
        "    \"query\": \"JustinBieber\", \n",
        "    \"name\": \"JustinBieber\", \n",
        "    \"promoted_content\": null\n",
        "   }, \n",
        "   {\n",
        "    \"url\": \"http://twitter.com/search?q=%23LaVueltaDeFontanet\", \n",
        "    \"query\": \"%23LaVueltaDeFontanet\", \n",
        "    \"name\": \"#LaVueltaDeFontanet\", \n",
        "    \"promoted_content\": null\n",
        "   }, \n",
        "   {\n",
        "    \"url\": \"http://twitter.com/search?q=T%C3%A9vez\", \n",
        "    \"query\": \"T%C3%A9vez\", \n",
        "    \"name\": \"T\\u00e9vez\", \n",
        "    \"promoted_content\": null\n",
        "   }, \n",
        "   {\n",
        "    \"url\": \"http://twitter.com/search?q=Banega\", \n",
        "    \"query\": \"Banega\", \n",
        "    \"name\": \"Banega\", \n",
        "    \"promoted_content\": null\n",
        "   }\n",
        "  ], \n",
        "  \"as_of\": \"2014-11-12T22:16:16Z\", \n",
        "  \"locations\": [\n",
        "   {\n",
        "    \"woeid\": 468739, \n",
        "    \"name\": \"Buenos Aires\"\n",
        "   }\n",
        "  ]\n",
        " }\n",
        "]\n"
       ]
      }
     ],
     "prompt_number": 35
    },
    {
     "cell_type": "markdown",
     "metadata": {},
     "source": [
      "## Example 4. Computing the intersection of two sets of trends"
     ]
    },
    {
     "cell_type": "code",
     "collapsed": false,
     "input": [
      "arg_trends_set = set([trend['name'] \n",
      "                        for trend in arg_trends[0]['trends']])\n",
      "\n",
      "bsas_trends_set = set([trend['name'] \n",
      "                     for trend in bsas_trends[0]['trends']]) \n",
      "\n",
      "common_trends = arg_trends_set.intersection(bsas_trends_set)\n",
      "\n",
      "print common_trends\n"
     ],
     "language": "python",
     "metadata": {},
     "outputs": [
      {
       "output_type": "stream",
       "stream": "stdout",
       "text": [
        "set([u'#FelizCumpleEnzo', u'T\\xe9vez', u'#MeCambiaElDiaSi', u'JustinBieber', u'Ansaldi', u'Croacia', u'#AdmitoQue'])\n"
       ]
      }
     ],
     "prompt_number": 36
    },
    {
     "cell_type": "markdown",
     "metadata": {},
     "source": [
      "## Example 5. Collecting search results"
     ]
    },
    {
     "cell_type": "code",
     "collapsed": false,
     "input": [
      "# XXX: Set this variable to a trending topic, \n",
      "# or anything else for that matter. The example query below\n",
      "# was a trending topic when this content was being developed\n",
      "# and is used throughout the remainder of this chapter.\n",
      "\n",
      "q = '#CFKArgentina' \n",
      "\n",
      "count = 100\n",
      "\n",
      "# See https://dev.twitter.com/docs/api/1.1/get/search/tweets\n",
      "\n",
      "search_results = twitter_api.search.tweets(q=q, count=count)\n",
      "\n",
      "statuses = search_results['statuses']\n",
      "\n",
      "\n",
      "# Iterate through 5 more batches of results by following the cursor\n",
      "\n",
      "for _ in range(5):\n",
      "    print \"Length of statuses\", len(statuses)\n",
      "    try:\n",
      "        next_results = search_results['search_metadata']['next_results']\n",
      "    except KeyError, e: # No more results when next_results doesn't exist\n",
      "        break\n",
      "        \n",
      "    # Create a dictionary from next_results, which has the following form:\n",
      "    # ?max_id=313519052523986943&q=NCAA&include_entities=1\n",
      "    kwargs = dict([ kv.split('=') for kv in next_results[1:].split(\"&\") ])\n",
      "    \n",
      "    search_results = twitter_api.search.tweets(**kwargs)\n",
      "    statuses += search_results['statuses']\n",
      "\n",
      "# Show one sample search result by slicing the list...\n",
      "print json.dumps(statuses[0], indent=1)"
     ],
     "language": "python",
     "metadata": {},
     "outputs": [
      {
       "output_type": "stream",
       "stream": "stdout",
       "text": [
        "Length of statuses 24\n",
        "{\n",
        " \"contributors\": null, \n",
        " \"truncated\": false, \n",
        " \"text\": \"#13N: otra vez #ELPueblo #dir\\u00e1 #BASTA http://t.co/7qWLrn5DVw v\\u00eda @diariohoynet #CFKArgentina es tu #Fin como #PseudoPresidente @CFKArgentina\", \n",
        " \"in_reply_to_status_id\": null, \n",
        " \"id\": 532579319025909760, \n",
        " \"favorite_count\": 0, \n",
        " \"source\": \"<a href=\\\"https://dev.twitter.com/docs/tfw\\\" rel=\\\"nofollow\\\">Twitter for Websites</a>\", \n",
        " \"retweeted\": false, \n",
        " \"coordinates\": null, \n",
        " \"entities\": {\n",
        "  \"symbols\": [], \n",
        "  \"user_mentions\": [\n",
        "   {\n",
        "    \"id\": 91630276, \n",
        "    \"indices\": [\n",
        "     65, \n",
        "     78\n",
        "    ], \n",
        "    \"id_str\": \"91630276\", \n",
        "    \"screen_name\": \"diariohoynet\", \n",
        "    \"name\": \"Diario HOY\"\n",
        "   }, \n",
        "   {\n",
        "    \"id\": 138814032, \n",
        "    \"indices\": [\n",
        "     127, \n",
        "     140\n",
        "    ], \n",
        "    \"id_str\": \"138814032\", \n",
        "    \"screen_name\": \"CFKArgentina\", \n",
        "    \"name\": \"Cristina Kirchner\"\n",
        "   }\n",
        "  ], \n",
        "  \"hashtags\": [\n",
        "   {\n",
        "    \"indices\": [\n",
        "     0, \n",
        "     4\n",
        "    ], \n",
        "    \"text\": \"13N\"\n",
        "   }, \n",
        "   {\n",
        "    \"indices\": [\n",
        "     15, \n",
        "     24\n",
        "    ], \n",
        "    \"text\": \"ELPueblo\"\n",
        "   }, \n",
        "   {\n",
        "    \"indices\": [\n",
        "     25, \n",
        "     30\n",
        "    ], \n",
        "    \"text\": \"dir\\u00e1\"\n",
        "   }, \n",
        "   {\n",
        "    \"indices\": [\n",
        "     31, \n",
        "     37\n",
        "    ], \n",
        "    \"text\": \"BASTA\"\n",
        "   }, \n",
        "   {\n",
        "    \"indices\": [\n",
        "     79, \n",
        "     92\n",
        "    ], \n",
        "    \"text\": \"CFKArgentina\"\n",
        "   }, \n",
        "   {\n",
        "    \"indices\": [\n",
        "     99, \n",
        "     103\n",
        "    ], \n",
        "    \"text\": \"Fin\"\n",
        "   }, \n",
        "   {\n",
        "    \"indices\": [\n",
        "     109, \n",
        "     126\n",
        "    ], \n",
        "    \"text\": \"PseudoPresidente\"\n",
        "   }\n",
        "  ], \n",
        "  \"urls\": [\n",
        "   {\n",
        "    \"url\": \"http://t.co/7qWLrn5DVw\", \n",
        "    \"indices\": [\n",
        "     38, \n",
        "     60\n",
        "    ], \n",
        "    \"expanded_url\": \"http://diariohoy.net/n41285\", \n",
        "    \"display_url\": \"diariohoy.net/n41285\"\n",
        "   }\n",
        "  ]\n",
        " }, \n",
        " \"in_reply_to_screen_name\": null, \n",
        " \"in_reply_to_user_id\": null, \n",
        " \"retweet_count\": 0, \n",
        " \"id_str\": \"532579319025909760\", \n",
        " \"favorited\": false, \n",
        " \"user\": {\n",
        "  \"follow_request_sent\": false, \n",
        "  \"profile_use_background_image\": true, \n",
        "  \"profile_text_color\": \"404040\", \n",
        "  \"default_profile_image\": false, \n",
        "  \"id\": 466600860, \n",
        "  \"profile_background_image_url_https\": \"https://pbs.twimg.com/profile_background_images/510417489/Palmar_de_Colon_100_7810.JPG\", \n",
        "  \"verified\": false, \n",
        "  \"profile_location\": null, \n",
        "  \"profile_image_url_https\": \"https://pbs.twimg.com/profile_images/460945175754182656/mZ0UAMBE_normal.jpeg\", \n",
        "  \"profile_sidebar_fill_color\": \"000000\", \n",
        "  \"entities\": {\n",
        "   \"url\": {\n",
        "    \"urls\": [\n",
        "     {\n",
        "      \"url\": \"http://t.co/VcTM7d6o7Z\", \n",
        "      \"indices\": [\n",
        "       0, \n",
        "       22\n",
        "      ], \n",
        "      \"expanded_url\": \"http://www.filmaffinity.com/es/film415485.html\", \n",
        "      \"display_url\": \"filmaffinity.com/es/film415485.\\u2026\"\n",
        "     }\n",
        "    ]\n",
        "   }, \n",
        "   \"description\": {\n",
        "    \"urls\": []\n",
        "   }\n",
        "  }, \n",
        "  \"followers_count\": 485, \n",
        "  \"profile_sidebar_border_color\": \"333333\", \n",
        "  \"id_str\": \"466600860\", \n",
        "  \"profile_background_color\": \"C6E2EE\", \n",
        "  \"listed_count\": 7, \n",
        "  \"is_translation_enabled\": false, \n",
        "  \"utc_offset\": -10800, \n",
        "  \"statuses_count\": 4069, \n",
        "  \"description\": \"Simon se educ\\u00f3 en un dur\\u00edsimo orfanato K all\\u00ed tuvo que aprender muchos trucos. Hasta ser su propio Maestro. Desde hace tiempo lucha por la Justicia en su Pa\\u00eds.\", \n",
        "  \"friends_count\": 629, \n",
        "  \"location\": \"Argentina \", \n",
        "  \"profile_link_color\": \"1F98C7\", \n",
        "  \"profile_image_url\": \"http://pbs.twimg.com/profile_images/460945175754182656/mZ0UAMBE_normal.jpeg\", \n",
        "  \"following\": false, \n",
        "  \"geo_enabled\": false, \n",
        "  \"profile_banner_url\": \"https://pbs.twimg.com/profile_banners/466600860/1373695499\", \n",
        "  \"profile_background_image_url\": \"http://pbs.twimg.com/profile_background_images/510417489/Palmar_de_Colon_100_7810.JPG\", \n",
        "  \"name\": \"Simon Templar \", \n",
        "  \"lang\": \"es\", \n",
        "  \"profile_background_tile\": false, \n",
        "  \"favourites_count\": 208, \n",
        "  \"screen_name\": \"Simon__Templar\", \n",
        "  \"notifications\": false, \n",
        "  \"url\": \"http://t.co/VcTM7d6o7Z\", \n",
        "  \"created_at\": \"Tue Jan 17 15:52:09 +0000 2012\", \n",
        "  \"contributors_enabled\": false, \n",
        "  \"time_zone\": \"Buenos Aires\", \n",
        "  \"protected\": false, \n",
        "  \"default_profile\": false, \n",
        "  \"is_translator\": false\n",
        " }, \n",
        " \"geo\": null, \n",
        " \"in_reply_to_user_id_str\": null, \n",
        " \"possibly_sensitive\": false, \n",
        " \"lang\": \"es\", \n",
        " \"created_at\": \"Wed Nov 12 17:02:59 +0000 2014\", \n",
        " \"in_reply_to_status_id_str\": null, \n",
        " \"place\": null, \n",
        " \"metadata\": {\n",
        "  \"iso_language_code\": \"es\", \n",
        "  \"result_type\": \"recent\"\n",
        " }\n",
        "}\n"
       ]
      }
     ],
     "prompt_number": 37
    },
    {
     "cell_type": "markdown",
     "metadata": {},
     "source": [
      "## Example 6. Extracting text, screen names, and hashtags from tweets"
     ]
    },
    {
     "cell_type": "code",
     "collapsed": false,
     "input": [
      "status_texts = [ status['text'] \n",
      "                 for status in statuses ]\n",
      "\n",
      "screen_names = [ user_mention['screen_name'] \n",
      "                 for status in statuses\n",
      "                     for user_mention in status['entities']['user_mentions'] ]\n",
      "\n",
      "hashtags = [ hashtag['text'] \n",
      "             for status in statuses\n",
      "                 for hashtag in status['entities']['hashtags'] ]\n",
      "\n",
      "# Compute a collection of all words from all tweets\n",
      "words = [ w \n",
      "          for t in status_texts \n",
      "              for w in t.split() ]\n",
      "\n",
      "# Explore the first 5 items for each...\n",
      "\n",
      "print json.dumps(status_texts[0:5], indent=1)\n",
      "print json.dumps(screen_names[0:5], indent=1) \n",
      "print json.dumps(hashtags[0:5], indent=1)\n",
      "print json.dumps(words[0:5], indent=1)"
     ],
     "language": "python",
     "metadata": {},
     "outputs": [
      {
       "output_type": "stream",
       "stream": "stdout",
       "text": [
        "[\n",
        " \"#13N: otra vez #ELPueblo #dir\\u00e1 #BASTA http://t.co/7qWLrn5DVw v\\u00eda @diariohoynet #CFKArgentina es tu #Fin como #PseudoPresidente @CFKArgentina\", \n",
        " \"RT @luck_loce: Este modelo econ\\u00f3mico lo unico que hace es que ma\\u00f1ana te arrepientas de no haber gastado la plata hoy #economia #CFKArgentin\\u2026\", \n",
        " \"Este modelo econ\\u00f3mico lo unico que hace es que ma\\u00f1ana te arrepientas de no haber gastado la plata hoy #economia #CFKArgentina  #modelo\", \n",
        " \"RT @lallypaz26: Mientras la ignorancia nos lleva al caos,la educaci\\u00f3n y el conocimiento siempre  nos lleva al orden,Sra #CFKArgentina http:\\u2026\", \n",
        " \"Mientras la ignorancia nos lleva al caos,la educaci\\u00f3n y el conocimiento siempre  nos lleva al orden,Sra #CFKArgentina http://t.co/IuI13dVuLd\"\n",
        "]\n",
        "[\n",
        " \"diariohoynet\", \n",
        " \"CFKArgentina\", \n",
        " \"luck_loce\", \n",
        " \"lallypaz26\", \n",
        " \"JFLopezTucuman\"\n",
        "]\n",
        "[\n",
        " \"13N\", \n",
        " \"ELPueblo\", \n",
        " \"dir\\u00e1\", \n",
        " \"BASTA\", \n",
        " \"CFKArgentina\"\n",
        "]\n",
        "[\n",
        " \"#13N:\", \n",
        " \"otra\", \n",
        " \"vez\", \n",
        " \"#ELPueblo\", \n",
        " \"#dir\\u00e1\"\n",
        "]\n"
       ]
      }
     ],
     "prompt_number": 16
    },
    {
     "cell_type": "markdown",
     "metadata": {},
     "source": [
      "## Example 7. Creating a basic frequency distribution from the words in tweets"
     ]
    },
    {
     "cell_type": "code",
     "collapsed": false,
     "input": [
      "from collections import Counter\n",
      "\n",
      "for item in [words, screen_names, hashtags]:\n",
      "    c = Counter(item)\n",
      "    print c.most_common()[:10] # top 10\n",
      "    print\n",
      "\n"
     ],
     "language": "python",
     "metadata": {},
     "outputs": [
      {
       "output_type": "stream",
       "stream": "stdout",
       "text": [
        "[(u'#CFKArgentina', 9), (u'la', 8), (u'de', 8), (u'y', 8), (u'que', 7), (u'#CFKargentina', 7), (u'RT', 6), (u'el', 6), (u'al', 6), (u'a', 6)]\n",
        "\n",
        "[(u'LAVOZcomar', 4), (u'CFKArgentina', 1), (u'teleSURtv', 1), (u'JFLopezTucuman', 1), (u'luck_loce', 1), (u'lallypaz26', 1), (u'Simon__Templar', 1), (u'diariohoynet', 1)]\n",
        "\n",
        "[(u'CFKArgentina', 11), (u'CFKargentina', 7), (u'cfkArgentina', 3), (u'economia', 2), (u'DeLaRuina', 2), (u'CrisFlojaDePapeles', 2), (u'cfkargentina', 2), (u'Pueblo', 2), (u'modelo', 2), (u'Argentinos', 2)]\n",
        "\n"
       ]
      }
     ],
     "prompt_number": 17
    },
    {
     "cell_type": "markdown",
     "metadata": {},
     "source": [
      "## Example 8. Using prettytable to display tuples in a nice tabular format"
     ]
    },
    {
     "cell_type": "code",
     "collapsed": false,
     "input": [
      "from prettytable import PrettyTable\n",
      "\n",
      "for label, data in (('Word', words), \n",
      "                    ('Screen Name', screen_names), \n",
      "                    ('Hashtag', hashtags)):\n",
      "    pt = PrettyTable(field_names=[label, 'Count']) \n",
      "    c = Counter(data)\n",
      "    [ pt.add_row(kv) for kv in c.most_common()[:10] ]\n",
      "    pt.align[label], pt.align['Count'] = 'l', 'r' # Set column alignment\n",
      "    print pt"
     ],
     "language": "python",
     "metadata": {},
     "outputs": [
      {
       "output_type": "stream",
       "stream": "stdout",
       "text": [
        "+---------------+-------+\n",
        "| Word          | Count |\n",
        "+---------------+-------+\n",
        "| #CFKArgentina |     9 |\n",
        "| la            |     8 |\n",
        "| de            |     8 |\n",
        "| y             |     8 |\n",
        "| que           |     7 |\n",
        "| #CFKargentina |     7 |\n",
        "| RT            |     6 |\n",
        "| el            |     6 |\n",
        "| al            |     6 |\n",
        "| a             |     6 |\n",
        "+---------------+-------+\n",
        "+----------------+-------+\n",
        "| Screen Name    | Count |\n",
        "+----------------+-------+\n",
        "| LAVOZcomar     |     4 |\n",
        "| CFKArgentina   |     1 |\n",
        "| teleSURtv      |     1 |\n",
        "| JFLopezTucuman |     1 |\n",
        "| luck_loce      |     1 |\n",
        "| lallypaz26     |     1 |\n",
        "| Simon__Templar |     1 |\n",
        "| diariohoynet   |     1 |\n",
        "+----------------+-------+\n",
        "+--------------------+-------+\n",
        "| Hashtag            | Count |\n",
        "+--------------------+-------+\n",
        "| CFKArgentina       |    11 |\n",
        "| CFKargentina       |     7 |\n",
        "| cfkArgentina       |     3 |\n",
        "| economia           |     2 |\n",
        "| DeLaRuina          |     2 |\n",
        "| CrisFlojaDePapeles |     2 |\n",
        "| cfkargentina       |     2 |\n",
        "| Pueblo             |     2 |\n",
        "| modelo             |     2 |\n",
        "| Argentinos         |     2 |\n",
        "+--------------------+-------+\n"
       ]
      }
     ],
     "prompt_number": 19
    },
    {
     "cell_type": "markdown",
     "metadata": {},
     "source": [
      "## Example 9. Calculating lexical diversity for tweets"
     ]
    },
    {
     "cell_type": "code",
     "collapsed": false,
     "input": [
      "# A function for computing lexical diversity\n",
      "def lexical_diversity(tokens):\n",
      "    return 1.0*len(set(tokens))/len(tokens) \n",
      "\n",
      "# A function for computing the average number of words per tweet\n",
      "def average_words(statuses):\n",
      "    total_words = sum([ len(s.split()) for s in statuses ]) \n",
      "    return 1.0*total_words/len(statuses)\n",
      "\n",
      "print lexical_diversity(words)\n",
      "print lexical_diversity(screen_names)\n",
      "print lexical_diversity(hashtags)\n",
      "print average_words(status_texts)"
     ],
     "language": "python",
     "metadata": {},
     "outputs": [
      {
       "output_type": "stream",
       "stream": "stdout",
       "text": [
        "0.570570570571\n",
        "0.727272727273\n",
        "0.590163934426\n",
        "14.4782608696\n"
       ]
      }
     ],
     "prompt_number": 20
    },
    {
     "cell_type": "markdown",
     "metadata": {},
     "source": [
      "## Example 10. Finding the most popular retweets"
     ]
    },
    {
     "cell_type": "code",
     "collapsed": false,
     "input": [
      "retweets = [\n",
      "            # Store out a tuple of these three values ...\n",
      "            (status['retweet_count'], \n",
      "             status['retweeted_status']['user']['screen_name'],\n",
      "             status['text']) \n",
      "            \n",
      "            # ... for each status ...\n",
      "            for status in statuses \n",
      "            \n",
      "            # ... so long as the status meets this condition.\n",
      "                if status.has_key('retweeted_status')\n",
      "           ]\n",
      "\n",
      "# Slice off the first 5 from the sorted results and display each item in the tuple\n",
      "\n",
      "pt = PrettyTable(field_names=['Count', 'Screen Name', 'Text'])\n",
      "[ pt.add_row(row) for row in sorted(retweets, reverse=True)[:5] ]\n",
      "pt.max_width['Text'] = 50\n",
      "pt.align= 'l'\n",
      "print pt"
     ],
     "language": "python",
     "metadata": {},
     "outputs": [
      {
       "output_type": "stream",
       "stream": "stdout",
       "text": [
        "+-------+----------------+----------------------------------------------------+\n",
        "| Count | Screen Name    | Text                                               |\n",
        "+-------+----------------+----------------------------------------------------+\n",
        "| 2     | LAVOZcomar     | RT @LAVOZcomar: URGENTE. #CFKargentina recibi\u00f3 el  |\n",
        "|       |                | alta m\u00e9dica http://t.co/YlYOVK4EiY                 |\n",
        "| 2     | LAVOZcomar     | RT @LAVOZcomar: URGENTE. #CFKargentina recibi\u00f3 el  |\n",
        "|       |                | alta m\u00e9dica http://t.co/YlYOVK4EiY                 |\n",
        "| 1     | luck_loce      | RT @luck_loce: Este modelo econ\u00f3mico lo unico que  |\n",
        "|       |                | hace es que ma\u00f1ana te arrepientas de no haber      |\n",
        "|       |                | gastado la plata hoy #economia #CFKArgentin\u2026       |\n",
        "| 1     | lallypaz26     | RT @lallypaz26: Mientras la ignorancia nos lleva   |\n",
        "|       |                | al caos,la educaci\u00f3n y el conocimiento siempre     |\n",
        "|       |                | nos lleva al orden,Sra #CFKArgentina http:\u2026        |\n",
        "| 1     | Simon__Templar | RT @Simon__Templar: #CrisFlojaDePapeles            |\n",
        "|       |                | #Argentinos somos #Pueblo y estamos siendo         |\n",
        "|       |                | demasiados permisivos, que se vaya #CFKArgentina   |\n",
        "|       |                | como d\u2026                                            |\n",
        "+-------+----------------+----------------------------------------------------+\n"
       ]
      }
     ],
     "prompt_number": 21
    },
    {
     "cell_type": "markdown",
     "metadata": {},
     "source": [
      "## Example 11. Looking up users who have retweeted a status"
     ]
    },
    {
     "cell_type": "code",
     "collapsed": false,
     "input": [
      "# Get the original tweet id for a tweet from its retweeted_status node \n",
      "# and insert it here in place of the sample value that is provided\n",
      "# from the text of the book\n",
      "\n",
      "_retweets = twitter_api.statuses.retweets(id=532579319025909760)\n",
      "print [r['user']['screen_name'] for r in _retweets]"
     ],
     "language": "python",
     "metadata": {},
     "outputs": [
      {
       "output_type": "stream",
       "stream": "stdout",
       "text": [
        "[]\n"
       ]
      }
     ],
     "prompt_number": 25
    },
    {
     "cell_type": "code",
     "collapsed": false,
     "input": [
      "import matplotlib.pyplot as plt\n",
      "\n",
      "%matplotlib inline\n",
      "\n",
      "word_counts = sorted(Counter(words).values(), reverse=True)\n",
      "\n",
      "plt.loglog(word_counts)\n",
      "plt.ylabel(\"Freq\")\n",
      "plt.xlabel(\"Word Rank\")"
     ],
     "language": "python",
     "metadata": {},
     "outputs": [
      {
       "metadata": {},
       "output_type": "pyout",
       "prompt_number": 27,
       "text": [
        "<matplotlib.text.Text at 0x3db0d10>"
       ]
      },
      {
       "metadata": {},
       "output_type": "display_data",
       "png": "[encoded data removed]",
       "text": [
        "<matplotlib.figure.Figure at 0x3d9dfd0>"
       ]
      }
     ],
     "prompt_number": 27
    },
    {
     "cell_type": "markdown",
     "metadata": {},
     "source": [
      "## Example 13. Generating histograms of words, screen names, and hashtags"
     ]
    },
    {
     "cell_type": "code",
     "collapsed": false,
     "input": [
      "for label, data in (('Words', words), \n",
      "                    ('Screen Names', screen_names), \n",
      "                    ('Hashtags', hashtags)):\n",
      "\n",
      "    # Build a frequency map for each set of data\n",
      "    # and plot the values\n",
      "    c = Counter(data)\n",
      "    plt.hist(c.values())\n",
      "    \n",
      "    # Add a title and y-label ...\n",
      "    plt.title(label)\n",
      "    plt.ylabel(\"Number of items in bin\")\n",
      "    plt.xlabel(\"Bins (number of times an item appeared)\")\n",
      "    \n",
      "    # ... and display as a new figure\n",
      "    plt.figure()"
     ],
     "language": "python",
     "metadata": {},
     "outputs": [
      {
       "metadata": {},
       "output_type": "display_data",
       "png": "[encoded data removed]",
       "text": [
        "<matplotlib.figure.Figure at 0x7f85eceed0d0>"
       ]
      },
      {
       "metadata": {},
       "output_type": "display_data",
       "png": "[encoded data removed]",
       "text": [
        "<matplotlib.figure.Figure at 0x7f85ed317c10>"
       ]
      },
      {
       "metadata": {},
       "output_type": "display_data",
       "png": "[encoded data removed]",
       "text": [
        "<matplotlib.figure.Figure at 0x7f85ecf7de50>"
       ]
      },
      {
       "metadata": {},
       "output_type": "display_data",
       "text": [
        "<matplotlib.figure.Figure at 0x7f85ed7e3990>"
       ]
      }
     ],
     "prompt_number": 28
    },
    {
     "cell_type": "markdown",
     "metadata": {},
     "source": [
      "## Example 14. Generating a histogram of retweet counts"
     ]
    },
    {
     "cell_type": "code",
     "collapsed": false,
     "input": [
      "# Using underscores while unpacking values in\n",
      "# a tuple is idiomatic for discarding them\n",
      "\n",
      "counts = [count for count, _, _ in retweets]\n",
      "\n",
      "plt.hist(counts)\n",
      "plt.title(\"Retweets\")\n",
      "plt.xlabel('Bins (number of times retweeted)')\n",
      "plt.ylabel('Number of tweets in bin')\n",
      "\n",
      "print counts"
     ],
     "language": "python",
     "metadata": {},
     "outputs": [
      {
       "output_type": "stream",
       "stream": "stdout",
       "text": [
        "[1, 1, 1, 2, 2, 1]\n"
       ]
      },
      {
       "metadata": {},
       "output_type": "display_data",
       "png": "[encoded data removed]",
       "text": [
        "<matplotlib.figure.Figure at 0x7f85ecee7990>"
       ]
      }
     ],
     "prompt_number": 29
    },
    {
     "cell_type": "code",
     "collapsed": false,
     "input": [
      "import numpy as np\n",
      "\n",
      "# Using underscores while unpacking values in\n",
      "# a tuple is idiomatic for discarding them\n",
      "\n",
      "counts = [count for count, _, _ in retweets]\n",
      "\n",
      "# Taking the log of the *data values* themselves can \n",
      "# often provide quick and valuable insight into the\n",
      "# underlying distribution as well. Try it back on\n",
      "# Example 13 and see if it helps.\n",
      "\n",
      "plt.hist(np.log(counts))\n",
      "plt.title(\"Retweets\")\n",
      "plt.xlabel('Log[Bins (number of times retweeted)]')\n",
      "plt.ylabel('Log[Number of tweets in bin]')\n",
      "\n",
      "print np.log(counts)\n"
     ],
     "language": "python",
     "metadata": {},
     "outputs": [
      {
       "output_type": "stream",
       "stream": "stdout",
       "text": [
        "[ 0.          0.          0.          0.69314718  0.69314718  0.        ]\n"
       ]
      },
      {
       "metadata": {},
       "output_type": "display_data",
       "png": "[encoded data removed]",
       "text": [
        "<matplotlib.figure.Figure at 0x7f85eda5c250>"
       ]
      }
     ],
     "prompt_number": 32
    },
    {
     "cell_type": "markdown",
     "metadata": {},
     "source": [
      "## Example 14. Finding users who have retweeted a status\n",
      "### Ver [link](http://nbviewer.ipython.org/github/ptwobrussell/Mining-the-Social-Web-2nd-Edition/blob/master/ipynb/Chapter%209%20-%20Twitter%20Cookbook.ipynb)"
     ]
    },
    {
     "cell_type": "code",
     "collapsed": false,
     "input": [
      "tw_id = 532654016761958401\n",
      "print \"\"\"User IDs for retweeters of a tweet by @CFKArgentina\"\"\"\n",
      "\n",
      "\n",
      "print twitter_api.statuses.retweeters.ids(_id=tw_id)['ids']\n",
      "print json.dumps(twitter_api.statuses.show(_id=tw_id), indent=1)\n",
      "print\n"
     ],
     "language": "python",
     "metadata": {},
     "outputs": [
      {
       "output_type": "stream",
       "stream": "stdout",
       "text": [
        "User IDs for retweeters of a tweet by @CFKArgentina\n",
        "[173531098, 1703035687, 1362904952, 424609638, 2198476576, 334949540, 1644341802, 926646896, 2509807384, 2167417710, 1547353945, 197062960, 2330723140, 2336865151, 2209529031, 159844494, 2234891522, 1184052510, 1647780650, 485262451, 300994773, 138387736, 168647799, 2160178505, 63511700, 2233531986, 1363556624, 282775869, 142410277, 301516157, 2348594450, 2394936960, 923856511, 193311618, 158823403, 188569166, 2448657036, 410950278, 2675539453, 231409525, 298887763, 186670739, 260811642, 970777200, 2439043328, 88823330, 419968309, 306539529, 88040551, 517141408, 2869413783, 171527079, 208649322, 187066458, 2718064379, 2828126911, 2324882197, 465625388, 224073436, 2855661256, 716756136, 280699172, 149238850, 189394273, 212046112, 146706743, 2668661643, 1589724145, 270206846]"
       ]
      },
      {
       "output_type": "stream",
       "stream": "stdout",
       "text": [
        "\n",
        "{\n",
        " \"favorited\": false, \n",
        " \"contributors\": null, \n",
        " \"truncated\": false, \n",
        " \"text\": \"... y evitar cualquier posibilidad de divisi\\u00f3n entre pa\\u00edses hermanos. @MRECIC_ARG http://t.co/9yaioqjtbB\", \n",
        " \"possibly_sensitive\": false, \n",
        " \"in_reply_to_status_id\": null, \n",
        " \"user\": {\n",
        "  \"follow_request_sent\": false, \n",
        "  \"profile_use_background_image\": true, \n",
        "  \"profile_text_color\": \"BE14C7\", \n",
        "  \"default_profile_image\": false, \n",
        "  \"id\": 138814032, \n",
        "  \"profile_background_image_url_https\": \"https://pbs.twimg.com/profile_background_images/451883350710444032/u804MC79.jpeg\", \n",
        "  \"verified\": true, \n",
        "  \"profile_location\": null, \n",
        "  \"profile_image_url_https\": \"https://pbs.twimg.com/profile_images/1112014698/foto6-3.jpg_1__normal.jpg\", \n",
        "  \"profile_sidebar_fill_color\": \"E4EBF2\", \n",
        "  \"entities\": {\n",
        "   \"url\": {\n",
        "    \"urls\": [\n",
        "     {\n",
        "      \"url\": \"http://t.co/RezzQMyuLH\", \n",
        "      \"indices\": [\n",
        "       0, \n",
        "       22\n",
        "      ], \n",
        "      \"expanded_url\": \"http://www.cfkargentina.com\", \n",
        "      \"display_url\": \"cfkargentina.com\"\n",
        "     }\n",
        "    ]\n",
        "   }, \n",
        "   \"description\": {\n",
        "    \"urls\": [\n",
        "     {\n",
        "      \"url\": \"http://t.co/nipyQapCd6\", \n",
        "      \"indices\": [\n",
        "       80, \n",
        "       102\n",
        "      ], \n",
        "      \"expanded_url\": \"http://www.facebook.com/CFKArgentina\", \n",
        "      \"display_url\": \"facebook.com/CFKArgentina\"\n",
        "     }\n",
        "    ]\n",
        "   }\n",
        "  }, \n",
        "  \"followers_count\": 3314613, \n",
        "  \"profile_sidebar_border_color\": \"FFFFFF\", \n",
        "  \"id_str\": \"138814032\", \n",
        "  \"profile_background_color\": \"AB48F2\", \n",
        "  \"listed_count\": 14274, \n",
        "  \"is_translation_enabled\": true, \n",
        "  \"utc_offset\": -10800, \n",
        "  \"statuses_count\": 6437, \n",
        "  \"description\": \"Cristina Fern\\u00e1ndez de Kirchner, Presidenta de la Naci\\u00f3n Argentina. En facebook: http://t.co/nipyQapCd6\", \n",
        "  \"friends_count\": 87, \n",
        "  \"location\": \"Argentina\", \n",
        "  \"profile_link_color\": \"007BFF\", \n",
        "  \"profile_image_url\": \"http://pbs.twimg.com/profile_images/1112014698/foto6-3.jpg_1__normal.jpg\", \n",
        "  \"following\": true, \n",
        "  \"geo_enabled\": false, \n",
        "  \"profile_banner_url\": \"https://pbs.twimg.com/profile_banners/138814032/1403635363\", \n",
        "  \"profile_background_image_url\": \"http://pbs.twimg.com/profile_background_images/451883350710444032/u804MC79.jpeg\", \n",
        "  \"name\": \"Cristina Kirchner\", \n",
        "  \"lang\": \"es\", \n",
        "  \"profile_background_tile\": false, \n",
        "  \"favourites_count\": 1, \n",
        "  \"screen_name\": \"CFKArgentina\", \n",
        "  \"notifications\": false, \n",
        "  \"url\": \"http://t.co/RezzQMyuLH\", \n",
        "  \"created_at\": \"Fri Apr 30 17:36:51 +0000 2010\", \n",
        "  \"contributors_enabled\": false, \n",
        "  \"time_zone\": \"Buenos Aires\", \n",
        "  \"protected\": false, \n",
        "  \"default_profile\": false, \n",
        "  \"is_translator\": false\n",
        " }, \n",
        " \"geo\": null, \n",
        " \"id\": 532654016761958401, \n",
        " \"favorite_count\": 69, \n",
        " \"lang\": \"es\", \n",
        " \"entities\": {\n",
        "  \"symbols\": [], \n",
        "  \"user_mentions\": [\n",
        "   {\n",
        "    \"id\": 171650522, \n",
        "    \"indices\": [\n",
        "     70, \n",
        "     81\n",
        "    ], \n",
        "    \"id_str\": \"171650522\", \n",
        "    \"screen_name\": \"MRECIC_ARG\", \n",
        "    \"name\": \"CancilleriaArgentina\"\n",
        "   }\n",
        "  ], \n",
        "  \"hashtags\": [], \n",
        "  \"urls\": [\n",
        "   {\n",
        "    \"url\": \"http://t.co/9yaioqjtbB\", \n",
        "    \"indices\": [\n",
        "     82, \n",
        "     104\n",
        "    ], \n",
        "    \"expanded_url\": \"http://www.cfkargentina.com/retiro-de-la-candidatura-de-la-embajadora-susana-ruiz-cerutti-a-la-corte-internacional-de-justicia/\", \n",
        "    \"display_url\": \"cfkargentina.com/retiro-de-la-c\\u2026\"\n",
        "   }\n",
        "  ]\n",
        " }, \n",
        " \"created_at\": \"Wed Nov 12 21:59:48 +0000 2014\", \n",
        " \"retweeted\": false, \n",
        " \"coordinates\": null, \n",
        " \"in_reply_to_user_id_str\": null, \n",
        " \"source\": \"<a href=\\\"http://twitter.com\\\" rel=\\\"nofollow\\\">Twitter Web Client</a>\", \n",
        " \"in_reply_to_status_id_str\": null, \n",
        " \"in_reply_to_screen_name\": null, \n",
        " \"id_str\": \"532654016761958401\", \n",
        " \"place\": null, \n",
        " \"retweet_count\": 70, \n",
        " \"in_reply_to_user_id\": null\n",
        "}"
       ]
      },
      {
       "output_type": "stream",
       "stream": "stdout",
       "text": [
        "\n",
        "\n"
       ]
      }
     ],
     "prompt_number": 39
    },
    {
     "cell_type": "code",
     "collapsed": false,
     "input": [],
     "language": "python",
     "metadata": {},
     "outputs": []
    }
   ],
   "metadata": {}
  }
 ]
}