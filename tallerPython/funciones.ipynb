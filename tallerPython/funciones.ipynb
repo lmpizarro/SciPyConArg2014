{
 "cells": [
  {
   "cell_type": "markdown",
   "metadata": {},
   "source": [
    "# Funciones"
   ]
  },
  {
   "cell_type": "code",
   "execution_count": 12,
   "metadata": {
    "collapsed": false
   },
   "outputs": [
    {
     "name": "stdout",
     "output_type": "stream",
     "text": [
      "<class 'numpy.ndarray'> (1000,)\n",
      "<class 'numpy.ndarray'> (100, 100)\n",
      "0 llamando a funciones\n",
      "1 llamando a funciones\n",
      "2 llamando a funciones\n"
     ]
    }
   ],
   "source": [
    "import numpy as np\n",
    "\n",
    "def print_info(a):\n",
    "    print (type(a), a.shape)\n",
    "\n",
    "# pasando un argumento sin valor iniciar\n",
    "#\n",
    "# n: es entero \n",
    "# init0: retorna un array numpy con n 1\n",
    "def init0 (n):\n",
    "    return(np.ones(n))\n",
    "\n",
    "# Argumentos con valores por omisión\n",
    "def init(w, h=100, i=255, ismatrix=True):\n",
    "    a = i * np.ones(w * h)\n",
    "    if ismatrix is True:\n",
    "        a = a.reshape(w, h)\n",
    "    return(a)\n",
    "\n",
    "a = init0(1000)\n",
    "print_info(a)\n",
    "\n",
    "b = init(100, i=20)\n",
    "print_info(b)\n",
    "\n",
    "##############################\n",
    "\n",
    "\n",
    "#\n",
    "# Función que acepta como parámetro a una\n",
    "# función y sus parámetros\n",
    "#\n",
    "def f3(n):\n",
    "    for i in range(n):\n",
    "        print(i, \"llamando a funciones\")\n",
    "    \n",
    "def func(paramfunc=f3, params=3):\n",
    "    f3(params)  \n",
    "\n",
    "func()\n"
   ]
  },
  {
   "cell_type": "markdown",
   "metadata": {},
   "source": [
    "## Lista de argumentos *args y **kwargs"
   ]
  },
  {
   "cell_type": "code",
   "execution_count": 9,
   "metadata": {
    "collapsed": false
   },
   "outputs": [
    {
     "name": "stdout",
     "output_type": "stream",
     "text": [
      "first normal arg: yasoob\n",
      "another arg through *argv : python\n",
      "another arg through *argv : eggs\n",
      "another arg through *argv : test\n"
     ]
    }
   ],
   "source": [
    "#\n",
    "# *args, lista de argumentos sin clave\n",
    "#\n",
    "def test_var_args(f_arg, *argv):\n",
    "    print (\"first normal arg:\", f_arg)\n",
    "    for arg in argv:\n",
    "        print(\"another arg through *argv :\", arg)\n",
    "\n",
    "test_var_args('yasoob','python','eggs','test')"
   ]
  },
  {
   "cell_type": "code",
   "execution_count": 10,
   "metadata": {
    "collapsed": false
   },
   "outputs": [
    {
     "name": "stdout",
     "output_type": "stream",
     "text": [
      "{'age': 45, 'name': 'yasoob'}\n",
      "age == 45\n",
      "name == yasoob\n",
      "name:  yasoob\n",
      "age:  45\n"
     ]
    }
   ],
   "source": [
    "#\n",
    "# **kwars, lista de argumentos con clave\n",
    "#\n",
    "\n",
    "def greet_me(**kwargs):\n",
    "    if kwargs is not None:\n",
    "        print (kwargs)\n",
    "        for key, value in kwargs.items():\n",
    "            print (\"%s == %s\" %(key,value))\n",
    "\n",
    "    if 'name' in kwargs.keys():\n",
    "       print ('name: ', kwargs['name'])\n",
    "\n",
    "\n",
    "    if 'age' in kwargs.keys():\n",
    "       print ('age: ', kwargs['age'])\n",
    "\n",
    "\n",
    "greet_me(name=\"yasoob\", age= 45)"
   ]
  },
  {
   "cell_type": "code",
   "execution_count": 13,
   "metadata": {
    "collapsed": false
   },
   "outputs": [
    {
     "name": "stdout",
     "output_type": "stream",
     "text": [
      "a:  1\n",
      "1\n",
      "1\n",
      "2\n",
      "v2 3\n",
      "v1 1\n",
      "5\n",
      "a:  1\n",
      "args:----  6\n",
      "1\n",
      "2\n",
      "3\n",
      "4\n",
      "5\n",
      "v2 6\n",
      "v1 2\n",
      "{'v2': 6, 'v1': 4}\n"
     ]
    }
   ],
   "source": [
    "# pasar lista y diccionario como\n",
    "# argumento posicional\n",
    "def f1(a, argl, argk):\n",
    "    print(\"a: \", a)\n",
    "  \n",
    "    for e in argl:\n",
    "        print(e)\n",
    "    \n",
    "    for (k,v) in argk.items():\n",
    "        print(k,v)\n",
    "    \n",
    "    argk[\"v1\"] *= 5\n",
    "    return argk[\"v1\"] \n",
    "\n",
    "c = f1(1, [1,1,2], {\"v1\":1, \"v2\":3})\n",
    "print(c)\n",
    "\n",
    "########################\n",
    "\n",
    "# pasar lista y diccionario como\n",
    "# lista de parámetros\n",
    "def f2(a, *args):\n",
    "    print(\"a: \", a)\n",
    "    print(\"args:---- \", args[1][\"v2\"]) \n",
    "     \n",
    "    \n",
    "    for a in args[0]:\n",
    "        print (a)\n",
    "        \n",
    "    for (k,v) in args[1].items():\n",
    "        print (k,v)\n",
    "        \n",
    "    args[1][\"v1\"] = args[1][\"v1\"] + args[0][1] \n",
    "    \n",
    "    return args[1]\n",
    "\n",
    "dict = {\"v1\": 2, \"v2\":6}\n",
    "\n",
    "d = f2(1, [1,2,3,4,5], dict)\n",
    "print(d)\n"
   ]
  },
  {
   "cell_type": "markdown",
   "metadata": {},
   "source": [
    "# Más sobre funciones"
   ]
  },
  {
   "cell_type": "code",
   "execution_count": 14,
   "metadata": {
    "collapsed": false
   },
   "outputs": [
    {
     "name": "stdout",
     "output_type": "stream",
     "text": [
      "hello John\n"
     ]
    }
   ],
   "source": [
    "# Las funciones son objetos\n",
    "\n",
    "def greet1(name):\n",
    "    return \"hello \" + name\n",
    "\n",
    "# asignar funciones a variables\n",
    "greet_someone = greet1\n",
    "print (greet_someone(\"John\"))"
   ]
  },
  {
   "cell_type": "code",
   "execution_count": 15,
   "metadata": {
    "collapsed": false
   },
   "outputs": [
    {
     "name": "stdout",
     "output_type": "stream",
     "text": [
      "Hello John\n"
     ]
    }
   ],
   "source": [
    "#definir funciones dentro de funciones\n",
    "\n",
    "def greet2(name):\n",
    "    \n",
    "    def get_message():\n",
    "        return \"Hello \"\n",
    "\n",
    "    result = get_message() + name\n",
    "    return result\n",
    "\n",
    "print (greet2(\"John\"))"
   ]
  },
  {
   "cell_type": "code",
   "execution_count": 16,
   "metadata": {
    "collapsed": false
   },
   "outputs": [
    {
     "name": "stdout",
     "output_type": "stream",
     "text": [
      "Hello John\n"
     ]
    }
   ],
   "source": [
    "#Las funciones pueden ser pasadas como \n",
    "#parámetros a otras funciones\n",
    "\n",
    "def greet3(name):\n",
    "   return \"Hello \" + name\n",
    "\n",
    "def call_func(func):\n",
    "    other_name = \"John\"\n",
    "    return func(other_name)\n",
    "\n",
    "print (call_func(greet3))"
   ]
  },
  {
   "cell_type": "code",
   "execution_count": 17,
   "metadata": {
    "collapsed": false
   },
   "outputs": [
    {
     "name": "stdout",
     "output_type": "stream",
     "text": [
      "Hello there!\n"
     ]
    }
   ],
   "source": [
    "# Las funciones pueden retornar otras funciones\n",
    "\n",
    "def compose_greet_func():\n",
    "    def get_message():\n",
    "        return \"Hello there!\"\n",
    "\n",
    "    return get_message\n",
    "\n",
    "greet = compose_greet_func()\n",
    "# greet es una función\n",
    "print (greet())"
   ]
  },
  {
   "cell_type": "code",
   "execution_count": 18,
   "metadata": {
    "collapsed": false
   },
   "outputs": [
    {
     "name": "stdout",
     "output_type": "stream",
     "text": [
      "*** -- Hello there John!\n"
     ]
    }
   ],
   "source": [
    "# las funciones internas a las funciones\n",
    "# tienen acceso al alcance interno\n",
    "\n",
    "def compose_greet_func(name):\n",
    "    b = \"***\"\n",
    "    def func1 ():\n",
    "        return b + \" -- \"\n",
    "    def get_message():\n",
    "        a = func1()\n",
    "        return a + \"Hello there \"+name+\"!\"\n",
    "\n",
    "    return get_message\n",
    "\n",
    "greet = compose_greet_func(\"John\")\n",
    "print (greet())"
   ]
  },
  {
   "cell_type": "markdown",
   "metadata": {},
   "source": [
    "## Decoradores [link](http://thecodeship.com/patterns/guide-to-python-function-decorators/)"
   ]
  },
  {
   "cell_type": "code",
   "execution_count": 19,
   "metadata": {
    "collapsed": false
   },
   "outputs": [
    {
     "name": "stdout",
     "output_type": "stream",
     "text": [
      "<p>lorem ipsum, John dolor sit amet</p>\n"
     ]
    }
   ],
   "source": [
    "#\n",
    "# Decoradores\n",
    "#\n",
    "def get_text(name):\n",
    "   return \"lorem ipsum, {0} dolor sit amet\".format(name)\n",
    "\n",
    "def p_decorate(func):\n",
    "   def func_wrapper(name):\n",
    "       return \"<p>{0}</p>\".format(func(name))\n",
    "   return func_wrapper\n",
    "\n",
    "# Un decorador\n",
    "my_get_text = p_decorate(get_text)\n",
    "\n",
    "print (my_get_text(\"John\"))"
   ]
  },
  {
   "cell_type": "code",
   "execution_count": 20,
   "metadata": {
    "collapsed": false
   },
   "outputs": [
    {
     "name": "stdout",
     "output_type": "stream",
     "text": [
      "<p>lorem ipsum, John dolor sit amet</p>\n"
     ]
    }
   ],
   "source": [
    "#\n",
    "#  Sintáxis para decoradores en python\n",
    "#\n",
    "def p_decorate1(func):\n",
    "   def func_wrapper(name):\n",
    "       return \"<p>{0}</p>\".format(func(name))\n",
    "   return func_wrapper\n",
    "\n",
    "@p_decorate1\n",
    "def get_text2(name):\n",
    "   return \"lorem ipsum, {0} dolor sit amet\".format(name)\n",
    "\n",
    "print (get_text2(\"John\"))"
   ]
  },
  {
   "cell_type": "code",
   "execution_count": 21,
   "metadata": {
    "collapsed": false
   },
   "outputs": [
    {
     "name": "stdout",
     "output_type": "stream",
     "text": [
      "Ejemplo de 3 decoradores\n",
      "<div><p><strong>lorem ipsum, John dolor sit amet</strong></p></div>\n"
     ]
    }
   ],
   "source": [
    "#\n",
    "# Ejemplo de aplicar 3 decoradores \n",
    "#\n",
    "\n",
    "def p_decorate2(func):\n",
    "   def func_wrapper(name):\n",
    "       return \"<p>{0}</p>\".format(func(name))\n",
    "   return func_wrapper\n",
    "\n",
    "def strong_decorate(func):\n",
    "    def func_wrapper(name):\n",
    "        return \"<strong>{0}</strong>\".format(func(name))\n",
    "    return func_wrapper\n",
    "\n",
    "def div_decorate(func):\n",
    "    def func_wrapper(name):\n",
    "        return \"<div>{0}</div>\".format(func(name))\n",
    "    return func_wrapper\n",
    "\n",
    "\n",
    "@div_decorate\n",
    "@p_decorate2\n",
    "@strong_decorate\n",
    "def get_text3(name):\n",
    "   return \"lorem ipsum, {0} dolor sit amet\".format(name)\n",
    "\n",
    "print (\"Ejemplo de 3 decoradores\")\n",
    "\n",
    "print (get_text3(\"John\"))"
   ]
  },
  {
   "cell_type": "code",
   "execution_count": 22,
   "metadata": {
    "collapsed": false
   },
   "outputs": [
    {
     "name": "stdout",
     "output_type": "stream",
     "text": [
      "Ejemplo con clase\n",
      "<p>John Doe</p>\n"
     ]
    }
   ],
   "source": [
    "#\n",
    "# métodos decoradores\n",
    "# en python los métodos son funciones en el que primer\n",
    "# parámetro es una referencia al primer objeto\n",
    "#\n",
    "\n",
    "def p_decorate3(func):\n",
    "   def func_wrapper(self):\n",
    "       return \"<p>{0}</p>\".format(func(self))\n",
    "   return func_wrapper\n",
    "\n",
    "class Person(object):\n",
    "    def __init__(self):\n",
    "        self.name = \"John\"\n",
    "        self.family = \"Doe\"\n",
    "\n",
    "    @p_decorate3\n",
    "    def get_fullname(self):\n",
    "        return self.name+\" \"+self.family\n",
    "\n",
    "print (\"Ejemplo con clase\")\n",
    "\n",
    "my_person = Person()\n",
    "print (my_person.get_fullname())"
   ]
  },
  {
   "cell_type": "markdown",
   "metadata": {},
   "source": [
    "## Variables locales y globales  más [acá](http://www.python-course.eu/global_vs_local_variables.php)\n"
   ]
  },
  {
   "cell_type": "code",
   "execution_count": 3,
   "metadata": {
    "collapsed": false
   },
   "outputs": [
    {
     "name": "stdout",
     "output_type": "stream",
     "text": [
      "Hola mundo, global!\n",
      "Hola mundo, global!\n"
     ]
    }
   ],
   "source": [
    "def f():\n",
    "    # esto va bien\n",
    "    # s = \"cambio s dentro de la función\"\n",
    "    print(s)\n",
    "    # esto da un error\n",
    "    # s = \"cambio s dentro de la función\"\n",
    "    \n",
    "# definida s antes de llamara la función f()\n",
    "s = \"Hola mundo, global!\"\n",
    "f()\n",
    "print(s)"
   ]
  },
  {
   "cell_type": "code",
   "execution_count": 4,
   "metadata": {
    "collapsed": false
   },
   "outputs": [
    {
     "ename": "UnboundLocalError",
     "evalue": "local variable 's' referenced before assignment",
     "output_type": "error",
     "traceback": [
      "\u001b[1;31m---------------------------------------------------------------------------\u001b[0m",
      "\u001b[1;31mUnboundLocalError\u001b[0m                         Traceback (most recent call last)",
      "\u001b[1;32m<ipython-input-4-ef6eba3cae26>\u001b[0m in \u001b[0;36m<module>\u001b[1;34m()\u001b[0m\n\u001b[0;32m      8\u001b[0m \u001b[1;33m\u001b[0m\u001b[0m\n\u001b[0;32m      9\u001b[0m \u001b[0ms\u001b[0m \u001b[1;33m=\u001b[0m \u001b[1;34m\"Hola mundo global\"\u001b[0m\u001b[1;33m\u001b[0m\u001b[0m\n\u001b[1;32m---> 10\u001b[1;33m \u001b[0mf\u001b[0m\u001b[1;33m(\u001b[0m\u001b[1;33m)\u001b[0m\u001b[1;33m\u001b[0m\u001b[0m\n\u001b[0m\u001b[0;32m     11\u001b[0m \u001b[0mprint\u001b[0m \u001b[1;33m(\u001b[0m\u001b[0ms\u001b[0m\u001b[1;33m)\u001b[0m\u001b[1;33m\u001b[0m\u001b[0m\n\u001b[0;32m     12\u001b[0m \u001b[1;33m\u001b[0m\u001b[0m\n",
      "\u001b[1;32m<ipython-input-4-ef6eba3cae26>\u001b[0m in \u001b[0;36mf\u001b[1;34m()\u001b[0m\n\u001b[0;32m      2\u001b[0m \u001b[1;33m\u001b[0m\u001b[0m\n\u001b[0;32m      3\u001b[0m \u001b[1;32mdef\u001b[0m \u001b[0mf\u001b[0m\u001b[1;33m(\u001b[0m\u001b[1;33m)\u001b[0m\u001b[1;33m:\u001b[0m\u001b[1;33m\u001b[0m\u001b[0m\n\u001b[1;32m----> 4\u001b[1;33m     \u001b[0mprint\u001b[0m \u001b[1;33m(\u001b[0m\u001b[0ms\u001b[0m\u001b[1;33m)\u001b[0m\u001b[1;33m\u001b[0m\u001b[0m\n\u001b[0m\u001b[0;32m      5\u001b[0m     \u001b[0ms\u001b[0m \u001b[1;33m=\u001b[0m \u001b[1;34m\"Cambiando s\"\u001b[0m\u001b[1;33m\u001b[0m\u001b[0m\n\u001b[0;32m      6\u001b[0m     \u001b[0mprint\u001b[0m \u001b[1;33m(\u001b[0m\u001b[0ms\u001b[0m\u001b[1;33m)\u001b[0m\u001b[1;33m\u001b[0m\u001b[0m\n",
      "\u001b[1;31mUnboundLocalError\u001b[0m: local variable 's' referenced before assignment"
     ]
    }
   ],
   "source": [
    "# Esto genera un error  ¿Por qué?\n",
    "\n",
    "def f(): \n",
    "    print (s)\n",
    "    s = \"Cambiando s\"\n",
    "    print (s)\n",
    "\n",
    "\n",
    "s = \"Hola mundo global\" \n",
    "f()\n",
    "print (s)\n",
    "\n",
    "# python espera una variable local por la asignación\n",
    "# a s que se hace dentro de la función f\n",
    "# toda variable que es creada dentro de la función\n",
    "# es local, si no se declaró global."
   ]
  },
  {
   "cell_type": "code",
   "execution_count": 5,
   "metadata": {
    "collapsed": false
   },
   "outputs": [
    {
     "name": "stdout",
     "output_type": "stream",
     "text": [
      "Hola mundo global!\n",
      "Cambiando s global\n",
      "Cambiando s global\n"
     ]
    }
   ],
   "source": [
    "# Con esto corregimos el error anterior\n",
    "# si era lo que queríamos hacer\n",
    "def f():\n",
    "    global s\n",
    "    print (s)\n",
    "    s = \"Cambiando s global\"\n",
    "    print (s) \n",
    "\n",
    "\n",
    "s = \"Hola mundo global!\" \n",
    "f()\n",
    "# el cambio de s interno a la función\n",
    "# cambia al s exterior, definido como global\n",
    "print (s)"
   ]
  },
  {
   "cell_type": "markdown",
   "metadata": {},
   "source": [
    "Las variables locales definidas dentro de las funciones no pueden ser accedidas desde el exterior. ERROR"
   ]
  },
  {
   "cell_type": "code",
   "execution_count": 6,
   "metadata": {
    "collapsed": false
   },
   "outputs": [
    {
     "name": "stdout",
     "output_type": "stream",
     "text": [
      "I am globally not known\n"
     ]
    },
    {
     "ename": "NameError",
     "evalue": "name 'ss' is not defined",
     "output_type": "error",
     "traceback": [
      "\u001b[1;31m---------------------------------------------------------------------------\u001b[0m",
      "\u001b[1;31mNameError\u001b[0m                                 Traceback (most recent call last)",
      "\u001b[1;32m<ipython-input-6-7a98fc81cb4e>\u001b[0m in \u001b[0;36m<module>\u001b[1;34m()\u001b[0m\n\u001b[0;32m      4\u001b[0m \u001b[1;33m\u001b[0m\u001b[0m\n\u001b[0;32m      5\u001b[0m \u001b[0mf\u001b[0m\u001b[1;33m(\u001b[0m\u001b[1;33m)\u001b[0m\u001b[1;33m\u001b[0m\u001b[0m\n\u001b[1;32m----> 6\u001b[1;33m \u001b[0mprint\u001b[0m\u001b[1;33m(\u001b[0m\u001b[0mss\u001b[0m\u001b[1;33m)\u001b[0m\u001b[1;33m\u001b[0m\u001b[0m\n\u001b[0m",
      "\u001b[1;31mNameError\u001b[0m: name 'ss' is not defined"
     ]
    }
   ],
   "source": [
    "def f():\n",
    "    ss = \"I am globally not known\"\n",
    "    print(ss)\n",
    "\n",
    "f()\n",
    "print(ss)\n"
   ]
  },
  {
   "cell_type": "code",
   "execution_count": 7,
   "metadata": {
    "collapsed": false
   },
   "outputs": [
    {
     "name": "stdout",
     "output_type": "stream",
     "text": [
      "10\n"
     ]
    }
   ],
   "source": [
    "#Ejemplo de uso \n",
    "\n",
    "\n",
    "aa = 20\n",
    "\n",
    "def func20():\n",
    "    print(aa)\n",
    "\n",
    "if __name__==\"__main__\" :  \n",
    "    aa = 10\n",
    "    func20() "
   ]
  },
  {
   "cell_type": "code",
   "execution_count": 8,
   "metadata": {
    "collapsed": false
   },
   "outputs": [
    {
     "name": "stdout",
     "output_type": "stream",
     "text": [
      "42 17 4 17\n",
      "42 15 3 4\n"
     ]
    }
   ],
   "source": [
    "# Otro ejemplo\n",
    "\n",
    "def foo(x, y):\n",
    "    global a\n",
    "    a = 42\n",
    "    x,y = y,x\n",
    "    b = 33\n",
    "    b = 17\n",
    "    c = 100\n",
    "    print(a,b,x,y)\n",
    "    \n",
    "if __name__==\"__main__\" : \n",
    "    a,b,x,y = 1,15,3,4\n",
    "    foo(17,4)\n",
    "    print(a,b,x,y)"
   ]
  }
 ],
 "metadata": {
  "kernelspec": {
   "display_name": "Python 3",
   "language": "python",
   "name": "python3"
  },
  "language_info": {
   "codemirror_mode": {
    "name": "ipython",
    "version": 3
   },
   "file_extension": ".py",
   "mimetype": "text/x-python",
   "name": "python",
   "nbconvert_exporter": "python",
   "pygments_lexer": "ipython3",
   "version": "3.4.3"
  }
 },
 "nbformat": 4,
 "nbformat_minor": 0
}
