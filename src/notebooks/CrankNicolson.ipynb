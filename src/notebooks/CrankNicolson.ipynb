{
 "metadata": {
  "name": "",
  "signature": "sha256:18129cfca3ff2f04f5de59a0bcde556387517a0fb00f81fb6013bc96f3b5ebff"
 },
 "nbformat": 3,
 "nbformat_minor": 0,
 "worksheets": [
  {
   "cells": [
    {
     "cell_type": "markdown",
     "metadata": {},
     "source": [
      "## El m\u00e9todo Crank-Nicolson\n",
      "\n",
      "Basado en las [notas](http://georg.io/2013/12/Crank_Nicolson/) de Georg R Walther\n",
      "\n",
      "Finite Difference and Spectral Methods for ODEs and PDEs [link](http://people.maths.ox.ac.uk/trefethen/pdetext.html)\n",
      "\n",
      "\n",
      "Num-methods-for-pdes Lecture material on numerical methods for partial differential equations.\n",
      "[link](http://hplgit.github.io/num-methods-for-PDEs/doc/web/index.html)\n",
      "\n",
      "Otras referencias [Wikipedia](http://en.wikipedia.org/wiki/Crank%E2%80%93Nicolson_method)"
     ]
    },
    {
     "cell_type": "markdown",
     "metadata": {},
     "source": [
      "### Ley de Fick\n",
      "\n",
      "###  $\\dot m = -D   \\frac {\\partial C} {\\partial x} $"
     ]
    },
    {
     "cell_type": "markdown",
     "metadata": {},
     "source": [
      "### Conservaci\u00f3n de la masa\n",
      "\n",
      "### $\\frac {\\partial \\dot m }{\\partial x} +  \\frac {\\partial C} {\\partial t}  = 0 $"
     ]
    },
    {
     "cell_type": "markdown",
     "metadata": {},
     "source": [
      " \n",
      "### La ecuaci\u00f3n de difusi\u00f3n\n",
      "\n",
      "### $$ \\frac {\\partial u} {\\partial t} = D \\frac {\\partial^2 u} {\\partial^2 x} $$ \n",
      " "
     ]
    },
    {
     "cell_type": "markdown",
     "metadata": {},
     "source": [
      "## $C(x,t)  = \\frac {M} {\\sqrt {4 \\pi D t}} \\exp\\big({-\\frac {x ^2}{4Dt}}\\big) $ para $ t >0$"
     ]
    },
    {
     "cell_type": "code",
     "collapsed": false,
     "input": [
      "import numpy as np\n",
      "import matplotlib.pyplot as plt\n",
      "from __future__ import division\n",
      "\n",
      "%matplotlib inline\n",
      "\n",
      "def concentration (x,x0,t,M,D):\n",
      "    return (M/np.sqrt(4*np.pi*t))* np.exp (-np.power(x-x0,2)/(4*D*t))\n",
      "\n",
      "Nx = 100\n",
      "L = 1 # mm\n",
      "x0 = 0\n",
      "dx = float (L) /float(Nx -1)\n",
      "M = 1; D = 1;\n",
      "x_grid = np.array([(l*dx - L/2) for l in range(Nx)])\n",
      "t_grid = np.array([.001,.005,.1,1])\n",
      "c_grid = np.zeros(x_grid.shape)\n",
      "\n",
      "for t in t_grid:\n",
      "    i = 0\n",
      "    for x in x_grid:\n",
      "        c_grid[i] = concentration(x,x0,t,M,D)\n",
      "        i+=1 \n",
      "    plt.plot(x_grid,c_grid)    "
     ],
     "language": "python",
     "metadata": {},
     "outputs": [
      {
       "metadata": {},
       "output_type": "display_data",
       "png": "[encoded data removed]",
       "text": [
        "<matplotlib.figure.Figure at 0x7f16593ff110>"
       ]
      }
     ],
     "prompt_number": 63
    },
    {
     "cell_type": "markdown",
     "metadata": {},
     "source": [
      "\n",
      " \n",
      "### La ecuaci\u00f3n de difusi\u00f3n\n",
      "\n",
      "### $$ \\frac {\\partial u} {\\partial t} = D \\frac {\\partial^2 u} {\\partial^2 x} + f(u)$$ \n",
      "$$$$\n",
      "\n",
      "### Discretizaci\u00f3n temporal\n",
      "\n",
      "###  $$t_{n} = n \\Delta t, n = 0, ... , N_{t} - 1 $$\n",
      "$$$$\n",
      "\n",
      "### Discretizaci\u00f3n espacial\n",
      "\n",
      "\n",
      "### $$x_{j} = j \\Delta x, n = 0, ... , N_{x} - 1 $$\n",
      "$$$$\n",
      "### Paso temporal\n",
      "### $$ \\Delta t = T/(N_{t} -1) $$\n",
      "$$$$\n",
      "### Paso espacial\n",
      "### $$ \\Delta x = L /(N_{x} - 1)$$\n",
      "$$$$\n",
      "\n",
      "### Aproximaci\u00f3n de la primera derivada parcial temporal\n",
      "### $$ \\frac {\\partial u} {\\partial t}\\Bigg | _{t=n \\Delta t,x=j \\Delta x} \\approx \\frac {U_{j}^{n+1} - U_{j}^{n} } {\\Delta t}$$\n",
      "$$$$\n",
      "\n",
      "### Aproximaci\u00f3n de la segunda derivada parcial espacial\n",
      "### $$ \\frac {\\partial^2 u} {\\partial^2 x} \\Bigg | _{t=n \\Delta t,x=j \\Delta x}  \\approx \\frac {1}{2 \\Delta x ^2} (U_{j+1}^{n} - 2U_{j}^{n} + U_{j-1}^{n} + U_{j+1}^{n+1} - 2U_{j}^{n+1} + U_{j-1}^{n-1})$$\n",
      "$$$$\n",
      "\n",
      "### Aproximaci\u00f3n de $f(u)$\n",
      "### $$ f(u(j \\Delta x,n \\Delta t ))  \\approx f(U_{j}^{n})$$\n",
      "$$$$\n",
      "### Sustituyendo:\n",
      "### $$ \\frac {U_{j}^{n+1} - U_{j}^{n} } {\\Delta t} = \\frac {D}{2 \\Delta x ^2} (U_{j+1}^{n} - 2U_{j}^{n} + U_{j-1}^{n} + U_{j+1}^{n+1} - 2U_{j}^{n+1} + U_{j-1}^{n-1}) + f(U_{j}^{n}) $$\n"
     ]
    },
    {
     "cell_type": "markdown",
     "metadata": {},
     "source": [
      "\n",
      "#### $L$ es la longitud del dominio espacial unidimensional, $T$    es la duraci\u00f3n de la simulaci\u00f3n, $D$ es el coeficiente de difusion, $u$ es la concentraci\u00f3n, $x$ es la variable espacial, $f$ es el t\u00e9rmino de reacci\u00f3n\n"
     ]
    },
    {
     "cell_type": "markdown",
     "metadata": {},
     "source": [
      "## Condiciones de borde\n",
      "\n",
      "### $$\\frac {\\partial u}{\\partial x } \\bigg|_{x=0} = 0$$ \n",
      "\n",
      "### $$\\frac {\\partial u}{\\partial x } \\bigg|_{x=L} = 0$$ \n",
      "\n",
      "#### Para $j = 0 $ con las identidades $U_0^n = U_{-1}^n$ y $U_0^{n+1} = U_{-1}^{n+1}$ , y para  $j=J-1$ con las identidades  $U_{J-1}^n = U_J^n$ y  $U_{J-1}^{n+1} = U_J^{n+1}$.\n",
      "\n",
      " "
     ]
    },
    {
     "cell_type": "markdown",
     "metadata": {},
     "source": [
      "$ \\sigma = \\frac{D \\Delta t}{2 \\Delta x^2} $\n",
      "\n",
      "$-\\sigma U_{j-1}^{n+1} + (1+2\\sigma) U_j^{n+1} -\\sigma U_{j+1}^{n+1} = \\sigma\n",
      "U_{j-1}^n + (1-2\\sigma) U_j^n + \\sigma U_{j+1}^n + \\Delta t f(U_j^n)$"
     ]
    },
    {
     "cell_type": "markdown",
     "metadata": {},
     "source": [
      "$ \\begin{bmatrix}\n",
      "1+\\sigma & -\\sigma & 0 & 0 & 0 & \\cdots & 0 & 0 & 0 & 0\\\\\\\\\n",
      "-\\sigma & 1+2\\sigma & -\\sigma & 0 & 0 & \\cdots & 0 & 0 & 0 & 0 \\\\\\\\\n",
      "0 & -\\sigma & 1+2\\sigma & -\\sigma & \\cdots & 0 & 0 & 0 & 0 & 0 \\\\\\\\\n",
      "0 & 0 & \\ddots & \\ddots & \\ddots & \\ddots & 0 & 0 & 0 & 0 \\\\\\\\\n",
      "0 & 0 & 0 & 0 & 0 & 0 & 0 & -\\sigma & 1+2\\sigma & -\\sigma \\\\\\\\\n",
      "0 & 0 & 0 & 0 & 0 & 0 & 0 & 0 & -\\sigma & 1+\\sigma\n",
      "\\end{bmatrix}\n",
      "\\begin{bmatrix}\n",
      "U_0^{n+1} \\\\\\\\\n",
      "U_1^{n+1} \\\\\\\\\n",
      "U_2^{n+1} \\\\\\\\\n",
      "\\vdots \\\\\\\\\n",
      "U_{J-2}^{n+1} \\\\\\\\\n",
      "U_{J-1}^{n+1}\n",
      "\\end{bmatrix} =\n",
      "\\begin{bmatrix}\n",
      "1-\\sigma & \\sigma & 0 & 0 & 0 & \\cdots & 0 & 0 & 0 & 0\\\\\\\\\n",
      "\\sigma & 1-2\\sigma & \\sigma & 0 & 0 & \\cdots & 0 & 0 & 0 & 0 \\\\\\\\\n",
      "0 & \\sigma & 1-2\\sigma & \\sigma & \\cdots & 0 & 0 & 0 & 0 & 0 \\\\\\\\\n",
      "0 & 0 & \\ddots & \\ddots & \\ddots & \\ddots & 0 & 0 & 0 & 0 \\\\\\\\\n",
      "0 & 0 & 0 & 0 & 0 & 0 & 0 & \\sigma & 1-2\\sigma & \\sigma \\\\\\\\\n",
      "0 & 0 & 0 & 0 & 0 & 0 & 0 & 0 & \\sigma & 1-\\sigma\n",
      "\\end{bmatrix}\n",
      "\\begin{bmatrix}\n",
      "U_0^{n} \\\\\\\\\n",
      "U_1^{n} \\\\\\\\\n",
      "U_2^{n} \\\\\\\\\n",
      "\\vdots \\\\\\\\\n",
      "U_{J-2}^{n} \\\\\\\\\n",
      "U_{J-1}^{n}\n",
      "\\end{bmatrix} +\n",
      "\\begin{bmatrix}\n",
      "\\Delta t f(U_0^n) \\\\\\\\\n",
      "\\Delta t f(U_1^n) \\\\\\\\\n",
      "\\Delta t f(U_2^n) \\\\\\\\\n",
      "\\vdots \\\\\\\\\n",
      "\\Delta t f(U_{J-2}^n) \\\\\\\\\n",
      "\\Delta t f(U_{J-1}^n)\n",
      "\\end{bmatrix} $"
     ]
    },
    {
     "cell_type": "markdown",
     "metadata": {},
     "source": [
      "## Specify Grid"
     ]
    },
    {
     "cell_type": "code",
     "collapsed": false,
     "input": [
      "import numpy as np\n",
      "import matplotlib.pyplot as plt\n",
      "\n",
      "%matplotlib inline\n",
      "\n",
      "np.set_printoptions(precision=3)\n",
      "\n",
      "\n",
      "Nt = 1000\n",
      "Nx = 100\n",
      "T = 200 # horas\n",
      "L = 1 # mm\n",
      "Dt = float (T) /float(Nt -1)\n",
      "Dx = float (L) /float(Nx -1)\n",
      "\n",
      "x_grid = np.array([l*Dx for l in range(Nx)])\n",
      "t_grid = np.array([n*Dt for n in range(Nt)])"
     ],
     "language": "python",
     "metadata": {},
     "outputs": [],
     "prompt_number": 3
    },
    {
     "cell_type": "markdown",
     "metadata": {},
     "source": [
      "## Specify System Parameters and the Reaction Term"
     ]
    },
    {
     "cell_type": "code",
     "collapsed": false,
     "input": [
      "D_v = float(10.)/float(100.)\n",
      "D_u = 0.01 * D_v\n",
      "\n",
      "k0 = 0.067\n",
      "f = lambda u, v: dt*(v*(k0 + float(u*u)/float(1. + u*u)) - u)\n",
      "g = lambda u, v: -f(u,v)\n",
      " \n",
      "sigma_u = float(D_u*Dt)/float((2.*Dx*Dx))\n",
      "sigma_v = float(D_v*Dt)/float((2.*Dx*Dx))\n",
      "\n",
      "total_protein = 2.26"
     ],
     "language": "python",
     "metadata": {},
     "outputs": [],
     "prompt_number": 17
    },
    {
     "cell_type": "markdown",
     "metadata": {},
     "source": [
      "## Specify the Initial Condition"
     ]
    },
    {
     "cell_type": "code",
     "collapsed": false,
     "input": [
      "no_high = 10\n",
      "U =  np.array([0.1 for i in range(no_high,Nx)] + [2. for i in range(0,no_high)])\n",
      "V = np.array([float(total_protein-Dx*sum(U))/float(Nx*Dx) for i in range(0,Nx)])"
     ],
     "language": "python",
     "metadata": {},
     "outputs": [],
     "prompt_number": 18
    },
    {
     "cell_type": "code",
     "collapsed": false,
     "input": [
      "\n",
      "\n",
      "plt.ylim((0., 2.1))\n",
      "plt.xlabel('x'); plt.ylabel('concentration')\n",
      "plt.plot(x_grid, U)\n",
      "plt.plot(x_grid, V)\n",
      "plt.show()"
     ],
     "language": "python",
     "metadata": {},
     "outputs": [
      {
       "metadata": {},
       "output_type": "display_data",
       "png": "[encoded data removed]",
       "text": [
        "<matplotlib.figure.Figure at 0x44e4e10>"
       ]
      }
     ],
     "prompt_number": 19
    },
    {
     "cell_type": "markdown",
     "metadata": {},
     "source": [
      "## Create Matrices"
     ]
    },
    {
     "cell_type": "code",
     "collapsed": false,
     "input": [
      "A_u = np.diagflat([-sigma_u for i in range(Nx-1)], -1) +\\\n",
      "      np.diagflat([1.+sigma_u]+[1.+2.*sigma_u for i in range(Nx-2)]+[1.+sigma_u]) +\\\n",
      "      np.diagflat([-sigma_u for i in range(Nx-1)], 1)\n",
      "        \n",
      "B_u = np.diagflat([sigma_u for i in range(Nx-1)], -1) +\\\n",
      "      np.diagflat([1.-sigma_u]+[1.-2.*sigma_u for i in range(Nx-2)]+[1.-sigma_u]) +\\\n",
      "      np.diagflat([sigma_u for i in range(Nx-1)], 1)\n",
      "        \n",
      "A_v = np.diagflat([-sigma_v for i in range(Nx-1)], -1) +\\\n",
      "      np.diagflat([1.+sigma_v]+[1.+2.*sigma_v for i in range(Nx-2)]+[1.+sigma_v]) +\\\n",
      "      np.diagflat([-sigma_v for i in range(Nx-1)], 1)\n",
      "        \n",
      "B_v = np.diagflat([sigma_v for i in range(Nx-1)], -1) +\\\n",
      "      np.diagflat([1.-sigma_v]+[1.-2.*sigma_v for i in range(Nx-2)]+[1.-sigma_v]) +\\\n",
      "      np.diagflat([sigma_v for i in range(Nx-1)], 1)\n",
      "#A_u.shape, A_v.shape,B_u.shape, B_v.shape"
     ],
     "language": "python",
     "metadata": {},
     "outputs": [
      {
       "metadata": {},
       "output_type": "pyout",
       "prompt_number": 15,
       "text": [
        "((1000, 1000), (1000, 1000), (1000, 1000), (1000, 1000))"
       ]
      }
     ],
     "prompt_number": 15
    },
    {
     "cell_type": "markdown",
     "metadata": {},
     "source": [
      "How to discretize the advection equation using the Crank-Nicolson method? link [stackexchange](http://scicomp.stackexchange.com/questions/7399/how-to-discretize-the-advection-equation-using-the-crank-nicolson-method)"
     ]
    },
    {
     "cell_type": "code",
     "collapsed": false,
     "input": [
      "from __future__ import division\n",
      "from scipy.sparse import spdiags\n",
      "from scipy.sparse.linalg import spsolve\n",
      "import numpy as np\n",
      "import pylab\n",
      "\n",
      "def make_advection_matrices(z, r):\n",
      "    \"\"\"Return matrices A and M for advection equations\"\"\"\n",
      "    ones = np.ones(len(z))\n",
      "    A = spdiags( [-beta*r, ones, beta*r], (-1,0,1), len(z), len(z) )\n",
      "    M = spdiags( [(1-beta) * r, ones, -(1-beta) * r], (-1,0,1), len(z), len(z) )\n",
      "    return A.tocsr(), M.tocsr()\n",
      "\n",
      "def plot_iteration(z, u, iteration):\n",
      "    \"\"\"Plot the solver progress\"\"\"\n",
      "    pylab.plot(z, u, label=\"Iteration %d\" % iteration)\n",
      "\n",
      "# Set up basic constants\n",
      "beta = 0.5\n",
      "J = 200 # total number of mesh points\n",
      "z = np.linspace(-10,10,J) # vertices\n",
      "dz = abs(z[1]-z[0]) # space step\n",
      "dt = 0.2    # time step\n",
      "v = 2 * np.ones(len(z)) # velocity field (constant)\n",
      "r = v / 2 * dt / dz\n",
      "\n",
      "# Initial conditions (peak function)\n",
      "gaussian = lambda z, height, position, hwhm: height * np.exp(-np.log(2) * ((z - position)/hwhm)**2)\n",
      "u_init = gaussian(z, 1, -3, 2)\n",
      "\n",
      "A, M = make_advection_matrices(z, r)\n",
      "u = u_init\n",
      "for i in range(10):\n",
      "    u = spsolve(A, M * u)\n",
      "    plot_iteration(z, u, i)\n",
      "\n",
      "pylab.legend()\n",
      "pylab.show()\n",
      "\n",
      " "
     ],
     "language": "python",
     "metadata": {},
     "outputs": [],
     "prompt_number": 99
    }
   ],
   "metadata": {}
  }
 ]
}