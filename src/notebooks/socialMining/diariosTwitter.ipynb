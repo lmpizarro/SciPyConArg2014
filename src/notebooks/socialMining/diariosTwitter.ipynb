{
 "metadata": {
  "name": "",
  "signature": "sha256:d5f1924c85766113082a8c31c5fd6636fc7f5453e843cbed1cb50ec58af12059"
 },
 "nbformat": 3,
 "nbformat_minor": 0,
 "worksheets": [
  {
   "cells": [
    {
     "cell_type": "code",
     "collapsed": false,
     "input": [
      "import twitter as tw"
     ],
     "language": "python",
     "metadata": {},
     "outputs": [],
     "prompt_number": 1
    },
    {
     "cell_type": "code",
     "collapsed": false,
     "input": [
      "OAUTH_TOKEN=\"59465566-sLBrpOG3GvtBPWtgIFXGtpw57lkFDYbcTnGz858sP\"\n",
      "OAUTH_SECRET=\"VksCIjkuHb77cSLpiDDz93DKedPGtzqdInMCdKqd8DWKQ\"\n",
      "CONSUMER_KEY=\"2MIy44nbUKiElAolSoxY0wzKQ\"\n",
      "CONSUMER_SECRET=\"KFQqFcvTWBdplgIHyLVZI3B1gp2Nlmzqv5tuiDI0AHdw6ikNVw\"\n",
      "\n",
      "twitter = tw.Twitter(\n",
      "            auth=tw.OAuth(OAUTH_TOKEN, OAUTH_SECRET,\n",
      "                       CONSUMER_KEY, CONSUMER_SECRET)\n",
      "           )\n",
      "\n",
      " "
     ],
     "language": "python",
     "metadata": {},
     "outputs": [],
     "prompt_number": 3
    },
    {
     "cell_type": "code",
     "collapsed": false,
     "input": [
      "def split_line(text):\n",
      "\n",
      "    # split the text\n",
      "    words = text.split()\n",
      "\n",
      "    # for each word in the line:\n",
      "    for word in words:\n",
      "\n",
      "        # prints each word on a line\n",
      "        print(word)"
     ],
     "language": "python",
     "metadata": {},
     "outputs": [],
     "prompt_number": 4
    },
    {
     "cell_type": "code",
     "collapsed": false,
     "input": [
      "todos=\"\"\n",
      "\n",
      "canTwits = 5\n",
      "\n",
      "sn = ['lanacioncom','lacapital','LAVOZcomar','perfilcom', 'BaeDiario', 'tiempoarg', 'clarincom', 'AgenciaTelam','pagina12noof', 'infobae', 'cronicaweb', 'cronistacom', 'ambitocom', 'rionegrocomar','lanuevaweb']"
     ],
     "language": "python",
     "metadata": {},
     "outputs": []
    },
    {
     "cell_type": "code",
     "collapsed": false,
     "input": [
      "for s in sn:\n",
      "  twits = twitter.statuses.user_timeline(count=canTwits, screen_name=s)\n",
      "  for txt in twits:\n",
      "   try:\n",
      "     #print s, txt['created_at'], txt['text']\n",
      "     text_ = txt['text']\n",
      "     todos = todos + \" \" + text_\n",
      "     print s, text_\n",
      "   except (UnicodeEncodeError, RuntimeError, TypeError, NameError):\n",
      "     pass\n"
     ],
     "language": "python",
     "metadata": {},
     "outputs": []
    },
    {
     "cell_type": "code",
     "collapsed": false,
     "input": [],
     "language": "python",
     "metadata": {},
     "outputs": []
    }
   ],
   "metadata": {}
  }
 ]
}