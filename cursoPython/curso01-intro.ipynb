{
 "cells": [
  {
   "cell_type": "code",
   "execution_count": 15,
   "metadata": {
    "collapsed": false
   },
   "outputs": [],
   "source": [
    "# Esto es propio de ipython \n",
    "# sirve para mostrar una imagen\n",
    "# durante una exposición\n",
    "# por ahora no hay que darle importancia\n",
    "\n",
    "from IPython.display import Image"
   ]
  },
  {
   "cell_type": "markdown",
   "metadata": {},
   "source": [
    "# Programa\n",
    "\n",
    "* Introducción\n",
    "* Control de Flujo\n",
    "   * if/else/elif\n",
    "   * while\n",
    "   * excepciones\n",
    "* Tipos de Variables\n",
    "   * números\n",
    "   * cadenas de caractéres\n",
    "   * listas\n",
    "   * tuplas\n",
    "   * diccionarios\n",
    "   * conjuntos\n",
    "* Estructura I\n",
    "* Orientación a objetos\n",
    "  * Clases\n",
    "  * Objetos\n",
    "  * Encapsulado\n",
    "  * Abstracción de datos\n",
    "* Extras\n",
    "   * Testeo unitario de módulos\n",
    "   * generadores (yield), map, lambda, reduce, filter\n",
    "* Gestión del proyecto\n",
    "  * Control de versión\n",
    "  * Gestión de la configuración\n",
    "     * Entornos virtuales"
   ]
  },
  {
   "cell_type": "markdown",
   "metadata": {},
   "source": [
    "# --------------------------------------------------------------------------- ---------------------------------------------------------------------------"
   ]
  },
  {
   "cell_type": "markdown",
   "metadata": {},
   "source": [
    "# Introducción\n",
    "\n",
    "## ¿Por qué un nuevo lenguaje de programación?\n",
    "\n",
    "La adopción de un nuevo lenguaje de programación presenta algunos desafíos que hay que tener en cuenta a la hora de tomar la decisión, que impactan en: \n",
    "\n",
    "* Organización\n",
    "* Compatibilidad con los recursos existentes (tecnológicos y humanos)\n",
    "* Capacitación de recursos\n",
    "* Desarrollo de los proyectos en curso\n",
    "* Mantenimiento de los proyectos\n",
    "* Planear en forma realista\n",
    "* Comenzar con proyectos chicos"
   ]
  },
  {
   "cell_type": "markdown",
   "metadata": {},
   "source": [
    "## ¿Por qué Python ?"
   ]
  },
  {
   "cell_type": "markdown",
   "metadata": {},
   "source": [
    "* Mucha documentación y guías de aprendizaje\n",
    "* Interpretado\n",
    "* Orientado a objetos, pero sin la obligación de ...\n",
    "* De alto nivel, pero puede trabajar a bajo nivel\n",
    "* Una gan comunidad de usuarios, con inserción en la comunidad científica y académica\n",
    " \n",
    "* Fácil de leer, entender y aprender\n",
    "\n",
    "* Menos  código, de 5-10 veces más chico\n",
    "\n",
    "* Un proyecto en Python se hace en 5 veces menos tiempo, 1 año se podría reducir 2 meses\n",
    "\n",
    "* Variedad de  paquetes para distintas aplicaciones \n",
    "\n",
    "* Similar a C++, orientado a objetos, redefinición de operadores, manejo de errores basado\n",
    "en excepciones.\n",
    "\n",
    "* No reinventa la rueda: reutiliza las bibliotecas disponibles\n",
    "\n",
    "* No es compilado, pero compila, \n",
    "\n",
    "* No tiene máquina virtual, pero corre bytecode de java y viceversa. Genera bytecode\n",
    "* Amigable con C, C++, Fortran\n",
    "\n",
    "\n"
   ]
  },
  {
   "cell_type": "markdown",
   "metadata": {},
   "source": [
    "## Modos de uso de python\n",
    "\n",
    "* Desde un script en un archivo *.py\n",
    "* Desde la consola python\n",
    "* Desde la consola ipython\n",
    "* Desde el Notebook de ipython (esta presentación)"
   ]
  },
  {
   "cell_type": "markdown",
   "metadata": {},
   "source": [
    "## Instalación de python\n",
    "\n",
    "* En linux/Debian en modo super-usuario o en Ubuntu con sudo: \n",
    "   * $ apt-get install ipython ipython-notebook spyder python-matplotlib python-numpy python-scipy python-sympy\n",
    "   \n",
    "   * Otros linux una variante del comando anterior\n",
    "     \n",
    "\n",
    "\n",
    " * How to Install Python on Windows [link](http://www.howtogeek.com/197947/how-to-install-python-on-windows/)\n",
    " * [Python oficial para Windows](https://www.python.org/downloads/windows/)\n",
    "\n",
    "\n",
    "### Más avanzado\n",
    "\n",
    " * GitHub for Windows [link](https://windows.github.com/)\n",
    " \n",
    " * msysGit, Git for Windows, tiene comandos para el shell [link](https://msysgit.github.io/)\n",
    "\n",
    " * How To Install Python, pip, and virtualenv on Windows with PowerShell [link](http://www.tylerbutler.com/2012/05/how-to-install-python-pip-and-virtualenv-on-windows-with-powershell/)\n",
    "\n",
    "* Download Anaconda for Windows [link](http://continuum.io/downloads)\n",
    "\n",
    "### Otros\n",
    "\n",
    "* Download ActivePython Community Edition [link](http://www.activestate.com/activepython/downloads)\n",
    "\n"
   ]
  },
  {
   "cell_type": "markdown",
   "metadata": {},
   "source": [
    "##  The Zen of Python\n",
    "\n",
    "[Idiomatic Python](http://python.net/~goodger/projects/pycon/2007/idiomatic/handout.html)"
   ]
  },
  {
   "cell_type": "markdown",
   "metadata": {},
   "source": [
    "These are the guiding principles of Python, but are open to interpretation. A sense of humor is required for their proper interpretation.\n",
    "\n",
    "If you're using a programming language named after a sketch comedy troupe, you had better have a sense of humor.\n",
    "\n",
    "## 1\n",
    "\n",
    "* Belleza - Beautiful is better than ugly. \n",
    "* Explícito - Explicit is better than implicit.\n",
    "* Simple - Simple is better than complex.\n",
    "* Complejo - Complex is better than complicated.\n",
    "* Flat is better than nested.\n",
    "* Liviano- Sparse is better than dense.\n",
    "* Leíble - Readability counts.\n",
    "* Special cases aren't special enough to break the rules.\n",
    "* Pragmático - Although practicality beats purity.\n",
    "* Errores gritones - Errors should never pass silently.\n",
    "* Se pueden hacer callar - Unless explicitly silenced.\n",
    "\n",
    "##  2\n",
    "\n",
    "* No adivinar - In the face of ambiguity, refuse the temptation to guess.\n",
    "* Una sola forma de hacerlo - There should be one—and preferably only one—obvious way to do it.\n",
    "* Quizás no sea obvia - Although that way may not be obvious at first unless you're Dutch.\n",
    "* Inmediato - Now is better than never.\n",
    "* Nunca mejor que ahora - Although never is often better than right now.\n",
    "* Explicable - If the implementation is hard to explain, it's a bad idea.\n",
    "* Si explicable, buena idea - If the implementation is easy to explain, it may be a good idea.\n",
    "* Modular: usarlo - Namespaces are one honking great idea—let's do more of those!\n"
   ]
  },
  {
   "cell_type": "markdown",
   "metadata": {},
   "source": [
    "## Paquetes disponibles (algunos)\n",
    "\n",
    "\n",
    "\n",
    "\n",
    "[Scipy:](http://www.scipy.org/) a Python-based ecosystem of open-source software for mathematics, science, and engineering.\n",
    "* Integration (scipy.integrate), \n",
    "* Optimization (scipy.optimize),  \n",
    "* Interpolation (scipy.interpolate), \n",
    "* Fourier Transforms (scipy.fftpack), \n",
    "* Signal Processing (scipy.signal)\n",
    "* etc.\n",
    "\n",
    "\n",
    "[PyNE:](http://pyne.io/)  The Nuclear Engineering Toolkit  \n",
    "\n",
    "[Bob:](https://www.idiap.ch/software/bob/docs/releases/last/sphinx/html/index.html)  Signal-processing and machine learning toolbox \n",
    "\n",
    "[The Materials Project:](https://www.materialsproject.org/open)  the Materials API and pymatgen package provide the means for users to efficiently obtain large data sets and develop new analyses. \n",
    "\n",
    "[Atomic Simulation Environment:](https://wiki.fysik.dtu.dk/ase/) The Atomistic Simulation Environment (ASE) is a set of tools and Python modules for setting up, manipulating, running, visualizing and analyzing atomistic simulations.\n",
    "\n",
    "[PyFoam:](https://openfoamwiki.net/index.php/Contrib/PyFoam)\n",
    "A python library to control OpenFOAM-runs and manipulate OpenFOAM-data. Comes with a number of utilities that should make your life easier if you're not scared by commandlines \n",
    "\n",
    "[pythonFlu:](http://pythonflu.wikidot.com/) provides Python wrapping for OpenFOAM C++ API. It enriches the existing OpenFOAM best features, such as expressiveness and robustness, with such unique Python advantages as interactivity and automation. pythonFlu delivers unique engineering environment, where everything can be accessed and run in the same Python terms\n",
    "\n",
    "[OpenCV:](http://opencv.org/) includes several hundreds of computer vision algorithms.\n",
    "\n",
    "[MsNoise:](http://www.msnoise.org/) a Python Package for Monitoring Seismic Velocity Changes using Ambient Seismic Noise"
   ]
  },
  {
   "cell_type": "markdown",
   "metadata": {},
   "source": [
    "## El proceso de desarrollo de software"
   ]
  },
  {
   "cell_type": "markdown",
   "metadata": {},
   "source": [
    "* Análisis del problema\n",
    "* Especificación de requerimientos\n",
    "* Diseño del sistema\n",
    "* Arquitectura del sistema\n",
    "* Desarrollo del código\n",
    "* Verificación y validación, tests (muchos)\n",
    "* Puesta en producción"
   ]
  },
  {
   "cell_type": "markdown",
   "metadata": {},
   "source": [
    "## Útiles"
   ]
  },
  {
   "cell_type": "markdown",
   "metadata": {},
   "source": [
    "* [Anaconda:](https://store.continuum.io/cshop/anaconda/) Distribución de python científica\n",
    "* [nbviewer: ](http://nbviewer.ipython.org/) Notebook Viewer\n",
    "* [Markdown: ](http://daringfireball.net/projects/markdown/basics) Para escribir este documento\n",
    "* [Info Python: ](http://it-ebooks.info/) Libros y manuales \n",
    "   * Learning SciPy for Numerical and Scientific Computing, 2nd Edition, Rojas y otros."
   ]
  },
  {
   "cell_type": "markdown",
   "metadata": {},
   "source": [
    "## Referencias"
   ]
  },
  {
   "cell_type": "markdown",
   "metadata": {},
   "source": [
    "[scientific-python-lectures: ](http://nbviewer.ipython.org/github/fperez/scientific-python-lectures/tree/master/) Introducción a la programación en python y algo más.\n",
    "\n",
    "[Dive into Python: ](http://www.diveintopython.net/) a free Python book for experienced programmers. \n",
    "\n",
    "[curso-python-cientifico](https://github.com/mgaitan/curso-python-cientifico) Taller de Python orientado a estudiantes, profesores, investigadores e ingenieros"
   ]
  },
  {
   "cell_type": "markdown",
   "metadata": {},
   "source": [
    "## Hola Mundo en Python!"
   ]
  },
  {
   "cell_type": "code",
   "execution_count": 12,
   "metadata": {
    "collapsed": false
   },
   "outputs": [
    {
     "name": "stdout",
     "output_type": "stream",
     "text": [
      "Hola Mundo!\n"
     ]
    }
   ],
   "source": [
    "print (\"Hola Mundo!\")"
   ]
  },
  {
   "cell_type": "markdown",
   "metadata": {},
   "source": [
    "### Hola Mundo en C!!\n",
    "\n",
    "`#include <stdio.h>\n",
    "\n",
    "int main (){\n",
    "\n",
    "  printf (\"Hola Mundo\\n\");\n",
    "\n",
    "  return 0;\n",
    "\n",
    "}`\n",
    "\n",
    "##### Más el ciclo de compilación"
   ]
  },
  {
   "cell_type": "markdown",
   "metadata": {},
   "source": [
    "## Scripts: estructura 0.1\n",
    "\n",
    "Un script muy simple como para empezar y ver los componentes\n",
    "principales"
   ]
  },
  {
   "cell_type": "code",
   "execution_count": 3,
   "metadata": {
    "collapsed": false
   },
   "outputs": [
    {
     "name": "stdout",
     "output_type": "stream",
     "text": [
      "Hola Mundo!\n"
     ]
    }
   ],
   "source": [
    "# -*- coding: utf-8 -*-\n",
    "\n",
    "# Lo anterior nos permite escribir comentarios\n",
    "# con carácteres acentuados o ñ.\n",
    "# es lo primero que hay que poner en le archivo\n",
    "\n",
    "#indica al operativo donde está python\n",
    "# para ejecutar el script\n",
    "#!/usr/bin/python\n",
    "\n",
    "\n",
    "print (\"Hola Mundo!\")"
   ]
  },
  {
   "cell_type": "markdown",
   "metadata": {},
   "source": [
    "* Grabamos el archivo con nombre hola.py\n",
    "* en el prompt  ->python hola.py\n",
    "* -> Hola Mundo!\n",
    "* en linux se puede hacer ->chmod +x hola.py\n",
    "* en el prompt  ->hola.py\n",
    "* -> Hola Mundo!"
   ]
  },
  {
   "cell_type": "markdown",
   "metadata": {},
   "source": [
    "### En ipython para probar cosas\n",
    "\n",
    "No se necesitan algunas de las cosas que ponemos en un archivo. Ipython es un ambiente web que permite mezclar código ejecutable con cualquier contenido que pueda mostrar un navegador."
   ]
  },
  {
   "cell_type": "code",
   "execution_count": 13,
   "metadata": {
    "collapsed": false
   },
   "outputs": [
    {
     "name": "stdout",
     "output_type": "stream",
     "text": [
      "Hola Mundo!\n"
     ]
    }
   ],
   "source": [
    "print (\"Hola Mundo Ipython! \")"
   ]
  },
  {
   "cell_type": "markdown",
   "metadata": {},
   "source": [
    "## Funciones"
   ]
  },
  {
   "cell_type": "code",
   "execution_count": 16,
   "metadata": {
    "collapsed": false
   },
   "outputs": [
    {
     "name": "stdout",
     "output_type": "stream",
     "text": [
      "Hola  María\n",
      "Bienvenida a Python!\n"
     ]
    }
   ],
   "source": [
    "# -*- coding: utf-8 -*-\n",
    "\n",
    "#!/usr/bin/python\n",
    "\n",
    "def holaMundo (s):\n",
    "    print (\"Hola \", s)\n",
    "    print (\"Bienvenida a Python!\")\n",
    "    \n",
    "holaMundo(\"María\")    "
   ]
  },
  {
   "cell_type": "markdown",
   "metadata": {},
   "source": [
    "## Operadores\n",
    "\n",
    "* Sumar y restar: +, -\n",
    "* Multiplicación, división y módulo: *, /, %\n",
    "* División truncada: //, el resultado de la división se aproxima al entero\n",
    "* Signos algebráicos: +x, -x\n",
    "* Complemento orientado a bit: ~x, ~3 = ~(0....011) = 1....100 = -4\n",
    "* Exponenciación: \\*\\* , 10\\*\\*3 = 1000\n",
    "* Operaciones booleanas: Or, And, Not\n",
    "* Elemento perteneciente a: in, 1 in [1,2,3] -> True, 0 in [1,2,3] -> False\n",
    "* Operadores de comparación: <, <=, >, >=, !=, == , lo de siempre\n",
    "* Operadores orientados a bits: |, &, ^. OR, AND, XOR\n",
    "* Operadores de desplaazmiento: <<, >> "
   ]
  },
  {
   "cell_type": "code",
   "execution_count": 27,
   "metadata": {
    "collapsed": false
   },
   "outputs": [
    {
     "name": "stdout",
     "output_type": "stream",
     "text": [
      "False\n",
      "2 1 -4\n",
      "9 1 1 2\n"
     ]
    }
   ],
   "source": [
    "# Uso del operador in \n",
    "a= 0 in [1,2,3]\n",
    "print (a) \n",
    "\n",
    "# otras operaciones \n",
    "print(2%3, 3//2, ~3)\n",
    "\n",
    "# representación de numeros en otras bases\n",
    "print (0o11, 0x01, 0b01 ,0b11 & 0b10)"
   ]
  },
  {
   "cell_type": "markdown",
   "metadata": {},
   "source": [
    "## Estructurar el código con identación\n",
    "\n",
    "La mayoría de los lenguajes de programación utilizan algún signo de puntuación para delimitar las instrucciones. \n",
    "\n",
    "Python utiliza un principio diferente. Los programas se estructuran a partir de la indentación, esto significa que los bloques de códigos quedan definidos por su indentación. \n",
    "\n",
    "Esto es un requerimiento. Indentar mal implica que el código genera un error. \n",
    "\n",
    "La figura muestra como se ordenan las líneas de código.\n",
    "\n",
    "Una línea de puede continuar con el carácter \"\\\".\n"
   ]
  },
  {
   "cell_type": "code",
   "execution_count": 16,
   "metadata": {
    "collapsed": false
   },
   "outputs": [
    {
     "data": {
      "image/png": "[encoded data removed]",
      "text/plain": [
       "<IPython.core.display.Image at 0xb2aedc4c>"
      ]
     },
     "execution_count": 16,
     "metadata": {},
     "output_type": "execute_result"
    }
   ],
   "source": [
    "Image(filename=\"blocks.png\")"
   ]
  },
  {
   "cell_type": "markdown",
   "metadata": {},
   "source": [
    "# --------------------------------------------------------------------------- ---------------------------------------------------------------------------"
   ]
  },
  {
   "cell_type": "markdown",
   "metadata": {},
   "source": [
    "## Control de flujo"
   ]
  },
  {
   "cell_type": "markdown",
   "metadata": {},
   "source": [
    "### if/elif/else"
   ]
  },
  {
   "cell_type": "code",
   "execution_count": 7,
   "metadata": {
    "collapsed": false
   },
   "outputs": [
    {
     "name": "stdout",
     "output_type": "stream",
     "text": [
      "x < 20 12\n"
     ]
    }
   ],
   "source": [
    "x = 12\n",
    "if x < 20:\n",
    "    print (\"x < 20\", x)\n",
    "else:\n",
    "    pritn (\"x > = 20\", x)"
   ]
  },
  {
   "cell_type": "code",
   "execution_count": 9,
   "metadata": {
    "collapsed": false
   },
   "outputs": [
    {
     "name": "stdout",
     "output_type": "stream",
     "text": [
      "x < 20 12\n"
     ]
    }
   ],
   "source": [
    "if x < 20:\n",
    "    print (\"x < 20\", x)\n",
    "elif 13 < x < 18:\n",
    "    print (\"x está entre 13 y 18\")\n",
    "else:\n",
    "   print (\"x fuera de rango\")"
   ]
  },
  {
   "cell_type": "markdown",
   "metadata": {},
   "source": [
    "### Ciclos for"
   ]
  },
  {
   "cell_type": "code",
   "execution_count": 24,
   "metadata": {
    "collapsed": false
   },
   "outputs": [
    {
     "data": {
      "text/plain": [
       "range(0, 10)"
      ]
     },
     "execution_count": 24,
     "metadata": {},
     "output_type": "execute_result"
    }
   ],
   "source": [
    "range (10)"
   ]
  },
  {
   "cell_type": "code",
   "execution_count": 20,
   "metadata": {
    "collapsed": false
   },
   "outputs": [
    {
     "data": {
      "text/plain": [
       "[10, 12, 14, 16, 18, 20, 22, 24, 26, 28, 30, 32]"
      ]
     },
     "execution_count": 20,
     "metadata": {},
     "output_type": "execute_result"
    }
   ],
   "source": [
    "list(range(10,34,2))"
   ]
  },
  {
   "cell_type": "code",
   "execution_count": 25,
   "metadata": {
    "collapsed": false
   },
   "outputs": [
    {
     "name": "stdout",
     "output_type": "stream",
     "text": [
      "45\n"
     ]
    }
   ],
   "source": [
    "suma = 0\n",
    "for i in range (10): # for (i = 0; i < 10; i++){ }\n",
    "    suma = suma +i\n",
    "print (suma)"
   ]
  },
  {
   "cell_type": "code",
   "execution_count": 26,
   "metadata": {
    "collapsed": false
   },
   "outputs": [
    {
     "name": "stdout",
     "output_type": "stream",
     "text": [
      "42\n"
     ]
    }
   ],
   "source": [
    "suma = 0\n",
    "for i in range (3,10):  # for (i = 3; i < 10; i++){ }\n",
    "    suma = suma +i\n",
    "print (suma)"
   ]
  },
  {
   "cell_type": "markdown",
   "metadata": {},
   "source": [
    "#### Ciclo con paso distinto de 1"
   ]
  },
  {
   "cell_type": "code",
   "execution_count": 4,
   "metadata": {
    "collapsed": false
   },
   "outputs": [
    {
     "name": "stdout",
     "output_type": "stream",
     "text": [
      "0\n",
      "2\n",
      "4\n",
      "6\n",
      "8\n"
     ]
    }
   ],
   "source": [
    "for i in range(0, 10, 2):\n",
    "    print (i)"
   ]
  },
  {
   "cell_type": "markdown",
   "metadata": {},
   "source": [
    "#### Ciclo for inverso"
   ]
  },
  {
   "cell_type": "code",
   "execution_count": 3,
   "metadata": {
    "collapsed": false
   },
   "outputs": [
    {
     "name": "stdout",
     "output_type": "stream",
     "text": [
      "5\n",
      "4\n",
      "3\n",
      "2\n"
     ]
    }
   ],
   "source": [
    "for i in range(5,1, -1):\n",
    "    print (i)"
   ]
  },
  {
   "cell_type": "markdown",
   "metadata": {},
   "source": [
    "#### Acceso a índice y valor en forma simultanea"
   ]
  },
  {
   "cell_type": "code",
   "execution_count": 15,
   "metadata": {
    "collapsed": false
   },
   "outputs": [
    {
     "name": "stdout",
     "output_type": "stream",
     "text": [
      "El valor de la posicion 1 es 4\n",
      "El valor de la posicion 2 es 45\n",
      "El valor de la posicion 3 es 19\n"
     ]
    }
   ],
   "source": [
    "for posicion, valor in enumerate([4,45 , 19]):\n",
    "    print(\"El valor de la posicion %s es %d\" % (posicion+1, valor))"
   ]
  },
  {
   "cell_type": "markdown",
   "metadata": {},
   "source": [
    "#### break"
   ]
  },
  {
   "cell_type": "code",
   "execution_count": null,
   "metadata": {
    "collapsed": false
   },
   "outputs": [],
   "source": [
    "sumatoria = 0\n",
    "for elemento in range(1000):\n",
    "    if elemento > 100:\n",
    "        break\n",
    "    sumatoria = sumatoria + elemento\n",
    "sumatoria, elemento"
   ]
  },
  {
   "cell_type": "markdown",
   "metadata": {},
   "source": [
    "#### continue"
   ]
  },
  {
   "cell_type": "code",
   "execution_count": 16,
   "metadata": {
    "collapsed": false
   },
   "outputs": [
    {
     "name": "stdout",
     "output_type": "stream",
     "text": [
      "0\n",
      "2\n",
      "4\n",
      "6\n",
      "8\n",
      "10\n",
      "12\n",
      "14\n",
      "16\n",
      "18\n"
     ]
    },
    {
     "data": {
      "text/plain": [
       "90"
      ]
     },
     "execution_count": 16,
     "metadata": {},
     "output_type": "execute_result"
    }
   ],
   "source": [
    "sumatoria = 0\n",
    "for elemento in range(20):\n",
    "    if elemento % 2:\n",
    "        continue\n",
    "    print(elemento)\n",
    "    sumatoria = sumatoria + elemento\n",
    "sumatoria"
   ]
  },
  {
   "cell_type": "markdown",
   "metadata": {},
   "source": [
    "### while"
   ]
  },
  {
   "cell_type": "code",
   "execution_count": 27,
   "metadata": {
    "collapsed": false
   },
   "outputs": [
    {
     "name": "stdout",
     "output_type": "stream",
     "text": [
      "45\n"
     ]
    }
   ],
   "source": [
    "a = 0\n",
    "suma = 0\n",
    "while a < 10:\n",
    "    suma = suma + a\n",
    "    a = a + 1\n",
    "print (suma)"
   ]
  },
  {
   "cell_type": "markdown",
   "metadata": {},
   "source": [
    "### switch - case \n",
    "\n",
    "Se encuentra en otros lenguajes. En python no. Se busca implementar con if/else/elif. "
   ]
  },
  {
   "cell_type": "markdown",
   "metadata": {},
   "source": [
    "### Ciclos anidados"
   ]
  },
  {
   "cell_type": "code",
   "execution_count": null,
   "metadata": {
    "collapsed": false
   },
   "outputs": [],
   "source": [
    "for k in range(0,5):\n",
    "    for i in range (3,7):\n",
    "        print (\"k: %d i %d: \" %  (k ,i))"
   ]
  },
  {
   "cell_type": "code",
   "execution_count": 38,
   "metadata": {
    "collapsed": false
   },
   "outputs": [
    {
     "name": "stdout",
     "output_type": "stream",
     "text": [
      "k: 0 i 3: j 2:\n",
      "k: 0 i 3: j 3:\n",
      "k: 0 i 4: j 2:\n",
      "k: 0 i 4: j 3:\n",
      "k: 0 i 5: j 2:\n",
      "k: 0 i 5: j 3:\n",
      "k: 0 i 6: j 2:\n",
      "k: 0 i 6: j 3:\n",
      "k: 1 i 3: j 2:\n",
      "k: 1 i 3: j 3:\n",
      "k: 1 i 4: j 2:\n",
      "k: 1 i 4: j 3:\n",
      "k: 1 i 5: j 2:\n",
      "k: 1 i 5: j 3:\n",
      "k: 1 i 6: j 2:\n",
      "k: 1 i 6: j 3:\n",
      "k: 2 i 3: j 2:\n",
      "k: 2 i 3: j 3:\n",
      "k: 2 i 4: j 2:\n",
      "k: 2 i 4: j 3:\n",
      "k: 2 i 5: j 2:\n",
      "k: 2 i 5: j 3:\n",
      "k: 2 i 6: j 2:\n",
      "k: 2 i 6: j 3:\n",
      "k: 3 i 3: j 2:\n",
      "k: 3 i 3: j 3:\n",
      "k: 3 i 4: j 2:\n",
      "k: 3 i 4: j 3:\n",
      "k: 3 i 5: j 2:\n",
      "k: 3 i 5: j 3:\n",
      "k: 3 i 6: j 2:\n",
      "k: 3 i 6: j 3:\n",
      "k: 4 i 3: j 2:\n",
      "k: 4 i 3: j 3:\n",
      "k: 4 i 4: j 2:\n",
      "k: 4 i 4: j 3:\n",
      "k: 4 i 5: j 2:\n",
      "k: 4 i 5: j 3:\n",
      "k: 4 i 6: j 2:\n",
      "k: 4 i 6: j 3:\n"
     ]
    }
   ],
   "source": [
    "for k in range(0,5):\n",
    "    for i in range (3,7):\n",
    "        for j in range (2,4):\n",
    "            print (\"k: %d i %d: j %d:\" %  (k ,i, j))"
   ]
  },
  {
   "cell_type": "markdown",
   "metadata": {},
   "source": [
    "### Excepciones "
   ]
  },
  {
   "cell_type": "markdown",
   "metadata": {},
   "source": [
    "Una excepción es un evento que ocurre durante la ejecución normal de un programa, que interrumpe el flujo normal de ejecución del programa."
   ]
  },
  {
   "cell_type": "code",
   "execution_count": 31,
   "metadata": {
    "collapsed": false
   },
   "outputs": [
    {
     "name": "stdout",
     "output_type": "stream",
     "text": [
      "Se escribió en el archivo de forma satisfactoria\n",
      "El programa sigue su curso normal\n"
     ]
    }
   ],
   "source": [
    "#!/usr/bin/python\n",
    "\n",
    "try:\n",
    "    # lo que se quiere hacer\n",
    "   fh = open(\"testfile\", \"w\")\n",
    "   fh.write(\"Esta es una prueba para manejo de excepciones !!\")\n",
    "except IOError:\n",
    "    # si hay un problema ejecuta esta parte\n",
    "   print (\"Error: no se puede escribir en el archivo\")\n",
    "else:\n",
    "   # si no hay problemas se termina ejecutando esta parte \n",
    "   print (\"Se escribió en el archivo de forma satisfactoria\")\n",
    "   fh.close()\n",
    "\n",
    "print (\"El programa sigue su curso normal\")"
   ]
  },
  {
   "cell_type": "markdown",
   "metadata": {},
   "source": [
    "# --------------------------------------------------------------------------- ---------------------------------------------------------------------------"
   ]
  },
  {
   "cell_type": "markdown",
   "metadata": {},
   "source": [
    "## Tipos de Variables"
   ]
  },
  {
   "cell_type": "markdown",
   "metadata": {},
   "source": [
    "### Números"
   ]
  },
  {
   "cell_type": "code",
   "execution_count": 58,
   "metadata": {
    "collapsed": false
   },
   "outputs": [
    {
     "name": "stdout",
     "output_type": "stream",
     "text": [
      "El entero 100\n",
      "El punto flotante  1000.000000\n",
      "El string John\n",
      "El compleo 0.000000 + 3.140000j\n",
      "El tipo de la variable es  <class 'int'>\n",
      "El tipo de la variable es  <class 'float'>\n",
      "El tipo de la variable es  <class 'float'>\n",
      "Asignación múltiple:  100.0 100.0 100.0\n",
      "3.220000E+19f\n"
     ]
    }
   ],
   "source": [
    "#!/usr/bin/python\n",
    "\n",
    "counter = 100          # Un entero\n",
    "miles   = 1000.0       # Un punto flotante\n",
    "name    = \"John\"       # Un string\n",
    "cmpl    = 3.14j        # Un complejo\n",
    "\n",
    "print (\"El entero %d\" % (counter))\n",
    "print (\"El punto flotante  %f\" % (miles))\n",
    "print (\"El string %s\" % (name))\n",
    "print (\"El compleo %f + %fj\"% (cmpl.real, cmpl.imag))\n",
    "\n",
    "print (\"El tipo de la variable es  %s\" % type(counter))\n",
    "print (\"El tipo de la variable es  %s\" % type(miles))\n",
    "counter = float (counter)\n",
    "print (\"El tipo de la variable es  %s\" % type(counter))\n",
    "\n",
    "# Asignación múltiple\n",
    "a=b=c=counter\n",
    "\n",
    "print (\"Asignación múltiple: \",a,b,c)\n",
    "\n",
    "# Notación \n",
    "numero = 32.2e18\n",
    "print (\"%05Ef\" % ( numero))\n",
    "#\n",
    "# Para ver como construir el formato para print\n",
    "# http://www.python-course.eu/python3_formatted_output.php\n",
    "#"
   ]
  },
  {
   "cell_type": "markdown",
   "metadata": {},
   "source": [
    "### Cadenas de caractéres (strings)"
   ]
  },
  {
   "cell_type": "markdown",
   "metadata": {},
   "source": [
    "Cadena contínua de caractéres entre comillas"
   ]
  },
  {
   "cell_type": "code",
   "execution_count": 69,
   "metadata": {
    "collapsed": false
   },
   "outputs": [
    {
     "name": "stdout",
     "output_type": "stream",
     "text": [
      "un ejemplo de string\n",
      "otro ejemplo de string\n",
      "anidado de 'comillas' \n",
      "esto \"no\" debería\n",
      "anidado de 'comillas' esto \"no\" debería\n",
      "anidado de 'comillas' anidado de 'comillas' \n",
      "a\n",
      "dado \n",
      "dado de 'comillas' anidado de 'comillas' \n"
     ]
    }
   ],
   "source": [
    "#inicialización de strings \n",
    "str1 = \"un ejemplo de string\"\n",
    "str2 = 'otro ejemplo de string'\n",
    "str3 = \"anidado de 'comillas' \"\n",
    "str4 = 'esto \"no\" debería'\n",
    "#concatenación de caractéres \n",
    "str5 = str3 + str4\n",
    "\n",
    "# \"multiplicación de string\"\n",
    "str6 = str3 * 2\n",
    "# un caracter del string\n",
    "str7 = str6[0]\n",
    "# rango de caracteres\n",
    "str8 = str6[3:8]\n",
    "# desde el índice 3 hasta el fin\n",
    "str9 = str6[3:]\n",
    "\n",
    "print (str1)\n",
    "print (str2)\n",
    "print (str3)\n",
    "print (str4)\n",
    "print (str5)\n",
    "print (str6)\n",
    "print (str7)\n",
    "print (str8)\n",
    "print (str9)"
   ]
  },
  {
   "cell_type": "markdown",
   "metadata": {},
   "source": [
    "### Conjuntos, sets ()\n",
    "\n",
    "Cantor defined a set at the beginning of his \"Beiträge zur Begründung der transfiniten Mengenlehre\":\n",
    "\"A set is a gathering together into a whole of definite, distinct objects of our perception and of our thought - which are called elements of the set.\" Nowadays, we can say in \"plain\" English: A set is a well defined collection of objects.  Más en [link](http://www.python-course.eu/sets_frozensets.php)"
   ]
  },
  {
   "cell_type": "code",
   "execution_count": 77,
   "metadata": {
    "collapsed": false
   },
   "outputs": [
    {
     "name": "stdout",
     "output_type": "stream",
     "text": [
      "{'o', 'n', 'u', 'l', 'a', ' ', 'i', 'P', 'y', 'r', 'A', 't', 'T', 'h'} <class 'set'>\n",
      "{'o', 'n', 'u', 'l', 'a', ' ', 'i', 'S', 'P', 'y', 'r', 'A', 't', 'T', 'h'}\n"
     ]
    }
   ],
   "source": [
    "# Definición de un conjunto\n",
    "x = set(\"A Python Tutorial\")\n",
    "print (x, type(x))\n",
    "\n",
    "# Agregar un elemento al conjunto\n",
    "x.add(\"S\")\n",
    "print (x)\n"
   ]
  },
  {
   "cell_type": "markdown",
   "metadata": {},
   "source": [
    "### Notación simplificada para conjuntos, sets()"
   ]
  },
  {
   "cell_type": "code",
   "execution_count": 79,
   "metadata": {
    "collapsed": false
   },
   "outputs": [
    {
     "name": "stdout",
     "output_type": "stream",
     "text": [
      "{'violeta', 'verde', 'rojo', 'blanco'} <class 'set'>\n"
     ]
    }
   ],
   "source": [
    "colores  = {\"blanco\",\"rojo\",\"verde\",\"violeta\"}\n",
    "print (colores, type(colores))"
   ]
  },
  {
   "cell_type": "markdown",
   "metadata": {},
   "source": [
    "### Listas"
   ]
  },
  {
   "cell_type": "markdown",
   "metadata": {},
   "source": [
    "Una estructura que contiene elementos separados por comas y encerradas entre llaves [].\n",
    "\n",
    "Más sobre listas [link] (https://docs.python.org/2/tutorial/datastructures.html)"
   ]
  },
  {
   "cell_type": "code",
   "execution_count": 88,
   "metadata": {
    "collapsed": false
   },
   "outputs": [
    {
     "name": "stdout",
     "output_type": "stream",
     "text": [
      "toda la lista  ['abcd', 786, 2.23, 'john', 70.2]\n",
      "el primer elemento  abcd\n",
      "desde 1 hasta 3 (no incluye)  [786, 2.23]\n",
      "desde 2 hat el fin  [2.23, 'john', 70.2]\n",
      "concatena 2 veces la listita  [123, 'john', 123, 'john']\n",
      "concatena listas distintas  ['abcd', 786, 2.23, 'john', 70.2, 123, 'john']\n",
      "lista agregada  ['abcd', 786, 2.23, 'john', 70.2, 'app']\n",
      "['2']\n",
      "[]\n",
      "elemento eliminado  abcd\n",
      "la lista después de la eliminación [786, 2.23, 'john', 70.2, 'app']\n",
      "lista ordenada ['0', 'a', 'b', 'd', 'f', 'h', 't', 'w']\n"
     ]
    }
   ],
   "source": [
    "lista = [ 'abcd', 786 , 2.23, 'john', 70.2 ]\n",
    "listita = [123, 'john']\n",
    "\n",
    "print (\"toda la lista \",lista)\n",
    "print (\"el primer elemento \",lista[0])\n",
    "print (\"desde 1 hasta 3 (no incluye) \", lista [1:3])\n",
    "print (\"desde 2 hat el fin \",lista [2:])\n",
    "print (\"concatena 2 veces la listita \",listita * 2)\n",
    "print (\"concatena listas distintas \", lista + listita)\n",
    "lista.append(\"app\")\n",
    "# agregar un elemento a la lista\n",
    "print (\"lista agregada \", lista)\n",
    "\n",
    "#inicializar la  lista vacía\n",
    "listita = []\n",
    "listita.append (\"2\")\n",
    "print (listita)\n",
    "#eliminar el elemento\n",
    "listita.remove(\"2\")\n",
    "print (listita)\n",
    "#eliminar el elemento i-ésimo\n",
    "print (\"elemento eliminado \",lista.pop(0))\n",
    "print (\"la lista después de la eliminación\",lista)\n",
    "\n",
    "abc = ['w','h','b','t','d','f','a','0']\n",
    "abc.sort()\n",
    "print (\"lista ordenada\", abc)\n",
    " "
   ]
  },
  {
   "cell_type": "code",
   "execution_count": 10,
   "metadata": {
    "collapsed": false
   },
   "outputs": [
    {
     "name": "stdout",
     "output_type": "stream",
     "text": [
      "0\n",
      "15\n",
      "1\n",
      "32\n",
      "2\n",
      "35\n",
      "3\n",
      "34\n",
      "4\n",
      "33\n",
      "5\n",
      "36\n",
      "10\n",
      "15\n",
      "11\n",
      "32\n",
      "12\n",
      "35\n",
      "13\n",
      "34\n",
      "14\n",
      "33\n",
      "15\n",
      "36\n"
     ]
    }
   ],
   "source": [
    "# una lista \n",
    "l = [[['0',15],['1', 32], ['2', 35],['3', 34], ['4', 33], ['5', 36]],\n",
    "    [['10',15],['11', 32], ['12', 35],['13', 34], ['14', 33], ['15', 36]]]\n",
    "# recorro todos los elementos\n",
    "# de la lista l\n",
    "for ls in l:\n",
    "    for lss in ls:\n",
    "        for lsss in lss:\n",
    "            print (lsss)"
   ]
  },
  {
   "cell_type": "markdown",
   "metadata": {},
   "source": [
    "### Tuplas"
   ]
  },
  {
   "cell_type": "markdown",
   "metadata": {},
   "source": [
    "Es otra estructura de datos, similar a las listas, pero encerrados entre paréntesis (). Las listas no pueden ser alteradas, es por eso que se las considera listas de solo lectura."
   ]
  },
  {
   "cell_type": "code",
   "execution_count": 11,
   "metadata": {
    "collapsed": false
   },
   "outputs": [
    {
     "name": "stdout",
     "output_type": "stream",
     "text": [
      "la lista completa  ('abcd', 786, 2.23, 'john', 70.2)\n",
      "el primer elemento de la lista abcd\n",
      "desde el 2do elemento al tercero (786, 2.23)\n",
      "imprime desde el terce elemento (2.23, 'john', 70.2)\n",
      "la lista 2 veces (123, 'john', 123, 'john')\n",
      "imprime listas concatenadas ('abcd', 786, 2.23, 'john', 70.2, 123, 'john')\n",
      "lista concatenada  ('abcd', 786, 2.23, 'john', 70.2, 'abcd', 786, 2.23, 'john', 70.2)\n"
     ]
    },
    {
     "ename": "TypeError",
     "evalue": "'tuple' object does not support item assignment",
     "output_type": "error",
     "traceback": [
      "\u001b[1;31m---------------------------------------------------------------------------\u001b[0m\n\u001b[1;31mTypeError\u001b[0m                                 Traceback (most recent call last)",
      "\u001b[1;32m<ipython-input-11-307240b6c7f4>\u001b[0m in \u001b[0;36m<module>\u001b[1;34m()\u001b[0m\n\u001b[0;32m     17\u001b[0m \u001b[1;33m\u001b[0m\u001b[0m\n\u001b[0;32m     18\u001b[0m \u001b[1;31m# esto da error\u001b[0m\u001b[1;33m\u001b[0m\u001b[1;33m\u001b[0m\u001b[0m\n\u001b[1;32m---> 19\u001b[1;33m \u001b[0mtuple\u001b[0m \u001b[1;33m[\u001b[0m\u001b[1;36m0\u001b[0m\u001b[1;33m]\u001b[0m \u001b[1;33m=\u001b[0m \u001b[1;34m\"dd\"\u001b[0m\u001b[1;33m\u001b[0m\u001b[0m\n\u001b[0m",
      "\u001b[1;31mTypeError\u001b[0m: 'tuple' object does not support item assignment"
     ]
    }
   ],
   "source": [
    "#!/usr/bin/python\n",
    "\n",
    "tuple = ( 'abcd', 786 , 2.23, 'john', 70.2  )\n",
    "tinytuple = (123, 'john')\n",
    "\n",
    "print (\"la lista completa \", tuple)            \n",
    "print (\"el primer elemento de la lista\", tuple[0])  \n",
    "print (\"desde el 2do elemento al tercero\", tuple[1:3]) \n",
    "print (\"imprime desde el terce elemento\", tuple[2:]) \n",
    "print (\"la lista 2 veces\", tinytuple * 2)   # Prints list two times\n",
    "print (\"imprime listas concatenadas\", tuple + tinytuple) # Prints concatenated lists\n",
    "\n",
    "#concatenación de listas\n",
    "tuple = tuple + tuple\n",
    "\n",
    "print (\"lista concatenada \", tuple)\n",
    "\n",
    "# esto da error\n",
    "tuple [0] = \"dd\""
   ]
  },
  {
   "cell_type": "markdown",
   "metadata": {},
   "source": [
    "### Diccionarios"
   ]
  },
  {
   "cell_type": "markdown",
   "metadata": {},
   "source": [
    "Es una estructura de datos que permite a una clave asignarle un valor. Más información [acá](https://docs.python.org/2/tutorial/datastructures.html#dictionaries) y [acá](http://www.tutorialspoint.com/python/python_dictionary.htm)"
   ]
  },
  {
   "cell_type": "code",
   "execution_count": 22,
   "metadata": {
    "collapsed": false
   },
   "outputs": [
    {
     "name": "stdout",
     "output_type": "stream",
     "text": [
      "el diccionario  {'direccion': 'Av. Gral. Paz 1999', 'nombre': 'Abel'}\n",
      "el valor asociado a la clave Av. Gral. Paz 1999\n",
      "el diccionario  {'direccion': 'Av. Gral. Paz 1999', 'edad': 20, 'nombre': 'Abel'}\n",
      "el diccionario  {'direccion': 'Av. Gral. Paz 1999', 'edad': 25, 'nombre': 'Abel'}\n",
      "el diccionario  {'direccion': 'Av. Gral. Paz 1999', 'nombre': 'Abel'}\n",
      "el diccionario  {'direccion': 'Av. Gral. Paz 1999', 'restaurant': [{'preferencia': 'pizza', 'nombre': '1888'}, {'preferencia': 'bife', 'nombre': 'la esquina'}], 'nombre': 'Abel'}\n"
     ]
    }
   ],
   "source": [
    "dict = {}\n",
    "dict [\"direccion\"] = \"Av. Gral. Paz 1999\"\n",
    "dict [\"nombre\"] = \"Abel\"\n",
    "\n",
    "print (\"el diccionario \", dict)\n",
    "print (\"el valor asociado a la clave\", dict[\"direccion\"])\n",
    "\n",
    "\n",
    "# agregar un par clave-valor.\n",
    "dict [\"edad\"] = 20\n",
    "\n",
    "print (\"el diccionario \", dict)\n",
    "\n",
    "#modificar una clave\n",
    "dict [\"edad\"] = 25\n",
    "print (\"el diccionario \", dict)\n",
    "\n",
    "# borrar una clave\n",
    "del dict [\"edad\"]\n",
    "print (\"el diccionario \", dict)\n",
    "\n",
    "# agregar un dictionario\n",
    "dict [\"restaurant\"] = [{\"nombre\": \"1888\", \"preferencia\": \"pizza\"}, \n",
    "                       {\"nombre\":\"la esquina\", \"preferencia\":\"bife\"}]\n",
    "print (\"el diccionario \", dict)"
   ]
  },
  {
   "cell_type": "markdown",
   "metadata": {},
   "source": [
    "# --------------------------------------------------------------------------- ---------------------------------------------------------------------------"
   ]
  },
  {
   "cell_type": "markdown",
   "metadata": {},
   "source": [
    "# Estructura I: módulos\n",
    "\n",
    "Creamos un archivo en disco: mimodulo.py que tiene una función como la que sigue"
   ]
  },
  {
   "cell_type": "code",
   "execution_count": 7,
   "metadata": {
    "collapsed": false
   },
   "outputs": [],
   "source": [
    "# mimodulo.py\n",
    "def func01 (a,b,c):\n",
    "    return a + b + c"
   ]
  },
  {
   "cell_type": "code",
   "execution_count": 2,
   "metadata": {
    "collapsed": false
   },
   "outputs": [
    {
     "data": {
      "text/plain": [
       "8"
      ]
     },
     "execution_count": 2,
     "metadata": {},
     "output_type": "execute_result"
    }
   ],
   "source": [
    "# Así es como lo usamos en \n",
    "# un programa\n",
    "import mimodulo as mm\n",
    "\n",
    "mm.func01(2,3,3)"
   ]
  },
  {
   "cell_type": "markdown",
   "metadata": {},
   "source": [
    "### NO es recomendable usar\n",
    "\n",
    "Que también funciona, pero puede llevar a colisión\n",
    "de nombres cuando usamos paquetes de distinto origen.\n",
    "No solo con los paquetes propios, también con los ajenos."
   ]
  },
  {
   "cell_type": "code",
   "execution_count": 10,
   "metadata": {
    "collapsed": false
   },
   "outputs": [
    {
     "data": {
      "text/plain": [
       "8"
      ]
     },
     "execution_count": 10,
     "metadata": {},
     "output_type": "execute_result"
    }
   ],
   "source": [
    "from  mimodulo import *\n",
    "\n",
    "func01(2,3,3)"
   ]
  },
  {
   "cell_type": "markdown",
   "metadata": {},
   "source": [
    "## Variables locales y globales  más [acá](http://www.python-course.eu/global_vs_local_variables.php)\n",
    "\n",
    "Esto genera un error  ¿Por qué?"
   ]
  },
  {
   "cell_type": "code",
   "execution_count": 19,
   "metadata": {
    "collapsed": false
   },
   "outputs": [
    {
     "ename": "UnboundLocalError",
     "evalue": "local variable 's' referenced before assignment",
     "output_type": "error",
     "traceback": [
      "\u001b[1;31m---------------------------------------------------------------------------\u001b[0m\n\u001b[1;31mUnboundLocalError\u001b[0m                         Traceback (most recent call last)",
      "\u001b[1;32m<ipython-input-19-255fbe4fbddb>\u001b[0m in \u001b[0;36m<module>\u001b[1;34m()\u001b[0m\n\u001b[0;32m      7\u001b[0m \u001b[1;33m\u001b[0m\u001b[0m\n\u001b[0;32m      8\u001b[0m \u001b[0ms\u001b[0m \u001b[1;33m=\u001b[0m \u001b[1;34m\"I hate spam.\"\u001b[0m\u001b[1;33m\u001b[0m\u001b[0m\n\u001b[1;32m----> 9\u001b[1;33m \u001b[0mf\u001b[0m\u001b[1;33m(\u001b[0m\u001b[1;33m)\u001b[0m\u001b[1;33m\u001b[0m\u001b[0m\n\u001b[0m\u001b[0;32m     10\u001b[0m \u001b[0mprint\u001b[0m \u001b[1;33m(\u001b[0m\u001b[0ms\u001b[0m\u001b[1;33m)\u001b[0m\u001b[1;33m\u001b[0m\u001b[0m\n",
      "\u001b[1;32m<ipython-input-19-255fbe4fbddb>\u001b[0m in \u001b[0;36mf\u001b[1;34m()\u001b[0m\n\u001b[0;32m      1\u001b[0m \u001b[1;33m\u001b[0m\u001b[0m\n\u001b[0;32m      2\u001b[0m \u001b[1;32mdef\u001b[0m \u001b[0mf\u001b[0m\u001b[1;33m(\u001b[0m\u001b[1;33m)\u001b[0m\u001b[1;33m:\u001b[0m\u001b[1;33m\u001b[0m\u001b[0m\n\u001b[1;32m----> 3\u001b[1;33m         \u001b[0mprint\u001b[0m \u001b[1;33m(\u001b[0m\u001b[0ms\u001b[0m\u001b[1;33m)\u001b[0m\u001b[1;33m\u001b[0m\u001b[0m\n\u001b[0m\u001b[0;32m      4\u001b[0m         \u001b[0ms\u001b[0m \u001b[1;33m=\u001b[0m \u001b[1;34m\"Me too.\"\u001b[0m\u001b[1;33m\u001b[0m\u001b[0m\n\u001b[0;32m      5\u001b[0m         \u001b[0mprint\u001b[0m \u001b[1;33m(\u001b[0m\u001b[0ms\u001b[0m\u001b[1;33m)\u001b[0m\u001b[1;33m\u001b[0m\u001b[0m\n",
      "\u001b[1;31mUnboundLocalError\u001b[0m: local variable 's' referenced before assignment"
     ]
    }
   ],
   "source": [
    "\n",
    "def f(): \n",
    "    print (s)\n",
    "    s = \"Me too.\"\n",
    "    print (s)\n",
    "\n",
    "\n",
    "s = \"I hate spam.\" \n",
    "f()\n",
    "print (s)"
   ]
  },
  {
   "cell_type": "code",
   "execution_count": 21,
   "metadata": {
    "collapsed": false
   },
   "outputs": [
    {
     "name": "stdout",
     "output_type": "stream",
     "text": [
      "Python is great!\n",
      "That's clear.\n",
      "That's clear.\n"
     ]
    }
   ],
   "source": [
    "# Con esto corregimos el error anterior (s\n",
    "# si era lo que queríamos hacer\n",
    "def f():\n",
    "    global s\n",
    "    print (s)\n",
    "    s = \"That's clear.\"\n",
    "    print (s) \n",
    "\n",
    "\n",
    "s = \"Python is great!\" \n",
    "f()\n",
    "print (s)"
   ]
  },
  {
   "cell_type": "markdown",
   "metadata": {},
   "source": [
    "## Script  "
   ]
  },
  {
   "cell_type": "code",
   "execution_count": 22,
   "metadata": {
    "collapsed": false
   },
   "outputs": [
    {
     "name": "stdout",
     "output_type": "stream",
     "text": [
      "Esto es una función:  1 2\n",
      "__main__\n",
      "Esto es una función:  string 2\n",
      "__main__\n"
     ]
    }
   ],
   "source": [
    "# -*- coding: utf-8 -*-\n",
    "#!/usr/bin/python\n",
    "\n",
    "# Esto es un comentario\n",
    "\n",
    "# Esto es una función\n",
    "def test(x, s):\n",
    "    #Esto es una indentación\n",
    "    print (\"Esto es una función: \", x, s)\n",
    "\n",
    "# __name__ es una variable especial que contiene el \n",
    "# nombre del módulo\n",
    "if __name__ == \"__main__\":\n",
    "    test(1,2)\n",
    "    test (\"string\",2)"
   ]
  },
  {
   "cell_type": "markdown",
   "metadata": {},
   "source": [
    "## Script  "
   ]
  },
  {
   "cell_type": "code",
   "execution_count": 45,
   "metadata": {
    "collapsed": false
   },
   "outputs": [
    {
     "name": "stdout",
     "output_type": "stream",
     "text": [
      "Hello -f\n",
      "Type something to display its type and value.\n"
     ]
    },
    {
     "ename": "AttributeError",
     "evalue": "'NameError' object has no attribute 'message'",
     "output_type": "error",
     "traceback": [
      "\u001b[1;31m---------------------------------------------------------------------------\u001b[0m\n\u001b[1;31mAttributeError\u001b[0m                            Traceback (most recent call last)",
      "\u001b[1;32m<ipython-input-45-f8991da58dd0>\u001b[0m in \u001b[0;36m<module>\u001b[1;34m()\u001b[0m\n\u001b[0;32m     34\u001b[0m \u001b[1;32mif\u001b[0m \u001b[0m__name__\u001b[0m \u001b[1;33m==\u001b[0m \u001b[1;34m'__main__'\u001b[0m\u001b[1;33m:\u001b[0m\u001b[1;33m\u001b[0m\u001b[0m\n\u001b[0;32m     35\u001b[0m     \u001b[1;31m# sys.exit(main(sys.argv)) # used to give a better look to exists\u001b[0m\u001b[1;33m\u001b[0m\u001b[1;33m\u001b[0m\u001b[0m\n\u001b[1;32m---> 36\u001b[1;33m     \u001b[0mmain\u001b[0m\u001b[1;33m(\u001b[0m\u001b[1;33m)\u001b[0m\u001b[1;33m\u001b[0m\u001b[0m\n\u001b[0m",
      "\u001b[1;32m<ipython-input-45-f8991da58dd0>\u001b[0m in \u001b[0;36mmain\u001b[1;34m()\u001b[0m\n\u001b[0;32m     26\u001b[0m         \u001b[0mprint\u001b[0m \u001b[1;33m(\u001b[0m\u001b[1;34m'User input - type: %s, value: %s'\u001b[0m \u001b[1;33m%\u001b[0m \u001b[1;33m(\u001b[0m\u001b[0mtype\u001b[0m\u001b[1;33m(\u001b[0m\u001b[0muserInput\u001b[0m\u001b[1;33m)\u001b[0m\u001b[1;33m,\u001b[0m \u001b[0muserInput\u001b[0m\u001b[1;33m)\u001b[0m\u001b[1;33m)\u001b[0m\u001b[1;33m\u001b[0m\u001b[0m\n\u001b[0;32m     27\u001b[0m     \u001b[1;32mexcept\u001b[0m \u001b[0mException\u001b[0m \u001b[1;32mas\u001b[0m \u001b[0mex\u001b[0m\u001b[1;33m:\u001b[0m\u001b[1;33m\u001b[0m\u001b[0m\n\u001b[1;32m---> 28\u001b[1;33m         \u001b[0mprint\u001b[0m \u001b[1;33m(\u001b[0m\u001b[0mex\u001b[0m\u001b[1;33m.\u001b[0m\u001b[0mmessage\u001b[0m\u001b[1;33m)\u001b[0m\u001b[1;33m\u001b[0m\u001b[0m\n\u001b[0m\u001b[0;32m     29\u001b[0m         \u001b[1;32mreturn\u001b[0m \u001b[1;36m1\u001b[0m \u001b[1;31m# indicates error, but not necessary\u001b[0m\u001b[1;33m\u001b[0m\u001b[0m\n\u001b[0;32m     30\u001b[0m     \u001b[1;32melse\u001b[0m\u001b[1;33m:\u001b[0m\u001b[1;33m\u001b[0m\u001b[0m\n",
      "\u001b[1;31mAttributeError\u001b[0m: 'NameError' object has no attribute 'message'"
     ]
    }
   ],
   "source": [
    "# -*- coding: utf-8 -*-\n",
    "\n",
    "# Lo anterior nos permite escribir comentarios\n",
    "# con carácteres acentuados o ñ.\n",
    "\n",
    "#!/usr/bin/python\n",
    "\n",
    "\"\"\"\n",
    "Esto es un comentario muy largo\n",
    "donde describimos el objetivo del módulo\n",
    "\n",
    "\"\"\"\n",
    "\n",
    "import sys\n",
    "\n",
    "def main():\n",
    "    try:    \n",
    "        if len(sys.argv) >= 2:\n",
    "            name = sys.argv[1]\n",
    "        else:\n",
    "            name = 'World'\n",
    "        print ('Hello', name)\n",
    "        \n",
    "        print ('Type something to display its type and value.')\n",
    "        userInput = raw_input()\n",
    "        print ('User input - type: %s, value: %s' % (type(userInput), userInput))\n",
    "    except Exception as ex:\n",
    "        print (ex.message)\n",
    "        return 1 # indicates error, but not necessary\n",
    "    else:\n",
    "        return 0 # return 0 # indicates errorlessly exit, but not necessary    \n",
    "    \n",
    "# this is the standard boilerplate that calls the main() function\n",
    "if __name__ == '__main__':\n",
    "    # sys.exit(main(sys.argv)) # used to give a better look to exists\n",
    "    main()"
   ]
  },
  {
   "cell_type": "markdown",
   "metadata": {},
   "source": [
    "# --------------------------------------------------------------------------- ---------------------------------------------------------------------------"
   ]
  },
  {
   "cell_type": "markdown",
   "metadata": {},
   "source": [
    "## Programación Orientada a Objetos \n",
    "\n",
    "Hasta ahora se evitó hablar de programación orientada a objetos, pero en toda\n",
    "esta presentación, usamos objetos, propiedades de  objetos y métodos de objetos.\n",
    "\n",
    "La programación orientada a objetos está basada en clases, existe una colección de objetos\n",
    "que interactuan (más o menos) entre ellos. Hasta ahora vimos la idea de progamación orientada\n",
    "a funciones y rutinas. En la programación orientada a objetos, los objetos pueden recibir mensajes,\n",
    "procesar data y enviar mensajes a otros objetos.\n",
    "\n",
    "* Encapsulado\n",
    "* Abstracción de datos\n",
    "* Polimorfismo\n",
    "* Herencia\n",
    "\n",
    "Nosotros nos vamos a dedicar a los 2 primeros, encapsulado y abstracción de datos."
   ]
  },
  {
   "cell_type": "code",
   "execution_count": 82,
   "metadata": {
    "collapsed": false
   },
   "outputs": [
    {
     "data": {
      "image/png": "[encoded data removed]",
      "text/plain": [
       "<IPython.core.display.Image at 0xb2af96cc>"
      ]
     },
     "execution_count": 82,
     "metadata": {},
     "output_type": "execute_result"
    }
   ],
   "source": [
    "Image(filename='fruit.png')"
   ]
  },
  {
   "cell_type": "markdown",
   "metadata": {},
   "source": [
    "### Una analogía: las tartas de fresas"
   ]
  },
  {
   "cell_type": "code",
   "execution_count": 84,
   "metadata": {
    "collapsed": false
   },
   "outputs": [
    {
     "data": {
      "image/png": "[encoded data removed]",
      "text/plain": [
       "<IPython.core.display.Image at 0xb2ae25cc>"
      ]
     },
     "execution_count": 84,
     "metadata": {},
     "output_type": "execute_result"
    }
   ],
   "source": [
    "Image(filename=\"strawberry_tart_as_class.png\")"
   ]
  },
  {
   "cell_type": "markdown",
   "metadata": {},
   "source": [
    "La definición de una clase puede ser comparada a la receta para cocinar una torta. Se necesita una receta para hornear una tarta. La diferencia entre la receta (clase) y la torta (una instancia o un objeto de esa clase) es obvia. La tarta se puede comer, la receta no. \n",
    "\n",
    "La programación orientada a objetos construye los objetos de acuerdo a la definición de la clase.\n",
    "La clase contiene variables y métodos (funciones), los ingredientes e instrucciones para cocinar la torta.\n"
   ]
  },
  {
   "cell_type": "markdown",
   "metadata": {},
   "source": [
    "### Ejemplo 1. Una clase muy simple."
   ]
  },
  {
   "cell_type": "code",
   "execution_count": 87,
   "metadata": {
    "collapsed": false
   },
   "outputs": [
    {
     "name": "stdout",
     "output_type": "stream",
     "text": [
      "Esto es una función:  1 2\n",
      "Esto es una función:  string 3\n"
     ]
    }
   ],
   "source": [
    "# -*- coding: utf-8 -*-\n",
    "#!/usr/bin/python\n",
    "\n",
    "#\n",
    "# Definición de la clase\n",
    "#\n",
    "class Test (object):\n",
    "    # constructor de la clase\n",
    "    # no siempre necesario, pero \n",
    "    # recomendable su definición\n",
    "    def __init__(self, x, s):\n",
    "        self.x = x #propiedad x\n",
    "        self.s = s # propiedad s\n",
    "        \n",
    "    def metodo(self):\n",
    "        print (\"Esto es una función: \", self.x, self.s)\n",
    "\n",
    "        \n",
    "if __name__ == \"__main__\":\n",
    "    # Declaración de los objetos\n",
    "    # como instancias particulares\n",
    "    # de la clase.\n",
    "    t1 = Test(1,2)\n",
    "    t2 = Test (\"string\", 3)\n",
    "    t1.metodo()\n",
    "    t2.metodo()"
   ]
  },
  {
   "cell_type": "markdown",
   "metadata": {},
   "source": [
    "### Algo un poco más técnico"
   ]
  },
  {
   "cell_type": "code",
   "execution_count": 98,
   "metadata": {
    "collapsed": false
   },
   "outputs": [
    {
     "name": "stdout",
     "output_type": "stream",
     "text": [
      "Acá va la parte de la simulación parámetro:  1\n",
      "Acá va la parte de la simulación parámetro:  2\n",
      "circuit 1 [0, 1, 2, 3, 4, 5, 6, 7, 8, 9, 10, 11, 12, 13, 14, 15, 16, 17, 18, 19]\n",
      "circuit 2 [0, 1, 2, 3, 4, 5, 6, 7, 8, 9, 10, 11, 12, 13, 14, 15, 16, 17, 18, 19, 20, 21, 22, 23, 24, 25, 26, 27, 28, 29, 30, 31, 32, 33, 34, 35, 36, 37, 38, 39]\n"
     ]
    }
   ],
   "source": [
    "class circuitRLC (object):\n",
    "    def __init__ (self, R,L,C, t):\n",
    "        self.R = R\n",
    "        self.L = L\n",
    "        self.C = C\n",
    "        self.resultado =[]\n",
    "        self.t = t\n",
    "        \n",
    "    def simulacion (self, param):\n",
    "        self.param = param\n",
    "        print (\"Acá va la parte de la simulación parámetro: \", param)\n",
    "        self.resultado = [i for i in range (self.param*self.t)]\n",
    "        \n",
    "    def getResultado(self):\n",
    "        return (self.resultado)\n",
    "\n",
    "if __name__ == \"__main__\":\n",
    "    circuit1 = circuitRLC (1000, 1e-6, 10e-5,20)\n",
    "    circuit2 = circuitRLC (10000, 1e-7, 20e-5, 20)\n",
    "    \n",
    "    circuit1.simulacion(1)\n",
    "    circuit2.simulacion(2)\n",
    "    \n",
    "    print (\"circuit 1\", circuit1.getResultado())\n",
    "    print (\"circuit 2\", circuit2.getResultado())"
   ]
  },
  {
   "cell_type": "code",
   "execution_count": 81,
   "metadata": {
    "collapsed": false
   },
   "outputs": [
    {
     "name": "stdout",
     "output_type": "stream",
     "text": [
      "0.08333333333333334\n",
      "0.1\n",
      "0.09666666666666668\n",
      "0.1\n",
      "0.11000000000000001\n",
      "0.12666666666666668\n",
      "0.15\n",
      "0.18000000000000005\n",
      "0.21666666666666667\n",
      "0.26\n",
      "0.31\n"
     ]
    }
   ],
   "source": [
    "class Cone ():\n",
    "    def __init__(self,d0,de,L):\n",
    "        \"Create a cone\"\n",
    "        self.a0 = d0/2\n",
    "        self.ae = de/2\n",
    "        self.L = L\n",
    " \n",
    "    def __del__(self):\n",
    "        pass\n",
    " \n",
    "    def radius(self,z):\n",
    "        return self.ae + (self.a0-self.ae)*z/self.L\n",
    " \n",
    "    def radiusp(self,z):\n",
    "        # esto tambíen es un comentario\n",
    "        \"derivative of the radius at z\"\n",
    "        return (self.a0-self.ae)/self.L\n",
    "\n",
    "# para escribir código en la misma línea usar ;\n",
    "c1 = Cone(0.1,0.2,1.5); print (c1.radius(0.5))\n",
    "c2 = Cone(0.2,0.2,1.5); print (c2.radius(0.25))\n",
    "\n",
    "# defino una lista\n",
    "x = []\n",
    "for k in range (1,10):\n",
    "    # agrego conos a la lista\n",
    "    x.append (Cone (0.1*k,0.2,1.5))\n",
    "\n",
    "# inicio un variable\n",
    "k = 1\n",
    "# accedo a cada uno de los conos de la lista x\n",
    "for cone in x:\n",
    "    # saco una cuenta e imprimo el resultado\n",
    "    print (cone.radius(0.1*k))\n",
    "    k = k + 1"
   ]
  },
  {
   "cell_type": "markdown",
   "metadata": {},
   "source": [
    "# --------------------------------------------------------------------------- ---------------------------------------------------------------------------"
   ]
  },
  {
   "cell_type": "markdown",
   "metadata": {},
   "source": [
    "# Extras \n",
    "## Pithonismo ??!!\n",
    "\n",
    "Se refiere a una forma pithónica de hacer las cosas ???????!!!!"
   ]
  },
  {
   "cell_type": "code",
   "execution_count": 65,
   "metadata": {
    "collapsed": false
   },
   "outputs": [
    {
     "name": "stdout",
     "output_type": "stream",
     "text": [
      "[100, 121, 144, 169, 196]\n",
      "730\n"
     ]
    }
   ],
   "source": [
    "# de http://nbviewer.ipython.org/github/mgaitan/curso-python-cientifico/blob/scipycon/Clase%201.ipynb\n",
    "cuadrados = []\n",
    "for i in range(10,15,1):\n",
    "    cuadrados.append(i**2)\n",
    "print (cuadrados)\n",
    "\n",
    "suma = 0\n",
    "for i in range (0,len(cuadrados)):\n",
    "    suma = suma + cuadrados[i]\n",
    "    \n",
    "print (suma)"
   ]
  },
  {
   "cell_type": "markdown",
   "metadata": {},
   "source": [
    "### listas por comprehensión:"
   ]
  },
  {
   "cell_type": "markdown",
   "metadata": {},
   "source": [
    "Es la forma de python para implementar la notación de conjuntos. Y se sustituye filter, reduce, map. \n",
    "\n",
    "${ \\{ x^2 | \\forall x \\in (10 <= x < 15), x \\in N \\} }$"
   ]
  },
  {
   "cell_type": "code",
   "execution_count": 63,
   "metadata": {
    "collapsed": false
   },
   "outputs": [
    {
     "name": "stdout",
     "output_type": "stream",
     "text": [
      "[100, 121, 144, 169, 196]\n",
      "730\n"
     ]
    }
   ],
   "source": [
    "cuadrados = [i**2 for i in range(10,15,1)]\n",
    "print (cuadrados)\n",
    "print (sum(cuadrados))"
   ]
  },
  {
   "cell_type": "code",
   "execution_count": 64,
   "metadata": {
    "collapsed": false
   },
   "outputs": [
    {
     "data": {
      "text/plain": [
       "730"
      ]
     },
     "execution_count": 64,
     "metadata": {},
     "output_type": "execute_result"
    }
   ],
   "source": [
    "sum([i**2 for i in range(10,15,1)])"
   ]
  },
  {
   "cell_type": "code",
   "execution_count": 67,
   "metadata": {
    "collapsed": false
   },
   "outputs": [
    {
     "name": "stdout",
     "output_type": "stream",
     "text": [
      "[('red', 'house'), ('red', 'car'), ('red', 'tree'), ('green', 'house'), ('green', 'car'), ('green', 'tree'), ('yellow', 'house'), ('yellow', 'car'), ('yellow', 'tree'), ('blue', 'house'), ('blue', 'car'), ('blue', 'tree')]\n"
     ]
    }
   ],
   "source": [
    "colours = [ \"red\", \"green\", \"yellow\", \"blue\" ]\n",
    "things = [ \"house\", \"car\", \"tree\" ]\n",
    "coloured_things = [ (x,y) for x in colours for y in things ]\n",
    "print (coloured_things)\n",
    " "
   ]
  },
  {
   "cell_type": "markdown",
   "metadata": {},
   "source": [
    "### Ejercicio\n",
    "\n",
    "Llegados a este punto, podemos intentar dar una explicación de que y como hace las \n",
    "cosas este pedazo de código."
   ]
  },
  {
   "cell_type": "code",
   "execution_count": 2,
   "metadata": {
    "collapsed": false
   },
   "outputs": [
    {
     "name": "stdout",
     "output_type": "stream",
     "text": [
      "uid=sa;pwd=secret;server=mpilgrim;database=master\n"
     ]
    }
   ],
   "source": [
    "def buildConnectionString(params):\n",
    "    \"\"\"Build a connection string from a dictionary of parameters.\n",
    "    Returns string.\"\"\"\n",
    "    return \";\".join([\"%s=%s\" % (k, v) for k, v in params.items()])\n",
    "\n",
    "\n",
    "if __name__ == \"__main__\":\n",
    "    myParams = {\"server\":\"mpilgrim\", \\\n",
    "                \"database\":\"master\", \\\n",
    "                \"uid\":\"sa\", \\\n",
    "                \"pwd\":\"secret\" \\\n",
    "                }\n",
    "    print (buildConnectionString(myParams))"
   ]
  },
  {
   "cell_type": "markdown",
   "metadata": {},
   "source": [
    "## Generador: yield\n",
    "\n",
    "Con ellos tenemos la posibilidad de crear iteradores, se parecen a las funciones pero son sintáctica y semánticamente diferentes. Y se pueden considerar como funciones con ejecución diferida. Más información [acá](http://www.python-course.eu/generators.php)\n"
   ]
  },
  {
   "cell_type": "code",
   "execution_count": 4,
   "metadata": {
    "collapsed": false
   },
   "outputs": [],
   "source": [
    "def count (n):\n",
    "  print (\"starting count\")\n",
    "  i = 0\n",
    "  while i < n:\n",
    "    yield {\"a\":i}\n",
    "    i += 1\n",
    "  return\n",
    "\n",
    "def countdown(n):\n",
    "  print (\"starting countdown\")  \n",
    "  while n > 0:\n",
    "   yield n\n",
    "   n -= 1"
   ]
  },
  {
   "cell_type": "code",
   "execution_count": 5,
   "metadata": {
    "collapsed": false
   },
   "outputs": [
    {
     "name": "stdout",
     "output_type": "stream",
     "text": [
      "<generator object count at 0xb2ad40f4>\n"
     ]
    }
   ],
   "source": [
    "# creación de un generador\n",
    "# se llama como una función y retorna un iterador\n",
    "# el código no se ejecuta en esta etapa\n",
    "c = count(5)\n",
    "# imprime un generador \n",
    "print (c)"
   ]
  },
  {
   "cell_type": "code",
   "execution_count": 6,
   "metadata": {
    "collapsed": false
   },
   "outputs": [
    {
     "name": "stdout",
     "output_type": "stream",
     "text": [
      "starting count\n",
      "{'a': 0}\n",
      "{'a': 1}\n",
      "{'a': 2}\n",
      "{'a': 3}\n",
      "{'a': 4}\n"
     ]
    }
   ],
   "source": [
    "# el iterador puede ser usado con la función next()\n",
    "# la primera vez la ejecución comienza como en una función \n",
    "# y el código se ejecuta hasta el 1er yield\n",
    "#\n",
    "# yield retorna el valor de la expresión, se recuerda la posición y el estado.\n",
    "# en la próxima llamada la ejecución sigue hasta que se encuentra un nuevo yield\n",
    "#\n",
    "# se finaliza el iterador luego de ejecutar todos los yields o encontrar un return \n",
    "for i in c:\n",
    "    print (i)"
   ]
  },
  {
   "cell_type": "code",
   "execution_count": 7,
   "metadata": {
    "collapsed": false
   },
   "outputs": [
    {
     "ename": "StopIteration",
     "evalue": "",
     "output_type": "error",
     "traceback": [
      "\u001b[1;31m---------------------------------------------------------------------------\u001b[0m\n\u001b[1;31mStopIteration\u001b[0m                             Traceback (most recent call last)",
      "\u001b[1;32m<ipython-input-7-73b012f9653f>\u001b[0m in \u001b[0;36m<module>\u001b[1;34m()\u001b[0m\n\u001b[1;32m----> 1\u001b[1;33m \u001b[0mnext\u001b[0m\u001b[1;33m(\u001b[0m\u001b[0mc\u001b[0m\u001b[1;33m)\u001b[0m\u001b[1;33m\u001b[0m\u001b[0m\n\u001b[0m",
      "\u001b[1;31mStopIteration\u001b[0m: "
     ]
    }
   ],
   "source": [
    "# error: el generador llegó a su último elemento\n",
    "next(c)"
   ]
  },
  {
   "cell_type": "code",
   "execution_count": 8,
   "metadata": {
    "collapsed": false
   },
   "outputs": [
    {
     "name": "stdout",
     "output_type": "stream",
     "text": [
      "<generator object countdown at 0xb635f6e4>\n",
      "starting countdown\n",
      "5\n",
      "4\n",
      "3\n",
      "2\n",
      "1\n"
     ]
    }
   ],
   "source": [
    "d = countdown(5)\n",
    "print (d)\n",
    "for k in d:\n",
    "    print (k)"
   ]
  },
  {
   "cell_type": "markdown",
   "metadata": {},
   "source": [
    "## Operador lambda"
   ]
  },
  {
   "cell_type": "code",
   "execution_count": 1,
   "metadata": {
    "collapsed": false
   },
   "outputs": [
    {
     "name": "stdout",
     "output_type": "stream",
     "text": [
      "El valor de la suma 30\n",
      "El valor de la suma 30\n"
     ]
    }
   ],
   "source": [
    "# defino una  función lambda\n",
    "misuma = lambda arg1, arg2: arg1 + arg2\n",
    "# son equivalentes\n",
    "def suma (arg1, arg2):\n",
    "    return (arg1+ arg2)\n",
    "\n",
    "# llamo a la función\n",
    "print (\"El valor de la suma\", misuma(20,10))\n",
    "print (\"El valor de la suma\", suma(20,10))"
   ]
  },
  {
   "cell_type": "markdown",
   "metadata": {},
   "source": [
    "## Función map, r = map(func, seq)"
   ]
  },
  {
   "cell_type": "code",
   "execution_count": 26,
   "metadata": {
    "collapsed": false
   },
   "outputs": [
    {
     "name": "stdout",
     "output_type": "stream",
     "text": [
      "[]\n",
      "[36.5, 37.00000000000001, 37.5, 39.0]\n"
     ]
    }
   ],
   "source": [
    "def fahrenheit(T):\n",
    "    return ((float(9)/5)*T + 32)\n",
    "\n",
    "def celsius(T):\n",
    "    return (float(5)/9)*(T-32)\n",
    "\n",
    "temp = (36.5, 37, 37.5,39)\n",
    "\n",
    "# entra una lista, sale una lista\n",
    "F = map(fahrenheit, temp)\n",
    "C = map(celsius, F)\n",
    "\n",
    "print (list(F))\n",
    "print (list(C))"
   ]
  },
  {
   "cell_type": "markdown",
   "metadata": {},
   "source": [
    "### Con el operador lambda"
   ]
  },
  {
   "cell_type": "code",
   "execution_count": 32,
   "metadata": {
    "collapsed": false
   },
   "outputs": [
    {
     "name": "stdout",
     "output_type": "stream",
     "text": [
      "[102.56, 97.7, 99.14, 100.03999999999999]\n",
      "[]\n"
     ]
    }
   ],
   "source": [
    "Celsius = [39.2, 36.5, 37.3, 37.8]\n",
    "Fahrenheit = map(lambda x: (float(9)/5)*x + 32, Celsius)\n",
    "print (list(Fahrenheit))\n",
    "\n",
    "C = map(lambda x: (float(5)/9)*(x-32), Fahrenheit)\n",
    "print (list(C))"
   ]
  },
  {
   "cell_type": "code",
   "execution_count": 38,
   "metadata": {
    "collapsed": false
   },
   "outputs": [
    {
     "name": "stdout",
     "output_type": "stream",
     "text": [
      "[18, 14, 14, 14]\n",
      "[19, 18, 9, 5]\n"
     ]
    }
   ],
   "source": [
    "a = [1,2,3,4]\n",
    "b = [17,12,11,10]\n",
    "c = [-1,-4,5,9]\n",
    "d=map(lambda x,y:x+y, a,b)\n",
    "print (list(d))\n",
    "\n",
    "print (list(map(lambda x,y,z:x+y-z, a,b,c)))\n",
    "\n"
   ]
  },
  {
   "cell_type": "markdown",
   "metadata": {},
   "source": [
    "### Función filter ()\n",
    "\n",
    "Filtra a todos los elementos para los que la función lambda retorna True"
   ]
  },
  {
   "cell_type": "code",
   "execution_count": 55,
   "metadata": {
    "collapsed": false
   },
   "outputs": [
    {
     "name": "stdout",
     "output_type": "stream",
     "text": [
      "[1, 1, 3, 5, 13, 21, 55]\n",
      "[0, 2, 8, 34]\n"
     ]
    }
   ],
   "source": [
    "fib = [0,1,1,2,3,5,8,13,21,34,55]\n",
    "result = filter(lambda x: x % 2, fib)\n",
    "print (list(result))\n",
    "result = filter(lambda x: x % 2 == 0, fib)\n",
    "print (list(result))\n",
    " "
   ]
  },
  {
   "cell_type": "markdown",
   "metadata": {},
   "source": [
    "### Función reduce ()"
   ]
  },
  {
   "cell_type": "code",
   "execution_count": 80,
   "metadata": {
    "collapsed": false
   },
   "outputs": [
    {
     "data": {
      "image/png": "[encoded data removed]",
      "text/plain": [
       "<IPython.core.display.Image at 0xb2af986c>"
      ]
     },
     "execution_count": 80,
     "metadata": {},
     "output_type": "execute_result"
    }
   ],
   "source": [
    "Image(filename='reduce_diagram.png')"
   ]
  },
  {
   "cell_type": "code",
   "execution_count": 62,
   "metadata": {
    "collapsed": false
   },
   "outputs": [
    {
     "data": {
      "text/plain": [
       "113"
      ]
     },
     "execution_count": 62,
     "metadata": {},
     "output_type": "execute_result"
    }
   ],
   "source": [
    "import functools as ft\n",
    "\n",
    "ft.reduce(lambda x,y: x+y, [47,11,42,13])"
   ]
  }
 ],
 "metadata": {
  "kernelspec": {
   "display_name": "Python 3",
   "language": "python",
   "name": "python3"
  },
  "language_info": {
   "codemirror_mode": {
    "name": "ipython",
    "version": 3
   },
   "file_extension": ".py",
   "mimetype": "text/x-python",
   "name": "python",
   "nbconvert_exporter": "python",
   "pygments_lexer": "ipython3",
   "version": "3.4.3"
  }
 },
 "nbformat": 4,
 "nbformat_minor": 0
}
