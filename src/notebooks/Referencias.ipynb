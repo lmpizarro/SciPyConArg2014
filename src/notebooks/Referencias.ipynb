{
 "metadata": {
  "name": "",
  "signature": "sha256:213d75c5b0bb2184572b3ab3d0a7114b48e2f42a3b870811bd7c6daf223a3351"
 },
 "nbformat": 3,
 "nbformat_minor": 0,
 "worksheets": [
  {
   "cells": [
    {
     "cell_type": "markdown",
     "metadata": {},
     "source": [
      "#### nbviewer A simple way to share IPython Notebooks [link](http://nbviewer.ipython.org/)"
     ]
    },
    {
     "cell_type": "markdown",
     "metadata": {},
     "source": [
      "# Aprendiendo Python\n",
      "#### Tutorial de Python para ciencias e ingenier\u00edas [link](https://github.com/mgaitan/curso-python-cientifico)\n",
      "\n",
      "#### A Crash Course in Python for Scientists [link](http://nbviewer.ipython.org/gist/rpmuller/5920182)\n",
      "\n",
      "#### Scientific Computing with Python [link](http://www.scientificpython.net/)"
     ]
    },
    {
     "cell_type": "markdown",
     "metadata": {},
     "source": [
      "# Procesamiento digital de se\u00f1ales\n",
      "\n",
      "#### Python for Signal Processing [link](http://nbviewer.ipython.org/github/unpingco/Python-for-Signal-Processing/tree/master/)\n",
      "#### Sound Analysis with the Fourier Transform and Python [link](https://github.com/calebmadrigal/FourierTalkOSCON)\n",
      "#### PyWavelets - Discrete Wavelet Transform in Python [link](www.pybytes.com/pywavelets/)"
     ]
    },
    {
     "cell_type": "markdown",
     "metadata": {},
     "source": [
      "# Ecuaciones diferenciales\n",
      "\n",
      "#### The FEniCS Project [link](http://fenicsproject.org/)\n",
      "\n",
      "## Ecuaciones diferenciales Ordinarias\n",
      "\n",
      "\n",
      "## Ecuaciones diferenciales a derivadas parciales\n",
      "\n",
      "#### The Crank-Nicolson Method [link](http://nbviewer.ipython.org/github/waltherg/notebooks/blob/master/2013-12-03-Crank_Nicolson.ipynb)\n",
      "\n",
      "#### Performance Python: Solving The 2D Diffusion Equation With numpy [link](http://www.timteatro.net/2010/10/29/performance-python-solving-the-2d-diffusion-equation-with-numpy/)\n",
      "\n",
      "### L.A. Barba\n",
      "\n",
      "#### Practical Numerical Methods with Python course [link](https://github.com/numerical-mooc/numerical-mooc/wiki)\n",
      "\n",
      "### Hans Fangohr \n",
      "\n",
      "#### Introduction to Python for Computational Science and Engineering [limk](http://www.southampton.ac.uk/~fangohr/training/python/pdfs/Python-for-Computational-Science-and-Engineering.pdf)\n",
      "\n",
      "#### Complex Systems Simulations [link](http://www.southampton.ac.uk/~fangohr/teaching/comp6024/)\n",
      "\n",
      "### Hans Petter Langtangen\n",
      "\n",
      "\n",
      "#### Overview of course material: Numerical solution of PDEs [link](http://hplgit.github.io/num-methods-for-PDEs/doc/pub/333)\n",
      "#### Numerical methods for partial differential equations  [link](http://hplgit.github.io/INF5620/doc/pub/)"
     ]
    },
    {
     "cell_type": "markdown",
     "metadata": {},
     "source": [
      "# Numpy statistics tutorial\n",
      "\n",
      "#### Simple statistics with SciPy [link](http://oneau.wordpress.com/2011/02/28/simple-statistics-with-scipy/)\n",
      "\n",
      "####  Methods of Random Sampling: Dealing with Rejection [link](http://pig-in-the-python.blogspot.com.ar/)\n",
      "####  Statistical Data Analysis in Python [link](https://conference.scipy.org/scipy2013/tutorial_detail.php?id=109)\n",
      "#### Statistical analysis made easy in Python with SciPy and pandas DataFrames [link](http://www.randalolson.com/2012/08/06/statistical-analysis-made-easy-in-python/)\n",
      "\n",
      "#### Statistical Data Analysis in Python [link](https://github.com/fonnesbeck/statistical-analysis-python-tutorial)\n",
      "\n",
      "## Confiabilidad\n",
      "#### Structural Reliability Analysis with Python [Pyre](https://github.com/hackl/pyre)\n",
      "#### SYSTEM RELIABILITY THEORY Second Edition [link](https://notendur.hi.is/hthb1/%C3%81rei%C3%B0anleiki%20kerfa/System%20Reliability%20Theory%20Models%20and%20Statistical%20Methods.pdf)\n",
      "\n",
      "#### STATISTICAL METHODS IN RELIABILITY TESTING (statistics reliability) [link](https://www.stat.sfu.ca/content/dam/sfu/stat/alumnitheses/2012/Thesis_Alexey_full_4-26-2012.pdf)\n"
     ]
    },
    {
     "cell_type": "markdown",
     "metadata": {},
     "source": [
      "# Varios\n",
      "\n",
      "#### A gallery of interesting IPython Notebooks [link](https://github.com/ipython/ipython/wiki/A-gallery-of-interesting-IPython-Notebooks#signal-and-sound-processing)\n",
      "#### Plotting with Matplotlib [link](http://nbviewer.ipython.org/github/ipython/ipython/blob/1.x/examples/notebooks/Part%203%20-%20Plotting%20with%20Matplotlib.ipynb)\n",
      "#### Projects using IPython [link](https://github.com/ipython/ipython/wiki/Projects-using-IPython)\n",
      "#### INotebook (IPython Notebook File Viewer) [link](https://github.com/tartavull/INotebook)\n",
      "#### A Tutorial Introduction to JessyInk: Presentations in Inkscape. [link](http://www.timteatro.net/2010/08/12/a-tutorial-introduction-to-jessyink-presentations-in-inkscape/)\n",
      "\n",
      "#### Experience with Using Python for Teaching Scientific Computing [link](http://hplgit.github.io/edu/uiopy/uiopy.html)"
     ]
    },
    {
     "cell_type": "code",
     "collapsed": false,
     "input": [],
     "language": "python",
     "metadata": {},
     "outputs": []
    }
   ],
   "metadata": {}
  }
 ]
}