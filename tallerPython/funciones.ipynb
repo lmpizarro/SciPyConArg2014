{
 "cells": [
  {
   "cell_type": "markdown",
   "metadata": {},
   "source": [
    "# Funciones"
   ]
  },
  {
   "cell_type": "code",
   "execution_count": 12,
   "metadata": {
    "collapsed": false
   },
   "outputs": [
    {
     "name": "stdout",
     "output_type": "stream",
     "text": [
      "<class 'numpy.ndarray'> (1000,)\n",
      "<class 'numpy.ndarray'> (100, 100)\n",
      "0 llamando a funciones\n",
      "1 llamando a funciones\n",
      "2 llamando a funciones\n"
     ]
    }
   ],
   "source": [
    "import numpy as np\n",
    "\n",
    "def print_info(a):\n",
    "    print (type(a), a.shape)\n",
    "\n",
    "# pasando un argumento sin valor iniciar\n",
    "#\n",
    "# n: es entero \n",
    "# init0: retorna un array numpy con n 1\n",
    "def init0 (n):\n",
    "    return(np.ones(n))\n",
    "\n",
    "# Argumentos con valores por omisión\n",
    "def init(w, h=100, i=255, ismatrix=True):\n",
    "    a = i * np.ones(w * h)\n",
    "    if ismatrix is True:\n",
    "        a = a.reshape(w, h)\n",
    "    return(a)\n",
    "\n",
    "a = init0(1000)\n",
    "print_info(a)\n",
    "\n",
    "b = init(100, i=20)\n",
    "print_info(b)\n",
    "\n",
    "##############################\n",
    "\n",
    "\n",
    "#\n",
    "# Función que acepta como parámetro a una\n",
    "# función y sus parámetros\n",
    "#\n",
    "def f3(n):\n",
    "    for i in range(n):\n",
    "        print(i, \"llamando a funciones\")\n",
    "    \n",
    "def func(paramfunc=f3, params=3):\n",
    "    f3(params)  \n",
    "\n",
    "func()\n"
   ]
  },
  {
   "cell_type": "markdown",
   "metadata": {},
   "source": [
    "## Lista de argumentos *args y **kwargs"
   ]
  },
  {
   "cell_type": "code",
   "execution_count": 9,
   "metadata": {
    "collapsed": false
   },
   "outputs": [
    {
     "name": "stdout",
     "output_type": "stream",
     "text": [
      "first normal arg: yasoob\n",
      "another arg through *argv : python\n",
      "another arg through *argv : eggs\n",
      "another arg through *argv : test\n"
     ]
    }
   ],
   "source": [
    "#\n",
    "# *args, lista de argumentos sin clave\n",
    "#\n",
    "def test_var_args(f_arg, *argv):\n",
    "    print (\"first normal arg:\", f_arg)\n",
    "    for arg in argv:\n",
    "        print(\"another arg through *argv :\", arg)\n",
    "\n",
    "test_var_args('yasoob','python','eggs','test')"
   ]
  },
  {
   "cell_type": "code",
   "execution_count": 10,
   "metadata": {
    "collapsed": false
   },
   "outputs": [
    {
     "name": "stdout",
     "output_type": "stream",
     "text": [
      "{'age': 45, 'name': 'yasoob'}\n",
      "age == 45\n",
      "name == yasoob\n",
      "name:  yasoob\n",
      "age:  45\n"
     ]
    }
   ],
   "source": [
    "#\n",
    "# **kwars, lista de argumentos con clave\n",
    "#\n",
    "\n",
    "def greet_me(**kwargs):\n",
    "    if kwargs is not None:\n",
    "        print (kwargs)\n",
    "        for key, value in kwargs.items():\n",
    "            print (\"%s == %s\" %(key,value))\n",
    "\n",
    "    if 'name' in kwargs.keys():\n",
    "       print ('name: ', kwargs['name'])\n",
    "\n",
    "\n",
    "    if 'age' in kwargs.keys():\n",
    "       print ('age: ', kwargs['age'])\n",
    "\n",
    "\n",
    "greet_me(name=\"yasoob\", age= 45)"
   ]
  },
  {
   "cell_type": "code",
   "execution_count": 13,
   "metadata": {
    "collapsed": false
   },
   "outputs": [
    {
     "name": "stdout",
     "output_type": "stream",
     "text": [
      "a:  1\n",
      "1\n",
      "1\n",
      "2\n",
      "v2 3\n",
      "v1 1\n",
      "5\n",
      "a:  1\n",
      "args:----  6\n",
      "1\n",
      "2\n",
      "3\n",
      "4\n",
      "5\n",
      "v2 6\n",
      "v1 2\n",
      "{'v2': 6, 'v1': 4}\n"
     ]
    }
   ],
   "source": [
    "# pasar lista y diccionario como\n",
    "# argumento posicional\n",
    "def f1(a, argl, argk):\n",
    "    print(\"a: \", a)\n",
    "  \n",
    "    for e in argl:\n",
    "        print(e)\n",
    "    \n",
    "    for (k,v) in argk.items():\n",
    "        print(k,v)\n",
    "    \n",
    "    argk[\"v1\"] *= 5\n",
    "    return argk[\"v1\"] \n",
    "\n",
    "c = f1(1, [1,1,2], {\"v1\":1, \"v2\":3})\n",
    "print(c)\n",
    "\n",
    "########################\n",
    "\n",
    "# pasar lista y diccionario como\n",
    "# lista de parámetros\n",
    "def f2(a, *args):\n",
    "    print(\"a: \", a)\n",
    "    print(\"args:---- \", args[1][\"v2\"]) \n",
    "     \n",
    "    \n",
    "    for a in args[0]:\n",
    "        print (a)\n",
    "        \n",
    "    for (k,v) in args[1].items():\n",
    "        print (k,v)\n",
    "        \n",
    "    args[1][\"v1\"] = args[1][\"v1\"] + args[0][1] \n",
    "    \n",
    "    return args[1]\n",
    "\n",
    "dict = {\"v1\": 2, \"v2\":6}\n",
    "\n",
    "d = f2(1, [1,2,3,4,5], dict)\n",
    "print(d)\n"
   ]
  },
  {
   "cell_type": "markdown",
   "metadata": {},
   "source": [
    "# Más sobre funciones"
   ]
  },
  {
   "cell_type": "code",
   "execution_count": 1,
   "metadata": {
    "collapsed": false
   },
   "outputs": [
    {
     "name": "stdout",
     "output_type": "stream",
     "text": [
      "(100,)\n"
     ]
    }
   ],
   "source": [
    "# Las funciones son objetos\n",
    "import numpy as np\n",
    "\n",
    "def n_zeros(n):\n",
    "    return np.zeros(n)\n",
    "\n",
    "# asignar funciones a variables\n",
    "mis_zeros = n_zeros\n",
    "\n",
    "z = mis_zeros(100)\n",
    "print (z.shape)"
   ]
  },
  {
   "cell_type": "code",
   "execution_count": 4,
   "metadata": {
    "collapsed": false
   },
   "outputs": [
    {
     "name": "stdout",
     "output_type": "stream",
     "text": [
      "[ 1.  1.  1.  1.  1.  1.  1.  1.  1.  1.  0.  0.  0.  0.  0.  0.  0.  0.\n",
      "  0.  0.] (20,)\n"
     ]
    }
   ],
   "source": [
    "#definir funciones dentro de funciones\n",
    "\n",
    "def zeros_ones(n):\n",
    "    def get_ones():\n",
    "        return np.ones(10)\n",
    "\n",
    "    result = np.append(get_ones(),  np.zeros(n))\n",
    "    return result\n",
    "\n",
    "ma = zeros_ones(10)\n",
    "print (ma, ma.shape)"
   ]
  },
  {
   "cell_type": "code",
   "execution_count": 7,
   "metadata": {
    "collapsed": false
   },
   "outputs": [
    {
     "name": "stdout",
     "output_type": "stream",
     "text": [
      "[ 9.          1.          0.          0.          3.          6.          2.\n",
      "  4.          6.          8.          1.7764661  -0.28608207  0.43225271\n",
      " -0.36100123 -0.70506451  0.78852535  0.04547537 -1.66322415  2.09187029\n",
      " -2.12732064]\n"
     ]
    }
   ],
   "source": [
    "#Las funciones pueden ser pasadas como \n",
    "#parámetros a otras funciones\n",
    "\n",
    "def n_random(n):\n",
    "   return np.random.randint(0,10, n)\n",
    "\n",
    "def call_func(func, n):\n",
    "    other_random = np.random.normal(0,1, size=10)\n",
    "    return np.append(func(n), other_random)\n",
    "\n",
    "print (call_func(n_random, 10))"
   ]
  },
  {
   "cell_type": "code",
   "execution_count": 10,
   "metadata": {
    "collapsed": false
   },
   "outputs": [
    {
     "name": "stdout",
     "output_type": "stream",
     "text": [
      "[7 8 0 0 3 4 3 6 0 8]\n"
     ]
    }
   ],
   "source": [
    "# Las funciones pueden retornar otras funciones\n",
    "\n",
    "def compose_func():\n",
    "    def get_randoms():\n",
    "        return np.random.randint(0,10,10)\n",
    "\n",
    "    return get_randoms\n",
    "\n",
    "randoms = compose_func()\n",
    "# greet es una función\n",
    "print (randoms())"
   ]
  },
  {
   "cell_type": "code",
   "execution_count": 13,
   "metadata": {
    "collapsed": false
   },
   "outputs": [
    {
     "name": "stdout",
     "output_type": "stream",
     "text": [
      "[  4.          13.          16.          13.           5.           7.           2.\n",
      "  12.           1.          14.           0.96802023   0.95162598\n",
      "   1.05147947   0.96830261   0.98528561   0.96543454   1.00826699\n",
      "   0.95707784   1.02933592   1.08679091]\n"
     ]
    }
   ],
   "source": [
    "# las funciones internas a las funciones\n",
    "# tienen acceso al alcance interno\n",
    "\n",
    "def compose_func(name):\n",
    "    b = np.random.randint(0, 20, 10)\n",
    "    def func1 ():\n",
    "        return np.append(b, np.random.normal(1,.1, 10))\n",
    "    \n",
    "    def get_message():\n",
    "        a = func1()\n",
    "        return a\n",
    "\n",
    "    return get_message\n",
    "\n",
    "greet = compose_func(\"John\")\n",
    "print (greet())"
   ]
  },
  {
   "cell_type": "markdown",
   "metadata": {},
   "source": [
    "## Decoradores [link](http://thecodeship.com/patterns/guide-to-python-function-decorators/)\n",
    "\n",
    "Alternan algunos ejemplos de decoradores (composición de funciones), aplicadas a strings y arreglos numpy"
   ]
  },
  {
   "cell_type": "code",
   "execution_count": 19,
   "metadata": {
    "collapsed": false
   },
   "outputs": [
    {
     "name": "stdout",
     "output_type": "stream",
     "text": [
      "<p>lorem ipsum, John dolor sit amet</p>\n"
     ]
    }
   ],
   "source": [
    "#\n",
    "# Decoradores\n",
    "#\n",
    "def get_text(name):\n",
    "   return \"lorem ipsum, {0} dolor sit amet\".format(name)\n",
    "\n",
    "def p_decorate(func):\n",
    "   def func_wrapper(name):\n",
    "       return \"<p>{0}</p>\".format(func(name))\n",
    "   return func_wrapper\n",
    "\n",
    "# Un decorador\n",
    "my_get_text = p_decorate(get_text)\n",
    "\n",
    "print (my_get_text(\"John\"))"
   ]
  },
  {
   "cell_type": "code",
   "execution_count": 14,
   "metadata": {
    "collapsed": false
   },
   "outputs": [
    {
     "name": "stdout",
     "output_type": "stream",
     "text": [
      "[ 5.          9.          7.          7.          3.          4.          5.\n",
      "  4.          1.          3.         -0.16802947  1.29943783 -0.65839438\n",
      " -0.09399973 -0.19369175  0.70816597  2.09319193  1.65213802  0.31101904\n",
      "  0.45041757]\n"
     ]
    }
   ],
   "source": [
    "#\n",
    "# Decoradores\n",
    "#\n",
    "def get_random_int_1_10(n):\n",
    "   return np.random.randint(1,10,n)\n",
    "\n",
    "def p_decorate(func):\n",
    "   def func_wrapper(n):\n",
    "       return np.append(func(n), np.random.normal(0,1,10))\n",
    "   return func_wrapper\n",
    "\n",
    "#Un decorador \n",
    "my_get_random = p_decorate(get_random_int_1_10)\n",
    "print(my_get_random(10))\n"
   ]
  },
  {
   "cell_type": "code",
   "execution_count": 20,
   "metadata": {
    "collapsed": false
   },
   "outputs": [
    {
     "name": "stdout",
     "output_type": "stream",
     "text": [
      "<p>lorem ipsum, John dolor sit amet</p>\n"
     ]
    }
   ],
   "source": [
    "#\n",
    "#  Sintáxis para decoradores en python\n",
    "#\n",
    "def p_decorate1(func):\n",
    "   def func_wrapper(name):\n",
    "       return \"<p>{0}</p>\".format(func(name))\n",
    "   return func_wrapper\n",
    "\n",
    "@p_decorate1\n",
    "def get_text2(name):\n",
    "   return \"lorem ipsum, {0} dolor sit amet\".format(name)\n",
    "\n",
    "print (get_text2(\"John\"))"
   ]
  },
  {
   "cell_type": "code",
   "execution_count": 16,
   "metadata": {
    "collapsed": false
   },
   "outputs": [
    {
     "name": "stdout",
     "output_type": "stream",
     "text": [
      "[  6.00000000e+00   3.00000000e+00   1.00000000e+00   4.00000000e+00\n",
      "   6.00000000e+00   7.00000000e+00   4.00000000e+00   2.00000000e+00\n",
      "   9.00000000e+00   9.00000000e+00   4.37277185e-02  -1.01566446e+00\n",
      "  -7.93232029e-01   8.25111435e-01   1.98772660e-02   3.54439468e-03\n",
      "   5.10225835e-01   8.31291266e-02  -1.18784775e+00   4.70014370e-01]\n"
     ]
    }
   ],
   "source": [
    "#\n",
    "#  Sintáxis para decoradores en python\n",
    "#\n",
    "\n",
    "def normal_dec(func):\n",
    "   def func_wrapper(n):\n",
    "       return np.append(func(n), np.random.normal(0,1,10))\n",
    "   return func_wrapper\n",
    "\n",
    "@normal_dec\n",
    "def get_random_int_1_10b(n):\n",
    "   return np.random.randint(1,10,n)\n",
    "\n",
    "print(get_random_int_1_10b(10))\n"
   ]
  },
  {
   "cell_type": "code",
   "execution_count": 18,
   "metadata": {
    "collapsed": false
   },
   "outputs": [
    {
     "name": "stdout",
     "output_type": "stream",
     "text": [
      "Ejemplo de 3 decoradores\n",
      "[ 4.          6.          9.          7.          7.          3.          2.\n",
      "  5.          4.          1.          0.          0.          0.          0.\n",
      "  0.          0.          0.          0.          0.          0.          2.\n",
      "  1.          0.          4.          4.          3.          2.          1.\n",
      "  3.          1.          0.1019409   0.99913203 -0.38400635  1.33083037\n",
      "  0.14959379 -1.01506506  0.24004614 -1.19310107 -0.19040039 -0.35790526]\n"
     ]
    }
   ],
   "source": [
    "#\n",
    "# Ejemplo de aplicar 3 decoradores \n",
    "#\n",
    "def normal_dec(func):\n",
    "   def func_wrapper(n):\n",
    "       return np.append(func(n), np.random.normal(0,1,10))\n",
    "   return func_wrapper\n",
    "\n",
    "def poisson_dec(func):\n",
    "    def func_wrapper(n):\n",
    "        return np.append(func(n), np.random.poisson(2, size=10)) \n",
    "    return func_wrapper\n",
    "\n",
    "def binomial_dec(func):\n",
    "    def func_wrapper(n):\n",
    "        return  np.append(func(n), np.random.binomial(.1, .2, size=10)) \n",
    "    return func_wrapper\n",
    "\n",
    "\n",
    "@normal_dec\n",
    "@poisson_dec\n",
    "@binomial_dec\n",
    "def get_random_int_1_10c(n):\n",
    "   return np.random.randint(1,10,n)\n",
    "\n",
    "print (\"Ejemplo de 3 decoradores\")\n",
    "\n",
    "print (get_random_int_1_10c(10))"
   ]
  },
  {
   "cell_type": "code",
   "execution_count": 22,
   "metadata": {
    "collapsed": false
   },
   "outputs": [
    {
     "name": "stdout",
     "output_type": "stream",
     "text": [
      "Ejemplo con clase\n",
      "<p>John Doe</p>\n"
     ]
    }
   ],
   "source": [
    "#\n",
    "# métodos decoradores\n",
    "# en python los métodos son funciones en el que primer\n",
    "# parámetro es una referencia al primer objeto\n",
    "#\n",
    "\n",
    "def p_decorate3(func):\n",
    "   def func_wrapper(self):\n",
    "       return \"<p>{0}</p>\".format(func(self))\n",
    "   return func_wrapper\n",
    "\n",
    "class Person(object):\n",
    "    def __init__(self):\n",
    "        self.name = \"John\"\n",
    "        self.family = \"Doe\"\n",
    "\n",
    "    @p_decorate3\n",
    "    def get_fullname(self):\n",
    "        return self.name+\" \"+self.family\n",
    "\n",
    "print (\"Ejemplo con clase\")\n",
    "\n",
    "my_person = Person()\n",
    "print (my_person.get_fullname())"
   ]
  },
  {
   "cell_type": "code",
   "execution_count": 30,
   "metadata": {
    "collapsed": false
   },
   "outputs": [
    {
     "name": "stdout",
     "output_type": "stream",
     "text": [
      "[  0.15509177  -0.05179985  -0.16458985   0.13390416  -0.06136909\n",
      "  -0.02284276   0.22919037  -0.08186517  -0.08106676  -0.05515929\n",
      " -15.32990729  10.17013218  -3.76290842  -5.41516872 -16.00641016\n",
      "  -6.42114521  13.20313402  14.32285997  -5.29542712  11.22520493   0.           0.\n",
      "   0.           0.           0.           0.           0.           0.           0.\n",
      "   0.        ]\n"
     ]
    }
   ],
   "source": [
    "def binomial_dec(func):\n",
    "    def func_wrapper(self, n): \n",
    "        return  np.append(func(self, n), np.random.binomial(.1, .2, size=10)) \n",
    "    return func_wrapper\n",
    "\n",
    "class My_rands:\n",
    "    def __init__(self):\n",
    "        self.nrml = np.random.normal(0,.1, size=10)\n",
    "        self.randint = np.random.normal(0,10, size=10)\n",
    "\n",
    "    @binomial_dec\n",
    "    def get_full_rands(self, n):\n",
    "        return  np.append(self.nrml, self.randint) \n",
    "    \n",
    "mr = My_rands()\n",
    "\n",
    "print(mr.get_full_rands(10))"
   ]
  },
  {
   "cell_type": "markdown",
   "metadata": {},
   "source": [
    "## Variables locales y globales  más [acá](http://www.python-course.eu/global_vs_local_variables.php)\n"
   ]
  },
  {
   "cell_type": "code",
   "execution_count": 3,
   "metadata": {
    "collapsed": false
   },
   "outputs": [
    {
     "name": "stdout",
     "output_type": "stream",
     "text": [
      "Hola mundo, global!\n",
      "Hola mundo, global!\n"
     ]
    }
   ],
   "source": [
    "def f():\n",
    "    # esto va bien\n",
    "    # s = \"cambio s dentro de la función\"\n",
    "    print(s)\n",
    "    # esto da un error\n",
    "    # s = \"cambio s dentro de la función\"\n",
    "    \n",
    "# definida s antes de llamara la función f()\n",
    "s = \"Hola mundo, global!\"\n",
    "f()\n",
    "print(s)"
   ]
  },
  {
   "cell_type": "code",
   "execution_count": 4,
   "metadata": {
    "collapsed": false
   },
   "outputs": [
    {
     "ename": "UnboundLocalError",
     "evalue": "local variable 's' referenced before assignment",
     "output_type": "error",
     "traceback": [
      "\u001b[1;31m---------------------------------------------------------------------------\u001b[0m",
      "\u001b[1;31mUnboundLocalError\u001b[0m                         Traceback (most recent call last)",
      "\u001b[1;32m<ipython-input-4-ef6eba3cae26>\u001b[0m in \u001b[0;36m<module>\u001b[1;34m()\u001b[0m\n\u001b[0;32m      8\u001b[0m \u001b[1;33m\u001b[0m\u001b[0m\n\u001b[0;32m      9\u001b[0m \u001b[0ms\u001b[0m \u001b[1;33m=\u001b[0m \u001b[1;34m\"Hola mundo global\"\u001b[0m\u001b[1;33m\u001b[0m\u001b[0m\n\u001b[1;32m---> 10\u001b[1;33m \u001b[0mf\u001b[0m\u001b[1;33m(\u001b[0m\u001b[1;33m)\u001b[0m\u001b[1;33m\u001b[0m\u001b[0m\n\u001b[0m\u001b[0;32m     11\u001b[0m \u001b[0mprint\u001b[0m \u001b[1;33m(\u001b[0m\u001b[0ms\u001b[0m\u001b[1;33m)\u001b[0m\u001b[1;33m\u001b[0m\u001b[0m\n\u001b[0;32m     12\u001b[0m \u001b[1;33m\u001b[0m\u001b[0m\n",
      "\u001b[1;32m<ipython-input-4-ef6eba3cae26>\u001b[0m in \u001b[0;36mf\u001b[1;34m()\u001b[0m\n\u001b[0;32m      2\u001b[0m \u001b[1;33m\u001b[0m\u001b[0m\n\u001b[0;32m      3\u001b[0m \u001b[1;32mdef\u001b[0m \u001b[0mf\u001b[0m\u001b[1;33m(\u001b[0m\u001b[1;33m)\u001b[0m\u001b[1;33m:\u001b[0m\u001b[1;33m\u001b[0m\u001b[0m\n\u001b[1;32m----> 4\u001b[1;33m     \u001b[0mprint\u001b[0m \u001b[1;33m(\u001b[0m\u001b[0ms\u001b[0m\u001b[1;33m)\u001b[0m\u001b[1;33m\u001b[0m\u001b[0m\n\u001b[0m\u001b[0;32m      5\u001b[0m     \u001b[0ms\u001b[0m \u001b[1;33m=\u001b[0m \u001b[1;34m\"Cambiando s\"\u001b[0m\u001b[1;33m\u001b[0m\u001b[0m\n\u001b[0;32m      6\u001b[0m     \u001b[0mprint\u001b[0m \u001b[1;33m(\u001b[0m\u001b[0ms\u001b[0m\u001b[1;33m)\u001b[0m\u001b[1;33m\u001b[0m\u001b[0m\n",
      "\u001b[1;31mUnboundLocalError\u001b[0m: local variable 's' referenced before assignment"
     ]
    }
   ],
   "source": [
    "# Esto genera un error  ¿Por qué?\n",
    "\n",
    "def f(): \n",
    "    print (s)\n",
    "    s = \"Cambiando s\"\n",
    "    print (s)\n",
    "\n",
    "\n",
    "s = \"Hola mundo global\" \n",
    "f()\n",
    "print (s)\n",
    "\n",
    "# python espera una variable local por la asignación\n",
    "# a s que se hace dentro de la función f\n",
    "# toda variable que es creada dentro de la función\n",
    "# es local, si no se declaró global."
   ]
  },
  {
   "cell_type": "code",
   "execution_count": 5,
   "metadata": {
    "collapsed": false
   },
   "outputs": [
    {
     "name": "stdout",
     "output_type": "stream",
     "text": [
      "Hola mundo global!\n",
      "Cambiando s global\n",
      "Cambiando s global\n"
     ]
    }
   ],
   "source": [
    "# Con esto corregimos el error anterior\n",
    "# si era lo que queríamos hacer\n",
    "def f():\n",
    "    global s\n",
    "    print (s)\n",
    "    s = \"Cambiando s global\"\n",
    "    print (s) \n",
    "\n",
    "\n",
    "s = \"Hola mundo global!\" \n",
    "f()\n",
    "# el cambio de s interno a la función\n",
    "# cambia al s exterior, definido como global\n",
    "print (s)"
   ]
  },
  {
   "cell_type": "markdown",
   "metadata": {},
   "source": [
    "Las variables locales definidas dentro de las funciones no pueden ser accedidas desde el exterior. ERROR"
   ]
  },
  {
   "cell_type": "code",
   "execution_count": 6,
   "metadata": {
    "collapsed": false
   },
   "outputs": [
    {
     "name": "stdout",
     "output_type": "stream",
     "text": [
      "I am globally not known\n"
     ]
    },
    {
     "ename": "NameError",
     "evalue": "name 'ss' is not defined",
     "output_type": "error",
     "traceback": [
      "\u001b[1;31m---------------------------------------------------------------------------\u001b[0m",
      "\u001b[1;31mNameError\u001b[0m                                 Traceback (most recent call last)",
      "\u001b[1;32m<ipython-input-6-7a98fc81cb4e>\u001b[0m in \u001b[0;36m<module>\u001b[1;34m()\u001b[0m\n\u001b[0;32m      4\u001b[0m \u001b[1;33m\u001b[0m\u001b[0m\n\u001b[0;32m      5\u001b[0m \u001b[0mf\u001b[0m\u001b[1;33m(\u001b[0m\u001b[1;33m)\u001b[0m\u001b[1;33m\u001b[0m\u001b[0m\n\u001b[1;32m----> 6\u001b[1;33m \u001b[0mprint\u001b[0m\u001b[1;33m(\u001b[0m\u001b[0mss\u001b[0m\u001b[1;33m)\u001b[0m\u001b[1;33m\u001b[0m\u001b[0m\n\u001b[0m",
      "\u001b[1;31mNameError\u001b[0m: name 'ss' is not defined"
     ]
    }
   ],
   "source": [
    "def f():\n",
    "    ss = \"I am globally not known\"\n",
    "    print(ss)\n",
    "\n",
    "f()\n",
    "print(ss)\n"
   ]
  },
  {
   "cell_type": "code",
   "execution_count": 7,
   "metadata": {
    "collapsed": false
   },
   "outputs": [
    {
     "name": "stdout",
     "output_type": "stream",
     "text": [
      "10\n"
     ]
    }
   ],
   "source": [
    "#Ejemplo de uso \n",
    "\n",
    "\n",
    "aa = 20\n",
    "\n",
    "def func20():\n",
    "    print(aa)\n",
    "\n",
    "if __name__==\"__main__\" :  \n",
    "    aa = 10\n",
    "    func20() "
   ]
  },
  {
   "cell_type": "code",
   "execution_count": 8,
   "metadata": {
    "collapsed": false
   },
   "outputs": [
    {
     "name": "stdout",
     "output_type": "stream",
     "text": [
      "42 17 4 17\n",
      "42 15 3 4\n"
     ]
    }
   ],
   "source": [
    "# Otro ejemplo\n",
    "\n",
    "def foo(x, y):\n",
    "    global a\n",
    "    a = 42\n",
    "    x,y = y,x\n",
    "    b = 33\n",
    "    b = 17\n",
    "    c = 100\n",
    "    print(a,b,x,y)\n",
    "    \n",
    "if __name__==\"__main__\" : \n",
    "    a,b,x,y = 1,15,3,4\n",
    "    foo(17,4)\n",
    "    print(a,b,x,y)"
   ]
  }
 ],
 "metadata": {
  "kernelspec": {
   "display_name": "Python 3",
   "language": "python",
   "name": "python3"
  },
  "language_info": {
   "codemirror_mode": {
    "name": "ipython",
    "version": 3
   },
   "file_extension": ".py",
   "mimetype": "text/x-python",
   "name": "python",
   "nbconvert_exporter": "python",
   "pygments_lexer": "ipython3",
   "version": "3.4.3"
  }
 },
 "nbformat": 4,
 "nbformat_minor": 0
}
