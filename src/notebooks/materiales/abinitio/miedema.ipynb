{
 "metadata": {
  "name": "",
  "signature": "sha256:c29900ccfbea42ec4d39937003c7052e3590e6d38983b3f6048ce69119a7a2ac"
 },
 "nbformat": 3,
 "nbformat_minor": 0,
 "worksheets": [
  {
   "cells": [
    {
     "cell_type": "markdown",
     "metadata": {},
     "source": [
      "# Miedema"
     ]
    },
    {
     "cell_type": "code",
     "collapsed": false,
     "input": [
      "elements = {\"Cu\": {\"ename\":'copper', 'sname':'cobre', 'atomicNumber': 29, 'group': 11, 'period':4, \n",
      "                   'atomicWight': 63.546, 'melt': 1357.77, 'vapor': 3200, 'specific': 8920, \n",
      "                   'spaceGroup': 'Fm-3m', 'groupNumber':225, 'structure':'ccp',\n",
      "                   'cell': {'a':3.6149, 'c':3.6149, 'b':3.6149, 'alfa':90,'beta':90,'gamma':90}, \n",
      "                   'groundStateElectron':'[Ar].3d10.4s1',  'miedema':{'phi':4.45, 'nws1-3':1.47, 'v2-3':3.7},\n",
      "                    'bfs':{'p':6,'lambda': 0.944, 'l':0.272, 'alfa': 2.935}}, \n",
      "\n",
      "            \"Ag\": {\"ename\":'silver', 'sname':'plata', 'atomicNumber': 47, 'group': 11, 'period':5, \n",
      "                   'atomicWight': 107.8682, 'melt':1234.93, 'vapor': 2435, 'specific':  10490, \n",
      "                   'spaceGroup': 'Fm-3m', 'groupNumber':225,  'structure':'ccp',\n",
      "                   'cell': {'a':4.0853 , 'c':4.0853, 'b':4.0853, 'alfa':90,'beta':90,'gamma':90}, \n",
      "                   'groundStateElectron':'[Kr].4d10.5s1',  'miedema':{'phi':4.35, 'nws1-3':1.36, 'v2-3':4.72},\n",
      "                    'bfs':{'p':8,'lambda': 0.756, 'l':0.269, 'alfa': 3.337 }},\n",
      "            \n",
      "            \"Au\": {\"ename\":'gold', 'sname':'oro', 'atomicNumber': 79, 'group': 11, 'period':6, \n",
      "                   'atomicWight': 196.966569, 'melt': 1337.33, 'vapor': 3129, 'specific':  19300, \n",
      "                   'spaceGroup': 'Fm-3m', 'groupNumber':225,  'structure':'ccp',\n",
      "                   'cell': {'a':4.0782 , 'c':4.0782, 'b':4.0782, 'alfa':90,'beta':90,'gamma':90}, \n",
      "                   'groundStateElectron':' [Xe].4f14.5d10.6s1',  'miedema':{'phi':5.15, 'nws1-3':1.57, 'v2-3':4.70},\n",
      "                    'bfs':{'p':10,'lambda': 0.663, 'l':0.236, 'alfa':4.339}},\n",
      "\n",
      "            \"Sn\": {\"ename\":'tin', 'sname':'esta\u00f1o', 'atomicNumber': 50, 'group': 14, 'period':5, \n",
      "                   'atomicWight': 118.710, 'melt':505.08, 'vapor': 2875, 'specific':  7310, \n",
      "                   'spaceGroup': 'I41/amd', 'groupNumber':141,  'structure':'tetragonal',\n",
      "                   'cell': {'a':5.8318, 'c':5.8318, 'b':3.1819, 'alfa':90,'beta':90,'gamma':90}, \n",
      "                   'groundStateElectron':'[Kr].4d10.5s2.5p2',  'miedema':{'phi':4.15, 'nws1-3':1.24, 'v2-3':6.43},\n",
      "                   'bfs':{'p':0,'lambda': 1.0875262, 'l':0.38702, 'alfa':2.92859}},\n",
      "  \n",
      "            \"Al\": {\"ename\":'aluminium', 'sname':'aluminio', 'atomicNumber': 13, 'group': 13, 'period':3, \n",
      "                   'atomicWight': 26.9815386, 'melt':  933.47, 'vapor': 2792, 'specific': 2700, \n",
      "                   'spaceGroup': 'Fm-3m', 'groupNumber':225, 'structure':'ccp',\n",
      "                   'cell': {'a':4.0495, 'c':4.0495, 'b':4.0495, 'alfa':90,'beta':90,'gamma':90}, \n",
      "                   'groundStateElectron':'[Ne].3s2.3p1',  'miedema':{'phi':4.20, 'nws1-3':1.39, 'v2-3':4.64},\n",
      "                   'bfs':{'p':4,'lambda': 0.944, 'l':0.336, 'alfa':2.105}},\n",
      "            \n",
      "             \"Zn\": {\"ename\":'zinc', 'sname':'zinc', 'atomicNumber': 30, 'group': 12, 'period':4, \n",
      "                   'atomicWight': 65.38, 'melt':692.68, 'vapor': 1180, 'specific':  7140, \n",
      "                   'spaceGroup': 'P63/mmc', 'groupNumber':194,  'structure':'hcp',\n",
      "                   'cell': {'a':2.6649 , 'c':2.6649, 'b':4.9468, 'alfa':90,'beta':90,'gamma':120}, \n",
      "                   'groundStateElectron':'[Ar].3d10.4s2',  \n",
      "                   'miedema':{'phi':4.10, 'nws1-3':1.32, 'v2-3':4.38},\n",
      "                   'bfs':{'p':0,'lambda': 0, 'l':0, 'alfa':0}},\n",
      "            \n",
      "             \"Si\": {\"ename\":'silicon', 'sname':'silicio', 'atomicNumber': 14, 'group': 14, 'period':3, \n",
      "                   'atomicWight': 28.0855, 'melt':1687, 'vapor': 3173, 'specific':  2330, \n",
      "                   'spaceGroup': 'Fd-3m', 'groupNumber':227,  'structure':'diamond',\n",
      "                   'cell': {'a':5.4309 , 'c':5.4309, 'b':5.43098, 'alfa':90,'beta':90,'gamma':90}, \n",
      "                   'groundStateElectron':'[Ne].3s2.3p2',  \n",
      "                   'miedema':{'phi':4.70, 'nws1-3':1.50, 'v2-3':4.20},\n",
      "                   'bfs':{'p':4,'lambda': 0.967, 'l':0.344, 'alfa':2.177}},\n",
      "            \n",
      "            \"O\": {\"ename\":'oxygen', 'sname':'ox\u00edgeno', 'atomicNumber': 8, 'group': 16, 'period':2, \n",
      "                   'atomicWight': 15.9994, 'melt':54.8, 'vapor': 90.2, 'specific':  1495, \n",
      "                   'spaceGroup': 'C12/m1', 'groupNumber':12,  'structure':'monoclinic',\n",
      "                   'cell': {'a':5.403 , 'c':3.429, 'b':5.086, 'alfa':90,'beta':132.530,'gamma':90}, \n",
      "                   'groundStateElectron':'[He].2s2.2p4',  \n",
      "                   'miedema':{'phi':0, 'nws1-3':0, 'v2-3':0},\n",
      "                   'bfs':{'p':0,'lambda': 0, 'l':0, 'alfa':0}},\n",
      "            \n",
      "            \"Ni\": {\"ename\":'nickel', 'sname':'niquel', 'atomicNumber': 28 , 'group':10, 'period':4, \n",
      "                   'atomicWight':58.6934 , 'melt':1728, 'vapor':3186, 'specific':8908, \n",
      "                   'spaceGroup': 'Fm3m', 'groupNumber':225,  'structure':'ccp',\n",
      "                   'cell': {'a': 3.524, 'c': 3.524, 'b': 3.524, 'alfa':90,'beta':90,'gamma':90}, \n",
      "                   'groundStateElectron':' [Ar].3d8.4s2',  \n",
      "                   'miedema':{'phi':5.20, 'nws1-3':1.750, 'v2-3':3.520},\n",
      "                   'bfs':{'p':6,'lambda': 0.759, 'l':0.270, 'alfa':3.015} },\n",
      "\n",
      "                        \n",
      "             \"Nb\":{\"ename\":'niobium', 'sname':'niobio','atomicNumber': 41 , 'atomicWight':92.90638 ,\n",
      "                   'miedema':{'phi':4.05, 'nws1-3':1.64, 'v2-3':4.89},\n",
      "                   'bfs':{'p':0,'lambda': 0, 'l':0, 'alfa':0} },\n",
      "            \n",
      "             \"Zr\":{\"ename\":'zirconium', 'sname':'zirconio','atomicNumber': 40 , 'atomicWight': 91.224 ,\n",
      "                   'miedema':{'phi':3.45, 'nws1-3':1.41, 'v2-3':5.81},\n",
      "                   'bfs':{'p':0,'lambda': 0, 'l':0, 'alfa':0}},\n",
      "             \n",
      "            \n",
      "             \"Pu\":{\"ename\":'plutonium', 'sname':'plutonio','atomicNumber': 94 , 'atomicWight':244.06 , \n",
      "                   'miedema':{'phi':3.80, 'nws1-3':1.440, 'v2-3':5.260},\n",
      "                   'bfs':{'p':0,'lambda': 0, 'l':0, 'alfa':0}},\n",
      "            \n",
      "             \"U\":{\"ename\":'uranium', 'sname':'uranio','atomicNumber': 92 , 'atomicWight':238.02891 ,\n",
      "                  'miedema':{'phi':3.90, 'nws1-3':1.510, 'v2-3':5.570},\n",
      "                   'bfs':{'p':0,'lambda': 0, 'l':0, 'alfa':0}},\n",
      "            \n",
      "             \"Th\":{\"ename\":'thorium', 'sname':'torio','atomicNumber': 90 , 'atomicWight':232.03806 ,\n",
      "                   'miedema':{'phi':3.30, 'nws1-3':1.280, 'v2-3':7.32},\n",
      "                   'bfs':{'p':0,'lambda': 0, 'l':0, 'alfa':0}},\n",
      "\n",
      "            }"
     ],
     "language": "python",
     "metadata": {},
     "outputs": [],
     "prompt_number": 5
    },
    {
     "cell_type": "code",
     "collapsed": false,
     "input": [
      "print  \"nombre        phi      nws1-3      v2-3   \"\n",
      "print  \"------------------------------------------\"\n",
      "for element in elements:\n",
      "    phi = elements[element]['phi']\n",
      "    nws13 = elements[element]['nws1-3']\n",
      "    v23  = elements[element]['v2-3']\n",
      "    name = elements[element]['sname']\n",
      "    print '%s    %f    %f   %f'%(name, phi, nws13, v23)"
     ],
     "language": "python",
     "metadata": {},
     "outputs": [
      {
       "output_type": "stream",
       "stream": "stdout",
       "text": [
        "nombre        phi      nws1-3      v2-3   \n",
        "------------------------------------------\n",
        "niquel    5.200000    1.750000   3.520000\n",
        "plutonio    3.800000    1.440000   5.260000\n",
        "niobio    4.050000    1.640000   4.890000\n",
        "ox\u00edgeno    0.000000    0.000000   0.000000\n",
        "silicio    4.700000    1.500000   4.200000\n",
        "uranio    3.900000    1.510000   5.570000\n",
        "esta\u00f1o    4.150000    1.240000   6.430000\n",
        "torio    3.300000    1.280000   7.320000\n",
        "zinc    4.100000    1.320000   4.380000\n",
        "plata    4.350000    1.360000   4.720000\n",
        "aluminio    4.200000    1.390000   4.640000\n",
        "oro    5.150000    1.570000   4.700000\n",
        "zirconio    3.450000    1.410000   5.810000\n",
        "cobre    4.450000    1.470000   3.700000\n"
       ]
      }
     ],
     "prompt_number": 29
    },
    {
     "cell_type": "code",
     "collapsed": false,
     "input": [
      "elements ['Ni']['miedema']"
     ],
     "language": "python",
     "metadata": {},
     "outputs": [
      {
       "metadata": {},
       "output_type": "pyout",
       "prompt_number": 33,
       "text": [
        "{'nws1-3': 1.75, 'phi': 5.2, 'v2-3': 3.52}"
       ]
      }
     ],
     "prompt_number": 33
    },
    {
     "cell_type": "code",
     "collapsed": false,
     "input": [],
     "language": "python",
     "metadata": {},
     "outputs": []
    }
   ],
   "metadata": {}
  }
 ]
}