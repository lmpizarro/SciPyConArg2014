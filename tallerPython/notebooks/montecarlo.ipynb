{
 "cells": [
  {
   "cell_type": "code",
   "execution_count": 2,
   "metadata": {
    "collapsed": false
   },
   "outputs": [
    {
     "name": "stdout",
     "output_type": "stream",
     "text": [
      "The Cython magic has been moved to the Cython package, hence \n",
      "`%load_ext cythonmagic` is deprecated; please use `%load_ext Cython` instead.\n",
      "\n",
      "Though, because I am nice, I'll still try to load it for you this time.\n"
     ]
    }
   ],
   "source": [
    "import numpy as np\n",
    "from __future__ import division\n",
    "from IPython.display import Math\n",
    "import matplotlib.pyplot as mpl\n",
    "\n",
    "%load_ext Cython\n"
   ]
  },
  {
   "cell_type": "code",
   "execution_count": 3,
   "metadata": {
    "collapsed": false
   },
   "outputs": [
    {
     "data": {
      "text/latex": [
       "$$A = \\int_{0}^{1} (1 - x ^ 2) dx$$"
      ],
      "text/plain": [
       "<IPython.core.display.Math object>"
      ]
     },
     "execution_count": 3,
     "metadata": {},
     "output_type": "execute_result"
    }
   ],
   "source": [
    "Math(r'A = \\int_{0}^{1} (1 - x ^ 2) dx')"
   ]
  },
  {
   "cell_type": "code",
   "execution_count": 4,
   "metadata": {
    "collapsed": false
   },
   "outputs": [],
   "source": [
    "# Cantidad de puntos usados en la integración\n",
    "N=10000\n",
    "\n",
    "# Cálculo de la solución analítica de la integral \n",
    "A = np.pi/4\n",
    "\n",
    "# Solución numérica regla de Simpson\n",
    "x=np.arange(0,1,1/N)\n",
    "y = np.sqrt(1 - x*x)\n",
    "An = np.sum(y)/N"
   ]
  },
  {
   "cell_type": "code",
   "execution_count": 5,
   "metadata": {
    "collapsed": false
   },
   "outputs": [
    {
     "data": {
      "image/png": "[encoded data removed]",
      "text/plain": [
       "<matplotlib.figure.Figure at 0x7f66b55b26d0>"
      ]
     },
     "metadata": {},
     "output_type": "display_data"
    }
   ],
   "source": [
    "%matplotlib inline\n",
    "# change axis range for x and y\n",
    "mpl.xlim([-0.1,1.5])\n",
    "mpl.ylim([-0.1,1.5])\n",
    "mpl.axes().set_aspect('equal', 'datalim')\n",
    "mpl.plot(x,y, label='f(x)' ); mpl.legend(loc='lower right');\n",
    "mpl.plot([0, 0,1.5], [1.50, 0,0], 'red');\n"
   ]
  },
  {
   "cell_type": "code",
   "execution_count": 6,
   "metadata": {
    "collapsed": false
   },
   "outputs": [
    {
     "name": "stdout",
     "output_type": "stream",
     "text": [
      "0.785398163397 0.7863 0.785447869403\n"
     ]
    }
   ],
   "source": [
    "# Integración Montecarlo de 1/4 de círculo\n",
    "# Generación de los pares (x,y) aleatorios\n",
    "x,y=(np.random.rand(N),np.random.rand(N))\n",
    "z=x*x+y*y\n",
    "#Enmascara si es más grande que 1\n",
    "z=np.ma.masked_greater(z,1)\n",
    "#Elimina los enmascarados\n",
    "z=z.compressed()\n",
    "#Determina el tamaño del array resultante\n",
    "Np = z.size\n",
    "# Cálcula el área\n",
    "Am = Np/N\n",
    "\n",
    "\n",
    "print A, Am, An"
   ]
  },
  {
   "cell_type": "markdown",
   "metadata": {},
   "source": [
    "Enmascarar y Eliminar datos de un array\n",
    "\n",
    "http://stackoverflow.com/questions/5927180/removing-data-from-a-numpy-array"
   ]
  },
  {
   "cell_type": "code",
   "execution_count": 7,
   "metadata": {
    "collapsed": false
   },
   "outputs": [],
   "source": [
    "N = 10000\n",
    "Ss=0.01; Sc = 0.1; S=Ss+Sc; CLM = 1/S;\n",
    "#Espesor de la placa\n",
    "espH = 1;\n",
    "global Npas, Nref, Nabs;"
   ]
  },
  {
   "cell_type": "code",
   "execution_count": 8,
   "metadata": {
    "collapsed": false
   },
   "outputs": [
    {
     "name": "stdout",
     "output_type": "stream",
     "text": [
      "0.2793 0.5401 0.1806 1.0\n"
     ]
    }
   ],
   "source": [
    "def neutron_placa ():\n",
    "    global Npas, Nref, Nabs\n",
    "    k=0; u=1; x=0;gmm  = 1\n",
    "    while (True):\n",
    "        u = 2*gmm -1\n",
    "        lmbd = -1*np.log(gmm)/S\n",
    "        x = (x  + lmbd*u)\n",
    "        if x > espH:\n",
    "            Npas = Npas + 1; break;\n",
    "        else:\n",
    "            if x < 0:\n",
    "                Nref = Nref + 1; break;\n",
    "            else:\n",
    "                if gmm < Sc/S:\n",
    "                    Nabs = Nabs + 1; break\n",
    "                else:\n",
    "                    k = k + 1\n",
    "                    gmm  = np.random.random()\n",
    "                    #u = 2*gmm - 1\n",
    "  \n",
    "global Npas, Nref, Nabs\n",
    "Npas = Nref = Nabs = 0;\n",
    "for j in range (0,N):\n",
    "    neutron_placa ()\n",
    "\n",
    "print Npas/N, Nref/N, Nabs/N, (Npas+ Nref+ Nabs)/N"
   ]
  },
  {
   "cell_type": "code",
   "execution_count": 9,
   "metadata": {
    "collapsed": false
   },
   "outputs": [],
   "source": [
    "%%cython\n",
    "\n",
    "cimport cython\n",
    "\n",
    "from libc.stdlib cimport rand, srand\n",
    "from libc.time cimport time, time_t\n",
    "from libc.math cimport  log\n",
    "\n",
    "cdef extern from \"stdlib.h\":\n",
    "  cdef int RAND_MAX\n",
    "\n",
    "@cython.cdivision(True)\n",
    "def init_rand ():    \n",
    "   cdef time_t seconds  \n",
    "   time(&seconds)\n",
    "   srand(<unsigned int>seconds)\n",
    "\n",
    "@cython.cdivision(True)\n",
    "def neutron_placa_c (float Sc, float S, float espH ):\n",
    "    cdef int Npas = 0\n",
    "    cdef int Nref = 0\n",
    "    cdef int Nabs = 0\n",
    "        \n",
    "    cdef int k = 0; \n",
    "    cdef float u=1, x=0, gmm  = 1\n",
    "     \n",
    "    while (True):\n",
    "        u = 2*gmm -1\n",
    "        lmbd = -1*log(gmm)/S\n",
    "        x = (x  + lmbd*u)\n",
    "        if x > espH:\n",
    "            Npas = Npas + 1; break;\n",
    "        else:\n",
    "            if x < 0:\n",
    "                Nref = Nref + 1; break;\n",
    "            else:\n",
    "                if gmm < Sc/S:\n",
    "                    Nabs = Nabs + 1; break\n",
    "                else:\n",
    "                    k = k + 1\n",
    "                    gmm  = <float>rand()/<float>RAND_MAX\n",
    "    return Npas, Nref, Nabs"
   ]
  },
  {
   "cell_type": "code",
   "execution_count": 10,
   "metadata": {
    "collapsed": false
   },
   "outputs": [
    {
     "name": "stdout",
     "output_type": "stream",
     "text": [
      "[0.274, 0.5527, 0.1733]\n"
     ]
    }
   ],
   "source": [
    "import numpy as np\n",
    "global Npas, Nref, Nabs, np\n",
    "N = 10000\n",
    "Npas = Nref = Nabs = 0;\n",
    "salida = np.zeros((3,N))\n",
    "for j in range (0,N):\n",
    "  (pas, ref, abs ) = neutron_placa_c(Sc, S, espH)\n",
    "  Npas +=pas; Nref += ref; Nabs += abs\n",
    "  salida[(0,j)] = Npas/(j +1.5)\n",
    "  salida[(1,j)] = Nref/(j+1.5)\n",
    "  salida[(2,j)] = Nabs/(j+1.5)\n",
    "maxs =[Npas/N, Nref/N, Nabs/N]\n",
    "print maxs"
   ]
  },
  {
   "cell_type": "code",
   "execution_count": 11,
   "metadata": {
    "collapsed": false
   },
   "outputs": [
    {
     "data": {
      "image/png": "[encoded data removed]",
      "text/plain": [
       "<matplotlib.figure.Figure at 0x7f66b49c6b90>"
      ]
     },
     "metadata": {},
     "output_type": "display_data"
    }
   ],
   "source": [
    "mpl.xlim ([0,800])\n",
    "mpl.ylim([0, 1.1*np.max(maxs)])\n",
    "mpl.plot(salida[(0)])\n",
    "mpl.plot(salida[(1)])\n",
    "mpl.plot(salida[(2)]);"
   ]
  },
  {
   "cell_type": "code",
   "execution_count": 22,
   "metadata": {
    "collapsed": false
   },
   "outputs": [],
   "source": [
    "window = 10\n",
    "weights = np.repeat(1.0, window)/window\n",
    "sma0 = np.convolve(salida[(0)], weights, 'valid')\n",
    "sma1 = np.convolve(salida[(1)], weights, 'valid')\n",
    "sma2 = np.convolve(salida[(2)], weights, 'valid')"
   ]
  },
  {
   "cell_type": "code",
   "execution_count": 25,
   "metadata": {
    "collapsed": false
   },
   "outputs": [
    {
     "data": {
      "image/png": "[encoded data removed]",
      "text/plain": [
       "<matplotlib.figure.Figure at 0x7f66b4200f90>"
      ]
     },
     "metadata": {},
     "output_type": "display_data"
    }
   ],
   "source": [
    "mpl.xlim ([0,800])\n",
    "mpl.ylim([0, 1.1*np.max(maxs)])\n",
    "mpl.plot(sma0) \n",
    "mpl.plot(sma1)\n",
    "mpl.plot(sma2);"
   ]
  },
  {
   "cell_type": "code",
   "execution_count": null,
   "metadata": {
    "collapsed": false
   },
   "outputs": [],
   "source": []
  }
 ],
 "metadata": {
  "kernelspec": {
   "display_name": "Python 3",
   "language": "python",
   "name": "python3"
  },
  "language_info": {
   "codemirror_mode": {
    "name": "ipython",
    "version": 3
   },
   "file_extension": ".py",
   "mimetype": "text/x-python",
   "name": "python",
   "nbconvert_exporter": "python",
   "pygments_lexer": "ipython3",
   "version": "3.4.3"
  }
 },
 "nbformat": 4,
 "nbformat_minor": 0
}
