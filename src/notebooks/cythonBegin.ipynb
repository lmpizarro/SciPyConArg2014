{
 "metadata": {
  "name": "",
  "signature": "sha256:bdc107c53889b98cef40cb37ce593458c71018d26da427ecb17e80cb698decab"
 },
 "nbformat": 3,
 "nbformat_minor": 0,
 "worksheets": [
  {
   "cells": [
    {
     "cell_type": "code",
     "collapsed": false,
     "input": [
      "%load_ext cythonmagic"
     ],
     "language": "python",
     "metadata": {},
     "outputs": [],
     "prompt_number": 1
    },
    {
     "cell_type": "code",
     "collapsed": false,
     "input": [
      "%%cython_pyximport foo\n",
      "def f(x):\n",
      "    return 4.0*x"
     ],
     "language": "python",
     "metadata": {},
     "outputs": [],
     "prompt_number": 94
    },
    {
     "cell_type": "code",
     "collapsed": false,
     "input": [
      "f(11)"
     ],
     "language": "python",
     "metadata": {},
     "outputs": [
      {
       "metadata": {},
       "output_type": "pyout",
       "prompt_number": 96,
       "text": [
        "44.0"
       ]
      }
     ],
     "prompt_number": 96
    },
    {
     "cell_type": "code",
     "collapsed": false,
     "input": [
      "%%cython\n",
      "cimport cython\n",
      "from libc.math cimport exp, sqrt, pow, log, erf\n",
      "\n",
      "@cython.cdivision(True)\n",
      "cdef double std_norm_cdf(double x) nogil:\n",
      "    return 0.5*(1+erf(x/sqrt(2.0)))\n",
      "\n",
      "@cython.cdivision(True)\n",
      "def black_scholes(double s, double k, double t, double v,\n",
      "                 double rf, double div, double cp):\n",
      "    \"\"\"Price an option using the Black-Scholes model.\n",
      "    \n",
      "    s : initial stock price\n",
      "    k : strike price\n",
      "    t : expiration time\n",
      "    v : volatility\n",
      "    rf : risk-free rate\n",
      "    div : dividend\n",
      "    cp : +1/-1 for call/put\n",
      "    \"\"\"\n",
      "    cdef double d1, d2, optprice\n",
      "    with nogil:\n",
      "        d1 = (log(s/k)+(rf-div+0.5*pow(v,2))*t)/(v*sqrt(t))\n",
      "        d2 = d1 - v*sqrt(t)\n",
      "        optprice = cp*s*exp(-div*t)*std_norm_cdf(cp*d1) - \\\n",
      "            cp*k*exp(-rf*t)*std_norm_cdf(cp*d2)\n",
      "    return optprice"
     ],
     "language": "python",
     "metadata": {},
     "outputs": [],
     "prompt_number": 4
    },
    {
     "cell_type": "code",
     "collapsed": false,
     "input": [
      "black_scholes(100.0, 100.0, 1.0, 0.3, 0.03, 0.0, -1)"
     ],
     "language": "python",
     "metadata": {},
     "outputs": [
      {
       "metadata": {},
       "output_type": "pyout",
       "prompt_number": 5,
       "text": [
        "10.327861752731728"
       ]
      }
     ],
     "prompt_number": 5
    },
    {
     "cell_type": "code",
     "collapsed": false,
     "input": [
      "%timeit black_scholes(100.0, 100.0, 1.0, 0.3, 0.03, 0.0, -1)"
     ],
     "language": "python",
     "metadata": {},
     "outputs": [
      {
       "output_type": "stream",
       "stream": "stdout",
       "text": [
        "1000000 loops, best of 3: 510 ns per loop\n"
       ]
      }
     ],
     "prompt_number": 6
    },
    {
     "cell_type": "code",
     "collapsed": false,
     "input": [
      "%%cython -lm\n",
      "from libc.math cimport sin\n",
      "print 'sin(1)=', sin(1)"
     ],
     "language": "python",
     "metadata": {},
     "outputs": [
      {
       "output_type": "stream",
       "stream": "stdout",
       "text": [
        "sin(1)= 0.841470984808\n"
       ]
      }
     ],
     "prompt_number": 7
    },
    {
     "cell_type": "code",
     "collapsed": false,
     "input": [
      "%%cython -lm\n",
      "\n",
      "cimport cython\n",
      "from libc.math cimport sin\n",
      "\n",
      "@cython.cdivision(True)\n",
      "cdef double f1(double x):\n",
      "    return sin(x*x)\n",
      "\n",
      "@cython.cdivision(True)\n",
      "def f2 (x):\n",
      "    return f1(x)\n",
      "  "
     ],
     "language": "python",
     "metadata": {},
     "outputs": [],
     "prompt_number": 44
    },
    {
     "cell_type": "code",
     "collapsed": false,
     "input": [
      "f2(1.9)\n"
     ],
     "language": "python",
     "metadata": {},
     "outputs": [
      {
       "metadata": {},
       "output_type": "pyout",
       "prompt_number": 43,
       "text": [
        "-0.45146575216142315"
       ]
      }
     ],
     "prompt_number": 43
    },
    {
     "cell_type": "markdown",
     "metadata": {},
     "source": [
      "http://docs.cython.org/src/reference/language_basics.html\n",
      "\n",
      "search: cython ipython notebook\n",
      "\n",
      "http://nbviewer.ipython.org/github/ipython/ipython/blob/3607712653c66d63e0d7f13f073bde8c0f209ba8/docs/examples/notebooks/cython_extension.ipynb\n",
      "\n",
      "http://nbviewer.ipython.org/github/iminuit/iminuit/blob/master/tutorial/hard-core-tutorial.ipynb\n",
      "\n",
      "http://docs.cython.org/src/userguide/numpy_tutorial.html\n"
     ]
    },
    {
     "cell_type": "code",
     "collapsed": false,
     "input": [
      "%%cython\n",
      "\n",
      "cimport cython\n",
      "from libc.stdlib cimport rand, srand\n",
      "from libc.time cimport time, time_t\n",
      "\n",
      "cdef extern from \"stdlib.h\":\n",
      "  cdef int RAND_MAX\n",
      "    \n",
      "@cython.cdivision(True)\n",
      "def myRand (int x):\n",
      "   cdef time_t seconds\n",
      "  \n",
      "    \n",
      "   time(&seconds)\n",
      "  \n",
      "   srand(<unsigned int>seconds)\n",
      "    \n",
      "   print <double>RAND_MAX \n",
      "    \n",
      "   return rand()%100 + x\n",
      "\n",
      " "
     ],
     "language": "python",
     "metadata": {},
     "outputs": [],
     "prompt_number": 2
    },
    {
     "cell_type": "code",
     "collapsed": false,
     "input": [
      "print myRand(3)"
     ],
     "language": "python",
     "metadata": {},
     "outputs": [
      {
       "output_type": "stream",
       "stream": "stdout",
       "text": [
        "2147483647.0\n",
        "63\n"
       ]
      }
     ],
     "prompt_number": 3
    },
    {
     "cell_type": "markdown",
     "metadata": {},
     "source": [
      "Random number generator\n",
      "\n",
      "Mersenne Twister\n",
      "\n",
      "http://www.math.sci.hiroshima-u.ac.jp/~m-mat/MT/emt.html\n",
      "\n",
      "search: monte carlo simulation gamma ray\n",
      "\n",
      "Monte Carlo Simulation for the Design of Industrial Gamma-ray Transmission Tomography\n",
      "\n",
      "http://www.aesj.or.jp/publication/pnst001/data/263.pdf\n",
      "\n",
      "\n",
      "A simple algorithm for the transport of gamma rays in a medium\n",
      "\n",
      "http://top.gae.ucm.es/radiofisica/simulaciones/monfot/AJP-paper.pdf\n",
      "\n",
      "\n",
      "\n",
      "\n",
      "http://rcwww.kek.jp/egsconf/proceedings/2iwoegs/tawara.pdf\n",
      "\n",
      "\n",
      "Monte Carlo Simulation of Inorganic Scintillators Response to Gamma Rays:\n",
      "A Comparative Study\n",
      "\n",
      "http://www.idosi.org/wasj/wasj8%286%2910/18.pdf\n",
      "\n",
      "\n",
      "Precise Monte Carlo simulation of gamma-ray response functions for an NaI(Tl) detector.\n",
      "http://www.ncbi.nlm.nih.gov/pubmed/12361331\n"
     ]
    },
    {
     "cell_type": "code",
     "collapsed": false,
     "input": [],
     "language": "python",
     "metadata": {},
     "outputs": []
    }
   ],
   "metadata": {}
  }
 ]
}