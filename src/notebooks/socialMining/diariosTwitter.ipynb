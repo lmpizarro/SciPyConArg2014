{
 "metadata": {
  "name": "",
  "signature": "sha256:bbb77730954f53054bf03b41d7ea962275d4af8fd328b947521274691476592b"
 },
 "nbformat": 3,
 "nbformat_minor": 0,
 "worksheets": [
  {
   "cells": [
    {
     "cell_type": "code",
     "collapsed": false,
     "input": [
      "import twitter as tw"
     ],
     "language": "python",
     "metadata": {},
     "outputs": [],
     "prompt_number": 1
    },
    {
     "cell_type": "code",
     "collapsed": false,
     "input": [
      "OAUTH_TOKEN=\"59465566-sLBrpOG3GvtBPWtgIFXGtpw57lkFDYbcTnGz858sP\"\n",
      "OAUTH_SECRET=\"VksCIjkuHb77cSLpiDDz93DKedPGtzqdInMCdKqd8DWKQ\"\n",
      "CONSUMER_KEY=\"2MIy44nbUKiElAolSoxY0wzKQ\"\n",
      "CONSUMER_SECRET=\"KFQqFcvTWBdplgIHyLVZI3B1gp2Nlmzqv5tuiDI0AHdw6ikNVw\"\n",
      "\n",
      "twitter = tw.Twitter(\n",
      "            auth=tw.OAuth(OAUTH_TOKEN, OAUTH_SECRET,\n",
      "                       CONSUMER_KEY, CONSUMER_SECRET)\n",
      "           )\n",
      "\n",
      " "
     ],
     "language": "python",
     "metadata": {},
     "outputs": [],
     "prompt_number": 2
    },
    {
     "cell_type": "code",
     "collapsed": false,
     "input": [
      "def split_line(text):\n",
      "\n",
      "    # split the text\n",
      "    words = text.split()\n",
      "\n",
      "    # for each word in the line:\n",
      "    for word in words:\n",
      "\n",
      "        # prints each word on a line\n",
      "        print(word)"
     ],
     "language": "python",
     "metadata": {},
     "outputs": [],
     "prompt_number": 3
    },
    {
     "cell_type": "code",
     "collapsed": false,
     "input": [
      "todos=\"\"\n",
      "\n",
      "canTwits = 5\n",
      "\n",
      "sn = ['lanacioncom','lacapital','LAVOZcomar','perfilcom', 'BaeDiario', 'tiempoarg', 'clarincom', 'AgenciaTelam','pagina12noof', 'infobae', 'cronicaweb', 'cronistacom', 'ambitocom', 'rionegrocomar','lanuevaweb']"
     ],
     "language": "python",
     "metadata": {},
     "outputs": [],
     "prompt_number": 4
    },
    {
     "cell_type": "code",
     "collapsed": false,
     "input": [
      "for s in sn:\n",
      "  twits = twitter.statuses.user_timeline(count=canTwits, screen_name=s)\n",
      "  for txt in twits:\n",
      "   try:\n",
      "     #print s, txt['created_at'], txt['text']\n",
      "     text_ = txt['text']\n",
      "     todos = todos + \" \" + text_\n",
      "     print s, text_\n",
      "   except (UnicodeEncodeError, RuntimeError, TypeError, NameError):\n",
      "     pass\n"
     ],
     "language": "python",
     "metadata": {},
     "outputs": [
      {
       "output_type": "stream",
       "stream": "stdout",
       "text": [
        "lanacioncom El 77% de los adolescentes presenci\u00f3 o supo sobre casos de acoso escolar http://t.co/QixUhErKgb\n",
        "lanacioncom Scioli afirma que Insaurralde sigue en el kirchnerismo y lo defiende de las cr\u00edticas http://t.co/fXX3lKXCrs http://t.co/8F6xl0z33q\n",
        "lanacioncom Una gr\u00faa embisti\u00f3 a un colectivo en Avellaneda: 17 heridos http://t.co/cU8d4J8AQ6\n",
        "lanacioncom Gu\u00eda animada: c\u00f3mo China ve el mundo http://t.co/srxYOBcSwk\n",
        "lanacioncom La relaci\u00f3n con Estados Unidos, otra brecha que se ensancha http://t.co/7vTZNRQ0fg http://t.co/xi7Q2uOeJF\n",
        "lacapital"
       ]
      },
      {
       "output_type": "stream",
       "stream": "stdout",
       "text": [
        " River se pone al d\u00eda con Estudiantes y busca extender su racha invicta - http://t.co/XS3bznC1EV\n",
        "lacapital Piri\u00e1polis consolida su identidad - http://t.co/8QojKJmIe4\n",
        "lacapital Rocha, un lugar para disfrutar en primavera y verano - http://t.co/kImvOqWVPV\n",
        "lacapital Scioli afirm\u00f3 que \"Argentina necesita alguien confiable, previsible y que sepa unir\" - http://t.co/BJNk0Ryiwg\n",
        "lacapital Destinos recomendados para visitar todo el a\u00f1o - http://t.co/DTg0KFmIzq\n",
        "LAVOZcomar"
       ]
      },
      {
       "output_type": "stream",
       "stream": "stdout",
       "text": [
        " S\u00e1nz: No me bajo de la candidatura a presidente (video) http://t.co/NkPOk9Db01\n",
        "LAVOZcomar R\u00edo Cuarto: el cierre de los festejos por el D\u00eda de la ciudad a cargo de los ni\u00f1os http://t.co/DPZDLpER2J\n",
        "LAVOZcomar Detectan un \u201cpara\u00edso fiscal\u201d de autos de lujo en Vaca Muerta http://t.co/kACS9COvdL\n",
        "LAVOZcomar Hay un tercer detenido por la causa de los cheques en #De\u00e1nFunes http://t.co/VTZpRPkrP9\n",
        "LAVOZcomar Dos detenidos por el asesinato del chico de 18 a\u00f1os http://t.co/8vqCKe5TdI\n",
        "perfilcom"
       ]
      },
      {
       "output_type": "stream",
       "stream": "stdout",
       "text": [
        " La Polic\u00eda no le dijo los antecedentes de su ex: la apu\u00f1al\u00f3 130 veces http://t.co/W8NMqohWpy http://t.co/DVL8ZGd86l\n",
        "perfilcom Q buena idea!Licuado listo para tomar!Se llama Seremix y la publicidad me dio muchas ganas de probarlo ya! http://t.co/kyF9wkPWxB #Seremix\n",
        "perfilcom RT @exitoina: La ex GH que conquist\u00f3 Chile http://t.co/PnJ30JJnrc http://t.co/mVDjWD38yM\n",
        "perfilcom RT @fortunaweb: Las 10 empresas m\u00e1s divertidas para trabajar http://t.co/ZBxhxYPgan http://t.co/ilGArCKZv2\n",
        "perfilcom Tras faltar al casamiento, Scioli defendi\u00f3 a Insaurralde: \"Pertenece a este espacio\" \u2192 http://t.co/lrxmyMnNid http://t.co/edhZ4xH3Za\n",
        "BaeDiario"
       ]
      },
      {
       "output_type": "stream",
       "stream": "stdout",
       "text": [
        " Vanoli: \u201cEl estado act\u00faa con firmeza e inteligencia para sancionar abusos\u201d. http://t.co/pJDavV44ZK\n",
        "BaeDiario El d\u00f3lar blue vuelve a subir: 13,50 pesos. http://t.co/QNO4Lx7nRp\n",
        "BaeDiario El oficialismo firm\u00f3 el dictamen de la reforma del C\u00f3digo Procesal: se vota el pr\u00f3ximo mi\u00e9rcoles. http://t.co/yJf1zBjLxi\n",
        "BaeDiario El d\u00f3lar blue vuelve a subir: 13:27 pesos. http://t.co/QNO4Lx7nRp\n",
        "BaeDiario Kunkel: \u201cLos supuestos referentes opositores toman la banca como una beca\u201d. http://t.co/dSNRzJ6bFQ\n",
        "tiempoarg"
       ]
      },
      {
       "output_type": "stream",
       "stream": "stdout",
       "text": [
        " #Alibab\u00e1 vendi\u00f3 casi nueve mil millones de d\u00f3lares en 14 horas http://t.co/sesSHH9TB9 http://t.co/HtHM0zQ3mA\n",
        "tiempoarg #DatosSensibles La mayor\u00eda de los chicos comparte en las redes sociales su nombre y edad http://t.co/3g6gFDWUHt http://t.co/9tcSgAnCGN\n",
        "tiempoarg #TAPA @tiempoarg | La justicia allan\u00f3 bancos, casas de cambio y financieras por lavado http://t.co/rPhr5lREx3 http://t.co/fz8CNH97Tz\n",
        "tiempoarg #TAPA El Gr\u00e1fico | Salen a la cancha con 30 http://t.co/U1SuU4gVWl @afa http://t.co/tUc5bfzki6\n",
        "tiempoarg R\u00e9cord de ventas en el Cyber Monday \u00bfCu\u00e1les fueron los productos m\u00e1s vendidos? http://t.co/JGvSrU18W4 http://t.co/VVoPMbGLGQ\n",
        "clarincom"
       ]
      },
      {
       "output_type": "stream",
       "stream": "stdout",
       "text": [
        " Investigan si el motochorro que hab\u00eda atrapado Gerardo Romano asalt\u00f3 a un m\u00e9dico http://t.co/dSmOim8EVJ\n",
        "clarincom Los padres de Nicole sospechan que a su hija la mandaron a matar http://t.co/NqIRlnxo0e http://t.co/5YzSU7TpIH\n",
        "clarincom Otra batalla fatal en el ascenso: un muerto y un herido grave en Ituzaing\u00f3 http://t.co/s9y3U88D8u http://t.co/kSxxe3dvD0\n",
        "clarincom La Iglesia suspendi\u00f3 a un cura por estafar a los feligreses y lo denunci\u00f3 ante la Justicia http://t.co/f72z1c716U\n",
        "clarincom Una gr\u00faa choc\u00f3 a un colectivo: 17 heridos http://t.co/KhNRz41bIE http://t.co/4wN69ypCCK\n",
        "AgenciaTelam"
       ]
      },
      {
       "output_type": "stream",
       "stream": "stdout",
       "text": [
        " Buenos Aires pidi\u00f3 que se declare la adoptabilidad de 416 ni\u00f1os y \u201cm\u00e1s celeridad a la justicia\u201d http://t.co/euTogiyzRv\n",
        "AgenciaTelam Gil Lozano: \u201cCarri\u00f3 ve s\u00f3lo monstruos en los dem\u00e1s partidos pero no mira los que tiene al lado\u201d http://t.co/YhjSpd6GOs\n",
        "AgenciaTelam La Selecci\u00f3n venci\u00f3 a Croacia y Tevez volvi\u00f3 despu\u00e9s de tres a\u00f1os http://t.co/RZbtZSDmDm http://t.co/Stc4R8Kxfu\n",
        "AgenciaTelam AHORA: De Vido en acto de apertura de sobres para el gasoducto del Nordeste. Seguilo en VIVO por http://t.co/Uui0LVqGGq\n",
        "AgenciaTelam #Ahora Triunfo de Argentina contra Croacia por 2 a 1 en el amistoso disputado en Londres. http://t.co/6gpugReUat\n",
        "pagina12noof"
       ]
      },
      {
       "output_type": "stream",
       "stream": "stdout",
       "text": [
        " El c\u00f3digo procesal obtuvo dictamen en el Senado: \n",
        "El bloque oficialista consigui\u00f3 firma del dictamen... http://t.co/hO8QT1Nw7X\n",
        "pagina12noof El turno de las empresas en el debate por telecomunicaciones: \n",
        "La Comisi\u00f3n de Sistemas, Medios de Co... http://t.co/Ptr2LcKxGY\n",
        "pagina12noof Segundo d\u00eda sin docentes en las aulas: \n",
        "El Frente Gremial docente cumple la segunda jornada de huelg... http://t.co/8Ss2s2KszF\n",
        "pagina12noof \"Diciembre lo vamos a pasar con mucha tranquilidad\": \n",
        "El diputado kirchnerista H\u00e9ctor Recalde se\u00f1al\u00f3... http://t.co/qkcocDCfwu\n",
        "pagina12noof M\u00e1s de 800 muertos en Siria por ataques de la coalici\u00f3n que comanda Estados Unidos: \n",
        "Un informe del ... http://t.co/dliDJ6TPyP\n",
        "infobae"
       ]
      },
      {
       "output_type": "stream",
       "stream": "stdout",
       "text": [
        " Para Telef\u00f3nica, la ley Argentina Digital \"no es adecuada para una convergencia tecnol\u00f3gica\" http://t.co/ozG3hh85Bm http://t.co/PPar0nVWPx\n",
        "infobae As\u00eds: \"El problema de la Doctora hoy es pol\u00edtico, no de salud; ella habla con muy poca gente\" http://t.co/prtIecWrug http://t.co/bOo65zDrnu\n",
        "infobae La Selecci\u00f3n le gan\u00f3 a Croacia en el d\u00eda que Tevez volvi\u00f3 a vestir la camiseta argentina  http://t.co/LN7B8oUP2Q\n",
        "infobae Miguel Angel Arrigoni: \"La Argentina nunca termin\u00f3 de salir del default de 2002\" http://t.co/ShOpUct9Do\n",
        "infobae Con m\u00e1s de 40 cambios, se aprob\u00f3 el dictamen para la reforma del C\u00f3digo Procesal Penal http://t.co/b11k0TPWIv\n",
        "cronicaweb"
       ]
      },
      {
       "output_type": "stream",
       "stream": "stdout",
       "text": [
        " Me avisan por la cucaracha (?) que ante la expulsi\u00f3n de Vel\u00e1zquez, Merlos est\u00e1 listo para entrar y poner orden. #SeJuegaHastaMa\u00f1ana\n",
        "cronicaweb \u00a1GOL de #Tigre! A los 16' del PT Garate pone el 1-0 ante #Lan\u00fas y le quita la posibilidad de llegar a la punta. #VanAAdicionar30Minutos\n",
        "cronicaweb Arranc\u00f3 #Tigre-#Lan\u00fas. En Victoria, completan el encuentro suspendido por lluvia de la fecha 14. Estaban 0-0. #ReImportanteChe\n",
        "cronicaweb OTRO MUERTO EN PELEA ENTRE BARRAS DE ITUZAING\u00d3 http://t.co/gOuvvdgkOt #HastaCu\u00e1ndo? #As\u00edNoSePuedeVivirM\u00e1s #HayVariosHeridos #Y20Detenidos\n",
        "cronicaweb FINAL en Londres. #Argentina, con un poco de ayuda, le gan\u00f3 2-1 a #Croacia. #AmistosoMedioP\u00e9 #CasiPerdemosConElEquipoMantel #QueBienNoTevez\n",
        "cronistacom"
       ]
      },
      {
       "output_type": "stream",
       "stream": "stdout",
       "text": [
        " Lo que hay que hacer para aprender a ser innovador. http://t.co/IX5s5KRD4s @AperturaCom\n",
        "cronistacom Spotify asegura que pag\u00f3 m\u00e1s de US$ 2 mil millones a artistas. http://t.co/bhKfg2uptW @Infotechnology\n",
        "cronistacom Konami vuelve a dar pelea con PES 2015. http://t.co/NfFORsDIw4\n",
        "cronistacom Una aplicaci\u00f3n te deja calcular cu\u00e1nto fue la #inflaci\u00f3n del mes en tus gastos. http://t.co/KRoDahTEGS\n",
        "cronistacom Edwin tendr\u00e1 su despedida del #Indec en un boliche top de Palermo Hollywood. http://t.co/AxfG1q97t0\n",
        "ambitocom"
       ]
      },
      {
       "output_type": "stream",
       "stream": "stdout",
       "text": [
        " [POL\u00cdTICA] Obispos se ajustan a nueva era: hombre de Francisco al poder. Por @IZuleta http://t.co/wZ8wJleXcJ\n",
        "ambitocom [POL\u00cdTICA] Corte chica apura temas pol\u00edticos: coparticipaci\u00f3n, Chevron, ANSES. Por Milton Merlo http://t.co/Xnao5vHC5X\n",
        "ambitocom [PORTADA PRINCIPAL] \n",
        "Preocupa la provisi\u00f3n de papel para diarios. http://t.co/PxxiBx6ZUy\n",
        "ambitocom [F\u00daTBOL] Croacia sorprende a Argentina en el arranque. http://t.co/VnCqasklSi\n",
        "ambitocom Con m\u00ednimas operaciones por nuevos controles, las cuevas aprovecharon para llevar al #d\u00f3larblue a $13,68. http://t.co/8szNrMO6Ll\n",
        "rionegrocomar"
       ]
      },
      {
       "output_type": "stream",
       "stream": "stdout",
       "text": [
        " ACCIDENTE | #Allen: se salv\u00f3 de milagro tras chocar a bordo de un tractor http://t.co/o7etPc20FF\n",
        "rionegrocomar REGIONALES Proponen crear un programa que priorice el compre local en hiper neuquinos http://t.co/fJ3jj1ZiWI\n",
        "rionegrocomar REGIONALES Cuatro listas se disputar\u00e1n la conducci\u00f3n de ATEN http://t.co/RYRdXiBr6v\n",
        "rionegrocomar GREMIALES | ATE levant\u00f3 la toma de Educaci\u00f3n en #Viedma http://t.co/KSG41BiBZC\n",
        "rionegrocomar FOTOS | As\u00ed comenzaron a instalar el cerco de la pol\u00e9mica en #Cipolletti http://t.co/yfgqrOxCNB\n",
        "lanuevaweb"
       ]
      },
      {
       "output_type": "stream",
       "stream": "stdout",
       "text": [
        " RT @INCAA_ARGENTINA: Una pel\u00edcula del bahiense Testoni participar\u00e1 en un festival internacional de cine. M\u00e1s en: http://t.co/EZF0rCCLhP V\u00eda\u2026\n",
        "lanuevaweb EDES cortar\u00e1 ma\u00f1ana en tres sectores de la ciudad. http://t.co/PFvWYXnknn\n",
        "lanuevaweb #F\u00fatbol Con el regreso de @carlitos3210, la selecci\u00f3n @Argentina venci\u00f3 2-1 a Croacia en Londres. #Amistoso http://t.co/MmVM0ELQk0\n",
        "lanuevaweb #F\u00fatbol Al t\u00e9rmino del primer tiempo, la selecci\u00f3n @Argentina pierde 1-0 ante Croacia en Londres. #Amistoso\n",
        "lanuevaweb El bahiense @guido_pella gan\u00f3 y pas\u00f3 a los cuartos de final del Challenger de Guayaquil. http://t.co/K6DedcRIXA\n"
       ]
      }
     ],
     "prompt_number": 5
    },
    {
     "cell_type": "code",
     "collapsed": false,
     "input": [],
     "language": "python",
     "metadata": {},
     "outputs": []
    }
   ],
   "metadata": {}
  }
 ]
}