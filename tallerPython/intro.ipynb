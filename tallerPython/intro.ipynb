{
 "cells": [
  {
   "cell_type": "markdown",
   "metadata": {
    "collapsed": false
   },
   "source": [
    "# Aclaración de Compatibilidad\n",
    "\n",
    "Estas notas están hechas con [python 3](https://www.python.org/) y el notebook de [ipython](http://ipython.org/), hoy [jupyter](https://jupyter.org/), en un entorno virtual provisto por [Anaconda](https://store.continuum.io/cshop/anaconda/)\n",
    "\n",
    "Estas notas se bajan de [github](https://github.com/), repositorio [apuntes-python-cientifico](https://github.com/lmpizarro/apuntes-python-cientifico). Bajar el zip y la carpeta que tienen que ver es [cursoPython](https://github.com/lmpizarro/SciPyConArg2014/tree/master/cursoPython)\n",
    "\n",
    "### Bibliografía:\n",
    "\n",
    "\n",
    "* Para python en [IT eBooks](http://it-ebooks.info/search/?q=python&type=title)\n",
    "* Para numpy en [IT eBooks](http://it-ebooks.info/search/?q=numpy&type=title)"
   ]
  },
  {
   "cell_type": "markdown",
   "metadata": {},
   "source": [
    "# Programa\n",
    "\n",
    "* Introducción\n",
    "* Control de Flujo\n",
    "   * if/else/elif\n",
    "   * while\n",
    "   * excepciones\n",
    "* Tipos de Variables\n",
    "   * números\n",
    "   * cadenas de caractéres\n",
    "   * listas\n",
    "   * tuplas\n",
    "   * diccionarios\n",
    "   * conjuntos\n",
    "   * ejemplos\n",
    "      * archivos y directorios\n",
    "      * archivos tipo csv\n",
    "* Estructura I\n",
    "* Orientación a objetos\n",
    "  * Clases\n",
    "  * Objetos\n",
    "  * Encapsulado\n",
    "  * Abstracción de datos\n",
    "* Extras\n",
    "   * Testeo unitario de módulos\n",
    "   * generadores (yield), map, lambda, reduce, filter\n",
    "   \n",
    "* numpy   \n",
    "*  mpi4py, para cálculo paralelo\n",
    "\n",
    "* Gestión del proyecto\n",
    "  * Control de versión\n",
    "  * Gestión de la configuración\n",
    "     * Entornos virtuales\n",
    " \n",
    " \n",
    " "
   ]
  },
  {
   "cell_type": "markdown",
   "metadata": {},
   "source": [
    "# --------------------------------------------------------------------------- ---------------------------------------------------------------------------"
   ]
  },
  {
   "cell_type": "markdown",
   "metadata": {},
   "source": [
    "# Introducción\n",
    "\n",
    "## ¿Por qué un nuevo lenguaje de programación?\n",
    "\n",
    "La adopción de un nuevo lenguaje de programación presenta algunos desafíos que hay que tener en cuenta a la hora de tomar la decisión, que impactan en: \n",
    "\n",
    "* Organización\n",
    "* Compatibilidad con los recursos existentes (tecnológicos y humanos)\n",
    "* Capacitación de recursos\n",
    "* Desarrollo de los proyectos en curso\n",
    "* Mantenimiento de los proyectos\n",
    "* Planear en forma realista\n",
    "* Comenzar con proyectos chicos"
   ]
  },
  {
   "cell_type": "markdown",
   "metadata": {},
   "source": [
    "## ¿Por qué Python ?"
   ]
  },
  {
   "cell_type": "markdown",
   "metadata": {},
   "source": [
    "* Mucha documentación y guías de aprendizaje\n",
    "* Interpretado\n",
    "* Orientado a objetos, pero sin la obligación de ...\n",
    "* De alto nivel, pero puede trabajar a bajo nivel\n",
    "* Una gan comunidad de usuarios, con inserción en la comunidad científica y académica\n",
    " \n",
    "* Fácil de leer, entender y aprender\n",
    "\n",
    "* Menos  código, de 5-10 veces más chico\n",
    "\n",
    "* Un proyecto en Python se hace en 5 veces menos tiempo, 1 año se podría reducir 2 meses\n",
    "\n",
    "* Variedad de  paquetes para distintas aplicaciones \n",
    "\n",
    "* Similar a C++, orientado a objetos, redefinición de operadores, manejo de errores basado\n",
    "en excepciones.\n",
    "\n",
    "* No reinventa la rueda: reutiliza las bibliotecas disponibles\n",
    "\n",
    "* No es compilado, pero compila, \n",
    "\n",
    "* No tiene máquina virtual, pero corre bytecode de java y viceversa. Genera bytecode\n",
    "* Amigable con C, C++, Fortran\n",
    "\n",
    "\n"
   ]
  },
  {
   "cell_type": "markdown",
   "metadata": {},
   "source": [
    "## Modos de uso de python\n",
    "\n",
    "* Desde un script en un archivo *.py\n",
    "* Desde la consola python\n",
    "* Desde la consola ipython\n",
    "* Desde el Notebook de ipython (esta presentación)"
   ]
  },
  {
   "cell_type": "markdown",
   "metadata": {},
   "source": [
    "## Instalación de python\n",
    "\n",
    "* En linux/Debian en modo super-usuario o en Ubuntu con sudo: \n",
    "   * $ apt-get install ipython ipython-notebook spyder python-matplotlib python-numpy python-scipy python-sympy\n",
    "   \n",
    "   * Otros linux una variante del comando anterior\n",
    "     \n",
    "\n",
    "\n",
    " * How to Install Python on Windows [link](http://www.howtogeek.com/197947/how-to-install-python-on-windows/)\n",
    " * [Python oficial para Windows](https://www.python.org/downloads/windows/)\n",
    "\n",
    "\n",
    "## Más avanzado\n",
    "\n",
    "### Control de versión\n",
    "\n",
    " * GitHub for Windows [link](https://windows.github.com/)\n",
    " \n",
    " * msysGit, Git for Windows, tiene comandos para el shell [link](https://msysgit.github.io/)\n",
    "\n",
    "### Entornos virtuales\n",
    "\n",
    " * How To Install Python, pip, and virtualenv on Windows with PowerShell [link](http://www.tylerbutler.com/2012/05/how-to-install-python-pip-and-virtualenv-on-windows-with-powershell/)\n",
    "\n",
    "* Download Anaconda for Windows [link](http://continuum.io/downloads)\n",
    "\n",
    "### Otros\n",
    "\n",
    "* Download ActivePython Community Edition [link](http://www.activestate.com/activepython/downloads)\n",
    "\n"
   ]
  },
  {
   "cell_type": "markdown",
   "metadata": {},
   "source": [
    "##  The Zen of Python \n",
    "\n",
    "[Idiomatic Python](http://python.net/~goodger/projects/pycon/2007/idiomatic/handout.html)"
   ]
  },
  {
   "cell_type": "markdown",
   "metadata": {},
   "source": [
    "These are the guiding principles of Python, but are open to interpretation. A sense of humor is required for their proper interpretation.\n",
    "\n",
    "If you're using a programming language named after a sketch comedy troupe, you had better have a sense of humor. \n",
    "\n",
    "## Sitio oficial de  [Monty Python](http://www.montypython.com/)\n",
    "\n",
    "### Algunas de las películas de Monty Python\n",
    "\n",
    "  * Erik el vikingo (1989)\n",
    "  * Las aventuras del barón Münchausen (1988)\n",
    "  * Brazil (1985)\n",
    "  * Los héroes del tiempo (Los ladrones del tiempo) (1981)\n",
    "  * El sentido de la vida (1983)\n",
    "  * La vida de Brian (1979)\n",
    "  * Los caballeros de la mesa cuadrada y sus locos seguidores (1975)\n",
    "  \n",
    "## El creador del lenguaje python\n",
    "\n",
    "[Guido van Rossum](http://en.wikipedia.org/wiki/Guido_van_Rossum) programador alemán, nacido en el año 1956, conocido como el \"Benevolent Dictator For Life\" [(BDFL)](http://en.wikipedia.org/wiki/Benevolent_dictator_for_life), sigue manteniendo la supervisión de la evolución del lenguaje, y resuelve disputas cuando es necesario. No confundir con [Benevolent dictatorship](http://en.wikipedia.org/wiki/Benevolent_dictatorship). \n",
    "\n",
    "\n",
    "## 1\n",
    "\n",
    "* Belleza - Beautiful is better than ugly. \n",
    "* Explícito - Explicit is better than implicit.\n",
    "* Simple - Simple is better than complex.\n",
    "* Complejo - Complex is better than complicated.\n",
    "* Flat is better than nested.\n",
    "* Liviano- Sparse is better than dense.\n",
    "* Leíble - Readability counts.\n",
    "* Special cases aren't special enough to break the rules.\n",
    "* Pragmático - Although practicality beats purity.\n",
    "* Errores gritones - Errors should never pass silently.\n",
    "* Se pueden hacer callar - Unless explicitly silenced.\n",
    "\n",
    "##  2\n",
    "\n",
    "* No adivinar - In the face of ambiguity, refuse the temptation to guess.\n",
    "* Una sola forma de hacerlo - There should be one—and preferably only one—obvious way to do it.\n",
    "* Quizás no sea obvia - Although that way may not be obvious at first unless you're Dutch.\n",
    "* Inmediato - Now is better than never.\n",
    "* Nunca mejor que ahora - Although never is often better than right now.\n",
    "* Explicable - If the implementation is hard to explain, it's a bad idea.\n",
    "* Si explicable, buena idea - If the implementation is easy to explain, it may be a good idea.\n",
    "* Modular: usarlo - Namespaces are one honking great idea—let's do more of those!\n"
   ]
  },
  {
   "cell_type": "markdown",
   "metadata": {},
   "source": [
    "## Paquetes disponibles (algunos)\n",
    "\n",
    "\n",
    "\n",
    "\n",
    "[Scipy:](http://www.scipy.org/) a Python-based ecosystem of open-source software for mathematics, science, and engineering.\n",
    "* Integration (scipy.integrate), \n",
    "* Optimization (scipy.optimize),  \n",
    "* Interpolation (scipy.interpolate), \n",
    "* Fourier Transforms (scipy.fftpack), \n",
    "* Signal Processing (scipy.signal)\n",
    "* etc.\n",
    "\n",
    "\n",
    "[PyNE:](http://pyne.io/)  The Nuclear Engineering Toolkit  \n",
    "\n",
    "[Bob:](https://www.idiap.ch/software/bob/docs/releases/last/sphinx/html/index.html)  Signal-processing and machine learning toolbox \n",
    "\n",
    "[The Materials Project:](https://www.materialsproject.org/open)  the Materials API and pymatgen package provide the means for users to efficiently obtain large data sets and develop new analyses. \n",
    "\n",
    "[Atomic Simulation Environment:](https://wiki.fysik.dtu.dk/ase/) The Atomistic Simulation Environment (ASE) is a set of tools and Python modules for setting up, manipulating, running, visualizing and analyzing atomistic simulations.\n",
    "\n",
    "[PyFoam:](https://openfoamwiki.net/index.php/Contrib/PyFoam)\n",
    "A python library to control OpenFOAM-runs and manipulate OpenFOAM-data. Comes with a number of utilities that should make your life easier if you're not scared by commandlines \n",
    "\n",
    "[pythonFlu:](http://pythonflu.wikidot.com/) provides Python wrapping for OpenFOAM C++ API. It enriches the existing OpenFOAM best features, such as expressiveness and robustness, with such unique Python advantages as interactivity and automation. pythonFlu delivers unique engineering environment, where everything can be accessed and run in the same Python terms\n",
    "\n",
    "[OpenCV:](http://opencv.org/) includes several hundreds of computer vision algorithms.\n",
    "\n",
    "[MsNoise:](http://www.msnoise.org/) a Python Package for Monitoring Seismic Velocity Changes using Ambient Seismic Noise"
   ]
  },
  {
   "cell_type": "markdown",
   "metadata": {},
   "source": [
    "## El proceso de desarrollo de software"
   ]
  },
  {
   "cell_type": "markdown",
   "metadata": {},
   "source": [
    "* Análisis del problema\n",
    "* Especificación de requerimientos\n",
    "* Diseño del sistema\n",
    "* Arquitectura del sistema\n",
    "* Desarrollo del código\n",
    "* Verificación y validación, tests (muchos)\n",
    "* Puesta en producción"
   ]
  },
  {
   "cell_type": "markdown",
   "metadata": {},
   "source": [
    "## Útiles"
   ]
  },
  {
   "cell_type": "markdown",
   "metadata": {},
   "source": [
    "* [Anaconda:](https://store.continuum.io/cshop/anaconda/) Distribución de python científica\n",
    "* [nbviewer: ](http://nbviewer.ipython.org/) Notebook Viewer\n",
    "* [Markdown: ](http://daringfireball.net/projects/markdown/basics) Para escribir este documento\n",
    "* [Info Python: ](http://it-ebooks.info/) Libros y manuales \n",
    "   * Learning SciPy for Numerical and Scientific Computing, 2nd Edition, Rojas y otros."
   ]
  },
  {
   "cell_type": "markdown",
   "metadata": {},
   "source": [
    "## Referencias"
   ]
  },
  {
   "cell_type": "markdown",
   "metadata": {},
   "source": [
    "[scientific-python-lectures: ](http://nbviewer.ipython.org/github/fperez/scientific-python-lectures/tree/master/) Introducción a la programación en python y algo más.\n",
    "\n",
    "[Dive into Python: ](http://www.diveintopython.net/) a free Python book for experienced programmers. \n",
    "\n",
    "[curso-python-cientifico](https://github.com/mgaitan/curso-python-cientifico) Taller de Python orientado a estudiantes, profesores, investigadores e ingenieros"
   ]
  },
  {
   "cell_type": "markdown",
   "metadata": {},
   "source": [
    "## Hola Mundo en Python!"
   ]
  },
  {
   "cell_type": "code",
   "execution_count": 1,
   "metadata": {
    "collapsed": false
   },
   "outputs": [
    {
     "name": "stdout",
     "output_type": "stream",
     "text": [
      "Hola Mundo!\n"
     ]
    }
   ],
   "source": [
    "print (\"Hola Mundo!\")"
   ]
  },
  {
   "cell_type": "markdown",
   "metadata": {},
   "source": [
    "### Hola Mundo en C!!\n",
    "\n",
    "\\#include '<'stdio.h>'\n",
    "\n",
    "int main (){\n",
    "\n",
    "  printf (\"Hola Mundo\\n\");\n",
    "\n",
    "  return 0;\n",
    "\n",
    "}\n",
    "\n",
    "##### Más el ciclo de compilación"
   ]
  },
  {
   "cell_type": "markdown",
   "metadata": {},
   "source": [
    "# Formato de salida en el print\n",
    "\n",
    "Más información [Formatted Output](http://www.python-course.eu/python3_formatted_output.php)"
   ]
  },
  {
   "cell_type": "code",
   "execution_count": 2,
   "metadata": {
    "collapsed": false
   },
   "outputs": [
    {
     "name": "stdout",
     "output_type": "stream",
     "text": [
      "2 3.0 string e\n",
      "97 97 a\n",
      "string97\n"
     ]
    },
    {
     "ename": "TypeError",
     "evalue": "Can't convert 'int' object to str implicitly",
     "output_type": "error",
     "traceback": [
      "\u001b[1;31m---------------------------------------------------------------------------\u001b[0m",
      "\u001b[1;31mTypeError\u001b[0m                                 Traceback (most recent call last)",
      "\u001b[1;32m<ipython-input-2-9c460f77eabc>\u001b[0m in \u001b[0;36m<module>\u001b[1;34m()\u001b[0m\n\u001b[0;32m     14\u001b[0m \u001b[1;33m\u001b[0m\u001b[0m\n\u001b[0;32m     15\u001b[0m \u001b[1;31m# esto da error ¿?\u001b[0m\u001b[1;33m\u001b[0m\u001b[1;33m\u001b[0m\u001b[0m\n\u001b[1;32m---> 16\u001b[1;33m \u001b[0mprint\u001b[0m \u001b[1;33m(\u001b[0m\u001b[0mj\u001b[0m \u001b[1;33m+\u001b[0m \u001b[0mp\u001b[0m\u001b[1;33m)\u001b[0m\u001b[1;33m\u001b[0m\u001b[0m\n\u001b[0m",
      "\u001b[1;31mTypeError\u001b[0m: Can't convert 'int' object to str implicitly"
     ]
    }
   ],
   "source": [
    "# asignaciones a variables\n",
    "a = 2\n",
    "b = 3.0\n",
    "j = \"string\"\n",
    "q = 'e'\n",
    "p = 97\n",
    "\n",
    "print (a,b,j,q)\n",
    "\n",
    "# tres formas distintas de obtener la salida de la\n",
    "# variable p\n",
    "print(p, str(p), chr(p))\n",
    "print(j + str(p)) \n",
    "\n",
    "# esto da error ¿?\n",
    "print (j + p)"
   ]
  },
  {
   "cell_type": "code",
   "execution_count": null,
   "metadata": {
    "collapsed": false
   },
   "outputs": [],
   "source": [
    "print((\"a: %d, b %6.2f\")%(a,b))\n",
    "# 6 es el ancho total del número\n",
    "# 2 es la cantidad de decimales después de\n",
    "# la coma\n",
    "\n",
    "# esto es equivalente\n",
    "s = (\"a: %d, b %6.2f\")%(a,b)\n",
    "print(s)"
   ]
  },
  {
   "cell_type": "markdown",
   "metadata": {},
   "source": [
    "## Scripts \n",
    "\n",
    "Un script muy simple como para empezar y ver los componentes\n",
    "principales"
   ]
  },
  {
   "cell_type": "code",
   "execution_count": null,
   "metadata": {
    "collapsed": false
   },
   "outputs": [],
   "source": [
    "# -*- coding: utf-8 -*-\n",
    "\n",
    "# Lo anterior nos permite escribir comentarios\n",
    "# con carácteres acentuados o ñ.\n",
    "# es lo primero que hay que poner en le archivo\n",
    "\n",
    "#indica al operativo donde está python\n",
    "# para ejecutar el script\n",
    "#!/usr/bin/python\n",
    "\n",
    "\n",
    "print (\"Hola Mundo!\")"
   ]
  },
  {
   "cell_type": "markdown",
   "metadata": {},
   "source": [
    "* Grabamos el archivo con nombre hola.py\n",
    "* en el prompt  ->python hola.py\n",
    "* -> Hola Mundo!\n",
    "* en linux se puede hacer ->chmod +x hola.py\n",
    "* en el prompt  ->hola.py\n",
    "* -> Hola Mundo!"
   ]
  },
  {
   "cell_type": "markdown",
   "metadata": {},
   "source": [
    "### En ipython notebook para probar cosas\n",
    "\n",
    "No se necesitan algunas de las cosas que ponemos en un archivo. Ipython es un ambiente web que permite mezclar código ejecutable con cualquier contenido que pueda mostrar un navegador."
   ]
  },
  {
   "cell_type": "code",
   "execution_count": null,
   "metadata": {
    "collapsed": false
   },
   "outputs": [],
   "source": [
    "print (\"Hola Mundo Ipython! \")"
   ]
  },
  {
   "cell_type": "markdown",
   "metadata": {},
   "source": [
    "## Funciones"
   ]
  },
  {
   "cell_type": "code",
   "execution_count": null,
   "metadata": {
    "collapsed": false
   },
   "outputs": [],
   "source": [
    "# -*- coding: utf-8 -*-\n",
    "\n",
    "#!/usr/bin/python\n",
    "\n",
    "#\n",
    "# observar los : al final de la definición de la función\n",
    "# su falta es una fuente común de error.\n",
    "#\n",
    "def holaMundo (s):\n",
    "    print(\"Hola \", s)\n",
    "    print(\"Bienvenida a Python!\")\n",
    "    \n",
    "holaMundo(\"María\")    "
   ]
  },
  {
   "cell_type": "markdown",
   "metadata": {},
   "source": [
    "## Operadores\n",
    "\n",
    "* Sumar y restar: +, -\n",
    "* Multiplicación, división y módulo: *, /, %\n",
    "* División truncada: //, el resultado de la división se aproxima al entero\n",
    "* Signos algebráicos: +x, -x\n",
    "* Complemento orientado a bit: ~x, ~3 = ~(0....011) = 1....100 = -4\n",
    "* Exponenciación: \\*\\* , 10\\*\\*3 = 1000\n",
    "* Operaciones booleanas: Or, And, Not\n",
    "* Elemento perteneciente a: in, 1 in [1,2,3] -> True, 0 in [1,2,3] -> False\n",
    "* Operadores de comparación: <, <=, >, >=, !=, == , lo de siempre\n",
    "* Operadores orientados a bits: |, &, ^. OR, AND, XOR\n",
    "* Operadores de desplaazmiento: <<, >> "
   ]
  },
  {
   "cell_type": "markdown",
   "metadata": {},
   "source": [
    "### Operadores simplificados / shortcuts"
   ]
  },
  {
   "cell_type": "code",
   "execution_count": 5,
   "metadata": {
    "collapsed": false
   },
   "outputs": [
    {
     "name": "stdout",
     "output_type": "stream",
     "text": [
      "5\n",
      "8\n",
      "5\n",
      "15\n",
      "5.0\n",
      "1.0\n",
      "1.0\n"
     ]
    }
   ],
   "source": [
    "m = 2\n",
    "n = 3\n",
    "# asignamos a m el valor de la suma m + n\n",
    "m = m + n\n",
    "print (m)\n",
    "# operador reducido para la adición\n",
    "m += n\n",
    "print (m)\n",
    "# operador reducido para la resta\n",
    "m -= n\n",
    "print (m)\n",
    "# operador reducido para la multiplicación\n",
    "m *= n\n",
    "print (m)\n",
    "# operador reducido para la división\n",
    "# el resultado depende de la versión de python\n",
    "# que se use. \n",
    "m /= n\n",
    "print (m)\n",
    "m //= n ## división entera\n",
    "print (m)\n",
    "m %= n  ##\n",
    "print (m)"
   ]
  },
  {
   "cell_type": "markdown",
   "metadata": {},
   "source": [
    "## Estructurar el código con identación\n",
    "\n",
    "La mayoría de los lenguajes de programación utilizan algún signo de puntuación para delimitar las instrucciones. \n",
    "\n",
    "Python utiliza un principio diferente. Los programas se estructuran a partir de la indentación, esto significa que los bloques de códigos quedan definidos por su indentación. \n",
    "\n",
    "Esto es un requerimiento. Indentar mal implica que el código genera un error. \n",
    "\n",
    "La figura muestra como se ordenan las líneas de código.\n",
    "\n",
    "Una línea de puede continuar con el carácter \"\\\".\n"
   ]
  },
  {
   "cell_type": "code",
   "execution_count": null,
   "metadata": {
    "collapsed": false
   },
   "outputs": [],
   "source": [
    "from IPython.display import Image\n",
    "Image(filename=\"blocks.png\")"
   ]
  },
  {
   "cell_type": "code",
   "execution_count": null,
   "metadata": {
    "collapsed": false,
    "scrolled": true
   },
   "outputs": [],
   "source": [
    "# esto da error\n",
    "a = 0 \n",
    "  print(a)"
   ]
  },
  {
   "cell_type": "code",
   "execution_count": null,
   "metadata": {
    "collapsed": false
   },
   "outputs": [],
   "source": [
    "# También produce un error de identación\n",
    "  a=0\n",
    "print(a)"
   ]
  },
  {
   "cell_type": "code",
   "execution_count": null,
   "metadata": {
    "collapsed": false
   },
   "outputs": [],
   "source": [
    "# esto no da error\n",
    "a = 0\n",
    "print(a)"
   ]
  },
  {
   "cell_type": "code",
   "execution_count": null,
   "metadata": {
    "collapsed": false
   },
   "outputs": [],
   "source": [
    "# -*- coding: utf-8 -*-\n",
    "\n",
    "#!/usr/bin/python\n",
    "\n",
    "def holaMundo (s):\n",
    "    print(\"Hola \", s)\n",
    "    print(\"Bienvenida a Python!\")\n",
    "    \n",
    "holaMundo(\"María\")\n",
    "\n",
    "# Esto está bien, hace lo que esperamos"
   ]
  },
  {
   "cell_type": "code",
   "execution_count": null,
   "metadata": {
    "collapsed": false
   },
   "outputs": [],
   "source": [
    "# -*- coding: utf-8 -*-\n",
    "\n",
    "#!/usr/bin/python\n",
    "\n",
    "def holaMundo (s):\n",
    "    print(\"Hola \", s)\n",
    "    print(\"Bienvenida a Python!\")\n",
    "    \n",
    "    holaMundo(\"María\")\n",
    "# acá no hace nada ¿?\n",
    "# si usan la función ¿qué pasaría?"
   ]
  },
  {
   "cell_type": "code",
   "execution_count": null,
   "metadata": {
    "collapsed": false
   },
   "outputs": [],
   "source": [
    "# -*- coding: utf-8 -*-\n",
    "\n",
    "#!/usr/bin/python\n",
    "\n",
    "def holaMundo (s):\n",
    "    print(\"Hola \", s)\n",
    "    print(\"Bienvenida a Python!\")\n",
    "    \n",
    "  holaMundo(\"María\")\n",
    "# esto produce error ¿?"
   ]
  },
  {
   "cell_type": "code",
   "execution_count": null,
   "metadata": {
    "collapsed": false
   },
   "outputs": [],
   "source": [
    "# -*- coding: utf-8 -*-\n",
    "\n",
    "#!/usr/bin/python\n",
    "\n",
    " def holaMundo (s):\n",
    "    print(\"Hola \", s)\n",
    "    print(\"Bienvenida a Python!\")\n",
    "    \n",
    "holaMundo(\"María\")\n",
    "# esto produce error ¿?"
   ]
  },
  {
   "cell_type": "code",
   "execution_count": null,
   "metadata": {
    "collapsed": false
   },
   "outputs": [],
   "source": [
    "# -*- coding: utf-8 -*-\n",
    "\n",
    "#!/usr/bin/python\n",
    "\n",
    "def holaMundo (s):\n",
    "    print(\"Hola \", s)\n",
    "    print(\"Bienvenida a Python!\")\n",
    "    \n",
    "for i in range(2):  # for(i=0; i<2;i++) holaMundo(\"María\");\n",
    "    holaMundo(\"María\")\n",
    "# esto está bien"
   ]
  },
  {
   "cell_type": "code",
   "execution_count": null,
   "metadata": {
    "collapsed": false
   },
   "outputs": [],
   "source": [
    "# -*- coding: utf-8 -*-\n",
    "\n",
    "#!/usr/bin/python\n",
    "\n",
    "def holaMundo (s):\n",
    "    print(\"Hola \", s)\n",
    "    print(\"Bienvenida a Python!\")\n",
    "    \n",
    "for i in range(2):\n",
    "      a = i * 2\n",
    "    holaMundo(\"María\")\n",
    "# esto produce error ¿?"
   ]
  },
  {
   "cell_type": "markdown",
   "metadata": {},
   "source": [
    "# --------------------------------------------------------------------------- ---------------------------------------------------------------------------"
   ]
  },
  {
   "cell_type": "markdown",
   "metadata": {},
   "source": [
    "## Control de flujo"
   ]
  },
  {
   "cell_type": "markdown",
   "metadata": {},
   "source": [
    "### if/else"
   ]
  },
  {
   "cell_type": "code",
   "execution_count": null,
   "metadata": {
    "collapsed": false
   },
   "outputs": [],
   "source": [
    "x = 12\n",
    "\n",
    "# ver los : !! importante\n",
    "if x < 20:\n",
    "    print(\"x < 20\", x)\n",
    "# de nuevo los : !!    \n",
    "else:\n",
    "    # acá hay un error, pero si la ejecución\n",
    "    # no pasa por acá, no lo detecta\n",
    "    # importante crear casos de prueba para\n",
    "    # todas las posibilidades\n",
    "    prnit(\"x > = 20\", x)"
   ]
  },
  {
   "cell_type": "markdown",
   "metadata": {},
   "source": [
    "### if/elif/else"
   ]
  },
  {
   "cell_type": "code",
   "execution_count": null,
   "metadata": {
    "collapsed": false
   },
   "outputs": [],
   "source": [
    "if x < 20:\n",
    "    print (\"x < 20\", x)\n",
    "elif 13 < x < 18:\n",
    "    print (\"x está entre 13 y 18\")\n",
    "else:\n",
    "   print (\"x fuera de rango\")"
   ]
  },
  {
   "cell_type": "markdown",
   "metadata": {},
   "source": [
    "### Ciclos for"
   ]
  },
  {
   "cell_type": "code",
   "execution_count": null,
   "metadata": {
    "collapsed": false
   },
   "outputs": [],
   "source": [
    "range (10)"
   ]
  },
  {
   "cell_type": "code",
   "execution_count": null,
   "metadata": {
    "collapsed": false
   },
   "outputs": [],
   "source": [
    "list(range(10,34,2))"
   ]
  },
  {
   "cell_type": "code",
   "execution_count": null,
   "metadata": {
    "collapsed": false
   },
   "outputs": [],
   "source": [
    "suma = 0\n",
    "for i in range (10): # for (i = 0; i < 10; i++){ }\n",
    "    suma = suma +i\n",
    "print (suma)"
   ]
  },
  {
   "cell_type": "code",
   "execution_count": null,
   "metadata": {
    "collapsed": false
   },
   "outputs": [],
   "source": [
    "suma = 0\n",
    "for i in range (3,10):  # for (i = 3; i < 10; i++){ }\n",
    "    suma = suma +i\n",
    "print (suma)"
   ]
  },
  {
   "cell_type": "markdown",
   "metadata": {},
   "source": [
    "#### Ciclo con paso distinto de 1"
   ]
  },
  {
   "cell_type": "code",
   "execution_count": null,
   "metadata": {
    "collapsed": false
   },
   "outputs": [],
   "source": [
    "for i in range(0,10, 2):\n",
    "    print (i)"
   ]
  },
  {
   "cell_type": "markdown",
   "metadata": {},
   "source": [
    "#### Ciclo for inverso"
   ]
  },
  {
   "cell_type": "code",
   "execution_count": null,
   "metadata": {
    "collapsed": false
   },
   "outputs": [],
   "source": [
    "for i in range(5,1, -1):\n",
    "    print (i)"
   ]
  },
  {
   "cell_type": "markdown",
   "metadata": {},
   "source": [
    "#### Acceso a índice y valor en forma simultanea"
   ]
  },
  {
   "cell_type": "code",
   "execution_count": null,
   "metadata": {
    "collapsed": false
   },
   "outputs": [],
   "source": [
    "for posicion, valor in enumerate([4,45 , 19]):\n",
    "    print(\"El valor de la posicion %s es %d\" % (posicion+1, valor))"
   ]
  },
  {
   "cell_type": "markdown",
   "metadata": {},
   "source": [
    "#### break"
   ]
  },
  {
   "cell_type": "code",
   "execution_count": null,
   "metadata": {
    "collapsed": false
   },
   "outputs": [],
   "source": [
    "sumatoria = 0\n",
    "for elemento in range(1000):\n",
    "    if elemento > 100:\n",
    "        break\n",
    "    sumatoria = sumatoria + elemento\n",
    "sumatoria, elemento"
   ]
  },
  {
   "cell_type": "markdown",
   "metadata": {},
   "source": [
    "#### continue"
   ]
  },
  {
   "cell_type": "code",
   "execution_count": null,
   "metadata": {
    "collapsed": false
   },
   "outputs": [],
   "source": [
    "sumatoria = 0\n",
    "for elemento in range(20):\n",
    "    if elemento % 2:\n",
    "        continue\n",
    "    print(elemento)\n",
    "    sumatoria = sumatoria + elemento\n",
    "sumatoria"
   ]
  },
  {
   "cell_type": "markdown",
   "metadata": {},
   "source": [
    "### while"
   ]
  },
  {
   "cell_type": "code",
   "execution_count": null,
   "metadata": {
    "collapsed": false
   },
   "outputs": [],
   "source": [
    "a = 0\n",
    "suma = 0\n",
    "while a < 10:\n",
    "    suma = suma + a\n",
    "    a = a + 1\n",
    "print (suma)"
   ]
  },
  {
   "cell_type": "markdown",
   "metadata": {},
   "source": [
    "### switch - case \n",
    "\n",
    "Se encuentra en otros lenguajes. En python no. Se busca implementar con if/else/elif. "
   ]
  },
  {
   "cell_type": "markdown",
   "metadata": {},
   "source": [
    "### Ciclos anidados"
   ]
  },
  {
   "cell_type": "code",
   "execution_count": null,
   "metadata": {
    "collapsed": false
   },
   "outputs": [],
   "source": [
    "for k in range(0,5):\n",
    "    for i in range (3,7):\n",
    "        print (\"k: %d i %d: \" %  (k ,i))"
   ]
  },
  {
   "cell_type": "code",
   "execution_count": null,
   "metadata": {
    "collapsed": false
   },
   "outputs": [],
   "source": [
    "for k in range(0,5):\n",
    "    for i in range (3,7):\n",
    "        for j in range (2,4):\n",
    "            print (\"k: %d i %d: j %d:\" %  (k ,i, j))"
   ]
  },
  {
   "cell_type": "markdown",
   "metadata": {},
   "source": [
    "### Excepciones "
   ]
  },
  {
   "cell_type": "markdown",
   "metadata": {},
   "source": [
    "Una excepción es un evento que ocurre durante la ejecución normal de un programa, que interrumpe el flujo normal de ejecución del programa."
   ]
  },
  {
   "cell_type": "code",
   "execution_count": null,
   "metadata": {
    "collapsed": false
   },
   "outputs": [],
   "source": [
    "#!/usr/bin/python\n",
    "\n",
    "try:\n",
    "    # lo que se quiere hacer\n",
    "   fh = open(\"testfile\", \"w\")\n",
    "   fh.write(\"Esta es una prueba para manejo de excepciones !!\")\n",
    "except IOError:\n",
    "    # si hay un problema ejecuta esta parte\n",
    "   print (\"Error: no se puede escribir en el archivo\")\n",
    "else:\n",
    "   # si no hay problemas se termina ejecutando esta parte \n",
    "   print (\"Se escribió en el archivo de forma satisfactoria\")\n",
    "   fh.close()\n",
    "\n",
    "print (\"El programa sigue su curso normal\")"
   ]
  },
  {
   "cell_type": "markdown",
   "metadata": {},
   "source": [
    "# --------------------------------------------------------------------------- ---------------------------------------------------------------------------"
   ]
  },
  {
   "cell_type": "markdown",
   "metadata": {},
   "source": [
    "## Tipos de Variables"
   ]
  },
  {
   "cell_type": "markdown",
   "metadata": {},
   "source": [
    "### Números"
   ]
  },
  {
   "cell_type": "code",
   "execution_count": null,
   "metadata": {
    "collapsed": false
   },
   "outputs": [],
   "source": [
    "#!/usr/bin/python\n",
    "\n",
    "counter = 100          # Un entero\n",
    "miles   = 1000.0       # Un punto flotante\n",
    "name    = \"John\"       # Un string\n",
    "cmpl    = 3.14j        # Un complejo\n",
    "\n",
    "print (\"El entero %d\" % (counter))\n",
    "print (\"El punto flotante  %f\" % (miles))\n",
    "print (\"El string %s\" % (name))\n",
    "print (\"El compleo %f + %fj\"% (cmpl.real, cmpl.imag))\n",
    "\n",
    "print (\"El tipo de la variable es  %s\" % type(counter))\n",
    "print (\"El tipo de la variable es  %s\" % type(miles))\n",
    "counter = float (counter)\n",
    "print (\"El tipo de la variable es  %s\" % type(counter))\n",
    "\n",
    "# Asignación múltiple\n",
    "a=b=c=counter\n",
    "\n",
    "print (\"Asignación múltiple: \",a,b,c)\n",
    "\n",
    "# Notación \n",
    "numero = 32.2e18\n",
    "print (\"%05Ef\" % ( numero))\n",
    "#\n",
    "# Para ver como construir el formato para print\n",
    "# http://www.python-course.eu/python3_formatted_output.php\n",
    "#"
   ]
  },
  {
   "cell_type": "markdown",
   "metadata": {},
   "source": [
    "### Cadenas de caractéres (strings)"
   ]
  },
  {
   "cell_type": "markdown",
   "metadata": {},
   "source": [
    "Cadena contínua de caractéres entre comillas"
   ]
  },
  {
   "cell_type": "code",
   "execution_count": null,
   "metadata": {
    "collapsed": false
   },
   "outputs": [],
   "source": [
    "#inicialización de strings \n",
    "str1 = \"un ejemplo de string\"\n",
    "str2 = 'otro ejemplo de string'\n",
    "# respetar el orden del encomillado\n",
    "str3 = \"anidado de 'comillas' \"\n",
    "str4 = 'esto \"no\" debería'\n",
    "#concatenación de caractéres \n",
    "str5 = str3 + str4\n",
    "\n",
    "# \"multiplicación de string\"\n",
    "str6 = str3 * 2\n",
    "# un caracter del string\n",
    "str7 = str6[0]\n",
    "# rango de caracteres\n",
    "str8 = str6[3:8]\n",
    "# desde el índice 3 hasta el fin\n",
    "str9 = \"1234567890\"[3:]\n",
    "\n",
    "print(\"str1: \", str1)\n",
    "print(\"str2: \", str2)\n",
    "print(\"str3: \", str3)\n",
    "print(\"str4: \", str4)\n",
    "print(\"concatenación: \", str5)\n",
    "print(\"multiplicación de string: \", str6)\n",
    "print(\"un caracter del string: \", str7)\n",
    "print(\"rango de caracteres: \", str8)\n",
    "print(\"desde el índice 3 hasta el fin: \", str9)\n",
    "print(\"le saco 3 chars del final\", \"1234567890\"[:-3])\n",
    "print(\"combinamos los 2 anteriores\", \"1234567890\"[3:-3])"
   ]
  },
  {
   "cell_type": "code",
   "execution_count": 3,
   "metadata": {
    "collapsed": false
   },
   "outputs": [
    {
     "ename": "SyntaxError",
     "evalue": "invalid syntax (<ipython-input-3-2aa5b1b52880>, line 3)",
     "output_type": "error",
     "traceback": [
      "\u001b[1;36m  File \u001b[1;32m\"<ipython-input-3-2aa5b1b52880>\"\u001b[1;36m, line \u001b[1;32m3\u001b[0m\n\u001b[1;33m    str10 = \"hola \"mundo\"\"\u001b[0m\n\u001b[1;37m                       ^\u001b[0m\n\u001b[1;31mSyntaxError\u001b[0m\u001b[1;31m:\u001b[0m invalid syntax\n"
     ]
    }
   ],
   "source": [
    "# si no respeto el orden de comillas\n",
    "# tengo error\n",
    "str10 = \"hola \"mundo\"\""
   ]
  },
  {
   "cell_type": "markdown",
   "metadata": {},
   "source": [
    "### Operadores para cadenas de caracteres o string\n",
    "\n",
    "Operador Suma y Operador repetición"
   ]
  },
  {
   "cell_type": "code",
   "execution_count": 4,
   "metadata": {
    "collapsed": false
   },
   "outputs": [
    {
     "name": "stdout",
     "output_type": "stream",
     "text": [
      "hola mundo\n",
      "ZZZZZ\n"
     ]
    }
   ],
   "source": [
    "# operador suma\n",
    "a = \"hola\"\n",
    "b = \"mundo\"\n",
    "c = \" \"\n",
    "d = a + c + b\n",
    "print (d)\n",
    "\n",
    "# operador repetición\n",
    "a = \"Z\"\n",
    "c = 5*a\n",
    "print (c) # nos dormimos"
   ]
  },
  {
   "cell_type": "markdown",
   "metadata": {},
   "source": [
    "### Conjuntos, sets ()\n",
    "\n",
    "Cantor defined a set at the beginning of his \"Beiträge zur Begründung der transfiniten Mengenlehre\":\n",
    "\"A set is a gathering together into a whole of definite, distinct objects of our perception and of our thought - which are called elements of the set.\" Nowadays, we can say in \"plain\" English: A set is a well defined collection of objects.  Más en [link](http://www.python-course.eu/sets_frozensets.php)"
   ]
  },
  {
   "cell_type": "code",
   "execution_count": null,
   "metadata": {
    "collapsed": false
   },
   "outputs": [],
   "source": [
    "# Definición de un conjunto\n",
    "x = set(\"A Python Tutorial\")\n",
    "print (x, type(x))\n",
    "\n",
    "# Agregar un elemento al conjunto\n",
    "x.add(\"S\")\n",
    "print (x)\n"
   ]
  },
  {
   "cell_type": "markdown",
   "metadata": {},
   "source": [
    "### Notación simplificada para conjuntos, sets()"
   ]
  },
  {
   "cell_type": "code",
   "execution_count": null,
   "metadata": {
    "collapsed": false
   },
   "outputs": [],
   "source": [
    "colores  = {\"blanco\",\"rojo\",\"verde\",\"violeta\"}\n",
    "print (colores, type(colores))"
   ]
  },
  {
   "cell_type": "markdown",
   "metadata": {},
   "source": [
    "### La notación para conjuntos es distinta en python 2 y python 3\n",
    "\n",
    "Acá en python 3"
   ]
  },
  {
   "cell_type": "code",
   "execution_count": 1,
   "metadata": {
    "collapsed": false
   },
   "outputs": [
    {
     "name": "stdout",
     "output_type": "stream",
     "text": [
      "{1, 2, 3, 4, 5}\n",
      "{3}\n",
      "True\n",
      "True\n",
      "True\n"
     ]
    }
   ],
   "source": [
    "A = set()  # create an empty set\n",
    "B = set([1,2,3]) # a 3 element set\n",
    "C = set([3,4,5])\n",
    "D = set([6,7,8])\n",
    "# Now try out some set operations\n",
    "print (B.union(C))\n",
    "print(B.intersection(C))\n",
    "print(B.issuperset(set([2])))\n",
    "print(set([3]).issubset(C))\n",
    "print(C.intersection(D) == A)"
   ]
  },
  {
   "cell_type": "markdown",
   "metadata": {},
   "source": [
    "### Listas"
   ]
  },
  {
   "cell_type": "markdown",
   "metadata": {},
   "source": [
    "Una estructura que contiene elementos separados por comas y encerradas entre llaves [].\n",
    "\n",
    "Más sobre listas [link] (https://docs.python.org/2/tutorial/datastructures.html)"
   ]
  },
  {
   "cell_type": "code",
   "execution_count": null,
   "metadata": {
    "collapsed": false
   },
   "outputs": [],
   "source": [
    "lista = [ 'abcd', 786 , 2.23, 'john', 70.2 ]\n",
    "listita = [123, 'john']\n",
    "\n",
    "print (\"toda la lista \",lista)\n",
    "print (\"el primer elemento \",lista[0])\n",
    "print (\"desde 1 hasta 3 (no incluye) \", lista [1:3])\n",
    "print (\"desde 2 hat el fin \",lista [2:])\n",
    "print (\"concatena 2 veces la listita \",listita * 2)\n",
    "print (\"concatena listas distintas \", lista + listita)\n",
    "lista.append(\"app\")\n",
    "# agregar un elemento a la lista\n",
    "print (\"lista agregada \", lista)\n",
    "\n",
    "#inicializar la  lista vacía\n",
    "listita = []\n",
    "listita.append (\"2\")\n",
    "print (listita)\n",
    "#eliminar el elemento\n",
    "listita.remove(\"2\")\n",
    "print (listita)\n",
    "#eliminar el elemento i-ésimo\n",
    "print (\"elemento eliminado \",lista.pop(0))\n",
    "print (\"la lista después de la eliminación\",lista)\n",
    "\n",
    "abc = ['w','h','b','t','d','f','a','0']\n",
    "abc.sort()\n",
    "print (\"lista ordenada\", abc)\n",
    " "
   ]
  },
  {
   "cell_type": "code",
   "execution_count": null,
   "metadata": {
    "collapsed": false
   },
   "outputs": [],
   "source": [
    "# una lista \n",
    "l = [[['0',15],['1', 32], ['2', 35],['3', 34], ['4', 33], ['5', 36]],\n",
    "    [['10',15],['11', 32], ['12', 35],['13', 34], ['14', 33], ['15', 36]]]\n",
    "# recorro todos los elementos\n",
    "# de la lista l\n",
    "for ls in l:\n",
    "    for lss in ls:\n",
    "        for lsss in lss:\n",
    "            print (lsss)"
   ]
  },
  {
   "cell_type": "code",
   "execution_count": 7,
   "metadata": {
    "collapsed": false
   },
   "outputs": [
    {
     "name": "stdout",
     "output_type": "stream",
     "text": [
      "False\n",
      "2 1 -4\n",
      "9 1 1 2\n"
     ]
    }
   ],
   "source": [
    "# Uso del operador in \n",
    "a = 0 in [1,2,3]\n",
    "print (a) \n",
    "\n",
    "# otras operaciones \n",
    "print(2%3, 3//2, ~3)\n",
    "\n",
    "# representación de numeros en otras bases\n",
    "print (0o11, 0x01, 0b01 ,0b11 & 0b10)"
   ]
  },
  {
   "cell_type": "markdown",
   "metadata": {},
   "source": [
    "## List comprehension\n",
    "\n",
    "### Tutorial Data structures [List Comprehensions](https://docs.python.org/3.4/tutorial/datastructures.html#list-comprehensions)"
   ]
  },
  {
   "cell_type": "code",
   "execution_count": 8,
   "metadata": {
    "collapsed": false
   },
   "outputs": [
    {
     "name": "stdout",
     "output_type": "stream",
     "text": [
      "[0, 1, 4, 9, 16, 25, 36, 49, 64, 81]\n",
      "[0, 1, 4, 9, 16, 25, 36, 49, 64, 81]\n",
      "[0, 1, 4, 9, 16, 25, 36, 49, 64, 81]\n",
      "[(1, 3), (1, 4), (2, 3), (2, 1), (2, 4), (3, 1), (3, 4)]\n",
      "['3.1', '3.14', '3.142', '3.1416', '3.14159']\n",
      "[[1, 2, 3, 4], [5, 6, 7, 8], [9, 10, 11, 12]]\n",
      "[[1, 5, 9], [2, 6, 10], [3, 7, 11], [4, 8, 12]]\n",
      "func_ret_lista  [0, 1, 4, 9, 16, 25, 36, 49, 64, 81]\n"
     ]
    }
   ],
   "source": [
    "squares = []\n",
    "for x in range(10):\n",
    "     squares.append(x**2)\n",
    "print(squares)\n",
    "\n",
    "squares = list(map(lambda x: x**2, range(10)))\n",
    "print(squares)\n",
    "\n",
    "squares = [x**2 for x in range(10)]\n",
    "print(squares)\n",
    "\n",
    "pairs = [(x, y) for x in [1,2,3] for y in [3,1,4] if x != y]\n",
    "\n",
    "print (pairs)\n",
    "\n",
    "from math import pi\n",
    "strings_pi = [str(round(pi, i)) for i in range(1, 6)]\n",
    "print(strings_pi)\n",
    "\n",
    "matrix = [\n",
    "     [1, 2, 3, 4],\n",
    "     [5, 6, 7, 8],\n",
    "     [9, 10, 11, 12],]\n",
    "\n",
    "print(matrix)\n",
    "\n",
    "# Explicar esto \n",
    "matrix_t = [[row[i] for row in matrix] for i in range(4)]\n",
    "print(matrix_t)\n",
    "\n",
    "#función que retorna una lista\n",
    "def func_ret_lista():\n",
    "    return ([x**2 for x in range(10)])\n",
    "\n",
    "print (\"func_ret_lista \", func_ret_lista())"
   ]
  },
  {
   "cell_type": "markdown",
   "metadata": {},
   "source": [
    "## Más sobre listas"
   ]
  },
  {
   "cell_type": "code",
   "execution_count": 9,
   "metadata": {
    "collapsed": false
   },
   "outputs": [
    {
     "name": "stdout",
     "output_type": "stream",
     "text": [
      "[1, 2, 3, 4, 'q']\n",
      "[2]\n",
      "[2, 3, 4, 'q']\n",
      "[1, 2, 3, 4]\n",
      "[1, 2, 3]\n",
      "[4, 'q']\n",
      "[4, 'q']\n",
      "[1, 3, 4, 'q']\n",
      "[1, 56, 3, 4, 'q']\n",
      "[1, 56, 3, 4, 'q', 45, 78]\n",
      "[1, 56, 3, 4, 'q', 78]\n",
      "lista luego del clear []\n",
      "índice 1\n",
      "cantidad de véces que un elemento aparece 2 [1, 56, 3, 4, 56, 'q', 78]\n",
      "[1, 3, 4, 56, 56, 78]\n",
      "[78, 56, 56, 4, 3, 1]\n",
      "Borrado luego de del [78, 56, 56, 3, 1]\n",
      "las 2 listas --- [78, 56, 56, 3, 1] [78, 56, 3, 1]\n",
      "78 78\n",
      "56 56\n",
      "56 3\n",
      "3 1\n"
     ]
    },
    {
     "ename": "IndexError",
     "evalue": "list index out of range",
     "output_type": "error",
     "traceback": [
      "\u001b[1;31m---------------------------------------------------------------------------\u001b[0m",
      "\u001b[1;31mIndexError\u001b[0m                                Traceback (most recent call last)",
      "\u001b[1;32m<ipython-input-9-87fdaf891537>\u001b[0m in \u001b[0;36m<module>\u001b[1;34m()\u001b[0m\n\u001b[0;32m     55\u001b[0m     \u001b[0mprint\u001b[0m \u001b[1;33m(\u001b[0m\u001b[0mn\u001b[0m\u001b[1;33m,\u001b[0m\u001b[0mf\u001b[0m\u001b[1;33m)\u001b[0m\u001b[1;33m\u001b[0m\u001b[0m\n\u001b[0;32m     56\u001b[0m \u001b[1;33m\u001b[0m\u001b[0m\n\u001b[1;32m---> 57\u001b[1;33m \u001b[0mprint\u001b[0m \u001b[1;33m(\u001b[0m\u001b[0mlista\u001b[0m\u001b[1;33m[\u001b[0m\u001b[1;33m-\u001b[0m\u001b[1;36m1\u001b[0m\u001b[1;33m]\u001b[0m\u001b[1;33m)\u001b[0m \u001b[1;31m# pero esto produce error\u001b[0m\u001b[1;33m\u001b[0m\u001b[0m\n\u001b[0m",
      "\u001b[1;31mIndexError\u001b[0m: list index out of range"
     ]
    }
   ],
   "source": [
    "lista = [21,21,21] # corchetes\n",
    "lista1 = [1,2,3,4]\n",
    "lista1.append (\"q\")\n",
    "\n",
    "print (lista1)\n",
    "print (lista1[1:2])\n",
    "print (lista1[1:])\n",
    "print (lista1[:4])\n",
    "print (lista1[:-2])\n",
    "print (lista1[-2:]) # equivalentes ¿Cómo es esto?\n",
    "print (lista1[3:])\n",
    "\n",
    "# como borrar un elemento de la lista\n",
    "lista1.pop(1)\n",
    "print (lista1)\n",
    "# inserción de elementos en la lista\n",
    "lista1.insert(1, 56)\n",
    "print (lista1)\n",
    "# extender la lista con otra lista\n",
    "lista1.extend([45,78])\n",
    "print (lista1)\n",
    "# remover un elemento\n",
    "lista1.remove(45)\n",
    "print (lista1)\n",
    "lista.clear()\n",
    "print (\"lista luego del clear\", lista)\n",
    "# devuelve el índice de la primer ocurrencia del elemento\n",
    "index = lista1.index(56)\n",
    "print (\"índice\", index)\n",
    "# devuelve el número de véces que un elemento aparece en la lista\n",
    "lista1.insert(4, 56)\n",
    "count = lista1.count (56)\n",
    "print(\"cantidad de véces que un elemento aparece\", count, lista1)\n",
    "#ordenar la lista, los elementos tienen que ser del mismo tipo\n",
    "lista1.pop(5)\n",
    "lista1.sort()\n",
    "print (lista1)\n",
    "lista1.reverse()\n",
    "print (lista1)\n",
    "# borrar con del\n",
    "del lista1[3]\n",
    "print (\"Borrado luego de del\", lista1)\n",
    "\n",
    "# borrado sin consecuencias en la lista original\n",
    "lista2 = list(lista1)\n",
    "\n",
    "del lista2[1]\n",
    "\n",
    "print(\"las 2 listas ---\", lista1, lista2)\n",
    "\n",
    "# Iterar en paralelo 2 listas\n",
    "# la iteración termina en la lista \n",
    "# que tiene menos elementos\n",
    "for n,f in zip(lista1, lista2):\n",
    "    print (n,f)\n",
    "\n",
    "print (lista[-1]) # pero esto produce error"
   ]
  },
  {
   "cell_type": "markdown",
   "metadata": {},
   "source": [
    "### Listas en 2D: Tablas "
   ]
  },
  {
   "cell_type": "code",
   "execution_count": 10,
   "metadata": {
    "collapsed": false
   },
   "outputs": [
    {
     "name": "stdout",
     "output_type": "stream",
     "text": [
      "[[1, 3, 2], ['q', 'w', 'e']]\n",
      "[1, 3, 2]\n",
      "['q', 'w', 'e']\n",
      "1\n",
      "1\n",
      "3\n",
      "2\n",
      "q\n",
      "w\n",
      "e\n",
      "0   0   1\n",
      "0   1   3\n",
      "0   2   2\n",
      "1   0   q\n",
      "1   1   w\n",
      "1   2   e\n",
      "[['q', 'w', 'e']]\n",
      "[1, 2, 3, 4, 5]\n",
      "[1, 2, ['q', 'w', 'e']]\n",
      "[['q', 'w', 'e'], [1, 3, 2]]\n",
      "[1, 2, ['q', 'w', 'e'], [1, 3, 2]]\n",
      "[1, 2, ['q', 'w', 'e'], [1, 3, 2], 1, 2, ['q', 'w', 'e'], [1, 3, 2]]\n"
     ]
    }
   ],
   "source": [
    "tabla = []\n",
    "fila1 = [1, 3, 2]\n",
    "fila2 = ['q', 'w', 'e']\n",
    "tabla.append(fila1)\n",
    "tabla.append(fila2)\n",
    "\n",
    "print(tabla)\n",
    "print(tabla[0]) # primera fila, recordar que se empieza en cero\n",
    "print(tabla[1]) # segunda fila\n",
    "print(tabla[0][0])\n",
    "\n",
    "\n",
    "# accediendo a todos\n",
    "for fila in tabla:\n",
    "    for e in fila:\n",
    "        print (e)\n",
    "\n",
    "# accediendo a todos y a los índices\n",
    "for i, fila in enumerate (tabla):\n",
    "    for j, e in enumerate(fila):\n",
    "        print (i, \" \", j, \" \", e)\n",
    "        \n",
    "del(tabla[0]) ## borrando filas de la tabla\n",
    "print (tabla)\n",
    "\n",
    "\n",
    "# concatenar listas\n",
    "l1 = [1, 2]\n",
    "l2 = [3, 4,5]\n",
    "\n",
    "l3 = l1 + l2\n",
    "print (l3)\n",
    "l3 = l1 + tabla\n",
    "print (l3)\n",
    "\n",
    "\n",
    "fila1 = [1, 3, 2]\n",
    "tabla.append(fila1)\n",
    "print(tabla)\n",
    "l3 = l1 + tabla\n",
    "print (l3)\n",
    "#operador de repetición\n",
    "l3 = l3 * 2\n",
    "print (l3)"
   ]
  },
  {
   "cell_type": "markdown",
   "metadata": {},
   "source": [
    "# Ejemplo "
   ]
  },
  {
   "cell_type": "markdown",
   "metadata": {},
   "source": [
    "## Ejemplo con lista\n",
    "\n",
    "### Referencias\n",
    "\n",
    "* Dive Into Python 3 [link](http://www.diveintopython3.net/)\n",
    "* Python Module of the Week [PyMOTW](http://pymotw.com/2/)"
   ]
  },
  {
   "cell_type": "code",
   "execution_count": null,
   "metadata": {
    "collapsed": false
   },
   "outputs": [],
   "source": [
    "import os\n",
    "\n",
    "path = \"./\"\n",
    "lista_nombres_directorio = os.listdir(path)\n",
    "\n",
    "for e in lista_nombres_directorio:\n",
    "    #print (e, os.path.isfile(e), os.path.splitext(e)[1] == '.ipynb')\n",
    "    if os.path.splitext(e)[1] == '.ipynb':\n",
    "        print (e, \"es un notebook de ipython\")\n",
    "    elif os.path.splitext(e)[1] == '.png':\n",
    "        print (e, \"es una imagen .png\")\n",
    "    \n",
    "print(\"\\n is dir \\n\")    \n",
    "    \n",
    "for e in lista_nombres_directorio:\n",
    "    if os.path.isdir(e):\n",
    "        print (e, \": es directorio\")\n",
    "        \n",
    "print(os.path.exists(path + 'pepe.py'))"
   ]
  },
  {
   "cell_type": "markdown",
   "metadata": {},
   "source": [
    "### Tuplas"
   ]
  },
  {
   "cell_type": "markdown",
   "metadata": {},
   "source": [
    "Es otra estructura de datos, similar a las listas, pero encerrados entre paréntesis (). Las listas no pueden ser alteradas, es por eso que se las considera listas de solo lectura."
   ]
  },
  {
   "cell_type": "code",
   "execution_count": null,
   "metadata": {
    "collapsed": false
   },
   "outputs": [],
   "source": [
    "#!/usr/bin/python\n",
    "\n",
    "tuple = ( 'abcd', 786 , 2.23, 'john', 70.2  )\n",
    "tinytuple = (123, 'john')\n",
    "\n",
    "print (\"la lista completa \", tuple)            \n",
    "print (\"el primer elemento de la lista\", tuple[0])  \n",
    "print (\"desde el 2do elemento al tercero\", tuple[1:3]) \n",
    "print (\"imprime desde el terce elemento\", tuple[2:]) \n",
    "print (\"la lista 2 veces\", tinytuple * 2)   # Prints list two times\n",
    "print (\"imprime listas concatenadas\", tuple + tinytuple) # Prints concatenated lists\n",
    "\n",
    "#concatenación de listas\n",
    "tuple = tuple + tuple\n",
    "\n",
    "print (\"lista concatenada \", tuple)\n",
    "\n",
    "# esto da error\n",
    "tuple [0] = \"dd\""
   ]
  },
  {
   "cell_type": "markdown",
   "metadata": {},
   "source": [
    "### Otro ejemplo Tuplas"
   ]
  },
  {
   "cell_type": "code",
   "execution_count": null,
   "metadata": {
    "collapsed": true
   },
   "outputs": [],
   "source": [
    "# definición e inicialización de b\n",
    "b= (1, 2, 3)\n",
    "\n",
    "# no hay error\n",
    "print (b[0])\n",
    "\n",
    "# Se pueden agregar valores\n",
    "# error\n",
    "b[3] = 4\n",
    "\n",
    "print(b)\n",
    "\n",
    "b = b + (4, ) # va la coma para que sea una tupla\n",
    "print (b)\n",
    "c = 2*b\n",
    "print (c)\n",
    "print (c + b)\n",
    "\n",
    "#error no se puede cambiar el valor\n",
    "b[0] = 3"
   ]
  },
  {
   "cell_type": "markdown",
   "metadata": {},
   "source": [
    "### Diccionarios"
   ]
  },
  {
   "cell_type": "markdown",
   "metadata": {},
   "source": [
    "Es una estructura de datos que permite a una clave asignarle un valor. Más información [acá](https://docs.python.org/2/tutorial/datastructures.html#dictionaries) y [acá](http://www.tutorialspoint.com/python/python_dictionary.htm)"
   ]
  },
  {
   "cell_type": "code",
   "execution_count": null,
   "metadata": {
    "collapsed": false
   },
   "outputs": [],
   "source": [
    "dict = {}\n",
    "dict [\"direccion\"] = \"Av. Gral. Paz 1999\"\n",
    "dict [\"nombre\"] = \"Abel\"\n",
    "\n",
    "print (\"el diccionario \", dict)\n",
    "print (\"el valor asociado a la clave\", dict[\"direccion\"])\n",
    "\n",
    "\n",
    "# agregar un par clave-valor.\n",
    "dict [\"edad\"] = 20\n",
    "\n",
    "print (\"el diccionario \", dict)\n",
    "\n",
    "#modificar una clave\n",
    "dict [\"edad\"] = 25\n",
    "print (\"el diccionario \", dict)\n",
    "\n",
    "# borrar una clave\n",
    "del dict [\"edad\"]\n",
    "print (\"el diccionario \", dict)\n",
    "\n",
    "# agregar un dictionario\n",
    "dict [\"restaurant\"] = [{\"nombre\": \"1888\", \"preferencia\": \"pizza\"}, \n",
    "                       {\"nombre\":\"la esquina\", \"preferencia\":\"bife\"}]\n",
    "print (\"el diccionario \", dict)"
   ]
  },
  {
   "cell_type": "code",
   "execution_count": 2,
   "metadata": {
    "collapsed": false
   },
   "outputs": [
    {
     "name": "stdout",
     "output_type": "stream",
     "text": [
      "{'nombre_var': 'vlx_01', 'val': 10}\n",
      "{'nombre_var': 'vlx_02', 'val': 11}\n",
      "{'v1': {'nombre_var': 'vlx_02', 'val': 11}, 'v2': {'nombre_var': 'vlx_02', 'val': 11}}\n",
      "vlx_02   11.000000\n",
      "v1\n",
      "v2\n",
      "v1 {'nombre_var': 'vlx_02', 'val': 11}\n",
      "v2 {'nombre_var': 'vlx_02', 'val': 11}\n",
      "v1   vlx_02   11.000000\n",
      "v2   vlx_02   11.000000\n",
      "{'v2': {'nombre_var': 'vlx_02', 'val': 11}}\n",
      "{'v1': {'nombre_var': 'vlx_02', 'val': 11}, 'v2': {'nombre_var': 'vlx_02', 'val': 11}}\n",
      "{'v2': {'nombre_var': 'vlx_02', 'val': 11}}\n",
      "{'v1': {'nombre_var': 'vlx_02', 'val': 11}, 'v2': {'nombre_var': 'vlx_02', 'val': 11}}\n",
      "v1 {'nombre_var': 'vlx_02', 'val': 11}\n",
      "v2 {'nombre_var': 'vlx_02', 'val': 11}\n",
      "3.455764202904014\n"
     ]
    }
   ],
   "source": [
    "a = {} # declaración  de un diccionario\n",
    "a[\"nombre_var\"] = \"vlx_01\"\n",
    "a[\"val\"] = 10\n",
    "print (a)\n",
    "b = a \n",
    "b[\"nombre_var\"] = \"vlx_02\"\n",
    "b[\"val\"] = 11\n",
    "print (b)\n",
    "c ={\"v1\":a, \"v2\":b}\n",
    "print (c)\n",
    "# formateo de print \n",
    "print (\"%s   %f\" % (c[\"v1\"][\"nombre_var\"], c[\"v1\"][\"val\"]))\n",
    "\n",
    "# accediendo a distintos niveles de información\n",
    "# vemos las claves\n",
    "for k in c:\n",
    "    print (k)\n",
    "\n",
    "# vemos la clave y su diccionario asociado    \n",
    "for k in c:\n",
    "    print (k, c[k])\n",
    "\n",
    "# formateamos la salida para imprimir    \n",
    "for k in c:\n",
    "    print (\"%s   %s   %f\" %(k, c[k][\"nombre_var\"], c[k][\"val\"]))\n",
    " \n",
    "#borrado de un elemento de la lista    \n",
    "del c[\"v1\"]\n",
    "\n",
    "print (c)    \n",
    "\n",
    "\n",
    "# restituímos c\n",
    "c[\"v1\"] = a\n",
    "\n",
    "print (c)\n",
    "\n",
    "# borrado sin consecuencias en el diccionario original\n",
    "d =  dict(c)\n",
    "\n",
    "del d[\"v1\"]\n",
    "\n",
    "print (d)\n",
    "print (c)\n",
    "\n",
    "# iterando sobre la clave y el valor\n",
    "for k, v in c.items():\n",
    "     print(k, v)\n",
    "        \n",
    "#\n",
    "# Función que retorna un diccionario\n",
    "#\n",
    "import random\n",
    "def func_rect_dict():\n",
    "    dct = {}\n",
    "    \n",
    "    for i in range(6):\n",
    "        dct['v' + str(i)] = i*2 +random.gauss(0,.2)\n",
    "    \n",
    "    return dct\n",
    "\n",
    "v1 = func_rect_dict()\n",
    "print (v1['v2'])\n",
    "\n",
    "    "
   ]
  },
  {
   "cell_type": "markdown",
   "metadata": {},
   "source": [
    "# --------------------------------------------------------------------------- ---------------------------------------------------------------------------"
   ]
  },
  {
   "cell_type": "markdown",
   "metadata": {},
   "source": [
    "# Estructura I: módulos\n",
    "\n",
    "Creamos un archivo en disco: mimodulo.py que tiene una función como la que sigue"
   ]
  },
  {
   "cell_type": "code",
   "execution_count": null,
   "metadata": {
    "collapsed": false
   },
   "outputs": [],
   "source": [
    "# mimodulo.py\n",
    "def func01 (a,b,c):\n",
    "    return a + b + c"
   ]
  },
  {
   "cell_type": "code",
   "execution_count": null,
   "metadata": {
    "collapsed": false
   },
   "outputs": [],
   "source": [
    "# Así es como lo usamos en \n",
    "# un programa\n",
    "import mimodulo as mm\n",
    "\n",
    "mm.func01(2,3,3)"
   ]
  },
  {
   "cell_type": "markdown",
   "metadata": {},
   "source": [
    "### NO es recomendable usar\n",
    "\n",
    "Que también funciona, pero puede llevar a colisión\n",
    "de nombres cuando usamos paquetes de distinto origen.\n",
    "No solo con los paquetes propios, también con los ajenos."
   ]
  },
  {
   "cell_type": "code",
   "execution_count": null,
   "metadata": {
    "collapsed": false
   },
   "outputs": [],
   "source": [
    "from  mimodulo import *\n",
    "\n",
    "func01(2,3,3)"
   ]
  },
  {
   "cell_type": "markdown",
   "metadata": {},
   "source": [
    "## Script  "
   ]
  },
  {
   "cell_type": "code",
   "execution_count": null,
   "metadata": {
    "collapsed": false
   },
   "outputs": [],
   "source": [
    "# -*- coding: utf-8 -*-\n",
    "#!/usr/bin/python\n",
    "\n",
    "# Esto es un comentario\n",
    "\n",
    "# Esto es una función\n",
    "def test(x, s):\n",
    "    #Esto es una indentación\n",
    "    print (\"Esto es una función: \", x, s)\n",
    "\n",
    "# __name__ es una variable especial que contiene el \n",
    "# nombre del módulo\n",
    "if __name__ == \"__main__\":\n",
    "    test(1,2)\n",
    "    test (\"string\",2)"
   ]
  },
  {
   "cell_type": "markdown",
   "metadata": {},
   "source": [
    "## Script  "
   ]
  },
  {
   "cell_type": "code",
   "execution_count": null,
   "metadata": {
    "collapsed": false
   },
   "outputs": [],
   "source": [
    "# -*- coding: utf-8 -*-\n",
    "\n",
    "# Lo anterior nos permite escribir comentarios\n",
    "# con carácteres acentuados o ñ.\n",
    "\n",
    "#!/usr/bin/python\n",
    "\n",
    "\"\"\"\n",
    "Esto es un comentario muy largo\n",
    "donde describimos el objetivo del módulo\n",
    "\n",
    "\"\"\"\n",
    "\n",
    "import sys\n",
    "\n",
    "def main():\n",
    "    try:    \n",
    "        if len(sys.argv) >= 2:\n",
    "            name = sys.argv[1]\n",
    "        else:\n",
    "            name = 'World'\n",
    "        print ('Hello', name)\n",
    "        \n",
    "        print ('Type something to display its type and value.')\n",
    "        userInput = raw_input()\n",
    "        print ('User input - type: %s, value: %s' % (type(userInput), userInput))\n",
    "    except Exception as ex:\n",
    "        print (ex.message)\n",
    "        return 1 # indicates error, but not necessary\n",
    "    else:\n",
    "        return 0 # return 0 # indicates errorlessly exit, but not necessary    \n",
    "    \n",
    "# this is the standard boilerplate that calls the main() function\n",
    "if __name__ == '__main__':\n",
    "    # sys.exit(main(sys.argv)) # used to give a better look to exists\n",
    "    main()"
   ]
  },
  {
   "cell_type": "markdown",
   "metadata": {},
   "source": [
    "# --------------------------------------------------------------------------- ---------------------------------------------------------------------------"
   ]
  },
  {
   "cell_type": "markdown",
   "metadata": {},
   "source": [
    "# Extras \n",
    "## Pithonismo ??!!\n",
    "\n",
    "Se refiere a una forma pithónica de hacer las cosas ???????!!!!"
   ]
  },
  {
   "cell_type": "code",
   "execution_count": null,
   "metadata": {
    "collapsed": false
   },
   "outputs": [],
   "source": [
    "# de http://nbviewer.ipython.org/github/mgaitan/curso-python-cientifico/blob/scipycon/Clase%201.ipynb\n",
    "cuadrados = []\n",
    "for i in range(10,15,1):\n",
    "    cuadrados.append(i**2)\n",
    "print (cuadrados)\n",
    "\n",
    "suma = 0\n",
    "for i in range (0,len(cuadrados)):\n",
    "    suma = suma + cuadrados[i]\n",
    "    \n",
    "print (suma)"
   ]
  },
  {
   "cell_type": "code",
   "execution_count": 12,
   "metadata": {
    "collapsed": false
   },
   "outputs": [
    {
     "name": "stdout",
     "output_type": "stream",
     "text": [
      "[100, 121, 144, 169, 196]\n",
      "730\n",
      "730\n",
      "[('red', 'house'), ('red', 'car'), ('red', 'tree'), ('green', 'house'), ('green', 'car'), ('green', 'tree'), ('yellow', 'house'), ('yellow', 'car'), ('yellow', 'tree'), ('blue', 'house'), ('blue', 'car'), ('blue', 'tree')]\n"
     ]
    }
   ],
   "source": [
    "### listas por comprehensión:\n",
    "\n",
    "Es la forma de python para implementar la notación de conjuntos. Y se sustituye filter, reduce, map. \n",
    "\n",
    "${ \\{ x^2 | \\forall x \\in (10 <= x < 15), x \\in N \\} }$\n",
    "\n",
    "\n",
    "\n",
    "cuadrados = [i**2 for i in range(10,15,1)]\n",
    "print(cuadrados)\n",
    "print(sum(cuadrados))\n",
    "print(sum([i**2 for i in range(10,15,1)]))\n",
    "\n",
    "colours = [ \"red\", \"green\", \"yellow\", \"blue\" ]\n",
    "things = [ \"house\", \"car\", \"tree\" ]\n",
    "coloured_things = [ (x,y) for x in colours for y in things ]\n",
    "print (coloured_things)\n",
    " "
   ]
  },
  {
   "cell_type": "code",
   "execution_count": 4,
   "metadata": {
    "collapsed": false
   },
   "outputs": [
    {
     "data": {
      "text/plain": [
       "730"
      ]
     },
     "execution_count": 4,
     "metadata": {},
     "output_type": "execute_result"
    }
   ],
   "source": []
  },
  {
   "cell_type": "code",
   "execution_count": 5,
   "metadata": {
    "collapsed": false
   },
   "outputs": [
    {
     "name": "stdout",
     "output_type": "stream",
     "text": [
      "[('red', 'house'), ('red', 'car'), ('red', 'tree'), ('green', 'house'), ('green', 'car'), ('green', 'tree'), ('yellow', 'house'), ('yellow', 'car'), ('yellow', 'tree'), ('blue', 'house'), ('blue', 'car'), ('blue', 'tree')]\n"
     ]
    }
   ],
   "source": []
  },
  {
   "cell_type": "markdown",
   "metadata": {},
   "source": [
    "### Ejercicio\n",
    "\n",
    "Llegados a este punto, podemos intentar dar una explicación de que y como hace las \n",
    "cosas este pedazo de código."
   ]
  },
  {
   "cell_type": "code",
   "execution_count": 6,
   "metadata": {
    "collapsed": false
   },
   "outputs": [
    {
     "name": "stdout",
     "output_type": "stream",
     "text": [
      "pwd=secret;server=mpilgrim;database=master;uid=sa\n"
     ]
    }
   ],
   "source": [
    "def buildConnectionString(params):\n",
    "    \"\"\"Build a connection string from a dictionary of parameters.\n",
    "    Returns string.\"\"\"\n",
    "    return \";\".join([\"%s=%s\" % (k, v) for k, v in params.items()])\n",
    "\n",
    "\n",
    "if __name__ == \"__main__\":\n",
    "    myParams = {\"server\":\"mpilgrim\", \\\n",
    "                \"database\":\"master\", \\\n",
    "                \"uid\":\"sa\", \\\n",
    "                \"pwd\":\"secret\" \\\n",
    "                }\n",
    "    print (buildConnectionString(myParams))"
   ]
  },
  {
   "cell_type": "markdown",
   "metadata": {},
   "source": [
    "## Generador: yield\n",
    "\n",
    "Con ellos tenemos la posibilidad de crear iteradores, se parecen a las funciones pero son sintáctica y semánticamente diferentes. Y se pueden considerar como funciones con ejecución diferida. Más información [acá](http://www.python-course.eu/generators.php)\n"
   ]
  },
  {
   "cell_type": "code",
   "execution_count": 7,
   "metadata": {
    "collapsed": false
   },
   "outputs": [],
   "source": [
    "def count (n):\n",
    "  print (\"starting count\")\n",
    "  i = 0\n",
    "  while i < n:\n",
    "    yield {\"a\":i}\n",
    "    i += 1\n",
    "  return\n",
    "\n",
    "def countdown(n):\n",
    "  print (\"starting countdown\")  \n",
    "  while n > 0:\n",
    "   yield n\n",
    "   n -= 1"
   ]
  },
  {
   "cell_type": "code",
   "execution_count": 8,
   "metadata": {
    "collapsed": false
   },
   "outputs": [
    {
     "name": "stdout",
     "output_type": "stream",
     "text": [
      "<generator object count at 0xb2acae64>\n"
     ]
    }
   ],
   "source": [
    "# creación de un generador\n",
    "# se llama como una función y retorna un iterador\n",
    "# el código no se ejecuta en esta etapa\n",
    "c = count(5)\n",
    "# imprime un generador \n",
    "print (c)"
   ]
  },
  {
   "cell_type": "code",
   "execution_count": 9,
   "metadata": {
    "collapsed": false
   },
   "outputs": [
    {
     "name": "stdout",
     "output_type": "stream",
     "text": [
      "starting count\n",
      "{'a': 0}\n",
      "{'a': 1}\n",
      "{'a': 2}\n",
      "{'a': 3}\n",
      "{'a': 4}\n"
     ]
    }
   ],
   "source": [
    "# el iterador puede ser usado con la función next()\n",
    "# la primera vez la ejecución comienza como en una función \n",
    "# y el código se ejecuta hasta el 1er yield\n",
    "#\n",
    "# yield retorna el valor de la expresión, se recuerda la posición y el estado.\n",
    "# en la próxima llamada la ejecución sigue hasta que se encuentra un nuevo yield\n",
    "#\n",
    "# se finaliza el iterador luego de ejecutar todos los yields o encontrar un return \n",
    "for i in c:\n",
    "    print (i)"
   ]
  },
  {
   "cell_type": "code",
   "execution_count": 10,
   "metadata": {
    "collapsed": false
   },
   "outputs": [
    {
     "ename": "StopIteration",
     "evalue": "",
     "output_type": "error",
     "traceback": [
      "\u001b[1;31m---------------------------------------------------------------------------\u001b[0m",
      "\u001b[1;31mStopIteration\u001b[0m                             Traceback (most recent call last)",
      "\u001b[1;32m<ipython-input-10-db20a0534505>\u001b[0m in \u001b[0;36m<module>\u001b[1;34m()\u001b[0m\n\u001b[0;32m      1\u001b[0m \u001b[1;31m# error: el generador llegó a su último elemento\u001b[0m\u001b[1;33m\u001b[0m\u001b[1;33m\u001b[0m\u001b[0m\n\u001b[1;32m----> 2\u001b[1;33m \u001b[0mnext\u001b[0m\u001b[1;33m(\u001b[0m\u001b[0mc\u001b[0m\u001b[1;33m)\u001b[0m\u001b[1;33m\u001b[0m\u001b[0m\n\u001b[0m",
      "\u001b[1;31mStopIteration\u001b[0m: "
     ]
    }
   ],
   "source": [
    "# error: el generador llegó a su último elemento\n",
    "next(c)"
   ]
  },
  {
   "cell_type": "code",
   "execution_count": null,
   "metadata": {
    "collapsed": false
   },
   "outputs": [],
   "source": [
    "d = countdown(5)\n",
    "print (d)\n",
    "for k in d:\n",
    "    print (k)"
   ]
  },
  {
   "cell_type": "markdown",
   "metadata": {},
   "source": [
    "## Operador lambda"
   ]
  },
  {
   "cell_type": "code",
   "execution_count": null,
   "metadata": {
    "collapsed": false
   },
   "outputs": [],
   "source": [
    "# defino una  función lambda\n",
    "misuma = lambda arg1, arg2: arg1 + arg2\n",
    "# son equivalentes\n",
    "def suma (arg1, arg2):\n",
    "    return (arg1+ arg2)\n",
    "\n",
    "# llamo a la función\n",
    "print (\"El valor de la suma\", misuma(20,10))\n",
    "print (\"El valor de la suma\", suma(20,10))"
   ]
  },
  {
   "cell_type": "markdown",
   "metadata": {},
   "source": [
    "## Función map, r = map(func, seq)"
   ]
  },
  {
   "cell_type": "code",
   "execution_count": null,
   "metadata": {
    "collapsed": false
   },
   "outputs": [],
   "source": [
    "def fahrenheit(T):\n",
    "    return ((float(9)/5)*T + 32)\n",
    "\n",
    "def celsius(T):\n",
    "    return (float(5)/9)*(T-32)\n",
    "\n",
    "temp = (36.5, 37, 37.5,39)\n",
    "\n",
    "# entra una lista, sale una lista\n",
    "F = map(fahrenheit, temp)\n",
    "C = map(celsius, F)\n",
    "\n",
    "print (list(F))\n",
    "print (list(C))"
   ]
  },
  {
   "cell_type": "markdown",
   "metadata": {},
   "source": [
    "### Con el operador lambda"
   ]
  },
  {
   "cell_type": "code",
   "execution_count": null,
   "metadata": {
    "collapsed": false
   },
   "outputs": [],
   "source": [
    "Celsius = [39.2, 36.5, 37.3, 37.8]\n",
    "Fahrenheit = map(lambda x: (float(9)/5)*x + 32, Celsius)\n",
    "print (list(Fahrenheit))\n",
    "\n",
    "C = map(lambda x: (float(5)/9)*(x-32), Fahrenheit)\n",
    "print (list(C))"
   ]
  },
  {
   "cell_type": "code",
   "execution_count": null,
   "metadata": {
    "collapsed": false
   },
   "outputs": [],
   "source": [
    "a = [1,2,3,4]\n",
    "b = [17,12,11,10]\n",
    "c = [-1,-4,5,9]\n",
    "d=map(lambda x,y:x+y, a,b)\n",
    "print (list(d))\n",
    "\n",
    "print (list(map(lambda x,y,z:x+y-z, a,b,c)))\n",
    "\n"
   ]
  },
  {
   "cell_type": "markdown",
   "metadata": {},
   "source": [
    "### Función filter ()\n",
    "\n",
    "Filtra a todos los elementos para los que la función lambda retorna True"
   ]
  },
  {
   "cell_type": "code",
   "execution_count": null,
   "metadata": {
    "collapsed": false
   },
   "outputs": [],
   "source": [
    "fib = [0,1,1,2,3,5,8,13,21,34,55]\n",
    "result = filter(lambda x: x % 2, fib)\n",
    "print (list(result))\n",
    "result = filter(lambda x: x % 2 == 0, fib)\n",
    "print (list(result))\n",
    " "
   ]
  },
  {
   "cell_type": "markdown",
   "metadata": {},
   "source": [
    "### Función reduce ()"
   ]
  },
  {
   "cell_type": "code",
   "execution_count": null,
   "metadata": {
    "collapsed": false
   },
   "outputs": [],
   "source": [
    "Image(filename='reduce_diagram.png')"
   ]
  },
  {
   "cell_type": "code",
   "execution_count": null,
   "metadata": {
    "collapsed": false
   },
   "outputs": [],
   "source": [
    "import functools as ft\n",
    "\n",
    "ft.reduce(lambda x,y: x+y, [47,11,42,13])"
   ]
  }
 ],
 "metadata": {
  "kernelspec": {
   "display_name": "Python 3",
   "language": "python",
   "name": "python3"
  },
  "language_info": {
   "codemirror_mode": {
    "name": "ipython",
    "version": 3
   },
   "file_extension": ".py",
   "mimetype": "text/x-python",
   "name": "python",
   "nbconvert_exporter": "python",
   "pygments_lexer": "ipython3",
   "version": "3.4.3"
  }
 },
 "nbformat": 4,
 "nbformat_minor": 0
}
